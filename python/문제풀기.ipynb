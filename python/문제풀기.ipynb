{
 "cells": [
  {
   "cell_type": "markdown",
   "metadata": {},
   "source": [
    "# << Q1. >>\n",
    "- 다양한 기능을 수행하는 프로그램을 구현하시오.\n",
    "- 계산기, 사이합, 최댓값, 정수합을 수행하는 프로그램을 구현하시오.\n",
    "- 단, 사용할 기능을 사용자가 선택하여 수행할 수 있도록 구현하시오.\n",
    "- 프로그램은 언제든지 종료될 수 있도록 구현하시오.\n",
    "- 각 기능은 별도의 함수로 구현하시오.\n",
    "- [입출력형식]\n",
    "- [1.정수합 2.사이합 3.최댓값 4.계산기 5.종료] =\n",
    "- 정수합은 하나의 정수를 입력받아 1부터 해당 정수까지의 합\n",
    "- 사이합은 두 개의 정수를 입력받아 두 수 사이의 자연수의 합\n",
    "- 최댓값은 세 개의 정수를 입력받아 큰 수를 추출\n",
    "- 계산기는 두 개의 정수와 하나의 연산자를 입력받아 계산결과를 추출\n",
    "\n",
    "- 1. 예외처리 사용하기\n",
    "- 2. 나누기 결괏값은 소수점 5자리까지 출력"
   ]
  },
  {
   "cell_type": "code",
   "execution_count": 22,
   "metadata": {},
   "outputs": [],
   "source": [
    "def intsum():\n",
    "    num1 = input(\"숫자입력 : \")\n",
    "    \n",
    "#    if not isinstance(num1, int) or num1 < 0:\n",
    "#        print(\"1이상의 정수 입력\")\n",
    "#        intsum()\n",
    "#    else: \n",
    "#        print(\"1부터 {}까지의 합은 {}입니다.\".format(num1, sum(range(1,num1+1))))\n",
    "    \n",
    "    print(\"1부터 {}까지의 합은 {}입니다.\".format(num1, sum(range(1,num1+1))))\n",
    "    \n",
    "def btwsum():\n",
    "    num1 = int(input(\"1번숫자 입력 : \"))\n",
    "    num2 = int(input(\"2번숫자 입력 : \"))\n",
    "    print(\"{}부터 {}까지의 합은 {}입니다.\".format(min(num1,num2), max(num1,num2),\n",
    "                                        sum(range(min(num1,num2),max(num1,num2)+1))))\n",
    "    \n",
    "def maxnum():\n",
    "    num1 = int(input(\"1번숫자 입력 : \"))\n",
    "    num2 = int(input(\"2번숫자 입력 : \"))\n",
    "    num3 = int(input(\"3번숫자 입력 : \"))\n",
    "    print(\"{}, {}, {} 중 최댓값은 {}입니다.\".format(num1, num2, num3, max(num1,num2,num3)))\n",
    "    \n",
    "def calc():\n",
    "    num1 = int(input(\"1번숫자 입력 : \"))\n",
    "    oper = input(\"연산 입력 [+,-,*,/]: \")\n",
    "    num2 = int(input(\"2번숫자 입력 : \"))\n",
    "    \n",
    "    result = 0\n",
    "    \n",
    "    # 예외처리 try-except\n",
    "#     if oper==\"/\" and num2==0:\n",
    "#         print(\"0으로 나눌 수 없음\")\n",
    "    try:\n",
    "    \n",
    "        if oper != (\"+\" or \"-\" or \"*\" or \"/\"):\n",
    "            print(\"연산자 (+,-,*,/)만 가능\")\n",
    "        \n",
    "        else:  # 더 이쁘게 만들기.....\n",
    "            if oper == \"+\": result = num1+num2\n",
    "            elif oper == \"-\": result = num1-num2\n",
    "            elif oper == \"*\": result = num1*num2\n",
    "            elif oper == \"/\": result = num1/num2\n",
    "    \n",
    "    except Exception as zerodiv:\n",
    "        print(\"0으로 나눌 수 없음\")\n",
    "        print(\"에러 : \", zerodiv)\n",
    "        calc()\n",
    "        \n",
    "#        num1 oper num2"
   ]
  },
  {
   "cell_type": "code",
   "execution_count": null,
   "metadata": {},
   "outputs": [
    {
     "name": "stdout",
     "output_type": "stream",
     "text": [
      "작업선택 [1.정수합 2.사이합 3.최댓값 4.계산기 5.종료] →  1\n",
      "숫자입력 : 3\n",
      "1이상의 정수 입력\n",
      "숫자입력 : 1\n",
      "1이상의 정수 입력\n",
      "숫자입력 : 2\n",
      "1이상의 정수 입력\n",
      "숫자입력 : 4\n",
      "1이상의 정수 입력\n",
      "숫자입력 : 0\n",
      "1이상의 정수 입력\n",
      "숫자입력 : p\n",
      "1이상의 정수 입력\n",
      "숫자입력 : 0\n",
      "1이상의 정수 입력\n",
      "숫자입력 : 1\n",
      "1이상의 정수 입력\n"
     ]
    }
   ],
   "source": [
    "# [1.정수합 2.사이합 3.최댓값 4.계산기 5.종료] = intsum/btwsum/maxnum/calc\n",
    "\n",
    "while True:\n",
    "    choice = int(input(\"작업선택 [1.정수합 2.사이합 3.최댓값 4.계산기 5.종료] →  \"))\n",
    "\n",
    "    if choice == 1: intsum()\n",
    "    elif choice == 2: btwsum()\n",
    "    elif choice == 3: maxnum()\n",
    "    elif choice == 4: calc()\n",
    "    elif choice == 5: print(\"작업종료\"); break\n",
    "    else: print(\"잘못된 선택\")"
   ]
  },
  {
   "cell_type": "code",
   "execution_count": 21,
   "metadata": {},
   "outputs": [
    {
     "name": "stdout",
     "output_type": "stream",
     "text": [
      "False\n"
     ]
    }
   ],
   "source": [
    "a=\"k\"\n",
    "print(isinstance(a,int))"
   ]
  },
  {
   "cell_type": "markdown",
   "metadata": {},
   "source": [
    "# << Q2. >>\n",
    "- 하나의 정수를 입력받아 1부터 입력받은 정수까지의 자연수들의 합을 계산 후 반환\n",
    "\n",
    "- 1. 함수로 만들기\n",
    "- 2. 재귀함수로 만들기"
   ]
  },
  {
   "cell_type": "code",
   "execution_count": 2,
   "metadata": {},
   "outputs": [
    {
     "name": "stdout",
     "output_type": "stream",
     "text": [
      "숫자입력 : 5\n",
      "1부터 5까지의 합은 15입니다.\n"
     ]
    }
   ],
   "source": [
    "n = int(input(\"숫자입력 : \"))\n",
    "print(\"1부터 {}까지의 합은 {}입니다.\".format(n,sum(range(n+1))))"
   ]
  },
  {
   "cell_type": "code",
   "execution_count": 6,
   "metadata": {},
   "outputs": [
    {
     "name": "stdout",
     "output_type": "stream",
     "text": [
      "15\n",
      "55\n"
     ]
    }
   ],
   "source": [
    "def total(n):\n",
    "    if n==0: return 0\n",
    "    elif n>0: return n+total(n-1)\n",
    "\n",
    "print(total(5))\n",
    "print(total(10))"
   ]
  },
  {
   "cell_type": "markdown",
   "metadata": {},
   "source": [
    "# << Q3. >>\n",
    "- 문자열을 리스트로 만들기\n",
    "- 리스트를 문자열로 만들기\n",
    "- (최대한 짧게 코딩)"
   ]
  },
  {
   "cell_type": "code",
   "execution_count": 108,
   "metadata": {},
   "outputs": [
    {
     "name": "stdout",
     "output_type": "stream",
     "text": [
      "문자입력 : hello\n",
      "['h', 'e', 'l', 'l', 'o']\n",
      "hello\n"
     ]
    }
   ],
   "source": [
    "a = input(\"문자입력 : \")\n",
    "b = []\n",
    "c=\"\"\n",
    "\n",
    "b = list(a)\n",
    "print(b)\n",
    "\n",
    "for i in b: c += i\n",
    "print(c)\n"
   ]
  },
  {
   "cell_type": "code",
   "execution_count": 36,
   "metadata": {},
   "outputs": [
    {
     "name": "stdout",
     "output_type": "stream",
     "text": [
      "문자열 입력 :  234  ,  fef  ,w   ,w 44  , d  \n",
      " 234  ,  fef  ,w   ,w 44  , d  \n",
      "<class 'str'>\n",
      "[]\n",
      "\n"
     ]
    }
   ],
   "source": [
    "d = input(\"문자열 입력 : \")\n",
    "dl = []\n",
    "e = \"\"\n",
    "el = []\n",
    "f = \"\"\n",
    "\n",
    "# strip, split  # del\n",
    "\n",
    "dd = d.strip(\",\")\n",
    "dl.append(dd)\n",
    "\n",
    "print(dd)\n",
    "\n",
    "print(type(dd))\n",
    "\n",
    "#dl.append(dd)\n",
    "#dl = list(d)\n",
    "\n",
    "print(dl)\n",
    "\n",
    "for i in dl:\n",
    "    for j in i:\n",
    "        j.strip\n",
    "    \n",
    "    # e += d.strip()\n",
    "    # el = e.split(\",\")\n",
    "\n",
    "print(e)\n",
    "#print(el)"
   ]
  },
  {
   "cell_type": "markdown",
   "metadata": {},
   "source": [
    "# << Q4. >>\n",
    "- p159. 5번문제"
   ]
  },
  {
   "cell_type": "code",
   "execution_count": 33,
   "metadata": {},
   "outputs": [
    {
     "name": "stdout",
     "output_type": "stream",
     "text": [
      "[[1, 4, 7], [2, 5, 8], [3, 6, 9]]\n"
     ]
    }
   ],
   "source": [
    "#numbers = [1, 2, 3, 4, 5, 6, 7, 8, 9]\n",
    "numbers = list(range(1,10))\n",
    "output = [[], [], []]\n",
    "\n",
    "for number in numbers:\n",
    "    output[number%3-1].append(number)\n",
    "print(output)"
   ]
  },
  {
   "cell_type": "markdown",
   "metadata": {},
   "source": [
    "# << Q5. >>\n",
    "- 단어 카운팅 문제\n",
    "- 'Ring Ding Dong'이라는 단어가 몇 번 나오는지 추출하는 프로그램\n",
    "- 단, 파일을 통해 처리하시오.\n",
    "  \n",
    "  \n",
    "- 다른프로그램 >>  File f ; f= open\n",
    "- f = open(\"filename\", \"mode\")\n",
    "- mode = r(읽기), w(쓰기), a(추가)\n",
    "  \n",
    "  \n",
    "- readlines() 문장전체를 읽어오는 함수\n",
    "- readline() 줄단위로 읽어오는 함수\n",
    "- upper(): 대문자, lower(): 소문자"
   ]
  },
  {
   "cell_type": "code",
   "execution_count": 35,
   "metadata": {},
   "outputs": [
    {
     "name": "stdout",
     "output_type": "stream",
     "text": [
      "RingDingDong 출현횟수 :  24\n",
      "\n",
      "Dong 출현횟수 :  32\n"
     ]
    }
   ],
   "source": [
    "f = open(\"C:/python3/study/ringdingdong.txt\", \"r\", encoding='UTF8')\n",
    "\n",
    "lines = f.readlines()   # 모든 라인을 읽어서 리스트로 저장하라는 함수\n",
    "\n",
    "text = \"\"\n",
    "for line in lines:\n",
    "    text += line.strip()\n",
    "\n",
    "cnt = text.lower().count(\"ring ding dong\")\n",
    "print(\"RingDingDong 출현횟수 : \", cnt)\n",
    "print()\n",
    "cnt2 = text.lower().count(\"dong\")\n",
    "print(\"Dong 출현횟수 : \", cnt2)\n",
    "\n",
    "# 한 줄씩 읽어오고 readline\n",
    "# 여백제거, 줄바꿈 strip \\n\n",
    "# 전부 대문자or소문자 변환  upper lower\n",
    "f.close()"
   ]
  },
  {
   "cell_type": "code",
   "execution_count": 19,
   "metadata": {},
   "outputs": [
    {
     "name": "stdout",
     "output_type": "stream",
     "text": [
      "red의 단어출현 수 :  4\n",
      "빨간 맛 궁금해 Honey\n",
      "깨물면 점점 녹아든 스트로베리 그 맛\n",
      "코너 캔디 샵 찾아 봐 Baby\n",
      "내가 제일 좋아하는 건 여름 그 맛\n",
      "야자나무 그늘 아래 졸고 싶고\n",
      "뜨거운 여름밤의 바람은 불고\n",
      "너무 쉽게 사랑 빠져 버릴 나인틴\n",
      "우린 제법 어울리고 또 멋져\n",
      "좋아 첫눈에 반해 버린\n",
      "네가 자꾸만 생각나\n",
      "내 방식대로 갈래\n",
      "빨간 맛 궁금해 Honey\n",
      "깨물면 점점 녹아든 스트로베리 그 맛\n",
      "코너 캔디 샵 찾아 봐 Baby\n",
      "내가 제일 좋아하는 건 여름 그 맛\n",
      "일곱 개의 무지갯빛 문을 열어\n",
      "너의 세상은 짜릿해 멋있어\n",
      "태양보다 빨간 네 사랑의 색깔\n",
      "내가 가질래 내 멋대로 할래\n",
      "날 봐 넌 뭘 생각하는데\n",
      "오늘 뭘 할 수 있을까\n",
      "내 맘대로 상상해\n",
      "빨간 맛 궁금해 Honey\n",
      "깨물면 점점 녹아든 스트로베리 그 맛\n",
      "코너 캔디 샵 찾아 봐 Baby\n",
      "내가 제일 좋아하는 건 여름 그 맛\n",
      "복숭아 주스 스윗 앤 사워 믹스 Mood\n",
      "네게 주고픈 칵테일을 Brew RED\n",
      "귓속이 쨍 코가 맹\n",
      "상상 그 이상 기분 Up and bang RED\n",
      "Bet you wanna\n",
      "Bet you wanna dance like this\n",
      "외쳐보자 좋아해요 솔직히\n",
      "긴장해 땀이 뚝뚝 귀엽지\n",
      "사랑에 빠져 그을려 우린 RED RED Ah\n",
      "말 안 해도 알아주면 안 돼\n",
      "내 맘은 더 커져 가는데\n",
      "다 흘려버린 아이스크림같이\n",
      "이러다 녹을지 몰라\n",
      "그러니 말해 그래 그래 말해\n",
      "그러니 말해 그래 그래 말해\n",
      "너의 색깔로\n",
      "날 물들여줘 더 진하게 강렬하게\n",
      "빨간 맛 궁금해 Honey\n",
      "깨물면 점점 녹아든 스트로베리 그 맛\n",
      "코너 캔디 샵 찾아 봐 Baby\n",
      "내가 제일 좋아하는 건 여름 그 맛\n",
      "내가 제일 좋아하는 건 여름의 너\n",
      "\n"
     ]
    }
   ],
   "source": [
    "f = open(\"C:/python3/study/빨간맛.txt\", \"r\", encoding='UTF8')\n",
    "contents = f.readlines()  \n",
    "\n",
    "text = \"\"\n",
    "\n",
    "for line in contents:\n",
    "    text += line.strip()+\"\\n\"\n",
    "# 빈공간 지우고, 맨 뒤에 줄바꿈(\\n) 넣음\n",
    "    \n",
    "count = text.lower().count(\"red\")\n",
    "print(\"red의 단어출현 수 : \", count) \n",
    "\n",
    "# 한 줄씩 읽어오고 readline\n",
    "# 여백제거, 줄바꿈 strip \\n\n",
    "# 전부 대문자or소문자 변환  upper lower\n",
    "f.close()"
   ]
  },
  {
   "cell_type": "markdown",
   "metadata": {},
   "source": [
    "# << Q6. >>\n",
    "- 최고속도는 200을 초과할 수 없다.\n",
    "- 브레이크페달을 밟을 때 -10의 속도가 준다.\n",
    "- 악셀페달을 밟을 때 +10의 속도가 증가한다.\n",
    "- 연료는 악셀페달을 밟을 때 소모되며, 소모값은 5이다."
   ]
  },
  {
   "cell_type": "code",
   "execution_count": 3,
   "metadata": {},
   "outputs": [],
   "source": [
    "class Car:\n",
    "    def __init__(self, name, speed, fuel): \n",
    "        self.name = name\n",
    "        self.speed = speed\n",
    "        self.fuel = fuel\n",
    "#        Car.count += 1\n",
    "\n",
    "    def carBreak(self, speed):  # 브레이크 페달을 밟는 행위를 제어하는 함수\n",
    "        if speed <= 0:        \n",
    "            self.speed == 0\n",
    "            print(\"정지\")\n",
    "            return self.speed\n",
    "        else:        \n",
    "            self.speed -= 10\n",
    "            return self.speed\n",
    "    \n",
    "    def carExcel(self, speed, fuel):  # 악셀 페달을 밟는 행위를 제어하는 함수\n",
    "        if fuel == 0:\n",
    "            print(\"남은 연료가 없습니다\")\n",
    "            return \n",
    "        elif 0<fuel<=20 and speed <200:\n",
    "            print(\"연료가 얼마 남지 않았습니다.\")\n",
    "            self.speed += 10\n",
    "            self.fuel -= 5\n",
    "            return self.speed, self.fuel\n",
    "        elif speed >= 200 and fuel != 0:\n",
    "            self.speed == 200\n",
    "            self.fuel -= 5\n",
    "            print(\"최고속도입니다.\")\n",
    "            if fuel <= 20:\n",
    "                print(\"연료가 얼마 남지 않았습니다.\")\n",
    "            return self.speed, self.fuel\n",
    "        else:\n",
    "            self.speed += 10\n",
    "            self.fuel -= 5\n",
    "            return self.speed, self.fuel\n",
    "        \n",
    "    def carState(self, name, speed, fuel):  # 자동차의 상태를 표시하는 행위를 제어하는 함수\n",
    "        print(\"이름 : {} / 현재속도 : {} / 남은연료 : {}\"\n",
    "              .format(self.name, self.speed, self.fuel))\n"
   ]
  },
  {
   "cell_type": "code",
   "execution_count": 4,
   "metadata": {},
   "outputs": [
    {
     "name": "stdout",
     "output_type": "stream",
     "text": [
      "이름 : phil\n",
      "악셀(e), 브레이크(b), 상태(s), 정지(q) → s\n",
      "이름 : phil / 현재속도 : 0 / 남은연료 : 200\n",
      "악셀(e), 브레이크(b), 상태(s), 정지(q) → q\n"
     ]
    }
   ],
   "source": [
    "name = input(\"이름 : \")\n",
    "speed = 0\n",
    "fuel = 200\n",
    "a = Car(name, speed, fuel)\n",
    "\n",
    "while 1:\n",
    "    drive = input(\"악셀(e), 브레이크(b), 상태(s), 주차(q) → \")\n",
    "    \n",
    "    if drive==\"q\": break\n",
    "    elif drive==\"e\": a.carExcel(a.speed, a.fuel)\n",
    "    elif drive==\"b\": a.carBreak(a.speed)\n",
    "    elif drive==\"s\": a.carState(a.name, a.speed, a.fuel)\n",
    "    else : print(\"잘못된 선택\")"
   ]
  },
  {
   "cell_type": "markdown",
   "metadata": {},
   "source": [
    "# << Q7. >>\n",
    "- 사각형이라는 객체를 클래스로 구현하시오.\n",
    "- 원이라는 객체를 클래스로 구현하시오.\n",
    "- 멤버필드는 좌표값(x, y)과 너비와 높이(width, height)를 갖도록 구현\n",
    "- 생성자 메서드와 출력을 나타내는 disp메서드를 구현하시오.\n",
    "  \n",
    "- 좌표를 부모클래스로 구현하고, 사각형과 원은 자녀클래스가 되도록."
   ]
  },
  {
   "cell_type": "code",
   "execution_count": 1,
   "metadata": {},
   "outputs": [],
   "source": [
    "class Point():\n",
    "    def __init__(self, xpos=0, ypos=0):\n",
    "        \n",
    "        xpos = int(input(\"x좌표 : \"))\n",
    "        ypos = int(input(\"y좌표 : \"))\n",
    "        \n",
    "        self.xpos = xpos\n",
    "        self.ypos = ypos\n",
    "        \n",
    "    def disp(self):\n",
    "        print(\"x좌표: {}, y좌표: {}\".format(self.xpos, self.ypos))\n",
    "\n",
    "        \n",
    "class Square(Point):\n",
    "    def __init__(self, xpos=0, ypos=0):\n",
    "        Point.__init__(self, xpos, ypos)\n",
    "        self.width = int(input(\"너비 : \"))\n",
    "        self.height = int(input(\"높이 : \"))\n",
    "        \n",
    "           \n",
    "    def info(self):\n",
    "        #Point.disp(self)\n",
    "        return [self.xpos, self.ypos, self.width, self.height]\n",
    "        #print(\"너비: {}, 높이: {}\".format(self.width, self.height))\n",
    "      \n",
    "        \n",
    "class Circle(Point):\n",
    "    def __init__(self, xpos=0, ypos=0, rad=0):\n",
    "        Point.__init__(self, xpos, ypos)\n",
    "        self.rad = int(input(\"반지름 : \"))\n",
    "        \n",
    "        \n",
    "    def info(self):\n",
    "        #Point.disp(self)\n",
    "        return [self.xpos, self.ypos, self.rad]\n",
    "        #print(\"반지름: {}\".format(self.rad))  \n",
    "\n",
    "def view():\n",
    "    tp=\"\"\n",
    "    \n",
    "    for i in li:\n",
    "        if len(i)==4:\n",
    "            tp=\"사각형\"\n",
    "            print(\"type={}  => (x={}, y={}), 가로={}, 세로={}\".\n",
    "                  format(tp, i[0], i[1], i[2], i[3]))\n",
    "        \n",
    "        elif len(i)==3:\n",
    "            tp=\"원\"\n",
    "            print(\"type={}  => (x={}, y={}), 반지름={}\".\n",
    "                  format(tp, i[0], i[1], i[2]))\n",
    "    \n",
    "            "
   ]
  },
  {
   "cell_type": "code",
   "execution_count": 40,
   "metadata": {},
   "outputs": [
    {
     "name": "stdout",
     "output_type": "stream",
     "text": [
      "x좌표 : 5\n",
      "y좌표 : 6\n",
      "반지름 : 7\n",
      "x좌표: 5, y좌표: 6\n",
      "반지름: 7\n"
     ]
    }
   ],
   "source": [
    "p=Circle()\n",
    "p.info()\n"
   ]
  },
  {
   "cell_type": "code",
   "execution_count": 2,
   "metadata": {},
   "outputs": [
    {
     "name": "stdout",
     "output_type": "stream",
     "text": [
      "도형 선택(s-사각형, c-원, v-보기, q-종료) = s\n",
      "x좌표 : 3\n",
      "y좌표 : 4\n",
      "너비 : 5\n",
      "높이 : 6\n",
      "도형 선택(s-사각형, c-원, v-보기, q-종료) = c\n",
      "x좌표 : 7\n",
      "y좌표 : 8\n",
      "반지름 : 9\n",
      "도형 선택(s-사각형, c-원, v-보기, q-종료) = s\n",
      "x좌표 : 6\n",
      "y좌표 : 7\n",
      "너비 : 7\n",
      "높이 : 5\n",
      "도형 선택(s-사각형, c-원, v-보기, q-종료) = c\n",
      "x좌표 : 3\n",
      "y좌표 : 8\n",
      "반지름 : 9\n",
      "도형 선택(s-사각형, c-원, v-보기, q-종료) = v\n",
      "type=사각형  => (x=3, y=4), 가로=5, 세로=6\n",
      "type=원  => (x=7, y=8), 반지름=9\n",
      "type=사각형  => (x=6, y=7), 가로=7, 세로=5\n",
      "type=원  => (x=3, y=8), 반지름=9\n",
      "도형 선택(s-사각형, c-원, v-보기, q-종료) = q\n"
     ]
    }
   ],
   "source": [
    "li = []\n",
    "\n",
    "while 1:\n",
    "    choice = input(\"도형 선택(s-사각형, c-원, v-보기, q-종료) = \")\n",
    "\n",
    "    if choice == \"s\": \n",
    "        a=Square()\n",
    "        li.append(a.info())\n",
    "        \n",
    "    elif choice == \"c\": \n",
    "        a=Circle()\n",
    "        li.append(a.info())\n",
    "        \n",
    "    elif choice == \"v\":\n",
    "        view()\n",
    "        #print(\"x좌표:{}, y좌표:{}, 가로:{}, 세로:{}\".format(li[0], li[1], li[2], li[3]))\n",
    "    elif choice == \"q\": break\n",
    "        \n",
    "    else: print(\"잘못된 선택\")"
   ]
  },
  {
   "cell_type": "markdown",
   "metadata": {},
   "source": [
    "##### << Q8. >>\n",
    "- 은행계좌관리 프로그램을 구현하시오.\n",
    "- 처리기능 : 고객등록, 입금처리, 출금처리, 잔액조회, 작업종료\n",
    "- 고객등록은 고객이름, 계좌번호, 예금금액을 입력받아 처리한다.\n",
    "- 입금처리는 계좌번호가 일치할 때 해당 고객의 금액에 입금금액 누적\n",
    "- 출금처리는 계좌번호가 일치할 때 해당 고객의 금액에 출금금액 차감\n",
    "- 잔액조회는 해당고객의 현재 잔액을 확인 or 전체 거래고객 잔액 확인\n",
    "- 사용자가 원하는 작업을 선택할 수 있도록 구현한다.\n",
    "- 2명 이상의 고객에 대한 정보를 처리할 수 있도록 구현할 것\n",
    "- 주어진 클래스를 기반으로 구현할 것."
   ]
  },
  {
   "cell_type": "code",
   "execution_count": 1,
   "metadata": {},
   "outputs": [],
   "source": [
    "def regist():\n",
    "    name = input(\"이름 : \")\n",
    "    num = input(\"계좌번호 : \")\n",
    "    money = int(input(\"예금액 : \"))\n",
    "    \n",
    "    return [name,num,money]\n",
    "\n",
    "\n",
    "def inmoney():\n",
    "    num = input(\"계좌번호 : \")\n",
    "    \n",
    "    for i in range(len(banklist)):\n",
    "        if banklist[i][1] == num:\n",
    "            money = int(input(\"입금액 : \"))\n",
    "            banklist[i][2] += money\n",
    "            print(\"입금완료\")\n",
    "            return\n",
    "    print(\"일치하는 계좌번호가 존재하지 않습니다.\")\n",
    "        \n",
    "\n",
    "def outmoney():\n",
    "    num = input(\"계좌번호 : \")\n",
    "    \n",
    "    for i in range(len(banklist)):\n",
    "        \n",
    "        if banklist[i][1] == num:\n",
    "            \n",
    "            if banklist[i][2]==0:\n",
    "                print(\"잔액이 0원이라 출금이 불가능합니다.\")\n",
    "                return\n",
    "            \n",
    "            money = int(input(\"출금액 : \"))\n",
    "        \n",
    "            if banklist[i][2]<money:\n",
    "                print(\"잔액이 부족합니다.\")\n",
    "                return\n",
    "            \n",
    "            banklist[i][2] -= money\n",
    "            print(\"출금완료\")\n",
    "            return\n",
    "        \n",
    "    print(\"일치하는 계좌번호가 존재하지 않습니다.\")\n",
    "\n",
    "    \n",
    "def show():\n",
    "    print(banklist)\n",
    "    for i in range(len(banklist)):\n",
    "        print(\"{:4s}님의 {:>7s}계좌 잔액은 {:7d}원입니다.\".format(banklist[i][0],banklist[i][1],banklist[i][2]))\n"
   ]
  },
  {
   "cell_type": "code",
   "execution_count": 2,
   "metadata": {},
   "outputs": [
    {
     "name": "stdout",
     "output_type": "stream",
     "text": [
      "선택 [1.고객등록, 2.입금처리, 3.출금처리, 4.잔액조회, 5.작업종료] = 1\n",
      "이름 : a\n",
      "계좌번호 : 4r4\n",
      "예금액 : 3000\n",
      "선택 [1.고객등록, 2.입금처리, 3.출금처리, 4.잔액조회, 5.작업종료] = 1\n",
      "이름 : b\n",
      "계좌번호 : 38ei\n",
      "예금액 : 5000\n",
      "선택 [1.고객등록, 2.입금처리, 3.출금처리, 4.잔액조회, 5.작업종료] = 4\n",
      "[['a', '4r4', 3000], ['b', '38ei', 5000]]\n",
      "a   님의     4r4계좌 잔액은    3000원입니다.\n",
      "b   님의    38ei계좌 잔액은    5000원입니다.\n",
      "선택 [1.고객등록, 2.입금처리, 3.출금처리, 4.잔액조회, 5.작업종료] = 2\n",
      "계좌번호 : 4r4\n",
      "입금액 : 50000\n",
      "입금완료\n",
      "선택 [1.고객등록, 2.입금처리, 3.출금처리, 4.잔액조회, 5.작업종료] = 4\n",
      "[['a', '4r4', 53000], ['b', '38ei', 5000]]\n",
      "a   님의     4r4계좌 잔액은   53000원입니다.\n",
      "b   님의    38ei계좌 잔액은    5000원입니다.\n",
      "선택 [1.고객등록, 2.입금처리, 3.출금처리, 4.잔액조회, 5.작업종료] = 2\n",
      "계좌번호 : 38ei\n",
      "입금액 : 1\n",
      "입금완료\n",
      "선택 [1.고객등록, 2.입금처리, 3.출금처리, 4.잔액조회, 5.작업종료] = 4\n",
      "[['a', '4r4', 53000], ['b', '38ei', 5001]]\n",
      "a   님의     4r4계좌 잔액은   53000원입니다.\n",
      "b   님의    38ei계좌 잔액은    5001원입니다.\n",
      "선택 [1.고객등록, 2.입금처리, 3.출금처리, 4.잔액조회, 5.작업종료] = 3\n",
      "계좌번호 : b\n",
      "일치하는 계좌번호가 존재하지 않습니다.\n",
      "선택 [1.고객등록, 2.입금처리, 3.출금처리, 4.잔액조회, 5.작업종료] = 3\n",
      "계좌번호 : 38ei\n",
      "출금액 : 5000\n",
      "출금완료\n",
      "선택 [1.고객등록, 2.입금처리, 3.출금처리, 4.잔액조회, 5.작업종료] = 4\n",
      "[['a', '4r4', 53000], ['b', '38ei', 1]]\n",
      "a   님의     4r4계좌 잔액은   53000원입니다.\n",
      "b   님의    38ei계좌 잔액은       1원입니다.\n",
      "선택 [1.고객등록, 2.입금처리, 3.출금처리, 4.잔액조회, 5.작업종료] = 3\n",
      "계좌번호 : 38ei\n",
      "출금액 : 20\n",
      "잔액이 부족합니다.\n",
      "선택 [1.고객등록, 2.입금처리, 3.출금처리, 4.잔액조회, 5.작업종료] = 4\n",
      "[['a', '4r4', 53000], ['b', '38ei', 1]]\n",
      "a   님의     4r4계좌 잔액은   53000원입니다.\n",
      "b   님의    38ei계좌 잔액은       1원입니다.\n",
      "선택 [1.고객등록, 2.입금처리, 3.출금처리, 4.잔액조회, 5.작업종료] = 3\n",
      "계좌번호 : 38ei\n",
      "출금액 : 1\n",
      "출금완료\n",
      "선택 [1.고객등록, 2.입금처리, 3.출금처리, 4.잔액조회, 5.작업종료] = 3\n",
      "계좌번호 : 38ei\n",
      "잔액이 0원이라 출금이 불가능합니다.\n",
      "선택 [1.고객등록, 2.입금처리, 3.출금처리, 4.잔액조회, 5.작업종료] = 4\n",
      "[['a', '4r4', 53000], ['b', '38ei', 0]]\n",
      "a   님의     4r4계좌 잔액은   53000원입니다.\n",
      "b   님의    38ei계좌 잔액은       0원입니다.\n",
      "선택 [1.고객등록, 2.입금처리, 3.출금처리, 4.잔액조회, 5.작업종료] = 5\n",
      "작업종료\n"
     ]
    }
   ],
   "source": [
    "banklist = []\n",
    "\n",
    "while 1:\n",
    "    choice = input(\"선택 [1.고객등록, 2.입금처리, 3.출금처리, 4.잔액조회, 5.작업종료] = \")\n",
    "\n",
    "    if choice==\"1\": banklist.append(regist())\n",
    "    elif choice==\"2\": inmoney()\n",
    "    elif choice==\"3\": outmoney()\n",
    "    elif choice==\"4\": show()\n",
    "    elif choice==\"5\": print(\"작업종료\"); break\n",
    "    else: print(\"잘못된 선택\")"
   ]
  },
  {
   "cell_type": "markdown",
   "metadata": {},
   "source": [
    "# << Q9. >>\n",
    "- 전역날짜 계산기 (전역날짜 2021.08.23일 - 오늘 기준으로 남은 날짜,시간 표시)\n",
    "- 기념일 계산기 (100일,200일,1년,10년 - 사귄날짜 입력하면, 기념일 날짜 출력)"
   ]
  },
  {
   "cell_type": "code",
   "execution_count": 138,
   "metadata": {},
   "outputs": [
    {
     "name": "stdout",
     "output_type": "stream",
     "text": [
      "1일(년-월-일) : 2015-5-5\n",
      "<class 'datetime.datetime'>\n",
      "<class 'str'>\n",
      "1일 : 2015년 05월 05일\n"
     ]
    }
   ],
   "source": [
    "from datetime import datetime, timedelta\n",
    "\n",
    "#now = datetime.datetime.now()\n",
    "\n",
    "#print(now.year)\n",
    "# 출력형식 변경\n",
    "#ymd = now.strftime(\"%Y{} %m{} %d{}\").format(*\"년월일\")\n",
    "#hms = now.strftime(\"%H{} %M{} %S{}\").format(*\"시분초\")\n",
    "#print(\"현재 - 날짜: {}, 시간: {}\".format(ymd, hms))\n",
    "\n",
    "# 년월일 분할하여 리스트\n",
    "dd=[]\n",
    "d_day=input(\"1일(년-월-일) : \")\n",
    "dd = (d_day.split(\"-\"))\n",
    "\n",
    "# 형변환-int\n",
    "for i in range(3):\n",
    "    dd[i] = int(dd[i])\n",
    "    \n",
    "#print(type(dd[0]))\n",
    "\n",
    "time = datetime(dd[0], dd[1], dd[2], 0,0,0,0)\n",
    "print(type(time))\n",
    "t1 = time.strftime(\"%Y{} %m{} %d{}\").format(*\"년월일\")\n",
    "print(type(t1))\n",
    "#time.timedelta.\n",
    "#t100 = time.strftime(\"%Y{} %m{} %d{}\").format(*\"년월일\")\n",
    "print(\"1일 : \" + t1)\n",
    "#print(\"100일 : \" + time)\n",
    "#print(\"200일 : \" + time)\n",
    "#print(\"1년 : \" + time)\n",
    "#print(\"2년 : \" + time)"
   ]
  },
  {
   "cell_type": "code",
   "execution_count": 160,
   "metadata": {},
   "outputs": [
    {
     "name": "stdout",
     "output_type": "stream",
     "text": [
      "남은시간 :  133 days, 3:18:16.306454\n"
     ]
    }
   ],
   "source": [
    "from datetime import datetime,timedelta\n",
    "\n",
    "strdatetime = \"2021-08-23 00:00:00\"\n",
    "dateformat = \"%Y-%m-%d %H:%M:%S\"\n",
    "enddate = datetime.strptime(strdatetime, dateformat)\n",
    "\n",
    "now = datetime.now()\n",
    "\n",
    "remain = enddate-now\n",
    "#remain_a = remain.strftime(\"%Y{} %m{} %d{}, %H{} %M{} %S{}\").format(*\"년월일시분초\")\n",
    "print(\"남은시간 : \", remain)"
   ]
  },
  {
   "cell_type": "code",
   "execution_count": 163,
   "metadata": {},
   "outputs": [
    {
     "name": "stdout",
     "output_type": "stream",
     "text": [
      "1일 [년-월-일] = 17-5-5\n",
      "\n",
      "1일  : 2017-05-05 00:00:00\n",
      "100일: 2017-08-13 00:00:00\n",
      "1년  : 2018-05-05 00:00:00\n",
      "10년 : 2027-05-05 00:00:00\n"
     ]
    }
   ],
   "source": [
    "from datetime import datetime,timedelta\n",
    "\n",
    "try:\n",
    "    d_day = input(\"1일 [년-월-일] = \")\n",
    "    dl = d_day.split(\"-\")\n",
    "\n",
    "    for i in range(3):\n",
    "        dl[i] = int(dl[i])\n",
    "\n",
    "    if dl[0]<22: dl[0]=2000+dl[0]    \n",
    "\n",
    "    strdatetime = \"{}-{}-{} 00:00:00\".format(dl[0], dl[1], dl[2])\n",
    "    dateformat = \"%Y-%m-%d %H:%M:%S\"\n",
    "    dd = datetime.strptime(strdatetime, dateformat)\n",
    "\n",
    "    print()\n",
    "    print(\"1일  : \"+str(dd))\n",
    "    print(\"100일: \"+str(dd+timedelta(days=100)))\n",
    "    print(\"1년  : \"+str(dd+timedelta(days=365)))\n",
    "    print(\"10년 : \"+str(dd+timedelta(days=3652))) # 윤년 -> 15, 16년 비교 (+1)\n",
    "    \n",
    "except Exception as e:\n",
    "    print(\"에러 : \", e)\n",
    "\n",
    "#print(time2+timedelta(days=1, hours-2))"
   ]
  },
  {
   "cell_type": "markdown",
   "metadata": {},
   "source": [
    "# << Q10. >>\n",
    "- 성적프로그램 2단계\n",
    "- 평균을 이용하여 학점을 계산하여 출력하는 프로그램을 구현하시오.\n",
    "- 학점은 'A', 'B','C','D','F'로 표현한다.\n",
    "- 평균이 90점 이상이면 'A', 80점 이상이면 'B', 70점 이상이면 'C',\n",
    "- 60점 이상이면 'D', 그 외 'F'로 처리할 것"
   ]
  },
  {
   "cell_type": "code",
   "execution_count": null,
   "metadata": {},
   "outputs": [],
   "source": [
    "stulist = []\n",
    "while 1:\n",
    "    a = input(\"이름, 성적 입력 = (q:종료)\")\n",
    "    if a==\"q\": break\n",
    "    \n",
    "    name, a.split(\",\")\n",
    "    stulist.append(a)\n",
    "    \n",
    "    "
   ]
  },
  {
   "cell_type": "markdown",
   "metadata": {},
   "source": [
    "# << Q11. >>\n",
    "- 리스트 내포를 사용하여\n",
    "-  구구단 출력하기\n",
    "-  코딩 1줄"
   ]
  },
  {
   "cell_type": "code",
   "execution_count": 81,
   "metadata": {},
   "outputs": [
    {
     "name": "stdout",
     "output_type": "stream",
     "text": [
      " <2단>         <3단>         <4단>         <5단>         <6단>         <7단>         <8단>         <9단>        \n",
      "2*1=  2       3*1=  3       4*1=  4       5*1=  5       6*1=  6       7*1=  7       8*1=  8       9*1=  9       \n",
      "2*2=  4       3*2=  6       4*2=  8       5*2= 10       6*2= 12       7*2= 14       8*2= 16       9*2= 18       \n",
      "2*3=  6       3*3=  9       4*3= 12       5*3= 15       6*3= 18       7*3= 21       8*3= 24       9*3= 27       \n",
      "2*4=  8       3*4= 12       4*4= 16       5*4= 20       6*4= 24       7*4= 28       8*4= 32       9*4= 36       \n",
      "2*5= 10       3*5= 15       4*5= 20       5*5= 25       6*5= 30       7*5= 35       8*5= 40       9*5= 45       \n",
      "2*6= 12       3*6= 18       4*6= 24       5*6= 30       6*6= 36       7*6= 42       8*6= 48       9*6= 54       \n",
      "2*7= 14       3*7= 21       4*7= 28       5*7= 35       6*7= 42       7*7= 49       8*7= 56       9*7= 63       \n",
      "2*8= 16       3*8= 24       4*8= 32       5*8= 40       6*8= 48       7*8= 56       8*8= 64       9*8= 72       \n",
      "2*9= 18       3*9= 27       4*9= 36       5*9= 45       6*9= 54       7*9= 63       8*9= 72       9*9= 81       \n"
     ]
    }
   ],
   "source": [
    "for k in range(2,10):\n",
    "    print(\" <{}단>        \".format(k), end=\"\")\n",
    "print()\n",
    "for i in range(1,10):\n",
    "    for j in range(2,10):\n",
    "        print(\"{}*{}={:3d}\".format(j,i,j*i), end=\" \"*7)\n",
    "    print()"
   ]
  },
  {
   "cell_type": "code",
   "execution_count": 88,
   "metadata": {},
   "outputs": [
    {
     "ename": "SyntaxError",
     "evalue": "invalid syntax (<ipython-input-88-f359e4ababab>, line 1)",
     "output_type": "error",
     "traceback": [
      "\u001b[1;36m  File \u001b[1;32m\"<ipython-input-88-f359e4ababab>\"\u001b[1;36m, line \u001b[1;32m1\u001b[0m\n\u001b[1;33m    print(\"{}\".format(i) : for i in range(1,11))\u001b[0m\n\u001b[1;37m                         ^\u001b[0m\n\u001b[1;31mSyntaxError\u001b[0m\u001b[1;31m:\u001b[0m invalid syntax\n"
     ]
    }
   ],
   "source": [
    "#print(\"{}\".format(i) : for i in range(1,11))"
   ]
  },
  {
   "cell_type": "code",
   "execution_count": 119,
   "metadata": {},
   "outputs": [
    {
     "name": "stdout",
     "output_type": "stream",
     "text": [
      "[2, 4, 6, 8, 10, 12, 14, 16, 18, 3, 6, 9, 12, 15, 18, 21, 24, 27, 4, 8, 12, 16, 20, 24, 28, 32, 36, 5, 10, 15, 20, 25, 30, 35, 40, 45, 6, 12, 18, 24, 30, 36, 42, 48, 54, 7, 14, 21, 28, 35, 42, 49, 56, 63, 8, 16, 24, 32, 40, 48, 56, 64, 72, 9, 18, 27, 36, 45, 54, 63, 72, 81]\n"
     ]
    }
   ],
   "source": [
    "#  i  * j  = i*j\n",
    "a= [i*j for j in range(2,10) for i in range(1,10)]\n",
    "\n",
    "print(a)"
   ]
  },
  {
   "cell_type": "code",
   "execution_count": null,
   "metadata": {},
   "outputs": [],
   "source": []
  },
  {
   "cell_type": "code",
   "execution_count": null,
   "metadata": {},
   "outputs": [],
   "source": []
  }
 ],
 "metadata": {
  "kernelspec": {
   "display_name": "Python 3",
   "language": "python",
   "name": "python3"
  },
  "language_info": {
   "codemirror_mode": {
    "name": "ipython",
    "version": 3
   },
   "file_extension": ".py",
   "mimetype": "text/x-python",
   "name": "python",
   "nbconvert_exporter": "python",
   "pygments_lexer": "ipython3",
   "version": "3.7.3"
  }
 },
 "nbformat": 4,
 "nbformat_minor": 2
}
