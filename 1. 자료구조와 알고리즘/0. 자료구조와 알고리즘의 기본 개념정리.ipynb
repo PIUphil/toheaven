{
 "cells": [
  {
   "cell_type": "markdown",
   "metadata": {},
   "source": [
    "### 0. 데이터구조(Data Structure)와 알고리즘(Algorithm)\n",
    "#### Data Structure\n",
    "- 대량의 데이터를 효율적으로 관리할 수 있는 데이터 구조 즉, 자료구조\n",
    "- 효율적인 데이터 처리를 위해, 데이터의 특성에 따라 체계적으로 데이터를 구조화 하는 것을 말한다.\n",
    "\n",
    "#### Algorithm\n",
    "- 어떤 문제를 풀기위한 절차나 방법\n",
    "- 어떤 문제에 대해 특정한 '입력'이 들어오면, 원하는 결과를 '출력'할 수 있도록 만드는 프로그래밍"
   ]
  },
  {
   "cell_type": "code",
   "execution_count": null,
   "metadata": {},
   "outputs": [],
   "source": [
    "# 알고리즘 예제 : 김치찌개 만들기\n",
    "def create_food(kimchi):\n",
    "    clean_pop             # 1. 재료준비과정\n",
    "    prepare_pot(kimchi)   # 2. 냄비에 재료를 넣는 과정\n",
    "    heat_pot()            # 3. 냄비 끓이기\n",
    "    add_pot(seasoning)    # 4. 각종 양념 넣기\n",
    "\n",
    "kimchi_stew = create_food(kimchi)\n",
    "eat(kimchi_stew)"
   ]
  },
  {
   "cell_type": "code",
   "execution_count": 5,
   "metadata": {},
   "outputs": [
    {
     "data": {
      "text/plain": [
       "1"
      ]
     },
     "execution_count": 5,
     "metadata": {},
     "output_type": "execute_result"
    }
   ],
   "source": [
    "# 정수의 절댓값을 구하는 프로그램을 작성하시오. (abs)\n",
    "\n",
    "def func(num):\n",
    "    if num > 0:\n",
    "        return num\n",
    "    else:\n",
    "        return -num\n",
    "    \n",
    "func(-1)"
   ]
  },
  {
   "cell_type": "markdown",
   "metadata": {},
   "source": [
    "### 1. 알고리즘 성능 표기법\n",
    "#### 1. Big O (빅-오) 표기법 : O(N) - 알고리즘 최악의 실행 시간 표기\n",
    "- O (입력) : O(1), O(logn), O(N), O(nlogn), O(N²), O(2ⁿ), O(n!)등\n",
    "\n",
    "#### 2. 오메가 표기법 : Ω(N) - 알고리즘 최상의 실행 시간 표기\n",
    "#### 3. 세타 표기법 : Θ(N) - 알고리즘 평균 실행 시간 표기"
   ]
  },
  {
   "cell_type": "code",
   "execution_count": 7,
   "metadata": {},
   "outputs": [],
   "source": [
    "# 1부터 N까지의 합을 계산하는 알고리즘 구현하시오.\n",
    "def sum_all(n):\n",
    "## 누적합을 담을 변수를 만들고 0을 저장시킨다.\n",
    "    total = 0\n",
    "## 1부터 1씩 증가하면서 N이 될 때까지 반복처리하는 문장 구현\n",
    "    for num in range(1, n+1):\n",
    "## 반복문 안의 누적합에 1씩 증가된 값을 더하는 문장\n",
    "        total += num\n",
    "## 반복이 끝나면 누적합을 출력하는 작업\n",
    "    return(total)"
   ]
  },
  {
   "cell_type": "code",
   "execution_count": 8,
   "metadata": {},
   "outputs": [
    {
     "data": {
      "text/plain": [
       "5050"
      ]
     },
     "execution_count": 8,
     "metadata": {},
     "output_type": "execute_result"
    }
   ],
   "source": [
    "sum_all(100)"
   ]
  },
  {
   "cell_type": "code",
   "execution_count": 9,
   "metadata": {},
   "outputs": [],
   "source": [
    "def sum_all(n):\n",
    "    return int(n*(n+1)/2)"
   ]
  },
  {
   "cell_type": "code",
   "execution_count": 10,
   "metadata": {},
   "outputs": [
    {
     "data": {
      "text/plain": [
       "5050"
      ]
     },
     "execution_count": 10,
     "metadata": {},
     "output_type": "execute_result"
    }
   ],
   "source": [
    "sum_all(100)"
   ]
  },
  {
   "cell_type": "markdown",
   "metadata": {},
   "source": [
    "### 2. 대표적인 자료구조 : 배열(Array)\n",
    "- 동질의 데이터를 하나의 이름으로 묶어서 관리하는 자료구조\n",
    "- 기억장소의 낭비를 줄이고 연속된 공간에 데이터가 담기기 때문에 처리속도가 빠르다는 장점을 가지고 있다.\n",
    "- 파이썬에서 리스트 타입이 배열 기능을 제공한다."
   ]
  },
  {
   "cell_type": "code",
   "execution_count": 11,
   "metadata": {},
   "outputs": [
    {
     "name": "stdout",
     "output_type": "stream",
     "text": [
      "[1, 2, 3, 4, 5]\n"
     ]
    }
   ],
   "source": [
    "# 1차원 배열 : 리스트로 배열을 표현한다.\n",
    "data = [1, 2, 3, 4, 5]\n",
    "print(data)"
   ]
  },
  {
   "cell_type": "code",
   "execution_count": 12,
   "metadata": {},
   "outputs": [
    {
     "data": {
      "text/plain": [
       "[[1, 2, 3], [4, 5, 6], [7, 8, 9]]"
      ]
     },
     "execution_count": 12,
     "metadata": {},
     "output_type": "execute_result"
    }
   ],
   "source": [
    "# 2차원 배열\n",
    "data = [[1, 2, 3], [4, 5, 6], [7, 8, 9]]\n",
    "data"
   ]
  },
  {
   "cell_type": "code",
   "execution_count": 13,
   "metadata": {},
   "outputs": [
    {
     "name": "stdout",
     "output_type": "stream",
     "text": [
      "2\n"
     ]
    }
   ],
   "source": [
    "print(data[0])"
   ]
  },
  {
   "cell_type": "code",
   "execution_count": 14,
   "metadata": {},
   "outputs": [
    {
     "name": "stdout",
     "output_type": "stream",
     "text": [
      "1\n",
      "2\n",
      "3\n"
     ]
    }
   ],
   "source": [
    "print(data[0][0])\n",
    "print(data[0][1])\n",
    "print(data[0][2])"
   ]
  },
  {
   "cell_type": "code",
   "execution_count": 16,
   "metadata": {},
   "outputs": [
    {
     "name": "stdout",
     "output_type": "stream",
     "text": [
      "9 8 7\n"
     ]
    }
   ],
   "source": [
    "# 9, 8, 7 순서로 출력하는 작업\n",
    "print(data[2][2], data[2][1], data[2][0])"
   ]
  },
  {
   "cell_type": "markdown",
   "metadata": {},
   "source": [
    "#### 3. 스택(Stack)\n",
    "- 한쪽으로만 자료의 삽입과 삭제가 이루어지는 자료구조\n",
    "- LIFO(Last In, First Out), 후입선출 기법\n",
    "- 주요기능 : push(), pop()\n",
    "- 주요용어 : Top = stack point, Bottom"
   ]
  },
  {
   "cell_type": "code",
   "execution_count": 19,
   "metadata": {},
   "outputs": [],
   "source": [
    "stack_memory = list()     # 스택메모리 구현\n",
    "\n",
    "stack_memory.append(\"A\")\n",
    "stack_memory.append(\"B\")\n",
    "stack_memory.append(\"C\")"
   ]
  },
  {
   "cell_type": "code",
   "execution_count": 20,
   "metadata": {},
   "outputs": [
    {
     "name": "stdout",
     "output_type": "stream",
     "text": [
      "['A', 'B', 'C']\n"
     ]
    }
   ],
   "source": [
    "print(stack_memory)"
   ]
  },
  {
   "cell_type": "code",
   "execution_count": 21,
   "metadata": {},
   "outputs": [
    {
     "name": "stdout",
     "output_type": "stream",
     "text": [
      "C\n",
      "B\n",
      "A\n"
     ]
    }
   ],
   "source": [
    "print(stack_memory.pop())\n",
    "print(stack_memory.pop())\n",
    "print(stack_memory.pop())"
   ]
  },
  {
   "cell_type": "code",
   "execution_count": 22,
   "metadata": {},
   "outputs": [],
   "source": [
    "stack_list = list()\n",
    "\n",
    "def push(data):\n",
    "    stack_list.append(data)\n",
    "\n",
    "def pop():\n",
    "    # 스택메모리의 마지막 위치의 값을 찾는다.\n",
    "    data = stack_list[-1]\n",
    "    # 마지막 위치의 저장된 값을 제거하는 작업\n",
    "    del stack_list[-1]\n",
    "    # 마지막 위치의 값을 되돌려준다.\n",
    "    return data"
   ]
  },
  {
   "cell_type": "code",
   "execution_count": 24,
   "metadata": {},
   "outputs": [],
   "source": [
    "for index in range(10):\n",
    "    push(index)"
   ]
  },
  {
   "cell_type": "code",
   "execution_count": 25,
   "metadata": {},
   "outputs": [
    {
     "data": {
      "text/plain": [
       "[0, 1, 2, 3, 4, 5, 6, 7, 8, 9]"
      ]
     },
     "execution_count": 25,
     "metadata": {},
     "output_type": "execute_result"
    }
   ],
   "source": [
    "stack_list"
   ]
  },
  {
   "cell_type": "code",
   "execution_count": 26,
   "metadata": {},
   "outputs": [
    {
     "data": {
      "text/plain": [
       "9"
      ]
     },
     "execution_count": 26,
     "metadata": {},
     "output_type": "execute_result"
    }
   ],
   "source": [
    "pop()"
   ]
  },
  {
   "cell_type": "code",
   "execution_count": 27,
   "metadata": {},
   "outputs": [
    {
     "data": {
      "text/plain": [
       "[0, 1, 2, 3, 4, 5, 6, 7, 8]"
      ]
     },
     "execution_count": 27,
     "metadata": {},
     "output_type": "execute_result"
    }
   ],
   "source": [
    "stack_list"
   ]
  },
  {
   "cell_type": "markdown",
   "metadata": {},
   "source": [
    "### 4. 큐(Queue)\n",
    "- 한 쪽에서 입력이, 반대쪽에서 출력이 이루어지는 자료구조\n",
    "- 가장 먼저 넣은 데이터를 가장 먼저 꺼낼 수 있는 구조\n",
    "- 선입 선출(FIFO, First In First Out)\n",
    "- OS(운영체제)가 작업을 수행하는 대표적인 방법\n",
    "- 파이썬에서 queue 라이브러리를 활용하여 큐 자료구조를 운영한다."
   ]
  },
  {
   "cell_type": "code",
   "execution_count": 33,
   "metadata": {},
   "outputs": [],
   "source": [
    "# 모듈 로딩\n",
    "import queue   # Queue 객체가 안에 있음\n",
    "\n",
    "data_queue = queue.Queue()   # 큐 객체 만듬\n",
    "\n",
    "# put():삽입과 get():삭제, qsize():큐의 크기\n",
    "data_queue.put(\"fun\")\n",
    "data_queue.put(1)"
   ]
  },
  {
   "cell_type": "code",
   "execution_count": 34,
   "metadata": {},
   "outputs": [
    {
     "data": {
      "text/plain": [
       "2"
      ]
     },
     "execution_count": 34,
     "metadata": {},
     "output_type": "execute_result"
    }
   ],
   "source": [
    "data_queue.qsize()"
   ]
  },
  {
   "cell_type": "code",
   "execution_count": 35,
   "metadata": {},
   "outputs": [
    {
     "data": {
      "text/plain": [
       "'fun'"
      ]
     },
     "execution_count": 35,
     "metadata": {},
     "output_type": "execute_result"
    }
   ],
   "source": [
    "data_queue.get()"
   ]
  },
  {
   "cell_type": "code",
   "execution_count": 36,
   "metadata": {},
   "outputs": [
    {
     "data": {
      "text/plain": [
       "1"
      ]
     },
     "execution_count": 36,
     "metadata": {},
     "output_type": "execute_result"
    }
   ],
   "source": [
    "data_queue.qsize()"
   ]
  },
  {
   "cell_type": "code",
   "execution_count": 37,
   "metadata": {},
   "outputs": [
    {
     "data": {
      "text/plain": [
       "1"
      ]
     },
     "execution_count": 37,
     "metadata": {},
     "output_type": "execute_result"
    }
   ],
   "source": [
    "data_queue.get()"
   ]
  },
  {
   "cell_type": "code",
   "execution_count": 38,
   "metadata": {},
   "outputs": [
    {
     "data": {
      "text/plain": [
       "0"
      ]
     },
     "execution_count": 38,
     "metadata": {},
     "output_type": "execute_result"
    }
   ],
   "source": [
    "data_queue.qsize()"
   ]
  },
  {
   "cell_type": "code",
   "execution_count": 39,
   "metadata": {},
   "outputs": [
    {
     "data": {
      "text/plain": [
       "2"
      ]
     },
     "execution_count": 39,
     "metadata": {},
     "output_type": "execute_result"
    }
   ],
   "source": [
    "# LifoQueue : LIFO\n",
    "data_queue = queue.LifoQueue()\n",
    "data_queue.put(\"fun\")\n",
    "data_queue.put(1)\n",
    "data_queue.qsize()"
   ]
  },
  {
   "cell_type": "code",
   "execution_count": 40,
   "metadata": {},
   "outputs": [
    {
     "data": {
      "text/plain": [
       "1"
      ]
     },
     "execution_count": 40,
     "metadata": {},
     "output_type": "execute_result"
    }
   ],
   "source": [
    "data_queue.get()"
   ]
  },
  {
   "cell_type": "code",
   "execution_count": 41,
   "metadata": {},
   "outputs": [],
   "source": [
    "# 리스트를 이용해서 Queue를 구현하는 프로그램\n",
    "queue_list = list()\n",
    "\n",
    "def put(data):\n",
    "    queue_list.append(data)\n",
    "    \n",
    "def get():\n",
    "    data = queue_list[0]\n",
    "    del queue_list[0]\n",
    "    return data"
   ]
  },
  {
   "cell_type": "code",
   "execution_count": 42,
   "metadata": {},
   "outputs": [],
   "source": [
    "for index in range(10):\n",
    "    put(index)                  "
   ]
  },
  {
   "cell_type": "code",
   "execution_count": 43,
   "metadata": {},
   "outputs": [
    {
     "data": {
      "text/plain": [
       "10"
      ]
     },
     "execution_count": 43,
     "metadata": {},
     "output_type": "execute_result"
    }
   ],
   "source": [
    "len(queue_list)"
   ]
  },
  {
   "cell_type": "code",
   "execution_count": 44,
   "metadata": {},
   "outputs": [
    {
     "data": {
      "text/plain": [
       "0"
      ]
     },
     "execution_count": 44,
     "metadata": {},
     "output_type": "execute_result"
    }
   ],
   "source": [
    "get()"
   ]
  },
  {
   "cell_type": "markdown",
   "metadata": {},
   "source": [
    "### 5. 링크드 리스트(Linked List)\n",
    "- 연결 리스트라고 표현함\n",
    "- 배열은 순차적으로 연결된 공간에 데이터를 담는 구조인것과 달리\n",
    "- 링크드 리스트는 떨어진 곳에 존재하는 데이터를 연결해서 관리하는 구조\n",
    "- 기본용어와 구조 : 노드(Node) - 데이터와 다음에 연결된 주소\n",
    "    　  　　　　　　　  \n",
    "   　　　　　　　　포인터(Pointer) - 다음이나 이전에 연결할 주소"
   ]
  },
  {
   "cell_type": "code",
   "execution_count": 55,
   "metadata": {},
   "outputs": [],
   "source": [
    "class Node:\n",
    "    def __init__(self, data, link=None):\n",
    "        self.data = data\n",
    "        self.next = link  # 노드와 노드를 연결할 포인터"
   ]
  },
  {
   "cell_type": "code",
   "execution_count": 56,
   "metadata": {},
   "outputs": [],
   "source": [
    "node1 = Node(\"A\")\n",
    "node2 = Node(\"B\")\n",
    "node1.next = node2\n",
    "# head : 링크드리스트의 시작위치값을 가지고 있는 포인터\n",
    "head = node1"
   ]
  },
  {
   "cell_type": "code",
   "execution_count": 1,
   "metadata": {},
   "outputs": [],
   "source": [
    "class Node:\n",
    "    def __init__(self, data, link=None):\n",
    "        self.data = data\n",
    "        self.next = link\n",
    "    \n",
    "    # 링크드리스트라는 자료구조에 새로운 데이터가 추가\n",
    "    def add(self, data):\n",
    "        node = head\n",
    "        while node.next:\n",
    "            node = node.next  # node.next.next.next....\n",
    "        node.next = Node(data)  # 빈node 발견하면 새로운 node 생성\n",
    "    \n",
    "    def insert(self, data, head):\n",
    "        node1.next\n",
    "            "
   ]
  },
  {
   "cell_type": "code",
   "execution_count": 2,
   "metadata": {},
   "outputs": [],
   "source": [
    "node1 = Node(1)\n",
    "head = node1\n",
    "\n",
    "for index in range(2, 10):\n",
    "    head.add(index)"
   ]
  },
  {
   "cell_type": "code",
   "execution_count": 3,
   "metadata": {
    "scrolled": true
   },
   "outputs": [
    {
     "name": "stdout",
     "output_type": "stream",
     "text": [
      "1\n",
      "2\n",
      "3\n",
      "4\n",
      "5\n",
      "6\n",
      "7\n",
      "8\n",
      "9\n"
     ]
    }
   ],
   "source": [
    "# 링크드 리스트 데이터 출력하기\n",
    "node = head\n",
    "while node.next:\n",
    "    print(node.data)\n",
    "    node = node.next\n",
    "    \n",
    "print(node.data)"
   ]
  },
  {
   "cell_type": "code",
   "execution_count": 135,
   "metadata": {},
   "outputs": [
    {
     "name": "stdout",
     "output_type": "stream",
     "text": [
      "9\n"
     ]
    }
   ],
   "source": [
    "print(node1.next.next.next.next.next.next.next.next.data)"
   ]
  },
  {
   "cell_type": "code",
   "execution_count": 133,
   "metadata": {
    "scrolled": true
   },
   "outputs": [
    {
     "name": "stdout",
     "output_type": "stream",
     "text": [
      "1\n"
     ]
    }
   ],
   "source": [
    "print(head.data)"
   ]
  },
  {
   "cell_type": "code",
   "execution_count": 142,
   "metadata": {},
   "outputs": [
    {
     "name": "stdout",
     "output_type": "stream",
     "text": [
      "9\n"
     ]
    }
   ],
   "source": [
    "print(node.data)"
   ]
  },
  {
   "cell_type": "code",
   "execution_count": 4,
   "metadata": {},
   "outputs": [],
   "source": [
    "# 링크드리스트 사이에 데이터를 추가하는 작업\n",
    "new_data = Node(1.5)"
   ]
  },
  {
   "cell_type": "code",
   "execution_count": 5,
   "metadata": {},
   "outputs": [],
   "source": [
    "node = head\n",
    "\n",
    "# 반복을 제어할 변수\n",
    "search = True\n",
    "while search:\n",
    "    if node.data == 1:\n",
    "        search = False\n",
    "    else:\n",
    "        node = node.next\n",
    "        \n",
    "# node의 링크에 새롭게 추가한 노드의 주소를 담는다.\n",
    "node_next = node.next\n",
    "node.next = new_data\n",
    "# 새롭게 추가된 노드의 주소에 node.next의 주소를 담는다.\n",
    "new_data.next = node_next"
   ]
  },
  {
   "cell_type": "code",
   "execution_count": 6,
   "metadata": {},
   "outputs": [
    {
     "name": "stdout",
     "output_type": "stream",
     "text": [
      "1\n",
      "1.5\n",
      "2\n",
      "3\n",
      "4\n",
      "5\n",
      "6\n",
      "7\n",
      "8\n",
      "9\n"
     ]
    }
   ],
   "source": [
    "# 링크드 리스트 데이터 출력하기\n",
    "node = head\n",
    "while node.next:\n",
    "    print(node.data)\n",
    "    node = node.next\n",
    "    \n",
    "print(node.data)"
   ]
  },
  {
   "cell_type": "code",
   "execution_count": 7,
   "metadata": {},
   "outputs": [],
   "source": [
    "# 데이터클래스\n",
    "# 제어클래스 or 핸들러클래스"
   ]
  },
  {
   "cell_type": "code",
   "execution_count": 1,
   "metadata": {},
   "outputs": [],
   "source": [
    "class Node:\n",
    "    def __init__(self, data, link=None):\n",
    "        self.data = data\n",
    "        self.link = link"
   ]
  },
  {
   "cell_type": "code",
   "execution_count": 2,
   "metadata": {},
   "outputs": [],
   "source": [
    "class Handle:\n",
    "    # 생성자 메서드 : 노드를 생성하는 작업\n",
    "    def __init__(self, data):\n",
    "        self.head = Node(data)\n",
    "    \n",
    "    # 새로운 노드를 추가하는 작업\n",
    "    def add(self, data):\n",
    "        if self.head == '':\n",
    "            self.head = Node(data)\n",
    "        else:\n",
    "            node = self.head\n",
    "            while node.link:\n",
    "                node = node.link\n",
    "            node.link = Node(data)\n",
    "    \n",
    "    # 링크드리스트에 저장된 노드의 데이터를 출력하는 작업\n",
    "    def disp(self):\n",
    "        node = self.head\n",
    "        while node:\n",
    "            print(node.data)\n",
    "            node = node.link\n",
    "            \n",
    "    # 특정 노드를 제거하는 작업\n",
    "    def delete(self, data):\n",
    "        if self.head == None:\n",
    "            print(\"노드가 존재하지 않습니다.\")\n",
    "            return\n",
    "        \n",
    "        if self.head.data == data: # 하나의 노드만 가지고 있을 때\n",
    "            temp = self.head\n",
    "            self.head = self.head.link\n",
    "            del temp\n",
    "        else:\n",
    "            node = self.head\n",
    "            while node.link: # 마지막 노드까지 반복처리\n",
    "                # 마지막 노드는 link가 비어있음(None)\n",
    "                if node.link.data == data:\n",
    "                    temp = node.link\n",
    "                    node.link = node.link.link\n",
    "                    del temp\n",
    "                    return\n",
    "                else:\n",
    "                    node = node.link\n",
    "                \n",
    "    # 특정 노드를 찾아 리턴시켜주는 작업을 수행하는 함수\n",
    "    def search_node(self, data):\n",
    "        node = self.head\n",
    "        while node:\n",
    "            if node.data == data:\n",
    "                return node\n",
    "            else:\n",
    "                node = node.link  # 다음 노드로 이동하는 작업"
   ]
  },
  {
   "cell_type": "code",
   "execution_count": 28,
   "metadata": {},
   "outputs": [
    {
     "name": "stdout",
     "output_type": "stream",
     "text": [
      "0\n"
     ]
    }
   ],
   "source": [
    "linkedlist = Handle(0)\n",
    "linkedlist.disp()"
   ]
  },
  {
   "cell_type": "code",
   "execution_count": 11,
   "metadata": {},
   "outputs": [
    {
     "name": "stdout",
     "output_type": "stream",
     "text": [
      "0\n",
      "1\n",
      "2\n",
      "3\n",
      "4\n",
      "5\n",
      "6\n",
      "7\n",
      "8\n",
      "9\n"
     ]
    }
   ],
   "source": [
    "for data in range(1,10):\n",
    "    linkedlist.add(data)\n",
    "    \n",
    "linkedlist.disp()"
   ]
  },
  {
   "cell_type": "code",
   "execution_count": 8,
   "metadata": {},
   "outputs": [
    {
     "name": "stdout",
     "output_type": "stream",
     "text": [
      "0\n"
     ]
    }
   ],
   "source": [
    "# 특정 노드를 삭제하는 작업\n",
    "linkedlist1 = Handle(0)  # 0이라는 데이터를 가지고있는지 확인\n",
    "linkedlist1.disp()\n"
   ]
  },
  {
   "cell_type": "code",
   "execution_count": 7,
   "metadata": {},
   "outputs": [],
   "source": [
    "linkedlist1.delete(0)\n",
    "linkedlist1.disp()"
   ]
  },
  {
   "cell_type": "code",
   "execution_count": 26,
   "metadata": {},
   "outputs": [],
   "source": [
    "linkedlist1.head"
   ]
  },
  {
   "cell_type": "code",
   "execution_count": 9,
   "metadata": {},
   "outputs": [
    {
     "name": "stdout",
     "output_type": "stream",
     "text": [
      "0\n",
      "1\n",
      "2\n",
      "3\n",
      "4\n",
      "5\n",
      "6\n",
      "7\n",
      "8\n",
      "9\n"
     ]
    }
   ],
   "source": [
    "for data in range(1, 10):\n",
    "    linkedlist1.add(data)\n",
    "    \n",
    "linkedlist1.disp()"
   ]
  },
  {
   "cell_type": "code",
   "execution_count": 10,
   "metadata": {},
   "outputs": [],
   "source": [
    "linkedlist1.delete(9)"
   ]
  },
  {
   "cell_type": "code",
   "execution_count": 11,
   "metadata": {},
   "outputs": [],
   "source": [
    "linkedlist1.delete(4)"
   ]
  },
  {
   "cell_type": "code",
   "execution_count": 12,
   "metadata": {},
   "outputs": [
    {
     "name": "stdout",
     "output_type": "stream",
     "text": [
      "0\n",
      "1\n",
      "2\n",
      "3\n",
      "5\n",
      "6\n",
      "7\n",
      "8\n"
     ]
    }
   ],
   "source": [
    "linkedlist1.disp()"
   ]
  },
  {
   "cell_type": "code",
   "execution_count": 13,
   "metadata": {},
   "outputs": [],
   "source": [
    "linkedlist1.add(9)"
   ]
  },
  {
   "cell_type": "code",
   "execution_count": 14,
   "metadata": {},
   "outputs": [
    {
     "name": "stdout",
     "output_type": "stream",
     "text": [
      "0\n",
      "1\n",
      "2\n",
      "3\n",
      "5\n",
      "6\n",
      "7\n",
      "8\n",
      "9\n"
     ]
    }
   ],
   "source": [
    "linkedlist1.disp()"
   ]
  },
  {
   "cell_type": "code",
   "execution_count": 3,
   "metadata": {},
   "outputs": [
    {
     "name": "stdout",
     "output_type": "stream",
     "text": [
      "4\n"
     ]
    }
   ],
   "source": [
    "# 특정 데이터가 저장된 노드를 찾아 출력하는 작업을 수행하시오.\n",
    "find_node = Handle(0)\n",
    "for data in range(1, 10):\n",
    "    find_node.add(data)\n",
    "    \n",
    "#find_node.disp()\n",
    "node = find_node.search_node(4)\n",
    "print(node.data)"
   ]
  },
  {
   "cell_type": "markdown",
   "metadata": {},
   "source": [
    "### 6. 이중 연결 리스트(Double Linked List)\n",
    "- 하나의 노드에 두 개의 연결점을 가지고 있는 연결리스트\n",
    "- 양방향으로 탐색이 모두 가능하다."
   ]
  },
  {
   "cell_type": "code",
   "execution_count": 6,
   "metadata": {},
   "outputs": [],
   "source": [
    "class Node:\n",
    "    def __init__(self, data, prev=None, link=None):\n",
    "        self.data = data\n",
    "        self.prev = prev\n",
    "        self.link = link\n",
    "    \n",
    "class NodeMgmt:  # Node Management\n",
    "    def __init__(self, data):\n",
    "        self.head = Node(data)  \n",
    "        # head, tail\n",
    "        self.tail = self.head\n",
    "\n",
    "    # 노드를 추가하는 작업을 수행하는 메서드\n",
    "    def insert(self, data):\n",
    "        if self.head == None:    # 노드가 아무것도 없을 때\n",
    "            self.head = Node(data)  # 신규 노드 생성\n",
    "            self.tail = self.head\n",
    "        else:\n",
    "            node = self.head\n",
    "            # 마지막 노드의 위치를 찾아가는 작업\n",
    "            while node.link:\n",
    "                node = node.link\n",
    "            \n",
    "            new = Node(data)  # 추가할 노드의 객체변수\n",
    "            node.link = new\n",
    "            new.prev = node\n",
    "            self.tail = new\n",
    "            \n",
    "    # 노드를 출력하는 메서드\n",
    "    def disp(self):\n",
    "        node = self.head\n",
    "        while node:\n",
    "            print(node.data)\n",
    "            node = node.link   \n",
    "            \n",
    "    # head를 이용해서 특정 데이터를 찾는 작업\n",
    "    def search_from_head(self, data):\n",
    "        if self.head == None:\n",
    "            return False\n",
    "        \n",
    "        node = self.head\n",
    "        while node:\n",
    "            if node.data == data:\n",
    "                return node\n",
    "            else:\n",
    "                node = node.link\n",
    "        # 탐색하려는 데이터가 존재하지 않는 경우\n",
    "        return False\n",
    "            \n",
    "    # tail을 이용해서 특정 데이터를 찾는 작업\n",
    "    def search_from_tail(self, data):\n",
    "        if self.head == None:\n",
    "            return False\n",
    "        \n",
    "        node = self.tail\n",
    "        while node:\n",
    "            if node.data == data:\n",
    "                return node\n",
    "            else:\n",
    "                node = node.prev\n",
    "        return False\n",
    "    \n",
    "    # 특정 데이터의 앞에 노드를 삽입하는 작업\n",
    "    def insert_before(self, data, before_data):\n",
    "        if self.head == None:\n",
    "            self.head = Node(data)\n",
    "            return True\n",
    "        \n",
    "        else: # 노드가 1개뿐이면 head,tail이 비어있음\n",
    "            node = self.tail\n",
    "            \n",
    "            while node.data != before_data:\n",
    "                node = node.prev\n",
    "                if node == None:\n",
    "                    return False\n",
    "                \n",
    "            new = Node(data)\n",
    "            before_node = node.prev\n",
    "            \n",
    "            before_node.link = new\n",
    "            new.prev = before_node\n",
    "            \n",
    "            new.link = node\n",
    "            node.prev = new\n",
    "            return True\n",
    "            \n",
    "    def insert_after(self, data, after_data):\n",
    "        if self.head == None:\n",
    "            self.head = Node(data)\n",
    "            return True\n",
    "        \n",
    "        else: \n",
    "            node = self.head\n",
    "            \n",
    "            while node.data != after_data:\n",
    "                node = node.link\n",
    "                if node == None:\n",
    "                    return False\n",
    "                \n",
    "            new = Node(data)\n",
    "            \n",
    "            after_node = node.link\n",
    "            \n",
    "            after_node.prev = new # \n",
    "            new.link = after_node\n",
    "            \n",
    "            new.prev = node\n",
    "            node.link = new\n",
    "            \n",
    "            if new.link==None:\n",
    "                self.tail = new\n",
    "            \n",
    "            return True   "
   ]
  },
  {
   "cell_type": "code",
   "execution_count": 2,
   "metadata": {},
   "outputs": [
    {
     "name": "stdout",
     "output_type": "stream",
     "text": [
      "0\n"
     ]
    }
   ],
   "source": [
    "double_linkedlist = NodeMgmt(0)\n",
    "double_linkedlist.disp()"
   ]
  },
  {
   "cell_type": "code",
   "execution_count": 3,
   "metadata": {},
   "outputs": [
    {
     "name": "stdout",
     "output_type": "stream",
     "text": [
      "0\n",
      "1\n",
      "2\n",
      "3\n",
      "4\n",
      "5\n",
      "6\n",
      "7\n",
      "8\n",
      "9\n"
     ]
    }
   ],
   "source": [
    "for data in range(1,10):\n",
    "    double_linkedlist.insert(data)\n",
    "    \n",
    "double_linkedlist.disp()    "
   ]
  },
  {
   "cell_type": "code",
   "execution_count": 12,
   "metadata": {},
   "outputs": [
    {
     "name": "stdout",
     "output_type": "stream",
     "text": [
      "0\n",
      "1\n",
      "1.5\n",
      "2\n",
      "2.5\n",
      "2.5\n",
      "3\n",
      "4\n",
      "5\n",
      "6\n",
      "7\n",
      "8\n",
      "9\n"
     ]
    }
   ],
   "source": [
    "# 특정 데이터를 가지고 있는 노드 앞에 데이터를 추가하는 작업\n",
    "# 데이터 값이 2인 노드 앞에 1.5라는 데이터를 갖는 노드를 추가\n",
    "# 더블 링크드리스트의 tail\n",
    "double_linkedlist.insert_before(1.5, 2)\n",
    "double_linkedlist.disp()    "
   ]
  },
  {
   "cell_type": "code",
   "execution_count": 8,
   "metadata": {},
   "outputs": [
    {
     "name": "stdout",
     "output_type": "stream",
     "text": [
      "0\n",
      "1\n",
      "2\n",
      "2.5\n",
      "2.5\n",
      "3\n",
      "4\n",
      "5\n",
      "6\n",
      "7\n",
      "8\n",
      "9\n"
     ]
    }
   ],
   "source": [
    "double_linkedlist.insert_after(2.5, 2)\n",
    "double_linkedlist.disp()   "
   ]
  },
  {
   "cell_type": "code",
   "execution_count": 10,
   "metadata": {},
   "outputs": [
    {
     "ename": "AttributeError",
     "evalue": "'NoneType' object has no attribute 'prev'",
     "output_type": "error",
     "traceback": [
      "\u001b[1;31m---------------------------------------------------------------------------\u001b[0m",
      "\u001b[1;31mAttributeError\u001b[0m                            Traceback (most recent call last)",
      "\u001b[1;32m<ipython-input-10-f050fedd5110>\u001b[0m in \u001b[0;36m<module>\u001b[1;34m\u001b[0m\n\u001b[1;32m----> 1\u001b[1;33m \u001b[0mdouble_linkedlist\u001b[0m\u001b[1;33m.\u001b[0m\u001b[0minsert_after\u001b[0m\u001b[1;33m(\u001b[0m\u001b[1;36m9.5\u001b[0m\u001b[1;33m,\u001b[0m \u001b[1;36m9\u001b[0m\u001b[1;33m)\u001b[0m\u001b[1;33m\u001b[0m\u001b[1;33m\u001b[0m\u001b[0m\n\u001b[0m\u001b[0;32m      2\u001b[0m \u001b[0mdouble_linkedlist\u001b[0m\u001b[1;33m.\u001b[0m\u001b[0mdisp\u001b[0m\u001b[1;33m(\u001b[0m\u001b[1;33m)\u001b[0m\u001b[1;33m\u001b[0m\u001b[1;33m\u001b[0m\u001b[0m\n",
      "\u001b[1;32m<ipython-input-1-1447f8784f5e>\u001b[0m in \u001b[0;36minsert_after\u001b[1;34m(self, data, after_data)\u001b[0m\n\u001b[0;32m    102\u001b[0m             \u001b[0mafter_node\u001b[0m \u001b[1;33m=\u001b[0m \u001b[0mnode\u001b[0m\u001b[1;33m.\u001b[0m\u001b[0mlink\u001b[0m\u001b[1;33m\u001b[0m\u001b[1;33m\u001b[0m\u001b[0m\n\u001b[0;32m    103\u001b[0m \u001b[1;33m\u001b[0m\u001b[0m\n\u001b[1;32m--> 104\u001b[1;33m             \u001b[0mafter_node\u001b[0m\u001b[1;33m.\u001b[0m\u001b[0mprev\u001b[0m \u001b[1;33m=\u001b[0m \u001b[0mnew\u001b[0m  \u001b[1;31m#\u001b[0m\u001b[1;33m\u001b[0m\u001b[1;33m\u001b[0m\u001b[0m\n\u001b[0m\u001b[0;32m    105\u001b[0m             \u001b[0mnew\u001b[0m\u001b[1;33m.\u001b[0m\u001b[0mlink\u001b[0m \u001b[1;33m=\u001b[0m \u001b[0mafter_node\u001b[0m\u001b[1;33m\u001b[0m\u001b[1;33m\u001b[0m\u001b[0m\n\u001b[0;32m    106\u001b[0m \u001b[1;33m\u001b[0m\u001b[0m\n",
      "\u001b[1;31mAttributeError\u001b[0m: 'NoneType' object has no attribute 'prev'"
     ]
    }
   ],
   "source": [
    "double_linkedlist.insert_after(9.5, 9)\n",
    "double_linkedlist.disp()   "
   ]
  },
  {
   "cell_type": "code",
   "execution_count": null,
   "metadata": {},
   "outputs": [],
   "source": []
  }
 ],
 "metadata": {
  "kernelspec": {
   "display_name": "Python 3",
   "language": "python",
   "name": "python3"
  },
  "language_info": {
   "codemirror_mode": {
    "name": "ipython",
    "version": 3
   },
   "file_extension": ".py",
   "mimetype": "text/x-python",
   "name": "python",
   "nbconvert_exporter": "python",
   "pygments_lexer": "ipython3",
   "version": "3.7.3"
  }
 },
 "nbformat": 4,
 "nbformat_minor": 2
}
