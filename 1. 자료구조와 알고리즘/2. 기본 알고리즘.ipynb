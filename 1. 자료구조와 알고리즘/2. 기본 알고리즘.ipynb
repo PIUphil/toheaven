{
 "cells": [
  {
   "cell_type": "markdown",
   "metadata": {},
   "source": [
    "### 0. 소수(Prime Number)\n",
    "- 1과 자기 자신을 제외한 자연수로 나누어 떨어지지 않는 수"
   ]
  },
  {
   "cell_type": "code",
   "execution_count": 16,
   "metadata": {},
   "outputs": [
    {
     "name": "stdout",
     "output_type": "stream",
     "text": [
      "False\n",
      "True\n"
     ]
    }
   ],
   "source": [
    "# 하나의 정수를 입력받아 소수인지 판단하는 프로그램을 구현하시오.\n",
    "def is_prime_number(x):\n",
    "    # 젯수 : 1부터 x-1까지의 수로 나누는 작업\n",
    "    for i in range(2,x):\n",
    "        if x % i == 0:\n",
    "            #print(\"소수x\")\n",
    "            return False   # 소수가 아님\n",
    "    #print(\"소수o\") # 소수\n",
    "    return True\n",
    "\n",
    "print(is_prime_number(4))\n",
    "print(is_prime_number(7))"
   ]
  },
  {
   "cell_type": "code",
   "execution_count": 3,
   "metadata": {},
   "outputs": [
    {
     "name": "stdout",
     "output_type": "stream",
     "text": [
      "False\n",
      "True\n"
     ]
    }
   ],
   "source": [
    "# sqrt() : 제곱근\n",
    "import math\n",
    "\n",
    "def isprime(x):\n",
    "   \n",
    "    for i in range(2, int(math.sqrt(x)+1)):\n",
    "        if x % i == 0:\n",
    "            return False\n",
    "    return True\n",
    "\n",
    "# True - 소수o , False - 소수x\n",
    "print(isprime(4))\n",
    "print(isprime(7))"
   ]
  },
  {
   "cell_type": "code",
   "execution_count": 6,
   "metadata": {},
   "outputs": [
    {
     "name": "stdout",
     "output_type": "stream",
     "text": [
      "2, 3, 5, 7, 11, 13, 17, 19, 23, 29, 31, 37, 41, 43, 47, 53, 59, 61, 67, 71, 73, 79, 83, 89, 97, "
     ]
    }
   ],
   "source": [
    "for i in range(2, 101): \n",
    "    if isprime(i): \n",
    "        print(i, end=\", \")"
   ]
  },
  {
   "cell_type": "code",
   "execution_count": 18,
   "metadata": {},
   "outputs": [
    {
     "name": "stdout",
     "output_type": "stream",
     "text": [
      " 1~10 →  2,  3,  5,  7, \n",
      "11~20 → 11, 13, 17, 19, \n",
      "21~30 → 23, 29, \n",
      "31~40 → 31, 37, \n",
      "41~50 → 41, 43, 47, \n",
      "51~60 → 53, 59, \n",
      "61~70 → 61, 67, \n",
      "71~80 → 71, 73, 79, \n",
      "81~90 → 83, 89, \n",
      "91~100 → 97, \n",
      "\n",
      "소수 : 25 개\n"
     ]
    }
   ],
   "source": [
    "# 1~100사이의 자연수 중 소수에 해당하는 수를 찾아서 출력하는 프로그램\n",
    "cnt=0\n",
    "print(\" 1~10 → \", end =\"\")\n",
    "for i in range(2, 101):\n",
    "    if isprime(i):\n",
    "        print(\"{:2d}\".format(i), end=\", \")\n",
    "        cnt+=1\n",
    "    if i%10==0 and i<100:\n",
    "        print()\n",
    "        print(\"{}~{} → \".format(10*(i//10)+1, 10*(i//10)+10), end =\"\")\n",
    "print(\"\\n\")\n",
    "print(\"소수 :\", cnt,\"개\")"
   ]
  },
  {
   "cell_type": "code",
   "execution_count": 33,
   "metadata": {},
   "outputs": [
    {
     "name": "stdout",
     "output_type": "stream",
     "text": [
      "[5, 7, 9, 11, 11, 13, 13, 15, 17, 17, 17, 19, 19, 19, 21, 23, 23, 23, 25, 25, 25, 27, 29, 29, 29, 29]\n"
     ]
    }
   ],
   "source": [
    "# 1~100 사이의 자연수 중 소수에 해당하는 수를 찾아서 출력하는 프로그램\n",
    "import math\n",
    "\n",
    "def isPrime(data):\n",
    "    # 소수의 집합을 저장할 리스트 객체\n",
    "    prime = []\n",
    "    for x in range(len(data)):\n",
    "        for i in range(2, int(math.sqrt(data[x]))+1):\n",
    "            if data[x] % i == 0:\n",
    "                break\n",
    "            prime.append(data[x])\n",
    "    return prime\n",
    "\n",
    "print(isPrime(range(1,30)))"
   ]
  },
  {
   "cell_type": "markdown",
   "metadata": {},
   "source": [
    "### 1. 에라토스테네스의 체 알고리즘\n",
    "- 다수의 자연수에 대하여 소수 여부를 판별할 때 사용하는 대표적인 알고리즘\n",
    "- N보다 작거나 같은 모든 소수를 찾을 때 사용\n",
    "#### 동작방법\n",
    "1)　2부터 N까지의 모든 자연수를 나열한다.  \n",
    "2)　남은 수 중에서 아직 처리하지 않은 가장 작은 수(i)를 찾는다.  \n",
    "3)　남은 수 중에서 i의 배수를 모두 제거.  \n",
    "4)　더 이상 반복할 수 없을 때까지 2)와 3)의 과정을 반복한다"
   ]
  },
  {
   "cell_type": "code",
   "execution_count": 47,
   "metadata": {},
   "outputs": [
    {
     "name": "stdout",
     "output_type": "stream",
     "text": [
      "  2   3   5   7  11  13  17  19  23  29  31  37  41  43  47  53  59  61  67  71  73  79  83  89  97 \n",
      "101 103 107 109 113 127 131 137 139 149 151 157 163 167 173 179 181 191 193 197 199 \n",
      "211 223 227 229 233 239 241 251 257 263 269 271 277 281 283 293 \n",
      "307 311 313 317 331 337 347 349 353 359 367 373 379 383 389 397 \n",
      "401 409 419 421 431 433 439 443 449 457 461 463 467 479 487 491 499 \n",
      "503 509 521 523 541 547 557 563 569 571 577 587 593 599 \n",
      "601 607 613 617 619 631 641 643 647 653 659 661 673 677 683 691 \n",
      "701 709 719 727 733 739 743 751 757 761 769 773 787 797 \n",
      "809 811 821 823 827 829 839 853 857 859 863 877 881 883 887 \n",
      "907 911 919 929 937 941 947 953 967 971 977 983 991 997 \n"
     ]
    }
   ],
   "source": [
    "import math\n",
    "\n",
    "# data = [x for x in range(100+1)]\n",
    "n = 1000  # 2 ~ 1000까지의 모든 수를 대상으로 소수 판별\n",
    "\n",
    "# 모든 데이터를 처음에 다 소수(True)로 초기화하는 작업\n",
    "array = [True for i in range(n+1)]  \n",
    "\n",
    "# 에라토스테네스의 체 알고리즘 수행\n",
    "for i in range(2, int(math.sqrt(n))+1):\n",
    "    if array[i] == True:\n",
    "        # i를 제외한 i의 배수를 제거\n",
    "        j = 2\n",
    "        while i * j <= n:\n",
    "            array[i*j] = False\n",
    "            j += 1\n",
    "            \n",
    "# 소수를 출력\n",
    "for i in range(2, n+1):\n",
    "    if array[i]:\n",
    "        print(\"{:3d}\".format(i), end=\" \")\n",
    "    #if i%100==0: print()"
   ]
  }
 ],
 "metadata": {
  "kernelspec": {
   "display_name": "Python 3",
   "language": "python",
   "name": "python3"
  },
  "language_info": {
   "codemirror_mode": {
    "name": "ipython",
    "version": 3
   },
   "file_extension": ".py",
   "mimetype": "text/x-python",
   "name": "python",
   "nbconvert_exporter": "python",
   "pygments_lexer": "ipython3",
   "version": "3.7.3"
  }
 },
 "nbformat": 4,
 "nbformat_minor": 2
}
