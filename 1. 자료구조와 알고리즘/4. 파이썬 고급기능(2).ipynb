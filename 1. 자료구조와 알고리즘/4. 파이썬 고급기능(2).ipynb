{
 "cells": [
  {
   "cell_type": "markdown",
   "metadata": {},
   "source": [
    "### 0. 중첩함수 Nested Function\n",
    "- 함수 내부에 정의된 또 다른 함수\n",
    "- 중첩함수는 해당 함수가 정의된 함수 내에서 호출 및 반환 가능\n",
    "- 함수 안에 선언된 변수는 함수 안에서만 사용 가능"
   ]
  },
  {
   "cell_type": "code",
   "execution_count": 3,
   "metadata": {},
   "outputs": [],
   "source": [
    "def outer_func():\n",
    "    print(\"바깥쪽 함수 호출\")\n",
    "    \n",
    "    # 중첩 함수의 정의\n",
    "    def inner_func():\n",
    "        return \"안쪽 함수 호출\"\n",
    "    \n",
    "    # 중첩 함수 호출  - # 중첩함수는 함수 안에서 호출해야 한다.\n",
    "    print(inner_func())"
   ]
  },
  {
   "cell_type": "code",
   "execution_count": 4,
   "metadata": {},
   "outputs": [
    {
     "name": "stdout",
     "output_type": "stream",
     "text": [
      "바깥쪽 함수 호출\n",
      "안쪽 함수 호출\n"
     ]
    }
   ],
   "source": [
    "outer_func()"
   ]
  },
  {
   "cell_type": "code",
   "execution_count": 5,
   "metadata": {},
   "outputs": [
    {
     "ename": "NameError",
     "evalue": "name 'inner_func' is not defined",
     "output_type": "error",
     "traceback": [
      "\u001b[1;31m---------------------------------------------------------------------------\u001b[0m",
      "\u001b[1;31mNameError\u001b[0m                                 Traceback (most recent call last)",
      "\u001b[1;32m<ipython-input-5-1d4cd1e06103>\u001b[0m in \u001b[0;36m<module>\u001b[1;34m\u001b[0m\n\u001b[1;32m----> 1\u001b[1;33m \u001b[0minner_func\u001b[0m\u001b[1;33m(\u001b[0m\u001b[1;33m)\u001b[0m\u001b[1;33m\u001b[0m\u001b[1;33m\u001b[0m\u001b[0m\n\u001b[0m",
      "\u001b[1;31mNameError\u001b[0m: name 'inner_func' is not defined"
     ]
    }
   ],
   "source": [
    "# 중첩함수는 외부에서 호출이 불가능하다.\n",
    "inner_func()  # inner 함수 - 함수 안에서만 호출가능하다"
   ]
  },
  {
   "cell_type": "code",
   "execution_count": 8,
   "metadata": {},
   "outputs": [
    {
     "name": "stdout",
     "output_type": "stream",
     "text": [
      "10\n",
      "안쪽 함수 호출\n"
     ]
    }
   ],
   "source": [
    "def outer(num):\n",
    "    # 중첩 함수는 외부 함수의 변수에 접근 가능\n",
    "    def inner():\n",
    "        print(num)\n",
    "        return \"안쪽 함수 호출\"\n",
    "\n",
    "    return inner  # 변수처럼 보이지만 함수가 호출됨,,\n",
    "\n",
    "fn = outer(10)   # First-class function\n",
    "print(fn())      # Closure 호출"
   ]
  },
  {
   "cell_type": "markdown",
   "metadata": {},
   "source": [
    "### 1. First-class function\n",
    "- 함수 자체를 인자로 다른 함수에 전달\n",
    "- 다른 함수의 결과값으로 리턴을 받아냄\n",
    "- 함수를 변수에 할당할 수 있는 함수 　 # 파이썬은 모든걸 객체로 생각"
   ]
  },
  {
   "cell_type": "code",
   "execution_count": 9,
   "metadata": {},
   "outputs": [],
   "source": [
    "def calc(num):\n",
    "    return num * num"
   ]
  },
  {
   "cell_type": "code",
   "execution_count": 10,
   "metadata": {},
   "outputs": [
    {
     "data": {
      "text/plain": [
       "4"
      ]
     },
     "execution_count": 10,
     "metadata": {},
     "output_type": "execute_result"
    }
   ],
   "source": [
    "calc(2)"
   ]
  },
  {
   "cell_type": "code",
   "execution_count": 11,
   "metadata": {},
   "outputs": [
    {
     "name": "stdout",
     "output_type": "stream",
     "text": [
      "<function calc at 0x000001F7CCAFAC80>\n"
     ]
    }
   ],
   "source": [
    "# 파이썬은 모든 것을 객체로 간주한다.\n",
    "func1 = calc  # 함수가 할당된 변수도 동일하게 함수처럼 사용할 수 있다\n",
    "print(func1)  # calc의 주소가 나옴 - 함수처럼 사용 가능"
   ]
  },
  {
   "cell_type": "code",
   "execution_count": 12,
   "metadata": {},
   "outputs": [
    {
     "data": {
      "text/plain": [
       "4"
      ]
     },
     "execution_count": 12,
     "metadata": {},
     "output_type": "execute_result"
    }
   ],
   "source": [
    "func1(2)  # 이 주소에 매개변수 2를 넣어라"
   ]
  },
  {
   "cell_type": "code",
   "execution_count": 13,
   "metadata": {},
   "outputs": [
    {
     "name": "stdout",
     "output_type": "stream",
     "text": [
      "Hi\n"
     ]
    }
   ],
   "source": [
    "class MyClass:\n",
    "    def my_class(self):\n",
    "        print(\"Hi\")\n",
    "        pass\n",
    "    \n",
    "# 클래스에 인스턴스객체를 생성\n",
    "object = MyClass()\n",
    "#object.my_class()\n",
    "func = object.my_class    # closure함수,,,\n",
    "func()  # 함수가 할당이 된 변수도 함수처럼 사용가능"
   ]
  },
  {
   "cell_type": "code",
   "execution_count": 14,
   "metadata": {},
   "outputs": [],
   "source": [
    "# 함수를 다른 함수의 매개변수(인자)로 넣을 수 있다.\n",
    "def multiply(num):\n",
    "    return num * num\n",
    "\n",
    "def plus(num):\n",
    "    return num + num\n",
    "\n",
    "def quad(num):\n",
    "    return num * num * num * num"
   ]
  },
  {
   "cell_type": "code",
   "execution_count": 15,
   "metadata": {},
   "outputs": [],
   "source": [
    "def list_square(function, digit_list):\n",
    "    result = list()\n",
    "    for digit in digit_list:\n",
    "        result.append(function(digit))\n",
    "    print(result)"
   ]
  },
  {
   "cell_type": "code",
   "execution_count": 16,
   "metadata": {},
   "outputs": [],
   "source": [
    "num_list = [1, 2, 3, 4, 5]"
   ]
  },
  {
   "cell_type": "code",
   "execution_count": 17,
   "metadata": {},
   "outputs": [
    {
     "name": "stdout",
     "output_type": "stream",
     "text": [
      "[1, 4, 9, 16, 25]\n",
      "[2, 4, 6, 8, 10]\n",
      "[1, 16, 81, 256, 625]\n"
     ]
    }
   ],
   "source": [
    "list_square(multiply, num_list)\n",
    "list_square(plus, num_list)\n",
    "list_square(quad, num_list)"
   ]
  },
  {
   "cell_type": "code",
   "execution_count": 31,
   "metadata": {},
   "outputs": [],
   "source": [
    "# 함수의 결괏값으로 함수를 리턴할 수 있다.\n",
    "def logger(msg):\n",
    "    message = msg\n",
    "    \n",
    "    def msg_creator():\n",
    "        print(\"고급기능 : \", message)\n",
    "    \n",
    "    return msg_creator"
   ]
  },
  {
   "cell_type": "code",
   "execution_count": 32,
   "metadata": {},
   "outputs": [
    {
     "name": "stdout",
     "output_type": "stream",
     "text": [
      "<function logger.<locals>.msg_creator at 0x000001F7CCB192F0>\n"
     ]
    }
   ],
   "source": [
    "log = logger(\"Log -in\")\n",
    "print(log)"
   ]
  },
  {
   "cell_type": "code",
   "execution_count": 33,
   "metadata": {},
   "outputs": [
    {
     "name": "stdout",
     "output_type": "stream",
     "text": [
      "고급기능 :  Log -in\n"
     ]
    }
   ],
   "source": [
    "log()"
   ]
  },
  {
   "cell_type": "code",
   "execution_count": 34,
   "metadata": {},
   "outputs": [],
   "source": [
    "del logger"
   ]
  },
  {
   "cell_type": "code",
   "execution_count": 35,
   "metadata": {},
   "outputs": [
    {
     "name": "stdout",
     "output_type": "stream",
     "text": [
      "고급기능 :  Log -in\n"
     ]
    }
   ],
   "source": [
    "log()"
   ]
  },
  {
   "cell_type": "markdown",
   "metadata": {},
   "source": [
    "### 2. 데코레이터(Decorator)\n",
    "- 함수 앞·뒤에 기능을 추가해서 손쉽게 함수를 활용할 수 있는 기법\n",
    "- 이 때 사용하는 함수 Closure function 이다."
   ]
  },
  {
   "cell_type": "markdown",
   "metadata": {},
   "source": [
    "https://www.python.org/dev/peps/pep-0318\n",
    "데코레이터 다큐먼트"
   ]
  },
  {
   "cell_type": "code",
   "execution_count": null,
   "metadata": {},
   "outputs": [],
   "source": [
    "@decorator_func\n",
    "def function():\n",
    "    print(\"이게 데코레이터라고?\")"
   ]
  },
  {
   "cell_type": "code",
   "execution_count": 36,
   "metadata": {},
   "outputs": [],
   "source": [
    "# 꾸며주는 역할을 해주는 함수 만듦\n",
    "def trace(func): # 데코레이션 역할을 하는 함수 closure function\n",
    "                 # func 자리에 hello라는 함수가 들어감\n",
    "    def wrapper():\n",
    "        #__name__ 함수 이름 리턴\n",
    "        print(func.__name__, '함수시작')     # __  -> 파이썬 지정 예약어\n",
    "        func()\n",
    "        print(func.__name__, '함수 끝')\n",
    "    return wrapper  # 함수 안에 함수 있으면 리턴해줘야함\n",
    "\n",
    "\n",
    "@trace    # trace라는 함수로 꾸며서 함수 호출\n",
    "def hello():\n",
    "    print('hello')\n",
    "    \n",
    "@trace\n",
    "def world():\n",
    "    print(\"world\")"
   ]
  },
  {
   "cell_type": "code",
   "execution_count": 37,
   "metadata": {},
   "outputs": [
    {
     "name": "stdout",
     "output_type": "stream",
     "text": [
      "hello 함수시작\n",
      "hello\n",
      "hello 함수 끝\n"
     ]
    }
   ],
   "source": [
    "hello()"
   ]
  },
  {
   "cell_type": "code",
   "execution_count": 1,
   "metadata": {},
   "outputs": [
    {
     "name": "stdout",
     "output_type": "stream",
     "text": [
      "2021-04-15 09:03:15.003098\n",
      "Dave login\n",
      "2021-04-15 09:03:15.003098\n"
     ]
    }
   ],
   "source": [
    "# 데코레이터 작성하기\n",
    "import datetime\n",
    "\n",
    "def logger_login():\n",
    "    print(datetime.datetime.now())\n",
    "    print(\"Dave login\")\n",
    "    print(datetime.datetime.now())\n",
    "    \n",
    "logger_login()"
   ]
  },
  {
   "cell_type": "code",
   "execution_count": 4,
   "metadata": {},
   "outputs": [],
   "source": [
    "# 데코레이터 만들기\n",
    "def datetime_decorator(func):\n",
    "    def wrapper():\n",
    "        print(\"time \" + str(datetime.datetime.now()))\n",
    "        func()\n",
    "        print(\"time \" + str(datetime.datetime.now()))\n",
    "    return wrapper"
   ]
  },
  {
   "cell_type": "code",
   "execution_count": 5,
   "metadata": {},
   "outputs": [],
   "source": [
    "# 데코레이터 적용\n",
    "@datetime_decorator\n",
    "def logger_login_david():\n",
    "    print(\"David login\")\n",
    "    \n",
    "@datetime_decorator    \n",
    "def logger_login_anthony():\n",
    "    print(\"Anthony login\")\n",
    "    \n",
    "@datetime_decorator\n",
    "def logger_login_tina():\n",
    "    print(\"Tina login\")"
   ]
  },
  {
   "cell_type": "code",
   "execution_count": 7,
   "metadata": {},
   "outputs": [
    {
     "name": "stdout",
     "output_type": "stream",
     "text": [
      "time 2021-04-15 09:10:53.366529\n",
      "David login\n",
      "time 2021-04-15 09:10:53.366529\n"
     ]
    }
   ],
   "source": [
    "logger_login_david()"
   ]
  },
  {
   "cell_type": "code",
   "execution_count": 8,
   "metadata": {},
   "outputs": [
    {
     "name": "stdout",
     "output_type": "stream",
     "text": [
      "time 2021-04-15 09:10:53.514581\n",
      "Anthony login\n",
      "time 2021-04-15 09:10:53.514581\n"
     ]
    }
   ],
   "source": [
    "logger_login_anthony()"
   ]
  },
  {
   "cell_type": "code",
   "execution_count": 9,
   "metadata": {},
   "outputs": [
    {
     "name": "stdout",
     "output_type": "stream",
     "text": [
      "time 2021-04-15 09:10:53.639885\n",
      "Tina login\n",
      "time 2021-04-15 09:10:53.639885\n"
     ]
    }
   ],
   "source": [
    "logger_login_tina()"
   ]
  },
  {
   "cell_type": "code",
   "execution_count": 69,
   "metadata": {},
   "outputs": [],
   "source": [
    "# 여러 데코레이터 적용하기\n",
    "def decorator1(func):\n",
    "    def wrapper():\n",
    "        print(\"decorator1\")\n",
    "        func()\n",
    "    return wrapper\n",
    "\n",
    "def decorator2(func):\n",
    "    def wrapper():\n",
    "        print(\"decorator2\")\n",
    "        func()\n",
    "    return wrapper"
   ]
  },
  {
   "cell_type": "code",
   "execution_count": 16,
   "metadata": {},
   "outputs": [],
   "source": [
    "@decorator1\n",
    "@decorator2\n",
    "def hello():\n",
    "    print(\"Hello!\")"
   ]
  },
  {
   "cell_type": "code",
   "execution_count": 17,
   "metadata": {},
   "outputs": [
    {
     "name": "stdout",
     "output_type": "stream",
     "text": [
      "decorator1\n",
      "decorator2\n",
      "Hello!\n"
     ]
    }
   ],
   "source": [
    "hello()"
   ]
  },
  {
   "cell_type": "markdown",
   "metadata": {},
   "source": [
    "### 3. 이터레이터(Iterator) \n",
    "- 특수한 데이터 집합은 내부의 각 데이터로 분리해서 처리할 수 있다\n",
    "- list, set, dictionary 등의 컬렉션(collection) 객체\n",
    "- 문자열 : sequence 타입\n",
    "- iterable 객체 : iterator를 리털할 수 있는 객체\n",
    "- iterator : 순차적으로 다음 데이터를 접근할 수 있는 객체\n",
    "- next() : 다음 데이터를 반환\n",
    "- iter() : iterator 객체를 생성하는 함수"
   ]
  },
  {
   "cell_type": "code",
   "execution_count": 18,
   "metadata": {},
   "outputs": [
    {
     "name": "stdout",
     "output_type": "stream",
     "text": [
      "1\n",
      "2\n",
      "3\n",
      "4\n",
      "5\n"
     ]
    }
   ],
   "source": [
    "# 리스트 컬렉션  - 컬렉션 : 여러 개를 모아놓은 것\n",
    "for num in [1, 2, 3, 4, 5]:\n",
    "    print(num)"
   ]
  },
  {
   "cell_type": "code",
   "execution_count": 19,
   "metadata": {},
   "outputs": [
    {
     "name": "stdout",
     "output_type": "stream",
     "text": [
      "D\n",
      "a\n",
      "v\n",
      "e\n",
      " \n",
      "K\n",
      "i\n",
      "m\n"
     ]
    }
   ],
   "source": [
    "for char in \"Dave Kim\":\n",
    "    print(char)  # 개별변수"
   ]
  },
  {
   "cell_type": "code",
   "execution_count": 20,
   "metadata": {},
   "outputs": [
    {
     "data": {
      "text/plain": [
       "[1, 2, 3, 4, 5]"
      ]
     },
     "execution_count": 20,
     "metadata": {},
     "output_type": "execute_result"
    }
   ],
   "source": [
    "my_list = [1, 2, 3, 4, 5] # 포인터가 1(처음)을 가리키고 있음\n",
    "my_list"
   ]
  },
  {
   "cell_type": "code",
   "execution_count": 21,
   "metadata": {},
   "outputs": [
    {
     "ename": "TypeError",
     "evalue": "'list' object is not an iterator",
     "output_type": "error",
     "traceback": [
      "\u001b[1;31m---------------------------------------------------------------------------\u001b[0m",
      "\u001b[1;31mTypeError\u001b[0m                                 Traceback (most recent call last)",
      "\u001b[1;32m<ipython-input-21-644f0774e9c1>\u001b[0m in \u001b[0;36m<module>\u001b[1;34m\u001b[0m\n\u001b[1;32m----> 1\u001b[1;33m \u001b[0mprint\u001b[0m\u001b[1;33m(\u001b[0m\u001b[0mnext\u001b[0m\u001b[1;33m(\u001b[0m\u001b[0mmy_list\u001b[0m\u001b[1;33m)\u001b[0m\u001b[1;33m)\u001b[0m  \u001b[1;31m# 이터레이터 객체가 아니라 next 쓸 수 없음\u001b[0m\u001b[1;33m\u001b[0m\u001b[1;33m\u001b[0m\u001b[0m\n\u001b[0m",
      "\u001b[1;31mTypeError\u001b[0m: 'list' object is not an iterator"
     ]
    }
   ],
   "source": [
    "print(next(my_list))  # 이터레이터 객체가 아니라 next 쓸 수 없음"
   ]
  },
  {
   "cell_type": "code",
   "execution_count": 22,
   "metadata": {},
   "outputs": [],
   "source": [
    "my_list_iterator = iter(my_list) # iter라는 메서드 안에 my_list를 담음"
   ]
  },
  {
   "cell_type": "code",
   "execution_count": 24,
   "metadata": {},
   "outputs": [
    {
     "name": "stdout",
     "output_type": "stream",
     "text": [
      "1\n"
     ]
    }
   ],
   "source": [
    "print(next(my_list_iterator)) # next - iterator 내부에서 순환할때 사용"
   ]
  },
  {
   "cell_type": "code",
   "execution_count": 25,
   "metadata": {},
   "outputs": [
    {
     "name": "stdout",
     "output_type": "stream",
     "text": [
      "2\n"
     ]
    }
   ],
   "source": [
    "print(next(my_list_iterator))"
   ]
  },
  {
   "cell_type": "code",
   "execution_count": 26,
   "metadata": {},
   "outputs": [
    {
     "name": "stdout",
     "output_type": "stream",
     "text": [
      "3\n"
     ]
    }
   ],
   "source": [
    "print(next(my_list_iterator))"
   ]
  },
  {
   "cell_type": "code",
   "execution_count": 27,
   "metadata": {},
   "outputs": [
    {
     "name": "stdout",
     "output_type": "stream",
     "text": [
      "4\n",
      "5\n"
     ]
    },
    {
     "ename": "StopIteration",
     "evalue": "",
     "output_type": "error",
     "traceback": [
      "\u001b[1;31m---------------------------------------------------------------------------\u001b[0m",
      "\u001b[1;31mStopIteration\u001b[0m                             Traceback (most recent call last)",
      "\u001b[1;32m<ipython-input-27-2d278dc1c434>\u001b[0m in \u001b[0;36m<module>\u001b[1;34m\u001b[0m\n\u001b[0;32m      1\u001b[0m \u001b[0mprint\u001b[0m\u001b[1;33m(\u001b[0m\u001b[0mnext\u001b[0m\u001b[1;33m(\u001b[0m\u001b[0mmy_list_iterator\u001b[0m\u001b[1;33m)\u001b[0m\u001b[1;33m)\u001b[0m\u001b[1;33m\u001b[0m\u001b[1;33m\u001b[0m\u001b[0m\n\u001b[0;32m      2\u001b[0m \u001b[0mprint\u001b[0m\u001b[1;33m(\u001b[0m\u001b[0mnext\u001b[0m\u001b[1;33m(\u001b[0m\u001b[0mmy_list_iterator\u001b[0m\u001b[1;33m)\u001b[0m\u001b[1;33m)\u001b[0m\u001b[1;33m\u001b[0m\u001b[1;33m\u001b[0m\u001b[0m\n\u001b[1;32m----> 3\u001b[1;33m \u001b[0mprint\u001b[0m\u001b[1;33m(\u001b[0m\u001b[0mnext\u001b[0m\u001b[1;33m(\u001b[0m\u001b[0mmy_list_iterator\u001b[0m\u001b[1;33m)\u001b[0m\u001b[1;33m)\u001b[0m\u001b[1;33m\u001b[0m\u001b[1;33m\u001b[0m\u001b[0m\n\u001b[0m",
      "\u001b[1;31mStopIteration\u001b[0m: "
     ]
    }
   ],
   "source": [
    "print(next(my_list_iterator))  # 4\n",
    "print(next(my_list_iterator))  # 5\n",
    "print(next(my_list_iterator))  # 더이상 순환이 안됨.. 데이터없음"
   ]
  },
  {
   "cell_type": "code",
   "execution_count": 54,
   "metadata": {},
   "outputs": [],
   "source": [
    "# iterable 객체 : iter() 메서드를 가지고 있는 클래스\n",
    "# iter() : iterator 객체를 반환해주는 메서드\n",
    "class Counter:\n",
    "    def __init__(self, stop):\n",
    "        self.stop = stop\n",
    "    \n",
    "    def __iter__(self):\n",
    "        return Counter_Iterator(self.stop)\n",
    "\n",
    "# iterator 객체 : next() 메서드를 가지고 있는 클래스\n",
    "class Counter_Iterator:\n",
    "    def __init__(self, stop):\n",
    "        self.current = 0   # 현재 상태를 확인하기 위한 변수\n",
    "        self.stop = stop\n",
    "    \n",
    "    def __next__(self):  # iterator는 next메서드를 이용해서 접근하기때문에 꼭 있어야함\n",
    "        if self.current < self.stop:\n",
    "            return_value = self.current\n",
    "            self.current += 1\n",
    "            return return_value\n",
    "        else:\n",
    "            # 예외발생  - 강제로 예외 발생시킴(raise)\n",
    "            raise StopIteration"
   ]
  },
  {
   "cell_type": "code",
   "execution_count": 55,
   "metadata": {},
   "outputs": [],
   "source": [
    "counter_iterator = iter(Counter(5))  # 0~4개의 데이터가 만들어짐,,"
   ]
  },
  {
   "cell_type": "code",
   "execution_count": 56,
   "metadata": {},
   "outputs": [
    {
     "name": "stdout",
     "output_type": "stream",
     "text": [
      "0\n",
      "1\n",
      "2\n",
      "3\n",
      "4\n"
     ]
    },
    {
     "ename": "StopIteration",
     "evalue": "",
     "output_type": "error",
     "traceback": [
      "\u001b[1;31m---------------------------------------------------------------------------\u001b[0m",
      "\u001b[1;31mStopIteration\u001b[0m                             Traceback (most recent call last)",
      "\u001b[1;32m<ipython-input-56-03c0014576d7>\u001b[0m in \u001b[0;36m<module>\u001b[1;34m\u001b[0m\n\u001b[0;32m      4\u001b[0m \u001b[0mprint\u001b[0m\u001b[1;33m(\u001b[0m\u001b[0mnext\u001b[0m\u001b[1;33m(\u001b[0m\u001b[0mcounter_iterator\u001b[0m\u001b[1;33m)\u001b[0m\u001b[1;33m)\u001b[0m\u001b[1;33m\u001b[0m\u001b[1;33m\u001b[0m\u001b[0m\n\u001b[0;32m      5\u001b[0m \u001b[0mprint\u001b[0m\u001b[1;33m(\u001b[0m\u001b[0mnext\u001b[0m\u001b[1;33m(\u001b[0m\u001b[0mcounter_iterator\u001b[0m\u001b[1;33m)\u001b[0m\u001b[1;33m)\u001b[0m\u001b[1;33m\u001b[0m\u001b[1;33m\u001b[0m\u001b[0m\n\u001b[1;32m----> 6\u001b[1;33m \u001b[0mprint\u001b[0m\u001b[1;33m(\u001b[0m\u001b[0mnext\u001b[0m\u001b[1;33m(\u001b[0m\u001b[0mcounter_iterator\u001b[0m\u001b[1;33m)\u001b[0m\u001b[1;33m)\u001b[0m\u001b[1;33m\u001b[0m\u001b[1;33m\u001b[0m\u001b[0m\n\u001b[0m",
      "\u001b[1;32m<ipython-input-54-105b95d0fd54>\u001b[0m in \u001b[0;36m__next__\u001b[1;34m(self)\u001b[0m\n\u001b[0;32m     21\u001b[0m         \u001b[1;32melse\u001b[0m\u001b[1;33m:\u001b[0m\u001b[1;33m\u001b[0m\u001b[1;33m\u001b[0m\u001b[0m\n\u001b[0;32m     22\u001b[0m             \u001b[1;31m# 예외발생  - 강제로 예외 발생시킴(raise)\u001b[0m\u001b[1;33m\u001b[0m\u001b[1;33m\u001b[0m\u001b[1;33m\u001b[0m\u001b[0m\n\u001b[1;32m---> 23\u001b[1;33m             \u001b[1;32mraise\u001b[0m \u001b[0mStopIteration\u001b[0m\u001b[1;33m\u001b[0m\u001b[1;33m\u001b[0m\u001b[0m\n\u001b[0m",
      "\u001b[1;31mStopIteration\u001b[0m: "
     ]
    }
   ],
   "source": [
    "print(next(counter_iterator))\n",
    "print(next(counter_iterator))\n",
    "print(next(counter_iterator))\n",
    "print(next(counter_iterator))\n",
    "print(next(counter_iterator))\n",
    "print(next(counter_iterator))"
   ]
  },
  {
   "cell_type": "markdown",
   "metadata": {},
   "source": [
    "### 4. 파이썬 Comprehension (리스트내포)\n",
    "- list Comprehension : [ 출력값(출력표현식) for 출력값(개별요소) in  집합변수 if 조건식 ]   \n",
    "- \"리스트 안에 표현식을 담고있는\"\n",
    "- ':' 은 생략가능, 조건식을 구분하기위해 앞뒤로 대괄호 넣어도 됨"
   ]
  },
  {
   "cell_type": "code",
   "execution_count": 58,
   "metadata": {},
   "outputs": [],
   "source": [
    "# 예 : 다양한 타입에 자료를 담고있는 리스트에서 정수만 가지고 있는 리스트\n",
    "dataset = [4, True, 'Dave', 2.1, 3, 'hello', 2]\n",
    "# type(객체) : 객체의 자료형 반환 -> 리스트내포로 쉽게 분류가능(?)"
   ]
  },
  {
   "cell_type": "code",
   "execution_count": 59,
   "metadata": {},
   "outputs": [
    {
     "data": {
      "text/plain": [
       "[4, 3, 2]"
      ]
     },
     "execution_count": 59,
     "metadata": {},
     "output_type": "execute_result"
    }
   ],
   "source": [
    "int_data = []  # or int_data = list()\n",
    "for i in dataset:\n",
    "    if type(i)==int: \n",
    "        int_data.append(i)\n",
    "\n",
    "int_data"
   ]
  },
  {
   "cell_type": "code",
   "execution_count": 62,
   "metadata": {},
   "outputs": [
    {
     "data": {
      "text/plain": [
       "[4, 3, 2]"
      ]
     },
     "execution_count": 62,
     "metadata": {},
     "output_type": "execute_result"
    }
   ],
   "source": [
    "int_data = [i for i in dataset if type(i)==int]\n",
    "int_data  # 코딩을 간결화 시켜줄 수 있다 - 데이터 분석에서 사용"
   ]
  },
  {
   "cell_type": "code",
   "execution_count": 64,
   "metadata": {},
   "outputs": [
    {
     "data": {
      "text/plain": [
       "[16, 9, 4]"
      ]
     },
     "execution_count": 64,
     "metadata": {},
     "output_type": "execute_result"
    }
   ],
   "source": [
    "int_data = []\n",
    "for i in dataset:\n",
    "    if type(i)==int: \n",
    "        value = i * i\n",
    "        int_data.append(value)\n",
    "\n",
    "int_data"
   ]
  },
  {
   "cell_type": "code",
   "execution_count": 66,
   "metadata": {},
   "outputs": [
    {
     "data": {
      "text/plain": [
       "[16, 9, 4]"
      ]
     },
     "execution_count": 66,
     "metadata": {},
     "output_type": "execute_result"
    }
   ],
   "source": [
    "int_multi_data = [i*i for i in dataset if type(i)==int]\n",
    "int_multi_data"
   ]
  },
  {
   "cell_type": "markdown",
   "metadata": {},
   "source": [
    "#### 2. Set Comprehension\n",
    "- {출력값 for 출력값 in 집합변수 [ if 조건식 ] }"
   ]
  },
  {
   "cell_type": "code",
   "execution_count": 75,
   "metadata": {},
   "outputs": [],
   "source": [
    "int_data = [1, 1, 2, 3, 3, 4]"
   ]
  },
  {
   "cell_type": "code",
   "execution_count": 79,
   "metadata": {},
   "outputs": [
    {
     "data": {
      "text/plain": [
       "{1, 4, 9, 16}"
      ]
     },
     "execution_count": 79,
     "metadata": {},
     "output_type": "execute_result"
    }
   ],
   "source": [
    "set_data = {i*i for i in int_data}\n",
    "set_data"
   ]
  },
  {
   "cell_type": "code",
   "execution_count": 84,
   "metadata": {},
   "outputs": [
    {
     "data": {
      "text/plain": [
       "{9, 16}"
      ]
     },
     "execution_count": 84,
     "metadata": {},
     "output_type": "execute_result"
    }
   ],
   "source": [
    "# 3보다 크거나 같은 데이터를 곱한 결과를\n",
    "# set에 담아 출력하는 작업\n",
    "calc_setData = {i*i for i in int_data if i >= 3}\n",
    "calc_setData"
   ]
  },
  {
   "cell_type": "markdown",
   "metadata": {},
   "source": [
    "#### 3. Dictionary Comprehension\n",
    "- {key : value for 개별변수 in 집합변수 if 조건식}"
   ]
  },
  {
   "cell_type": "code",
   "execution_count": 96,
   "metadata": {},
   "outputs": [],
   "source": [
    "id_name = {1:'Dave', 2:'David', 3:'Anthony'}"
   ]
  },
  {
   "cell_type": "code",
   "execution_count": 86,
   "metadata": {},
   "outputs": [
    {
     "data": {
      "text/plain": [
       "dict_items([(1, 'Dave'), (2, 'David'), (3, 'Anthony')])"
      ]
     },
     "execution_count": 86,
     "metadata": {},
     "output_type": "execute_result"
    }
   ],
   "source": [
    "id_name.items()"
   ]
  },
  {
   "cell_type": "code",
   "execution_count": 98,
   "metadata": {},
   "outputs": [
    {
     "data": {
      "text/plain": [
       "{'David': 2, 'Anthony': 3}"
      ]
     },
     "execution_count": 98,
     "metadata": {},
     "output_type": "execute_result"
    }
   ],
   "source": [
    "# 아이디가 1 초과인 데이터의 '이름:아이디'형식으로 새로운 데이터를 생성\n",
    "name_id = {val:key for key,val in id_name.items() if key > 1}\n",
    "name_id"
   ]
  },
  {
   "cell_type": "code",
   "execution_count": 97,
   "metadata": {},
   "outputs": [
    {
     "data": {
      "text/plain": [
       "{10: 'Dave', 20: 'David', 30: 'Anthony'}"
      ]
     },
     "execution_count": 97,
     "metadata": {},
     "output_type": "execute_result"
    }
   ],
   "source": [
    "# id_name의 key값을 한번에 10단위로 변환하는 작업\n",
    "id_name = {key*10:val for key,val in id_name.items()}\n",
    "id_name"
   ]
  }
 ],
 "metadata": {
  "kernelspec": {
   "display_name": "Python 3",
   "language": "python",
   "name": "python3"
  },
  "language_info": {
   "codemirror_mode": {
    "name": "ipython",
    "version": 3
   },
   "file_extension": ".py",
   "mimetype": "text/x-python",
   "name": "python",
   "nbconvert_exporter": "python",
   "pygments_lexer": "ipython3",
   "version": "3.7.3"
  }
 },
 "nbformat": 4,
 "nbformat_minor": 2
}
