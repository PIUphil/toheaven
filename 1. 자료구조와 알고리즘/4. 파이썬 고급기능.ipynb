{
 "cells": [
  {
   "cell_type": "markdown",
   "metadata": {},
   "source": [
    "### 0. 중첩함수 Nested Function\n",
    "- 함수 내부에 정의된 또 다른 함수\n",
    "- 중첩함수는 해당 함수가 정의된 함수 내에서 호출 및 반환 가능\n",
    "- 함수 안에 선언된 변수는 함수 안에서만 사용 가능"
   ]
  },
  {
   "cell_type": "code",
   "execution_count": 3,
   "metadata": {},
   "outputs": [],
   "source": [
    "def outer_func():\n",
    "    print(\"바깥쪽 함수 호출\")\n",
    "    \n",
    "    # 중첩 함수의 정의\n",
    "    def inner_func():\n",
    "        return \"안쪽 함수 호출\"\n",
    "    \n",
    "    # 중첩 함수 호출  - # 중첩함수는 함수 안에서 호출해야 한다.\n",
    "    print(inner_func())"
   ]
  },
  {
   "cell_type": "code",
   "execution_count": 4,
   "metadata": {},
   "outputs": [
    {
     "name": "stdout",
     "output_type": "stream",
     "text": [
      "바깥쪽 함수 호출\n",
      "안쪽 함수 호출\n"
     ]
    }
   ],
   "source": [
    "outer_func()"
   ]
  },
  {
   "cell_type": "code",
   "execution_count": 5,
   "metadata": {},
   "outputs": [
    {
     "ename": "NameError",
     "evalue": "name 'inner_func' is not defined",
     "output_type": "error",
     "traceback": [
      "\u001b[1;31m---------------------------------------------------------------------------\u001b[0m",
      "\u001b[1;31mNameError\u001b[0m                                 Traceback (most recent call last)",
      "\u001b[1;32m<ipython-input-5-1d4cd1e06103>\u001b[0m in \u001b[0;36m<module>\u001b[1;34m\u001b[0m\n\u001b[1;32m----> 1\u001b[1;33m \u001b[0minner_func\u001b[0m\u001b[1;33m(\u001b[0m\u001b[1;33m)\u001b[0m\u001b[1;33m\u001b[0m\u001b[1;33m\u001b[0m\u001b[0m\n\u001b[0m",
      "\u001b[1;31mNameError\u001b[0m: name 'inner_func' is not defined"
     ]
    }
   ],
   "source": [
    "# 중첩함수는 외부에서 호출이 불가능하다.\n",
    "inner_func()  # inner 함수 - 함수 안에서만 호출가능하다"
   ]
  },
  {
   "cell_type": "code",
   "execution_count": 8,
   "metadata": {},
   "outputs": [
    {
     "name": "stdout",
     "output_type": "stream",
     "text": [
      "10\n",
      "안쪽 함수 호출\n"
     ]
    }
   ],
   "source": [
    "def outer(num):\n",
    "    # 중첩 함수는 외부 함수의 변수에 접근 가능\n",
    "    def inner():\n",
    "        print(num)\n",
    "        return \"안쪽 함수 호출\"\n",
    "\n",
    "    return inner  # 변수처럼 보이지만 함수가 호출됨,,\n",
    "\n",
    "fn = outer(10)   # First-class function\n",
    "print(fn())      # Closure 호출"
   ]
  },
  {
   "cell_type": "markdown",
   "metadata": {},
   "source": [
    "### 1. First-class function\n",
    "- 함수 자체를 인자로 다른 함수에 전달\n",
    "- 다른 함수의 결과값으로 리턴을 받아냄\n",
    "- 함수를 변수에 할당할 수 있는 함수 　 # 파이썬은 모든걸 객체로 생각"
   ]
  },
  {
   "cell_type": "code",
   "execution_count": 9,
   "metadata": {},
   "outputs": [],
   "source": [
    "def calc(num):\n",
    "    return num * num"
   ]
  },
  {
   "cell_type": "code",
   "execution_count": 10,
   "metadata": {},
   "outputs": [
    {
     "data": {
      "text/plain": [
       "4"
      ]
     },
     "execution_count": 10,
     "metadata": {},
     "output_type": "execute_result"
    }
   ],
   "source": [
    "calc(2)"
   ]
  },
  {
   "cell_type": "code",
   "execution_count": 11,
   "metadata": {},
   "outputs": [
    {
     "name": "stdout",
     "output_type": "stream",
     "text": [
      "<function calc at 0x000001F7CCAFAC80>\n"
     ]
    }
   ],
   "source": [
    "# 파이썬은 모든 것을 객체로 간주한다.\n",
    "func1 = calc  # 함수가 할당된 변수도 동일하게 함수처럼 사용할 수 있다\n",
    "print(func1)  # calc의 주소가 나옴 - 함수처럼 사용 가능"
   ]
  },
  {
   "cell_type": "code",
   "execution_count": 12,
   "metadata": {},
   "outputs": [
    {
     "data": {
      "text/plain": [
       "4"
      ]
     },
     "execution_count": 12,
     "metadata": {},
     "output_type": "execute_result"
    }
   ],
   "source": [
    "func1(2)  # 이 주소에 매개변수 2를 넣어라"
   ]
  },
  {
   "cell_type": "code",
   "execution_count": 13,
   "metadata": {},
   "outputs": [
    {
     "name": "stdout",
     "output_type": "stream",
     "text": [
      "Hi\n"
     ]
    }
   ],
   "source": [
    "class MyClass:\n",
    "    def my_class(self):\n",
    "        print(\"Hi\")\n",
    "        pass\n",
    "    \n",
    "# 클래스에 인스턴스객체를 생성\n",
    "object = MyClass()\n",
    "#object.my_class()\n",
    "func = object.my_class    # closure함수,,,\n",
    "func()  # 함수가 할당이 된 변수도 함수처럼 사용가능"
   ]
  },
  {
   "cell_type": "code",
   "execution_count": 14,
   "metadata": {},
   "outputs": [],
   "source": [
    "# 함수를 다른 함수의 매개변수(인자)로 넣을 수 있다.\n",
    "def multiply(num):\n",
    "    return num * num\n",
    "\n",
    "def plus(num):\n",
    "    return num + num\n",
    "\n",
    "def quad(num):\n",
    "    return num * num * num * num"
   ]
  },
  {
   "cell_type": "code",
   "execution_count": 15,
   "metadata": {},
   "outputs": [],
   "source": [
    "def list_square(function, digit_list):\n",
    "    result = list()\n",
    "    for digit in digit_list:\n",
    "        result.append(function(digit))\n",
    "    print(result)"
   ]
  },
  {
   "cell_type": "code",
   "execution_count": 16,
   "metadata": {},
   "outputs": [],
   "source": [
    "num_list = [1, 2, 3, 4, 5]"
   ]
  },
  {
   "cell_type": "code",
   "execution_count": 17,
   "metadata": {},
   "outputs": [
    {
     "name": "stdout",
     "output_type": "stream",
     "text": [
      "[1, 4, 9, 16, 25]\n",
      "[2, 4, 6, 8, 10]\n",
      "[1, 16, 81, 256, 625]\n"
     ]
    }
   ],
   "source": [
    "list_square(multiply, num_list)\n",
    "list_square(plus, num_list)\n",
    "list_square(quad, num_list)"
   ]
  },
  {
   "cell_type": "code",
   "execution_count": 31,
   "metadata": {},
   "outputs": [],
   "source": [
    "# 함수의 결괏값으로 함수를 리턴할 수 있다.\n",
    "def logger(msg):\n",
    "    message = msg\n",
    "    \n",
    "    def msg_creator():\n",
    "        print(\"고급기능 : \", message)\n",
    "    \n",
    "    return msg_creator"
   ]
  },
  {
   "cell_type": "code",
   "execution_count": 32,
   "metadata": {},
   "outputs": [
    {
     "name": "stdout",
     "output_type": "stream",
     "text": [
      "<function logger.<locals>.msg_creator at 0x000001F7CCB192F0>\n"
     ]
    }
   ],
   "source": [
    "log = logger(\"Log -in\")\n",
    "print(log)"
   ]
  },
  {
   "cell_type": "code",
   "execution_count": 33,
   "metadata": {},
   "outputs": [
    {
     "name": "stdout",
     "output_type": "stream",
     "text": [
      "고급기능 :  Log -in\n"
     ]
    }
   ],
   "source": [
    "log()"
   ]
  },
  {
   "cell_type": "code",
   "execution_count": 34,
   "metadata": {},
   "outputs": [],
   "source": [
    "del logger"
   ]
  },
  {
   "cell_type": "code",
   "execution_count": 35,
   "metadata": {},
   "outputs": [
    {
     "name": "stdout",
     "output_type": "stream",
     "text": [
      "고급기능 :  Log -in\n"
     ]
    }
   ],
   "source": [
    "log()"
   ]
  },
  {
   "cell_type": "markdown",
   "metadata": {},
   "source": [
    "### 2. 데코레이터(Decorator)\n",
    "- 함수 앞·뒤에 기능을 추가해서 손쉽게 함수를 활용할 수 있는 기법\n",
    "- 이 때 사용하는 함수 Closure function 이다."
   ]
  },
  {
   "cell_type": "markdown",
   "metadata": {},
   "source": [
    "https://www.python.org/dev/peps/pep-0318\n",
    "데코레이터 다큐먼트"
   ]
  },
  {
   "cell_type": "code",
   "execution_count": null,
   "metadata": {},
   "outputs": [],
   "source": [
    "@decorator_func\n",
    "def function():\n",
    "    print(\"이게 데코레이터라고?\")"
   ]
  },
  {
   "cell_type": "code",
   "execution_count": 36,
   "metadata": {},
   "outputs": [],
   "source": [
    "# 꾸며주는 역할을 해주는 함수 만듦\n",
    "def trace(func): # 데코레이션 역할을 하는 함수 closure function\n",
    "                 # func 자리에 hello라는 함수가 들어감\n",
    "    def wrapper():\n",
    "        #__name__ 함수 이름 리턴\n",
    "        print(func.__name__, '함수시작')     # __  -> 파이썬 지정 예약어\n",
    "        func()\n",
    "        print(func.__name__, '함수 끝')\n",
    "    return wrapper  # 함수 안에 함수 있으면 리턴해줘야함\n",
    "\n",
    "\n",
    "@trace    # trace라는 함수로 꾸며서 함수 호출\n",
    "def hello():\n",
    "    print('hello')\n",
    "    \n",
    "@trace\n",
    "def world():\n",
    "    print(\"world\")"
   ]
  },
  {
   "cell_type": "code",
   "execution_count": 37,
   "metadata": {},
   "outputs": [
    {
     "name": "stdout",
     "output_type": "stream",
     "text": [
      "hello 함수시작\n",
      "hello\n",
      "hello 함수 끝\n"
     ]
    }
   ],
   "source": [
    "hello()"
   ]
  },
  {
   "cell_type": "code",
   "execution_count": null,
   "metadata": {},
   "outputs": [],
   "source": []
  }
 ],
 "metadata": {
  "kernelspec": {
   "display_name": "Python 3",
   "language": "python",
   "name": "python3"
  },
  "language_info": {
   "codemirror_mode": {
    "name": "ipython",
    "version": 3
   },
   "file_extension": ".py",
   "mimetype": "text/x-python",
   "name": "python",
   "nbconvert_exporter": "python",
   "pygments_lexer": "ipython3",
   "version": "3.7.3"
  }
 },
 "nbformat": 4,
 "nbformat_minor": 2
}
