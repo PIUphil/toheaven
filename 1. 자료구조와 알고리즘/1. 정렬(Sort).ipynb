{
 "cells": [
  {
   "cell_type": "markdown",
   "metadata": {},
   "source": [
    "### 0. 정렬(Sorting)\n",
    "- 어떤 데이터가 주어졌을 때 이를 순서대로 나열하는 것\n",
    "- 정렬은 프로그램 작성시 빈번하게 사용됨\n",
    "- 다양한 알고리즘이 고안되었으며, 알고리즘 학습에 필수"
   ]
  },
  {
   "cell_type": "markdown",
   "metadata": {},
   "source": [
    "### 1. 선택정렬(Selection Sort)\n",
    "- 하나의 키값을 선택한 후 나머지 값들과 순차적으로 비교하는 정렬"
   ]
  },
  {
   "cell_type": "markdown",
   "metadata": {},
   "source": [
    "## 선택정렬(Selection Sort)\n",
    "- 주어진 데이터의 첫번째 값을 선택한 후 나머지 데이터와 비교하여 자리를 바꾸는 정렬"
   ]
  },
  {
   "cell_type": "code",
   "execution_count": 4,
   "metadata": {},
   "outputs": [],
   "source": [
    "#####\n",
    "def selection_sort(data):    \n",
    "    # 선택된 데이터\n",
    "    for index in range(len(data)-1):  # pass의 기준이 되는 점. [0]~[-1]까지 진행\n",
    "        #print(index)\n",
    "        lower = index\n",
    "        \n",
    "        # 선택된 데이터를 제외한 나머지 비교대상인 데이터들\n",
    "        for index2 in range(index+1, len(data)):\n",
    "            if data[lower] > data[index2]:\n",
    "                lower = index2\n",
    "                \n",
    "        data[index], data[lower] = data[lower], data[index]                \n",
    "        #print(data)            \n",
    "    return data"
   ]
  },
  {
   "cell_type": "code",
   "execution_count": 28,
   "metadata": {},
   "outputs": [],
   "source": [
    "def selection_sort(data):\n",
    "    for i in range(len(data)):\n",
    "        min_index = i    # 선택된 위치가 가장 작은 값으로 기준\n",
    "        \n",
    "        # 선택되지 않은 남은 데이터를 비교하는 작업\n",
    "        for j in range(i+1, len(data)):\n",
    "            if data[min_index] > data[j]:\n",
    "                min_index = j\n",
    "\n",
    "        # swap - 자리바꿈\n",
    "        data[i], data[min_index] = data[min_index], data[i]\n",
    "        \n",
    "    return data"
   ]
  },
  {
   "cell_type": "code",
   "execution_count": 6,
   "metadata": {},
   "outputs": [
    {
     "data": {
      "text/plain": [
       "[60, 80, 20, 87, 21, 63, 68, 88, 91, 19]"
      ]
     },
     "execution_count": 6,
     "metadata": {},
     "output_type": "execute_result"
    }
   ],
   "source": [
    "# 데이터 준비\n",
    "import random\n",
    "data_list = random.sample(range(100), 10)\n",
    "data_list"
   ]
  },
  {
   "cell_type": "code",
   "execution_count": 7,
   "metadata": {},
   "outputs": [
    {
     "data": {
      "text/plain": [
       "[19, 20, 21, 60, 63, 68, 80, 87, 88, 91]"
      ]
     },
     "execution_count": 7,
     "metadata": {},
     "output_type": "execute_result"
    }
   ],
   "source": [
    "selection_sort(data_list)"
   ]
  },
  {
   "cell_type": "markdown",
   "metadata": {},
   "source": [
    "### 2. 삽입정렬(Insertion Sort)\n",
    "- 임의의 키값을 삽입한 후 삽입된 키값과 기억공간에 저장된 키값을 비교하는 정렬"
   ]
  },
  {
   "cell_type": "markdown",
   "metadata": {},
   "source": [
    "### 삽입정렬\n",
    "- key값을 삽입하여 데이터를 순서대로 나열하는 정렬 알고리즘\n",
    "- key값은 주어진 데이터의 두번재 레코드를 시작으로 대입하여 처리한다.\n",
    "- key값 앞에 있는 데이터를 비교해서 자리바꿈을 수행하는 알고리즘"
   ]
  },
  {
   "cell_type": "code",
   "execution_count": null,
   "metadata": {},
   "outputs": [],
   "source": [
    "#####\n",
    "def insertion_sort(data):\n",
    "    for index in range(len(data)):\n",
    "        key = data[index]\n",
    "        \n",
    "        for index2 in range(index, 0, -1):\n",
    "            if key < data[index2-1]:\n",
    "                data[index2-1], data[index2] = data[index2], data[index2-1]\n",
    "            else:\n",
    "                break\n",
    "    return data"
   ]
  },
  {
   "cell_type": "code",
   "execution_count": 13,
   "metadata": {},
   "outputs": [],
   "source": [
    "def insertion_sort(data):\n",
    "    # path\n",
    "    for i in range(1, len(data)): # [1]부터 데이터 끝까지 진행 - key값\n",
    "        #key = i\n",
    "        \n",
    "        for j in range(i, 0, -1):\n",
    "            if data[j] < data[j-1]:    # 자신의 앞에있는 값과 비교\n",
    "                data[j], data[j-1] = data[j-1], data[j]\n",
    "            else:\n",
    "                break\n",
    "                \n",
    "    return data"
   ]
  },
  {
   "cell_type": "code",
   "execution_count": 25,
   "metadata": {},
   "outputs": [],
   "source": [
    "# 정렬할 데이터 준비 : data_list에 10개의 난수 만들기\n",
    "from random import *\n",
    "\n",
    "rand_data_list = list()\n",
    "\n",
    "for num in range(10):\n",
    "    rand_data_list.append(randint(1,100))  # 1~100 사이의 정수 난수 발생"
   ]
  },
  {
   "cell_type": "code",
   "execution_count": 15,
   "metadata": {},
   "outputs": [
    {
     "data": {
      "text/plain": [
       "[97, 50, 35, 17, 45, 22, 38, 84, 59, 49]"
      ]
     },
     "execution_count": 15,
     "metadata": {},
     "output_type": "execute_result"
    }
   ],
   "source": [
    "rand_data_list"
   ]
  },
  {
   "cell_type": "code",
   "execution_count": 16,
   "metadata": {},
   "outputs": [
    {
     "data": {
      "text/plain": [
       "[17, 22, 35, 38, 45, 49, 50, 59, 84, 97]"
      ]
     },
     "execution_count": 16,
     "metadata": {},
     "output_type": "execute_result"
    }
   ],
   "source": [
    "insertion_sort(rand_data_list)"
   ]
  },
  {
   "cell_type": "code",
   "execution_count": 18,
   "metadata": {},
   "outputs": [],
   "source": [
    "# def insertion_sort2(data):\n",
    "    \n",
    "#     #키값을 얻어오는 반복문\n",
    "#     for i in range(1, len(data)):  # 1 ~\n",
    "#         key = data[i]\n",
    "        \n",
    "#         # key값 앞에 데이터를 비교해서 자리바꿈하는 반복문\n",
    "#         for j in range(i, 0, -1):\n",
    "#             if data[j] < key:\n",
    "#                 data[j], data[i] = data[i], data[j] \n",
    "#             else: break\n",
    "                \n",
    "#     return data"
   ]
  },
  {
   "cell_type": "code",
   "execution_count": 23,
   "metadata": {},
   "outputs": [],
   "source": [
    "def insertion_sort2(data):\n",
    "    \n",
    "    #키값을 얻어오는 반복문\n",
    "    for i in range(len(data)):  \n",
    "        key = data[i]\n",
    "        \n",
    "        # key값 앞에 데이터를 비교해서 자리바꿈하는 반복문\n",
    "        for j in range(i, 0, -1):\n",
    "            if data[j] < key:\n",
    "                data[j-1], data[j] = data[j], data[j-1] \n",
    "            else: break\n",
    "                \n",
    "    return data"
   ]
  },
  {
   "cell_type": "code",
   "execution_count": 26,
   "metadata": {},
   "outputs": [
    {
     "data": {
      "text/plain": [
       "[74, 86, 77, 83, 93, 3, 66, 44, 63, 61]"
      ]
     },
     "execution_count": 26,
     "metadata": {},
     "output_type": "execute_result"
    }
   ],
   "source": [
    "rand_data_list"
   ]
  },
  {
   "cell_type": "code",
   "execution_count": 27,
   "metadata": {},
   "outputs": [
    {
     "data": {
      "text/plain": [
       "[3, 44, 61, 63, 66, 74, 77, 83, 86, 93]"
      ]
     },
     "execution_count": 27,
     "metadata": {},
     "output_type": "execute_result"
    }
   ],
   "source": [
    "insertion_sort(rand_data_list)"
   ]
  },
  {
   "cell_type": "markdown",
   "metadata": {},
   "source": [
    "### 3. 버블정렬(Bubble Sort)\n",
    "- 이웃하는 키값을 비교하여 자리바꿈을 이용하는 정렬"
   ]
  },
  {
   "cell_type": "code",
   "execution_count": null,
   "metadata": {},
   "outputs": [],
   "source": [
    "https://visualgo.net/en/sorting"
   ]
  },
  {
   "cell_type": "markdown",
   "metadata": {},
   "source": [
    "### 1. 버블정렬(Bubble Sort)\n",
    "- 두 인접한 데이터를 비교해서 자리를 바꾸는 정렬 알고리즘\n",
    "- 선택정렬과 성격상 반대.. 가장 큰 값이 끝에 자리잡는다"
   ]
  },
  {
   "cell_type": "code",
   "execution_count": 41,
   "metadata": {},
   "outputs": [
    {
     "name": "stdout",
     "output_type": "stream",
     "text": [
      "[92, 45, 50, 88, 53, 55, 95, 6, 33, 11]"
     ]
    }
   ],
   "source": [
    "import random\n",
    "# sample (추출데이터범위, 추출데이터수), 샘플링\n",
    "data_list = random.sample(range(100), 10)\n",
    "print(data_list, end='')"
   ]
  },
  {
   "cell_type": "code",
   "execution_count": 42,
   "metadata": {},
   "outputs": [],
   "source": [
    "def bubble_sort(data):\n",
    "    # path처리를 위한 반복문\n",
    "    for index in range(len(data)):\n",
    "        swap = 0  # 자리교환여부를 체크하는 스위칭변수\n",
    "        \n",
    "        # 이웃하는 자료와의 비교를 통한 자리바꿈을 수행할 반복문\n",
    "        for index2 in range(len(data)-1-index):\n",
    "            if data[index2] > data[index2+1]:\n",
    "                data[index2], data[index2+1] = data[index2+1], data[index2]\n",
    "                swap = 1\n",
    "                \n",
    "        if swap == 0:\n",
    "            break\n",
    "            \n",
    "    return data"
   ]
  },
  {
   "cell_type": "code",
   "execution_count": 43,
   "metadata": {},
   "outputs": [
    {
     "data": {
      "text/plain": [
       "[6, 11, 33, 45, 50, 53, 55, 88, 92, 95]"
      ]
     },
     "execution_count": 43,
     "metadata": {},
     "output_type": "execute_result"
    }
   ],
   "source": [
    "bubble_sort(data_list)"
   ]
  },
  {
   "cell_type": "markdown",
   "metadata": {},
   "source": [
    "### 4. 퀵정렬(Quick Sort)\n",
    "- 기준점(Pivot)을 정해서, 기준점보다 작은 데이터는 왼쪽(left), 큰 데이터는 오른쪽(right)으로 모으는 작업을 수행하여 정렬하는 함수\n",
    "- 재귀용법을 통해 작업을 수행한다."
   ]
  },
  {
   "cell_type": "code",
   "execution_count": 1,
   "metadata": {},
   "outputs": [
    {
     "data": {
      "text/plain": [
       "[19, 15, 40, 68, 64, 94, 24, 42, 84, 63]"
      ]
     },
     "execution_count": 1,
     "metadata": {},
     "output_type": "execute_result"
    }
   ],
   "source": [
    "# 데이터 만들기\n",
    "import random\n",
    "data_list = random.sample(range(100), 10)  # sample 샘플링 - 섞는다\n",
    "data_list"
   ]
  },
  {
   "cell_type": "code",
   "execution_count": 12,
   "metadata": {},
   "outputs": [],
   "source": [
    "def quick_sort(data):\n",
    "    # 원소가 1개인 경우\n",
    "    if len(data) <= 1:\n",
    "        return data\n",
    "    \n",
    "    # 병합 정렬에 기반이 된다.\n",
    "    left, right = list(), list()\n",
    "    \n",
    "    # 기준점(pivot)\n",
    "    pivot = data[0]\n",
    "    \n",
    "    # pivot을 기준으로 작은 데이터는 left, 큰 데이터는 right\n",
    "    for index in range(1, len(data)):\n",
    "        if pivot > data[index]:   # pivot보다 작은 데이터라면 \n",
    "            left.append(data[index])\n",
    "        else:\n",
    "            right.append(data[index])\n",
    "            \n",
    "    return quick_sort(left)+[pivot]+quick_sort(right)"
   ]
  },
  {
   "cell_type": "code",
   "execution_count": 13,
   "metadata": {},
   "outputs": [
    {
     "data": {
      "text/plain": [
       "[15, 19, 24, 40, 42, 63, 64, 68, 84, 94]"
      ]
     },
     "execution_count": 13,
     "metadata": {},
     "output_type": "execute_result"
    }
   ],
   "source": [
    "quick_sort(data_list)"
   ]
  },
  {
   "cell_type": "code",
   "execution_count": 14,
   "metadata": {},
   "outputs": [],
   "source": [
    "def quick_sort2(data):\n",
    "    # 원소가 1개인 경우\n",
    "    if len(data) <= 1:\n",
    "        return data\n",
    "    \n",
    "    # 병합 정렬에 기반이 된다.\n",
    "    left, right = list(), list()\n",
    "    \n",
    "    # 기준점(pivot)\n",
    "    pivot = data[0]\n",
    "    tail = data[1:]   # range(1,len(data))\n",
    "    \n",
    "    left = [x for x in tail if x <= pivot]\n",
    "    right = [x for x in tail if x > pivot]\n",
    "        \n",
    "    return quick_sort2(left)+[pivot]+quick_sort2(right)"
   ]
  },
  {
   "cell_type": "code",
   "execution_count": 17,
   "metadata": {},
   "outputs": [
    {
     "data": {
      "text/plain": [
       "[15, 19, 24, 40, 42, 63, 64, 68, 84, 94]"
      ]
     },
     "execution_count": 17,
     "metadata": {},
     "output_type": "execute_result"
    }
   ],
   "source": [
    "quick_sort2(data_list)"
   ]
  },
  {
   "cell_type": "markdown",
   "metadata": {},
   "source": [
    "### 5. 이진 탐색(Binary Search)\n",
    "- 탐색할 자료를 둘로 나누어 해당 데이터가 있을만한 곳을 탐색하는 방법\n",
    "- 선행조건 : 반드시 정렬이 되어있어야 한다.\n",
    "- 구현방법 : 중앙수 = (시작 +마지막)/2   　　　　#index\n",
    "- 중앙에 위치한 값과 찾고자 하는 값을 비교하는 작업을 수행한다.\n",
    "- 이 때, 중앙값이 찾고자하는 값보다 크면, 마지막값 = 중앙값 - 1  \n",
    "　　　중앙값이 찾고자하는 값보다 작으면, 시작값 = 중앙값 + 1"
   ]
  },
  {
   "cell_type": "code",
   "execution_count": 29,
   "metadata": {},
   "outputs": [],
   "source": [
    "def binary_search(data, search):\n",
    "    print(data)\n",
    "    \n",
    "    if len(data) == 1:\n",
    "        if data[0] == search:\n",
    "            return True\n",
    "        else:\n",
    "            return False\n",
    "    if len(data) == 0:\n",
    "        return False\n",
    "    \n",
    "    # 중앙값\n",
    "    medium = len(data) // 2\n",
    "    if search == data[medium]:\n",
    "        return True\n",
    "    if search > data[medium]:\n",
    "        return binary_search(data[medium:], search)\n",
    "    else:\n",
    "        return binary_search(data[:medium], search)"
   ]
  },
  {
   "cell_type": "code",
   "execution_count": 30,
   "metadata": {},
   "outputs": [
    {
     "data": {
      "text/plain": [
       "[14, 16, 24, 37, 64, 68, 72, 75, 83, 86]"
      ]
     },
     "execution_count": 30,
     "metadata": {},
     "output_type": "execute_result"
    }
   ],
   "source": [
    "import random\n",
    "data_list = random.sample(range(100), 10)\n",
    "data_list.sort()\n",
    "data_list"
   ]
  },
  {
   "cell_type": "code",
   "execution_count": 31,
   "metadata": {},
   "outputs": [
    {
     "name": "stdout",
     "output_type": "stream",
     "text": [
      "[14, 16, 24, 37, 64, 68, 72, 75, 83, 86]\n",
      "[14, 16, 24, 37, 64]\n",
      "[24, 37, 64]\n",
      "[37, 64]\n"
     ]
    },
    {
     "data": {
      "text/plain": [
       "True"
      ]
     },
     "execution_count": 31,
     "metadata": {},
     "output_type": "execute_result"
    }
   ],
   "source": [
    "binary_search(data_list, 64)"
   ]
  },
  {
   "cell_type": "code",
   "execution_count": 44,
   "metadata": {},
   "outputs": [],
   "source": [
    "# 사용자로부터 데이터의 개수와 찾고자하는 값 그리고 데이터를 입력받아 \n",
    "# 해당 값의 위치를 출력하는 이진탐색프로그램을 구현하시오\n",
    "\n",
    "def binary_search2(data, search, start, end):\n",
    "    if start > end:\n",
    "        return None\n",
    "    \n",
    "    # 중앙값\n",
    "    mid = (start + end) // 2\n",
    "    print(\"중앙값 = \", data[mid])\n",
    "    \n",
    "    # 중앙값을 기준으로 찾고자하는 값과 비교하는 작업\n",
    "    if data[mid] == search:\n",
    "        return mid\n",
    "    elif data[mid] > search: # 찾고자하는 값보다 중앙값이 크면\n",
    "        return binary_search2(data, search, start, mid-1)\n",
    "    else:  # data[mid] < search\n",
    "        return binary_search2(data, search, mid+1, end)"
   ]
  },
  {
   "cell_type": "code",
   "execution_count": 46,
   "metadata": {},
   "outputs": [
    {
     "name": "stdout",
     "output_type": "stream",
     "text": [
      "10 6\n",
      "1, 2, 3, 4, 5, 6, 7, 8, 9, 10\n",
      "중앙값 =  5\n",
      "중앙값 =  8\n",
      "중앙값 =  6\n",
      "위치 :  6\n"
     ]
    }
   ],
   "source": [
    "# 키보드를 통해서 입력할 데이터의 개수와 찾을 값을 받아서 처리\n",
    "n, search = list(map(int, input().split()))   # map -여러 개의 함수를 합침\n",
    "# 데이터 개수만큼 입력받는 작업\n",
    "data = list(map(int, input().split(\",\")))\n",
    "\n",
    "# 이진탐색\n",
    "result = binary_search2(data, search, 0, n-1)\n",
    "if result == None:\n",
    "    print(\"찾는 값이 존재하지 않습니다.\")\n",
    "else:\n",
    "    print(\"위치 : \",result+1)"
   ]
  },
  {
   "cell_type": "code",
   "execution_count": 76,
   "metadata": {},
   "outputs": [
    {
     "name": "stdout",
     "output_type": "stream",
     "text": [
      "선택정렬 성능 측정 :  6.645214319229126\n",
      "선택정렬 성능 측정 :  0.0009999275207519531\n"
     ]
    }
   ],
   "source": [
    "# 선택정렬과 내장함수(sort())를 이용한 수행시간을 비교하는 작업\n",
    "from random import randint\n",
    "import time\n",
    "\n",
    "data = []\n",
    "# 리스트 안에 10,000개의 정수를 삽입\n",
    "for _ in range(10000):\n",
    "    # 1 ~ 100 사이의 랜덤한 정수\n",
    "    data.append(randint(1, 100))\n",
    "    \n",
    "# 선택정렬 프로그램 성능 측정(시간복잡도)\n",
    "start_time = time.time()\n",
    "\n",
    "# 선택정렬을 통해서 데이터를 정렬하는 코드\n",
    "for i in range(len(data)):\n",
    "    min_index = i\n",
    "    \n",
    "    for j in range(i+1, len(data)):\n",
    "        if data[min_index] > data[j]:\n",
    "            min_index = j\n",
    "        \n",
    "    data[i], data[min_index] = data[min_index], data[i]\n",
    "    \n",
    "end_time = time.time()\n",
    "\n",
    "# 수행시간 출력하는 작업\n",
    "print(\"선택정렬 성능 측정 : \", end_time - start_time)\n",
    "\n",
    "\n",
    "\n",
    "\n",
    "data = []\n",
    "# 리스트 안에 10,000개의 정수를 삽입\n",
    "for _ in range(10000):\n",
    "    # 1 ~ 100 사이의 랜덤한 정수\n",
    "    data.append(randint(1, 100))\n",
    "    \n",
    "# 선택정렬 프로그램 성능 측정(시간복잡도)\n",
    "start_time = time.time()\n",
    "\n",
    "# sort\n",
    "data.sort()\n",
    "\n",
    "# 기본 라이브러리를 활용한 정렬 \n",
    "end_time = time.time()\n",
    "\n",
    "# 수행시간 출력하는 작업\n",
    "print(\"선택정렬 성능 측정 : \", end_time - start_time)"
   ]
  },
  {
   "cell_type": "code",
   "execution_count": null,
   "metadata": {},
   "outputs": [],
   "source": []
  }
 ],
 "metadata": {
  "kernelspec": {
   "display_name": "Python 3",
   "language": "python",
   "name": "python3"
  },
  "language_info": {
   "codemirror_mode": {
    "name": "ipython",
    "version": 3
   },
   "file_extension": ".py",
   "mimetype": "text/x-python",
   "name": "python",
   "nbconvert_exporter": "python",
   "pygments_lexer": "ipython3",
   "version": "3.7.3"
  }
 },
 "nbformat": 4,
 "nbformat_minor": 2
}
