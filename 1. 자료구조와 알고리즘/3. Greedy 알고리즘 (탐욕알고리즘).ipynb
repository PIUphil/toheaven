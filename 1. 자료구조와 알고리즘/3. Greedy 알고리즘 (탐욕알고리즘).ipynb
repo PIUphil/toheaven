{
 "cells": [
  {
   "cell_type": "markdown",
   "metadata": {},
   "source": [
    "#### 0. 탐욕 알고리즘\n",
    "- Greedy Algorithm 이라고 부름\n",
    "- 최적의 해에 가까운 값을 구하기 위해 사용되는 알고리즘\n",
    "- 여러 경우의 선택 중에서 하나를 선택해야 하는 순간마다, 최적이라고 생각되는 경우를 선택하는 방식"
   ]
  },
  {
   "cell_type": "code",
   "execution_count": 1,
   "metadata": {},
   "outputs": [
    {
     "name": "stdout",
     "output_type": "stream",
     "text": [
      "[1, 100, 50, 500]\n",
      "[500, 100, 50, 1]\n"
     ]
    }
   ],
   "source": [
    "# 동전문제\n",
    "# 지불금액 = 4720원일 때,\n",
    "# 동전 : 1원, 50원, 100원, 500원\n",
    "# 동전의 수가 가장 적게 지불되는 방식을 구현하시오.\n",
    "coin_list = [1, 100, 50, 500]\n",
    "print(coin_list)\n",
    "\n",
    "coin_list.sort(reverse=True)\n",
    "print(coin_list)"
   ]
  },
  {
   "cell_type": "code",
   "execution_count": 4,
   "metadata": {},
   "outputs": [],
   "source": [
    "coin_list = [500, 100, 50, 1]\n",
    "\n",
    "def min_coin_count(value, coin_list):\n",
    "    # 총 동전의 수를 카운팅하는 변수\n",
    "    total_coin_count = 0\n",
    "    details = list()\n",
    "        \n",
    "    for coin in coin_list:\n",
    "        coin_num = value // coin\n",
    "        total_coin_count += coin_num\n",
    "        value -= coin_num * coin  # 나머지값을 value에 담는 작업\n",
    "                                  # value = value%coin\n",
    "        details.append([coin, coin_num])\n",
    "        \n",
    "    return total_coin_count, details # tuple 자료형으로 넘겨준다"
   ]
  },
  {
   "cell_type": "code",
   "execution_count": 5,
   "metadata": {},
   "outputs": [
    {
     "data": {
      "text/plain": [
       "(31, [[500, 9], [100, 2], [50, 0], [1, 20]])"
      ]
     },
     "execution_count": 5,
     "metadata": {},
     "output_type": "execute_result"
    }
   ],
   "source": [
    "min_coin_count(4720, coin_list)"
   ]
  },
  {
   "cell_type": "markdown",
   "metadata": {},
   "source": [
    "### 1. 부분 배낭 문제(Fractional Knapsack Problem)\n",
    "- 무게 제한이 k인 최대 가치를 가지도록 물건을 넣는 문제\n",
    "- 각 물건은 무게(w)와 가치(v)로 표현 　　# weight, value\n",
    "- 물건은 쪼갤 수 있으므로 물건의 일부분이 배낭에 넣어질 수 있다.\n",
    "- Fractional Kanpsack Problem와 반대되는 개념 0/1 Knapsack Problem라고 부른다."
   ]
  },
  {
   "cell_type": "code",
   "execution_count": 9,
   "metadata": {},
   "outputs": [],
   "source": [
    "# 데이터 : 물건 5개, 무게와 가치\n",
    "data_list = [(10, 10), (15, 12), (20, 10), (25, 8), (30, 5)]\n",
    "\n",
    "# 무게 30kg, 가장 가치가 높은 물건을 담아서 처리하도록 구현\n",
    "# 출력 : 물건 전체의 무게와 각 물건이 배낭에 담겨진 개수\n",
    "\n",
    "# 1. 가치 기준으로 정렬\n",
    "#   - 15가 남음\n",
    "#   - 무게 적은거 먼저 채움\n",
    "# 2. 가치 같다면, 무게 낮은것으로 재정렬\n",
    "#   - 분할.\n",
    "# 3. \n",
    "\n",
    "def get_max_value(data_list, capacity):    # capacity : 용량\n",
    "    # 가치에 따른 정렬을 수행\n",
    "    data_list = sorted(data_list, key=lambda x:x[1]/x[0], reverse=True)\n",
    "    # lambda 출력값 : x의 가치/ x의 무게\n",
    "    print(data_list)  #[(10,10), (15,12), (20,10), (25,8), (30,5)]\n",
    "    \n",
    "    # 최대 가치를 담기위한 변수 선언\n",
    "    total_value = 0\n",
    "    details = list()\n",
    "    \n",
    "    # 최대 수용할 수 있는 무게를 기준으로 정렬된 물건들을 채우는 작업을 반복\n",
    "    for data in data_list:\n",
    "        if capacity - data[0] >= 0:     # [0]:무게\n",
    "            capacity -= data[0]\n",
    "            total_value += data[1]\n",
    "            details.append([data[0], data[1], 1])\n",
    "        else:\n",
    "            # 쪼개서 담아내는 작업\n",
    "            fraction = capacity / data[0]\n",
    "            total_value += data[1] * fraction\n",
    "            details.append([data[0], data[1], fraction])\n",
    "            break\n",
    "    return total_value, details"
   ]
  },
  {
   "cell_type": "code",
   "execution_count": 10,
   "metadata": {},
   "outputs": [
    {
     "name": "stdout",
     "output_type": "stream",
     "text": [
      "[(10, 10), (15, 12), (20, 10), (25, 8), (30, 5)]\n"
     ]
    },
    {
     "data": {
      "text/plain": [
       "(24.5, [[10, 10, 1], [15, 12, 1], [20, 10, 0.25]])"
      ]
     },
     "execution_count": 10,
     "metadata": {},
     "output_type": "execute_result"
    }
   ],
   "source": [
    "get_max_value(data_list, 30)"
   ]
  },
  {
   "cell_type": "code",
   "execution_count": 1,
   "metadata": {},
   "outputs": [],
   "source": [
    "# 화패매수 구하기\n",
    "# 출장비를 입력받아 화폐매수를 구하는 프로그램을 기술하시오.\n",
    "# 단, 화폐는 50000, 10000, 5000, 1000, 500, 100, 50, 10\n",
    "\n",
    "# 출장비 : 1,937,420원\n",
    "ml = []  # money_list\n",
    "big_money = 50000\n",
    "for i in range(4):\n",
    "    ml.append(big_money // pow(10,i))\n",
    "    ml.append(big_money // (5 * pow(10,i)))\n",
    "#print(ml)  # money_list =[50000, 10000, 5000, 1000, 500, 100, 50, 10]\n",
    "    \n",
    "total={}\n",
    "num = 0\n",
    "\n",
    "def money_num(money):\n",
    "    for i in ml:\n",
    "        e = money//i\n",
    "        total[i] = e\n",
    "        money -= e*i\n",
    "        num += e\n",
    "        \n",
    "    return total, num, money"
   ]
  },
  {
   "cell_type": "code",
   "execution_count": 2,
   "metadata": {},
   "outputs": [
    {
     "ename": "UnboundLocalError",
     "evalue": "local variable 'num' referenced before assignment",
     "output_type": "error",
     "traceback": [
      "\u001b[1;31m---------------------------------------------------------------------------\u001b[0m",
      "\u001b[1;31mUnboundLocalError\u001b[0m                         Traceback (most recent call last)",
      "\u001b[1;32m<ipython-input-2-2f50cc227385>\u001b[0m in \u001b[0;36m<module>\u001b[1;34m\u001b[0m\n\u001b[1;32m----> 1\u001b[1;33m \u001b[0mmoney_num\u001b[0m\u001b[1;33m(\u001b[0m\u001b[1;36m1937420\u001b[0m\u001b[1;33m)\u001b[0m\u001b[1;33m\u001b[0m\u001b[1;33m\u001b[0m\u001b[0m\n\u001b[0m",
      "\u001b[1;32m<ipython-input-1-1345daf2dbab>\u001b[0m in \u001b[0;36mmoney_num\u001b[1;34m(money)\u001b[0m\n\u001b[0;32m     19\u001b[0m         \u001b[0mtotal\u001b[0m\u001b[1;33m[\u001b[0m\u001b[0mi\u001b[0m\u001b[1;33m]\u001b[0m \u001b[1;33m=\u001b[0m \u001b[0me\u001b[0m\u001b[1;33m\u001b[0m\u001b[1;33m\u001b[0m\u001b[0m\n\u001b[0;32m     20\u001b[0m         \u001b[0mmoney\u001b[0m \u001b[1;33m-=\u001b[0m \u001b[0me\u001b[0m\u001b[1;33m*\u001b[0m\u001b[0mi\u001b[0m\u001b[1;33m\u001b[0m\u001b[1;33m\u001b[0m\u001b[0m\n\u001b[1;32m---> 21\u001b[1;33m         \u001b[0mnum\u001b[0m \u001b[1;33m+=\u001b[0m \u001b[0me\u001b[0m\u001b[1;33m\u001b[0m\u001b[1;33m\u001b[0m\u001b[0m\n\u001b[0m\u001b[0;32m     22\u001b[0m \u001b[1;33m\u001b[0m\u001b[0m\n\u001b[0;32m     23\u001b[0m     \u001b[1;32mreturn\u001b[0m \u001b[0mtotal\u001b[0m\u001b[1;33m,\u001b[0m \u001b[0mnum\u001b[0m\u001b[1;33m,\u001b[0m \u001b[0mmoney\u001b[0m\u001b[1;33m\u001b[0m\u001b[1;33m\u001b[0m\u001b[0m\n",
      "\u001b[1;31mUnboundLocalError\u001b[0m: local variable 'num' referenced before assignment"
     ]
    }
   ],
   "source": [
    "money_num(1937420)"
   ]
  },
  {
   "cell_type": "code",
   "execution_count": null,
   "metadata": {},
   "outputs": [],
   "source": []
  }
 ],
 "metadata": {
  "kernelspec": {
   "display_name": "Python 3",
   "language": "python",
   "name": "python3"
  },
  "language_info": {
   "codemirror_mode": {
    "name": "ipython",
    "version": 3
   },
   "file_extension": ".py",
   "mimetype": "text/x-python",
   "name": "python",
   "nbconvert_exporter": "python",
   "pygments_lexer": "ipython3",
   "version": "3.7.3"
  }
 },
 "nbformat": 4,
 "nbformat_minor": 2
}
