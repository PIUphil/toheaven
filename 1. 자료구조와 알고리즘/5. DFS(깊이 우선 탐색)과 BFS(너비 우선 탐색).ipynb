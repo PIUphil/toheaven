{
 "cells": [
  {
   "cell_type": "markdown",
   "metadata": {},
   "source": [
    "#### 0. 깊이 우선 탐색(DFS; Depth-First Search)\n",
    "- BFS : 너비우선탐색, 정점들과 같은 레벨에 있는 노드(형제노드)를 먼저 탐색\n",
    "- 한 단계씩 내려가면서 해당 노드와 같은 레벨에 있는 노드를 탐색\n",
    "- A → B → C → D → G → H → I → E → F → J\n",
    "- DFS : 깊이우선탐색, 정점의 자식들(아래 레벨)을 먼저 탐색\n",
    "- 한 노드의 자식을 타고 끝까지 탐색한 후, 다시 돌아와서 다른 형제를 탐색\n",
    "- A → B → D → E → F → C → G → H → I → J"
   ]
  },
  {
   "cell_type": "raw",
   "metadata": {},
   "source": [
    "                    A\n",
    "                  /    \\\n",
    "                 B      C\n",
    "                /     / │ \\\n",
    "               D     G  H  I\n",
    "              / \\         /\n",
    "             E   F       J"
   ]
  },
  {
   "cell_type": "code",
   "execution_count": 8,
   "metadata": {},
   "outputs": [],
   "source": [
    "# 파이썬으로 그래프 표현하는 방법\n",
    "# 딕셔너리와 리스트를 활용한다.\n",
    "graph = dict()   # 인접노드 구현,,,\n",
    "\n",
    "graph['A'] = ['B', 'C']\n",
    "graph['B'] = ['A', 'D']\n",
    "graph['C'] = ['A', 'G', 'H', 'I']\n",
    "graph['D'] = ['B', 'E', 'F']\n",
    "graph['E'] = ['D']\n",
    "graph['F'] = ['D']\n",
    "graph['G'] = ['C']\n",
    "graph['H'] = ['C']\n",
    "graph['I'] = ['C', 'J']\n",
    "graph['J'] = ['I']"
   ]
  },
  {
   "cell_type": "code",
   "execution_count": 9,
   "metadata": {},
   "outputs": [
    {
     "data": {
      "text/plain": [
       "{'A': ['B', 'C'],\n",
       " 'B': ['A', 'D'],\n",
       " 'C': ['A', 'G', 'H', 'I'],\n",
       " 'D': ['B', 'E', 'F'],\n",
       " 'E': ['D'],\n",
       " 'F': ['D'],\n",
       " 'G': ['C'],\n",
       " 'H': ['C'],\n",
       " 'I': ['C', 'J'],\n",
       " 'J': ['I']}"
      ]
     },
     "execution_count": 9,
     "metadata": {},
     "output_type": "execute_result"
    }
   ],
   "source": [
    "graph"
   ]
  },
  {
   "cell_type": "markdown",
   "metadata": {},
   "source": [
    "### 1. DFS(Depth-First Search)\n",
    "- DFS는 깊이 우선 탐색이라 부른다.\n",
    "- 스택 자료구조(or 재귀함수)와 큐를 이용한다.\n",
    "- 한 노드의 자식을 타고 끝까지 탐색한 후, 다시 돌아와서 다른 형제를 탐색\n",
    "- A → B → D → E → F → C → G → H → I → J\n",
    "\n",
    "#### DFS 탐색방법\n",
    " 1) 탐색 시작노드를 스택에 삽입하고 방문 처리한다.  \n",
    " 2) 스택의 최상단 노드에, 방문하지 않은 인접한 노드가 하나라도 있다면, 그 노드를 스택에 넣고 방문처리한다.  \n",
    "  　방문하지 않은 인접 노드가 없으면, 최상단 노드를 꺼낸다.  \n",
    " 3) 더 이상 2)번의 과정을 수행할 수 없을 때까지 반복수행한다."
   ]
  },
  {
   "cell_type": "code",
   "execution_count": 131,
   "metadata": {},
   "outputs": [],
   "source": [
    "def dfs(graph, start_node):\n",
    "    # 방문한 노드와 아직 방문하지 않은 노드를 담을 공간\n",
    "    visited, need_visit = list(), list()\n",
    "    need_visit.append(start_node)\n",
    "    \n",
    "    while need_visit:\n",
    "        node = need_visit.pop()   # stack(LIFO)  # 가장 먼저 처음거 담고, 인접값 담는다\n",
    "        if node not in visited:\n",
    "            visited.append(node)\n",
    "            need_visit.extend(reversed(graph[node]))  # 뒤에 추가 (여러개, 다양한 자료형)\n",
    "            \n",
    "    return visited"
   ]
  },
  {
   "cell_type": "code",
   "execution_count": 132,
   "metadata": {},
   "outputs": [
    {
     "data": {
      "text/plain": [
       "['A', 'B', 'D', 'E', 'F', 'C', 'G', 'H', 'I', 'J']"
      ]
     },
     "execution_count": 132,
     "metadata": {},
     "output_type": "execute_result"
    }
   ],
   "source": [
    "dfs(graph, 'A')"
   ]
  },
  {
   "cell_type": "code",
   "execution_count": 125,
   "metadata": {},
   "outputs": [],
   "source": [
    "def bfs(graph, start_node):\n",
    "    visited, need_visit = list(), list()\n",
    "    need_visit.append(start_node)\n",
    "    \n",
    "    while need_visit:\n",
    "        node = need_visit.pop(0)   # Queue(FIFO)   pop()->뒤에꺼 나옴/ pop(0)->앞에꺼 나옴#False\n",
    "        if node not in visited:  \n",
    "            visited.append(node)\n",
    "            need_visit.extend(graph[node]) \n",
    "            \n",
    "    return visited"
   ]
  },
  {
   "cell_type": "code",
   "execution_count": 126,
   "metadata": {},
   "outputs": [
    {
     "data": {
      "text/plain": [
       "['A', 'B', 'C', 'D', 'G', 'H', 'I', 'E', 'F', 'J']"
      ]
     },
     "execution_count": 126,
     "metadata": {},
     "output_type": "execute_result"
    }
   ],
   "source": [
    "bfs(graph, 'A')"
   ]
  },
  {
   "cell_type": "raw",
   "metadata": {},
   "source": [
    "                    B\n",
    "               8 ↗  ↑\n",
    "               /    │ 5\n",
    "             A ──1─>C         E\n",
    "              \\     │     3 ↗ │\n",
    "              2 \\   │2   /    │ 1\n",
    "                  ↘ ↓  /      ↓\n",
    "                    D ────5 ─> F"
   ]
  },
  {
   "cell_type": "raw",
   "metadata": {},
   "source": [
    "          A   0\n",
    "          B   8 → 6\n",
    " A출발    C   1\n",
    "          D   2\n",
    "          E   x → 5\n",
    "          F   x → 7x 6"
   ]
  },
  {
   "cell_type": "raw",
   "metadata": {},
   "source": [
    "A  B  C  D  E  F  \n",
    "0  ∞  ∞  ∞  ∞  ∞   inf"
   ]
  },
  {
   "cell_type": "raw",
   "metadata": {},
   "source": [
    "A  B  ~~~\n",
    "0  8  inf"
   ]
  },
  {
   "cell_type": "raw",
   "metadata": {},
   "source": [
    "A  B  C   ~~~\n",
    "0  8  1   inf"
   ]
  },
  {
   "cell_type": "raw",
   "metadata": {},
   "source": [
    "A  B  C  D  ~~~\n",
    "0  8  1  2  inf"
   ]
  },
  {
   "cell_type": "raw",
   "metadata": {},
   "source": [
    "우선순위 Queue\n",
    "A  B  C  D  \n",
    "0  8  1  2"
   ]
  },
  {
   "cell_type": "code",
   "execution_count": null,
   "metadata": {},
   "outputs": [],
   "source": []
  },
  {
   "cell_type": "markdown",
   "metadata": {},
   "source": [
    "### 2. 최단경로 알고리즘\n",
    "- 최단경로는 두 노드를 잇는 가장 짧은 알고리즘\n",
    "- 그래프에서 간선의 가중치 합이 최소가 되도록 하는 경로를 찾는 것이 목적이다.\n",
    "- 다익스트라 알고리즘 로직을 일반적으로 사용한다.\n",
    "\n",
    "- 다익스트라 알고리즘: 하나의 정점에서 다른 모든 정점 간의 각각 가장 짧은 거리를 구하는 알고리즘\n",
    "\n",
    "#### 우선순위 큐를 활용한 다익스트라 알고리즘\n",
    "- 우선순위 큐는 현재 가장 짧은 거리를 가진 노드 정보를 먼저 꺼낸다.\n",
    "- step1. 첫 정점을 기준으로 배열(리스트)을 선언하고, 첫 정점에서 각 정점의 가중치를 저장한다.\n",
    " 　　첫 정점 : 0, 나머지는 무한대(∞, inf - float형식)\n",
    " 　　우선순위 큐에 첫 정점만 먼저 넣는다.\n",
    "- step2. 우선순위 큐의 노드를 꺼낸다 => 첫 정점을 꺼낸다\n",
    "　　  첫 정점에 인접한 노드에 대해, 첫 정점에서 각 노드로 가는 거리와, 현재 배열에 저장되어있는 첫 정점에서 각 정점까지의 거리를 비교.\n",
    "      배열에 저장되어있는 거리보다 첫 정점에서 해당 노드로 가는 거리가 더 짧을 경우, 배열에 해당 노드의 거리를 갱신\n",
    "      배열에 해당 노드의 거리가 업데이트 된 경우, 우선순위 큐에 넣는다\n",
    "- step3. stpe2를 반복해서 우선순위 큐에 꺼낼 노드가 없을 경우, 프로그램을 종료"
   ]
  },
  {
   "cell_type": "code",
   "execution_count": 17,
   "metadata": {},
   "outputs": [
    {
     "name": "stdout",
     "output_type": "stream",
     "text": [
      "[[1, 'C'], [7, 'B'], [3, 'A'], [10, 'D']]\n",
      "[1, 'C']\n",
      "[3, 'A']\n",
      "[7, 'B']\n",
      "[10, 'D']\n"
     ]
    }
   ],
   "source": [
    "# 우선순위 큐 구현\n",
    "import heapq\n",
    "\n",
    "queue = []\n",
    "\n",
    "heapq.heappush(queue, [3, 'A'])  # queue 안에 3 A 를 담음 # 3-값, A-키\n",
    "heapq.heappush(queue, [7, 'B'])\n",
    "heapq.heappush(queue, [1, 'C'])\n",
    "heapq.heappush(queue, [10, 'D'])\n",
    "                # distance, node\n",
    "    \n",
    "# 우선순위에 저장된 형태\n",
    "print(queue)  # 거리값이 가장 짧은애부터 출력됨\n",
    "\n",
    "for _ in range(len(queue)):\n",
    "    print(heapq.heappop(queue))"
   ]
  },
  {
   "cell_type": "code",
   "execution_count": 18,
   "metadata": {},
   "outputs": [],
   "source": [
    "# 탐색할 그래프의 시작 정점과 다른 정점들 간의 거리 구하기\n",
    "mygraph ={\n",
    "    'A':{'B':8, 'C':1, 'D':2},\n",
    "    'B':{},\n",
    "    'C':{'B':5, 'D':2},\n",
    "    'D':{'E':3, 'F':5},\n",
    "    'E':{'F':1},\n",
    "    'F':{},\n",
    "}"
   ]
  },
  {
   "cell_type": "code",
   "execution_count": 4,
   "metadata": {},
   "outputs": [],
   "source": [
    "import heapq  # 우선순위 큐를 사용하기 위한 모듈 로딩\n",
    "\n",
    "def dijkstra(graph, first):  # 탐색그래프값과 첫 정점  # 다익스트라\n",
    "    # 거리값을 초기화(inf)하는 작업 -- 모든 거리값에 inf(무한대) 넣음\n",
    "    distance = {node:float('inf') for node in graph}\n",
    "    \n",
    "    # 첫 정점의 거리값은 0으로 초기화한다.\n",
    "    distance[first] = 0\n",
    "    \n",
    "    # 우선순위 큐 정의\n",
    "    queue = []\n",
    "    # 우선순위 큐에 첫 정점의 값을 넣어준다. -- [첫 정점 거리값, 첫 정점]\n",
    "    heapq.heappush(queue, [distance[first], first])\n",
    "    \n",
    "    # queue에 데이터가 없을 때까지 반복처리\n",
    "    while queue:\n",
    "        current_distance, current_node = heapq.heappop(queue)\n",
    "        \n",
    "        # 우선순위 큐의 값이 더 클 경우 반복처리 할 필요가 없다\n",
    "        if distance[current_node] > current_distance:\n",
    "            continue\n",
    "        \n",
    "        for adjacent, weight in graph[current_node].items():\n",
    "            total_distance = current_distance + weight\n",
    "            \n",
    "            if total_distance < distance[adjacent]:\n",
    "                distance[adjacent] = total_distance\n",
    "                heapq.heappush(queue, [total_distance, adjacent])\n",
    "                \n",
    "    return distance"
   ]
  },
  {
   "cell_type": "code",
   "execution_count": 5,
   "metadata": {},
   "outputs": [
    {
     "data": {
      "text/plain": [
       "{'A': 0, 'B': 6, 'C': 1, 'D': 2, 'E': 5, 'F': 6}"
      ]
     },
     "execution_count": 5,
     "metadata": {},
     "output_type": "execute_result"
    }
   ],
   "source": [
    "dijkstra(mygraph, 'A')"
   ]
  },
  {
   "cell_type": "code",
   "execution_count": 15,
   "metadata": {},
   "outputs": [],
   "source": [
    "# 시작 정점과 마지막 정점을 이용해서 최단거리를 찾아 출력하는 프로그램\n",
    "# 최단경로를 출력\n",
    "import heapq  # 우선순위 큐를 사용하기 위한 모듈 로딩\n",
    "\n",
    "def dijkstra2(graph, start, end):  # 탐색그래프값과 시작점과 마지막점\n",
    "    # 시작점에서 각 정점까지의 거리를 초기화하는 작업\n",
    "    distance = {node:[float('inf'), start] for node in graph}\n",
    "    \n",
    "    # 시작 정점의 거리를 0으로 초기화\n",
    "    distance[start] = [0, start]\n",
    "    \n",
    "    # 모든 정점이 저장될 큐를 생성\n",
    "    queue = []\n",
    "    \n",
    "    # (시작 정점과 시작 정점의 거리)를 우선순위 큐에 담는 작업\n",
    "    heapq.heappush(queue, [distance[start][0], start])\n",
    "    \n",
    "    # queue에 데이터가 없을 때까지 반복처리\n",
    "    while queue:\n",
    "        # 큐에서 정점을 하나씩 꺼내서 인접한 정점들의 거리를 확인\n",
    "        current_distance, current_node = heapq.heappop(queue)\n",
    "        \n",
    "        # 더 짧은 거리가 큐에 존재한다면 무시\n",
    "        if distance[current_node][0] > current_distance:\n",
    "            continue\n",
    "        \n",
    "        for adjacent, weight in graph[current_node].items():\n",
    "            total_distance = current_distance + weight\n",
    "            \n",
    "            # 만약 시작 정점에서 인접 정점으로 바로 가는 것보다,\n",
    "            # 현재 정점을 거쳐가는게 더 가까울 경우            \n",
    "            if total_distance < distance[adjacent][0]:\n",
    "                # 거리를 갱신하는 작업\n",
    "                distance[adjacent] = [total_distance, current_node]\n",
    "                heapq.heappush(queue, [total_distance, adjacent])\n",
    "                \n",
    "    # 마지막 노드부터 첫번째 노드까지 순서대로 출력하는 작업\n",
    "    path = end\n",
    "    \n",
    "    output = end + \" => \"\n",
    "    while distance[path][1] != start:\n",
    "        output += distance[path][1] + \" => \"\n",
    "        path = distance[path][1]\n",
    "        \n",
    "    output += start\n",
    "    print(output)\n",
    "    return distance"
   ]
  },
  {
   "cell_type": "code",
   "execution_count": 16,
   "metadata": {},
   "outputs": [
    {
     "name": "stdout",
     "output_type": "stream",
     "text": [
      "F => E => D => A\n"
     ]
    },
    {
     "data": {
      "text/plain": [
       "{'A': [0, 'A'],\n",
       " 'B': [6, 'C'],\n",
       " 'C': [1, 'A'],\n",
       " 'D': [2, 'A'],\n",
       " 'E': [5, 'D'],\n",
       " 'F': [6, 'E']}"
      ]
     },
     "execution_count": 16,
     "metadata": {},
     "output_type": "execute_result"
    }
   ],
   "source": [
    "dijkstra2(mygraph, 'A', 'F')"
   ]
  },
  {
   "cell_type": "markdown",
   "metadata": {},
   "source": [
    "### 3. 최소 신장 트리(Kruskal Algorithm)\n",
    "- Spanning Tree : 신장트리\n",
    "- 그래프처럼 모든 노드가 연결되어 있으면서 트리의 속성을 만족\n",
    "- 신장트리의 조건 : 모든 노드를 포함, 모든 노드가 서로 연결, 사이클이 존재하지 않는다.\n",
    "- 최소신장트리: MST; Minimum Spanning Tree 간선의 가중치의 합이 최소\n",
    "- 대표적인 최소 신장 트리 알고리즘은 크루스칼 알고리즘이다.\n",
    "\n",
    "#### 크루스칼 알고리즘(Kruskal's Algorithm)\n",
    "- 모든 정점을 독립적인 집합으로 만든다.\n",
    "- 모든 간선을 비용(가중치) 기준으로 정렬하고, 비용이 작은 간선부터 양 끝에 두 정점을 비교한다.\n",
    "- 두 정점의 최상위 정점을 확인하고, 서로 다를 경우 두 정점을 연결한다.\n",
    "- 탐욕 알고리즘을 기초로 한다.\n"
   ]
  },
  {
   "cell_type": "raw",
   "metadata": {},
   "source": [
    "                1\n",
    "        A  ──────────── B\n",
    "        │  ＼           │\n",
    "    5   │      ＼ 2     │ 7\n",
    "        │           ＼  │\n",
    "        C ───────────── D\n",
    "                 3"
   ]
  },
  {
   "cell_type": "raw",
   "metadata": {},
   "source": [
    "                1\n",
    "        A  ──────────── B\n",
    "        │  ＼            \n",
    "    5   │      ＼ 2      \n",
    "        │           ＼   \n",
    "        C ───────────── D\n",
    "                 3"
   ]
  },
  {
   "cell_type": "raw",
   "metadata": {},
   "source": [
    "               1\n",
    "        A ─────────── B\n",
    "           ＼            \n",
    "              ＼ 2      \n",
    "                 ＼   \n",
    "        C ─────────── D\n",
    "               3"
   ]
  },
  {
   "cell_type": "raw",
   "metadata": {},
   "source": [
    "              7\n",
    "        A ─────────── B\n",
    "        │         ／  │  ＼ \n",
    "      5 │      ／ 9   │ 8  \\\n",
    "        │  ／         │     \\\n",
    "        D             C      │ 7\n",
    "        │  ＼         │     /\n",
    "      6 │     ＼ 7    │ 5  /\n",
    "        │         ＼  │  ／\n",
    "        F ─────8───── E     \n",
    "         ＼         ／   \n",
    "         11＼     ／ 9  \n",
    "             ＼ ／  \n",
    "               G"
   ]
  },
  {
   "cell_type": "raw",
   "metadata": {},
   "source": [
    "https://ssabi.tistory.com/60"
   ]
  },
  {
   "cell_type": "code",
   "execution_count": null,
   "metadata": {},
   "outputs": [],
   "source": [
    "# 최소 신장 트리를 이용해 계산한 그래프\n",
    "mygraph = {\n",
    "    'v':['A', 'B', 'C', 'D', 'E', 'F', 'G']  # vertex\n",
    "    'e':[(7, 'A', 'B'),                      # edge\n",
    "         (5, 'A', 'D'),\n",
    "         (7, 'B', 'A'),\n",
    "         (8, 'B', 'C'),\n",
    "         (9, 'B', 'D'),\n",
    "         (7, 'B', 'E'),\n",
    "         (8, 'C', 'B'),\n",
    "         (5, 'C', 'E'),\n",
    "         (5, 'D', 'A'),\n",
    "         (9, 'D', 'B'),\n",
    "         (7, 'D', 'E'),\n",
    "         (6, 'D', 'F'),\n",
    "         (7, 'E', 'B'),\n",
    "         (5, 'E', 'C'),\n",
    "         (7, 'E', 'D'),\n",
    "         (8, 'E', 'F'),\n",
    "         (9, 'E', 'G'),\n",
    "         (6, 'F', 'D'),\n",
    "         (8, 'F', 'E'),\n",
    "         (11, 'F', 'G'),\n",
    "         (9, 'G', 'E'),\n",
    "         (11, 'G', 'F')]         \n",
    "} # A2 / B4 / C2 / D4 / E5 / F3 / G2"
   ]
  }
 ],
 "metadata": {
  "kernelspec": {
   "display_name": "Python 3",
   "language": "python",
   "name": "python3"
  },
  "language_info": {
   "codemirror_mode": {
    "name": "ipython",
    "version": 3
   },
   "file_extension": ".py",
   "mimetype": "text/x-python",
   "name": "python",
   "nbconvert_exporter": "python",
   "pygments_lexer": "ipython3",
   "version": "3.7.3"
  }
 },
 "nbformat": 4,
 "nbformat_minor": 2
}
