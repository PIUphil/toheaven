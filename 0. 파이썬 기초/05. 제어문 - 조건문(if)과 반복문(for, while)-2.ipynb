{
 "cells": [
  {
   "cell_type": "markdown",
   "metadata": {},
   "source": [
    "#### 0. 들여쓰기와 제어문\n",
    "- 파이썬은 들여쓰기를 강제하여 코드의 가독성을 높인다.\n",
    "- 블록({}) 내부에 있는 문장들은 반드시 들여쓰기가 일치해야 한다.\n",
    "- 블록의 시작은 콜론(:)이고, 블록의 끝은 들여쓰기가 끝나는 부분이다."
   ]
  },
  {
   "cell_type": "markdown",
   "metadata": {},
   "source": [
    "#### 1. 조건문 or 선택문 or 비교판단문\n",
    "- 조건식을 가지고 있는 문장\n",
    "- 주어진 조건식이 참일 때만 해당 문장을 수행한다.\n",
    "- if문 : 만약 ~라면\n",
    "- if 논리조건식:"
   ]
  },
  {
   "cell_type": "code",
   "execution_count": 6,
   "metadata": {},
   "outputs": [
    {
     "name": "stdout",
     "output_type": "stream",
     "text": [
      "숫자 = 31415926535897932380477\n",
      "<class 'int'>\n",
      "양수\n",
      "프로그램을 종료합니다.\n"
     ]
    }
   ],
   "source": [
    "# 하나의 숫자를 입력받아 양수인지를 판단하는 문장\n",
    "# 해당 숫자가 양수라면 '양수'라는 문구가 출력\n",
    "num = int(input(\"숫자 = \"))\n",
    "print(type(num))\n",
    "\n",
    "if num > 0 :\n",
    "    print(\"양수\")\n",
    "print(\"프로그램을 종료합니다.\")"
   ]
  },
  {
   "cell_type": "code",
   "execution_count": 7,
   "metadata": {},
   "outputs": [
    {
     "name": "stdout",
     "output_type": "stream",
     "text": [
      "숫자 = 0\n",
      "음수입니다.\n",
      "프로그램을 종료합니다.\n"
     ]
    }
   ],
   "source": [
    "# 양수와 음수를 판정하는 프로그램\n",
    "num = int(input(\"숫자 = \"))\n",
    "\n",
    "if num > 0:\n",
    "    print(\"양수입니다.\")\n",
    "else :\n",
    "    print(\"음수입니다.\")\n",
    "    \n",
    "print(\"프로그램을 종료합니다.\")"
   ]
  },
  {
   "cell_type": "code",
   "execution_count": 10,
   "metadata": {},
   "outputs": [
    {
     "name": "stdout",
     "output_type": "stream",
     "text": [
      "숫자 = 0\n",
      "제로\n"
     ]
    }
   ],
   "source": [
    "num = int(input(\"숫자 = \"))\n",
    "\n",
    "if num > 0:\n",
    "    print(\"양수\")\n",
    "elif num <0:  # elif = else if\n",
    "    print(\"음수\")\n",
    "else :\n",
    "    print(\"제로\")"
   ]
  },
  {
   "cell_type": "code",
   "execution_count": 20,
   "metadata": {},
   "outputs": [
    {
     "name": "stdout",
     "output_type": "stream",
     "text": [
      "숫자 = 88888888888888888888888888888\n",
      "짝수\n"
     ]
    }
   ],
   "source": [
    "# 하나의 숫자를 입력받아 짝수인지 홀수인지 판단\n",
    "num = int(input(\"숫자 = \"))\n",
    "\n",
    "if num % 2 == 0:\n",
    "    print(\"짝수\")\n",
    "else:\n",
    "    print(\"홀수\")"
   ]
  },
  {
   "cell_type": "code",
   "execution_count": 1,
   "metadata": {},
   "outputs": [
    {
     "data": {
      "text/plain": [
       "True"
      ]
     },
     "execution_count": 1,
     "metadata": {},
     "output_type": "execute_result"
    }
   ],
   "source": [
    "# bool 자료형 : True와 False를 처리하는 자료형\n",
    "3 > 2"
   ]
  },
  {
   "cell_type": "code",
   "execution_count": 2,
   "metadata": {},
   "outputs": [
    {
     "data": {
      "text/plain": [
       "False"
      ]
     },
     "execution_count": 2,
     "metadata": {},
     "output_type": "execute_result"
    }
   ],
   "source": [
    "# 논리 연산자 : 하나 이상의 대소관계를 묶어서 연산을 수행\n",
    "# 논리값을 처리하기 위한 연산자\n",
    "# 논리값(and, or, not)\n",
    "# not - 논리부정\n",
    "not True"
   ]
  },
  {
   "cell_type": "code",
   "execution_count": 3,
   "metadata": {},
   "outputs": [
    {
     "data": {
      "text/plain": [
       "True"
      ]
     },
     "execution_count": 3,
     "metadata": {},
     "output_type": "execute_result"
    }
   ],
   "source": [
    "not 0"
   ]
  },
  {
   "cell_type": "code",
   "execution_count": 6,
   "metadata": {},
   "outputs": [
    {
     "data": {
      "text/plain": [
       "False"
      ]
     },
     "execution_count": 6,
     "metadata": {},
     "output_type": "execute_result"
    }
   ],
   "source": [
    "not -1   # 0이 아닌 숫자는 참(True)으로 간주"
   ]
  },
  {
   "cell_type": "code",
   "execution_count": 7,
   "metadata": {},
   "outputs": [
    {
     "data": {
      "text/plain": [
       "True"
      ]
     },
     "execution_count": 7,
     "metadata": {},
     "output_type": "execute_result"
    }
   ],
   "source": [
    "not None  # 녹색글자- 예약되어있는 키워드 None, Wrong\n",
    "# None은 거짓(False)으로 간주"
   ]
  },
  {
   "cell_type": "code",
   "execution_count": 11,
   "metadata": {},
   "outputs": [
    {
     "data": {
      "text/plain": [
       "False"
      ]
     },
     "execution_count": 11,
     "metadata": {},
     "output_type": "execute_result"
    }
   ],
   "source": [
    "# tuple, list, dic 문자열을 만났을 때의 not 연산자\n",
    "not 'ABC'  # 문자열 = true"
   ]
  },
  {
   "cell_type": "code",
   "execution_count": 12,
   "metadata": {},
   "outputs": [
    {
     "data": {
      "text/plain": [
       "True"
      ]
     },
     "execution_count": 12,
     "metadata": {},
     "output_type": "execute_result"
    }
   ],
   "source": [
    "not ''  # 빈 문자열 = False로 간주"
   ]
  },
  {
   "cell_type": "code",
   "execution_count": 13,
   "metadata": {},
   "outputs": [
    {
     "data": {
      "text/plain": [
       "False"
      ]
     },
     "execution_count": 13,
     "metadata": {},
     "output_type": "execute_result"
    }
   ],
   "source": [
    "not (1, 2, 3)   # tuple. 비어있지 않으므로 true"
   ]
  },
  {
   "cell_type": "code",
   "execution_count": 14,
   "metadata": {},
   "outputs": [
    {
     "data": {
      "text/plain": [
       "True"
      ]
     },
     "execution_count": 14,
     "metadata": {},
     "output_type": "execute_result"
    }
   ],
   "source": [
    "not ()  # 비어있는 tuple은 False로 간주"
   ]
  },
  {
   "cell_type": "code",
   "execution_count": 15,
   "metadata": {},
   "outputs": [
    {
     "data": {
      "text/plain": [
       "True"
      ]
     },
     "execution_count": 15,
     "metadata": {},
     "output_type": "execute_result"
    }
   ],
   "source": [
    "not []  # 비어있는 list 는 False로 간주"
   ]
  },
  {
   "cell_type": "code",
   "execution_count": 17,
   "metadata": {},
   "outputs": [
    {
     "data": {
      "text/plain": [
       "True"
      ]
     },
     "execution_count": 17,
     "metadata": {},
     "output_type": "execute_result"
    }
   ],
   "source": [
    "not {}  # 비어있는 dic"
   ]
  },
  {
   "cell_type": "code",
   "execution_count": 19,
   "metadata": {},
   "outputs": [
    {
     "data": {
      "text/plain": [
       "False"
      ]
     },
     "execution_count": 19,
     "metadata": {},
     "output_type": "execute_result"
    }
   ],
   "source": [
    "# 관계연산자 or 비교연산자\n",
    "# 연산자 : >, >=, <, <=, ==, !=\n",
    "100 < 10"
   ]
  },
  {
   "cell_type": "code",
   "execution_count": 20,
   "metadata": {},
   "outputs": [
    {
     "data": {
      "text/plain": [
       "False"
      ]
     },
     "execution_count": 20,
     "metadata": {},
     "output_type": "execute_result"
    }
   ],
   "source": [
    "10 > 2 and 100 < 10  # 논리연산자 "
   ]
  },
  {
   "cell_type": "markdown",
   "metadata": {},
   "source": [
    "#### 2. 반복문 (for, while)\n",
    "- 동일하거나 유사한 성격을 가지고 있는 문장\n",
    "- 조건이 참일 때 반복을 수행\n",
    "- 반복횟수를 제어할 때 사용\n",
    "- 형식\n",
    "- for 개별변수 in 집합변수:\n",
    "- while 논리조건식:"
   ]
  },
  {
   "cell_type": "code",
   "execution_count": 22,
   "metadata": {},
   "outputs": [
    {
     "name": "stdout",
     "output_type": "stream",
     "text": [
      "1\n",
      "1\n",
      "1\n",
      "1\n",
      "1\n"
     ]
    }
   ],
   "source": [
    "print(1)\n",
    "print(1)\n",
    "print(1)\n",
    "print(1)\n",
    "print(1)"
   ]
  },
  {
   "cell_type": "code",
   "execution_count": 23,
   "metadata": {},
   "outputs": [
    {
     "name": "stdout",
     "output_type": "stream",
     "text": [
      "1\n",
      "1\n",
      "1\n",
      "1\n",
      "1\n"
     ]
    }
   ],
   "source": [
    "for i in range(5):\n",
    "    print(1)"
   ]
  },
  {
   "cell_type": "code",
   "execution_count": 24,
   "metadata": {},
   "outputs": [
    {
     "name": "stdout",
     "output_type": "stream",
     "text": [
      "1\n",
      "2\n",
      "3\n",
      "4\n",
      "5\n"
     ]
    }
   ],
   "source": [
    "print(1)\n",
    "print(2)\n",
    "print(3)\n",
    "print(4)\n",
    "print(5)"
   ]
  },
  {
   "cell_type": "code",
   "execution_count": 24,
   "metadata": {},
   "outputs": [
    {
     "name": "stdout",
     "output_type": "stream",
     "text": [
      "1\n",
      "2\n",
      "3\n",
      "4\n",
      "5\n"
     ]
    }
   ],
   "source": [
    "for i in range(1, 6):  # range(시작값, 마지막값 (, 증가값))\n",
    "    print(i)"
   ]
  },
  {
   "cell_type": "code",
   "execution_count": null,
   "metadata": {},
   "outputs": [],
   "source": [
    "while 논리조건식:\n",
    "    반복할 문장"
   ]
  },
  {
   "cell_type": "code",
   "execution_count": 29,
   "metadata": {},
   "outputs": [
    {
     "name": "stdout",
     "output_type": "stream",
     "text": [
      "1\n",
      "2\n",
      "3\n",
      "4\n",
      "5\n"
     ]
    }
   ],
   "source": [
    "i = 1\n",
    "while i < 6:\n",
    "    print(i)\n",
    "    i = i + 1"
   ]
  },
  {
   "cell_type": "code",
   "execution_count": 32,
   "metadata": {},
   "outputs": [
    {
     "name": "stdout",
     "output_type": "stream",
     "text": [
      "1\n",
      "2\n",
      "3\n",
      "4\n",
      "5\n"
     ]
    }
   ],
   "source": [
    "i = 0\n",
    "while i < 5:\n",
    "    i = i + 1\n",
    "    print(i)"
   ]
  },
  {
   "cell_type": "code",
   "execution_count": 33,
   "metadata": {},
   "outputs": [
    {
     "name": "stdout",
     "output_type": "stream",
     "text": [
      "1\n",
      "2\n",
      "3\n",
      "4\n",
      "5\n"
     ]
    }
   ],
   "source": [
    "i = 1\n",
    "while True:  # 무한Loop\n",
    "    print(i)\n",
    "    i = i + 1\n",
    "    if i==6:\n",
    "        break"
   ]
  },
  {
   "cell_type": "code",
   "execution_count": null,
   "metadata": {},
   "outputs": [],
   "source": [
    "color = input(\"색상입력(red or blue) = \")\n",
    "\n",
    "if color == \"blue\":\n",
    "    print(\"건너가세요\")\n",
    "else:\n",
    "    print(\"기다리세요\")"
   ]
  },
  {
   "cell_type": "code",
   "execution_count": 34,
   "metadata": {},
   "outputs": [
    {
     "name": "stdout",
     "output_type": "stream",
     "text": [
      "색상입력(red or blue) = yellow\n",
      "잘못입력되었습니다.\n"
     ]
    }
   ],
   "source": [
    "color = input(\"색상입력(red or blue) = \")\n",
    "\n",
    "if color == \"blue\":\n",
    "    print(\"건너가세요\")\n",
    "elif color == \"red\":\n",
    "    print(\"기다리세요\")\n",
    "else:\n",
    "    print(\"잘못입력되었습니다.\")"
   ]
  },
  {
   "cell_type": "code",
   "execution_count": 38,
   "metadata": {},
   "outputs": [
    {
     "name": "stdout",
     "output_type": "stream",
     "text": [
      "1\n",
      "2\n",
      "3\n",
      "4\n",
      "5\n"
     ]
    }
   ],
   "source": [
    "# for  개별변수 in 집합변수\n",
    "# 집합변수(collections) : 리스트, 튜플, 집합, 딕셔너리\n",
    "for i in [1, 2, 3, 4, 5]:\n",
    "    print(i)"
   ]
  },
  {
   "cell_type": "code",
   "execution_count": 39,
   "metadata": {},
   "outputs": [
    {
     "name": "stdout",
     "output_type": "stream",
     "text": [
      "1\n",
      "2\n",
      "3\n",
      "4\n",
      "5\n"
     ]
    }
   ],
   "source": [
    "numbers = [1, 2, 3, 4, 5]\n",
    "for i in numbers:\n",
    "    print(i)"
   ]
  },
  {
   "cell_type": "code",
   "execution_count": 40,
   "metadata": {},
   "outputs": [
    {
     "name": "stdout",
     "output_type": "stream",
     "text": [
      "1\t2\t3\t4\t5\t"
     ]
    }
   ],
   "source": [
    "numbers = [1, 2, 3, 4, 5]\n",
    "for i in numbers:\n",
    "    print(i, end='\\t')"
   ]
  },
  {
   "cell_type": "code",
   "execution_count": 42,
   "metadata": {},
   "outputs": [
    {
     "name": "stdout",
     "output_type": "stream",
     "text": [
      "1 2 3 4 5 "
     ]
    }
   ],
   "source": [
    "numbers = [1, 2, 3, 4, 5]\n",
    "for i in numbers:\n",
    "    print(i, end=' ')"
   ]
  },
  {
   "cell_type": "code",
   "execution_count": 54,
   "metadata": {},
   "outputs": [
    {
     "name": "stdout",
     "output_type": "stream",
     "text": [
      "range(0, 10)\n",
      "[0, 1, 2, 3, 4, 5, 6, 7, 8, 9]\n",
      "range(1, 11)\n",
      "[1, 2, 3, 4, 5, 6, 7, 8, 9, 10]\n",
      "range(1, 11, 2)\n",
      "[1, 3, 5, 7, 9]\n"
     ]
    }
   ],
   "source": [
    "# range(k) : 순열함수; 순착적으로 숫자를 만들어 내는 함수\n",
    "# 매개변수 k -> 개수를 의미\n",
    "a = range(10)  # 시작이 0부터 9까지. 10개의 숫자를 의미\n",
    "print(a)\n",
    "a = list(range(10))  # 리스트로 저장\n",
    "print(a)\n",
    "b = range(1, 11)  # range(start, end). end-1\n",
    "print(b)\n",
    "b = list(range(1, 11))  \n",
    "print(b)\n",
    "\n",
    "c = range(1, 11, 2)  # 1~10. step 2 (=2씩 증가)\n",
    "print(c)\n",
    "c = list(range(1, 11, 2))  \n",
    "print(c)"
   ]
  },
  {
   "cell_type": "code",
   "execution_count": 56,
   "metadata": {},
   "outputs": [
    {
     "name": "stdout",
     "output_type": "stream",
     "text": [
      "55\n"
     ]
    }
   ],
   "source": [
    "sum = 0\n",
    "sum = sum + 1\n",
    "sum = sum + 2\n",
    "sum = sum + 3\n",
    "sum = sum + 4\n",
    "sum = sum + 5\n",
    "sum = sum + 6\n",
    "sum = sum + 7\n",
    "sum = sum + 8\n",
    "sum = sum + 9\n",
    "sum = sum + 10\n",
    "print(sum)"
   ]
  },
  {
   "cell_type": "code",
   "execution_count": 60,
   "metadata": {},
   "outputs": [
    {
     "name": "stdout",
     "output_type": "stream",
     "text": [
      "55\n"
     ]
    }
   ],
   "source": [
    "sum = 0\n",
    "\n",
    "for i in range(1,11):\n",
    "    sum += i  # sum = sum + i\n",
    "print(sum)"
   ]
  },
  {
   "cell_type": "code",
   "execution_count": 85,
   "metadata": {},
   "outputs": [
    {
     "name": "stdout",
     "output_type": "stream",
     "text": [
      "숫자 = 100\n",
      "5050\n"
     ]
    }
   ],
   "source": [
    "# Question1. 키보드를 통해 하나의 숫자를 입력받아 \n",
    "# 1부터 입력받은 수까지의 자연수들의 합을 계산하여\n",
    "# 출력하는 프로그램을 구현하시오.\n",
    "\n",
    "num = int(input(\"숫자 = \"))\n",
    "# 누적변수\n",
    "sum = 0\n",
    "\n",
    "for i in range(1, num+1):\n",
    "    sum += i\n",
    "    \n",
    "print(sum)"
   ]
  },
  {
   "cell_type": "code",
   "execution_count": 86,
   "metadata": {},
   "outputs": [
    {
     "name": "stdout",
     "output_type": "stream",
     "text": [
      "====2단====\n",
      "2 x 1 =   2\n",
      "2 x 2 =   4\n",
      "2 x 3 =   6\n",
      "2 x 4 =   8\n",
      "2 x 5 =  10\n",
      "2 x 6 =  12\n",
      "2 x 7 =  14\n",
      "2 x 8 =  16\n",
      "2 x 9 =  18\n",
      "\n",
      "====3단====\n",
      "3 x 1 =   3\n",
      "3 x 2 =   6\n",
      "3 x 3 =   9\n",
      "3 x 4 =  12\n",
      "3 x 5 =  15\n",
      "3 x 6 =  18\n",
      "3 x 7 =  21\n",
      "3 x 8 =  24\n",
      "3 x 9 =  27\n",
      "\n",
      "====4단====\n",
      "4 x 1 =   4\n",
      "4 x 2 =   8\n",
      "4 x 3 =  12\n",
      "4 x 4 =  16\n",
      "4 x 5 =  20\n",
      "4 x 6 =  24\n",
      "4 x 7 =  28\n",
      "4 x 8 =  32\n",
      "4 x 9 =  36\n",
      "\n",
      "====5단====\n",
      "5 x 1 =   5\n",
      "5 x 2 =  10\n",
      "5 x 3 =  15\n",
      "5 x 4 =  20\n",
      "5 x 5 =  25\n",
      "5 x 6 =  30\n",
      "5 x 7 =  35\n",
      "5 x 8 =  40\n",
      "5 x 9 =  45\n",
      "\n",
      "====6단====\n",
      "6 x 1 =   6\n",
      "6 x 2 =  12\n",
      "6 x 3 =  18\n",
      "6 x 4 =  24\n",
      "6 x 5 =  30\n",
      "6 x 6 =  36\n",
      "6 x 7 =  42\n",
      "6 x 8 =  48\n",
      "6 x 9 =  54\n",
      "\n",
      "====7단====\n",
      "7 x 1 =   7\n",
      "7 x 2 =  14\n",
      "7 x 3 =  21\n",
      "7 x 4 =  28\n",
      "7 x 5 =  35\n",
      "7 x 6 =  42\n",
      "7 x 7 =  49\n",
      "7 x 8 =  56\n",
      "7 x 9 =  63\n",
      "\n",
      "====8단====\n",
      "8 x 1 =   8\n",
      "8 x 2 =  16\n",
      "8 x 3 =  24\n",
      "8 x 4 =  32\n",
      "8 x 5 =  40\n",
      "8 x 6 =  48\n",
      "8 x 7 =  56\n",
      "8 x 8 =  64\n",
      "8 x 9 =  72\n",
      "\n",
      "====9단====\n",
      "9 x 1 =   9\n",
      "9 x 2 =  18\n",
      "9 x 3 =  27\n",
      "9 x 4 =  36\n",
      "9 x 5 =  45\n",
      "9 x 6 =  54\n",
      "9 x 7 =  63\n",
      "9 x 8 =  72\n",
      "9 x 9 =  81\n",
      "\n"
     ]
    }
   ],
   "source": [
    "# 구구단 출력 : 단(2~9) * 자연수(1~9)  # 다중 for문\n",
    "for x in range(2, 10):\n",
    "    print(\"===={0}단====\".format(x))\n",
    "    for y in range(1, 10):\n",
    "        print(\"{0} x {1} = {2:3d}\".format(x, y, x*y))  # 10진수 정수형 3자리\n",
    "    print()  # 개행의 의미 (줄바꿈)\n",
    "        "
   ]
  },
  {
   "cell_type": "code",
   "execution_count": 90,
   "metadata": {},
   "outputs": [
    {
     "name": "stdout",
     "output_type": "stream",
     "text": [
      "1\n",
      "2\n",
      "3\n",
      "\n",
      "(1, 2) 1 2\n",
      "(3, 4) 3 4\n",
      "(5, 6) 5 6\n",
      "1 + 2 = 3\n",
      "3 + 4 = 7\n",
      "5 + 6 = 11\n"
     ]
    }
   ],
   "source": [
    "a = [(1, 2), (3, 4), (5, 6)]  # 리스트 안에 튜플로 담음\n",
    "b = [1, 2, 3]\n",
    "\n",
    "for i in b:\n",
    "    print(i)\n",
    "\n",
    "print()\n",
    "\n",
    "for aa in a:\n",
    "    a1 = aa[0]\n",
    "    a2 = aa[1]\n",
    "    print(aa, a1, a2)\n",
    "    \n",
    "for (first, second) in a:\n",
    "    print(\"{0} + {1} = {2}\".format(first, second, first+second))"
   ]
  },
  {
   "cell_type": "code",
   "execution_count": 95,
   "metadata": {},
   "outputs": [
    {
     "name": "stdout",
     "output_type": "stream",
     "text": [
      "1번 학생 : 90점, 합격입니다.\n",
      "2번 학생 : 25점, 불합격입니다.\n",
      "3번 학생 : 67점, 합격입니다.\n",
      "4번 학생 : 45점, 불합격입니다.\n",
      "5번 학생 : 80점, 합격입니다.\n"
     ]
    }
   ],
   "source": [
    "# 5명의 점수\n",
    "points = [90, 25, 67, 45, 80]\n",
    "# 각 학생의 점수를 이용하여 합격을 판정하는 작업\n",
    "# 점수가 60점 이상이면 \"합격\", 그렇지 않으면 \"불합격\"\n",
    "\n",
    "number = 0\n",
    "\n",
    "for point  in points:\n",
    "    number += 1\n",
    "    result = \"\"  # result 는 문자열 타입임을 알려줌\n",
    "    \n",
    "    if point >= 60:\n",
    "        result = \"합격\"\n",
    "    else:\n",
    "        result = \"불합격\"\n",
    "        \n",
    "    print(\"%d번 학생 : %d점, %s입니다.\" %(number, point, result))"
   ]
  },
  {
   "cell_type": "code",
   "execution_count": 2,
   "metadata": {},
   "outputs": [
    {
     "name": "stdout",
     "output_type": "stream",
     "text": [
      "0이면 작업종료 = 1\n",
      "0이면 작업종료 = 2\n",
      "0이면 작업종료 = 3\n",
      "0이면 작업종료 = 0\n",
      "누적합 =  6\n"
     ]
    }
   ],
   "source": [
    "# 숫자를 입력받아 누적합을 계산하는 프로그램\n",
    "# 단, 입력받는 수가 0이면 프로그램을 종료합니다.\n",
    "\n",
    "# 누적변수는 초기화를 주고 시작한다.\n",
    "tot = 0\n",
    "\n",
    "while True :  # 무한Loop(사용자에 의해 반복을 제어)\n",
    "    n = int(input(\"0이면 작업종료 = \"))\n",
    "    \n",
    "    if n==0: break\n",
    "    tot += n\n",
    "    \n",
    "print(\"누적합 = \", tot)"
   ]
  },
  {
   "cell_type": "code",
   "execution_count": 19,
   "metadata": {},
   "outputs": [
    {
     "name": "stdout",
     "output_type": "stream",
     "text": [
      "투입금액 = 25000\n",
      "커피를 드립니다.\n",
      "남은 커피는 9잔, 잔액은 22000원입니다.\n",
      "커피를 드립니다.\n",
      "남은 커피는 8잔, 잔액은 19000원입니다.\n",
      "커피를 드립니다.\n",
      "남은 커피는 7잔, 잔액은 16000원입니다.\n",
      "커피를 드립니다.\n",
      "남은 커피는 6잔, 잔액은 13000원입니다.\n",
      "커피를 드립니다.\n",
      "남은 커피는 5잔, 잔액은 10000원입니다.\n",
      "커피를 드립니다.\n",
      "남은 커피는 4잔, 잔액은 7000원입니다.\n",
      "커피를 드립니다.\n",
      "남은 커피는 3잔, 잔액은 4000원입니다.\n",
      "커피를 드립니다.\n",
      "남은 커피는 2잔, 잔액은 1000원입니다.\n",
      "커피를 드립니다.\n",
      "잔액이 부족합니다. 판매를 중지합니다.\n"
     ]
    }
   ],
   "source": [
    "# coffee 가격은 3000원입니다.\n",
    "# 커피머신에 돈을 입력한 후 커피를 추출하는 작업을\n",
    "# 반복수행합니다. 단, 금액이 부족하거나, 커피가 \n",
    "# 부족하면 작업을 종료하도록 프로그램 하시오.\n",
    "\n",
    "coffee = 10\n",
    "money = int(input(\"투입금액 = \"))\n",
    "\n",
    "# 코딩영역\n",
    "while money :  # 논리조건문이 True일동안 반복수행\n",
    "    print(\"커피를 드립니다.\")\n",
    "    coffee -= 1\n",
    "    money -= 3000\n",
    "    \n",
    "    if money < 0:\n",
    "        print(\"잔액이 부족합니다. 판매를 중지합니다.\")\n",
    "        break\n",
    "    \n",
    "    print(\"남은 커피는 %d잔, 잔액은 %d원입니다.\" %(coffee, money))\n",
    "    \n",
    "    if not coffee:  # 0이면 False, 1이면 True\n",
    "        print(\"커피가 다 떨어졌습니다. 판매를 중지합니다.\")\n",
    "        break\n",
    "\n",
    "# 출력서식\n",
    "# 커피를 드립니다.\n",
    "# 남은 커피는 xx잔, 잔액은 xxx원 입니다."
   ]
  },
  {
   "cell_type": "code",
   "execution_count": 21,
   "metadata": {},
   "outputs": [
    {
     "name": "stdout",
     "output_type": "stream",
     "text": [
      "2\n",
      "4\n",
      "6\n",
      "8\n",
      "10\n"
     ]
    }
   ],
   "source": [
    "# 기타제어문 : break(중지, 반복문 벗어남) 와 continue(이하생략,건너뛰기)\n",
    "a = 0\n",
    "\n",
    "while a < 10:\n",
    "    a = a + 1  # a += 1\n",
    "    if a % 2 == 0:\n",
    "        print(a)"
   ]
  },
  {
   "cell_type": "code",
   "execution_count": 23,
   "metadata": {},
   "outputs": [
    {
     "name": "stdout",
     "output_type": "stream",
     "text": [
      "2\n",
      "4\n",
      "6\n",
      "8\n",
      "10\n"
     ]
    }
   ],
   "source": [
    "a = 0\n",
    "\n",
    "while a < 10:\n",
    "    a = a + 1  # a += 1\n",
    "    if a % 2 != 0:\n",
    "        continue  # skip\n",
    "    print(a)"
   ]
  },
  {
   "cell_type": "code",
   "execution_count": 1,
   "metadata": {},
   "outputs": [
    {
     "name": "stdout",
     "output_type": "stream",
     "text": [
      "연도(종료:0) :2018\n",
      "2018년도는 평년입니다.\n",
      "연도(종료:0) :2016\n",
      "2016년도는 윤년입니다.\n",
      "연도(종료:0) :2000\n",
      "2000년도는 윤년입니다.\n",
      "연도(종료:0) :1900\n",
      "1900년도는 평년입니다.\n",
      "연도(종료:0) :0\n",
      "프로그램을 종료합니다.\n"
     ]
    }
   ],
   "source": [
    "# 년도를 입력받아 평년인지, 윤년인지 판단하는 프로그램\n",
    "# 단, 년도로 0이 입력되면 프로그램을 종료하시오.\n",
    "# 윤년은 4년마다 돌아오는데 100으로 나누어 떨어지는 연도는 평년\n",
    "# 하지만 400으로 나누어 떨어지는 연도는 윤년\n",
    "\n",
    "while True:\n",
    "    year = int(input(\"연도(종료:0) :\"))\n",
    "        \n",
    "    if year == 0:\n",
    "        print(\"프로그램을 종료합니다.\")\n",
    "        break\n",
    "    # else:\n",
    "\n",
    "    if year%4 == 0 and year % 100 != 0 or year % 400 == 0:\n",
    "        print(\"{0}년도는 윤년입니다.\".format(year))\n",
    "    else:\n",
    "        print(\"{0}년도는 평년입니다.\".format(year))\n"
   ]
  },
  {
   "cell_type": "code",
   "execution_count": 2,
   "metadata": {},
   "outputs": [
    {
     "name": "stdout",
     "output_type": "stream",
     "text": [
      "결과 : 불합격\n"
     ]
    }
   ],
   "source": [
    "# pass , 추후에 기술하는 영역으로 설정할 때 사용한다.\n",
    "score = 65\n",
    "result = \"불합격\"\n",
    "\n",
    "if score >= 60:\n",
    "    pass\n",
    "print(\"결과 : \" + result)"
   ]
  },
  {
   "cell_type": "code",
   "execution_count": 4,
   "metadata": {},
   "outputs": [
    {
     "name": "stdout",
     "output_type": "stream",
     "text": [
      "[[1, 2, 3], [4, 5, 6], [7, 8, 9]]\n",
      "[1, 2, 3]\n",
      "1\n"
     ]
    }
   ],
   "source": [
    "a= [[1, 2, 3],[4,5,6],[7,8,9]]  # 2차원 배열\n",
    "print(a)\n",
    "print(a[0])\n",
    "print(a[0][0])"
   ]
  }
 ],
 "metadata": {
  "kernelspec": {
   "display_name": "Python 3",
   "language": "python",
   "name": "python3"
  },
  "language_info": {
   "codemirror_mode": {
    "name": "ipython",
    "version": 3
   },
   "file_extension": ".py",
   "mimetype": "text/x-python",
   "name": "python",
   "nbconvert_exporter": "python",
   "pygments_lexer": "ipython3",
   "version": "3.7.3"
  }
 },
 "nbformat": 4,
 "nbformat_minor": 2
}
