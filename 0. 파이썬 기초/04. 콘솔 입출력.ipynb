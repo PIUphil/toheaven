{
 "cells": [
  {
   "cell_type": "code",
   "execution_count": 1,
   "metadata": {},
   "outputs": [
    {
     "name": "stdout",
     "output_type": "stream",
     "text": [
      "입력하세요 : 100\n",
      "입력값 :  100\n"
     ]
    }
   ],
   "source": [
    "# 표준 입출력함수 : input(), print()\n",
    "a = input(\"입력하세요 : \")\n",
    "print(\"입력값 : \", a)"
   ]
  },
  {
   "cell_type": "code",
   "execution_count": 3,
   "metadata": {},
   "outputs": [
    {
     "name": "stdout",
     "output_type": "stream",
     "text": [
      "숫자1 = 1\n",
      "숫자2 = 2\n",
      "결과값 :  3\n"
     ]
    }
   ],
   "source": [
    "# 두 개의 정수를 입력받아 그 합을 계산한 후 결과를 출력하는 프로그램\n",
    "a = eval(input(\"숫자1 = \"))  # eval 문자열을 숫자로 변환\n",
    "b = eval(input(\"숫자2 = \"))\n",
    "c = a+b\n",
    "print(\"결과값 : \", c)"
   ]
  },
  {
   "cell_type": "code",
   "execution_count": 10,
   "metadata": {},
   "outputs": [
    {
     "name": "stdout",
     "output_type": "stream",
     "text": [
      "단을 입력하세요 : 5\n",
      "5 x 1 = 5\n",
      "5 x 2 = 10\n",
      "5 x 3 = 15\n",
      "5 x 4 = 20\n",
      "5 x 5 = 25\n",
      "5 x 6 = 30\n",
      "5 x 7 = 35\n",
      "5 x 8 = 40\n",
      "5 x 9 = 45\n",
      "프로그램을 종료합니다.\n"
     ]
    }
   ],
   "source": [
    "# 구구단을 출력하는 프로그램\n",
    "# 단을 입력받아 해당 단을 계산하여 출력시킨다.\n",
    "dan = int(input(\"단을 입력하세요 : \"))\n",
    "#print(type(dan))\n",
    "# int(문자열) : 문자열을 정수로 변환 // 캐스팅\n",
    "# eval(문자열) : 문자열을 숫자로 변환\n",
    "\"\"\"\n",
    "5 x 1 = 5\n",
    "5 x 2 = 10\n",
    "5 x 3 = 15\n",
    "\"\"\"\n",
    "\n",
    "# 반복문 : for 개별변수 in 집합변수\n",
    "for i in range(1, 10) :  # range : 순차적으로 데이터를 읽어옴\n",
    "    print(\"{0} x {1} = {2}\".format(dan, i, dan*i))\n",
    "\n",
    "print(\"프로그램을 종료합니다.\")"
   ]
  },
  {
   "cell_type": "code",
   "execution_count": 11,
   "metadata": {},
   "outputs": [
    {
     "name": "stdout",
     "output_type": "stream",
     "text": [
      "0\n",
      "1\n",
      "2\n",
      "3\n",
      "4\n",
      "5\n",
      "6\n",
      "7\n",
      "8\n",
      "9\n"
     ]
    }
   ],
   "source": [
    "for i in range(10) :  # 0~9 반복, 기본적으로 반복하면서 줄바꿈 \n",
    "    print(i)"
   ]
  },
  {
   "cell_type": "code",
   "execution_count": 12,
   "metadata": {},
   "outputs": [
    {
     "name": "stdout",
     "output_type": "stream",
     "text": [
      "1\t2\t3\t4\t5\t6\t7\t8\t9\t"
     ]
    }
   ],
   "source": [
    "for i in range(1, 10) :  # end : 라인 끝에 ~를 해라 (기본값  '\\n' 줄바꿈)\n",
    "    print(i, end='\\t')"
   ]
  }
 ],
 "metadata": {
  "kernelspec": {
   "display_name": "Python 3",
   "language": "python",
   "name": "python3"
  },
  "language_info": {
   "codemirror_mode": {
    "name": "ipython",
    "version": 3
   },
   "file_extension": ".py",
   "mimetype": "text/x-python",
   "name": "python",
   "nbconvert_exporter": "python",
   "pygments_lexer": "ipython3",
   "version": "3.7.3"
  }
 },
 "nbformat": 4,
 "nbformat_minor": 2
}
