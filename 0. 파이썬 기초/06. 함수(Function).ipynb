{
 "cells": [
  {
   "cell_type": "markdown",
   "metadata": {},
   "source": [
    "### 00. 함수(Function)\n",
    "- 일정한 작업을 수행하는 명령어들의 집합\n",
    "- 자주 빈번하게 사용되는 기능이나 명령어를 하나의 이름으로 묶어 처리\n",
    "- 형식 def(=define) 함수명(매개변수): \n",
    "- 　　　　　　　　수행할 문장들\n",
    "- 　　　　　　　　return 리턴값"
   ]
  },
  {
   "cell_type": "code",
   "execution_count": 1,
   "metadata": {},
   "outputs": [],
   "source": [
    "def function():\n",
    "    pass\n",
    "    # return"
   ]
  },
  {
   "cell_type": "code",
   "execution_count": 4,
   "metadata": {},
   "outputs": [
    {
     "name": "stdout",
     "output_type": "stream",
     "text": [
      "12345\n",
      "=========\n",
      "안녕하세요\n",
      "=========\n",
      "오늘은 월요일입니다.\n",
      "내일은 화요일입니다.\n",
      "=========\n"
     ]
    }
   ],
   "source": [
    "print(12345)\n",
    "print(\"=========\")\n",
    "print(\"안녕하세요\")\n",
    "print(\"=========\")\n",
    "print(\"오늘은 월요일입니다.\")\n",
    "print(\"내일은 화요일입니다.\")\n",
    "print(\"=========\")"
   ]
  },
  {
   "cell_type": "code",
   "execution_count": 8,
   "metadata": {},
   "outputs": [],
   "source": [
    "# 반복문 : 동일하거나 유사한 성격을 가지고 있는 문장을 반복할 때 사용\n",
    "# 유사한 문장 : 동일한 행위를 하되 일정한 규칙을 가지고 있는 문장\n",
    "\n",
    "def disp():\n",
    "    print(\"=========\")\n",
    "    return  # 자동적으로 제어권이 메인으로 넘어옴..."
   ]
  },
  {
   "cell_type": "code",
   "execution_count": 10,
   "metadata": {},
   "outputs": [
    {
     "name": "stdout",
     "output_type": "stream",
     "text": [
      "12345\n",
      "=========\n",
      "안녕하세요\n",
      "=========\n",
      "오늘은 월요일입니다.\n",
      "내일은 화요일입니다.\n",
      "=========\n",
      "=========\n"
     ]
    }
   ],
   "source": [
    "print(12345)\n",
    "#print(\"=========\")\n",
    "disp()\n",
    "print(\"안녕하세요\")\n",
    "#print(\"=========\")\n",
    "disp()\n",
    "print(\"오늘은 월요일입니다.\")\n",
    "print(\"내일은 화요일입니다.\")\n",
    "#print(\"=========\")\n",
    "disp()\n",
    "disp()"
   ]
  },
  {
   "cell_type": "code",
   "execution_count": 12,
   "metadata": {},
   "outputs": [
    {
     "name": "stdout",
     "output_type": "stream",
     "text": [
      "수1 = 10\n",
      "수2 = 3\n",
      "덧셈 =  13\n",
      "뺄셈 =  7\n",
      "곱셈 =  30\n",
      "나눗셈 =  3.3333333333333335\n"
     ]
    }
   ],
   "source": [
    "# 계산기 프로그램\n",
    "# 두 개의 정수를 입력받아 덧셈과 뺄셈 그리고 곱셈과 나눗셈의 결과를\n",
    "# 출력하는 프로그램\n",
    "\n",
    "su1 = int(input(\"수1 = \"))\n",
    "su2 = int(input(\"수2 = \"))\n",
    "\n",
    "adder = su1 + su2\n",
    "sub = su1 - su2\n",
    "multi = su1 * su2\n",
    "div = su1 / su2\n",
    "\n",
    "print(\"덧셈 = \", adder)\n",
    "print(\"뺄셈 = \", sub)\n",
    "print(\"곱셈 = \", multi)\n",
    "print(\"나눗셈 = \", div)\n"
   ]
  },
  {
   "cell_type": "code",
   "execution_count": null,
   "metadata": {},
   "outputs": [],
   "source": [
    "# 함수 정의\n",
    "def adder(x, y):\n",
    "    c = x + y\n",
    "    return c  # 위의 식을 지우고 x+y를 리턴해도 된다.."
   ]
  },
  {
   "cell_type": "code",
   "execution_count": null,
   "metadata": {},
   "outputs": [],
   "source": [
    "su1 = int(input(\"수1 = \"))\n",
    "su2 = int(input(\"수2 = \"))\n",
    "oppr = input(\"1.덧셈 2.뺄셈 3.곱셈 4.나눗셈 = \")\n",
    "\n",
    "result = 0\n",
    "\n",
    "if oppr == \"1\":\n",
    "    result = adder(su1, su2)  # 함수호출\n",
    "elif oppr == \"2\":\n",
    "    result = su1 - su2\n",
    "elif oppr == \"3\":\n",
    "    result = su1 * su2\n",
    "elif oppr == \"4\":\n",
    "    result = su1 / su2\n",
    "else:\n",
    "    print(\"연산자가 올바르지 않습니다.\")\n",
    "    \n",
    "print(\"결과 = \",  result)"
   ]
  },
  {
   "cell_type": "code",
   "execution_count": 13,
   "metadata": {},
   "outputs": [
    {
     "name": "stdout",
     "output_type": "stream",
     "text": [
      "수1 = 10\n",
      "수2 = 3\n",
      "1.덧셈 2.뺄셈 3.곱셈 4.나눗셈 = 3\n",
      "결과 =  30\n"
     ]
    }
   ],
   "source": [
    "su1 = int(input(\"수1 = \"))\n",
    "su2 = int(input(\"수2 = \"))\n",
    "oppr = input(\"1.덧셈 2.뺄셈 3.곱셈 4.나눗셈 = \")\n",
    "\n",
    "result = 0\n",
    "\n",
    "if oppr == \"1\":\n",
    "    result = su1 + su2\n",
    "elif oppr == \"2\":\n",
    "    result = su1 - su2\n",
    "elif oppr == \"3\":\n",
    "    result = su1 * su2\n",
    "elif oppr == \"4\":\n",
    "    result = su1 / su2\n",
    "else:\n",
    "    print(\"연산자가 올바르지 않습니다.\")\n",
    "    \n",
    "print(\"결과 = \",  result)"
   ]
  },
  {
   "cell_type": "code",
   "execution_count": 14,
   "metadata": {},
   "outputs": [],
   "source": [
    "def twotimes(x):\n",
    "    y = 2 * x\n",
    "    return y"
   ]
  },
  {
   "cell_type": "code",
   "execution_count": 15,
   "metadata": {},
   "outputs": [
    {
     "data": {
      "text/plain": [
       "4"
      ]
     },
     "execution_count": 15,
     "metadata": {},
     "output_type": "execute_result"
    }
   ],
   "source": [
    "twotimes(2)"
   ]
  },
  {
   "cell_type": "code",
   "execution_count": 16,
   "metadata": {},
   "outputs": [],
   "source": [
    "# 하나의 숫자를 입력받아 짝수인지 홀수인지 판정하는 프로그램\n",
    "# 이 때, 짝수와 홀수를 판정하는 식을 함수로 구현할 것\n",
    "\n",
    "def check(x):\n",
    "    if x % 2 == 0:\n",
    "        return \"짝수\"\n",
    "    else:\n",
    "        return \"홀수\""
   ]
  },
  {
   "cell_type": "code",
   "execution_count": 17,
   "metadata": {},
   "outputs": [
    {
     "name": "stdout",
     "output_type": "stream",
     "text": [
      "수 = 3\n",
      "홀수\n"
     ]
    }
   ],
   "source": [
    "n = int(input(\"수 = \"))\n",
    "\n",
    "print(check(n))"
   ]
  },
  {
   "cell_type": "code",
   "execution_count": 22,
   "metadata": {},
   "outputs": [],
   "source": [
    "# 람다함수(lambda) : 함수의 이름을 주지 않거나 코드를 짧게 줄여서 쓸 때 사용\n",
    "def f(x):\n",
    "    return 2 * x"
   ]
  },
  {
   "cell_type": "code",
   "execution_count": 23,
   "metadata": {},
   "outputs": [
    {
     "data": {
      "text/plain": [
       "4"
      ]
     },
     "execution_count": 23,
     "metadata": {},
     "output_type": "execute_result"
    }
   ],
   "source": [
    "f(2)"
   ]
  },
  {
   "cell_type": "code",
   "execution_count": 24,
   "metadata": {},
   "outputs": [],
   "source": [
    "fin = lambda x : 2 * x  # 데이터분석; 반복적인것 분석할때, 어플라이와 비슷"
   ]
  },
  {
   "cell_type": "code",
   "execution_count": 25,
   "metadata": {},
   "outputs": [
    {
     "data": {
      "text/plain": [
       "4"
      ]
     },
     "execution_count": 25,
     "metadata": {},
     "output_type": "execute_result"
    }
   ],
   "source": [
    "fin(2)"
   ]
  },
  {
   "cell_type": "code",
   "execution_count": 29,
   "metadata": {},
   "outputs": [
    {
     "ename": "NameError",
     "evalue": "name 'a' is not defined",
     "output_type": "error",
     "traceback": [
      "\u001b[1;31m---------------------------------------------------------------------------\u001b[0m",
      "\u001b[1;31mNameError\u001b[0m                                 Traceback (most recent call last)",
      "\u001b[1;32m<ipython-input-29-b8b8a9c211e4>\u001b[0m in \u001b[0;36m<module>\u001b[1;34m\u001b[0m\n\u001b[0;32m      1\u001b[0m \u001b[1;31m# 지역변수(local variable)와 전역변수(global variable)  # 변수 - 상수를 저장\u001b[0m\u001b[1;33m\u001b[0m\u001b[1;33m\u001b[0m\u001b[1;33m\u001b[0m\u001b[0m\n\u001b[1;32m----> 2\u001b[1;33m \u001b[1;32mdel\u001b[0m \u001b[0ma\u001b[0m\u001b[1;33m\u001b[0m\u001b[1;33m\u001b[0m\u001b[0m\n\u001b[0m",
      "\u001b[1;31mNameError\u001b[0m: name 'a' is not defined"
     ]
    }
   ],
   "source": [
    "# 지역변수(local variable)와 전역변수(global variable)  # 변수 - 상수를 저장\n",
    "del a"
   ]
  },
  {
   "cell_type": "code",
   "execution_count": 32,
   "metadata": {},
   "outputs": [],
   "source": [
    "def func(x):\n",
    "    a = 10 * x\n",
    "    print(\"a = \", a)\n",
    "    return a"
   ]
  },
  {
   "cell_type": "code",
   "execution_count": 33,
   "metadata": {},
   "outputs": [
    {
     "name": "stdout",
     "output_type": "stream",
     "text": [
      "a =  100\n"
     ]
    },
    {
     "data": {
      "text/plain": [
       "100"
      ]
     },
     "execution_count": 33,
     "metadata": {},
     "output_type": "execute_result"
    }
   ],
   "source": [
    "func(10)"
   ]
  },
  {
   "cell_type": "code",
   "execution_count": 28,
   "metadata": {},
   "outputs": [
    {
     "ename": "NameError",
     "evalue": "name 'a' is not defined",
     "output_type": "error",
     "traceback": [
      "\u001b[1;31m---------------------------------------------------------------------------\u001b[0m",
      "\u001b[1;31mNameError\u001b[0m                                 Traceback (most recent call last)",
      "\u001b[1;32m<ipython-input-28-3f786850e387>\u001b[0m in \u001b[0;36m<module>\u001b[1;34m\u001b[0m\n\u001b[1;32m----> 1\u001b[1;33m \u001b[0ma\u001b[0m\u001b[1;33m\u001b[0m\u001b[1;33m\u001b[0m\u001b[0m\n\u001b[0m",
      "\u001b[1;31mNameError\u001b[0m: name 'a' is not defined"
     ]
    }
   ],
   "source": [
    "a  # sub에 제한되어있음 (지역변수)"
   ]
  },
  {
   "cell_type": "code",
   "execution_count": 34,
   "metadata": {},
   "outputs": [],
   "source": [
    "def sub1(x, y):\n",
    "    return x+y  # x+y한 값을  메인으로 보내라, 결과값이 넘어옴\n",
    "                    \n",
    "def sub2(x, y):\n",
    "    print(x+y)    # x+y한 결과를 print , 결과값이 출력되도록 함\n",
    "    return        # return 옆에 값이 없으면 생략가능"
   ]
  },
  {
   "cell_type": "code",
   "execution_count": 35,
   "metadata": {
    "scrolled": true
   },
   "outputs": [
    {
     "name": "stdout",
     "output_type": "stream",
     "text": [
      "30\n"
     ]
    }
   ],
   "source": [
    "print(sub1(10,20))  # print(30)"
   ]
  },
  {
   "cell_type": "code",
   "execution_count": 39,
   "metadata": {},
   "outputs": [
    {
     "name": "stdout",
     "output_type": "stream",
     "text": [
      "30\n",
      "None\n"
     ]
    }
   ],
   "source": [
    "print(sub2(10,20))  # print(print(30))"
   ]
  },
  {
   "cell_type": "code",
   "execution_count": 40,
   "metadata": {},
   "outputs": [
    {
     "data": {
      "text/plain": [
       "100"
      ]
     },
     "execution_count": 40,
     "metadata": {},
     "output_type": "execute_result"
    }
   ],
   "source": [
    "# 사용자 정의 함수와 내장 함수\n",
    "abs(-100)  # 절댓값  # 내장함수"
   ]
  },
  {
   "cell_type": "code",
   "execution_count": 41,
   "metadata": {},
   "outputs": [],
   "source": [
    "def my_abs(arg):   # arg = argument 매개변수, 인수 # 사용자 정의 함수\n",
    "    if arg < 0:\n",
    "        return arg * -1\n",
    "    else:\n",
    "        return arg"
   ]
  },
  {
   "cell_type": "code",
   "execution_count": 44,
   "metadata": {},
   "outputs": [
    {
     "data": {
      "text/plain": [
       "100"
      ]
     },
     "execution_count": 44,
     "metadata": {},
     "output_type": "execute_result"
    }
   ],
   "source": [
    "my_abs(-100)"
   ]
  },
  {
   "cell_type": "code",
   "execution_count": 45,
   "metadata": {},
   "outputs": [
    {
     "data": {
      "text/plain": [
       "10"
      ]
     },
     "execution_count": 45,
     "metadata": {},
     "output_type": "execute_result"
    }
   ],
   "source": [
    "my_abs(10)"
   ]
  },
  {
   "cell_type": "code",
   "execution_count": 46,
   "metadata": {},
   "outputs": [],
   "source": [
    "def print_text(text, count):\n",
    "    for i in range(count):\n",
    "        print(text)"
   ]
  },
  {
   "cell_type": "code",
   "execution_count": 47,
   "metadata": {},
   "outputs": [
    {
     "name": "stdout",
     "output_type": "stream",
     "text": [
      "안녕하세요\n",
      "안녕하세요\n",
      "안녕하세요\n"
     ]
    }
   ],
   "source": [
    "print_text('안녕하세요', 3)"
   ]
  },
  {
   "cell_type": "code",
   "execution_count": 48,
   "metadata": {},
   "outputs": [
    {
     "ename": "TypeError",
     "evalue": "print_text() missing 1 required positional argument: 'count'",
     "output_type": "error",
     "traceback": [
      "\u001b[1;31m---------------------------------------------------------------------------\u001b[0m",
      "\u001b[1;31mTypeError\u001b[0m                                 Traceback (most recent call last)",
      "\u001b[1;32m<ipython-input-48-2c9278c09169>\u001b[0m in \u001b[0;36m<module>\u001b[1;34m\u001b[0m\n\u001b[1;32m----> 1\u001b[1;33m \u001b[0mprint_text\u001b[0m\u001b[1;33m(\u001b[0m\u001b[1;34m'안녕하세요'\u001b[0m\u001b[1;33m)\u001b[0m\u001b[1;33m\u001b[0m\u001b[1;33m\u001b[0m\u001b[0m\n\u001b[0m",
      "\u001b[1;31mTypeError\u001b[0m: print_text() missing 1 required positional argument: 'count'"
     ]
    }
   ],
   "source": [
    "print_text('안녕하세요')"
   ]
  },
  {
   "cell_type": "code",
   "execution_count": 49,
   "metadata": {},
   "outputs": [],
   "source": [
    "def print_text(text, count=1):  # default parameter , 디폴트 매개변수, 매개변수의 초기값\n",
    "    for i in range(count):\n",
    "        print(text)"
   ]
  },
  {
   "cell_type": "code",
   "execution_count": 50,
   "metadata": {},
   "outputs": [
    {
     "name": "stdout",
     "output_type": "stream",
     "text": [
      "안녕하세요\n"
     ]
    }
   ],
   "source": [
    "print_text('안녕하세요')  # 매개변수가 생략되어도 기본값1이 출력됨"
   ]
  },
  {
   "cell_type": "code",
   "execution_count": 57,
   "metadata": {},
   "outputs": [],
   "source": [
    "def print_text(text=\"감사합니다\", count=1):\n",
    "    for i in range(count):\n",
    "        print(text)"
   ]
  },
  {
   "cell_type": "code",
   "execution_count": 58,
   "metadata": {},
   "outputs": [
    {
     "name": "stdout",
     "output_type": "stream",
     "text": [
      "감사합니다\n"
     ]
    }
   ],
   "source": [
    "print_text()"
   ]
  },
  {
   "cell_type": "code",
   "execution_count": 59,
   "metadata": {},
   "outputs": [
    {
     "name": "stdout",
     "output_type": "stream",
     "text": [
      "10\n"
     ]
    }
   ],
   "source": [
    "print_text(10)"
   ]
  },
  {
   "cell_type": "code",
   "execution_count": 56,
   "metadata": {},
   "outputs": [
    {
     "ename": "SyntaxError",
     "evalue": "invalid syntax (<ipython-input-56-ace84cfc814f>, line 1)",
     "output_type": "error",
     "traceback": [
      "\u001b[1;36m  File \u001b[1;32m\"<ipython-input-56-ace84cfc814f>\"\u001b[1;36m, line \u001b[1;32m1\u001b[0m\n\u001b[1;33m    print_text(,3)\u001b[0m\n\u001b[1;37m               ^\u001b[0m\n\u001b[1;31mSyntaxError\u001b[0m\u001b[1;31m:\u001b[0m invalid syntax\n"
     ]
    }
   ],
   "source": [
    "print_text(,3)"
   ]
  },
  {
   "cell_type": "code",
   "execution_count": 64,
   "metadata": {},
   "outputs": [
    {
     "name": "stdout",
     "output_type": "stream",
     "text": [
      "True\n",
      "False\n",
      "True\n",
      "True\n",
      "False\n"
     ]
    }
   ],
   "source": [
    "# all() : 모든 값이 True인지 검사하는 함수\n",
    "# any() : 어느거 하나라도 True인지 검사하는 함수\n",
    "print(all([1, 2, 3]))\n",
    "print(all([1, 2, 3, 0]))\n",
    "\n",
    "print(any([1, 2, 3]))\n",
    "print(any([1, 2, 3, 0]))\n",
    "print(any([0, 0, 0, 0]))"
   ]
  },
  {
   "cell_type": "code",
   "execution_count": 65,
   "metadata": {},
   "outputs": [
    {
     "name": "stdout",
     "output_type": "stream",
     "text": [
      "True\n"
     ]
    }
   ],
   "source": [
    "a = \"hello\"\n",
    "# 문자열의 경우, 빈문자열이면 'False'로 간주한다.\n",
    "if a:\n",
    "    print(\"True\")\n",
    "else:\n",
    "    print(\"False\")"
   ]
  },
  {
   "cell_type": "code",
   "execution_count": 67,
   "metadata": {},
   "outputs": [],
   "source": [
    "# 가변길이 매개변수 - 크기가 정해져있지 않은 매개변수 \n",
    "# 매개변수 앞에 *를 붙임\n",
    "# 여러개의 값을 입력받을 때\n",
    "def texts(text):\n",
    "    print(text)"
   ]
  },
  {
   "cell_type": "code",
   "execution_count": 68,
   "metadata": {},
   "outputs": [
    {
     "name": "stdout",
     "output_type": "stream",
     "text": [
      "아버지가\n"
     ]
    }
   ],
   "source": [
    "texts('아버지가')"
   ]
  },
  {
   "cell_type": "code",
   "execution_count": 69,
   "metadata": {},
   "outputs": [
    {
     "ename": "TypeError",
     "evalue": "texts() takes 1 positional argument but 3 were given",
     "output_type": "error",
     "traceback": [
      "\u001b[1;31m---------------------------------------------------------------------------\u001b[0m",
      "\u001b[1;31mTypeError\u001b[0m                                 Traceback (most recent call last)",
      "\u001b[1;32m<ipython-input-69-2f2bfd5deb7f>\u001b[0m in \u001b[0;36m<module>\u001b[1;34m\u001b[0m\n\u001b[1;32m----> 1\u001b[1;33m \u001b[0mtexts\u001b[0m\u001b[1;33m(\u001b[0m\u001b[1;34m'아버지가'\u001b[0m\u001b[1;33m,\u001b[0m\u001b[1;34m'방에'\u001b[0m\u001b[1;33m,\u001b[0m\u001b[1;34m'들어가신다'\u001b[0m\u001b[1;33m)\u001b[0m\u001b[1;33m\u001b[0m\u001b[1;33m\u001b[0m\u001b[0m\n\u001b[0m",
      "\u001b[1;31mTypeError\u001b[0m: texts() takes 1 positional argument but 3 were given"
     ]
    }
   ],
   "source": [
    "texts('아버지가','방에','들어가신다')"
   ]
  },
  {
   "cell_type": "code",
   "execution_count": 76,
   "metadata": {},
   "outputs": [],
   "source": [
    "def texts(*text):  # 가변길이 매개변수  # *한개면 튜플형식, **두개면 딕셔너리\n",
    "    result = ''  # 누적변수는 초기값을 준다.\n",
    "    \n",
    "    print(type(text))\n",
    "    for i in text:\n",
    "        result += i\n",
    "        \n",
    "    return result"
   ]
  },
  {
   "cell_type": "code",
   "execution_count": 77,
   "metadata": {},
   "outputs": [
    {
     "name": "stdout",
     "output_type": "stream",
     "text": [
      "<class 'tuple'>\n"
     ]
    },
    {
     "data": {
      "text/plain": [
       "'아버지가방에들어가신다'"
      ]
     },
     "execution_count": 77,
     "metadata": {},
     "output_type": "execute_result"
    }
   ],
   "source": [
    "texts('아버지가','방에','들어가신다')"
   ]
  },
  {
   "cell_type": "code",
   "execution_count": 78,
   "metadata": {},
   "outputs": [],
   "source": [
    "def player(**players):  #  딕셔너리 타입의 가변길이 매개변수\n",
    "    \n",
    "    print(type(players))\n",
    "    for k in players.keys():\n",
    "        print(\"{0} = {1}\".format(k, players[k]))"
   ]
  },
  {
   "cell_type": "code",
   "execution_count": 85,
   "metadata": {},
   "outputs": [
    {
     "name": "stdout",
     "output_type": "stream",
     "text": [
      "<class 'dict'>\n",
      "카시야스 = GK\n",
      "호날두 = FW\n",
      "손흥민 = MF\n"
     ]
    }
   ],
   "source": [
    "player(카시야스 = 'GK', 호날두 = 'FW', 손흥민 = 'MF')  \n",
    "# 함수 안에서는 (key = 'value') 이런식으로 딕셔너리에 사용"
   ]
  },
  {
   "cell_type": "code",
   "execution_count": 87,
   "metadata": {},
   "outputs": [],
   "source": [
    "# dic(key:value, ...)"
   ]
  },
  {
   "cell_type": "code",
   "execution_count": 88,
   "metadata": {},
   "outputs": [],
   "source": [
    "# add_sum(1, 2, 3, 4, 5, 6, 7, 8, 9, 10):\n",
    "# add_sum(1, 2, 3):\n",
    "# add_sum(1, 2):\n",
    "\n",
    "# people(name, age, height):\n",
    "# people(name, age)\n",
    "# people(name)\n",
    "# people()"
   ]
  },
  {
   "cell_type": "code",
   "execution_count": 93,
   "metadata": {},
   "outputs": [],
   "source": [
    "def people(name='강감찬', age=33, height=159.7):\n",
    "    print(\"{0}님 : {1}세 : {2}cm\".format(name, age, height))\n",
    "    #return  # 특정값을 main으로 전달해줘야 할 때 return사용\n",
    "    # default parameter 는 뒤에서부터 입력해줘야함, 건너뛰면 안됨"
   ]
  },
  {
   "cell_type": "code",
   "execution_count": 94,
   "metadata": {},
   "outputs": [
    {
     "name": "stdout",
     "output_type": "stream",
     "text": [
      "홍길동님 : 19세 : 189.7cm\n",
      "이순신님 : 29세 : 159.7cm\n",
      "장보고님 : 33세 : 159.7cm\n",
      "강감찬님 : 33세 : 159.7cm\n"
     ]
    }
   ],
   "source": [
    "people('홍길동', 19, 189.7)\n",
    "people('이순신', 29)\n",
    "people('장보고')\n",
    "people()"
   ]
  },
  {
   "cell_type": "code",
   "execution_count": 95,
   "metadata": {},
   "outputs": [],
   "source": [
    "def add_sum(x, y):\n",
    "    return x+y"
   ]
  },
  {
   "cell_type": "code",
   "execution_count": 96,
   "metadata": {},
   "outputs": [
    {
     "data": {
      "text/plain": [
       "3"
      ]
     },
     "execution_count": 96,
     "metadata": {},
     "output_type": "execute_result"
    }
   ],
   "source": [
    "print(add_sum(1, 2))\n",
    "print(add_sum(1, 2, 3))\n",
    "print(add_sum(1, 2, 3, 4))\n",
    "print(add_sum(1, 2, 3, 4, 5))\n"
   ]
  },
  {
   "cell_type": "code",
   "execution_count": 112,
   "metadata": {},
   "outputs": [],
   "source": [
    "def add_sum(*x):\n",
    "    res = 0\n",
    "    \n",
    "    for i in x: \n",
    "        res += i\n",
    "        \n",
    "    return res"
   ]
  },
  {
   "cell_type": "code",
   "execution_count": 115,
   "metadata": {},
   "outputs": [
    {
     "name": "stdout",
     "output_type": "stream",
     "text": [
      "3\n",
      "6\n",
      "10\n",
      "15\n",
      "14\n"
     ]
    }
   ],
   "source": [
    "print(add_sum(1, 2))\n",
    "print(add_sum(1, 2, 3))\n",
    "print(add_sum(1, 2, 3, 4))\n",
    "print(add_sum(1, 2, 3, 4, 5))\n",
    "print(add_sum(3, 6, 5))\n"
   ]
  },
  {
   "cell_type": "code",
   "execution_count": 116,
   "metadata": {},
   "outputs": [],
   "source": [
    "def total(x):\n",
    "    res = 0\n",
    "    \n",
    "    for i in x: \n",
    "        res += i\n",
    "        \n",
    "    return res"
   ]
  },
  {
   "cell_type": "code",
   "execution_count": 120,
   "metadata": {},
   "outputs": [
    {
     "name": "stdout",
     "output_type": "stream",
     "text": [
      "15\n"
     ]
    }
   ],
   "source": [
    "print(total([1, 2, 3, 4, 5]))  # 가변매개변수는 일반적으로 튜플로 만들지만, 인수(arg)를 리스트로 하면 가능하다"
   ]
  },
  {
   "cell_type": "code",
   "execution_count": 10,
   "metadata": {},
   "outputs": [],
   "source": [
    "def add_mul(choice, *args):\n",
    "    if choice == \"add\":\n",
    "        res = 0\n",
    "        for i in args:\n",
    "            res += i\n",
    "    elif choice == \"mul\":\n",
    "        res = 1\n",
    "        for i in args:\n",
    "            res *= i\n",
    "                \n",
    "    return res"
   ]
  },
  {
   "cell_type": "code",
   "execution_count": 11,
   "metadata": {},
   "outputs": [
    {
     "name": "stdout",
     "output_type": "stream",
     "text": [
      "15\n",
      "120\n"
     ]
    }
   ],
   "source": [
    "result = add_mul('add', 1, 2, 3, 4, 5)\n",
    "print(result)\n",
    "\n",
    "result = add_mul('mul', 1, 2, 3, 4, 5)\n",
    "print(result)"
   ]
  },
  {
   "cell_type": "code",
   "execution_count": 168,
   "metadata": {},
   "outputs": [],
   "source": [
    "# 구구단을 출력하는 프로그램을 구현하시오.\n",
    "#  키보드를 통해 단을 입력받아 해당 구구단을 출력하는 프로그램을\n",
    "# 별도의 함수로 구현하시오. (gugudan)\n",
    "\n",
    "dan = int(input(\"단 = \"))\n",
    "\n",
    "for i in range(1, 10):\n",
    "    print(\"{0} x {1} = {2}\".format(dan, i, dan*i))"
   ]
  },
  {
   "cell_type": "code",
   "execution_count": 170,
   "metadata": {},
   "outputs": [],
   "source": [
    "def gugudan(dan):\n",
    "    for i in range(1, 10):\n",
    "        print(\"{0} x {1} = {2}\".format(dan, i, dan*i))"
   ]
  },
  {
   "cell_type": "code",
   "execution_count": 172,
   "metadata": {},
   "outputs": [
    {
     "name": "stdout",
     "output_type": "stream",
     "text": [
      "단 = 5\n",
      "5 x 1 = 5\n",
      "5 x 2 = 10\n",
      "5 x 3 = 15\n",
      "5 x 4 = 20\n",
      "5 x 5 = 25\n",
      "5 x 6 = 30\n",
      "5 x 7 = 35\n",
      "5 x 8 = 40\n",
      "5 x 9 = 45\n"
     ]
    }
   ],
   "source": [
    "dan = int(input(\"단 = \"))\n",
    "gugudan(dan)"
   ]
  },
  {
   "cell_type": "code",
   "execution_count": 173,
   "metadata": {},
   "outputs": [],
   "source": [
    "# 함수 선언 or 정의\n",
    "def say():\n",
    "    a = \"안녕하세요\"\n",
    "    #print(a)   # print를 생략하고 return 해도되고, print하고 retrun을 생략해도됨\n",
    "    return a   # a 값을 리턴"
   ]
  },
  {
   "cell_type": "code",
   "execution_count": 175,
   "metadata": {},
   "outputs": [
    {
     "name": "stdout",
     "output_type": "stream",
     "text": [
      "안녕하세요\n"
     ]
    }
   ],
   "source": [
    "# 함수 호출\n",
    "print(say())  # print(\"안녕하세요\")"
   ]
  },
  {
   "cell_type": "code",
   "execution_count": 176,
   "metadata": {},
   "outputs": [],
   "source": [
    "def say():\n",
    "    a = \"안녕하세요\"\n",
    "    print(a)  # a값 출력\n",
    "    #return a"
   ]
  },
  {
   "cell_type": "code",
   "execution_count": 177,
   "metadata": {},
   "outputs": [
    {
     "name": "stdout",
     "output_type": "stream",
     "text": [
      "안녕하세요\n"
     ]
    }
   ],
   "source": [
    "say()"
   ]
  },
  {
   "cell_type": "code",
   "execution_count": 181,
   "metadata": {},
   "outputs": [],
   "source": [
    "def hello(name):\n",
    "    s = \"Hello, {0}\".format(name)\n",
    "    #print(s)\n",
    "    return s"
   ]
  },
  {
   "cell_type": "code",
   "execution_count": 184,
   "metadata": {},
   "outputs": [
    {
     "data": {
      "text/plain": [
       "'Hello, phil'"
      ]
     },
     "execution_count": 184,
     "metadata": {},
     "output_type": "execute_result"
    }
   ],
   "source": [
    "hello(\"phil\")"
   ]
  },
  {
   "cell_type": "code",
   "execution_count": 6,
   "metadata": {},
   "outputs": [],
   "source": [
    "# 파이썬에서는 없음을 뜻하는 키워드 'None'\n",
    "def hello2(name=None):\n",
    "    if name == None:\n",
    "        print(\"이름을 입력하세요.\")\n",
    "        return  # 제어권만 main에 넘겨준다는 의미, \n",
    "                  #return이 있으므로 아래 프린트가 실행됨(?) -> 건너뜀\n",
    "    print(\"Hello, \", name)"
   ]
  },
  {
   "cell_type": "code",
   "execution_count": 196,
   "metadata": {},
   "outputs": [
    {
     "name": "stdout",
     "output_type": "stream",
     "text": [
      "Hello,  LEE\n"
     ]
    }
   ],
   "source": [
    "hello2(\"LEE\")"
   ]
  },
  {
   "cell_type": "code",
   "execution_count": 7,
   "metadata": {},
   "outputs": [
    {
     "name": "stdout",
     "output_type": "stream",
     "text": [
      "이름을 입력하세요.\n"
     ]
    }
   ],
   "source": [
    "hello2()"
   ]
  },
  {
   "cell_type": "code",
   "execution_count": 198,
   "metadata": {},
   "outputs": [],
   "source": [
    "def hello3(name='KIM'):\n",
    "    s = \"Hello, {0}\".format(name)\n",
    "    print(s)"
   ]
  },
  {
   "cell_type": "code",
   "execution_count": 200,
   "metadata": {},
   "outputs": [
    {
     "name": "stdout",
     "output_type": "stream",
     "text": [
      "Hello, KIM\n",
      "Hello, LEE\n"
     ]
    }
   ],
   "source": [
    "hello3()\n",
    "hello3(\"LEE\")  # 매개변수를 입력하면 default값을 무시하고 나타남"
   ]
  },
  {
   "cell_type": "markdown",
   "metadata": {},
   "source": [
    "#### 함수의 유형\n",
    "- 매개변수도 없고 리턴값도 없는 형태\n",
    "- 매개변수는 없고 리턴값은 있는 형태\n",
    "- 매개변수가 있고 리턴값이 없는 형태\n",
    "- 매개변수가 있고 리턴값도 있는 형태"
   ]
  },
  {
   "cell_type": "code",
   "execution_count": 201,
   "metadata": {},
   "outputs": [
    {
     "name": "stdout",
     "output_type": "stream",
     "text": [
      "Hi\n"
     ]
    }
   ],
   "source": [
    "def hi():\n",
    "    print(\"Hi\")\n",
    "    \n",
    "hi()"
   ]
  },
  {
   "cell_type": "code",
   "execution_count": 3,
   "metadata": {},
   "outputs": [
    {
     "name": "stdout",
     "output_type": "stream",
     "text": [
      "Hi\n",
      "Hi\n"
     ]
    }
   ],
   "source": [
    "def hi2():\n",
    "    #s = \"Hi\"\n",
    "    return \"Hi\"\n",
    "\n",
    "print(hi2())\n",
    "s = hi2()\n",
    "print(s)"
   ]
  },
  {
   "cell_type": "code",
   "execution_count": 207,
   "metadata": {},
   "outputs": [
    {
     "name": "stdout",
     "output_type": "stream",
     "text": [
      "10, 20\n"
     ]
    }
   ],
   "source": [
    "def add(x, y):\n",
    "    print(\"{0}, {1}\".format(x, y))\n",
    "    \n",
    "add(10, 20)"
   ]
  },
  {
   "cell_type": "code",
   "execution_count": 213,
   "metadata": {},
   "outputs": [
    {
     "name": "stdout",
     "output_type": "stream",
     "text": [
      "10, 20\n",
      "10, 20\n"
     ]
    }
   ],
   "source": [
    "def add2(x, y):\n",
    "    s = \"{0}, {1}\".format(x, y)\n",
    "    return s\n",
    "\n",
    "print(add2(10, 20))\n",
    "s = add2(10, 20)\n",
    "print(s)"
   ]
  },
  {
   "cell_type": "code",
   "execution_count": 214,
   "metadata": {},
   "outputs": [
    {
     "name": "stdout",
     "output_type": "stream",
     "text": [
      "10 + 20 = 30\n"
     ]
    }
   ],
   "source": [
    "def sum(a, b):\n",
    "    print(\"{0} + {1} = {2}\".format(a, b, a+b))\n",
    "\n",
    "sum(10, 20)"
   ]
  },
  {
   "cell_type": "code",
   "execution_count": 216,
   "metadata": {},
   "outputs": [],
   "source": [
    "# sum(1)\n",
    "# sum(1, 2, 3)"
   ]
  },
  {
   "cell_type": "code",
   "execution_count": 229,
   "metadata": {},
   "outputs": [
    {
     "name": "stdout",
     "output_type": "stream",
     "text": [
      "<class 'tuple'> (10, 20)\n",
      "30\n",
      "<class 'tuple'> (1, 2, 3, 4, 5)\n",
      "15\n",
      "<class 'tuple'> (100,)\n",
      "100\n"
     ]
    }
   ],
   "source": [
    "def sum2(*x):\n",
    "    print(type(x), x)  # tuple 자료형으로 받아온다.\n",
    "    res = 0  # 누적변수\n",
    "    \n",
    "    for i in x:\n",
    "        res += i\n",
    "    \n",
    "    return res\n",
    "\n",
    "n = sum2(10, 20)\n",
    "print(n)\n",
    "\n",
    "n = sum2(1, 2, 3, 4, 5)\n",
    "print(n)\n",
    "\n",
    "n = sum2(100)\n",
    "print(n)"
   ]
  },
  {
   "cell_type": "code",
   "execution_count": 235,
   "metadata": {},
   "outputs": [
    {
     "name": "stdout",
     "output_type": "stream",
     "text": [
      "<class 'tuple'> (1, 2, 3, 4, 5)\n"
     ]
    }
   ],
   "source": [
    "def a():\n",
    "    return 1, 2, 3, 4, 5\n",
    "\n",
    "val = a()  # val = 1, 2, 3, 4, 5  packing\n",
    "print(type(val), val)"
   ]
  },
  {
   "cell_type": "code",
   "execution_count": 236,
   "metadata": {},
   "outputs": [
    {
     "name": "stdout",
     "output_type": "stream",
     "text": [
      "1 2 3 4 5\n"
     ]
    }
   ],
   "source": [
    "a, b, c, d, e = a()\n",
    "print(a, b, c, d, e)  # unpacking"
   ]
  },
  {
   "cell_type": "code",
   "execution_count": 238,
   "metadata": {},
   "outputs": [
    {
     "name": "stdout",
     "output_type": "stream",
     "text": [
      "지역변수 : 11\n",
      "1\n"
     ]
    }
   ],
   "source": [
    "a = 1  # 전역변수(global variable)\n",
    "\n",
    "def test(a):  # 지역변수(local variable) ; 함수 안에서 선언되는 변수\n",
    "    a = a + 1  # 지역변수의 a값은 변한다.\n",
    "    print(\"지역변수 : {0}\".format(a))\n",
    "\n",
    "test(10)\n",
    "print(a)  # 전역변수"
   ]
  },
  {
   "cell_type": "code",
   "execution_count": 244,
   "metadata": {},
   "outputs": [
    {
     "name": "stdout",
     "output_type": "stream",
     "text": [
      "a =  2\n",
      "2\n"
     ]
    }
   ],
   "source": [
    "a = 1\n",
    "\n",
    "def test():\n",
    "    global a  # 전역변수 a를 가져다 씀\n",
    "    a = a + 1\n",
    "    print(\"a = \", a)\n",
    "        \n",
    "test()\n",
    "print(a)"
   ]
  }
 ],
 "metadata": {
  "kernelspec": {
   "display_name": "Python 3",
   "language": "python",
   "name": "python3"
  },
  "language_info": {
   "codemirror_mode": {
    "name": "ipython",
    "version": 3
   },
   "file_extension": ".py",
   "mimetype": "text/x-python",
   "name": "python",
   "nbconvert_exporter": "python",
   "pygments_lexer": "ipython3",
   "version": "3.7.3"
  }
 },
 "nbformat": 4,
 "nbformat_minor": 2
}
