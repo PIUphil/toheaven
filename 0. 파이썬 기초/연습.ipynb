{
 "cells": [
  {
   "cell_type": "code",
   "execution_count": 2,
   "metadata": {},
   "outputs": [
    {
     "name": "stdout",
     "output_type": "stream",
     "text": [
      "# 기본적인 연산\n",
      "15 + 4 = 19\n",
      "15 - 4 = 11\n",
      "15 * 4 = 60\n",
      "15 / 4 = 3.75\n"
     ]
    }
   ],
   "source": [
    "print(\"# 기본적인 연산\")\n",
    "print(15,\"+\",4,\"=\",15+4)\n",
    "print(15,\"-\",4,\"=\",15-4)\n",
    "print(15,\"*\",4,\"=\",15*4)\n",
    "print(15,\"/\",4,\"=\",15/4)"
   ]
  },
  {
   "cell_type": "code",
   "execution_count": 3,
   "metadata": {},
   "outputs": [
    {
     "name": "stdout",
     "output_type": "stream",
     "text": [
      "0.0\n"
     ]
    }
   ],
   "source": [
    "print(2+2-2*2/2*2)"
   ]
  },
  {
   "cell_type": "code",
   "execution_count": 4,
   "metadata": {},
   "outputs": [
    {
     "name": "stdout",
     "output_type": "stream",
     "text": [
      "4.0\n"
     ]
    }
   ],
   "source": [
    "print(2-2+2/2*2+2)"
   ]
  },
  {
   "cell_type": "code",
   "execution_count": 5,
   "metadata": {},
   "outputs": [
    {
     "data": {
      "text/plain": [
       "203"
      ]
     },
     "execution_count": 5,
     "metadata": {},
     "output_type": "execute_result"
    }
   ],
   "source": [
    "3462//17"
   ]
  },
  {
   "cell_type": "code",
   "execution_count": 6,
   "metadata": {},
   "outputs": [
    {
     "data": {
      "text/plain": [
       "11"
      ]
     },
     "execution_count": 6,
     "metadata": {},
     "output_type": "execute_result"
    }
   ],
   "source": [
    "3462%17"
   ]
  },
  {
   "cell_type": "code",
   "execution_count": 9,
   "metadata": {},
   "outputs": [],
   "source": [
    "import math"
   ]
  },
  {
   "cell_type": "code",
   "execution_count": 10,
   "metadata": {},
   "outputs": [],
   "source": [
    "import datetime"
   ]
  },
  {
   "cell_type": "code",
   "execution_count": 22,
   "metadata": {},
   "outputs": [
    {
     "name": "stdout",
     "output_type": "stream",
     "text": [
      "44\n"
     ]
    }
   ],
   "source": [
    "# now = datetime.datetime.now()\n",
    "\n",
    "print(now.second)\n"
   ]
  },
  {
   "cell_type": "code",
   "execution_count": 29,
   "metadata": {},
   "outputs": [
    {
     "name": "stdout",
     "output_type": "stream",
     "text": [
      "5\n"
     ]
    }
   ],
   "source": [
    "x=1\n",
    "y=4\n",
    "\n",
    "if x>4:\n",
    "    if y>2:\n",
    "        print(x*y)\n",
    "else:\n",
    "    print(x+y)"
   ]
  },
  {
   "cell_type": "code",
   "execution_count": 30,
   "metadata": {},
   "outputs": [
    {
     "name": "stdout",
     "output_type": "stream",
     "text": [
      "조건맞\n"
     ]
    }
   ],
   "source": [
    "x=15\n",
    "if x>10 and x<20:\n",
    "    print(\"조건맞\")"
   ]
  },
  {
   "cell_type": "code",
   "execution_count": 31,
   "metadata": {},
   "outputs": [
    {
     "data": {
      "text/plain": [
       "3"
      ]
     },
     "execution_count": 31,
     "metadata": {},
     "output_type": "execute_result"
    }
   ],
   "source": [
    "2019%12"
   ]
  },
  {
   "cell_type": "code",
   "execution_count": 67,
   "metadata": {},
   "outputs": [
    {
     "name": "stdout",
     "output_type": "stream",
     "text": [
      "10\n",
      "9\n",
      "8\n",
      "7\n",
      "6\n",
      "5\n",
      "4\n",
      "3\n",
      "2\n",
      "1\n",
      "0\n",
      "펑\n"
     ]
    }
   ],
   "source": [
    "import time\n",
    "a=10\n",
    "while a>=0:\n",
    "    print(a)\n",
    "    a -=1\n",
    "    time.sleep(1)\n",
    "print(\"펑\")"
   ]
  },
  {
   "cell_type": "code",
   "execution_count": 65,
   "metadata": {},
   "outputs": [
    {
     "name": "stdout",
     "output_type": "stream",
     "text": [
      "['a', 'b', 'c', 'd', 'e']\n",
      "['y', 'b', 'c', 'd', 'e']\n"
     ]
    }
   ],
   "source": [
    "list=['a','b','c','d','e']\n",
    "print(list)\n",
    "list[0] = list[0] + list[1] +list[2]+list[3]+list[4]\n",
    "q=\",\".join(list[0].replace('a','y')).split(\",\")\n",
    "print(q)"
   ]
  },
  {
   "cell_type": "code",
   "execution_count": 70,
   "metadata": {},
   "outputs": [
    {
     "ename": "SyntaxError",
     "evalue": "invalid syntax (<ipython-input-70-1409f1aeac22>, line 2)",
     "output_type": "error",
     "traceback": [
      "\u001b[1;36m  File \u001b[1;32m\"<ipython-input-70-1409f1aeac22>\"\u001b[1;36m, line \u001b[1;32m2\u001b[0m\n\u001b[1;33m    for i=0 in range(4):\u001b[0m\n\u001b[1;37m         ^\u001b[0m\n\u001b[1;31mSyntaxError\u001b[0m\u001b[1;31m:\u001b[0m invalid syntax\n"
     ]
    }
   ],
   "source": [
    "list=['a','b','c','d','e']\n",
    "for i=0 in range(4):\n",
    "    list[i] = list[i].replace(\"a\",\"y\")\n",
    "print(list)"
   ]
  },
  {
   "cell_type": "code",
   "execution_count": 79,
   "metadata": {},
   "outputs": [
    {
     "name": "stdout",
     "output_type": "stream",
     "text": [
      "                        A                         \n",
      "                       AAA                        \n",
      "                      AAAAA                       \n",
      "                     AAAAAAA                      \n",
      "                    AAAAAAAAA                     \n",
      "                        A                         \n",
      "                        A                         \n",
      "                        A                         \n",
      "                        A                         \n"
     ]
    }
   ],
   "source": [
    "rs = \"{0:^50}\".format(\"A\")\n",
    "print(rs)\n",
    "rs = \"{0:^50}\".format(\"A\"*3)\n",
    "print(rs)\n",
    "rs = \"{0:^50}\".format(\"A\"*5)\n",
    "print(rs)\n",
    "rs = \"{0:^50}\".format(\"AAAAAAA\")\n",
    "print(rs)\n",
    "rs = \"{0:^50}\".format(\"AAAAAAAAA\")\n",
    "print(rs)\n",
    "rs = \"{0:^50}\".format(\"A\")\n",
    "print(rs)\n",
    "rs = \"{0:^50}\".format(\"A\")\n",
    "print(rs)\n",
    "rs = \"{0:^50}\".format(\"A\")\n",
    "print(rs)\n",
    "rs = \"{0:^50}\".format(\"A\")\n",
    "print(rs)\n"
   ]
  },
  {
   "cell_type": "code",
   "execution_count": null,
   "metadata": {},
   "outputs": [],
   "source": []
  }
 ],
 "metadata": {
  "kernelspec": {
   "display_name": "Python 3",
   "language": "python",
   "name": "python3"
  },
  "language_info": {
   "codemirror_mode": {
    "name": "ipython",
    "version": 3
   },
   "file_extension": ".py",
   "mimetype": "text/x-python",
   "name": "python",
   "nbconvert_exporter": "python",
   "pygments_lexer": "ipython3",
   "version": "3.7.3"
  }
 },
 "nbformat": 4,
 "nbformat_minor": 2
}
