{
 "cells": [
  {
   "cell_type": "code",
   "execution_count": 1,
   "metadata": {},
   "outputs": [
    {
     "name": "stdout",
     "output_type": "stream",
     "text": [
      "Help on method raw_input in module ipykernel.kernelbase:\n",
      "\n",
      "raw_input(prompt='') method of ipykernel.ipkernel.IPythonKernel instance\n",
      "    Forward raw_input to frontends\n",
      "    \n",
      "    Raises\n",
      "    ------\n",
      "    StdinNotImplentedError if active frontend doesn't support stdin.\n",
      "\n"
     ]
    }
   ],
   "source": [
    "# 함수명(), help() - 도움말을 보여주는 함수\n",
    "help(input)"
   ]
  },
  {
   "cell_type": "code",
   "execution_count": 2,
   "metadata": {},
   "outputs": [
    {
     "name": "stdout",
     "output_type": "stream",
     "text": [
      "Help on built-in function print in module builtins:\n",
      "\n",
      "print(...)\n",
      "    print(value, ..., sep=' ', end='\\n', file=sys.stdout, flush=False)\n",
      "    \n",
      "    Prints the values to a stream, or to sys.stdout by default.\n",
      "    Optional keyword arguments:\n",
      "    file:  a file-like object (stream); defaults to the current sys.stdout.\n",
      "    sep:   string inserted between values, default a space.\n",
      "    end:   string appended after the last value, default a newline.\n",
      "    flush: whether to forcibly flush the stream.\n",
      "\n"
     ]
    }
   ],
   "source": [
    "help(print)"
   ]
  },
  {
   "cell_type": "code",
   "execution_count": 16,
   "metadata": {},
   "outputs": [
    {
     "name": "stdout",
     "output_type": "stream",
     "text": [
      "정수 1 : 10\n",
      "정수 2 : 81\n",
      "정수 3 : 4.0\n",
      "정수 3 : 3.074074074074074\n"
     ]
    }
   ],
   "source": [
    "# printf = print+function or print+format(서식,속성)\n",
    "# print, println, printf\n",
    "# print 함수 \n",
    "x,y,z = 9,10,11\n",
    "# 형식화된 문자열.format(출력할 값)\n",
    "print(\"정수 1 : {1}\".format(x,y,z))  # x=index\n",
    "print(\"정수 2 : {0}\".format(3**4))\n",
    "\n",
    "# 형변환(cating) : 자료형을 변환하는 작업\n",
    "print(\"정수 3 : {0}\".format(int(8.3)/int(2.7)))  # int=integer (정수)\n",
    "print(\"정수 3 : {0}\".format(float(8.3)/float(2.7))) # float (부동소수점,실수)"
   ]
  },
  {
   "cell_type": "code",
   "execution_count": 18,
   "metadata": {},
   "outputs": [
    {
     "name": "stdout",
     "output_type": "stream",
     "text": [
      "a=10, b=20\n",
      "a=20, b=10\n",
      "a=10, b=20\n"
     ]
    }
   ],
   "source": [
    "# 2개 이상의 값을 출력하는 경우\n",
    "a = 10\n",
    "b = 20\n",
    "\n",
    "print(\"a={}, b={}\".format(a,b))\n",
    "print(\"a={1}, b={0}\".format(a,b))\n",
    "print(\"a={1}, b={0}\".format(b,a))"
   ]
  },
  {
   "cell_type": "code",
   "execution_count": 22,
   "metadata": {},
   "outputs": [
    {
     "name": "stdout",
     "output_type": "stream",
     "text": [
      "실수1 : 3.074074074074074\n",
      "실수1 : 3.074\n"
     ]
    }
   ],
   "source": [
    "print(\"실수1 : {}\".format(8.3/2.7))\n",
    "print(\"실수1 : {0:.3f}\".format(8.3/2.7))  # f= floating"
   ]
  },
  {
   "cell_type": "code",
   "execution_count": 27,
   "metadata": {},
   "outputs": [
    {
     "name": "stdout",
     "output_type": "stream",
     "text": [
      "실수2 : 7.3\n",
      "실수2 : 7.300\n"
     ]
    }
   ],
   "source": [
    "y = 2.5 + 4.8\n",
    "print(\"실수2 : {0:.1f}\".format(y))  # 소수첫째자리까지\n",
    "print(\"실수2 : {0:.3f}\".format(y))  # 소수셋째자리까지"
   ]
  },
  {
   "cell_type": "code",
   "execution_count": 36,
   "metadata": {},
   "outputs": [
    {
     "name": "stdout",
     "output_type": "stream",
     "text": [
      "2.6666666666666665\n",
      "\n",
      "\n",
      "실수3 : 2.67\n",
      "실수3 : 2.6667\n",
      "실수3 :     2.6667\n",
      "실수3 :     2.6667\n"
     ]
    }
   ],
   "source": [
    "r = 8 / float(3)  # 정수와 실수의 계산 = 실수가 됨\n",
    "print(r)\n",
    "print(\"\\n\")\n",
    "\n",
    "# 소수점이하 둘째자리까지 출력\n",
    "print(\"실수3 : {0:.2f}\".format(r)) \n",
    "# 소수점이하 넷째자리까지 출력\n",
    "print(\"실수3 : {0:.4f}\".format(r)) \n",
    "# 전체 10자리중에서 소수점이하 넷째자리까지 출력\n",
    "print(\"실수3 : {0:10.4f}\".format(r))\n",
    "print(\"실수3 : {0:10.4f}\".format(8.0/3))"
   ]
  },
  {
   "cell_type": "code",
   "execution_count": 38,
   "metadata": {},
   "outputs": [
    {
     "name": "stdout",
     "output_type": "stream",
     "text": [
      "Hello\n",
      "Python\n"
     ]
    }
   ],
   "source": [
    "# \\n : 개행문자(줄바꿈 문자), 서식문자\n",
    "multiline = \"Hello\\nPython\"\n",
    "print(multiline)"
   ]
  },
  {
   "cell_type": "code",
   "execution_count": 41,
   "metadata": {},
   "outputs": [
    {
     "data": {
      "text/plain": [
       "'\\n    안녕하세요\\n    파이썬\\n    반갑습니다\\n'"
      ]
     },
     "execution_count": 41,
     "metadata": {},
     "output_type": "execute_result"
    }
   ],
   "source": [
    "multiline = '''\n",
    "    안녕하세요\n",
    "    파이썬\n",
    "    반갑습니다\n",
    "'''\n",
    "multiline"
   ]
  },
  {
   "cell_type": "code",
   "execution_count": 42,
   "metadata": {},
   "outputs": [
    {
     "data": {
      "text/plain": [
       "'\\n    Hello\\n    Python\\n    World\\n'"
      ]
     },
     "execution_count": 42,
     "metadata": {},
     "output_type": "execute_result"
    }
   ],
   "source": [
    "multiline = \"\"\"\n",
    "    Hello\n",
    "    Python\n",
    "    World\n",
    "\"\"\"\n",
    "multiline"
   ]
  },
  {
   "cell_type": "code",
   "execution_count": 46,
   "metadata": {},
   "outputs": [
    {
     "name": "stdout",
     "output_type": "stream",
     "text": [
      "파이썬은 재미있다.\n",
      "파이썬은재미있다.\n"
     ]
    }
   ],
   "source": [
    "# '+', 산술연산자와 나열연산자\n",
    "head = \"파이썬은\"\n",
    "tail = \"재미있다.\"\n",
    "print(head, tail)  # ,  열거연산자 / 한 칸의 공백이 주어진다.\n",
    "print(head + tail)  # 공백없이 출력된다."
   ]
  },
  {
   "cell_type": "code",
   "execution_count": 54,
   "metadata": {},
   "outputs": [
    {
     "name": "stdout",
     "output_type": "stream",
     "text": [
      "홍길동 33\n",
      "이름 : 홍길동, 나이 : 33\n",
      "이름 : 홍길동, 나이 : 33\n"
     ]
    }
   ],
   "source": [
    "name = \"홍길동\"\n",
    "age = 33\n",
    "\n",
    "print(name, age)\n",
    "# print(name + age), 형이 일치하지 않아 오류발생\n",
    "# str(숫자) : 문자열로 형변환한다.\n",
    "# print(name + str(age))\n",
    "\n",
    "print(\"이름 : {0}, 나이 : {1}\".format(name, age))\n",
    "# print(\"이름 : {1}, 나이 : {0}\".format(name, age))\n",
    "print(\"이름 : {1}, 나이 : {0}\".format(age, name))"
   ]
  },
  {
   "cell_type": "code",
   "execution_count": 59,
   "metadata": {},
   "outputs": [
    {
     "name": "stdout",
     "output_type": "stream",
     "text": [
      "파이썬파이썬\n",
      "파이썬파이썬파이썬\n",
      "==================================================\n",
      "My Python Program\n",
      "==================================================\n"
     ]
    }
   ],
   "source": [
    "a = \"파이썬\"\n",
    "print(a * 2)  # 문자에서 *는 반복하라는 의미\n",
    "print(a * 3)\n",
    "\n",
    "print(\"=\" * 50)\n",
    "print(\"My Python Program\")\n",
    "print(50 * \"=\")"
   ]
  },
  {
   "cell_type": "code",
   "execution_count": 60,
   "metadata": {},
   "outputs": [
    {
     "name": "stdout",
     "output_type": "stream",
     "text": [
      "파이썬파이썬파이썬파이썬파이썬\n"
     ]
    }
   ],
   "source": [
    "print(5*a)"
   ]
  },
  {
   "cell_type": "code",
   "execution_count": 64,
   "metadata": {},
   "outputs": [
    {
     "name": "stdout",
     "output_type": "stream",
     "text": [
      "e\n",
      "life\n"
     ]
    }
   ],
   "source": [
    "# 문자열의 인덱싱(indexing), []\n",
    "# 문자열의 슬라이싱(slicing),  [처음위치:마지막-1위치]\n",
    "a = \"life is too short\"\n",
    "print(a[3])\n",
    "print(a[0:4])"
   ]
  },
  {
   "cell_type": "code",
   "execution_count": 65,
   "metadata": {},
   "outputs": [
    {
     "data": {
      "text/plain": [
       "'r'"
      ]
     },
     "execution_count": 65,
     "metadata": {},
     "output_type": "execute_result"
    }
   ],
   "source": [
    "# 역인덱싱\n",
    "a[-2]"
   ]
  },
  {
   "cell_type": "code",
   "execution_count": 66,
   "metadata": {},
   "outputs": [
    {
     "data": {
      "text/plain": [
       "'is too short'"
      ]
     },
     "execution_count": 66,
     "metadata": {},
     "output_type": "execute_result"
    }
   ],
   "source": [
    "a[5:]  # 5번째부터 끝까지"
   ]
  },
  {
   "cell_type": "code",
   "execution_count": 67,
   "metadata": {},
   "outputs": [
    {
     "data": {
      "text/plain": [
       "'life is'"
      ]
     },
     "execution_count": 67,
     "metadata": {},
     "output_type": "execute_result"
    }
   ],
   "source": [
    "a[:7]  # 0번째부터 6번째까지"
   ]
  },
  {
   "cell_type": "code",
   "execution_count": 68,
   "metadata": {},
   "outputs": [
    {
     "data": {
      "text/plain": [
       "'life is too short'"
      ]
     },
     "execution_count": 68,
     "metadata": {},
     "output_type": "execute_result"
    }
   ],
   "source": [
    "a[:]  # all"
   ]
  },
  {
   "cell_type": "code",
   "execution_count": 70,
   "metadata": {},
   "outputs": [
    {
     "name": "stdout",
     "output_type": "stream",
     "text": [
      "True\n",
      "False\n"
     ]
    }
   ],
   "source": [
    "# in 과 not in (있습니까? / 없습니까?) : True or False\n",
    "s = \"Hello world\"\n",
    "print(\"world\" in s)\n",
    "print(\"world\" not in s)"
   ]
  },
  {
   "cell_type": "code",
   "execution_count": 93,
   "metadata": {},
   "outputs": [
    {
     "name": "stdout",
     "output_type": "stream",
     "text": [
      "<class 'int'>\n",
      "나이 : 30세\n",
      "나이2 :    30세\n",
      "좋아하는 과일 : 사과\n",
      "좋아하는 과일2 :사과\n",
      "홍길동님의 나이는 30세 입니다.\n",
      "홍길동님의 나이는 30세 입니다?\n",
      "당첨확률이 98%\n",
      "당첨확률이 98%?\n",
      "원주율 :      3.142\n",
      "원주율 :      3.142 !!\n"
     ]
    }
   ],
   "source": [
    "# 출력서식 %기호와 함께 사용\n",
    "# %d(%i) - decimal(integer), %f - float, %s - string\n",
    "\n",
    "age = 30\n",
    "print(type(age))  # integer, %d\n",
    "print(\"나이 : %s세\" % age)  # 숫자는 문자열로 표현가능하다.\n",
    "print(\"나이2 : {0:5d}세\".format(age))  # 전체 자릿수 5자리\n",
    "\n",
    "fruit = \"사과\"\n",
    "print(\"좋아하는 과일 : %s\" % fruit)\n",
    "print(\"좋아하는 과일2 :{0}\".format(fruit))\n",
    "\n",
    "name = \"홍길동\"\n",
    "print(\"%s님의 나이는 %d세 입니다.\" % (name, age))\n",
    "print(\"{0}님의 나이는 {1}세 입니다?\".format(name, age))\n",
    "\n",
    "rate = 98\n",
    "print(\"당첨확률이 %d%%\" % rate)  # %% 두개사용\n",
    "print(\"당첨확률이 {0}%?\".format(rate))  # % 하나만 사용\n",
    "\n",
    "pi = 3.1415926535\n",
    "print(\"원주율 : %10.3f\" % pi)\n",
    "print(\"원주율 : {0:10.3f} !!\".format(pi)) "
   ]
  },
  {
   "cell_type": "code",
   "execution_count": 94,
   "metadata": {},
   "outputs": [
    {
     "name": "stdout",
     "output_type": "stream",
     "text": [
      "3.141592653589793\n"
     ]
    }
   ],
   "source": [
    "# 원주율을 정확히 알고싶을 때\n",
    "# 파이썬에서 수학 관련 함수는 math 패키지\n",
    "import math  # 외부의 math라는 패키지 가져옴\n",
    "print(math.pi)"
   ]
  },
  {
   "cell_type": "code",
   "execution_count": 104,
   "metadata": {},
   "outputs": [
    {
     "name": "stdout",
     "output_type": "stream",
     "text": [
      "이순신님의 나이가 33입니다\n"
     ]
    }
   ],
   "source": [
    "# 숫자인덱스 대신 변수명을 이용한 서식\n",
    "\n",
    "result = \"{name}님의 나이가 {age}입니다\"\\\n",
    ".format(name='이순신', age=33)  # 줄바꿈할때 \\표시하면 이어지는걸로 진행\n",
    "print(result)"
   ]
  },
  {
   "cell_type": "code",
   "execution_count": 119,
   "metadata": {},
   "outputs": [
    {
     "name": "stdout",
     "output_type": "stream",
     "text": [
      "hi        \n",
      "hi        \n",
      "        hi\n",
      "    hi    \n",
      "====hi====\n",
      "----hi----\n"
     ]
    }
   ],
   "source": [
    "result = \"{0:10}\".format(\"hi\")  # 문자는 왼쪽정렬(기본값)\n",
    "print(result)\n",
    "\n",
    "result = \"{0:<10}\".format(\"hi\")  # <는 왼쪽정렬\n",
    "print(result)\n",
    "\n",
    "result = \"{0:>10}\".format(\"hi\")  # >는 오른쪽정렬\n",
    "print(result)\n",
    "\n",
    "result = \"{0:^10}\".format(\"hi\")  # ^는 가운데정렬\n",
    "print(result)\n",
    "\n",
    "result = \"{0:=^10}\".format(\"hi\")  # ^는 가운데정렬, 공백은(=)으로 표시\n",
    "print(result)\n",
    "\n",
    "result = \"{0:-^10}\".format(\"hi\")  # 공백(-)표시\n",
    "print(result)"
   ]
  },
  {
   "cell_type": "code",
   "execution_count": 121,
   "metadata": {},
   "outputs": [
    {
     "name": "stdout",
     "output_type": "stream",
     "text": [
      "hobby\n",
      "2\n"
     ]
    }
   ],
   "source": [
    "a = \"hobby\"\n",
    "print(a)\n",
    "print(a.count('b'))  # a라는 문자열에서 'b' 라는 글자가 몇 개 있는지 셈"
   ]
  },
  {
   "cell_type": "code",
   "execution_count": 125,
   "metadata": {},
   "outputs": [
    {
     "name": "stdout",
     "output_type": "stream",
     "text": [
      "Have a nice today\n",
      "7\n",
      "-1\n"
     ]
    }
   ],
   "source": [
    "a = 'Have a nice today'\n",
    "print(a)\n",
    "print(a.find(\"nice\"))  # a라는 문자열에서 'nice'라는 글자의 시작위치를 알려줌\n",
    "print(a.find(\"have\"))  # 못찾으면 -1 의 값을 반환"
   ]
  },
  {
   "cell_type": "code",
   "execution_count": 129,
   "metadata": {},
   "outputs": [
    {
     "name": "stdout",
     "output_type": "stream",
     "text": [
      "8\n"
     ]
    }
   ],
   "source": [
    "a = \"Life is too short\"\n",
    "print(a.index(\"too\"))  # a라는 문자열에서 'kind'의 시작위치를 가져와라\n",
    "print(a.index(\"kind\"))  # 못찾으면 에러발생"
   ]
  },
  {
   "cell_type": "code",
   "execution_count": 131,
   "metadata": {},
   "outputs": [
    {
     "name": "stdout",
     "output_type": "stream",
     "text": [
      "a,b,c,d,e,f,g\n"
     ]
    }
   ],
   "source": [
    "a = \",\"  # join : 합친다\n",
    "result = a.join(\"abcdefg\")  # 구분자.join(\"문자열\")  - 문자열 사이사이에 a를 넣어라(합쳐라)\n",
    "\n",
    "print(result)"
   ]
  },
  {
   "cell_type": "code",
   "execution_count": 138,
   "metadata": {},
   "outputs": [
    {
     "name": "stdout",
     "output_type": "stream",
     "text": [
      "HELLO\n",
      "hello\n",
      "Python programing\n"
     ]
    }
   ],
   "source": [
    "# upper, lower\n",
    "a = \"hello\"\n",
    "result = a.upper()  # 대문자로 변경\n",
    "print(result)\n",
    "result = a.lower()  # 소문자로 변경\n",
    "print(result)\n",
    "\n",
    "a = \"python programing\"\n",
    "result = a.capitalize()  # 첫글자만 대문자로\n",
    "print(result)"
   ]
  },
  {
   "cell_type": "code",
   "execution_count": 139,
   "metadata": {},
   "outputs": [
    {
     "name": "stdout",
     "output_type": "stream",
     "text": [
      "경력 개발자\n"
     ]
    }
   ],
   "source": [
    "# replace(A, B) - A를 B로 변경\n",
    "a = \"신입 개발자\"\n",
    "result = a.replace(\"신입\",\"경력\")\n",
    "print(result)"
   ]
  },
  {
   "cell_type": "code",
   "execution_count": 140,
   "metadata": {},
   "outputs": [
    {
     "name": "stdout",
     "output_type": "stream",
     "text": [
      "['신입', '개발자', '자바', '파이썬', '가능자']\n"
     ]
    }
   ],
   "source": [
    "# split \n",
    "a = \"신입 개발자 자바 파이썬 가능자\"\n",
    "result = a.split()  # 공백을 기준으로 분리 - 리스트(자료구조)로 저장함\n",
    "print(result)"
   ]
  },
  {
   "cell_type": "code",
   "execution_count": 142,
   "metadata": {},
   "outputs": [
    {
     "name": "stdout",
     "output_type": "stream",
     "text": [
      "['A', 'B', 'C', 'D', 'E']\n"
     ]
    }
   ],
   "source": [
    "b = \"A:B:C:D:E\"\n",
    "result = b.split(\":\")  # \":\"을 기준으로 분리\n",
    "print(result)"
   ]
  },
  {
   "cell_type": "code",
   "execution_count": null,
   "metadata": {},
   "outputs": [],
   "source": []
  }
 ],
 "metadata": {
  "kernelspec": {
   "display_name": "Python 3",
   "language": "python",
   "name": "python3"
  },
  "language_info": {
   "codemirror_mode": {
    "name": "ipython",
    "version": 3
   },
   "file_extension": ".py",
   "mimetype": "text/x-python",
   "name": "python",
   "nbconvert_exporter": "python",
   "pygments_lexer": "ipython3",
   "version": "3.7.3"
  }
 },
 "nbformat": 4,
 "nbformat_minor": 2
}
