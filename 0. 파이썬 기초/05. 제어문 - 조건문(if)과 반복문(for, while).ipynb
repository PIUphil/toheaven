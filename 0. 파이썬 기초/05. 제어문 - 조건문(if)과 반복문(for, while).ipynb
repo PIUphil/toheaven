{
 "cells": [
  {
   "cell_type": "markdown",
   "metadata": {},
   "source": [
    "#### 0. 들여쓰기와 제어문\n",
    "- 파이썬은 들여쓰기를 강제하여 코드의 가독성을 높인다.\n",
    "- 블록({}) 내부에 있는 문장들은 반드시 들여쓰기가 일치해야 한다.\n",
    "- 블록의 시작은 콜론(:)이고, 블록의 끝은 들여쓰기가 끝나는 부분이다."
   ]
  },
  {
   "cell_type": "markdown",
   "metadata": {},
   "source": [
    "#### 1. 조건문 or 선택문 or 비교판단문\n",
    "- 조건식을 가지고 있는 문장\n",
    "- 주어진 조건식이 참일 때만 해당 문장을 수행한다.\n",
    "- if문 : 만약 ~라면\n",
    "- if 논리조건식:"
   ]
  },
  {
   "cell_type": "code",
   "execution_count": 6,
   "metadata": {},
   "outputs": [
    {
     "name": "stdout",
     "output_type": "stream",
     "text": [
      "숫자 = 31415926535897932380477\n",
      "<class 'int'>\n",
      "양수\n",
      "프로그램을 종료합니다.\n"
     ]
    }
   ],
   "source": [
    "# 하나의 숫자를 입력받아 양수인지를 판단하는 문장\n",
    "# 해당 숫자가 양수라면 '양수'라는 문구가 출력\n",
    "num = int(input(\"숫자 = \"))\n",
    "print(type(num))\n",
    "\n",
    "if num > 0 :\n",
    "    print(\"양수\")\n",
    "print(\"프로그램을 종료합니다.\")"
   ]
  },
  {
   "cell_type": "code",
   "execution_count": 7,
   "metadata": {},
   "outputs": [
    {
     "name": "stdout",
     "output_type": "stream",
     "text": [
      "숫자 = 0\n",
      "음수입니다.\n",
      "프로그램을 종료합니다.\n"
     ]
    }
   ],
   "source": [
    "# 양수와 음수를 판정하는 프로그램\n",
    "num = int(input(\"숫자 = \"))\n",
    "\n",
    "if num > 0:\n",
    "    print(\"양수입니다.\")\n",
    "else :\n",
    "    print(\"음수입니다.\")\n",
    "    \n",
    "print(\"프로그램을 종료합니다.\")"
   ]
  },
  {
   "cell_type": "code",
   "execution_count": 10,
   "metadata": {},
   "outputs": [
    {
     "name": "stdout",
     "output_type": "stream",
     "text": [
      "숫자 = 0\n",
      "제로\n"
     ]
    }
   ],
   "source": [
    "num = int(input(\"숫자 = \"))\n",
    "\n",
    "if num > 0:\n",
    "    print(\"양수\")\n",
    "elif num <0:  # elif = else if\n",
    "    print(\"음수\")\n",
    "else :\n",
    "    print(\"제로\")"
   ]
  },
  {
   "cell_type": "code",
   "execution_count": 20,
   "metadata": {},
   "outputs": [
    {
     "name": "stdout",
     "output_type": "stream",
     "text": [
      "숫자 = 88888888888888888888888888888\n",
      "짝수\n"
     ]
    }
   ],
   "source": [
    "# 하나의 숫자를 입력받아 짝수인지 홀수인지 판단\n",
    "num = int(input(\"숫자 = \"))\n",
    "\n",
    "if num % 2 == 0:\n",
    "    print(\"짝수\")\n",
    "else:\n",
    "    print(\"홀수\")"
   ]
  },
  {
   "cell_type": "markdown",
   "metadata": {},
   "source": [
    "#### 2. 반복문 (for, while)\n",
    "- 동일하거나 유사한 성격을 가지고 있는 문장\n",
    "- 조건이 참일 때 반복을 수행\n",
    "- 반복횟수를 제어할 때 사용\n",
    "- 형식\n",
    "- for 개별변수 in 집합변수:\n",
    "- while 논리조건식:"
   ]
  },
  {
   "cell_type": "code",
   "execution_count": 22,
   "metadata": {},
   "outputs": [
    {
     "name": "stdout",
     "output_type": "stream",
     "text": [
      "1\n",
      "1\n",
      "1\n",
      "1\n",
      "1\n"
     ]
    }
   ],
   "source": [
    "print(1)\n",
    "print(1)\n",
    "print(1)\n",
    "print(1)\n",
    "print(1)"
   ]
  },
  {
   "cell_type": "code",
   "execution_count": 23,
   "metadata": {},
   "outputs": [
    {
     "name": "stdout",
     "output_type": "stream",
     "text": [
      "1\n",
      "1\n",
      "1\n",
      "1\n",
      "1\n"
     ]
    }
   ],
   "source": [
    "for i in range(5):\n",
    "    print(1)"
   ]
  },
  {
   "cell_type": "code",
   "execution_count": 24,
   "metadata": {},
   "outputs": [
    {
     "name": "stdout",
     "output_type": "stream",
     "text": [
      "1\n",
      "2\n",
      "3\n",
      "4\n",
      "5\n"
     ]
    }
   ],
   "source": [
    "print(1)\n",
    "print(2)\n",
    "print(3)\n",
    "print(4)\n",
    "print(5)"
   ]
  },
  {
   "cell_type": "code",
   "execution_count": 27,
   "metadata": {},
   "outputs": [
    {
     "name": "stdout",
     "output_type": "stream",
     "text": [
      "1\n",
      "2\n",
      "3\n",
      "4\n",
      "5\n"
     ]
    }
   ],
   "source": [
    "for i in range(1,6):\n",
    "    print(i)"
   ]
  },
  {
   "cell_type": "code",
   "execution_count": null,
   "metadata": {},
   "outputs": [],
   "source": []
  }
 ],
 "metadata": {
  "kernelspec": {
   "display_name": "Python 3",
   "language": "python",
   "name": "python3"
  },
  "language_info": {
   "codemirror_mode": {
    "name": "ipython",
    "version": 3
   },
   "file_extension": ".py",
   "mimetype": "text/x-python",
   "name": "python",
   "nbconvert_exporter": "python",
   "pygments_lexer": "ipython3",
   "version": "3.7.3"
  }
 },
 "nbformat": 4,
 "nbformat_minor": 2
}
