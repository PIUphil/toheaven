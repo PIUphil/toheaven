{
 "cells": [
  {
   "cell_type": "markdown",
   "metadata": {},
   "source": [
    "#### 0. 함수(Function) vs 모듈(Module)\n",
    "- 함수(Fuction) : 파일 내에서 일정한 작업을 수행하는 코드 블록  \n",
    "  　　　　　　　반복적으로 사용되는 기능이나 명령어의 집합  \n",
    "  　　　　　　　서브프로그램(sub program)\n",
    "- 모듈(Module) : 함수나 변수 또는 클래스들을 모아놓은 파일  \n",
    "  　　　　　　　함수의 확장된 개념  \n",
    "　　　　　　　재사용을 극대화시켜주기 위해서 사용된다.  \n",
    "　　　　　　　py라는 확장자를 가지고 있다.(파이썬 파일)  \n",
    "- 패키지(Package) : 여러개의 모듈을 모아놓은 디렉토리(폴더)  \n",
    "  　　　　　　　모듈(파일), 패키지(폴더)"
   ]
  },
  {
   "cell_type": "markdown",
   "metadata": {},
   "source": [
    "#### 1. 모듈의 종류\n",
    "- 표준 모듈 : 파이썬 언어 패키지안에 기본적으로 포함된 모듈  \n",
    "　　　　　대표적인 math, string...\n",
    "- 사용자 정의 모듈 : 개발자에 의해 생성된 모듈\n",
    "- 써드 파티 모듈 : 개인이나 업체에 의해 만들어서 제공되는 모듈"
   ]
  },
  {
   "cell_type": "markdown",
   "metadata": {},
   "source": [
    "#### 2. 모듈의 선언\n",
    "- 모듈 전체를 참조할 때  \n",
    "　　import 모듈명  \n",
    "　　import 모듈명 as 별칭 => import numpy as np (닉네임,,)\n",
    "  \n",
    "  \n",
    "- 모듈 내에서 필요한 부분만 참조할 때  \n",
    "　　from 모듈명 import 변수 or 함수 (필요한 부분)  \n",
    "　　from 모듈명 import * (=all)  \n",
    "　　from 모듈명 import 이름 as 별칭\n",
    "  \n",
    "  \n",
    "- 모듈 내부의 함수 호출하는 방법  \n",
    "　　모듈명.함수명(매개변수)"
   ]
  },
  {
   "cell_type": "code",
   "execution_count": 1,
   "metadata": {},
   "outputs": [
    {
     "name": "stdout",
     "output_type": "stream",
     "text": [
      "['__doc__', '__loader__', '__name__', '__package__', '__spec__', 'acos', 'acosh', 'asin', 'asinh', 'atan', 'atan2', 'atanh', 'ceil', 'copysign', 'cos', 'cosh', 'degrees', 'e', 'erf', 'erfc', 'exp', 'expm1', 'fabs', 'factorial', 'floor', 'fmod', 'frexp', 'fsum', 'gamma', 'gcd', 'hypot', 'inf', 'isclose', 'isfinite', 'isinf', 'isnan', 'ldexp', 'lgamma', 'log', 'log10', 'log1p', 'log2', 'modf', 'nan', 'pi', 'pow', 'radians', 'remainder', 'sin', 'sinh', 'sqrt', 'tan', 'tanh', 'tau', 'trunc']\n"
     ]
    }
   ],
   "source": [
    "# 표준모듈 : 파이썬에 내장된 모듈\n",
    "import math\n",
    "\n",
    "print(dir(math))  # dir 객체의 변수나 함수의 목록을 추출"
   ]
  },
  {
   "cell_type": "code",
   "execution_count": 2,
   "metadata": {},
   "outputs": [
    {
     "name": "stdout",
     "output_type": "stream",
     "text": [
      "3.141592653589793\n"
     ]
    }
   ],
   "source": [
    "print(math.pi)"
   ]
  },
  {
   "cell_type": "code",
   "execution_count": 5,
   "metadata": {},
   "outputs": [
    {
     "name": "stdout",
     "output_type": "stream",
     "text": [
      "32.0\n"
     ]
    }
   ],
   "source": [
    "# pow(a, b) : a의 b 거듭제곱\n",
    "print(math.pow(2,5))"
   ]
  },
  {
   "cell_type": "code",
   "execution_count": 7,
   "metadata": {},
   "outputs": [
    {
     "name": "stdout",
     "output_type": "stream",
     "text": [
      "7\n",
      "7\n",
      "자료형이 다르므로 계산할 수 없습니다.\n"
     ]
    }
   ],
   "source": [
    "from mod1 import *\n",
    "print(sum(3, 4))\n",
    "print(safe_sum(3, 4))\n",
    "safe_sum(3, 'a')"
   ]
  },
  {
   "cell_type": "code",
   "execution_count": 13,
   "metadata": {},
   "outputs": [
    {
     "name": "stdout",
     "output_type": "stream",
     "text": [
      "PI :  3.141592653589793\n",
      "12.566370614359172\n"
     ]
    }
   ],
   "source": [
    "import mod2\n",
    "# 모듈명.변수 or 모듈명.함수()\n",
    "print(\"PI : \", mod2.PI)\n",
    "\n",
    "# Math 클래스의 인스턴스 객체 생성\n",
    "a = mod2.Math()\n",
    "print(a.solv(2))"
   ]
  }
 ],
 "metadata": {
  "kernelspec": {
   "display_name": "Python 3",
   "language": "python",
   "name": "python3"
  },
  "language_info": {
   "codemirror_mode": {
    "name": "ipython",
    "version": 3
   },
   "file_extension": ".py",
   "mimetype": "text/x-python",
   "name": "python",
   "nbconvert_exporter": "python",
   "pygments_lexer": "ipython3",
   "version": "3.7.3"
  }
 },
 "nbformat": 4,
 "nbformat_minor": 2
}
