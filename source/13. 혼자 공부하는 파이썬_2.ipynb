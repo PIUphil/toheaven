{
 "cells": [
  {
   "cell_type": "code",
   "execution_count": 1,
   "metadata": {},
   "outputs": [],
   "source": [
    "# 하나의 정수를 입력받아 1부터 입력받은 정수까지의 자연수들의 합을\n",
    "# 계산 후 반환\n",
    "def sumcount(n):\n",
    "    total = 0 \n",
    "    \n",
    "    while n > 0:\n",
    "        total += n\n",
    "        n -= 1\n",
    "        \n",
    "    return total"
   ]
  },
  {
   "cell_type": "code",
   "execution_count": 2,
   "metadata": {},
   "outputs": [
    {
     "name": "stdout",
     "output_type": "stream",
     "text": [
      "55\n"
     ]
    }
   ],
   "source": [
    "# 함수호출\n",
    "a = sumcount(10)\n",
    "print(a)"
   ]
  },
  {
   "cell_type": "code",
   "execution_count": 3,
   "metadata": {},
   "outputs": [
    {
     "name": "stdout",
     "output_type": "stream",
     "text": [
      "5050\n"
     ]
    }
   ],
   "source": [
    "a = sumcount(100)\n",
    "print(a)"
   ]
  },
  {
   "cell_type": "code",
   "execution_count": 8,
   "metadata": {},
   "outputs": [
    {
     "name": "stdout",
     "output_type": "stream",
     "text": [
      "3.1622776601683795\n"
     ]
    }
   ],
   "source": [
    "import math\n",
    "# 모듈명.변수 or 모듈명.함수()\n",
    "x = math.sqrt(10)\n",
    "print(x)"
   ]
  },
  {
   "cell_type": "code",
   "execution_count": 34,
   "metadata": {},
   "outputs": [
    {
     "name": "stdout",
     "output_type": "stream",
     "text": [
      "[1.정수합 2.사이합 3.최댓값 4.계산기 5.종료] = 1\n",
      "숫자입력 : 4\n",
      "1부터 4까지의 합 = 10\n",
      "[1.정수합 2.사이합 3.최댓값 4.계산기 5.종료] = 2\n",
      "숫자입력 : 5\n",
      "숫자입력 : 1\n",
      "1부터 5까지의 합 = 15\n",
      "[1.정수합 2.사이합 3.최댓값 4.계산기 5.종료] = 3\n",
      "숫자입력 : 6\n",
      "숫자입력 : 7\n",
      "숫자입력 : 0\n",
      "6,7,0 중 큰 값 = 7\n",
      "[1.정수합 2.사이합 3.최댓값 4.계산기 5.종료] = 4\n",
      "숫자입력 : 2\n",
      "연산입력[+,-,*,/] : +\n",
      "숫자입력 : 1\n",
      "2 + 1 = 3\n",
      "[1.정수합 2.사이합 3.최댓값 4.계산기 5.종료] = 4\n",
      "숫자입력 : 7\n",
      "연산입력[+,-,*,/] : *\n",
      "숫자입력 : 7\n",
      "7 * 7 = 49\n",
      "[1.정수합 2.사이합 3.최댓값 4.계산기 5.종료] = 4\n",
      "숫자입력 : 8\n",
      "연산입력[+,-,*,/] : /\n",
      "숫자입력 : 0\n",
      "0으로 나눌 수 없습니다.\n",
      "[1.정수합 2.사이합 3.최댓값 4.계산기 5.종료] = 4\n",
      "숫자입력 : 77\n",
      "연산입력[+,-,*,/] : 77\n",
      "숫자입력 : 77\n",
      "연산이 잘못입력되었습니다.\n",
      "[1.정수합 2.사이합 3.최댓값 4.계산기 5.종료] = 5\n",
      "프로그램을 종료합니다.\n"
     ]
    }
   ],
   "source": [
    "# 다양한 기능을 수행하는 프로그램을 구현하시오.\n",
    "# 계산기, 사이합, 최댓값, 정수합을 수행하는 프로그램을 구현하시오.\n",
    "# 단, 사용할 기능을 사용자가 선택하여 수행할 수 있도록 구현하시오.\n",
    "# 프로그램은 언제든지 종료될 수 있도록 구현하시오.\n",
    "# 각 기능은 별도의 함수로 구현하시오.\n",
    "# [입출력형식]\n",
    "# [1.정수합 2.사이합 3.최댓값 4.계산기 5.종료] =\n",
    "# 정수합은 하나의 정수를 입력받아 1부터 해당 정수까지의 합\n",
    "# 사이합은 두 개의 정수를 입력받아 두 수 사이의 자연수의 합\n",
    "# 최댓값은 세 개의 정수를 입력받아 큰 수를 추출\n",
    "# 계산기는 두 개의 정수와 하나의 연산자를 입력받아 계산결과를 추출\n",
    "\n",
    "def intsum(a):  # 정수합\n",
    "    return sum(range(1,a+1))\n",
    "        \n",
    "def sumcount(a,b): # 사이합\n",
    "    return sum(range(min(a,b),max(a,b)+1))\n",
    "\n",
    "def maxnum(a,b,c): # 최댓값\n",
    "    return(max(a,b,c))\n",
    "                \n",
    "def calc(a,b,c): # 계산기\n",
    "    result = 0\n",
    "\n",
    "    if b == \"+\": result = a + c\n",
    "    elif b == \"-\": result = a - c\n",
    "    elif b == \"*\": result = a * c\n",
    "    elif b == \"/\": result = a / c\n",
    "\n",
    "    return result\n",
    "\n",
    "\n",
    "\n",
    "while True:\n",
    "    message = \"[1.정수합 2.사이합 3.최댓값 4.계산기 5.종료] = \"\n",
    "    check = input(message)\n",
    "    \n",
    "    if check == \"1\": # 정수합 : 1부터 누적합계\n",
    "        a = int(input(\"숫자입력 : \"))\n",
    "        print(\"1부터 {0}까지의 합 = {1}\".format(a,intsum(a)))\n",
    "    elif check == \"2\": # 사이합\n",
    "        a = int(input(\"숫자입력 : \"))\n",
    "        b = int(input(\"숫자입력 : \"))\n",
    "        print(\"{0}부터 {1}까지의 합 = {2}\".format(min(a,b),max(a,b),sumcount(a,b)))\n",
    "    elif check == \"3\": # 최댓값\n",
    "        a = int(input(\"숫자입력 : \"))\n",
    "        b = int(input(\"숫자입력 : \"))\n",
    "        c = int(input(\"숫자입력 : \"))\n",
    "        \n",
    "        print(\"{0},{1},{2} 중 큰 값 = {3}\\\n",
    "        \".format(a,b,c,maxnum(a,b,c)))\n",
    "        \n",
    "    elif check == \"4\": # 계산기\n",
    "        a = int(input(\"숫자입력 : \"))\n",
    "        b = input(\"연산입력[+,-,*,/] : \")\n",
    "        c = int(input(\"숫자입력 : \"))\n",
    "        \n",
    "        if b!=\"+\" and b!=\"-\" and b!=\"*\" and b!=\"/\":\n",
    "            print(\"연산이 잘못입력되었습니다.\")  \n",
    "        elif b == \"/\" and c == 0:\n",
    "            print(\"0으로 나눌 수 없습니다.\")\n",
    "        else:\n",
    "            print(\"{0} {1} {2} = {3}\".format(a,b,c,calc(a,b,c)))\n",
    "                  \n",
    "    elif check == \"5\":\n",
    "        break\n",
    "                  \n",
    "    else: print(\"올바른 선택이 아닙니다.\")\n",
    "\n",
    "print(\"프로그램을 종료합니다.\")\n",
    "    \n"
   ]
  },
  {
   "cell_type": "code",
   "execution_count": 9,
   "metadata": {},
   "outputs": [],
   "source": [
    "def hello():\n",
    "    print(\"hello\")\n"
   ]
  },
  {
   "cell_type": "code",
   "execution_count": 10,
   "metadata": {},
   "outputs": [
    {
     "name": "stdout",
     "output_type": "stream",
     "text": [
      "hello\n"
     ]
    }
   ],
   "source": [
    "hello()"
   ]
  },
  {
   "cell_type": "code",
   "execution_count": 11,
   "metadata": {},
   "outputs": [
    {
     "data": {
      "text/plain": [
       "2226676826864"
      ]
     },
     "execution_count": 11,
     "metadata": {},
     "output_type": "execute_result"
    }
   ],
   "source": [
    "# id() : 객체의 주소를 반환해주는 함수\n",
    "id(hello)  "
   ]
  },
  {
   "cell_type": "code",
   "execution_count": 17,
   "metadata": {},
   "outputs": [
    {
     "name": "stdout",
     "output_type": "stream",
     "text": [
      "hello\n"
     ]
    }
   ],
   "source": [
    "f = hello\n",
    "f()  # 바인딩 = 메모리를 연결시킨다"
   ]
  },
  {
   "cell_type": "code",
   "execution_count": 18,
   "metadata": {},
   "outputs": [],
   "source": [
    "class Func:  # 클래스\n",
    "    def __init__(self):  # 메서드\n",
    "        print(\"생성됨\")\n",
    "        \n",
    "    def __call__(self):  # 메서드\n",
    "        print(\"호출됨\")"
   ]
  },
  {
   "cell_type": "code",
   "execution_count": 19,
   "metadata": {},
   "outputs": [
    {
     "name": "stdout",
     "output_type": "stream",
     "text": [
      "생성됨\n"
     ]
    }
   ],
   "source": [
    "f = Func()  # 인스턴스객체 생성  # 생성자메서드(init) 자동실행"
   ]
  },
  {
   "cell_type": "code",
   "execution_count": 20,
   "metadata": {},
   "outputs": [
    {
     "name": "stdout",
     "output_type": "stream",
     "text": [
      "호출됨\n"
     ]
    }
   ],
   "source": [
    "f()  # call을 찾아서 실행  - 바인딩시킨 것을 호출,,,"
   ]
  },
  {
   "cell_type": "code",
   "execution_count": 24,
   "metadata": {},
   "outputs": [
    {
     "name": "stdout",
     "output_type": "stream",
     "text": [
      "(1,)\n",
      "(1, 2)\n",
      "(1, 2, 3)\n"
     ]
    }
   ],
   "source": [
    "## 가변길이 매개변수 : *args, *변수명 , 튜플에 저장된 후 반환    # argument string\n",
    "def aaa(*args):  # 튜플형태로 저장\n",
    "    print(args)\n",
    "    \n",
    "aaa(1)\n",
    "aaa(1, 2)\n",
    "aaa(1, 2, 3)"
   ]
  },
  {
   "cell_type": "code",
   "execution_count": 25,
   "metadata": {},
   "outputs": [
    {
     "name": "stdout",
     "output_type": "stream",
     "text": [
      "{'a': 1}\n",
      "{'a': 1, 'b': 2}\n",
      "{'a': 1, 'b': 2, 'c': 3}\n"
     ]
    }
   ],
   "source": [
    "## 키워드 가변길이 매개변수, 딕셔너리 형태로 처리하는 매개변수  # 딕셔너리의 key를 확장한 개념-> keyword\n",
    "# {key:value}\n",
    "def bbb(**kwargs):  # 딕셔너리 형태로 저장\n",
    "    print(kwargs)\n",
    "    \n",
    "bbb(a=1)\n",
    "bbb(a=1, b=2)\n",
    "bbb(a=1, b=2, c=3)"
   ]
  },
  {
   "cell_type": "code",
   "execution_count": 33,
   "metadata": {},
   "outputs": [
    {
     "name": "stdout",
     "output_type": "stream",
     "text": [
      "(1, 2, 3)\n",
      "{'a': 1, 'b': 2, 'c': 3}\n"
     ]
    }
   ],
   "source": [
    "def ccc(*a, **b):\n",
    "    print(a)\n",
    "    print(b)\n",
    "    \n",
    "ccc(1, 2, 3, a=1,b=2,c=3)  # 형식에 따라 들어가는 곳이 다름.."
   ]
  },
  {
   "cell_type": "code",
   "execution_count": 37,
   "metadata": {},
   "outputs": [
    {
     "name": "stdout",
     "output_type": "stream",
     "text": [
      "15\n"
     ]
    }
   ],
   "source": [
    "# lambda 함수\n",
    "def mul5(x):\n",
    "    return 5*x\n",
    "\n",
    "a = mul5(3)\n",
    "print(a)"
   ]
  },
  {
   "cell_type": "code",
   "execution_count": 41,
   "metadata": {},
   "outputs": [
    {
     "data": {
      "text/plain": [
       "15"
      ]
     },
     "execution_count": 41,
     "metadata": {},
     "output_type": "execute_result"
    }
   ],
   "source": [
    "# 함수명 = lambda 입력값 : 출력값\n",
    "mul5 = lambda x : 5*x \n",
    "mul5(3)"
   ]
  },
  {
   "cell_type": "code",
   "execution_count": 44,
   "metadata": {},
   "outputs": [
    {
     "name": "stdout",
     "output_type": "stream",
     "text": [
      "20\n",
      "10\n"
     ]
    }
   ],
   "source": [
    "# 지역변수와 전역변수\n",
    "a = 10  # 전역변수\n",
    "\n",
    "def test():\n",
    "    a = 20  # test안에서만 쓸 수 있는 지역변수- 유효범위가 국한되어있음\n",
    "    print(a)\n",
    "\n",
    "test()\n",
    "print(a) "
   ]
  },
  {
   "cell_type": "code",
   "execution_count": 45,
   "metadata": {},
   "outputs": [
    {
     "name": "stdout",
     "output_type": "stream",
     "text": [
      "20\n",
      "20\n"
     ]
    }
   ],
   "source": [
    "a = 10\n",
    "\n",
    "def test():\n",
    "    global a  # 함수 안에 있는 a가 전역변수로 됨\n",
    "    a = 20\n",
    "    print(a)\n",
    "\n",
    "test()\n",
    "print(a) "
   ]
  },
  {
   "cell_type": "code",
   "execution_count": 52,
   "metadata": {},
   "outputs": [
    {
     "name": "stdout",
     "output_type": "stream",
     "text": [
      "inner\n"
     ]
    }
   ],
   "source": [
    "# 함수 안에 함수   # 중첩class, inner class\n",
    "def outer():\n",
    "    \n",
    "    def inner():\n",
    "        print(\"inner\")\n",
    "        \n",
    "    return inner  # 함수의 이름 자체가 함수의 주소\n",
    "\n",
    "f = outer()\n",
    "f()"
   ]
  },
  {
   "cell_type": "code",
   "execution_count": 100,
   "metadata": {},
   "outputs": [
    {
     "name": "stdout",
     "output_type": "stream",
     "text": [
      "3\n",
      "3\n"
     ]
    }
   ],
   "source": [
    "def outer():\n",
    "    num = 3\n",
    "\n",
    "    def inner():\n",
    "        print(num)\n",
    "    return inner\n",
    "\n",
    "f = outer()\n",
    "f()  # 함수 안의 함수\n",
    "\n",
    "outer()()"
   ]
  },
  {
   "cell_type": "code",
   "execution_count": 104,
   "metadata": {},
   "outputs": [
    {
     "name": "stdout",
     "output_type": "stream",
     "text": [
      "3\n",
      "5\n"
     ]
    }
   ],
   "source": [
    "def outer():\n",
    "    num = 3\n",
    "    no = 5\n",
    "\n",
    "    def inner():\n",
    "        print(num)\n",
    "      \n",
    "        def melong():\n",
    "            print(no)\n",
    "            \n",
    "        return melong\n",
    "    \n",
    "    return inner\n",
    "\n",
    "outer()()()"
   ]
  },
  {
   "cell_type": "markdown",
   "metadata": {},
   "source": [
    "#### 재귀함수\n",
    "- 자기 안에서 자신을 호출하는 함수  \n",
    "10! = 10 x 9 x 8 x 7 x 6 x 5 x 4 x 3 x 2 x 1  \n",
    "    = 10 x 9!  \n",
    "    = 10 x 9 x 8!\n",
    "  \n",
    "　　n! = n x (n-1)!"
   ]
  },
  {
   "cell_type": "code",
   "execution_count": 67,
   "metadata": {},
   "outputs": [
    {
     "name": "stdout",
     "output_type": "stream",
     "text": [
      "6\n",
      "120\n"
     ]
    }
   ],
   "source": [
    "def fact1(x):\n",
    "    out = 1\n",
    "    \n",
    "    while x > 0:\n",
    "        out *= x  # out = out * x\n",
    "        x -= 1  # x = x - 1\n",
    "        \n",
    "    return out\n",
    "\n",
    "print(fact1(3))\n",
    "print(fact1(5))"
   ]
  },
  {
   "cell_type": "code",
   "execution_count": 75,
   "metadata": {},
   "outputs": [
    {
     "name": "stdout",
     "output_type": "stream",
     "text": [
      "6\n"
     ]
    }
   ],
   "source": [
    "def fact2(x):\n",
    "    if x == 0:\n",
    "        return 1\n",
    "    elif x > 0:\n",
    "        return x*fact2(x-1)\n",
    "\n",
    "print(fact2(3))"
   ]
  },
  {
   "cell_type": "code",
   "execution_count": 105,
   "metadata": {},
   "outputs": [
    {
     "name": "stdout",
     "output_type": "stream",
     "text": [
      "55\n",
      "55\n"
     ]
    }
   ],
   "source": [
    "# 1부터 10까지의 합을 계산하는 프로그램을 구현하시오.\n",
    "# 단, 재귀함수를 이용하시오.\n",
    "# 10 + 9 + 8 + ...\n",
    "\n",
    "def plus(n):\n",
    "    if n == 0:\n",
    "        return 0\n",
    "    elif n > 0:\n",
    "        return n + plus(n-1)\n",
    "\n",
    "print(plus(10))\n",
    "\n",
    "# print(sum(range(1,11)))"
   ]
  },
  {
   "cell_type": "markdown",
   "metadata": {},
   "source": [
    "문자열 -  문자들이 순서대로 저장되어있는 자료형 (리스트와 같은 의미)\n",
    "한글,한자 - 2바이트, 숫자,빈공간-1바이트 차지함"
   ]
  },
  {
   "cell_type": "code",
   "execution_count": 96,
   "metadata": {},
   "outputs": [
    {
     "name": "stdout",
     "output_type": "stream",
     "text": [
      "r\n",
      "r a\n",
      "a\n",
      "korea\n",
      "ore\n",
      "ko\n",
      "ea\n",
      "korea\n",
      "kra\n"
     ]
    }
   ],
   "source": [
    "a = \"korea\"  # 리스트형태[]  ->  ['k', 'o', 'r', 'e', 'a']\n",
    "print(a[2])\n",
    "print(a[2], a[4])\n",
    "print(a[-1])\n",
    "print(a[:])  # 슬라이싱  [start:end-1]\n",
    "print(a[1:4]) # ==  print(a[-4:-1])\n",
    "print(a[:2])\n",
    "print(a[3:])\n",
    "print(a[:])\n",
    "print(a[::2])"
   ]
  },
  {
   "cell_type": "code",
   "execution_count": 88,
   "metadata": {},
   "outputs": [
    {
     "name": "stdout",
     "output_type": "stream",
     "text": [
      "['k', 'o', 'r', 'e', 'a']\n"
     ]
    }
   ],
   "source": [
    "k=[]\n",
    "for i in range(len(a)): k.append(a[i])\n",
    "print(k)"
   ]
  },
  {
   "cell_type": "code",
   "execution_count": 98,
   "metadata": {},
   "outputs": [
    {
     "name": "stdout",
     "output_type": "stream",
     "text": [
      "teamlab\n",
      "teamteamteam\n"
     ]
    }
   ],
   "source": [
    "# 문자열연산 : +, *   # -,/ 는 쓸 수 없음\n",
    "a = \"team\"\n",
    "b = \"lab\"\n",
    "print(a+b)  # 연결\n",
    "print(a*3)  # 반복"
   ]
  },
  {
   "cell_type": "code",
   "execution_count": 115,
   "metadata": {},
   "outputs": [
    {
     "name": "stdout",
     "output_type": "stream",
     "text": [
      "[[1, 4, 7], [2, 5, 8], [3, 6, 9]]\n"
     ]
    }
   ],
   "source": [
    "numbers = [1, 2, 3, 4, 5, 6, 7, 8, 9]  # p159. 5번문제\n",
    "output = [[], [], []]\n",
    "#  output[0], output[1], output[2]  \n",
    "#  output[0], output[1], output[2]  \n",
    "#  output[0], output[1], output[2]  \n",
    "for number in numbers:\n",
    "    output[number%3-1].append(number)\n",
    "    \n",
    "print(output)"
   ]
  },
  {
   "cell_type": "code",
   "execution_count": 130,
   "metadata": {},
   "outputs": [],
   "source": [
    "# 단어 카운팅 문제\n",
    "# 'Yesterday'라는 단어가 몇 번 나오는지 추출하는 프로그램\n",
    "# 단, 파일을 통해 처리하시오.\n",
    "\n",
    "# 다른프로그램 >>  File f ; f= open\n",
    "# f = open(\"filename\", \"mode\")\n",
    "# mode = r(읽기), w(쓰기), a(추가)\n",
    "f = open(\"D:/python3/study/yesterday.txt\", \"r\")\n",
    "\n",
    "contents = f.readlines()   # 모든 라인을 읽어서 리스트로 저장하라는 함수\n",
    "# readlines() 문장전체를 읽어오는 함수\n",
    "# readline() 줄단위로 읽어오는 함수\n",
    "\n",
    "# upper(): 대문자, lower(): 소문자\n",
    "\n",
    "# for con in contents:\n",
    "#     ltcon = lower(con)\n",
    "#     for i in ltcon:\n",
    "#         print(i.count(\"yesterday\"))\n",
    "\n",
    "    \n",
    "f.close() # 닫기"
   ]
  },
  {
   "cell_type": "code",
   "execution_count": 135,
   "metadata": {},
   "outputs": [
    {
     "name": "stdout",
     "output_type": "stream",
     "text": [
      "yesterday의 단어출현 수  9\n"
     ]
    }
   ],
   "source": [
    "text = \"\"\n",
    "for line in contents:\n",
    "    text += line.strip() + \"\\n\"  # 빈공간 지우고, 맨 뒤에 줄바꿈(\\n) 넣음\n",
    "    \n",
    "cnt = text.lower().count(\"yesterday\")\n",
    "print(\"yesterday의 단어출현 수 \", cnt)"
   ]
  },
  {
   "cell_type": "code",
   "execution_count": 132,
   "metadata": {},
   "outputs": [
    {
     "data": {
      "text/plain": [
       "(1, 2, 3, 4, 5)"
      ]
     },
     "execution_count": 132,
     "metadata": {},
     "output_type": "execute_result"
    }
   ],
   "source": [
    "a = 1, 2, 3, 4, 5  # a = (1, 2, 3, 4, 5)  튜플의 소괄호는 생략할 수 있다\n",
    "a"
   ]
  },
  {
   "cell_type": "code",
   "execution_count": 134,
   "metadata": {},
   "outputs": [
    {
     "name": "stdout",
     "output_type": "stream",
     "text": [
      "20 10\n"
     ]
    }
   ],
   "source": [
    "a = 10\n",
    "b = 20\n",
    "a, b = b, a  # a와 b 바꾸기 - 소괄호 생략되어있음\n",
    "print(a, b)"
   ]
  },
  {
   "cell_type": "code",
   "execution_count": 136,
   "metadata": {},
   "outputs": [
    {
     "name": "stdout",
     "output_type": "stream",
     "text": [
      "10 20\n"
     ]
    }
   ],
   "source": [
    "def aaa():\n",
    "    return 10, 20  # 2개의 값이 아니라, 튜플을 리턴\n",
    "\n",
    "a, b = aaa()  # 언패킹. 개수 같아야함\n",
    "print(a, b)"
   ]
  },
  {
   "cell_type": "code",
   "execution_count": 140,
   "metadata": {},
   "outputs": [
    {
     "name": "stdout",
     "output_type": "stream",
     "text": [
      "0 1\n",
      "1 2\n",
      "2 3\n",
      "3 4\n",
      "4 5\n"
     ]
    }
   ],
   "source": [
    "a = [1, 2, 3, 4, 5]\n",
    "\n",
    "index = -1\n",
    "for i in a:\n",
    "    print(index+i, i)"
   ]
  },
  {
   "cell_type": "code",
   "execution_count": 141,
   "metadata": {},
   "outputs": [
    {
     "name": "stdout",
     "output_type": "stream",
     "text": [
      "0번째 요소는 1입니다.\n",
      "1번째 요소는 2입니다.\n",
      "2번째 요소는 3입니다.\n",
      "3번째 요소는 4입니다.\n",
      "4번째 요소는 5입니다.\n"
     ]
    }
   ],
   "source": [
    "for i, value in enumerate([1, 2, 3, 4, 5]):  # enumerate  -> (인덱스, 값)  # i=index\n",
    "    print(\"{}번째 요소는 {}입니다.\".format(i, value))"
   ]
  },
  {
   "cell_type": "code",
   "execution_count": 142,
   "metadata": {},
   "outputs": [],
   "source": [
    "class Car:\n",
    "    pass\n",
    "\n",
    "c = Car()  # c는 Car의 주소값을 가진다, 인스턴스를 통해 클래스의 멤버에 접근.\n",
    "            # 접근할땐 '.'이라는 direct연산자를 사용함\n",
    "\n",
    "c.name = 'sonata'  # c라는 곳에 직접 접근하여 name이라는 변수에 sonata를 저장\n",
    "                # {'name':'sonata'}   name -> key, sonata -> value"
   ]
  },
  {
   "cell_type": "code",
   "execution_count": null,
   "metadata": {},
   "outputs": [],
   "source": [
    "class Car:\n",
    "    name = \"sonata\"\n",
    "\n",
    "c = Car()\n",
    "d = Car()"
   ]
  },
  {
   "cell_type": "code",
   "execution_count": 172,
   "metadata": {},
   "outputs": [],
   "source": [
    "# 최고속도는 200을 초과할 수 없다.\n",
    "# 브레이크페달을 밟을 때 -10의 속도가 준다.\n",
    "# 악셀페달을 밟을 때 +10의 속도가 증가한다.\n",
    "# 연료는 악셀페달을 밟을 때 소모되며, 소모값은 5이다.\n",
    "\n",
    "\n",
    "class Car:  # 객체(Object)를 표현할 목적으로 구현하는 틀\n",
    "\n",
    "    # 멤버필드(프로퍼티, 변수) : 오브젝트의 특성,속성을 담음 / 필수는 아님\n",
    "#         self.name = \"\" \n",
    "#         self.speed = 0\n",
    "#         self.fuel = 100 \n",
    "    count = 0 # 클래스변수 : 클래스를 호출되면 공통으로 적용되는 변수, 클래스명으로 접근하는 변수\n",
    "\n",
    "    # 생성자메서드 : 객체가 생성될 때 자동으로 호출, 멤버필드를 초기화\n",
    "    def __init__(self, name, speed, fuel): \n",
    "        self.name = name # self.* ; 인스턴스변수 호출될때마다 개별적으로 적용되는 변수\n",
    "        self.speed = speed\n",
    "        self.fuel = fuel\n",
    "        Car.count += 1\n",
    "    \n",
    "    # 멤버메서드 : 오브젝트의 행위,동작을 기술\n",
    "    def carBreak(self):  # 브레이크 페달을 밟는 행위를 제어하는 함수\n",
    "        if self.speed < 10:\n",
    "            self.speed = 0\n",
    "            return\n",
    "        # else:\n",
    "        self.speed -= 10\n",
    "    \n",
    "    def carExcel(self):  # 악셀 페달을 밟는 행위를 제어하는 함수\n",
    "        if self.fuel < 5:\n",
    "            print(\"연료가 부족합니다.\")\n",
    "            #return\n",
    "        else:\n",
    "            self.fuel -= 5\n",
    "            \n",
    "            if self.speed >= 200:\n",
    "                self.speed = 200\n",
    "            else:\n",
    "                self.speed += 10\n",
    "            \n",
    "    \n",
    "    def carState(self):  # 자동차의 상태를 표시하는 행위를 제어하는 함수\n",
    "        print(\"사 용 자 : \", self.name)\n",
    "        print(\"현재속도 : \", self.speed)\n",
    "        print(\"연 료 량 : \", self.fuel)\n",
    "    \n",
    "    "
   ]
  },
  {
   "cell_type": "code",
   "execution_count": 175,
   "metadata": {},
   "outputs": [
    {
     "name": "stdout",
     "output_type": "stream",
     "text": [
      "사 용 자 :  aaa\n",
      "현재속도 :  0\n",
      "연 료 량 :  50\n",
      "사 용 자 :  aaa\n",
      "현재속도 :  0\n",
      "연 료 량 :  50\n",
      "사 용 자 :  aaa\n",
      "현재속도 :  10\n",
      "연 료 량 :  45\n"
     ]
    }
   ],
   "source": [
    "aaa = Car(\"aaa\", 0, 50)\n",
    "# aaa.name = \"aaa\"  # ↑생성자 안에 담아줘야 함..\n",
    "# aaa.speed = 0\n",
    "# aaa.fuel = 50\n",
    "aaa.carState()\n",
    "\n",
    "aaa.carBreak()\n",
    "aaa.carState()\n",
    "\n",
    "aaa.carExcel()\n",
    "aaa.carState()"
   ]
  },
  {
   "cell_type": "code",
   "execution_count": 168,
   "metadata": {},
   "outputs": [
    {
     "name": "stdout",
     "output_type": "stream",
     "text": [
      "사 용 자 :  bbb\n",
      "현재속도 :  180\n",
      "연 료 량 :  20\n",
      "사 용 자 :  bbb\n",
      "현재속도 :  170\n",
      "연 료 량 :  20\n",
      "사 용 자 :  bbb\n",
      "현재속도 :  180\n",
      "연 료 량 :  15\n",
      "사 용 자 :  bbb\n",
      "현재속도 :  190\n",
      "연 료 량 :  10\n",
      "사 용 자 :  bbb\n",
      "현재속도 :  200\n",
      "연 료 량 :  5\n",
      "사 용 자 :  bbb\n",
      "현재속도 :  200\n",
      "연 료 량 :  0\n"
     ]
    }
   ],
   "source": [
    "bbb = Car(\"bbb\", 180, 20)\n",
    "# bbb.name = \"bbb\"\n",
    "# bbb.speed = 180\n",
    "# bbb.fuel = 20\n",
    "\n",
    "bbb.carState()\n",
    "\n",
    "bbb.carBreak()\n",
    "bbb.carState()\n",
    "\n",
    "bbb.carExcel()\n",
    "bbb.carState()\n",
    "bbb.carExcel()\n",
    "bbb.carState()\n",
    "bbb.carExcel()\n",
    "bbb.carState()\n",
    "bbb.carExcel()\n",
    "bbb.carState()"
   ]
  },
  {
   "cell_type": "code",
   "execution_count": 171,
   "metadata": {},
   "outputs": [
    {
     "name": "stdout",
     "output_type": "stream",
     "text": [
      "사 용 자 :  aaa\n",
      "현재속도 :  10\n",
      "연 료 량 :  45\n",
      "사 용 자 :  bbb\n",
      "현재속도 :  200\n",
      "연 료 량 :  0\n"
     ]
    }
   ],
   "source": [
    "aaa.carState()\n",
    "bbb.carState()  # 서로 영향을 주지 않는다."
   ]
  },
  {
   "cell_type": "code",
   "execution_count": null,
   "metadata": {},
   "outputs": [],
   "source": [
    "# 접근제한자 : public, protected, private  / 다른언어들,,\n",
    "# 파이썬은 모든 멤버가 public 이다  - 누구나 접근 가능\n",
    "\n",
    "# 언더바 ;,, (__) 이미 정해져있는 메서드,  앞에, 뒤에, 앞뒤에, 하나,,, 확인해서 찾아보자\n",
    "# private 아무나 접근 못함, 접근 차단. 상속관계 있는 애들도 접근못함.\n",
    "# private ... 앞에 언더바(_) 두개"
   ]
  },
  {
   "cell_type": "code",
   "execution_count": 179,
   "metadata": {},
   "outputs": [],
   "source": [
    "# 상속(Inheritance) : 부모클래스의 멤버를 자녀클래스가 물려받는 것\n",
    "# 평면 위의 한 점을 나타내는 객체를 디자인한 클래스\n",
    "class Point:\n",
    "    \n",
    "    def __init__(self):\n",
    "        self.xpos = int(input(\"x = \"))\n",
    "        self.ypos = int(input(\"y = \"))\n",
    "        \n",
    "    def disp(self):\n",
    "        print(\"점(x, y) = ({}, {})\".format(self.xpos, self.ypos))\n",
    "    \n",
    "# 원이라는 객체를 디자인한 클래스\n",
    "class Circle(Point):  # 상속 - 괄호안에 부모 적음, 부모 초기화시켜줄 의무\n",
    "    \n",
    "    def __init__(self):\n",
    "        #상속받은 자녀클래스는 반드시 부모클래스의 멤버를 초기화 시켜야 한다.\n",
    "        Point.__init__(self)  # 부모의 생성자 메서드를 호출해야 한다.\n",
    "#         self.xpos = int(input(\"x = \"))\n",
    "#         self.ypos = int(input(\"y = \"))\n",
    "        self.r = int(input(\"r = \"))\n",
    "\n",
    "    def getArea(self):\n",
    "        return self.r * self.r * 3.14\n",
    "    \n",
    "    def disp(self): # override오버라이딩 ; 재정의해야함. 부모와 자식이 동일한 이름의 메서드를 가지고있음.\n",
    "        Point.disp(self)\n",
    "#         print(\"점(x, y) = ({}, {})\".format(self.xpos, self.ypos))  \n",
    "        print(\"반지름(r) = {}\".format(self.r))\n",
    "        \n",
    "# 같은걸 반복작업하는것은 비효율적 -> 상속을 사용            "
   ]
  },
  {
   "cell_type": "code",
   "execution_count": 180,
   "metadata": {},
   "outputs": [
    {
     "name": "stdout",
     "output_type": "stream",
     "text": [
      "x = 3\n",
      "y = 4\n",
      "점(x, y) = (3, 4)\n"
     ]
    }
   ],
   "source": [
    "ap = Point()\n",
    "ap.disp()"
   ]
  },
  {
   "cell_type": "code",
   "execution_count": 181,
   "metadata": {},
   "outputs": [
    {
     "name": "stdout",
     "output_type": "stream",
     "text": [
      "x = 5\n",
      "y = 6\n",
      "r = 7\n",
      "점(x, y) = (5, 6)\n",
      "반지름(r) = 7\n"
     ]
    }
   ],
   "source": [
    "cp = Circle()\n",
    "cp.disp()"
   ]
  },
  {
   "cell_type": "code",
   "execution_count": 182,
   "metadata": {},
   "outputs": [],
   "source": [
    "# 사각형이라는 객체를 클래스로 구현하시오.\n",
    "# 멤버필드는 좌표값(x, y)과 너비와 높이(width, height)를 갖도록 구현\n",
    "# 생성자 메서드와 출력을 나타내는 disp메서드를 구현하시오."
   ]
  },
  {
   "cell_type": "code",
   "execution_count": null,
   "metadata": {},
   "outputs": [],
   "source": [
    "class Square:\n",
    "    def __init__(self):\n",
    "        self.width = int(input(\"너비= \"))\n",
    "        self.height = int(input(\"높이= \"))\n",
    "    \n",
    "    def disp(self):\n",
    "        print(\"\")\n",
    "    \n",
    "    pass"
   ]
  },
  {
   "cell_type": "code",
   "execution_count": null,
   "metadata": {},
   "outputs": [],
   "source": []
  },
  {
   "cell_type": "code",
   "execution_count": 202,
   "metadata": {},
   "outputs": [],
   "source": [
    "class Person:\n",
    "    def __init__(self, name, age, address, wallet):  # 인스턴스 속성\n",
    "        self.greet = \"안녕하세요\"\n",
    "        self.name = name\n",
    "        self.age = age\n",
    "        self.address = address       \n",
    "        self.__wallet = wallet  # private member 프라이빗속성 /  __로 시작 : 비공개\n",
    "        \n",
    "    def pay(self, money):\n",
    "        self.__wallet -= money\n",
    "        print(\"잔액이 {} 입니다.\".format(self.__wallet))"
   ]
  },
  {
   "cell_type": "code",
   "execution_count": 203,
   "metadata": {},
   "outputs": [
    {
     "data": {
      "text/plain": [
       "'마리아'"
      ]
     },
     "execution_count": 203,
     "metadata": {},
     "output_type": "execute_result"
    }
   ],
   "source": [
    "maria = Person('마리아', 11, '대전광역시 서구 둔산동', 10000)\n",
    "maria.name"
   ]
  },
  {
   "cell_type": "code",
   "execution_count": 187,
   "metadata": {},
   "outputs": [
    {
     "data": {
      "text/plain": [
       "11"
      ]
     },
     "execution_count": 187,
     "metadata": {},
     "output_type": "execute_result"
    }
   ],
   "source": [
    "maria.age"
   ]
  },
  {
   "cell_type": "code",
   "execution_count": 191,
   "metadata": {},
   "outputs": [
    {
     "ename": "AttributeError",
     "evalue": "'Person' object has no attribute '__wallet'",
     "output_type": "error",
     "traceback": [
      "\u001b[1;31m---------------------------------------------------------------------------\u001b[0m",
      "\u001b[1;31mAttributeError\u001b[0m                            Traceback (most recent call last)",
      "\u001b[1;32m<ipython-input-191-c310d099919b>\u001b[0m in \u001b[0;36m<module>\u001b[1;34m\u001b[0m\n\u001b[1;32m----> 1\u001b[1;33m \u001b[0mmaria\u001b[0m\u001b[1;33m.\u001b[0m\u001b[0m__wallet\u001b[0m\u001b[1;33m\u001b[0m\u001b[1;33m\u001b[0m\u001b[0m\n\u001b[0m",
      "\u001b[1;31mAttributeError\u001b[0m: 'Person' object has no attribute '__wallet'"
     ]
    }
   ],
   "source": [
    "maria.__wallet  # 비공개 속성이라 접근,변경 불가능"
   ]
  },
  {
   "cell_type": "code",
   "execution_count": 197,
   "metadata": {},
   "outputs": [
    {
     "ename": "AttributeError",
     "evalue": "'Person' object has no attribute '__wallet'",
     "output_type": "error",
     "traceback": [
      "\u001b[1;31m---------------------------------------------------------------------------\u001b[0m",
      "\u001b[1;31mAttributeError\u001b[0m                            Traceback (most recent call last)",
      "\u001b[1;32m<ipython-input-197-91b5a623b1ac>\u001b[0m in \u001b[0;36m<module>\u001b[1;34m\u001b[0m\n\u001b[1;32m----> 1\u001b[1;33m \u001b[0mmaria\u001b[0m\u001b[1;33m.\u001b[0m\u001b[0m__wallet\u001b[0m \u001b[1;33m-=\u001b[0m \u001b[1;36m1000\u001b[0m  \u001b[1;31m# 밖에선 접근못하지만, 클래스 내부에선 접근가능\u001b[0m\u001b[1;33m\u001b[0m\u001b[1;33m\u001b[0m\u001b[0m\n\u001b[0m",
      "\u001b[1;31mAttributeError\u001b[0m: 'Person' object has no attribute '__wallet'"
     ]
    }
   ],
   "source": [
    "maria.__wallet -= 1000  # 밖에선 접근못하지만, 클래스 내부에선 접근가능"
   ]
  },
  {
   "cell_type": "code",
   "execution_count": 204,
   "metadata": {},
   "outputs": [
    {
     "name": "stdout",
     "output_type": "stream",
     "text": [
      "잔액이 9000 입니다.\n"
     ]
    }
   ],
   "source": [
    "maria.pay(1000)"
   ]
  },
  {
   "cell_type": "code",
   "execution_count": null,
   "metadata": {},
   "outputs": [],
   "source": [
    "# # 은행계좌관리 프로그램을 구현하시오.\n",
    "# # 처리기능 : 고객등록, 입금처리, 출금처리, 잔액조회, 작업종료\n",
    "# # 고객등록은 고객이름, 계좌번호, 예금금액을 입력받아 처리한다.\n",
    "# # 입금처리는 계좌번호가 일치할 때 해당 고객의 금액에 입금금액 누적\n",
    "# # 출금처리는 계좌번호가 일치할 때 해당 고객의 금액에 출금금액 차감\n",
    "# # 잔액조회는 해당고객의 현재 잔액을 확인 or 전체 거래고객 잔액 확인\n",
    "# # 사용자가 원하는 작업을 선택할 수 있도록 구현한다.\n",
    "# # 2명 이상의 고객에 대한 정보를 처리할 수 있도록 구현할 것\n",
    "# # 주어진 클래스를 기반으로 구현할 것.\n",
    "\n",
    "# class Account:\n",
    "    \n",
    "#     def __init__(self, name, num, money):\n",
    "#         self.name = name\n",
    "#         self.num = num\n",
    "#         self.money = money\n",
    "        \n",
    "#     def inMoney(self, num, money):\n",
    "#         # 계좌번호의 일치여부\n",
    "#         if self.num != num:\n",
    "#             print(\"계좌번호가 일치하지 않습니다.\")\n",
    "#             return\n",
    "        \n",
    "#         self.money += money\n",
    "#         return self.money\n",
    "        \n",
    "        \n",
    "#     def outMoney(self, money):\n",
    "#         # 계좌번호의 일치여부\n",
    "#         # 예금잔액의 존재여부\n",
    "        \n",
    "#         if self.num != num:\n",
    "#             print(\"계좌번호가 일치하지 않습니다.\")\n",
    "#             return        \n",
    "        \n",
    "#         if self.money < 0 :\n",
    "#             print(\"잔액이 부족합니다\")\n",
    "#             return\n",
    "        \n",
    "#         self.money -= money\n",
    "#         return self.money\n",
    "        \n",
    "#     def disp(self):\n",
    "#         print(self.name + \" : \" + self.num + \" : \" + str(self.money))\n",
    "        \n",
    "        "
   ]
  },
  {
   "cell_type": "code",
   "execution_count": null,
   "metadata": {},
   "outputs": [],
   "source": [
    "# 처리기능 : 고객등록, 입금처리, 출금처리, 잔액조회, 작업종료\n",
    "a = Account('aaa', '111', 10000)"
   ]
  },
  {
   "cell_type": "code",
   "execution_count": null,
   "metadata": {},
   "outputs": [],
   "source": [
    "# # 함수선언과 정의\n",
    "# def mainMenu():\n",
    "#     print(\"[1. 계좌개설]\")\n",
    "#     print(\"[2. 입금처리]\")\n",
    "#     print(\"[3. 출금처리]\")\n",
    "#     print(\"[4. 계좌잔액]\")\n",
    "#     print(\"[5. 작업종료]\")\n",
    "#     print(\"=============\")\n",
    "#     menu = int(input(\"메뉴 = \"))\n",
    "#     return menu"
   ]
  },
  {
   "cell_type": "code",
   "execution_count": null,
   "metadata": {},
   "outputs": [],
   "source": [
    "# # 자료구조를 선언\n",
    "# banklist = []  # Account 클래스 객체를 담을거임\n",
    "\n",
    "# print(\"==== 은행계좌관리 프로그램 ====\")\n",
    "\n",
    "# while True:\n",
    "#     # 메뉴\n",
    "#     menu = mainMenu()\n",
    "        \n",
    "#     if menu == 1: # 계좌개설      # name, num, money \n",
    "        \n",
    "#         print(\"===== 계좌개설 =====\")\n",
    "#         name = input(\"고객이름 : \")\n",
    "#         num = input(\"계좌번호 : \")\n",
    "#         money = input(\"예금금액 : \")\n",
    "        \n",
    "#         #banklist.append(name, num, money)\n",
    "#         banklist.append(list(name, num, money))\n",
    "        \n",
    "        \n",
    "        \n",
    "#     elif menu == 2: # 입금처리\n",
    "        \n",
    "#         print(\"=====  입  금  =====\")\n",
    "#         inum = input(\"계좌번호 : \")\n",
    "        \n",
    "#         for i[1] in banklist:\n",
    "#             if i[1] == inum:\n",
    "#                 imoney = input(\"입금금액 : \")\n",
    "#                 i[1] += imoney\n",
    "                \n",
    "#                 #print(\"입금 후 잔액은 {}원 입니다.\".format(i[1]))\n",
    "#                 return\n",
    "        \n",
    "#         print(\"일치하는 계좌번호가 존재하지 않습니다.\\n\\n\")\n",
    "#         return               \n",
    "        \n",
    "#     elif menu == 3: # 출금처리\n",
    "        \n",
    "#         print(\"=====  출  금  =====\")\n",
    "#         inum = input(\"계좌번호 : \")\n",
    "        \n",
    "#         for i[1] in banklist:\n",
    "#             if i[1] == inum:\n",
    "#                 imoney = input(\"출금금액 : \")\n",
    "                \n",
    "#                 if i[1] <= 0 or i[1] < imoney:\n",
    "#                     print(\"잔액이 부족합니다.\\n\\n\")\n",
    "#                     return\n",
    "                \n",
    "#                 i[1] -= imoney\n",
    "                \n",
    "#                 #print(\"출금 후 잔액은 {}원 입니다.\".format(i[1]))\n",
    "#                 return \n",
    "            \n",
    "#         print(\"일치하는 계좌번호가 존재하지 않습니다.\\n\\n\")\n",
    "#         return\n",
    "        \n",
    "        \n",
    "#     elif menu == 4: # 계좌잔액\n",
    "#         print(\"===== 잔액조회 =====\")\n",
    "#         for i[1] in banklist:\n",
    "#             if i[1] == inum:\n",
    "#             print(\"현재 {}님의 계좌잔액은 {} 원 입니다.\\n\\n\".format(i[0],i[1]))\n",
    "        \n",
    "    \n",
    "#     elif menu == 5: # 작업종료\n",
    "#         print(\"===== 작업종료 =====\\n\\n\")\n",
    "#         break\n",
    "        \n",
    "#     else: return\n",
    "    \n",
    "# print(\"프로그램을 종료합니다.\")"
   ]
  },
  {
   "cell_type": "code",
   "execution_count": 2,
   "metadata": {},
   "outputs": [],
   "source": [
    "# 은행계좌관리 프로그램을 구현하시오.\n",
    "# 처리기능 : 고객등록, 입금처리, 출금처리, 잔액조회, 작업종료\n",
    "# 고객등록은 고객이름, 계좌번호, 예금금액을 입력받아 처리한다.\n",
    "# 입금처리는 계좌번호가 일치할 때 해당 고객의 금액에 입금금액 누적\n",
    "# 출금처리는 계좌번호가 일치할 때 해당 고객의 금액에 출금금액 차감\n",
    "# 잔액조회는 해당고객의 현재 잔액을 확인 or 전체 거래고객 잔액 확인\n",
    "# 사용자가 원하는 작업을 선택할 수 있도록 구현한다.\n",
    "# 2명 이상의 고객에 대한 정보를 처리할 수 있도록 구현할 것\n",
    "# 주어진 클래스를 기반으로 구현할 것.\n",
    "\n",
    "class Account:\n",
    "    \n",
    "    def __init__(self, name, num, money):\n",
    "        self.name = name\n",
    "        self.num = num\n",
    "        self.money = money\n",
    "        \n",
    "    def inMoney(self, money):\n",
    "        # 계좌번호의 일치여부\n",
    "        self.money += money\n",
    "        return money\n",
    "        \n",
    "    def outMoney(self, money):\n",
    "        if self.money < money:\n",
    "            return 0\n",
    "        else:\n",
    "            self.money -= money\n",
    "                    \n",
    "    def disp(self):\n",
    "        print(self.name + \" : \" + self.num + \" : \" + str(self.money))"
   ]
  },
  {
   "cell_type": "code",
   "execution_count": 3,
   "metadata": {},
   "outputs": [],
   "source": [
    "# 함수선언과 정의\n",
    "def mainMenu():\n",
    "    print(\"[1. 계좌개설]\")\n",
    "    print(\"[2. 입금처리]\")\n",
    "    print(\"[3. 출금처리]\")\n",
    "    print(\"[4. 계좌잔액]\")\n",
    "    print(\"[5. 작업종료]\")\n",
    "    print(\"=============\")\n",
    "    menu = int(input(\"메뉴 = \"))\n",
    "    return menu\n",
    "\n",
    "def makeAccount():\n",
    "    print(\"==계좌개설==\")\n",
    "    name = input(\"고객이름 = \")\n",
    "    num = input(\"계좌번호 = \")\n",
    "    money = int(input(\"예금금액 = \"))\n",
    "    bankList.append(Account(name, num, money))\n",
    "    print(\"계좌개설이 완료되었습니다.\")\n",
    "    \n",
    "def inAccount():\n",
    "    print(\"==입금처리==\")\n",
    "    num = input(\"계좌번호 = \")\n",
    "    \n",
    "    for i in bankList:\n",
    "        if i.num == num:\n",
    "            money = int(input(\"입금금액 = \"))\n",
    "            i.inMoney(money)\n",
    "            print(\"입금처리가 완료되었습니다.\")\n",
    "            return\n",
    "    \n",
    "    print(\"입력한 계좌번호가 존재하지 않습니다.\")\n",
    "    \n",
    "def outAccount():\n",
    "    print(\"==출금처리==\")\n",
    "    num = input(\"계좌번호 = \")\n",
    "    \n",
    "    for i in bankList:\n",
    "        if i.num == num:\n",
    "            money = int(input(\"출금금액 = \"))\n",
    "            if i.outMoney(money) == 0:\n",
    "                print(\"잔액이 부족합니다.\")\n",
    "                return\n",
    "            else:\n",
    "                print(\"출금처리가 완료되었습니다.\")\n",
    "                return\n",
    "                      \n",
    "    print(\"입력한 계좌번호가 존재하지 않습니다.\")\n",
    "                      \n",
    "def showAccount():\n",
    "    print(\"== 전체고객 잔액조회 ==\")\n",
    "    for i in bankList:\n",
    "        i.disp()"
   ]
  },
  {
   "cell_type": "code",
   "execution_count": 4,
   "metadata": {},
   "outputs": [
    {
     "name": "stdout",
     "output_type": "stream",
     "text": [
      "==== 은행계좌관리 프로그램 ====\n",
      "[1. 계좌개설]\n",
      "[2. 입금처리]\n",
      "[3. 출금처리]\n",
      "[4. 계좌잔액]\n",
      "[5. 작업종료]\n",
      "=============\n",
      "메뉴 = 1\n",
      "==계좌개설==\n",
      "고객이름 = aaa\n",
      "계좌번호 = 1212\n",
      "예금금액 = 30000\n",
      "계좌개설이 완료되었습니다.\n",
      "[1. 계좌개설]\n",
      "[2. 입금처리]\n",
      "[3. 출금처리]\n",
      "[4. 계좌잔액]\n",
      "[5. 작업종료]\n",
      "=============\n",
      "메뉴 = 1\n",
      "==계좌개설==\n",
      "고객이름 = bbb\n",
      "계좌번호 = 2532\n",
      "예금금액 = 50000\n",
      "계좌개설이 완료되었습니다.\n",
      "[1. 계좌개설]\n",
      "[2. 입금처리]\n",
      "[3. 출금처리]\n",
      "[4. 계좌잔액]\n",
      "[5. 작업종료]\n",
      "=============\n",
      "메뉴 = 1\n",
      "==계좌개설==\n",
      "고객이름 = ccc\n",
      "계좌번호 = 6666\n",
      "예금금액 = 3420\n",
      "계좌개설이 완료되었습니다.\n",
      "[1. 계좌개설]\n",
      "[2. 입금처리]\n",
      "[3. 출금처리]\n",
      "[4. 계좌잔액]\n",
      "[5. 작업종료]\n",
      "=============\n",
      "메뉴 = 4\n",
      "== 전체고객 잔액조회 ==\n",
      "aaa : 1212 : 30000\n",
      "bbb : 2532 : 50000\n",
      "ccc : 6666 : 3420\n",
      "[1. 계좌개설]\n",
      "[2. 입금처리]\n",
      "[3. 출금처리]\n",
      "[4. 계좌잔액]\n",
      "[5. 작업종료]\n",
      "=============\n",
      "메뉴 = 2\n",
      "==입금처리==\n",
      "계좌번호 = 6666\n",
      "입금금액 = 10000\n",
      "입금처리가 완료되었습니다.\n",
      "[1. 계좌개설]\n",
      "[2. 입금처리]\n",
      "[3. 출금처리]\n",
      "[4. 계좌잔액]\n",
      "[5. 작업종료]\n",
      "=============\n",
      "메뉴 = 4\n",
      "== 전체고객 잔액조회 ==\n",
      "aaa : 1212 : 30000\n",
      "bbb : 2532 : 50000\n",
      "ccc : 6666 : 13420\n",
      "[1. 계좌개설]\n",
      "[2. 입금처리]\n",
      "[3. 출금처리]\n",
      "[4. 계좌잔액]\n",
      "[5. 작업종료]\n",
      "=============\n",
      "메뉴 = 2\n",
      "==입금처리==\n",
      "계좌번호 = 2532\n",
      "입금금액 = 10\n",
      "입금처리가 완료되었습니다.\n",
      "[1. 계좌개설]\n",
      "[2. 입금처리]\n",
      "[3. 출금처리]\n",
      "[4. 계좌잔액]\n",
      "[5. 작업종료]\n",
      "=============\n",
      "메뉴 = 4\n",
      "== 전체고객 잔액조회 ==\n",
      "aaa : 1212 : 30000\n",
      "bbb : 2532 : 50010\n",
      "ccc : 6666 : 13420\n",
      "[1. 계좌개설]\n",
      "[2. 입금처리]\n",
      "[3. 출금처리]\n",
      "[4. 계좌잔액]\n",
      "[5. 작업종료]\n",
      "=============\n",
      "메뉴 = 2\n",
      "==입금처리==\n",
      "계좌번호 = 6666\n",
      "입금금액 = 6000\n",
      "입금처리가 완료되었습니다.\n",
      "[1. 계좌개설]\n",
      "[2. 입금처리]\n",
      "[3. 출금처리]\n",
      "[4. 계좌잔액]\n",
      "[5. 작업종료]\n",
      "=============\n",
      "메뉴 = 4\n",
      "== 전체고객 잔액조회 ==\n",
      "aaa : 1212 : 30000\n",
      "bbb : 2532 : 50010\n",
      "ccc : 6666 : 19420\n",
      "[1. 계좌개설]\n",
      "[2. 입금처리]\n",
      "[3. 출금처리]\n",
      "[4. 계좌잔액]\n",
      "[5. 작업종료]\n",
      "=============\n",
      "메뉴 = 3\n",
      "==출금처리==\n",
      "계좌번호 = 2532\n",
      "출금금액 = 15000\n",
      "출금처리가 완료되었습니다.\n",
      "[1. 계좌개설]\n",
      "[2. 입금처리]\n",
      "[3. 출금처리]\n",
      "[4. 계좌잔액]\n",
      "[5. 작업종료]\n",
      "=============\n",
      "메뉴 = 4\n",
      "== 전체고객 잔액조회 ==\n",
      "aaa : 1212 : 30000\n",
      "bbb : 2532 : 35010\n",
      "ccc : 6666 : 19420\n",
      "[1. 계좌개설]\n",
      "[2. 입금처리]\n",
      "[3. 출금처리]\n",
      "[4. 계좌잔액]\n",
      "[5. 작업종료]\n",
      "=============\n",
      "메뉴 = 5\n",
      "프로그램을 종료합니다.\n"
     ]
    }
   ],
   "source": [
    "# import bank\n",
    "\n",
    "# 자료구조를 선언\n",
    "bankList = []\n",
    "\n",
    "print(\"==== 은행계좌관리 프로그램 ====\")\n",
    "\n",
    "while True:\n",
    "    # 메뉴출력\n",
    "    menu = mainMenu()\n",
    "    \n",
    "    if menu == 1:\n",
    "        makeAccount()\n",
    "    elif menu == 2:\n",
    "        inAccount()\n",
    "    elif menu == 3:\n",
    "        outAccount()\n",
    "    elif menu == 4:\n",
    "        showAccount()\n",
    "    elif menu == 5:\n",
    "        break\n",
    "    else:\n",
    "        print(\"메뉴의 선택이 올바르지 않습니다.\")\n",
    "        \n",
    "print(\"프로그램을 종료합니다.\")"
   ]
  },
  {
   "cell_type": "code",
   "execution_count": 263,
   "metadata": {},
   "outputs": [],
   "source": [
    "class AAA:\n",
    "    def __init__(self):\n",
    "        self.a = 0\n",
    "        self.__b = 0\n",
    "        \n",
    "    def getB(self):\n",
    "        return self.__b\n",
    "    \n",
    "    def setB(self, b):\n",
    "        self.__b = b"
   ]
  },
  {
   "cell_type": "code",
   "execution_count": 232,
   "metadata": {},
   "outputs": [
    {
     "name": "stdout",
     "output_type": "stream",
     "text": [
      "0\n",
      "10\n"
     ]
    }
   ],
   "source": [
    "ap = AAA()\n",
    "print(ap.a)\n",
    "ap.a = 10\n",
    "print(ap.a)"
   ]
  },
  {
   "cell_type": "code",
   "execution_count": 233,
   "metadata": {},
   "outputs": [
    {
     "ename": "AttributeError",
     "evalue": "'AAA' object has no attribute '__b'",
     "output_type": "error",
     "traceback": [
      "\u001b[1;31m---------------------------------------------------------------------------\u001b[0m",
      "\u001b[1;31mAttributeError\u001b[0m                            Traceback (most recent call last)",
      "\u001b[1;32m<ipython-input-233-d71414235c1c>\u001b[0m in \u001b[0;36m<module>\u001b[1;34m\u001b[0m\n\u001b[1;32m----> 1\u001b[1;33m \u001b[0mprint\u001b[0m\u001b[1;33m(\u001b[0m\u001b[0map\u001b[0m\u001b[1;33m.\u001b[0m\u001b[0m__b\u001b[0m\u001b[1;33m)\u001b[0m\u001b[1;33m\u001b[0m\u001b[1;33m\u001b[0m\u001b[0m\n\u001b[0m",
      "\u001b[1;31mAttributeError\u001b[0m: 'AAA' object has no attribute '__b'"
     ]
    }
   ],
   "source": [
    "print(ap.__b)"
   ]
  },
  {
   "cell_type": "code",
   "execution_count": 234,
   "metadata": {},
   "outputs": [
    {
     "name": "stdout",
     "output_type": "stream",
     "text": [
      "0\n"
     ]
    }
   ],
   "source": [
    "print(ap.getB())"
   ]
  },
  {
   "cell_type": "code",
   "execution_count": 235,
   "metadata": {},
   "outputs": [],
   "source": [
    "ap.setB(100)  # 게터, 세터"
   ]
  },
  {
   "cell_type": "code",
   "execution_count": 236,
   "metadata": {},
   "outputs": [
    {
     "data": {
      "text/plain": [
       "100"
      ]
     },
     "execution_count": 236,
     "metadata": {},
     "output_type": "execute_result"
    }
   ],
   "source": [
    "ap.getB()"
   ]
  },
  {
   "cell_type": "code",
   "execution_count": 238,
   "metadata": {},
   "outputs": [
    {
     "name": "stdout",
     "output_type": "stream",
     "text": [
      "안녕하세요\n"
     ]
    },
    {
     "data": {
      "text/plain": [
       "True"
      ]
     },
     "execution_count": 238,
     "metadata": {},
     "output_type": "execute_result"
    }
   ],
   "source": [
    "class Person:\n",
    "    def greeting(self):\n",
    "        print(\"안녕하세요\")\n",
    "        \n",
    "    def hello(self):\n",
    "        # self.메서드()  \n",
    "        self.greeting()\n",
    "        \n",
    "kkk = Person()\n",
    "kkk.hello()\n",
    "\n",
    "# is~  : ~입니까?  True or False\n",
    "# isinstance(인스턴스, 클래스)    - 이 인스턴스가 이 클래스로 만들어진겁니까?\n",
    "isinstance(kkk, Person)  # kkk(인스턴스)가 Person클래스로 만들어진겁니까?"
   ]
  },
  {
   "cell_type": "code",
   "execution_count": 241,
   "metadata": {},
   "outputs": [],
   "source": [
    "def factorial(n):\n",
    "    \n",
    "    # n이 정수가 아니거나 음수이면 함수를 끝낸다\n",
    "    if not isinstance(n, int) or n < 0:\n",
    "        return None\n",
    "    \n",
    "    if n == 1:\n",
    "        return 1\n",
    "    else:\n",
    "        return n * factorial(n-1)"
   ]
  },
  {
   "cell_type": "code",
   "execution_count": 242,
   "metadata": {},
   "outputs": [
    {
     "data": {
      "text/plain": [
       "120"
      ]
     },
     "execution_count": 242,
     "metadata": {},
     "output_type": "execute_result"
    }
   ],
   "source": [
    "factorial(5)"
   ]
  },
  {
   "cell_type": "code",
   "execution_count": 256,
   "metadata": {},
   "outputs": [
    {
     "name": "stdout",
     "output_type": "stream",
     "text": [
      "['책', '열쇠']\n",
      "['책', '열쇠']\n"
     ]
    }
   ],
   "source": [
    "# 클래스 변수와 정적(static)\n",
    "class Person:\n",
    "    # class 변수 : 공통으로 갖는 값\n",
    "    bag = []\n",
    "    \n",
    "    def put_bag(self, stuff):  \n",
    "        self.bag.append(stuff)\n",
    "        \n",
    "aaa = Person()\n",
    "aaa.put_bag('책')\n",
    "\n",
    "bbb = Person()\n",
    "bbb.put_bag('열쇠')       \n",
    "        \n",
    "print(aaa.bag)   # self보다 class변수가 앞 섬,, -> 공통으로 적용\n",
    "print(bbb.bag)"
   ]
  },
  {
   "cell_type": "code",
   "execution_count": 251,
   "metadata": {},
   "outputs": [],
   "source": [
    "class JBank:\n",
    "    rate = 0  # 클래스 변수 , 클래스명으로 접근가능  / 자바-static ; 정적변수\n",
    "              # self : 내꺼 / class변수 : 우리모두꺼\n",
    "    def __init__(self, name, money, rate):\n",
    "        self.name = name\n",
    "        self.money = money\n",
    "        JBank.rate = rate\n",
    "    \n",
    "    def disp(self):\n",
    "        print(self.name, self.money, JBank.rate)"
   ]
  },
  {
   "cell_type": "code",
   "execution_count": 252,
   "metadata": {},
   "outputs": [
    {
     "name": "stdout",
     "output_type": "stream",
     "text": [
      "aaa 10000 7\n",
      "-------------------\n",
      "aaa 10000 3\n",
      "bbb 10000 3\n",
      "-------------------\n",
      "aaa 10000 5\n",
      "bbb 10000 5\n",
      "ccc 10000 5\n"
     ]
    }
   ],
   "source": [
    "# 초기에 은행 7% 이율\n",
    "aaa = JBank('aaa', 10000, 7)\n",
    "aaa.disp()\n",
    "print(\"-------------------\")\n",
    "\n",
    "# 중기에 이율 낮춤\n",
    "bbb = JBank('bbb', 10000, 3)\n",
    "aaa.disp()\n",
    "bbb.disp()\n",
    "print(\"-------------------\")\n",
    "\n",
    "# 후기에 이율 높임\n",
    "ccc = JBank('ccc', 10000, 5)\n",
    "aaa.disp()\n",
    "bbb.disp()\n",
    "ccc.disp()"
   ]
  },
  {
   "cell_type": "code",
   "execution_count": 257,
   "metadata": {},
   "outputs": [
    {
     "name": "stdout",
     "output_type": "stream",
     "text": [
      "['책']\n",
      "['열쇠']\n"
     ]
    }
   ],
   "source": [
    "class Person:\n",
    "    \n",
    "    def __init__(self):\n",
    "        self.bag = []\n",
    "        \n",
    "    def put_bag(self, stuff):\n",
    "        self.bag.append(stuff)\n",
    "        \n",
    "aaa = Person()\n",
    "aaa.put_bag('책')\n",
    "\n",
    "bbb = Person()\n",
    "bbb.put_bag('열쇠')\n",
    "\n",
    "print(aaa.bag)\n",
    "print(bbb.bag)"
   ]
  },
  {
   "cell_type": "code",
   "execution_count": 264,
   "metadata": {},
   "outputs": [
    {
     "name": "stdout",
     "output_type": "stream",
     "text": [
      "30\n"
     ]
    }
   ],
   "source": [
    "# 정적 메서드\n",
    "class Calc:\n",
    "   \n",
    "    @staticmethod\n",
    "    def add(a, b):\n",
    "        print(a+b)\n",
    "        \n",
    "    @staticmethod\n",
    "    def mul(a, b):\n",
    "        print(a*b)\n",
    "        \n",
    "#a = Calc()\n",
    "# a.add(10,20)\n",
    "Calc.add(10, 20)"
   ]
  },
  {
   "cell_type": "code",
   "execution_count": null,
   "metadata": {},
   "outputs": [],
   "source": []
  }
 ],
 "metadata": {
  "kernelspec": {
   "display_name": "Python 3",
   "language": "python",
   "name": "python3"
  },
  "language_info": {
   "codemirror_mode": {
    "name": "ipython",
    "version": 3
   },
   "file_extension": ".py",
   "mimetype": "text/x-python",
   "name": "python",
   "nbconvert_exporter": "python",
   "pygments_lexer": "ipython3",
   "version": "3.7.3"
  }
 },
 "nbformat": 4,
 "nbformat_minor": 2
}
