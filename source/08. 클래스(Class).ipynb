{
 "cells": [
  {
   "cell_type": "markdown",
   "metadata": {},
   "source": [
    "### 0. 모듈(Module) vs 클래스(Class) vs 인스턴스(Instance)\n",
    "- **모듈(Module)** : py로 끝나는 파이썬 파일\n",
    "- **클래스(Class)** : 객체를 디자인하는 틀, 사용자 정의 자료형\n",
    "- **인스턴스(Instance)** : 클래스로부터 만들어내는 객체"
   ]
  },
  {
   "cell_type": "code",
   "execution_count": 1,
   "metadata": {},
   "outputs": [],
   "source": [
    "# 객체(Object) : 속성과 행위를 가지고 있는 것"
   ]
  },
  {
   "cell_type": "markdown",
   "metadata": {},
   "source": [
    "### 1. 클래스 형식\n",
    "- class 클래스명:  \n",
    "　　　proparties => 속성이나 특성, 멤버변수  \n",
    "　　　　　nation = \"한국\"  \n",
    "　　　　　name = \"\" ,  name=str()  \n",
    "　　　　　age = int() , age = 0  \n",
    "　　　method or function => 행위, 멤버함수(메서드)  \n",
    "　　　　　def display(self):  \n",
    "　　　　　　　print(\"국적 : \", self.nation)  \n",
    "　　　　　　　print(\"이름 : \", self.name)  \n",
    "　　　　　　　print(\"나이 : \", self.age)\n"
   ]
  },
  {
   "cell_type": "markdown",
   "metadata": {},
   "source": [
    "### 2. 주요기능\n",
    "- **클래스 내부에 method 선언** : def 키워드 사용  \n",
    "  일반 함수와 달리 첫번째 인수(매개변수)로 self 사용  \n",
    "  self : 인스턴스 자신의 주소값을 가리킨다.  \n",
    "  각 인스턴스들은 self를 이용해서 자신의 이름공간에 접근  \n",
    "    \n",
    "      \n",
    "- **class method** : self를 가지고 있지 않은 메서드(함수) , 일반함수    \n",
    "  인스턴스와 무관하게 클래스 내부에 기술하는 메서드  \n",
    "  클래스 이름으로 호출해서 사용한다.  \n",
    "    \n",
    "      \n",
    "- **생성자(Constructor) 메서드** :  _ _ init _ _(self)  , self를 포함하고 있어야함  \n",
    "  인스턴스를 생성할 때 자동으로 호출되는 메서드  \n",
    "  \n",
    "    \n",
    "- **소멸자(Destructor) 메서드** :  _ _ del _ _(self)  \n",
    "  인스턴스가 소멸될 때 자동으로 호출되는 메서드  \n",
    "  생략가능  \n",
    "    \n",
    "      \n",
    "- **상속(Inheritance)** : 코드의 재사용  \n",
    "  부모클래스와 자녀클래스   그대로 사용할 수 있도록 하는 기능  \n",
    "  다중상속가능  \n",
    "    \n",
    "      \n",
    "- **오버라이드(Override)**  \n",
    "  부모클래스의 메서드를 자식 클래스에서 재정의하는 것  \n",
    "    \n",
    "      \n",
    "- **다형성(Polymorphism)**  \n",
    "  같은 멤버 함수를 호출할 때 각각 다르게 반응하도록 하는 것  \n",
    "  코드의 가독성을 향상시키는 목적  \n",
    "  작은 코딩으로 다양한 인스턴스들에게 유사한 작업을 수행시킬 수 있다.\n",
    "  "
   ]
  },
  {
   "cell_type": "code",
   "execution_count": 4,
   "metadata": {},
   "outputs": [],
   "source": [
    "# 클래스 선언   # 일반적으로 클래스 첫글자는 대문자로 씀.\n",
    "class Person:  # 클래스를 만들겠다는 키워드(class), 클래스이름\n",
    "    # 특성이나 속성(프로퍼티) - 멤버변수 (클래스 내부에 있는 변수)\n",
    "    name = \"\"\n",
    "    age = 0\n",
    "    height = 0.0\n",
    "    \n",
    "    # 클래스의 행위나 동작 - 멤버함수(=메서드)  (클래스 내부에 있는 함수)\n",
    "    def put(self): # self - 현재 객체의 시작주소를 가리킨다.\n",
    "        print(\"이름 : \" + self.name)\n",
    "        print(\"나이 : \" + str(self.age))\n",
    "        print(\"신장 : \" + str(self.height))"
   ]
  },
  {
   "cell_type": "code",
   "execution_count": 5,
   "metadata": {},
   "outputs": [
    {
     "name": "stdout",
     "output_type": "stream",
     "text": [
      "이름 : \n",
      "나이 : 0\n",
      "신장 : 0.0\n"
     ]
    }
   ],
   "source": [
    "# 인스턴스 객체를 생성해야 한다.\n",
    "# 클래스 내부의 멤버에 접근하기 위해서  인스턴스 변수가 필요함 (일반변수를 만들어내는것과 동일)\n",
    "p1 = Person()   # p1 = new Person() <-자바, 동적할당\n",
    "\n",
    "# 인스턴스명.멤버변수 or 인스턴스명.멤버함수\n",
    "p1.put()  # 호출할때는 self를 쓰지않음"
   ]
  },
  {
   "cell_type": "code",
   "execution_count": 6,
   "metadata": {},
   "outputs": [],
   "source": [
    "class Person:\n",
    "    #name = \"\"\n",
    "    #age = 0\n",
    "    #height = 0.0\n",
    "    \n",
    "    def put(self): \n",
    "        print(\"이름 : \" + self.name)\n",
    "        print(\"나이 : \" + str(self.age))\n",
    "        print(\"신장 : \" + str(self.height))"
   ]
  },
  {
   "cell_type": "code",
   "execution_count": 7,
   "metadata": {},
   "outputs": [
    {
     "name": "stdout",
     "output_type": "stream",
     "text": [
      "이름 : 홍길동\n",
      "나이 : 20\n",
      "신장 : 180.7\n"
     ]
    }
   ],
   "source": [
    "p1 = Person() \n",
    "\n",
    "p1.name = \"홍길동\"\n",
    "p1.age = 20\n",
    "p1.height = 180.7  # 인스턴스 변수 초기값이 없을땐 직접 주어줘야함.\n",
    "\n",
    "p1.put()"
   ]
  },
  {
   "cell_type": "code",
   "execution_count": 8,
   "metadata": {},
   "outputs": [
    {
     "name": "stdout",
     "output_type": "stream",
     "text": [
      "이름 : 장보고\n",
      "나이 : 18\n",
      "신장 : 160.3\n"
     ]
    }
   ],
   "source": [
    "p2 = Person()\n",
    "p2.name = \"장보고\"\n",
    "p2.age = 18\n",
    "p2.height = 160.3\n",
    "\n",
    "p2.put()"
   ]
  },
  {
   "cell_type": "code",
   "execution_count": 9,
   "metadata": {},
   "outputs": [
    {
     "ename": "AttributeError",
     "evalue": "'Person' object has no attribute 'name'",
     "output_type": "error",
     "traceback": [
      "\u001b[1;31m---------------------------------------------------------------------------\u001b[0m",
      "\u001b[1;31mAttributeError\u001b[0m                            Traceback (most recent call last)",
      "\u001b[1;32m<ipython-input-9-8cc854a5bb66>\u001b[0m in \u001b[0;36m<module>\u001b[1;34m\u001b[0m\n\u001b[0;32m      1\u001b[0m \u001b[0mp3\u001b[0m \u001b[1;33m=\u001b[0m \u001b[0mPerson\u001b[0m\u001b[1;33m(\u001b[0m\u001b[1;33m)\u001b[0m\u001b[1;33m\u001b[0m\u001b[1;33m\u001b[0m\u001b[0m\n\u001b[0;32m      2\u001b[0m \u001b[1;33m\u001b[0m\u001b[0m\n\u001b[1;32m----> 3\u001b[1;33m \u001b[0mp3\u001b[0m\u001b[1;33m.\u001b[0m\u001b[0mput\u001b[0m\u001b[1;33m(\u001b[0m\u001b[1;33m)\u001b[0m\u001b[1;33m\u001b[0m\u001b[1;33m\u001b[0m\u001b[0m\n\u001b[0m",
      "\u001b[1;32m<ipython-input-6-f482b9fdb7a5>\u001b[0m in \u001b[0;36mput\u001b[1;34m(self)\u001b[0m\n\u001b[0;32m      5\u001b[0m \u001b[1;33m\u001b[0m\u001b[0m\n\u001b[0;32m      6\u001b[0m     \u001b[1;32mdef\u001b[0m \u001b[0mput\u001b[0m\u001b[1;33m(\u001b[0m\u001b[0mself\u001b[0m\u001b[1;33m)\u001b[0m\u001b[1;33m:\u001b[0m\u001b[1;33m\u001b[0m\u001b[1;33m\u001b[0m\u001b[0m\n\u001b[1;32m----> 7\u001b[1;33m         \u001b[0mprint\u001b[0m\u001b[1;33m(\u001b[0m\u001b[1;34m\"이름 : \"\u001b[0m \u001b[1;33m+\u001b[0m \u001b[0mself\u001b[0m\u001b[1;33m.\u001b[0m\u001b[0mname\u001b[0m\u001b[1;33m)\u001b[0m\u001b[1;33m\u001b[0m\u001b[1;33m\u001b[0m\u001b[0m\n\u001b[0m\u001b[0;32m      8\u001b[0m         \u001b[0mprint\u001b[0m\u001b[1;33m(\u001b[0m\u001b[1;34m\"나이 : \"\u001b[0m \u001b[1;33m+\u001b[0m \u001b[0mstr\u001b[0m\u001b[1;33m(\u001b[0m\u001b[0mself\u001b[0m\u001b[1;33m.\u001b[0m\u001b[0mage\u001b[0m\u001b[1;33m)\u001b[0m\u001b[1;33m)\u001b[0m\u001b[1;33m\u001b[0m\u001b[1;33m\u001b[0m\u001b[0m\n\u001b[0;32m      9\u001b[0m         \u001b[0mprint\u001b[0m\u001b[1;33m(\u001b[0m\u001b[1;34m\"신장 : \"\u001b[0m \u001b[1;33m+\u001b[0m \u001b[0mstr\u001b[0m\u001b[1;33m(\u001b[0m\u001b[0mself\u001b[0m\u001b[1;33m.\u001b[0m\u001b[0mheight\u001b[0m\u001b[1;33m)\u001b[0m\u001b[1;33m)\u001b[0m\u001b[1;33m\u001b[0m\u001b[1;33m\u001b[0m\u001b[0m\n",
      "\u001b[1;31mAttributeError\u001b[0m: 'Person' object has no attribute 'name'"
     ]
    }
   ],
   "source": [
    "p3 = Person()\n",
    "\n",
    "p3.put()"
   ]
  },
  {
   "cell_type": "code",
   "execution_count": 10,
   "metadata": {},
   "outputs": [],
   "source": [
    "class Person:\n",
    "    # 생성자 메서드 : 멤버 필드(변수)를 초기화하는 역할\n",
    "    def __init__(self, name, age, height):\n",
    "        self.name = name  # self  == this(Java용,,)\n",
    "        self.age = age\n",
    "        self.height = height\n",
    "    \n",
    "    def put(self): \n",
    "        print(\"이름 : \" + self.name)\n",
    "        print(\"나이 : \" + str(self.age))\n",
    "        print(\"신장 : \" + str(self.height))"
   ]
  },
  {
   "cell_type": "code",
   "execution_count": 15,
   "metadata": {},
   "outputs": [
    {
     "name": "stdout",
     "output_type": "stream",
     "text": [
      "이름 : 이순신\n",
      "나이 : 25\n",
      "신장 : 177.9\n"
     ]
    }
   ],
   "source": [
    "# 생성자 메서드가 존재한다면 반드시 인스턴스 객체를 생성할 때\n",
    "# 생성자 메서드를 이용해야 한다.\n",
    "p3 = Person(\"이순신\", 25, 177.9)\n",
    "p3.put()"
   ]
  },
  {
   "cell_type": "code",
   "execution_count": 24,
   "metadata": {},
   "outputs": [],
   "source": [
    "class Person:\n",
    "    # 멤버필드(변수) or 프로퍼티\n",
    "    name = \"kim\"\n",
    "    age = 20\n",
    "    height = 180.5\n",
    "    \n",
    "    # 멤버메서드(함수)\n",
    "    def put(self):\n",
    "        #self.변수 => 인스턴스 변수(개별적인 값)\n",
    "        print(\"이름 : \" + self.name, end = \" \")\n",
    "        print(\"나이 : \" + str(self.age), end = \" \")\n",
    "        print(\"신장 : \" + str(self.height))\n",
    "        \n",
    "        #클래스명.변수 => 클래스 변수(공통적인 값, 초기화한 값)\n",
    "        print(\"이름 : \" + Person.name, end = \" \")\n",
    "        print(\"나이 : \" + str(Person.age), end = \" \")\n",
    "        print(\"신장 : \" + str(Person.height))"
   ]
  },
  {
   "cell_type": "code",
   "execution_count": 25,
   "metadata": {},
   "outputs": [
    {
     "name": "stdout",
     "output_type": "stream",
     "text": [
      "이름 : kim 나이 : 20 신장 : 180.5\n",
      "이름 : kim 나이 : 20 신장 : 180.5\n"
     ]
    }
   ],
   "source": [
    "p4 = Person()\n",
    "p4.put()"
   ]
  },
  {
   "cell_type": "code",
   "execution_count": 27,
   "metadata": {},
   "outputs": [
    {
     "name": "stdout",
     "output_type": "stream",
     "text": [
      "이름 : 김유신 나이 : 44 신장 : 160.2\n",
      "이름 : kim 나이 : 20 신장 : 180.5\n"
     ]
    }
   ],
   "source": [
    "p5 = Person()  # self 대신 클래스명을 적으면, 초기화값이 나타남\n",
    "p5.name = \"김유신\"\n",
    "p5.age = 44\n",
    "p5.height = 160.2\n",
    "p5.put()"
   ]
  },
  {
   "cell_type": "code",
   "execution_count": 4,
   "metadata": {},
   "outputs": [],
   "source": [
    "# 회원관리를 목적으로 클래스 생성\n",
    "class Member:\n",
    "    def info(self):\n",
    "        print(\"아이디 : \" + self.id, end = \" \")\n",
    "        print(\"비밀번호 : \" + self.pw, end = \" \")\n",
    "        print(\"회원이름 : \" + self.name, end = \" \")\n",
    "        print(\"회원주소 : \" + self.addr)"
   ]
  },
  {
   "cell_type": "code",
   "execution_count": 6,
   "metadata": {},
   "outputs": [
    {
     "ename": "AttributeError",
     "evalue": "'Member' object has no attribute 'id'",
     "output_type": "error",
     "traceback": [
      "\u001b[1;31m---------------------------------------------------------------------------\u001b[0m",
      "\u001b[1;31mAttributeError\u001b[0m                            Traceback (most recent call last)",
      "\u001b[1;32m<ipython-input-6-198bcdf56a6e>\u001b[0m in \u001b[0;36m<module>\u001b[1;34m\u001b[0m\n\u001b[0;32m      3\u001b[0m \u001b[1;33m\u001b[0m\u001b[0m\n\u001b[0;32m      4\u001b[0m \u001b[1;31m# 인스턴스 변수를 통해 멤버 접근(.direct 연산자)\u001b[0m\u001b[1;33m\u001b[0m\u001b[1;33m\u001b[0m\u001b[1;33m\u001b[0m\u001b[0m\n\u001b[1;32m----> 5\u001b[1;33m \u001b[0mm1\u001b[0m\u001b[1;33m.\u001b[0m\u001b[0minfo\u001b[0m\u001b[1;33m(\u001b[0m\u001b[1;33m)\u001b[0m\u001b[1;33m\u001b[0m\u001b[1;33m\u001b[0m\u001b[0m\n\u001b[0m",
      "\u001b[1;32m<ipython-input-4-dfce19b7654e>\u001b[0m in \u001b[0;36minfo\u001b[1;34m(self)\u001b[0m\n\u001b[0;32m      2\u001b[0m \u001b[1;32mclass\u001b[0m \u001b[0mMember\u001b[0m\u001b[1;33m:\u001b[0m\u001b[1;33m\u001b[0m\u001b[1;33m\u001b[0m\u001b[0m\n\u001b[0;32m      3\u001b[0m     \u001b[1;32mdef\u001b[0m \u001b[0minfo\u001b[0m\u001b[1;33m(\u001b[0m\u001b[0mself\u001b[0m\u001b[1;33m)\u001b[0m\u001b[1;33m:\u001b[0m\u001b[1;33m\u001b[0m\u001b[1;33m\u001b[0m\u001b[0m\n\u001b[1;32m----> 4\u001b[1;33m         \u001b[0mprint\u001b[0m\u001b[1;33m(\u001b[0m\u001b[1;34m\"아이디 : \"\u001b[0m \u001b[1;33m+\u001b[0m \u001b[0mself\u001b[0m\u001b[1;33m.\u001b[0m\u001b[0mid\u001b[0m\u001b[1;33m,\u001b[0m \u001b[0mend\u001b[0m \u001b[1;33m=\u001b[0m \u001b[1;34m\" \"\u001b[0m\u001b[1;33m)\u001b[0m\u001b[1;33m\u001b[0m\u001b[1;33m\u001b[0m\u001b[0m\n\u001b[0m\u001b[0;32m      5\u001b[0m         \u001b[0mprint\u001b[0m\u001b[1;33m(\u001b[0m\u001b[1;34m\"비밀번호 : \"\u001b[0m \u001b[1;33m+\u001b[0m \u001b[0mself\u001b[0m\u001b[1;33m.\u001b[0m\u001b[0mpw\u001b[0m\u001b[1;33m,\u001b[0m \u001b[0mend\u001b[0m \u001b[1;33m=\u001b[0m \u001b[1;34m\" \"\u001b[0m\u001b[1;33m)\u001b[0m\u001b[1;33m\u001b[0m\u001b[1;33m\u001b[0m\u001b[0m\n\u001b[0;32m      6\u001b[0m         \u001b[0mprint\u001b[0m\u001b[1;33m(\u001b[0m\u001b[1;34m\"회원이름 : \"\u001b[0m \u001b[1;33m+\u001b[0m \u001b[0mself\u001b[0m\u001b[1;33m.\u001b[0m\u001b[0mname\u001b[0m\u001b[1;33m,\u001b[0m \u001b[0mend\u001b[0m \u001b[1;33m=\u001b[0m \u001b[1;34m\" \"\u001b[0m\u001b[1;33m)\u001b[0m\u001b[1;33m\u001b[0m\u001b[1;33m\u001b[0m\u001b[0m\n",
      "\u001b[1;31mAttributeError\u001b[0m: 'Member' object has no attribute 'id'"
     ]
    }
   ],
   "source": [
    "# instance 변수 생성\n",
    "m1 = Member()\n",
    "\n",
    "# 인스턴스 변수를 통해 멤버 접근(.direct 연산자)\n",
    "m1.info()"
   ]
  },
  {
   "cell_type": "code",
   "execution_count": 7,
   "metadata": {},
   "outputs": [
    {
     "name": "stdout",
     "output_type": "stream",
     "text": [
      "아이디 : kkk 비밀번호 : 1234 회원이름 : 홍두깨 회원주소 : 대전시\n"
     ]
    }
   ],
   "source": [
    "m2 = Member()\n",
    "\n",
    "m2.id = \"kkk\"\n",
    "m2.pw = \"1234\"\n",
    "m2.name = \"홍두깨\"\n",
    "m2.addr = \"대전시\"\n",
    "\n",
    "m2.info()"
   ]
  },
  {
   "cell_type": "code",
   "execution_count": 14,
   "metadata": {},
   "outputs": [],
   "source": [
    "class Member:\n",
    "    # 생성자 메서드 만들기\n",
    "    def __init__(self, userid, pw, name=\"\", addr=\"대전시\"):\n",
    "        self.userid = userid\n",
    "        self.pw = pw\n",
    "        self.name = name\n",
    "        self.addr = addr\n",
    "        \n",
    "    def info(self):\n",
    "        print(\"아이디 : \" + self.userid, end = \" \")\n",
    "        print(\"비밀번호 : \" + self.pw, end = \" \")\n",
    "        print(\"회원이름 : \" + self.name, end = \" \")\n",
    "        print(\"회원주소 : \" + self.addr)"
   ]
  },
  {
   "cell_type": "code",
   "execution_count": 9,
   "metadata": {},
   "outputs": [
    {
     "name": "stdout",
     "output_type": "stream",
     "text": [
      "아이디 : lee 비밀번호 : 1234 회원이름 : 이순신 회원주소 : 서울시\n"
     ]
    }
   ],
   "source": [
    "#생성자 메서드가 있다면, 인스턴스를 쓸때 생성자메서드를 이용해야만함\n",
    "m3 = Member(\"lee\", \"1234\", \"이순신\", \"서울시\")\n",
    "m3.info()"
   ]
  },
  {
   "cell_type": "code",
   "execution_count": 12,
   "metadata": {},
   "outputs": [
    {
     "name": "stdout",
     "output_type": "stream",
     "text": [
      "아이디 : park 비밀번호 : 1234 회원이름 : 박둘리 회원주소 : 대전시\n"
     ]
    }
   ],
   "source": [
    "# default parameter , 함수 매개변수의 초기값 >> 생성자메서드에서 초기값부여\n",
    "m4 = Member(\"park\",\"1234\", \"박둘리\")\n",
    "m4.info()"
   ]
  },
  {
   "cell_type": "code",
   "execution_count": 15,
   "metadata": {},
   "outputs": [
    {
     "name": "stdout",
     "output_type": "stream",
     "text": [
      "아이디 : kim 비밀번호 : 1234 회원이름 :  회원주소 : 대전시\n"
     ]
    }
   ],
   "source": [
    "m5 = Member(\"kim\", \"1234\")\n",
    "m5.info()"
   ]
  },
  {
   "cell_type": "markdown",
   "metadata": {},
   "source": [
    "##### 상속(Inheritance)"
   ]
  },
  {
   "cell_type": "code",
   "execution_count": 17,
   "metadata": {},
   "outputs": [],
   "source": [
    "# class 자녀클래스명(상위클래스명):\n",
    "class Person:  # 상위클래스 ==부모클래스 == 기반클래스\n",
    "    def __init__(self, name, age, height):\n",
    "        self.name = name\n",
    "        self.age = age\n",
    "        self.height = height\n",
    "        \n",
    "    def disp(self):\n",
    "        print(\"이름 : \" + self.name, end = \" \")\n",
    "        print(\"나이 : \" + str(self.age), end = \" \")\n",
    "        print(\"신장 : \" + str(self.height), end = \" \")        "
   ]
  },
  {
   "cell_type": "code",
   "execution_count": 32,
   "metadata": {},
   "outputs": [],
   "source": [
    "# 하위클래스 == 자녀클래스 == 파생클래스\n",
    "class PersonInfo(Person):\n",
    "    def disp(self):\n",
    "        print(\"체중 : \" + str(self.weight), end = \" \")\n",
    "        print(\"시력(좌) : \" + str(self.left_eye), end = \" \")\n",
    "        print(\"시력(우) : \" + str(self.right_eye))"
   ]
  },
  {
   "cell_type": "code",
   "execution_count": 19,
   "metadata": {},
   "outputs": [],
   "source": [
    "# 부모는 생성자메서드를 가지고 만들어냄\n",
    "# 자식도 생성자메서드가 있어야함 (의무)\n",
    "# 부모의 멤버필드를 초기화해야할 의무가 있다..\n",
    "# 부모멤버를 초기화. 자식에게 없는 변수이더라도 부모의 멤버 초기화해야함"
   ]
  },
  {
   "cell_type": "code",
   "execution_count": 20,
   "metadata": {},
   "outputs": [
    {
     "name": "stdout",
     "output_type": "stream",
     "text": [
      "이름 : aaa 나이 : 34 신장 : 172.4 "
     ]
    }
   ],
   "source": [
    "p1 = Person(\"aaa\", 34, 172.4)\n",
    "p1.disp()"
   ]
  },
  {
   "cell_type": "code",
   "execution_count": 33,
   "metadata": {},
   "outputs": [
    {
     "name": "stdout",
     "output_type": "stream",
     "text": [
      "체중 : 70.5 시력(좌) : 1.5 시력(우) : 1.5\n"
     ]
    }
   ],
   "source": [
    "p2 = PersonInfo(\"bbb\", 25, 180.9)  # 부모값 초기화\n",
    "p2.weight = 70.5\n",
    "p2.left_eye = 1.5\n",
    "p2.right_eye = 1.5\n",
    "p2.disp()"
   ]
  },
  {
   "cell_type": "code",
   "execution_count": 28,
   "metadata": {},
   "outputs": [],
   "source": [
    "class PersonInfo(Person):\n",
    "    # 생성자 메서드\n",
    "    def __init__(self, name, age, height, weight, left_eye, right_eye):\n",
    "        #self.name = name\n",
    "        #self.age = age\n",
    "        #self.height = height\n",
    "        Person.__init__(self, name, age, height)  # 부모클래스의 것을 담아라\n",
    "        self.weight = weight\n",
    "        self.left_eye = left_eye\n",
    "        self.right_eye = right_eye\n",
    "    \n",
    "    def disp(self):\n",
    "        Person.disp(self)\n",
    "        print(\"체중 : \" + str(self.weight), end = \" \")\n",
    "        print(\"시력(좌) : \" + str(self.left_eye), end = \" \")\n",
    "        print(\"시력(우) : \" + str(self.right_eye))"
   ]
  },
  {
   "cell_type": "code",
   "execution_count": 29,
   "metadata": {},
   "outputs": [
    {
     "name": "stdout",
     "output_type": "stream",
     "text": [
      "이름 : ccc 나이 : 19 신장 : 169.2 체중 : 52.7 시력(좌) : 0.9 시력(우) : 0.9\n"
     ]
    }
   ],
   "source": [
    "p3 = PersonInfo(\"ccc\", 19, 169.2, 52.7, 0.9, 0.9)\n",
    "p3.disp()"
   ]
  },
  {
   "cell_type": "code",
   "execution_count": 34,
   "metadata": {},
   "outputs": [
    {
     "name": "stdout",
     "output_type": "stream",
     "text": [
      "3\n",
      "10\n"
     ]
    }
   ],
   "source": [
    "result = 0\n",
    "\n",
    "def add(num):\n",
    "    global result  # 전역변수\n",
    "    result += num\n",
    "    return result\n",
    "\n",
    "print(add(3))\n",
    "print(add(7))    "
   ]
  },
  {
   "cell_type": "code",
   "execution_count": 36,
   "metadata": {},
   "outputs": [
    {
     "name": "stdout",
     "output_type": "stream",
     "text": [
      "3\n",
      "7\n",
      "3\n",
      "10\n"
     ]
    }
   ],
   "source": [
    "result1 = 0\n",
    "result2 = 0\n",
    "\n",
    "def add1(num):\n",
    "    global result1\n",
    "    result1 += num\n",
    "    return result1\n",
    "\n",
    "def add2(num):\n",
    "    global result2\n",
    "    result2 += num\n",
    "    return result2\n",
    "    \n",
    "print(add1(3))\n",
    "print(add1(4))\n",
    "print(add2(3))\n",
    "print(add2(7))\n",
    "    "
   ]
  },
  {
   "cell_type": "code",
   "execution_count": 42,
   "metadata": {},
   "outputs": [],
   "source": [
    "class Calculator:\n",
    "    def __init__(self):\n",
    "        self.result = 0\n",
    "        \n",
    "    def add(self, num):\n",
    "        self.result += num\n",
    "        return self.result"
   ]
  },
  {
   "cell_type": "code",
   "execution_count": 43,
   "metadata": {},
   "outputs": [
    {
     "name": "stdout",
     "output_type": "stream",
     "text": [
      "3\n",
      "7\n",
      "3\n",
      "10\n"
     ]
    }
   ],
   "source": [
    "cal1 = Calculator()\n",
    "cal2 = Calculator()  # 서로 독립된 기억공간을 가짐\n",
    "\n",
    "print(cal1.add(3))\n",
    "print(cal1.add(4))\n",
    "print(cal2.add(3))\n",
    "print(cal2.add(7))"
   ]
  },
  {
   "cell_type": "code",
   "execution_count": 46,
   "metadata": {},
   "outputs": [],
   "source": [
    "# 부모클래스\n",
    "class Member:\n",
    "    def __init__(self, userid=\"\", pwd=\"\", name=\"\", age=0):\n",
    "        self.userid = userid\n",
    "        self.pwd = pwd\n",
    "        self.name = name\n",
    "        self.age = age\n",
    "        \n",
    "    def info(self):\n",
    "        print(\"아이디 : \" + self.userid, end = \" \")\n",
    "        print(\"비밀번호 : \" + self.pwd, end = \" \")\n",
    "        print(\"이름 : \" + self.name, end = \" \")\n",
    "        print(\"나이 : \" + str(self.age))    "
   ]
  },
  {
   "cell_type": "code",
   "execution_count": 50,
   "metadata": {},
   "outputs": [],
   "source": [
    "# 파생클래스\n",
    "class MemberInfo(Member):  # 상속관계 정의 # 괄호안에 부모클래스명(기반클래스) \n",
    "    # 상속시 반드시 부모객체의 멤버를 초기화 시켜줄 의무가 있다.\n",
    "    def __init__(self, userid, pwd, name, age, job, hobby):\n",
    "        Member.__init__(self, userid, pwd, name, age)\n",
    "        self.job = job\n",
    "        self. hobby = hobby\n",
    "        \n",
    "    def info(self):\n",
    "        Member.info(self)  # 함수명이 다를땐 부모클래스 안적어도된다?\n",
    "        print(\"직업 : \" + self.job, end =\" \")\n",
    "        print(\"취미 : \" + self.hobby)"
   ]
  },
  {
   "cell_type": "code",
   "execution_count": 51,
   "metadata": {},
   "outputs": [
    {
     "name": "stdout",
     "output_type": "stream",
     "text": [
      "아이디 : aaa 비밀번호 : 1234 이름 : 장보고 나이 : 33\n",
      "직업 : 개발자 취미 : 코딩\n"
     ]
    }
   ],
   "source": [
    "# 자식객체를 통해 부모멤버에 접근이 허용\n",
    "m1 = MemberInfo(\"aaa\", \"1234\", \"장보고\", 33, \"개발자\", \"코딩\")\n",
    "m1.info()"
   ]
  },
  {
   "cell_type": "code",
   "execution_count": 65,
   "metadata": {},
   "outputs": [],
   "source": [
    "class Salary:\n",
    "    def __init__(self, name, job, bonus, rate):\n",
    "        self.name = name\n",
    "        self.job = job\n",
    "        self.bonus = bonus\n",
    "        self.rate = rate\n",
    "        \n",
    "    def calc(self):\n",
    "        # 직급에 따른 기본급\n",
    "        if self.job == \"사원\":\n",
    "            self.sal = 150\n",
    "        elif self.job == \"주임\":\n",
    "            self.sal = 170\n",
    "        elif self.job == \"대리\":\n",
    "            self.sal = 190\n",
    "        elif self.job == \"과장\":\n",
    "            self.sal = 220\n",
    "        elif self.job == \"부장\":\n",
    "            self.sal = 250\n",
    "    \n",
    "        # 수령액 = 기본급 + 보너스\n",
    "        self.total = self.sal + self.bonus\n",
    "    \n",
    "        # 세액 = 수령액 * 세율 / 100\n",
    "        self.tax = self.total * self.rate / 100\n",
    "    \n",
    "        # 실수령액 = 수령액 - 세액\n",
    "        self.pay = self.total - self.tax\n",
    "    \n",
    "    def info(self):\n",
    "        print(\"\"\"\n",
    "이    름 : {0}\n",
    "기 본 급 : {1}\n",
    "보 너 스 : {2}\n",
    "수 령 액 : {3}\n",
    "세    액 : {4}        \n",
    "실수령액 : {5:.1f}\"\"\".format(self.name, self.sal, \n",
    "                         self.bonus, self.total, self.tax, self.pay))"
   ]
  },
  {
   "cell_type": "code",
   "execution_count": 66,
   "metadata": {},
   "outputs": [
    {
     "name": "stdout",
     "output_type": "stream",
     "text": [
      "\n",
      "이    름 : 홍길동\n",
      "기 본 급 : 190\n",
      "보 너 스 : 500\n",
      "수 령 액 : 690\n",
      "세    액 : 20.7        \n",
      "실수령액 : 669.3\n"
     ]
    }
   ],
   "source": [
    "s1 = Salary(\"홍길동\", \"대리\", 500, 3)\n",
    "s1.calc()\n",
    "s1.info()"
   ]
  },
  {
   "cell_type": "code",
   "execution_count": 57,
   "metadata": {},
   "outputs": [],
   "source": [
    "# 클래스변수와 인스턴스변수\n",
    "class AAA:\n",
    "    # 클래스변수(공통적인 값)\n",
    "    name = \"홍길동\"\n",
    "    age = 20\n",
    "    \n",
    "    def test(self):\n",
    "        # 인스턴스변수(개별적인 값)\n",
    "        self.message = \"안녕하세요\"\n",
    "        print(self.message)"
   ]
  },
  {
   "cell_type": "code",
   "execution_count": 58,
   "metadata": {},
   "outputs": [
    {
     "name": "stdout",
     "output_type": "stream",
     "text": [
      "안녕하세요\n"
     ]
    }
   ],
   "source": [
    "# 인스턴스 객체 생성\n",
    "ap = AAA()\n",
    "ap.test()"
   ]
  },
  {
   "cell_type": "code",
   "execution_count": 60,
   "metadata": {},
   "outputs": [
    {
     "name": "stdout",
     "output_type": "stream",
     "text": [
      "홍길동\n",
      "홍길동\n",
      "20\n",
      "20\n"
     ]
    }
   ],
   "source": [
    "print(ap.name)\n",
    "print(AAA.name)\n",
    "print(ap.age)\n",
    "print(AAA.age)"
   ]
  },
  {
   "cell_type": "code",
   "execution_count": 61,
   "metadata": {},
   "outputs": [
    {
     "name": "stdout",
     "output_type": "stream",
     "text": [
      "안녕하세요\n"
     ]
    }
   ],
   "source": [
    "print(ap.message)"
   ]
  },
  {
   "cell_type": "code",
   "execution_count": 62,
   "metadata": {},
   "outputs": [
    {
     "ename": "AttributeError",
     "evalue": "type object 'AAA' has no attribute 'message'",
     "output_type": "error",
     "traceback": [
      "\u001b[1;31m---------------------------------------------------------------------------\u001b[0m",
      "\u001b[1;31mAttributeError\u001b[0m                            Traceback (most recent call last)",
      "\u001b[1;32m<ipython-input-62-bbd4ee4d92b9>\u001b[0m in \u001b[0;36m<module>\u001b[1;34m\u001b[0m\n\u001b[1;32m----> 1\u001b[1;33m \u001b[0mprint\u001b[0m\u001b[1;33m(\u001b[0m\u001b[0mAAA\u001b[0m\u001b[1;33m.\u001b[0m\u001b[0mmessage\u001b[0m\u001b[1;33m)\u001b[0m\u001b[1;33m\u001b[0m\u001b[1;33m\u001b[0m\u001b[0m\n\u001b[0m",
      "\u001b[1;31mAttributeError\u001b[0m: type object 'AAA' has no attribute 'message'"
     ]
    }
   ],
   "source": [
    "print(AAA.message)"
   ]
  },
  {
   "cell_type": "code",
   "execution_count": 63,
   "metadata": {},
   "outputs": [
    {
     "name": "stdout",
     "output_type": "stream",
     "text": [
      "안녕하세요\n"
     ]
    }
   ],
   "source": [
    "ap.message = \"반갑습니다.\"  # 인스턴스 # 기본틀은 바꾸지않게함\n",
    "ap.test()"
   ]
  },
  {
   "cell_type": "code",
   "execution_count": 64,
   "metadata": {},
   "outputs": [
    {
     "name": "stdout",
     "output_type": "stream",
     "text": [
      "장보고\n"
     ]
    }
   ],
   "source": [
    "AAA.name = \"장보고\"  # 클래스\n",
    "print(AAA.name)"
   ]
  },
  {
   "cell_type": "code",
   "execution_count": 67,
   "metadata": {},
   "outputs": [],
   "source": [
    "# 다중상속\n",
    "class Phone:\n",
    "    def call(self):\n",
    "        print(\"통화가능\")\n",
    "        \n",
    "class Camera:\n",
    "    def picture(self):\n",
    "        print(\"촬영가능\")\n",
    "        \n",
    "class SmartPhone(Phone, Camera): # 괄호안에 여러개 - 다중상속\n",
    "    def pictureCall(self):\n",
    "        print(\"영상통화가능\")"
   ]
  },
  {
   "cell_type": "code",
   "execution_count": 69,
   "metadata": {},
   "outputs": [
    {
     "name": "stdout",
     "output_type": "stream",
     "text": [
      "통화가능\n",
      "촬영가능\n"
     ]
    }
   ],
   "source": [
    "p = Phone()\n",
    "p.call()\n",
    "# p.picture()  -> 불가능, 자기멤버에만 접근가능\n",
    "\n",
    "c = Camera()\n",
    "c.picture()"
   ]
  },
  {
   "cell_type": "code",
   "execution_count": 72,
   "metadata": {},
   "outputs": [
    {
     "name": "stdout",
     "output_type": "stream",
     "text": [
      "통화가능\n",
      "촬영가능\n",
      "영상통화가능\n"
     ]
    }
   ],
   "source": [
    "s = SmartPhone()  # 상속으로 다른 멤버에 접근가능\n",
    "s.call()          # 자식객체로 부모객체에 접근\n",
    "s.picture()\n",
    "s.pictureCall()"
   ]
  },
  {
   "cell_type": "code",
   "execution_count": 78,
   "metadata": {},
   "outputs": [],
   "source": [
    "# 똑같은 이름으로 다시 쓸수있는거... override\n",
    "class Phone:\n",
    "    def call(self):\n",
    "        print(\"통화가능\")\n",
    "        \n",
    "class Camera:\n",
    "    def call(self):\n",
    "        print(\"촬영가능\")\n",
    "        \n",
    "class SmartPhone(Phone, Camera): \n",
    "    def call(self):\n",
    "        Phone.call(self)  # 부모꺼 소환\n",
    "        print(\"영상통화가능\")"
   ]
  },
  {
   "cell_type": "code",
   "execution_count": 79,
   "metadata": {},
   "outputs": [
    {
     "name": "stdout",
     "output_type": "stream",
     "text": [
      "통화가능\n",
      "영상통화가능\n"
     ]
    }
   ],
   "source": [
    "s = SmartPhone()\n",
    "s.call() # 이름이 같을땐 자기것으로 작동"
   ]
  }
 ],
 "metadata": {
  "kernelspec": {
   "display_name": "Python 3",
   "language": "python",
   "name": "python3"
  },
  "language_info": {
   "codemirror_mode": {
    "name": "ipython",
    "version": 3
   },
   "file_extension": ".py",
   "mimetype": "text/x-python",
   "name": "python",
   "nbconvert_exporter": "python",
   "pygments_lexer": "ipython3",
   "version": "3.7.3"
  }
 },
 "nbformat": 4,
 "nbformat_minor": 2
}
