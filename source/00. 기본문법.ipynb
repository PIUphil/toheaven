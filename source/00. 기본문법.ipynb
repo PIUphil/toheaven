{
 "cells": [
  {
   "cell_type": "markdown",
   "metadata": {},
   "source": [
    "# 0. 주석(comment)\n",
    "- 프로그램 실행과는 상관없이 설명을 담기위해 사용하는 키워드"
   ]
  },
  {
   "cell_type": "code",
   "execution_count": 3,
   "metadata": {},
   "outputs": [],
   "source": [
    "# 대입문(or 치환문)\n",
    "a = 10\n",
    "b = 20\n",
    "c = 30"
   ]
  },
  {
   "cell_type": "code",
   "execution_count": 4,
   "metadata": {},
   "outputs": [
    {
     "data": {
      "text/plain": [
       "10"
      ]
     },
     "execution_count": 4,
     "metadata": {},
     "output_type": "execute_result"
    }
   ],
   "source": [
    "a"
   ]
  },
  {
   "cell_type": "code",
   "execution_count": 5,
   "metadata": {},
   "outputs": [
    {
     "data": {
      "text/plain": [
       "20"
      ]
     },
     "execution_count": 5,
     "metadata": {},
     "output_type": "execute_result"
    }
   ],
   "source": [
    "b"
   ]
  },
  {
   "cell_type": "code",
   "execution_count": 6,
   "metadata": {},
   "outputs": [
    {
     "data": {
      "text/plain": [
       "30"
      ]
     },
     "execution_count": 6,
     "metadata": {},
     "output_type": "execute_result"
    }
   ],
   "source": [
    "c"
   ]
  },
  {
   "cell_type": "code",
   "execution_count": 7,
   "metadata": {
    "scrolled": true
   },
   "outputs": [
    {
     "name": "stdout",
     "output_type": "stream",
     "text": [
      "10\n",
      "20\n",
      "30\n"
     ]
    }
   ],
   "source": [
    "# 예약어(keyword) : 의미나 기능이 미리 정의되어 있는 언어\n",
    "print(a)\n",
    "print(b)\n",
    "print(c)"
   ]
  },
  {
   "cell_type": "markdown",
   "metadata": {},
   "source": [
    "# 1. 예약어 (Reserved Words, keywords)\n",
    "- 파이썬에서 이미 문법적인 용도로 사용되고 있으므로 변수명이나 식별자로 사용할 수 없는 단어들\n",
    "- 예약어를 변수에 사용하면 에러는 없으나 고유기능이 사라짐을 주의해야한다."
   ]
  },
  {
   "cell_type": "code",
   "execution_count": 3,
   "metadata": {},
   "outputs": [
    {
     "name": "stdout",
     "output_type": "stream",
     "text": [
      "['False', 'None', 'True', 'and', 'as', 'assert', 'async', 'await', 'break', 'class', 'continue', 'def', 'del', 'elif', 'else', 'except', 'finally', 'for', 'from', 'global', 'if', 'import', 'in', 'is', 'lambda', 'nonlocal', 'not', 'or', 'pass', 'raise', 'return', 'try', 'while', 'with', 'yield']\n",
      "35\n"
     ]
    }
   ],
   "source": [
    "#파이썬의 예약어를 확인하기 위한 패키지를 포함하는 작업\n",
    "# KEYWORD 모듈이 가지고 없다.\n",
    "import keyword\n",
    "\n",
    "#파이썬에 등록된 예약어 목록을 출력하라\n",
    "print(keyword.kwlist)\n",
    "\n",
    "#len(리스트) :리스트라는 자료형의 크기를 출력하는 함수\n",
    "print(len(keyword.kwlist))"
   ]
  },
  {
   "cell_type": "code",
   "execution_count": 2,
   "metadata": {},
   "outputs": [
    {
     "name": "stdout",
     "output_type": "stream",
     "text": [
      "hello python\n"
     ]
    }
   ],
   "source": [
    "\"hello Python\"\n",
    "print (\"hello python\")"
   ]
  },
  {
   "cell_type": "code",
   "execution_count": 2,
   "metadata": {},
   "outputs": [
    {
     "name": "stdout",
     "output_type": "stream",
     "text": [
      "55\n",
      "8\n",
      "150\n",
      "6.0\n"
     ]
    }
   ],
   "source": [
    "# 연산자(operater) : 단항연산자와 이항연산자\n",
    "# 피연산자 사이에서 계산을 수행하기 위해 사용하는 기호들\n",
    "# 사칙연산 : +, -, * /(실수 몫), //(정수 몫), %(나머지) **(거듭제곱)\n",
    "print(25+30)\n",
    "print(20-12)\n",
    "print(50*3)\n",
    "print(30/5)"
   ]
  },
  {
   "cell_type": "code",
   "execution_count": 12,
   "metadata": {},
   "outputs": [
    {
     "name": "stdout",
     "output_type": "stream",
     "text": [
      "243\n",
      "243\n"
     ]
    }
   ],
   "source": [
    "print(3*3*3*3*3)\n",
    "print(3 ** 5)"
   ]
  },
  {
   "cell_type": "code",
   "execution_count": 4,
   "metadata": {},
   "outputs": [
    {
     "name": "stdout",
     "output_type": "stream",
     "text": [
      "3.5\n",
      "3\n",
      "1\n"
     ]
    }
   ],
   "source": [
    "print(7 / 2)\n",
    "print (7 // 2)\n",
    "print (7 % 2)\n"
   ]
  },
  {
   "cell_type": "code",
   "execution_count": null,
   "metadata": {},
   "outputs": [],
   "source": []
  }
 ],
 "metadata": {
  "kernelspec": {
   "display_name": "Python 3",
   "language": "python",
   "name": "python3"
  },
  "language_info": {
   "codemirror_mode": {
    "name": "ipython",
    "version": 3
   },
   "file_extension": ".py",
   "mimetype": "text/x-python",
   "name": "python",
   "nbconvert_exporter": "python",
   "pygments_lexer": "ipython3",
   "version": "3.7.3"
  }
 },
 "nbformat": 4,
 "nbformat_minor": 2
}
