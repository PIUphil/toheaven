{
 "cells": [
  {
   "cell_type": "markdown",
   "metadata": {},
   "source": [
    "# 1. 변수(Variable)\n",
    "- 기억공간 또는 기억장소\n",
    "- 상수를 담기 위해 사용하는 공간을 의미한다.\n",
    "- 변할 수 있는 수\n",
    "- 1개의 변수는 1개의 상수를 담는다.\n",
    "\n",
    "# 2. 상수(Constant)\n",
    "- 값\n",
    "- 기억공간이 변수에 기억되는 값을 의미한다.\n",
    "- 변할 수 없다.\n",
    "\n",
    "# 3. 자료형(Data Type)\n",
    "- 변수와 상수의 크기를 규정해 놓은 키워드\n",
    "- 일반적으로 변수와 상수의 크기를 일치시킨다. (형의 일치)\n",
    "- 동적타이핑 (Dynamic Typing) : 프로그램 실행시 또는 실행 전에 자동으로 변수의 크기를 규정하는 것"
   ]
  },
  {
   "cell_type": "code",
   "execution_count": 4,
   "metadata": {},
   "outputs": [
    {
     "data": {
      "text/plain": [
       "'\\n이것은 여러개의 주석을 표현합니다.\\n여러줄의 문자열을 표현할 때도 사용합니다.\\n'"
      ]
     },
     "execution_count": 4,
     "metadata": {},
     "output_type": "execute_result"
    }
   ],
   "source": [
    "# python 자료형\n",
    "# Number, String, list, tuple, dictionary 등\n",
    "\"\"\"\n",
    "이것은 여러개의 주석을 표현합니다.\n",
    "여러줄의 문자열을 표현할 때도 사용합니다.\n",
    "\"\"\""
   ]
  },
  {
   "cell_type": "code",
   "execution_count": 3,
   "metadata": {},
   "outputs": [
    {
     "data": {
      "text/plain": [
       "'\\n쌍따옴표나 홑따옴표를 이용해서 문자열을 처리합니다.\\n위에 내용과 동일합니다.\\n'"
      ]
     },
     "execution_count": 3,
     "metadata": {},
     "output_type": "execute_result"
    }
   ],
   "source": [
    "'''\n",
    "쌍따옴표나 홑따옴표를 이용해서 문자열을 처리합니다.\n",
    "위에 내용과 동일합니다.\n",
    "'''"
   ]
  },
  {
   "cell_type": "markdown",
   "metadata": {},
   "source": [
    "### 변수 작성 규칙\n",
    "- 알파벳, 숫자, 밑줄(_)로 시작한다.\n",
    "- 첫글자는 영문자(대,소문자), 밑줄(_)로 시작한다.\n",
    "- 변수명은 이미 용도가 정해진 키워드를 포함할 수 없다.\n",
    "- 길이 제한이 없다.\n",
    "- 영문자의 대소문자가 구분된다. 일반적으로 소문자 사용"
   ]
  },
  {
   "cell_type": "code",
   "execution_count": 7,
   "metadata": {},
   "outputs": [
    {
     "name": "stdout",
     "output_type": "stream",
     "text": [
      "11\n"
     ]
    }
   ],
   "source": [
    "a = 10\n",
    "a += 1  # 배정대입연산자 a = a+1\n",
    "# a++, a-- : 증감연산자는 파이썬이 지원하지 않는다.\n",
    "print(a)"
   ]
  },
  {
   "cell_type": "code",
   "execution_count": 8,
   "metadata": {},
   "outputs": [
    {
     "data": {
      "text/plain": [
       "int"
      ]
     },
     "execution_count": 8,
     "metadata": {},
     "output_type": "execute_result"
    }
   ],
   "source": [
    "# 자료형을 확인하는 함수 type()\n",
    "type(a)  # int, integer : 정수"
   ]
  },
  {
   "cell_type": "code",
   "execution_count": 9,
   "metadata": {},
   "outputs": [
    {
     "data": {
      "text/plain": [
       "str"
      ]
     },
     "execution_count": 9,
     "metadata": {},
     "output_type": "execute_result"
    }
   ],
   "source": [
    "a = \"python\"\n",
    "print(a)"
   ]
  },
  {
   "cell_type": "code",
   "execution_count": 10,
   "metadata": {},
   "outputs": [
    {
     "data": {
      "text/plain": [
       "str"
      ]
     },
     "execution_count": 10,
     "metadata": {},
     "output_type": "execute_result"
    }
   ],
   "source": [
    "# 자료형을 확인하는 함수 type()\n",
    "type(a)  # str, string : 문자열"
   ]
  },
  {
   "cell_type": "code",
   "execution_count": 11,
   "metadata": {},
   "outputs": [
    {
     "name": "stdout",
     "output_type": "stream",
     "text": [
      "파이썬\n",
      "<class 'str'>\n"
     ]
    }
   ],
   "source": [
    "a = '파이썬'\n",
    "print(a)\n",
    "print(type(a))"
   ]
  },
  {
   "cell_type": "code",
   "execution_count": 16,
   "metadata": {},
   "outputs": [
    {
     "name": "stdout",
     "output_type": "stream",
     "text": [
      "1 1 1\n"
     ]
    }
   ],
   "source": [
    "# 대입연산자 or 치환연산자 or 할당연산자\n",
    "# packing(패킹)과 unpacking(언패킹)\n",
    "i = j = k = 1\n",
    "print(i, j, k)"
   ]
  },
  {
   "cell_type": "code",
   "execution_count": 18,
   "metadata": {},
   "outputs": [
    {
     "name": "stdout",
     "output_type": "stream",
     "text": [
      "10 20\n"
     ]
    }
   ],
   "source": [
    "a, b = 10, 20\n",
    "print(a, b)"
   ]
  },
  {
   "cell_type": "code",
   "execution_count": 25,
   "metadata": {},
   "outputs": [
    {
     "name": "stdout",
     "output_type": "stream",
     "text": [
      "20 10\n"
     ]
    }
   ],
   "source": [
    "a, b = b, a\n",
    "print(a, b)"
   ]
  },
  {
   "cell_type": "code",
   "execution_count": 27,
   "metadata": {},
   "outputs": [
    {
     "name": "stdout",
     "output_type": "stream",
     "text": [
      "1 2 3\n",
      "[1, 2, 3]\n"
     ]
    }
   ],
   "source": [
    "t = [1, 2, 3]\n",
    "x, y, z = t\n",
    "print(x , y, z)   # , : 열거연산자\n",
    "print(t)"
   ]
  },
  {
   "cell_type": "code",
   "execution_count": 28,
   "metadata": {},
   "outputs": [
    {
     "name": "stdout",
     "output_type": "stream",
     "text": [
      "100\n"
     ]
    }
   ],
   "source": [
    "# 변수의 삭제 : del\n",
    "x = 100\n",
    "print(x)\n",
    "del(x)\n",
    "print(x)"
   ]
  },
  {
   "cell_type": "code",
   "execution_count": 30,
   "metadata": {},
   "outputs": [
    {
     "name": "stdout",
     "output_type": "stream",
     "text": [
      "오늘이 '파이썬' 수업의 첫 날입니다.\n"
     ]
    }
   ],
   "source": [
    "print(\"오늘이 '파이썬' 수업의 첫 날입니다.\")"
   ]
  },
  {
   "cell_type": "code",
   "execution_count": 31,
   "metadata": {},
   "outputs": [
    {
     "name": "stdout",
     "output_type": "stream",
     "text": [
      "파이썬은\n",
      "쉽고\n",
      "배우기 좋아요\n"
     ]
    }
   ],
   "source": [
    "# \\n (new line), \\t (tap key)\n",
    "print(\"파이썬은\")\n",
    "print(\"쉽고\")\n",
    "print(\"배우기 좋아요\")"
   ]
  },
  {
   "cell_type": "code",
   "execution_count": 33,
   "metadata": {},
   "outputs": [
    {
     "name": "stdout",
     "output_type": "stream",
     "text": [
      "파이썬은 쉽고 배우기 좋아요\n"
     ]
    }
   ],
   "source": [
    "print(\"파이썬은\",\"쉽고\",\"배우기 좋아요\")"
   ]
  },
  {
   "cell_type": "code",
   "execution_count": 32,
   "metadata": {},
   "outputs": [
    {
     "name": "stdout",
     "output_type": "stream",
     "text": [
      "파이썬은\n",
      "쉽고\n",
      "배우기 좋아요\n"
     ]
    }
   ],
   "source": [
    "print(\"파이썬은\\n쉽고\\n배우기 좋아요\")  #서식문자, escape문자"
   ]
  },
  {
   "cell_type": "code",
   "execution_count": 37,
   "metadata": {},
   "outputs": [
    {
     "name": "stdout",
     "output_type": "stream",
     "text": [
      "30\n",
      "I likepython\n"
     ]
    }
   ],
   "source": [
    "a = 10\n",
    "b = 20\n",
    "c = \"python\"\n",
    "d = 'I like'\n",
    "print(a+b)\n",
    "print(d+c)"
   ]
  },
  {
   "cell_type": "code",
   "execution_count": null,
   "metadata": {},
   "outputs": [],
   "source": []
  }
 ],
 "metadata": {
  "kernelspec": {
   "display_name": "Python 3",
   "language": "python",
   "name": "python3"
  },
  "language_info": {
   "codemirror_mode": {
    "name": "ipython",
    "version": 3
   },
   "file_extension": ".py",
   "mimetype": "text/x-python",
   "name": "python",
   "nbconvert_exporter": "python",
   "pygments_lexer": "ipython3",
   "version": "3.7.3"
  }
 },
 "nbformat": 4,
 "nbformat_minor": 2
}
