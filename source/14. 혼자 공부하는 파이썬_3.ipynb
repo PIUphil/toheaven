{
 "cells": [
  {
   "cell_type": "code",
   "execution_count": 6,
   "metadata": {},
   "outputs": [],
   "source": [
    "# 클래스 선언\n",
    "class A:  # 클래스명의 첫글자는 대문자로 작성하는 것을 권장한다.\n",
    "    # 멤버변수(필드, field) : 인스턴스 변수 or 클래스 변수 # 멤버 - 클래스 안에있다는 의미, =필드\n",
    "    ## 클래스변수(공통적으로 갖는 값)\n",
    "    name = \"홍길동\"\n",
    "    age = 20\n",
    "    \n",
    "    # 멤버메서드\n",
    "    def disp(self):\n",
    "        ## 인스턴스 변수(개별적으로 갖는 값)\n",
    "        self.message = \"hello\"\n",
    "        print(self.message)"
   ]
  },
  {
   "cell_type": "code",
   "execution_count": 9,
   "metadata": {},
   "outputs": [
    {
     "name": "stdout",
     "output_type": "stream",
     "text": [
      "홍길동\n",
      "20\n",
      "홍길동\n",
      "20\n",
      "홍길동\n",
      "20\n"
     ]
    }
   ],
   "source": [
    "# 클래스 변수는 클래스명으로 접근하는 변수\n",
    "a = A()  # 자동적으로 생성자메서드를 호출한다.  # 생략 되었을 때 -> 디폴트 생성자\n",
    "b = A()\n",
    "print(a.name)\n",
    "print(a.age)\n",
    "print(b.name)\n",
    "print(b.age)\n",
    "print(A.name)\n",
    "print(A.age)"
   ]
  },
  {
   "cell_type": "code",
   "execution_count": 16,
   "metadata": {},
   "outputs": [
    {
     "name": "stdout",
     "output_type": "stream",
     "text": [
      "hello\n",
      "hello\n"
     ]
    }
   ],
   "source": [
    "a.disp()\n",
    "#print(A.message)  # 인스턴스 변수는 클래스변수로 접근불가능,,? 인스턴스변수로 접근가능\n",
    "print(a.message)"
   ]
  },
  {
   "cell_type": "code",
   "execution_count": 39,
   "metadata": {},
   "outputs": [],
   "source": [
    "class Person:\n",
    "    # 클래스 변수\n",
    "    nation = \"한국\"\n",
    "    name = str()  # == \"\"\n",
    "    age = int()  # == 0\n",
    "    height = float()  # == 0.0\n",
    "    weight = float()  # == 0.0\n",
    "    \n",
    "    def display(self):  # 첫번째 매개변수가 self  / 시작주소를 가지고있음\n",
    "        print(\"국적 : \", self.nation)  # Person.nation\n",
    "        print(\"이름 : \", self.name)\n",
    "        print(\"나이 : \", self.age)\n",
    "        print(\"신장 : \", self.height)\n",
    "        print(\"체중 : \", self.weight)"
   ]
  },
  {
   "cell_type": "code",
   "execution_count": 40,
   "metadata": {},
   "outputs": [
    {
     "name": "stdout",
     "output_type": "stream",
     "text": [
      "['__class__', '__delattr__', '__dict__', '__dir__', '__doc__', '__eq__', '__format__', '__ge__', '__getattribute__', '__gt__', '__hash__', '__init__', '__init_subclass__', '__le__', '__lt__', '__module__', '__ne__', '__new__', '__reduce__', '__reduce_ex__', '__repr__', '__setattr__', '__sizeof__', '__str__', '__subclasshook__', '__weakref__', 'age', 'display', 'height', 'name', 'nation', 'weight']\n"
     ]
    }
   ],
   "source": [
    "# dir : 객체의 목록(변수 or 함수)을 확인하는 함수\n",
    "print(dir(Person))  # 클래스의 모든 멤버 확인\n",
    "\n",
    "# Object -> 최상위클래스 ==>>  '상속 받겠다'라고 안해도 자동적으로 상속받아짐\n",
    "\n",
    "# 정적(static)으로 선언이 되면, 클래스 안에선 접근가능하지만, 밖에선 접근불가능.\n",
    "# 클래스 안에서 메서드를 만듦->세터 , 값을 가져오는거 -> 게터\n",
    "\n",
    "# 이것들을 화면에 표시한다 =>> 오버라이딩"
   ]
  },
  {
   "cell_type": "code",
   "execution_count": 41,
   "metadata": {},
   "outputs": [
    {
     "name": "stdout",
     "output_type": "stream",
     "text": [
      "국적 :  한국\n",
      "이름 :  \n",
      "나이 :  0\n",
      "신장 :  0.0\n",
      "체중 :  0.0\n"
     ]
    }
   ],
   "source": [
    "p1 = Person()  # 모든 객체가 기본적으로 갖는 값을 클래스변수로 만들어놨음\n",
    "p1.display()"
   ]
  },
  {
   "cell_type": "code",
   "execution_count": 31,
   "metadata": {},
   "outputs": [
    {
     "name": "stdout",
     "output_type": "stream",
     "text": [
      "국적 :  한국\n",
      "이름 :  \n",
      "나이 :  0\n",
      "신장 :  0.0\n",
      "체중 :  0.0\n"
     ]
    }
   ],
   "source": [
    "p2 = Person() # 동일한 객체를 가져다 쓸 때 클래스변수 사용\n",
    "p2.display()  "
   ]
  },
  {
   "cell_type": "code",
   "execution_count": 42,
   "metadata": {},
   "outputs": [
    {
     "name": "stdout",
     "output_type": "stream",
     "text": [
      "국적 :  한국\n",
      "이름 :  김철수\n",
      "나이 :  20\n",
      "신장 :  170.5\n",
      "체중 :  7.3\n"
     ]
    }
   ],
   "source": [
    "p2 = Person() # 동일한 객체를 가져다 쓸 때 클래스변수 사용\n",
    "p2.name = \"김철수\"  # 인스턴스로 접근 -> 개별적인 값을 가짐 (p1에 영향을 안줌)\n",
    "p2.age = 20         # display()안에 self.age 라고 적혀있음.. 인스턴스 개별적으로 값을 받겠다는 의미\n",
    "p2.height = 170.5   # Person.age라고 적혀있었다면 공통적으로 값이 적용됨\n",
    "p2.weight = 7.3     # p2.age 말고 Person.age를 변경하면 클래스변수가 적용되어 공통적으로 바뀜\n",
    "p2.display() "
   ]
  },
  {
   "cell_type": "code",
   "execution_count": 46,
   "metadata": {},
   "outputs": [
    {
     "name": "stdout",
     "output_type": "stream",
     "text": [
      "함수1\n",
      "2351421302992\n",
      "인스턴스의 주소값 :  2351421302992\n",
      "함수2\n",
      "함수3\n"
     ]
    }
   ],
   "source": [
    "class B:\n",
    "    def func1(self):\n",
    "        print(\"함수1\")\n",
    "        \n",
    "    def func2(self):\n",
    "        print(\"인스턴스의 주소값 : \", id(self))\n",
    "        print(\"함수2\")\n",
    "    \n",
    "    def func3():  # self 안담으면 클래스메서드 -> 클래스명으로 접근해야함.\n",
    "        print(\"함수3\")\n",
    "        \n",
    "# Object(객체) - 설계도 도면, instance(객체) - 설계도로 만들어진 제품\n",
    "b = B()   # 인스턴스 객체 생성\n",
    "b.func1()\n",
    "print(id(b))  # b의 주소\n",
    "b.func2()  # b가 가리키는 주소와 self가 가리키는 주소가 같다\n",
    "\n",
    "#b.func3()  # self를 갖고있지 않으므로 에러발생 - 인스턴스로 접근불가\n",
    "B.func3()"
   ]
  },
  {
   "cell_type": "code",
   "execution_count": 53,
   "metadata": {},
   "outputs": [],
   "source": [
    "# 매개변수를 초기화, default parameter\n",
    "class Person2:\n",
    "    # 생성자 매개변수 : 인스턴스가 생성될 때 자동으로 호출  / 클래스변수와 유사한 의미\n",
    "    def __init__(self, name=None, age=None, height=None, weight=None):\n",
    "        self.name = name\n",
    "        self.age = age\n",
    "        self.height = height\n",
    "        self.weight = weight\n",
    "        \n",
    "    def display(self): \n",
    "        print(\"이름 : \", self.name)\n",
    "        print(\"나이 : \", self.age)\n",
    "        print(\"신장 : \", self.height)\n",
    "        print(\"체중 : \", self.weight)\n",
    "        \n",
    "    # 소멸자 메서드 : 인스턴스가 소멸될 때 자동으로 호출\n",
    "    def __del__(self):\n",
    "        print(\"소멸자 호출\")"
   ]
  },
  {
   "cell_type": "code",
   "execution_count": 52,
   "metadata": {},
   "outputs": [
    {
     "name": "stdout",
     "output_type": "stream",
     "text": [
      "이름 :  aaa\n",
      "나이 :  20\n",
      "신장 :  170.1\n",
      "체중 :  73.2\n",
      "이름 :  None\n",
      "나이 :  None\n",
      "신장 :  None\n",
      "체중 :  None\n"
     ]
    }
   ],
   "source": [
    "p2 = Person2('aaa', 20, 170.1, 73.2)\n",
    "p2.display()\n",
    "\n",
    "p3 = Person2()\n",
    "p3.display()"
   ]
  },
  {
   "cell_type": "code",
   "execution_count": 54,
   "metadata": {},
   "outputs": [
    {
     "name": "stdout",
     "output_type": "stream",
     "text": [
      "None\n"
     ]
    }
   ],
   "source": [
    "print(p3.name)  # 아직 메모리에 남아있어서,, 소멸자메소드가 실행되진 않음;;"
   ]
  },
  {
   "cell_type": "code",
   "execution_count": 56,
   "metadata": {},
   "outputs": [],
   "source": [
    "# dir 한 결과,,, 클래스멤버 각각의 하는 역할 찾아보기..."
   ]
  },
  {
   "cell_type": "code",
   "execution_count": null,
   "metadata": {},
   "outputs": [],
   "source": []
  }
 ],
 "metadata": {
  "kernelspec": {
   "display_name": "Python 3",
   "language": "python",
   "name": "python3"
  },
  "language_info": {
   "codemirror_mode": {
    "name": "ipython",
    "version": 3
   },
   "file_extension": ".py",
   "mimetype": "text/x-python",
   "name": "python",
   "nbconvert_exporter": "python",
   "pygments_lexer": "ipython3",
   "version": "3.7.3"
  }
 },
 "nbformat": 4,
 "nbformat_minor": 2
}
