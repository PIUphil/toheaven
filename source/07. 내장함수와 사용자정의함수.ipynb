{
 "cells": [
  {
   "cell_type": "code",
   "execution_count": 1,
   "metadata": {},
   "outputs": [
    {
     "data": {
      "text/plain": [
       "['In',\n",
       " 'Out',\n",
       " '_',\n",
       " '__',\n",
       " '___',\n",
       " '__builtin__',\n",
       " '__builtins__',\n",
       " '__doc__',\n",
       " '__loader__',\n",
       " '__name__',\n",
       " '__package__',\n",
       " '__spec__',\n",
       " '_dh',\n",
       " '_i',\n",
       " '_i1',\n",
       " '_ih',\n",
       " '_ii',\n",
       " '_iii',\n",
       " '_oh',\n",
       " 'exit',\n",
       " 'get_ipython',\n",
       " 'quit']"
      ]
     },
     "execution_count": 1,
     "metadata": {},
     "output_type": "execute_result"
    }
   ],
   "source": [
    "# 내장함수\n",
    "dir()  # 객체의 멤버 목록(변수나 함수)"
   ]
  },
  {
   "cell_type": "code",
   "execution_count": 2,
   "metadata": {},
   "outputs": [
    {
     "name": "stdout",
     "output_type": "stream",
     "text": [
      "['__add__', '__class__', '__contains__', '__delattr__', '__delitem__', '__dir__', '__doc__', '__eq__', '__format__', '__ge__', '__getattribute__', '__getitem__', '__gt__', '__hash__', '__iadd__', '__imul__', '__init__', '__init_subclass__', '__iter__', '__le__', '__len__', '__lt__', '__mul__', '__ne__', '__new__', '__reduce__', '__reduce_ex__', '__repr__', '__reversed__', '__rmul__', '__setattr__', '__setitem__', '__sizeof__', '__str__', '__subclasshook__', 'append', 'clear', 'copy', 'count', 'extend', 'index', 'insert', 'pop', 'remove', 'reverse', 'sort']\n"
     ]
    }
   ],
   "source": [
    "print(dir([1, 2, 3]))  # 리스트에서 사용할 수 있는것들\n",
    "# 객체가 가지고 있는 함수나 변수 보여줌  # 내장함수"
   ]
  },
  {
   "cell_type": "code",
   "execution_count": 3,
   "metadata": {},
   "outputs": [
    {
     "name": "stdout",
     "output_type": "stream",
     "text": [
      "몫 : 2, 나머지 : 1\n"
     ]
    }
   ],
   "source": [
    "a = 7\n",
    "b = 3\n",
    "c = a // b  # 정수몫\n",
    "d = a % b  # 나머지\n",
    "\n",
    "print(\"몫 : {0}, 나머지 : {1}\".format(c, d))"
   ]
  },
  {
   "cell_type": "code",
   "execution_count": 4,
   "metadata": {},
   "outputs": [
    {
     "name": "stdout",
     "output_type": "stream",
     "text": [
      "(2, 1)\n"
     ]
    }
   ],
   "source": [
    "print(divmod(7, 3))  # divmod = divided modulo 몫/나머지"
   ]
  },
  {
   "cell_type": "code",
   "execution_count": 5,
   "metadata": {},
   "outputs": [
    {
     "name": "stdout",
     "output_type": "stream",
     "text": [
      "(6.0, 0.09999999999999998)\n"
     ]
    }
   ],
   "source": [
    "print(divmod(1.3, 0.2))  # tuple형식"
   ]
  },
  {
   "cell_type": "code",
   "execution_count": 6,
   "metadata": {},
   "outputs": [
    {
     "name": "stdout",
     "output_type": "stream",
     "text": [
      "몫 : 2, 나머지 : 1\n"
     ]
    }
   ],
   "source": [
    "n1, n2 = divmod(7, 3)  # unpacking\n",
    "print(\"몫 : {0}, 나머지 : {1}\".format(n1, n2))"
   ]
  },
  {
   "cell_type": "code",
   "execution_count": 8,
   "metadata": {},
   "outputs": [
    {
     "name": "stdout",
     "output_type": "stream",
     "text": [
      "<enumerate object at 0x000002874F3955E8>\n",
      "[(0, 10), (1, 20), (2, 30), (3, 40), (4, 50)]\n"
     ]
    }
   ],
   "source": [
    "# 인덱스와 요소를 함께 출력하는 함수  # enumerate : 열거하다\n",
    "print(enumerate([10, 20, 30, 40, 50]))  # 객체 출력\n",
    "print(list(enumerate([10, 20, 30, 40, 50])))  # 리스트로 변환하여 출력"
   ]
  },
  {
   "cell_type": "code",
   "execution_count": 9,
   "metadata": {},
   "outputs": [
    {
     "name": "stdout",
     "output_type": "stream",
     "text": [
      "0 10\n",
      "1 20\n",
      "2 30\n",
      "3 40\n",
      "4 50\n"
     ]
    }
   ],
   "source": [
    "for i, num in enumerate([10, 20, 30, 40, 50]):\n",
    "    print(i, num)"
   ]
  },
  {
   "cell_type": "code",
   "execution_count": 10,
   "metadata": {},
   "outputs": [
    {
     "name": "stdout",
     "output_type": "stream",
     "text": [
      "divmod(10, 3)\n",
      "(3, 1)\n"
     ]
    }
   ],
   "source": [
    "# eval() : 문자열의 따옴표를 제거하고 실행하는 함수\n",
    "# int() : 정수형으로 형변환을 해주는 함수\n",
    "# float() : 실수형으로 형변환을 해주는 함수\n",
    "str = \"divmod(10, 3)\"\n",
    "print(str)\n",
    "print(eval(str))"
   ]
  },
  {
   "cell_type": "code",
   "execution_count": 11,
   "metadata": {},
   "outputs": [
    {
     "name": "stdout",
     "output_type": "stream",
     "text": [
      "0xea\n"
     ]
    }
   ],
   "source": [
    "# hex() : 10진수를 16진수로 변환해서 출력\n",
    "print(hex(234))   # 0x -> 16진수인 상수라는 의미"
   ]
  },
  {
   "cell_type": "code",
   "execution_count": 12,
   "metadata": {},
   "outputs": [
    {
     "name": "stdout",
     "output_type": "stream",
     "text": [
      "0x2f\n"
     ]
    }
   ],
   "source": [
    "print(hex(47)) "
   ]
  },
  {
   "cell_type": "code",
   "execution_count": 14,
   "metadata": {},
   "outputs": [
    {
     "name": "stdout",
     "output_type": "stream",
     "text": [
      "140728742089600 140728742089600\n",
      "140728742089600\n"
     ]
    }
   ],
   "source": [
    "# id(객체) : 객체의 주소를 리턴시켜주는 함수  # 식별값   \n",
    "a = 3   # id(3) : 3이라는 객체의 주소 = id(a) : a값의 주소\n",
    "print(id(3), id(a))\n",
    "\n",
    "b = a  # 얕은 복사\n",
    "print(id(b))"
   ]
  },
  {
   "cell_type": "code",
   "execution_count": 18,
   "metadata": {},
   "outputs": [
    {
     "name": "stdout",
     "output_type": "stream",
     "text": [
      "3\n",
      "<class 'int'>\n",
      "3\n",
      "15\n",
      "255\n"
     ]
    }
   ],
   "source": [
    "a = int(\"3\")\n",
    "print(a)\n",
    "print(type(a))  # 자료형을 확인하는 함수\n",
    "b = int(3.4)\n",
    "print(b)\n",
    "c =int(\"1111\", 2)  # 변환하는 진수 -> 10진수값(문자열)을 2진수로 변환\n",
    "print(c)\n",
    "d = int(\"FF\", 16)  # 문자열을 16진수로 변환\n",
    "print(d)"
   ]
  },
  {
   "cell_type": "code",
   "execution_count": 43,
   "metadata": {},
   "outputs": [
    {
     "name": "stdout",
     "output_type": "stream",
     "text": [
      "['사과', '포도', '배', '수박', '바나나']\n"
     ]
    }
   ],
   "source": [
    "# join()   # 구분자.join(객체)\n",
    "fruits = [\"사과\", \"포도\", \"배\", \"수박\", \"바나나\"]\n",
    "print(fruits)"
   ]
  },
  {
   "cell_type": "code",
   "execution_count": 44,
   "metadata": {},
   "outputs": [
    {
     "name": "stdout",
     "output_type": "stream",
     "text": [
      "사과,포도,배,수박,바나나,\n"
     ]
    }
   ],
   "source": [
    "res = \"\"  # 문자열\n",
    "\n",
    "for i in fruits:\n",
    "    res += i + \",\"  # res = res +\",\"\n",
    "print(res) \n",
    "# join() 이라는 함수에 내장되어있음"
   ]
  },
  {
   "cell_type": "code",
   "execution_count": 21,
   "metadata": {},
   "outputs": [
    {
     "name": "stdout",
     "output_type": "stream",
     "text": [
      "사과,포도,배,수박,바나나\n"
     ]
    }
   ],
   "source": [
    "print(\",\".join(fruits))  # 마지막에 쉼표(,)가 없음"
   ]
  },
  {
   "cell_type": "code",
   "execution_count": 22,
   "metadata": {},
   "outputs": [
    {
     "name": "stdout",
     "output_type": "stream",
     "text": [
      "사과/포도/배/수박/바나나\n",
      "사과-포도-배-수박-바나나\n",
      "사과\n",
      "포도\n",
      "배\n",
      "수박\n",
      "바나나\n"
     ]
    }
   ],
   "source": [
    "print(\"/\".join(fruits))\n",
    "print(\"-\".join(fruits))\n",
    "print(\"\\n\".join(fruits))"
   ]
  },
  {
   "cell_type": "code",
   "execution_count": 25,
   "metadata": {},
   "outputs": [
    {
     "name": "stdout",
     "output_type": "stream",
     "text": [
      "6\n",
      "3\n",
      "2\n"
     ]
    }
   ],
   "source": [
    "# len() : length,  요소의 개수(길이)\n",
    "a = len(\"python\")\n",
    "print(a)\n",
    "\n",
    "b = len([1, 2, 3])\n",
    "print(b)\n",
    "\n",
    "c = len((1, 'a'))  # tuple 자료형\n",
    "print(c)"
   ]
  },
  {
   "cell_type": "code",
   "execution_count": 28,
   "metadata": {},
   "outputs": [
    {
     "name": "stdout",
     "output_type": "stream",
     "text": [
      "['p', 'y', 't', 'h', 'o', 'n']\n"
     ]
    }
   ],
   "source": [
    "# 문자열을 리스트로 변환하는 함수, list(), tuple(), set()  \n",
    "# 딕셔너리는 없음 -> 기존자료와 다른 형태 - 인덱스가 없음.\n",
    "a = list(\"python\")\n",
    "print(a)"
   ]
  },
  {
   "cell_type": "code",
   "execution_count": 29,
   "metadata": {},
   "outputs": [
    {
     "name": "stdout",
     "output_type": "stream",
     "text": [
      "[1, 2, 3]\n"
     ]
    }
   ],
   "source": [
    "b = list((1, 2, 3))\n",
    "print(b)"
   ]
  },
  {
   "cell_type": "code",
   "execution_count": 30,
   "metadata": {},
   "outputs": [
    {
     "name": "stdout",
     "output_type": "stream",
     "text": [
      "[1, 2, 3]\n",
      "<class 'list'>\n"
     ]
    }
   ],
   "source": [
    "# 사용자 정의 함수\n",
    "a = [1, 2, 3]\n",
    "print(a)\n",
    "print(type(a))\n",
    "\n",
    "print(2 * a)"
   ]
  },
  {
   "cell_type": "code",
   "execution_count": 32,
   "metadata": {},
   "outputs": [
    {
     "name": "stdout",
     "output_type": "stream",
     "text": [
      "[2, 4, 6, 8]\n"
     ]
    }
   ],
   "source": [
    "def calc(x):  # 사용자정의함수 : 사용자가 필요에의해 만들어 쓰는 함수\n",
    "    return 2 * x\n",
    "\n",
    "a = [calc(1), calc(2), calc(3), calc(4)]\n",
    "print(a)"
   ]
  },
  {
   "cell_type": "code",
   "execution_count": 33,
   "metadata": {},
   "outputs": [
    {
     "name": "stdout",
     "output_type": "stream",
     "text": [
      "[1, 2, 3, 4, 5]\n"
     ]
    }
   ],
   "source": [
    "def plus(x):\n",
    "    return 1+x\n",
    "\n",
    "print([plus(0), plus(1), plus(2), plus(3), plus(4)])"
   ]
  },
  {
   "cell_type": "code",
   "execution_count": 36,
   "metadata": {},
   "outputs": [
    {
     "name": "stdout",
     "output_type": "stream",
     "text": [
      "[1, 2, 3, 4, 5]\n"
     ]
    }
   ],
   "source": [
    "# map(함수이름, 리스트객체)  / 내장함수\n",
    "print(list(map(plus, [0, 1, 2, 3, 4])))  \n",
    "      # map함수를 만들어내는 plus\n",
    "      # 각각의 요소(리스트값)이 plus에 적용되도록 함\n",
    "      # 리스트형태로 바꾸고, 출력"
   ]
  },
  {
   "cell_type": "code",
   "execution_count": 38,
   "metadata": {},
   "outputs": [
    {
     "name": "stdout",
     "output_type": "stream",
     "text": [
      "3\n",
      "y\n"
     ]
    }
   ],
   "source": [
    "# max(), min()  # 숫자의 최대,최솟값 / 문자는 아스키코드중 가장 큰,작은값\n",
    "a = max([1, 2, 3])\n",
    "print(a)\n",
    "b = max(\"python\")\n",
    "print(b)"
   ]
  },
  {
   "cell_type": "code",
   "execution_count": 45,
   "metadata": {},
   "outputs": [
    {
     "name": "stdout",
     "output_type": "stream",
     "text": [
      "16\n",
      "16\n"
     ]
    }
   ],
   "source": [
    "a = pow(2, 4)  # pow(x, y) : x의 y 거듭제곱 (== x**y)\n",
    "print(a)\n",
    "print(2 ** 4)"
   ]
  },
  {
   "cell_type": "code",
   "execution_count": 50,
   "metadata": {},
   "outputs": [
    {
     "name": "stdout",
     "output_type": "stream",
     "text": [
      "[0, 1, 2, 3, 4]\n",
      "[5, 6, 7, 8, 9]\n",
      "[1, 3, 5, 7, 9]\n",
      "[0, -1, -2, -3, -4, -5, -6, -7, -8, -9]\n"
     ]
    }
   ],
   "source": [
    "a = list(range(5))  # 0 ~ 4 \n",
    "print(a)\n",
    "\n",
    "b = list(range(5, 10))  # 5 ~ 9\n",
    "print(b)\n",
    "\n",
    "c = list(range(1, 10, 2))  # 1 ~ 9 , 2씩 증가\n",
    "print(c)\n",
    "\n",
    "d = list(range(0, -10, -1))  # 0 ~ -9  1씩 감소\n",
    "print(d)"
   ]
  },
  {
   "cell_type": "code",
   "execution_count": 51,
   "metadata": {},
   "outputs": [
    {
     "name": "stdout",
     "output_type": "stream",
     "text": [
      "[1, 2, 3]\n",
      "[3, 1, 2]\n"
     ]
    }
   ],
   "source": [
    "items = [3, 1, 2]  \n",
    "a = sorted(items)  # 정렬 후 결괏값을 리턴(원본은 그대로) #sort는 원본바뀜\n",
    "print(a)               # sorted는 리턴값이 존재함\n",
    "print(items)"
   ]
  },
  {
   "cell_type": "code",
   "execution_count": 53,
   "metadata": {},
   "outputs": [
    {
     "name": "stdout",
     "output_type": "stream",
     "text": [
      "None\n",
      "[1, 2, 3]\n"
     ]
    }
   ],
   "source": [
    "items = [3, 1, 2]\n",
    "a = items.sort()  # 원본이 정렬되고, 리턴값이 없다.\n",
    "print(a)  # 없음 None - 리턴 안해서,,,\n",
    "print(items)"
   ]
  }
 ],
 "metadata": {
  "kernelspec": {
   "display_name": "Python 3",
   "language": "python",
   "name": "python3"
  },
  "language_info": {
   "codemirror_mode": {
    "name": "ipython",
    "version": 3
   },
   "file_extension": ".py",
   "mimetype": "text/x-python",
   "name": "python",
   "nbconvert_exporter": "python",
   "pygments_lexer": "ipython3",
   "version": "3.7.3"
  }
 },
 "nbformat": 4,
 "nbformat_minor": 2
}
