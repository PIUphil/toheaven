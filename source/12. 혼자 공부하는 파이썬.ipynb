{
 "cells": [
  {
   "cell_type": "markdown",
   "metadata": {},
   "source": [
    "#### 0. 표현식 ( v = c )  # variable(변수) , constance(변수,상수,함수 등)\n",
    "- 생성규칙 : 명명법(변수명, 함수명, 클래스명, 모듈......)"
   ]
  },
  {
   "cell_type": "code",
   "execution_count": 4,
   "metadata": {},
   "outputs": [
    {
     "name": "stdout",
     "output_type": "stream",
     "text": [
      "['False', 'None', 'True', 'and', 'as', 'assert', 'async', 'await', 'break', 'class', 'continue', 'def', 'del', 'elif', 'else', 'except', 'finally', 'for', 'from', 'global', 'if', 'import', 'in', 'is', 'lambda', 'nonlocal', 'not', 'or', 'pass', 'raise', 'return', 'try', 'while', 'with', 'yield']\n",
      "35\n"
     ]
    }
   ],
   "source": [
    "import keyword\n",
    "# 모듈명.함수 or 모듈명.변수\n",
    "print(keyword.kwlist)\n",
    "print(len(keyword.kwlist))"
   ]
  },
  {
   "cell_type": "code",
   "execution_count": 5,
   "metadata": {},
   "outputs": [
    {
     "data": {
      "text/plain": [
       "True"
      ]
     },
     "execution_count": 5,
     "metadata": {},
     "output_type": "execute_result"
    }
   ],
   "source": [
    "10 > 6 or 4 == 4"
   ]
  },
  {
   "cell_type": "code",
   "execution_count": 7,
   "metadata": {},
   "outputs": [],
   "source": [
    "# printf, \"\\n\"  <- C언어\n",
    "# print, printf, println  <- Java\n",
    "#                       ==  print  <- 파이썬\n",
    "# end = end of line (출력물의 끝) - 줄바꿈 해제 가능"
   ]
  },
  {
   "cell_type": "code",
   "execution_count": 10,
   "metadata": {},
   "outputs": [
    {
     "name": "stdout",
     "output_type": "stream",
     "text": [
      "3\n",
      "123456789\n",
      "123456789123456789123456789123456789123456789123456789123456789\n"
     ]
    }
   ],
   "source": [
    "# 정수 : 양의 정수, 0, 음의 정수\n",
    "a = 3\n",
    "b = 123456789\n",
    "c = 123456789123456789123456789123456789123456789123456789123456789\n",
    "print(a)\n",
    "print(b)\n",
    "print(c)"
   ]
  },
  {
   "cell_type": "code",
   "execution_count": 11,
   "metadata": {},
   "outputs": [
    {
     "name": "stdout",
     "output_type": "stream",
     "text": [
      "-3\n",
      "-123456789\n",
      "-123456789123456789123456789123456789123456789123456789123456789\n"
     ]
    }
   ],
   "source": [
    "a = -3\n",
    "b = -123456789\n",
    "c = -123456789123456789123456789123456789123456789123456789123456789\n",
    "print(a)\n",
    "print(b)\n",
    "print(c)"
   ]
  },
  {
   "cell_type": "code",
   "execution_count": 12,
   "metadata": {},
   "outputs": [
    {
     "data": {
      "text/plain": [
       "int"
      ]
     },
     "execution_count": 12,
     "metadata": {},
     "output_type": "execute_result"
    }
   ],
   "source": [
    "# 자료형 확인 : type\n",
    "f = -3\n",
    "type(f)"
   ]
  },
  {
   "cell_type": "code",
   "execution_count": 16,
   "metadata": {},
   "outputs": [],
   "source": [
    "# [] 조건식, start : end-1 (슬라이싱), [:]  전체\n",
    "# 얕은복사 깊은복사 "
   ]
  },
  {
   "cell_type": "code",
   "execution_count": 22,
   "metadata": {},
   "outputs": [],
   "source": [
    "# 배정대입연산자\n",
    "a = 10\n",
    "a = a + 1  # a += 1  # 증감연산자 a++, ++a는 파이썬에서 사용불가\n",
    "a = a - 2  # a -= 2\n",
    "a = a * 3  # a *=3\n",
    "a = a / 5  # a /= 5"
   ]
  },
  {
   "cell_type": "code",
   "execution_count": 23,
   "metadata": {},
   "outputs": [],
   "source": [
    "# eval()"
   ]
  },
  {
   "cell_type": "code",
   "execution_count": 25,
   "metadata": {},
   "outputs": [
    {
     "name": "stdout",
     "output_type": "stream",
     "text": [
      "첫번째 수 = 10\n",
      "두번째 수 = 2\n",
      "10 + 2 = 12\n",
      "10 - 2 = 8\n",
      "10 * 2 = 20\n",
      "10 / 2 = 5.0\n"
     ]
    }
   ],
   "source": [
    "# 계산기 프로그램\n",
    "# 두 개의 정수를 입력받아 사칙연산을 수행한 후 결과를 출력하는\n",
    "# 프로그램을 구현하시오.\n",
    "# 출력형식\n",
    "# 첫번째 수 = \n",
    "# 두번째 수 = \n",
    "\n",
    "first = int(input(\"첫번째 수 = \"))\n",
    "second = int(input(\"두번째 수 = \"))\n",
    "\n",
    "add = first + second\n",
    "sub = first - second\n",
    "mul = first * second\n",
    "div = first / second  # //(정수몫), %(나머지)\n",
    "\n",
    "print(\"{0} + {1} = {2}\".format(first, second, add))\n",
    "print(\"{0} - {1} = {2}\".format(first, second, sub))\n",
    "print(\"{0} * {1} = {2}\".format(first, second, mul))\n",
    "print(\"{0} / {1} = {2}\".format(first, second, div))"
   ]
  },
  {
   "cell_type": "code",
   "execution_count": 29,
   "metadata": {},
   "outputs": [
    {
     "name": "stdout",
     "output_type": "stream",
     "text": [
      "첫번째 수 = 10\n",
      "연산자(+, -, *, /) =+\n",
      "두번째 수 = 20\n",
      "10 + 20 = 30\n",
      "프로그램을 종료합니다.\n"
     ]
    }
   ],
   "source": [
    "# 첫번째 수 =\n",
    "# 연산잔 (+, -, *, /) =\n",
    "# 두번째 수 =\n",
    "\n",
    "first = int(input(\"첫번째 수 = \"))\n",
    "opper = input(\"연산자(+, -, *, /) =\")\n",
    "second = int(input(\"두번째 수 = \"))\n",
    "\n",
    "if opper == \"+\":\n",
    "    add = first + second\n",
    "    print(\"{0} + {1} = {2}\".format(first, second, add))\n",
    "elif opper == \"-\":\n",
    "    sub = first - second\n",
    "    print(\"{0} - {1} = {2}\".format(first, second, sub))\n",
    "elif opper == \"*\":\n",
    "    mul = first * second\n",
    "    print(\"{0} * {1} = {2}\".format(first, second, mul))\n",
    "elif opper == \"/\":\n",
    "    div = first / second \n",
    "    print(\"{0} / {1} = {2}\".format(first, second, div))\n",
    "else:\n",
    "    print(\"올바른 연산자가 아닙니다.\")\n",
    "    \n",
    "print(\"프로그램을 종료합니다.\")"
   ]
  },
  {
   "cell_type": "code",
   "execution_count": 32,
   "metadata": {},
   "outputs": [],
   "source": [
    "# 함수 선언과 정의\n",
    "def adder(a, b):\n",
    "    return a + b\n",
    "def substr(a, b):\n",
    "    return a - b\n",
    "def multi(a, b):\n",
    "    return a * b\n",
    "def divide(a, b):\n",
    "    return a / b"
   ]
  },
  {
   "cell_type": "code",
   "execution_count": 33,
   "metadata": {},
   "outputs": [
    {
     "name": "stdout",
     "output_type": "stream",
     "text": [
      "첫번째 수 = 10\n",
      "연산자(+, -, *, /) =-\n",
      "두번째 수 = 2\n",
      "10 - 2 = 8\n",
      "프로그램을 종료합니다.\n"
     ]
    }
   ],
   "source": [
    "# 첫번째 수 =\n",
    "# 연산잔 (+, -, *, /) =\n",
    "# 두번째 수 =\n",
    "\n",
    "first = int(input(\"첫번째 수 = \"))\n",
    "opper = input(\"연산자(+, -, *, /) = \")\n",
    "second = int(input(\"두번째 수 = \"))\n",
    "\n",
    "if opper == \"+\":\n",
    "    result = adder(first, second)\n",
    "elif opper == \"-\":\n",
    "    result = substr(first, second)\n",
    "elif opper == \"*\":\n",
    "    result = multi(first, second)\n",
    "elif opper == \"/\":\n",
    "    result = divide(first, second)\n",
    "else:\n",
    "    print(\"올바른 연산자가 아닙니다.\")\n",
    "    result = \"error\"\n",
    "    \n",
    "print(\"{0} {1} {2} = {3}\".format(first, opper, second, result))\n",
    "print(\"프로그램을 종료합니다.\")"
   ]
  },
  {
   "cell_type": "code",
   "execution_count": 34,
   "metadata": {},
   "outputs": [],
   "source": [
    "class Calculator:\n",
    "    # 프로퍼티 or 멤버필드 or 멤버변수\n",
    "    \n",
    "    # 멤버메서드 or 멤버함수\n",
    "    def init(self, a, b):\n",
    "        self.a = a\n",
    "        self.b = b\n",
    "\n",
    "    def adder(self):\n",
    "        return self.a + self.b\n",
    "   \n",
    "    def substr(self):\n",
    "        return self.a - self.b\n",
    "    \n",
    "    def multi(self):\n",
    "        return self.a * self.b\n",
    "    \n",
    "    def divide(self):\n",
    "        return self.a / self.b"
   ]
  },
  {
   "cell_type": "code",
   "execution_count": 39,
   "metadata": {},
   "outputs": [
    {
     "name": "stdout",
     "output_type": "stream",
     "text": [
      "첫번째 수 = 10\n",
      "연산자(+, -, *, /) = +\n",
      "두번째 수 = 5\n",
      "10 + 5 = 15\n",
      "프로그램을 종료합니다.\n"
     ]
    }
   ],
   "source": [
    "first = int(input(\"첫번째 수 = \"))\n",
    "opper = input(\"연산자(+, -, *, /) = \")\n",
    "second = int(input(\"두번째 수 = \"))\n",
    "\n",
    "# Calculator 클래스의 인스턴스 객체를 생성\n",
    "cal = Calculator()\n",
    "cal.init(first, second)\n",
    "\n",
    "if opper == \"+\":\n",
    "    result = cal.adder()\n",
    "elif opper == \"-\":\n",
    "    result = cal.substr()\n",
    "elif opper == \"*\":\n",
    "    result = cal.multi()\n",
    "elif opper == \"/\":\n",
    "    result = cal.divide()\n",
    "else:\n",
    "    print(\"올바른 연산자가 아닙니다.\")\n",
    "    result = \"error\"\n",
    "    \n",
    "print(\"{0} {1} {2} = {3}\".format(first, opper, second, result))\n",
    "print(\"프로그램을 종료합니다.\")"
   ]
  },
  {
   "cell_type": "code",
   "execution_count": 3,
   "metadata": {},
   "outputs": [],
   "source": [
    "class Calculator:\n",
    "    # 프로퍼티 or 멤버필드 or 멤버변수\n",
    "\n",
    "    # 멤버메서드 or 멤버함수\n",
    "    def init(self):\n",
    "        self.a = int(input(\"첫번째 수 = \"))\n",
    "        self.op = input(\"연산자(+, -, *, /) = \")\n",
    "        self.b = int(input(\"두번째 수 = \"))\n",
    "        self.compute()  # 클래스 내부에서 자신의 메서드 호출시\n",
    "                        # 매개변수(괄호안)의 self는 생략\n",
    "                        # 지정예약어(점 앞에) self로 써야함, 접근자\n",
    "        \n",
    "    def compute(self):\n",
    "        if self.op == \"+\":\n",
    "            self.result = self.adder()\n",
    "        elif self.op == \"-\":\n",
    "            self.result = self.substr()\n",
    "        elif self.op == \"*\":\n",
    "            self.result = self.multi()\n",
    "        elif self.op == \"/\":\n",
    "            self.result = self.divide()\n",
    "        else:\n",
    "            print(\"올바른 연산자가 아닙니다.\")\n",
    "            self.result = \"error\" \n",
    "        \n",
    "        \n",
    "    def adder(self):\n",
    "        return self.a + self.b\n",
    "   \n",
    "    def substr(self):\n",
    "        return self.a - self.b\n",
    "    \n",
    "    def multi(self):\n",
    "        return self.a * self.b\n",
    "    \n",
    "    def divide(self):\n",
    "        return self.a / self.b\n",
    "\n",
    "   \n",
    "    \n",
    "    def disp(self):\n",
    "        print(\"{0} {1} {2} = {3}\".format(self.a, self.op, self.b, self.result))"
   ]
  },
  {
   "cell_type": "code",
   "execution_count": 4,
   "metadata": {},
   "outputs": [
    {
     "name": "stdout",
     "output_type": "stream",
     "text": [
      "첫번째 수 = 10\n",
      "연산자(+, -, *, /) = -\n",
      "두번째 수 = 2\n",
      "10 - 2 = 8\n",
      "프로그램을 종료합니다.\n"
     ]
    }
   ],
   "source": [
    "# first = int(input(\"첫번째 수 = \"))\n",
    "# opper = input(\"연산자(+, -, *, /) = \")\n",
    "# second = int(input(\"두번째 수 = \"))\n",
    "\n",
    "# Calculator 클래스의 인스턴스 객체를 생성\n",
    "cal = Calculator()\n",
    "cal.init()\n",
    "#cal.compute()  # init 안에 compute를 담음\n",
    "cal.disp()\n",
    "\n",
    "# if opper == \"+\":\n",
    "#     result = cal.adder()\n",
    "# elif opper == \"-\":\n",
    "#     result = cal.substr()\n",
    "# elif opper == \"*\":\n",
    "#     result = cal.multi()\n",
    "# elif opper == \"/\":\n",
    "#     result = cal.divide()\n",
    "# else:\n",
    "#     print(\"올바른 연산자가 아닙니다.\")\n",
    "#     result = \"error\"\n",
    "    \n",
    "# print(\"{0} {1} {2} = {3}\".format(first, opper, second, result))    \n",
    "\n",
    "print(\"프로그램을 종료합니다.\")"
   ]
  },
  {
   "cell_type": "code",
   "execution_count": 5,
   "metadata": {},
   "outputs": [
    {
     "name": "stdout",
     "output_type": "stream",
     "text": [
      "첫번째 수 = 10\n",
      "연산자(+, -, *, /) = +\n",
      "두번째 수 = 3\n",
      "10 + 3 = 13\n"
     ]
    }
   ],
   "source": [
    "cal = Calculator()  # 객체(instance)를 생성\n",
    "cal.init()\n",
    "cal.disp()"
   ]
  },
  {
   "cell_type": "code",
   "execution_count": 7,
   "metadata": {},
   "outputs": [],
   "source": [
    "class Calculator:\n",
    "    # 프로퍼티 or 멤버필드 or 멤버변수\n",
    "\n",
    "    # 생성자(Constructor) 메서드 : 객체가 생성시 자동호출\n",
    "    def __init__(self):\n",
    "        self.a = int(input(\"첫번째 수 = \"))\n",
    "        self.op = input(\"연산자(+, -, *, /) = \")\n",
    "        self.b = int(input(\"두번째 수 = \"))\n",
    "        self.compute() \n",
    "        \n",
    "    def compute(self):\n",
    "        if self.op == \"+\":\n",
    "            self.result = self.adder()\n",
    "        elif self.op == \"-\":\n",
    "            self.result = self.substr()\n",
    "        elif self.op == \"*\":\n",
    "            self.result = self.multi()\n",
    "        elif self.op == \"/\":\n",
    "            self.result = self.divide()\n",
    "        else:\n",
    "            print(\"올바른 연산자가 아닙니다.\")\n",
    "            self.result = \"error\" \n",
    "        \n",
    "    def adder(self):\n",
    "        return self.a + self.b   \n",
    "    def substr(self):\n",
    "        return self.a - self.b    \n",
    "    def multi(self):\n",
    "        return self.a * self.b    \n",
    "    def divide(self):\n",
    "        return self.a / self.b\n",
    "\n",
    "    def disp(self):\n",
    "        print(\"{0} {1} {2} = {3}\".format(self.a, self.op, self.b, self.result))"
   ]
  },
  {
   "cell_type": "code",
   "execution_count": 8,
   "metadata": {},
   "outputs": [
    {
     "name": "stdout",
     "output_type": "stream",
     "text": [
      "첫번째 수 = 10\n",
      "연산자(+, -, *, /) = -\n",
      "두번째 수 = 5\n",
      "10 - 5 = 5\n"
     ]
    }
   ],
   "source": [
    "cal = Calculator()\n",
    "cal.disp()"
   ]
  },
  {
   "cell_type": "code",
   "execution_count": 19,
   "metadata": {},
   "outputs": [
    {
     "name": "stdout",
     "output_type": "stream",
     "text": [
      "12.35\n",
      "<class 'str'>\n"
     ]
    }
   ],
   "source": [
    "a = \"{0:.2f}\".format(12.3456)  # 인덱스값을 생략하면 순서대로 나옴\n",
    "print(a)  # 반올림\n",
    "print(type(a))"
   ]
  },
  {
   "cell_type": "code",
   "execution_count": 20,
   "metadata": {},
   "outputs": [],
   "source": [
    "# trim  < 다른언어에서,, 공백제거\n",
    "# == strip < python"
   ]
  },
  {
   "cell_type": "code",
   "execution_count": null,
   "metadata": {},
   "outputs": [],
   "source": [
    "# is : ~이다 , True or False\n",
    "# isalnum()"
   ]
  },
  {
   "cell_type": "code",
   "execution_count": 28,
   "metadata": {},
   "outputs": [
    {
     "name": "stdout",
     "output_type": "stream",
     "text": [
      "['10', '20', '30', '40', '50']\n"
     ]
    }
   ],
   "source": [
    "a = \"10 20 30 40 50\".split(\" \")\n",
    "print(a)"
   ]
  },
  {
   "cell_type": "code",
   "execution_count": 30,
   "metadata": {},
   "outputs": [
    {
     "name": "stdout",
     "output_type": "stream",
     "text": [
      "수1 = 20\n",
      "수2 = 30\n",
      "큰 수 = 30\n"
     ]
    }
   ],
   "source": [
    "# 두 개의 정수를 입력받아 큰 수를 출력하는 프로그램을 구현하시오.\n",
    "\n",
    "num1 = int(input(\"수1 = \"))\n",
    "num2 = int(input(\"수2 = \"))\n",
    "\n",
    "if num1 > num2:\n",
    "    # 조건식이 참일 때\n",
    "    max = num1\n",
    "else: # 조건식이 거짓일 때\n",
    "    max = num2\n",
    "    \n",
    "print(\"큰 수 = {}\".format(max))"
   ]
  },
  {
   "cell_type": "code",
   "execution_count": 32,
   "metadata": {},
   "outputs": [
    {
     "name": "stdout",
     "output_type": "stream",
     "text": [
      "수1 = 1\n",
      "수2 = 1\n",
      "큰 수 = 1\n"
     ]
    }
   ],
   "source": [
    "# 입력받은 두 수 중 큰 수를 리턴시켜주는 함수\n",
    "def large(a, b):\n",
    "    if a > b:\n",
    "        return a\n",
    "    else:\n",
    "        return b\n",
    "    \n",
    "num1 = int(input(\"수1 = \"))\n",
    "num2 = int(input(\"수2 = \"))\n",
    "\n",
    "print(\"큰 수 = {}\".format(large(num1, num2)))"
   ]
  },
  {
   "cell_type": "code",
   "execution_count": 35,
   "metadata": {},
   "outputs": [
    {
     "name": "stdout",
     "output_type": "stream",
     "text": [
      "수1 = 10\n",
      "수2 = 5\n",
      "수3 = 25\n",
      "큰 수 = 25\n"
     ]
    }
   ],
   "source": [
    "# 세 개의 수를 입력받아 큰 수를 출력하는 프로그램을 구현하시오.\n",
    "# 입력받은 두 수 중 큰 수를 리턴시켜주는 함수\n",
    "    \n",
    "num1 = int(input(\"수1 = \"))\n",
    "num2 = int(input(\"수2 = \"))\n",
    "num3 = int(input(\"수3 = \"))\n",
    "\n",
    "# 비교연산자(관계연산자) : >, >=, <, <=, ==, !=\n",
    "# 논리연산자 : and, or, not\n",
    "if num1 > num2 and num1 > num3:\n",
    "    max = num1\n",
    "elif num2 > num1 and num2 > num3:\n",
    "    max = num2\n",
    "else:\n",
    "    max = num3\n",
    "\n",
    "print(\"큰 수 = {}\".format(max))"
   ]
  },
  {
   "cell_type": "code",
   "execution_count": null,
   "metadata": {},
   "outputs": [],
   "source": [
    "# 성적프로그램 1단계\n",
    "# 국어, 영어, 수학점수를 입력받아 총점과 평균을 계산한 후 출력하는 \n",
    "# 프로그램\n",
    "\n",
    "kor = int(input(\"국어점수 = \"))\n",
    "eng = int(input(\"영어점수 = \"))\n",
    "math = int(input(\"수학점수 = \"))\n",
    "        \n",
    "tot = kor + eng + math\n",
    "avg = tot / 3\n",
    "    \n",
    "print(\"총점 = {}, 평균 = {:.2f}\".format(tot, avg))"
   ]
  },
  {
   "cell_type": "code",
   "execution_count": 1,
   "metadata": {},
   "outputs": [
    {
     "name": "stdout",
     "output_type": "stream",
     "text": [
      "국어점수 = 80\n",
      "영어점수 = 90\n",
      "수학점수 = 88\n",
      "총점 = 258, 평균 = 86.00, 학점 = B\n"
     ]
    }
   ],
   "source": [
    "# 성적프로그램 2단계\n",
    "# 평균을 이용하여 학점을 계산하여 출력하는 프로그램을 구현하시오.\n",
    "# 학점은 'A', 'B','C','D','F'로 표현한다.\n",
    "# 평균이 90점 이상이면 'A', 80점 이상이면 'B', 70점 이상이면 'C',\n",
    "# 60점 이상이면 'D', 그 외 'F'로 처리할 것\n",
    "\n",
    "kor = int(input(\"국어점수 = \"))\n",
    "eng = int(input(\"영어점수 = \"))\n",
    "math = int(input(\"수학점수 = \"))\n",
    "        \n",
    "tot = kor + eng + math\n",
    "avg = tot / 3\n",
    "grade = \"\"\n",
    "    \n",
    "if avg >= 90: \n",
    "    grade = 'A'\n",
    "elif avg >= 80:\n",
    "    grade = 'B'\n",
    "elif avg >= 70:\n",
    "    grade = 'C'\n",
    "elif avg >= 60:\n",
    "    grade = 'D'\n",
    "else: \n",
    "    grade = 'F'\n",
    "    \n",
    "print(\"총점 = {}, 평균 = {:.2f}, 학점 = {}\".format(tot, avg, grade))"
   ]
  },
  {
   "cell_type": "code",
   "execution_count": 10,
   "metadata": {},
   "outputs": [
    {
     "name": "stdout",
     "output_type": "stream",
     "text": [
      "1 2 3 4 5 6 7 8 9 10 \n",
      "1 2 3 4 5 6 7 8 9 10 "
     ]
    }
   ],
   "source": [
    "# 반복문 : 동일하거나 유사한 문장(규칙을 가지고 있는 문장)\n",
    "# while 논리조건식:\n",
    "# 무한 Loop >>  while True:\n",
    "# while : 사용자의 행위에 의해 반복을 제어할 때 사용하는 문장\n",
    "# for : 횟수를 제어할 때 사용하는 반복문\n",
    "\n",
    "# 1부터 10까지의 자연수를 출력하는 프로그램\n",
    "\n",
    "i = 1\n",
    "while i <= 10:\n",
    "    print(i, end=\" \")\n",
    "    i += 1  # i = i + 1 배정대입연산자\n",
    "\n",
    "print()        \n",
    "\n",
    "for i in range(1,11):\n",
    "    print(i, end=\" \")"
   ]
  },
  {
   "cell_type": "code",
   "execution_count": 12,
   "metadata": {},
   "outputs": [
    {
     "name": "stdout",
     "output_type": "stream",
     "text": [
      "1 2 3 4 5 6 7 8 9 10 "
     ]
    }
   ],
   "source": [
    "# 기타제어문 : break, continue\n",
    "i = 1\n",
    "while True:\n",
    "    # if i > 10: break  # 무한루프 벗어나기위해 기타제어문이 필요함\n",
    "    print(i, end=\" \")\n",
    "    # if i == 10: break  #제어문의 위치는 상관없지만 조건을 잘 살펴봐야함\n",
    "    i += 1\n",
    "    if i > 10: break"
   ]
  },
  {
   "cell_type": "code",
   "execution_count": 13,
   "metadata": {},
   "outputs": [
    {
     "name": "stdout",
     "output_type": "stream",
     "text": [
      "비밀번호 = 몰라\n",
      "비밀번호 = 1234\n",
      "비밀번호 = python\n"
     ]
    }
   ],
   "source": [
    "# 비밀번호가 일치하면 프로그램을 종료하도록 구현하시오.\n",
    "password = \"python\"\n",
    "\n",
    "while True:\n",
    "    word = input(\"비밀번호 = \")\n",
    "    if password == word: break\n",
    "    print(word)"
   ]
  },
  {
   "cell_type": "code",
   "execution_count": 15,
   "metadata": {},
   "outputs": [
    {
     "name": "stdout",
     "output_type": "stream",
     "text": [
      "JAVA\n",
      "C\n",
      "ORACLE\n",
      "R\n",
      "PYTHON\n"
     ]
    }
   ],
   "source": [
    "# for 개별변수 in 집합변수(튜플, 리스트, 딕셔너리, 세트, 문자열):\n",
    "for word in ['JAVA', 'C', 'ORACLE', 'R', 'PYTHON']:\n",
    "    print(word)"
   ]
  },
  {
   "cell_type": "code",
   "execution_count": 19,
   "metadata": {},
   "outputs": [
    {
     "name": "stdout",
     "output_type": "stream",
     "text": [
      "JAVA\n",
      "C\n",
      "ORACLE\n",
      "R\n",
      "PYTHON\n"
     ]
    }
   ],
   "source": [
    "subject = ['JAVA', 'C', 'ORACLE', 'R', 'PYTHON']\n",
    "for word in subject:\n",
    "    print(word)"
   ]
  },
  {
   "cell_type": "code",
   "execution_count": 25,
   "metadata": {},
   "outputs": [
    {
     "name": "stdout",
     "output_type": "stream",
     "text": [
      "1 2\n",
      "3 4\n",
      "5 6\n"
     ]
    }
   ],
   "source": [
    "# 리스트의 요소로 튜플을 가지고 있을 때\n",
    "a = [(1, 2), (3, 4), (5, 6)]\n",
    "# b = (1, 2, 3, 4, 5)\n",
    "# i, j = (1, 2)\n",
    "for i, j in a:\n",
    "    print(i, j)"
   ]
  },
  {
   "cell_type": "code",
   "execution_count": 31,
   "metadata": {},
   "outputs": [
    {
     "name": "stdout",
     "output_type": "stream",
     "text": [
      "첫번째 수 = 5\n",
      "첫번째 수 = 1\n",
      "사이합 = 15\n"
     ]
    }
   ],
   "source": [
    "# 두 개의 정수를 입력받아 두 수 사이의 자연수의 합을 누적해서\n",
    "# 출력하는 프로그램을 구현하시오.\n",
    "# 첫번째 수 = 1   5\n",
    "# 두번째 수 = 5   1\n",
    "# 사이합 = 15    15\n",
    "\n",
    "first = int(input(\"첫번째 수 = \"))\n",
    "second = int(input(\"첫번째 수 = \"))\n",
    "sum = 0\n",
    "\n",
    "# 입력받은 두 수의 대소관계를 비교\n",
    "if first > second:\n",
    "    first, second = second, first\n",
    "    \n",
    "for i in range(first, second+1):\n",
    "    sum += i\n",
    "    \n",
    "print(\"사이합 = {}\".format(sum))"
   ]
  },
  {
   "cell_type": "code",
   "execution_count": 33,
   "metadata": {},
   "outputs": [
    {
     "name": "stdout",
     "output_type": "stream",
     "text": [
      "첫번째 수 = 5\n",
      "첫번째 수 = 1\n",
      "사이합 = 15\n"
     ]
    }
   ],
   "source": [
    "first = int(input(\"첫번째 수 = \"))\n",
    "second = int(input(\"두번째 수 = \"))\n",
    "sum = 0\n",
    "\n",
    "for i in range(min(first, second), max(first, second)+1):\n",
    "    sum += i\n",
    "    \n",
    "print(\"사이합 = {}\".format(sum))"
   ]
  },
  {
   "cell_type": "code",
   "execution_count": 44,
   "metadata": {},
   "outputs": [
    {
     "name": "stdout",
     "output_type": "stream",
     "text": [
      "10 9 8 7 6 5 4 3 2 1 "
     ]
    }
   ],
   "source": [
    "for i in range(10, 0, -1):\n",
    "    print(i, end=\" \")"
   ]
  },
  {
   "cell_type": "code",
   "execution_count": 49,
   "metadata": {},
   "outputs": [
    {
     "name": "stdout",
     "output_type": "stream",
     "text": [
      "[3, 6, 9, 12, 15]\n"
     ]
    }
   ],
   "source": [
    "# 리스트 내포(List comprehension) : 리스트 내에 for문을 포함하는 문장\n",
    "a = [1, 2, 3, 4, 5]\n",
    "result=[]\n",
    "\n",
    "for i in a :\n",
    "    result.append(i*3)\n",
    "    \n",
    "print(result)"
   ]
  },
  {
   "cell_type": "code",
   "execution_count": 50,
   "metadata": {},
   "outputs": [
    {
     "name": "stdout",
     "output_type": "stream",
     "text": [
      "[3, 6, 9, 12, 15]\n"
     ]
    }
   ],
   "source": [
    "a = [1, 2, 3, 4, 5]\n",
    "\n",
    "result = [i*3 for i in a]  # 리스트 내포\n",
    "print(result)"
   ]
  },
  {
   "cell_type": "code",
   "execution_count": 52,
   "metadata": {},
   "outputs": [
    {
     "name": "stdout",
     "output_type": "stream",
     "text": [
      "[6, 12]\n"
     ]
    }
   ],
   "source": [
    "# 리스트 요소 중 짝숫값만 3을 곱하여 리스트에 담아서 출력\n",
    "a = [1, 2, 3, 4, 5]\n",
    "result = []\n",
    "\n",
    "for i in a:\n",
    "    if i % 2 == 0:\n",
    "        result.append(i*3)\n",
    "\n",
    "print(result)"
   ]
  },
  {
   "cell_type": "code",
   "execution_count": 51,
   "metadata": {},
   "outputs": [
    {
     "name": "stdout",
     "output_type": "stream",
     "text": [
      "[6, 12]\n"
     ]
    }
   ],
   "source": [
    "a = [1, 2, 3, 4, 5]\n",
    "# 리스트내포 >>   [표현식 for 개별변수 in 집합변수 if 조건식]\n",
    "result = [i*3 for i in a if i%2==0]  # ':'콜론 생략\n",
    "print(result)"
   ]
  },
  {
   "cell_type": "code",
   "execution_count": 55,
   "metadata": {},
   "outputs": [
    {
     "name": "stdout",
     "output_type": "stream",
     "text": [
      "2x1=2\n",
      "2x2=4\n",
      "2x3=6\n",
      "2x4=8\n",
      "2x5=10\n",
      "2x6=12\n",
      "2x7=14\n",
      "2x8=16\n",
      "2x9=18\n",
      "\n",
      "3x1=3\n",
      "3x2=6\n",
      "3x3=9\n",
      "3x4=12\n",
      "3x5=15\n",
      "3x6=18\n",
      "3x7=21\n",
      "3x8=24\n",
      "3x9=27\n",
      "\n",
      "4x1=4\n",
      "4x2=8\n",
      "4x3=12\n",
      "4x4=16\n",
      "4x5=20\n",
      "4x6=24\n",
      "4x7=28\n",
      "4x8=32\n",
      "4x9=36\n",
      "\n",
      "5x1=5\n",
      "5x2=10\n",
      "5x3=15\n",
      "5x4=20\n",
      "5x5=25\n",
      "5x6=30\n",
      "5x7=35\n",
      "5x8=40\n",
      "5x9=45\n",
      "\n",
      "6x1=6\n",
      "6x2=12\n",
      "6x3=18\n",
      "6x4=24\n",
      "6x5=30\n",
      "6x6=36\n",
      "6x7=42\n",
      "6x8=48\n",
      "6x9=54\n",
      "\n",
      "7x1=7\n",
      "7x2=14\n",
      "7x3=21\n",
      "7x4=28\n",
      "7x5=35\n",
      "7x6=42\n",
      "7x7=49\n",
      "7x8=56\n",
      "7x9=63\n",
      "\n",
      "8x1=8\n",
      "8x2=16\n",
      "8x3=24\n",
      "8x4=32\n",
      "8x5=40\n",
      "8x6=48\n",
      "8x7=56\n",
      "8x8=64\n",
      "8x9=72\n",
      "\n",
      "9x1=9\n",
      "9x2=18\n",
      "9x3=27\n",
      "9x4=36\n",
      "9x5=45\n",
      "9x6=54\n",
      "9x7=63\n",
      "9x8=72\n",
      "9x9=81\n",
      "\n"
     ]
    }
   ],
   "source": [
    "for dan in range(2, 10):\n",
    "    for num in range(1, 10):\n",
    "        print(\"{}x{}={}\".format(dan,num,dan*num))\n",
    "    print()"
   ]
  },
  {
   "cell_type": "code",
   "execution_count": 58,
   "metadata": {},
   "outputs": [
    {
     "name": "stdout",
     "output_type": "stream",
     "text": [
      "[2, 4, 6, 8, 10, 12, 14, 16, 18, 3, 6, 9, 12, 15, 18, 21, 24, 27, 4, 8, 12, 16, 20, 24, 28, 32, 36, 5, 10, 15, 20, 25, 30, 35, 40, 45, 6, 12, 18, 24, 30, 36, 42, 48, 54, 7, 14, 21, 28, 35, 42, 49, 56, 63, 8, 16, 24, 32, 40, 48, 56, 64, 72, 9, 18, 27, 36, 45, 54, 63, 72, 81]\n"
     ]
    }
   ],
   "source": [
    "# 구구단의 결과만 리스트에 찍어내기  # 리스트 안에 for문 담기\n",
    "result = []\n",
    "\n",
    "for dan in range(2, 10):\n",
    "    for num in range(1, 10):\n",
    "        result.append(dan*num)\n",
    "\n",
    "print(result)"
   ]
  },
  {
   "cell_type": "code",
   "execution_count": 62,
   "metadata": {},
   "outputs": [
    {
     "name": "stdout",
     "output_type": "stream",
     "text": [
      "[2, 4, 6, 8, 10, 12, 14, 16, 18, 3, 6, 9, 12, 15, 18, 21, 24, 27, 4, 8, 12, 16, 20, 24, 28, 32, 36, 5, 10, 15, 20, 25, 30, 35, 40, 45, 6, 12, 18, 24, 30, 36, 42, 48, 54, 7, 14, 21, 28, 35, 42, 49, 56, 63, 8, 16, 24, 32, 40, 48, 56, 64, 72, 9, 18, 27, 36, 45, 54, 63, 72, 81]\n"
     ]
    }
   ],
   "source": [
    "result = [dan*num for dan in range(2,10) for num in range(1,10)]\n",
    "print(result)\n",
    "\n",
    "# 리스트명 = [ 담을것들 (((조건))) (((조건))) ....] "
   ]
  },
  {
   "cell_type": "code",
   "execution_count": 66,
   "metadata": {},
   "outputs": [
    {
     "name": "stdout",
     "output_type": "stream",
     "text": [
      "1\n",
      "['a', 'b', 'c']\n",
      "b\n"
     ]
    }
   ],
   "source": [
    "a = [1, 2, ['a', 'b', 'c']]    # 리스트 안에 리스트 담기\n",
    "# b = []  ==  b = list() ; 비어있는 리스트\n",
    "# c = 0   ==  c = int()\n",
    "\n",
    "# indexing : 요소의 위치값을 이용해서 특정 요소를 검색하거나 추출\n",
    "print(a[0])\n",
    "print(a[2])\n",
    "print(a[2][1])\n"
   ]
  },
  {
   "cell_type": "code",
   "execution_count": 68,
   "metadata": {},
   "outputs": [
    {
     "data": {
      "text/plain": [
       "{'name': '장보고'}"
      ]
     },
     "execution_count": 68,
     "metadata": {},
     "output_type": "execute_result"
    }
   ],
   "source": [
    "# 딕셔너리 자료형\n",
    "# key:value   >> item, 요소 / 인덱스가 아니라 key를 이용해서 추출\n",
    "# key는 중복을 허용하지 않는다.   => set\n",
    "# value는 중복을 허용함.\n",
    "# 사전.keys(), 사전.values(), 사전.items()\n",
    "# 생성 : 중괄호 {}\n",
    "people = {'name':'장보고'}\n",
    "people"
   ]
  },
  {
   "cell_type": "code",
   "execution_count": 69,
   "metadata": {},
   "outputs": [
    {
     "data": {
      "text/plain": [
       "{'name': '장보고', 'age': 13}"
      ]
     },
     "execution_count": 69,
     "metadata": {},
     "output_type": "execute_result"
    }
   ],
   "source": [
    "people['age'] = 13\n",
    "people"
   ]
  },
  {
   "cell_type": "code",
   "execution_count": 70,
   "metadata": {},
   "outputs": [
    {
     "data": {
      "text/plain": [
       "{'name': '장보고', 'age': 13, 'hobby': '잠'}"
      ]
     },
     "execution_count": 70,
     "metadata": {},
     "output_type": "execute_result"
    }
   ],
   "source": [
    "people['hobby'] = '잠'\n",
    "people"
   ]
  },
  {
   "cell_type": "code",
   "execution_count": 73,
   "metadata": {},
   "outputs": [
    {
     "data": {
      "text/plain": [
       "['name', 'age', 'hobby']"
      ]
     },
     "execution_count": 73,
     "metadata": {},
     "output_type": "execute_result"
    }
   ],
   "source": [
    "people.keys()"
   ]
  },
  {
   "cell_type": "code",
   "execution_count": 74,
   "metadata": {},
   "outputs": [
    {
     "data": {
      "text/plain": [
       "dict_values(['장보고', 13, '잠'])"
      ]
     },
     "execution_count": 74,
     "metadata": {},
     "output_type": "execute_result"
    }
   ],
   "source": [
    "people.values()"
   ]
  },
  {
   "cell_type": "code",
   "execution_count": 75,
   "metadata": {},
   "outputs": [
    {
     "data": {
      "text/plain": [
       "dict_items([('name', '장보고'), ('age', 13), ('hobby', '잠')])"
      ]
     },
     "execution_count": 75,
     "metadata": {},
     "output_type": "execute_result"
    }
   ],
   "source": [
    "people.items()"
   ]
  },
  {
   "cell_type": "code",
   "execution_count": 85,
   "metadata": {},
   "outputs": [
    {
     "name": "stdout",
     "output_type": "stream",
     "text": [
      "name 장보고\n",
      "장보고\n",
      "age 13\n",
      "13\n"
     ]
    }
   ],
   "source": [
    "for i in people:\n",
    "    print(i, people[i])  # people.get(i) == people[i]"
   ]
  },
  {
   "cell_type": "code",
   "execution_count": 82,
   "metadata": {},
   "outputs": [
    {
     "name": "stdout",
     "output_type": "stream",
     "text": [
      "('name', '장보고')\n",
      "('age', 13)\n",
      "('hobby', '잠')\n"
     ]
    }
   ],
   "source": [
    "for i in people.items():\n",
    "    print(i)"
   ]
  },
  {
   "cell_type": "code",
   "execution_count": 83,
   "metadata": {},
   "outputs": [
    {
     "name": "stdout",
     "output_type": "stream",
     "text": [
      "name : 장보고\n",
      "age : 13\n",
      "hobby : 잠\n"
     ]
    }
   ],
   "source": [
    "for key, value in people.items():\n",
    "    print(key, \":\", value)"
   ]
  },
  {
   "cell_type": "code",
   "execution_count": 84,
   "metadata": {},
   "outputs": [
    {
     "data": {
      "text/plain": [
       "{'name': '장보고', 'age': 13}"
      ]
     },
     "execution_count": 84,
     "metadata": {},
     "output_type": "execute_result"
    }
   ],
   "source": [
    "del people['hobby']\n",
    "people"
   ]
  },
  {
   "cell_type": "code",
   "execution_count": 88,
   "metadata": {},
   "outputs": [
    {
     "name": "stdout",
     "output_type": "stream",
     "text": [
      "A의 국어점수 = 38\n",
      "A의 영어점수 = 58\n",
      "A의 수학점수 = 92\n",
      "B의 국어점수 = 47\n",
      "B의 영어점수 = 29\n",
      "B의 수학점수 = 58\n",
      "C의 국어점수 = 66\n",
      "C의 영어점수 = 82\n",
      "C의 수학점수 = 100\n",
      "A의 총점:188, 평균62.67\n",
      "B의 총점:134, 평균44.67\n",
      "C의 총점:248, 평균82.67\n"
     ]
    }
   ],
   "source": [
    "# 성적프로그램 3단계\n",
    "# 3명의 국어, 영어, 수학 점수를 입력받아 총점과 평균을 출력하는\n",
    "# 프로그램을 구현하시오.\n",
    "# 평균은 소숫점이하 둘째자리까지 추출할 것\n",
    "\n",
    "a_kor = int(input(\"A의 국어점수 = \"))\n",
    "a_eng = int(input(\"A의 영어점수 = \"))\n",
    "a_math = int(input(\"A의 수학점수 = \"))\n",
    "\n",
    "b_kor = int(input(\"B의 국어점수 = \"))\n",
    "b_eng = int(input(\"B의 영어점수 = \"))\n",
    "b_math = int(input(\"B의 수학점수 = \"))\n",
    "\n",
    "c_kor = int(input(\"C의 국어점수 = \"))\n",
    "c_eng = int(input(\"C의 영어점수 = \"))\n",
    "c_math = int(input(\"C의 수학점수 = \"))\n",
    "\n",
    "tot_a = a_kor+a_eng+a_math\n",
    "tot_b = b_kor+b_eng+b_math\n",
    "tot_c = c_kor+c_eng+c_math\n",
    "             \n",
    "print(\"A의 총점:{}, 평균{:.2f}\".format(tot_a, tot_a/3))\n",
    "print(\"B의 총점:{}, 평균{:.2f}\".format(tot_b, tot_b/3))\n",
    "print(\"C의 총점:{}, 평균{:.2f}\".format(tot_c, tot_c/3))"
   ]
  },
  {
   "cell_type": "code",
   "execution_count": 1,
   "metadata": {},
   "outputs": [
    {
     "name": "stdout",
     "output_type": "stream",
     "text": [
      "A의 성적을 입력하세요(국어, 영어, 수학) = 10,20,30\n",
      "B의 성적을 입력하세요(국어, 영어, 수학) = 50,80,40\n",
      "C의 성적을 입력하세요(국어, 영어, 수학) = 90,30,60\n",
      "A의 총점 : 60, 평균 : 20.00\n",
      "B의 총점 : 170, 평균 : 56.67\n",
      "C의 총점 : 180, 평균 : 60.00\n"
     ]
    }
   ],
   "source": [
    "def tot(k):\n",
    "    tot = 0\n",
    "    for i in k:\n",
    "        tot += int(i)\n",
    "    return tot\n",
    "    \n",
    "def avg(k):\n",
    "    return tot(k) / len(k)\n",
    "\n",
    "aa = input(\"A의 성적을 입력하세요(국어, 영어, 수학) = \")\n",
    "bb = input(\"B의 성적을 입력하세요(국어, 영어, 수학) = \")\n",
    "cc = input(\"C의 성적을 입력하세요(국어, 영어, 수학) = \")\n",
    "\n",
    "a = aa.split(\",\")\n",
    "b = bb.split(\",\")\n",
    "c = cc.split(\",\")\n",
    "\n",
    "print(\"A의 총점 : {}, 평균 : {:.2f}\".format(tot(a), avg(a)))\n",
    "print(\"B의 총점 : {}, 평균 : {:.2f}\".format(tot(b), avg(b)))\n",
    "print(\"C의 총점 : {}, 평균 : {:.2f}\".format(tot(c), avg(c)))"
   ]
  },
  {
   "cell_type": "code",
   "execution_count": 35,
   "metadata": {},
   "outputs": [],
   "source": [
    "class Person:\n",
    "    def __init__(self, num):\n",
    "        self.num = num\n",
    "        self.scores = {'국어':0,'영어':0,'수학':0}\n",
    "        for sub in self.scores:\n",
    "            score = input('{}점수입력 : '.format(sub))\n",
    "            self.scores[sub] = int(score)  # index => 딕셔너리의 key값\n",
    "            \n",
    "    def total(self):\n",
    "        self.result=0\n",
    "        for score in self.scores.values():\n",
    "            self.result += score\n",
    "        return self.result\n",
    "    \n",
    "    def avg(self):\n",
    "        return self.result / len(self.scores)\n",
    "    \n",
    "    def disp(self):\n",
    "        print(self.num, '번')\n",
    "        for sub, score in self.scores.items():\n",
    "            print('{0}점수: {1}'.format(sub, score), end ='\\t')\n",
    "        print()\n",
    "        print('총점: {0}, 평균: {1:.2f}'.format(self.total(),self.avg()))"
   ]
  },
  {
   "cell_type": "code",
   "execution_count": 36,
   "metadata": {},
   "outputs": [
    {
     "name": "stdout",
     "output_type": "stream",
     "text": [
      "1 번째 사람\n",
      "국어점수입력 : 10\n",
      "영어점수입력 : 20\n",
      "수학점수입력 : 30\n",
      "2 번째 사람\n",
      "국어점수입력 : 40\n",
      "영어점수입력 : 50\n",
      "수학점수입력 : 60\n",
      "3 번째 사람\n",
      "국어점수입력 : 70\n",
      "영어점수입력 : 80\n",
      "수학점수입력 : 90\n",
      "1 번\n",
      "국어점수: 10\t영어점수: 20\t수학점수: 30\t\n",
      "총점: 60, 평균: 20.00\n",
      "2 번\n",
      "국어점수: 40\t영어점수: 50\t수학점수: 60\t\n",
      "총점: 150, 평균: 50.00\n",
      "3 번\n",
      "국어점수: 70\t영어점수: 80\t수학점수: 90\t\n",
      "총점: 240, 평균: 80.00\n"
     ]
    }
   ],
   "source": [
    "people = []\n",
    "for i in range(3):\n",
    "    print(i+1, '번째 사람')\n",
    "    people.append(Person(i+1))\n",
    "    \n",
    "for person in people:\n",
    "    person.disp()"
   ]
  },
  {
   "cell_type": "code",
   "execution_count": null,
   "metadata": {},
   "outputs": [],
   "source": []
  }
 ],
 "metadata": {
  "kernelspec": {
   "display_name": "Python 3",
   "language": "python",
   "name": "python3"
  },
  "language_info": {
   "codemirror_mode": {
    "name": "ipython",
    "version": 3
   },
   "file_extension": ".py",
   "mimetype": "text/x-python",
   "name": "python",
   "nbconvert_exporter": "python",
   "pygments_lexer": "ipython3",
   "version": "3.7.3"
  }
 },
 "nbformat": 4,
 "nbformat_minor": 2
}
