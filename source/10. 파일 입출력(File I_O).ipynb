{
 "cells": [
  {
   "cell_type": "markdown",
   "metadata": {},
   "source": [
    "#### 0. 파일입출력(File Input / Output System)\n",
    "- 작업순서 : 파일객체 열기 - 작업 - 파일객체 닫기\n",
    "- 파일오픈 : open(filename, mode)  # (파일명, 입출력방식)  \n",
    "　mode : 파일을 입출력하는 방식  \n",
    "   \"r\" => read only  , \"rb\" => read binary 2진수형태를 읽기  \n",
    "   \"w\" => write only (덮어쓰기) , \"wb\" => write binary  \n",
    "   \"a\" => append only (추가) , \"ab\" => append binary  \n",
    "- 파일닫기 : close()   # 자동으로 닫아주는 기능 (with)"
   ]
  },
  {
   "cell_type": "code",
   "execution_count": 1,
   "metadata": {},
   "outputs": [],
   "source": [
    "# 현재 작업하는 디렉토리에 파일 생성하는 작업\n",
    "# open(filename, mode)\n",
    "# mode: w(쓰기모드), r(읽기모드), a(추가모드)\n",
    "# File f (C나 Java),, 파이썬은 생략가능(File이라는 클래스가 이미 만들어져있음)\n",
    "# f = File()  # 해당 클래스의 인스턴스를 만드는 과정.. 생략가능\n",
    "f = open(\"file1.txt\", \"w\")  # w 기능- 해당 파일이 없으면 자동으로 생성/ 있으면 덮어쓰기함\n",
    "# 작업\n",
    "\n",
    "# 파일닫기\n",
    "f.close()  # 파일 객체 닫기"
   ]
  },
  {
   "cell_type": "code",
   "execution_count": 2,
   "metadata": {},
   "outputs": [],
   "source": [
    "# 지정한 디렉토리에 파일 생성하는 작업\n",
    "f = open(\"D:/python3/study/file2.txt\", \"w\")\n",
    "# 작업\n",
    "\n",
    "# 파일닫기\n",
    "f.close()"
   ]
  },
  {
   "cell_type": "code",
   "execution_count": 3,
   "metadata": {},
   "outputs": [],
   "source": [
    "# 파일에 내용을 출력하는 작업\n",
    "f = open(\"D:/python3/study/file3.txt\", \"w\")\n",
    "\n",
    "# 작업\n",
    "for i in range(1,11):\n",
    "    data = \"{0}번째 데이터 입니다.\\n\".format(i)\n",
    "    f.write(data)\n",
    "\n",
    "# 닫기\n",
    "f.close()"
   ]
  },
  {
   "cell_type": "code",
   "execution_count": 7,
   "metadata": {},
   "outputs": [
    {
     "name": "stdout",
     "output_type": "stream",
     "text": [
      "1번째 데이터 입니다.\n",
      "2번째 데이터 입니다.\n",
      "3번째 데이터 입니다.\n",
      "4번째 데이터 입니다.\n",
      "5번째 데이터 입니다.\n",
      "6번째 데이터 입니다.\n",
      "7번째 데이터 입니다.\n",
      "8번째 데이터 입니다.\n",
      "9번째 데이터 입니다.\n",
      "10번째 데이터 입니다.\n"
     ]
    }
   ],
   "source": [
    "# 파일의 내용을 화면에 출력하는 작업\n",
    "f = open(\"D:/python3/study/file3.txt\", \"r\")\n",
    "\n",
    "# 작업\n",
    "while True:\n",
    "    # 줄 단위(\\n)로 파일을 읽어오는 함수 - readline\n",
    "    line = f.readline()\n",
    "    \n",
    "    if not line: break\n",
    "    print(line, end=\"\")\n",
    "    \n",
    "f.close()"
   ]
  },
  {
   "cell_type": "code",
   "execution_count": 11,
   "metadata": {},
   "outputs": [
    {
     "name": "stdout",
     "output_type": "stream",
     "text": [
      "10\n",
      "파일이 추가되었습니다.\n"
     ]
    }
   ],
   "source": [
    "nums = [0, 1, 2, 3, 4, 5, 6, 7, 8, 9]\n",
    "count = len(nums)  # 데이터의 개수\n",
    "print(count)\n",
    "\n",
    "output_file = \"D:/python3/source/result.csv\"  # csv : 쉼표를 가지고있는 파일\n",
    "# append(추가모드), 쓰기모드기능\n",
    "f = open(output_file, \"a\")  # 여러번 실행할수록 실행한만큼 추가됨\n",
    "\n",
    "for idx in range(count):\n",
    "    if idx < (count - 1):\n",
    "        f.write(str(nums[idx]) + \",\")\n",
    "    else:\n",
    "        f.write(str(nums[idx]) + \"\\n\")\n",
    "\n",
    "f.close()\n",
    "print(\"파일이 추가되었습니다.\")"
   ]
  },
  {
   "cell_type": "code",
   "execution_count": 12,
   "metadata": {},
   "outputs": [
    {
     "name": "stdout",
     "output_type": "stream",
     "text": [
      "['0,1,2,3,4,5,6,7,8,9\\n', '0,1,2,3,4,5,6,7,8,9\\n', '0,1,2,3,4,5,6,7,8,9\\n']\n"
     ]
    }
   ],
   "source": [
    "# 파일 읽어오는 작업\n",
    "output_file = \"D:/python3/source/result.csv\"\n",
    "f = open(output_file, \"r\")\n",
    "\n",
    "lines = f.readlines()   # 모든 라인을 읽어서 리스트로 저장하라는 함수\n",
    "\n",
    "print(lines)\n",
    "\n"
   ]
  },
  {
   "cell_type": "code",
   "execution_count": 13,
   "metadata": {},
   "outputs": [
    {
     "name": "stdout",
     "output_type": "stream",
     "text": [
      "0,1,2,3,4,5,6,7,8,9\n",
      "0,1,2,3,4,5,6,7,8,9\n",
      "0,1,2,3,4,5,6,7,8,9\n"
     ]
    }
   ],
   "source": [
    "for line in lines:\n",
    "    print(line, end = \"\")\n",
    "    \n",
    "f.close()"
   ]
  },
  {
   "cell_type": "code",
   "execution_count": 14,
   "metadata": {},
   "outputs": [],
   "source": [
    "# with 구문을 통해 파일을 읽어오면 자동으로 파일객체 닫기가 실행된다.\n",
    "#with open(filename, mode) as f:\n",
    "with open(\"D:/python3/source/file4.txt\", \"w\") as f:\n",
    "    f.write(\"Hello, Python\")"
   ]
  },
  {
   "cell_type": "code",
   "execution_count": 30,
   "metadata": {},
   "outputs": [
    {
     "name": "stdout",
     "output_type": "stream",
     "text": [
      "1번째 데이터 입니다.\n",
      "2번째 데이터 입니다.\n",
      "3번째 데이터 입니다.\n",
      "4번째 데이터 입니다.\n",
      "5번째 데이터 입니다.\n",
      "6번째 데이터 입니다.\n",
      "7번째 데이터 입니다.\n",
      "8번째 데이터 입니다.\n",
      "9번째 데이터 입니다.\n",
      "10번째 데이터 입니다.\n",
      "1번째 데이터 입니다.\n",
      "\n",
      "22\n"
     ]
    }
   ],
   "source": [
    "f = open(\"D:/python3/study/file3.txt\", \"r\")\n",
    "\n",
    "for line in f:\n",
    "    print(line, end = \"\")\n",
    "    \n",
    "#파일의 시작위치로 포인트를 이동하는 함수\n",
    "# seek(offset, from)   >> from : 0(시작위치), 1(현재위치), 2(끝위치)\n",
    "                        # offset(상대위치)은 아무거나 써도 된다,,,,\n",
    "f.seek(0, 0)\n",
    "l = f.readline()\n",
    "print(l)\n",
    "\n",
    "print(f.tell())  # 파일 포인터가 가리키는 값 출력\n",
    "\n",
    "f.close()"
   ]
  },
  {
   "cell_type": "code",
   "execution_count": null,
   "metadata": {},
   "outputs": [],
   "source": []
  }
 ],
 "metadata": {
  "kernelspec": {
   "display_name": "Python 3",
   "language": "python",
   "name": "python3"
  },
  "language_info": {
   "codemirror_mode": {
    "name": "ipython",
    "version": 3
   },
   "file_extension": ".py",
   "mimetype": "text/x-python",
   "name": "python",
   "nbconvert_exporter": "python",
   "pygments_lexer": "ipython3",
   "version": "3.7.3"
  }
 },
 "nbformat": 4,
 "nbformat_minor": 2
}
