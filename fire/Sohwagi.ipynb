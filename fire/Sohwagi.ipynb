{
 "cells": [
  {
   "cell_type": "code",
   "execution_count": 33,
   "metadata": {},
   "outputs": [
    {
     "name": "stdout",
     "output_type": "stream",
     "text": [
      "11795.627306273063\n",
      "6878.7898351648355\n"
     ]
    }
   ],
   "source": [
    "import numpy as np\n",
    "import pandas as pd\n",
    "import matplotlib.pyplot as plt\n",
    "import matplotlib as mpl\n",
    "import matplotlib.font_manager as fm\n",
    "import random\n",
    "\n",
    "path = '/Windows/Fonts/Hancom Gothic Regular.ttf'\n",
    "font_name = fm.FontProperties(fname=path, size=50).get_name()\n",
    "plt.rc('font', family=font_name)\n",
    "\n",
    "%matplotlib inline\n",
    "\n",
    "mpl.rcParams['axes.unicode_minus'] = False\n",
    "\n",
    "file_path = 'C:/fire/소방청_화재발생 주소정보_20171231.csv'\n",
    "sohwagi = pd.read_csv(file_path, sep=',', encoding='euc-kr')\n",
    "\n",
    "li_sohwa = []\n",
    "n = sohwagi['연번']\n",
    "a = sohwagi['소화기구(사용/미사용여부)']\n",
    "b = sohwagi['화재진압시간']\n",
    "c = sohwagi['재산피해소계']\n",
    "total_time, total_time_not = \"00:00:00\", \"00:00:00\"\n",
    "total_money, total_money_not = 0, 0\n",
    "cnt_yes, cnt_no = 0, 0\n",
    "\n",
    "# 소화기 이중리스트 생성 - [소화기사용여부(a),진압시간(b),피해금액(c)]\n",
    "for i in range(len(n)):\n",
    "    inlist = []\n",
    "    for j in (a,b,c):\n",
    "        inlist.append(j[i])\n",
    "    li_sohwa.append(inlist)\n",
    "\n",
    "# 소화기 사용 여부에 따른 소화진압시간과 피해금액\n",
    "#for i in range(len(n)):\n",
    "    if li_sohwa[i][0]==\"사용\" or li_sohwa[i][0]==\"기타 소화기구활용\":\n",
    "#        total_time += li_sohwa[i][1]\n",
    "        total_money += li_sohwa[i][2]\n",
    "        cnt_yes += 1\n",
    "    else:\n",
    "#        total_time_not += li_sohwa[i][1]\n",
    "        total_money_not += li_sohwa[i][2]\n",
    "        cnt_no += 1\n",
    "\n",
    "# 평균\n",
    "#avr_time = total_time/cnt_yes\n",
    "avr_money = total_money/cnt_yes\n",
    "#avr_time_not = total_time_not/cnt_no\n",
    "avr_money_not = total_money_not/cnt_no\n",
    "\n",
    "print(avr_money)\n",
    "print(avr_money_not)\n",
    "\n",
    "#count = sohwagi['소화기구(사용/미사용여부)'].value_counts()\n",
    "#print(count)"
   ]
  }
 ],
 "metadata": {
  "kernelspec": {
   "display_name": "Python 3",
   "language": "python",
   "name": "python3"
  },
  "language_info": {
   "codemirror_mode": {
    "name": "ipython",
    "version": 3
   },
   "file_extension": ".py",
   "mimetype": "text/x-python",
   "name": "python",
   "nbconvert_exporter": "python",
   "pygments_lexer": "ipython3",
   "version": "3.7.3"
  }
 },
 "nbformat": 4,
 "nbformat_minor": 2
}
