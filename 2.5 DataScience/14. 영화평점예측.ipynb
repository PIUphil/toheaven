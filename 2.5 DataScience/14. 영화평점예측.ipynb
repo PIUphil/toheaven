{
 "cells": [
  {
   "cell_type": "code",
   "execution_count": 1,
   "metadata": {},
   "outputs": [],
   "source": [
    "### 표준 라이브러리 로딩"
   ]
  },
  {
   "cell_type": "code",
   "execution_count": 2,
   "metadata": {},
   "outputs": [],
   "source": [
    "import numpy as np\n",
    "import pandas as pd\n",
    "import matplotlib.pyplot as plt\n",
    "%matplotlib inline\n",
    "\n",
    "import seaborn as sns\n",
    "\n",
    "# 경고 무시\n",
    "import warnings\n",
    "warnings.filterwarnings('ignore')"
   ]
  },
  {
   "cell_type": "markdown",
   "metadata": {},
   "source": [
    "### MovieLens 데이터셋 정보\n",
    "https://grouplens.org/datasets/movielens\n",
    "#### rating 별점(평가점수)\n",
    "- user_id\n",
    "- movie_id\n",
    "- rating\n",
    "- time\n",
    "#### movie\n",
    "- movie_id\n",
    "- title\n",
    "- genre\n",
    "#### user\n",
    "- user_id\n",
    "- gender\n",
    "- age\n",
    "- occuption(개인정보-직업)\n",
    "- zipcode(개인정보-주소)\n",
    "#### ETC\n",
    "- 각 데이터는 '::' 구분자를 사용하여 열을 구분하였다."
   ]
  },
  {
   "cell_type": "markdown",
   "metadata": {},
   "source": [
    "#### 데이터 로딩"
   ]
  },
  {
   "cell_type": "code",
   "execution_count": 3,
   "metadata": {},
   "outputs": [],
   "source": [
    "rating_data = pd.io.parsers.read_csv('D:/python3/data/ratings.dat', #sep='::',  # parsers -> parsing 변환\n",
    "                                    names=['user_id', 'movie_id', 'rating', 'time'],\n",
    "                                    delimiter='::')  # delimiter 종결자\n",
    "\n",
    "movie_data = pd.io.parsers.read_csv('D:/python3/data/movies.dat',\n",
    "                                    names=['movie_id', 'title', 'genre'],\n",
    "                                    delimiter='::')\n",
    "\n",
    "user_data = pd.io.parsers.read_csv('D:/python3/data/users.dat',\n",
    "                                    names=['user_id', 'gender', 'age', 'occupation', 'zipcode'],\n",
    "                                    delimiter='::')"
   ]
  },
  {
   "cell_type": "code",
   "execution_count": 4,
   "metadata": {},
   "outputs": [
    {
     "data": {
      "text/html": [
       "<div>\n",
       "<style scoped>\n",
       "    .dataframe tbody tr th:only-of-type {\n",
       "        vertical-align: middle;\n",
       "    }\n",
       "\n",
       "    .dataframe tbody tr th {\n",
       "        vertical-align: top;\n",
       "    }\n",
       "\n",
       "    .dataframe thead th {\n",
       "        text-align: right;\n",
       "    }\n",
       "</style>\n",
       "<table border=\"1\" class=\"dataframe\">\n",
       "  <thead>\n",
       "    <tr style=\"text-align: right;\">\n",
       "      <th></th>\n",
       "      <th>user_id</th>\n",
       "      <th>movie_id</th>\n",
       "      <th>rating</th>\n",
       "      <th>time</th>\n",
       "    </tr>\n",
       "  </thead>\n",
       "  <tbody>\n",
       "    <tr>\n",
       "      <th>0</th>\n",
       "      <td>1</td>\n",
       "      <td>1193</td>\n",
       "      <td>5</td>\n",
       "      <td>978300760</td>\n",
       "    </tr>\n",
       "    <tr>\n",
       "      <th>1</th>\n",
       "      <td>1</td>\n",
       "      <td>661</td>\n",
       "      <td>3</td>\n",
       "      <td>978302109</td>\n",
       "    </tr>\n",
       "    <tr>\n",
       "      <th>2</th>\n",
       "      <td>1</td>\n",
       "      <td>914</td>\n",
       "      <td>3</td>\n",
       "      <td>978301968</td>\n",
       "    </tr>\n",
       "    <tr>\n",
       "      <th>3</th>\n",
       "      <td>1</td>\n",
       "      <td>3408</td>\n",
       "      <td>4</td>\n",
       "      <td>978300275</td>\n",
       "    </tr>\n",
       "    <tr>\n",
       "      <th>4</th>\n",
       "      <td>1</td>\n",
       "      <td>2355</td>\n",
       "      <td>5</td>\n",
       "      <td>978824291</td>\n",
       "    </tr>\n",
       "  </tbody>\n",
       "</table>\n",
       "</div>"
      ],
      "text/plain": [
       "   user_id  movie_id  rating       time\n",
       "0        1      1193       5  978300760\n",
       "1        1       661       3  978302109\n",
       "2        1       914       3  978301968\n",
       "3        1      3408       4  978300275\n",
       "4        1      2355       5  978824291"
      ]
     },
     "execution_count": 4,
     "metadata": {},
     "output_type": "execute_result"
    }
   ],
   "source": [
    "rating_data.head()"
   ]
  },
  {
   "cell_type": "code",
   "execution_count": 5,
   "metadata": {},
   "outputs": [
    {
     "data": {
      "text/html": [
       "<div>\n",
       "<style scoped>\n",
       "    .dataframe tbody tr th:only-of-type {\n",
       "        vertical-align: middle;\n",
       "    }\n",
       "\n",
       "    .dataframe tbody tr th {\n",
       "        vertical-align: top;\n",
       "    }\n",
       "\n",
       "    .dataframe thead th {\n",
       "        text-align: right;\n",
       "    }\n",
       "</style>\n",
       "<table border=\"1\" class=\"dataframe\">\n",
       "  <thead>\n",
       "    <tr style=\"text-align: right;\">\n",
       "      <th></th>\n",
       "      <th>user_id</th>\n",
       "      <th>gender</th>\n",
       "      <th>age</th>\n",
       "      <th>occupation</th>\n",
       "      <th>zipcode</th>\n",
       "    </tr>\n",
       "  </thead>\n",
       "  <tbody>\n",
       "    <tr>\n",
       "      <th>0</th>\n",
       "      <td>1</td>\n",
       "      <td>F</td>\n",
       "      <td>1</td>\n",
       "      <td>10</td>\n",
       "      <td>48067</td>\n",
       "    </tr>\n",
       "    <tr>\n",
       "      <th>1</th>\n",
       "      <td>2</td>\n",
       "      <td>M</td>\n",
       "      <td>56</td>\n",
       "      <td>16</td>\n",
       "      <td>70072</td>\n",
       "    </tr>\n",
       "    <tr>\n",
       "      <th>2</th>\n",
       "      <td>3</td>\n",
       "      <td>M</td>\n",
       "      <td>25</td>\n",
       "      <td>15</td>\n",
       "      <td>55117</td>\n",
       "    </tr>\n",
       "    <tr>\n",
       "      <th>3</th>\n",
       "      <td>4</td>\n",
       "      <td>M</td>\n",
       "      <td>45</td>\n",
       "      <td>7</td>\n",
       "      <td>02460</td>\n",
       "    </tr>\n",
       "    <tr>\n",
       "      <th>4</th>\n",
       "      <td>5</td>\n",
       "      <td>M</td>\n",
       "      <td>25</td>\n",
       "      <td>20</td>\n",
       "      <td>55455</td>\n",
       "    </tr>\n",
       "  </tbody>\n",
       "</table>\n",
       "</div>"
      ],
      "text/plain": [
       "   user_id gender  age  occupation zipcode\n",
       "0        1      F    1          10   48067\n",
       "1        2      M   56          16   70072\n",
       "2        3      M   25          15   55117\n",
       "3        4      M   45           7   02460\n",
       "4        5      M   25          20   55455"
      ]
     },
     "execution_count": 5,
     "metadata": {},
     "output_type": "execute_result"
    }
   ],
   "source": [
    "user_data.head()"
   ]
  },
  {
   "cell_type": "code",
   "execution_count": 6,
   "metadata": {},
   "outputs": [
    {
     "data": {
      "text/html": [
       "<div>\n",
       "<style scoped>\n",
       "    .dataframe tbody tr th:only-of-type {\n",
       "        vertical-align: middle;\n",
       "    }\n",
       "\n",
       "    .dataframe tbody tr th {\n",
       "        vertical-align: top;\n",
       "    }\n",
       "\n",
       "    .dataframe thead th {\n",
       "        text-align: right;\n",
       "    }\n",
       "</style>\n",
       "<table border=\"1\" class=\"dataframe\">\n",
       "  <thead>\n",
       "    <tr style=\"text-align: right;\">\n",
       "      <th></th>\n",
       "      <th>movie_id</th>\n",
       "      <th>title</th>\n",
       "      <th>genre</th>\n",
       "    </tr>\n",
       "  </thead>\n",
       "  <tbody>\n",
       "    <tr>\n",
       "      <th>0</th>\n",
       "      <td>1</td>\n",
       "      <td>Toy Story (1995)</td>\n",
       "      <td>Animation|Children's|Comedy</td>\n",
       "    </tr>\n",
       "    <tr>\n",
       "      <th>1</th>\n",
       "      <td>2</td>\n",
       "      <td>Jumanji (1995)</td>\n",
       "      <td>Adventure|Children's|Fantasy</td>\n",
       "    </tr>\n",
       "    <tr>\n",
       "      <th>2</th>\n",
       "      <td>3</td>\n",
       "      <td>Grumpier Old Men (1995)</td>\n",
       "      <td>Comedy|Romance</td>\n",
       "    </tr>\n",
       "    <tr>\n",
       "      <th>3</th>\n",
       "      <td>4</td>\n",
       "      <td>Waiting to Exhale (1995)</td>\n",
       "      <td>Comedy|Drama</td>\n",
       "    </tr>\n",
       "    <tr>\n",
       "      <th>4</th>\n",
       "      <td>5</td>\n",
       "      <td>Father of the Bride Part II (1995)</td>\n",
       "      <td>Comedy</td>\n",
       "    </tr>\n",
       "  </tbody>\n",
       "</table>\n",
       "</div>"
      ],
      "text/plain": [
       "   movie_id                               title                         genre\n",
       "0         1                    Toy Story (1995)   Animation|Children's|Comedy\n",
       "1         2                      Jumanji (1995)  Adventure|Children's|Fantasy\n",
       "2         3             Grumpier Old Men (1995)                Comedy|Romance\n",
       "3         4            Waiting to Exhale (1995)                  Comedy|Drama\n",
       "4         5  Father of the Bride Part II (1995)                        Comedy"
      ]
     },
     "execution_count": 6,
     "metadata": {},
     "output_type": "execute_result"
    }
   ],
   "source": [
    "movie_data.head()"
   ]
  },
  {
   "cell_type": "code",
   "execution_count": 7,
   "metadata": {},
   "outputs": [
    {
     "name": "stdout",
     "output_type": "stream",
     "text": [
      "<class 'pandas.core.frame.DataFrame'>\n",
      "RangeIndex: 1000209 entries, 0 to 1000208\n",
      "Data columns (total 4 columns):\n",
      "user_id     1000209 non-null int64\n",
      "movie_id    1000209 non-null int64\n",
      "rating      1000209 non-null int64\n",
      "time        1000209 non-null int64\n",
      "dtypes: int64(4)\n",
      "memory usage: 30.5 MB\n"
     ]
    }
   ],
   "source": [
    "rating_data.info()"
   ]
  },
  {
   "cell_type": "code",
   "execution_count": 8,
   "metadata": {},
   "outputs": [
    {
     "name": "stdout",
     "output_type": "stream",
     "text": [
      "<class 'pandas.core.frame.DataFrame'>\n",
      "RangeIndex: 6040 entries, 0 to 6039\n",
      "Data columns (total 5 columns):\n",
      "user_id       6040 non-null int64\n",
      "gender        6040 non-null object\n",
      "age           6040 non-null int64\n",
      "occupation    6040 non-null int64\n",
      "zipcode       6040 non-null object\n",
      "dtypes: int64(3), object(2)\n",
      "memory usage: 236.0+ KB\n"
     ]
    }
   ],
   "source": [
    "user_data.info()"
   ]
  },
  {
   "cell_type": "code",
   "execution_count": 9,
   "metadata": {},
   "outputs": [
    {
     "name": "stdout",
     "output_type": "stream",
     "text": [
      "<class 'pandas.core.frame.DataFrame'>\n",
      "RangeIndex: 3883 entries, 0 to 3882\n",
      "Data columns (total 3 columns):\n",
      "movie_id    3883 non-null int64\n",
      "title       3883 non-null object\n",
      "genre       3883 non-null object\n",
      "dtypes: int64(1), object(2)\n",
      "memory usage: 91.1+ KB\n"
     ]
    }
   ],
   "source": [
    "movie_data.info()"
   ]
  },
  {
   "cell_type": "code",
   "execution_count": 10,
   "metadata": {},
   "outputs": [
    {
     "data": {
      "text/plain": [
       "user_id     0\n",
       "movie_id    0\n",
       "rating      0\n",
       "time        0\n",
       "dtype: int64"
      ]
     },
     "execution_count": 10,
     "metadata": {},
     "output_type": "execute_result"
    }
   ],
   "source": [
    "rating_data.isnull().sum()  # 결측값 개수 확인"
   ]
  },
  {
   "cell_type": "code",
   "execution_count": 11,
   "metadata": {},
   "outputs": [
    {
     "data": {
      "text/plain": [
       "user_id       0\n",
       "gender        0\n",
       "age           0\n",
       "occupation    0\n",
       "zipcode       0\n",
       "dtype: int64"
      ]
     },
     "execution_count": 11,
     "metadata": {},
     "output_type": "execute_result"
    }
   ],
   "source": [
    "user_data.isnull().sum()"
   ]
  },
  {
   "cell_type": "code",
   "execution_count": 12,
   "metadata": {},
   "outputs": [
    {
     "data": {
      "text/plain": [
       "movie_id    0\n",
       "title       0\n",
       "genre       0\n",
       "dtype: int64"
      ]
     },
     "execution_count": 12,
     "metadata": {},
     "output_type": "execute_result"
    }
   ],
   "source": [
    "movie_data.isnull().sum()"
   ]
  },
  {
   "cell_type": "markdown",
   "metadata": {},
   "source": [
    "### 탐색적 데이터 분석"
   ]
  },
  {
   "cell_type": "code",
   "execution_count": 13,
   "metadata": {},
   "outputs": [
    {
     "data": {
      "text/plain": [
       "3883"
      ]
     },
     "execution_count": 13,
     "metadata": {},
     "output_type": "execute_result"
    }
   ],
   "source": [
    "# 총 영화의 개수\n",
    "len(movie_data['movie_id'].unique())"
   ]
  },
  {
   "cell_type": "code",
   "execution_count": 14,
   "metadata": {},
   "outputs": [
    {
     "data": {
      "text/plain": [
       "1996    345\n",
       "1995    342\n",
       "1998    337\n",
       "1997    315\n",
       "1999    283\n",
       "1994    257\n",
       "1993    165\n",
       "2000    156\n",
       "1986    104\n",
       "1992    102\n",
       "Name: year, dtype: int64"
      ]
     },
     "execution_count": 14,
     "metadata": {},
     "output_type": "execute_result"
    }
   ],
   "source": [
    "# 연도별 영화의 개수를 이용해서 가장 많은 영화가 출시된 연도 Top 10\n",
    "# movie_data['title'].head()\n",
    "# len(movie_data['title'][-5:-1])\n",
    "movie_data['year'] = movie_data['title'].apply(lambda x: x[-5:-1])\n",
    "\n",
    "# 개별요소의 건수 value_counts()\n",
    "movie_data['year'].value_counts().head(10)"
   ]
  },
  {
   "cell_type": "code",
   "execution_count": 15,
   "metadata": {},
   "outputs": [
    {
     "data": {
      "text/plain": [
       "1910       3\n",
       "1920      34\n",
       "1930      77\n",
       "1940     126\n",
       "1950     168\n",
       "1960     191\n",
       "1970     247\n",
       "1980     598\n",
       "1990    2283\n",
       "2000     156\n",
       "Name: year_term, dtype: int64"
      ]
     },
     "execution_count": 15,
     "metadata": {},
     "output_type": "execute_result"
    }
   ],
   "source": [
    "# 연대별 영화의 개수 추출\n",
    "# 1900, 1910, 1920 .....\n",
    "# 파생변수 : year_term\n",
    "movie_data['year_term'] = movie_data['title'].apply(lambda x: x[-5:-2]+'0')\n",
    "movie_year_term = movie_data['year_term'].value_counts().sort_index()\n",
    "movie_year_term"
   ]
  },
  {
   "cell_type": "code",
   "execution_count": 16,
   "metadata": {},
   "outputs": [
    {
     "data": {
      "image/png": "[encoded data removed]",
      "text/plain": [
       "<Figure size 432x288 with 1 Axes>"
      ]
     },
     "metadata": {
      "needs_background": "light"
     },
     "output_type": "display_data"
    }
   ],
   "source": [
    "sns.barplot(movie_year_term.index, movie_year_term.values)\n",
    "plt.show()"
   ]
  },
  {
   "cell_type": "raw",
   "metadata": {},
   "source": [
    "movie_data.iterrows"
   ]
  },
  {
   "cell_type": "code",
   "execution_count": 17,
   "metadata": {},
   "outputs": [
    {
     "data": {
      "text/plain": [
       "{'Animation': 105,\n",
       " \"Children's\": 251,\n",
       " 'Comedy': 1200,\n",
       " 'Adventure': 283,\n",
       " 'Fantasy': 68,\n",
       " 'Romance': 471,\n",
       " 'Drama': 1603,\n",
       " 'Action': 503,\n",
       " 'Crime': 211,\n",
       " 'Thriller': 492,\n",
       " 'Horror': 343,\n",
       " 'Sci-Fi': 276,\n",
       " 'Documentary': 127,\n",
       " 'War': 143,\n",
       " 'Musical': 114,\n",
       " 'Mystery': 106,\n",
       " 'Film-Noir': 44,\n",
       " 'Western': 68}"
      ]
     },
     "execution_count": 17,
     "metadata": {},
     "output_type": "execute_result"
    }
   ],
   "source": [
    "# 영화데이터에서 가장 많이 등장하는 장르는 무엇일까?\n",
    "# 코미디 | 드라마 | 액션 => 구분자\n",
    "# dict => key:value\n",
    "unique_genre_dict = {}\n",
    "\n",
    "for index, row in movie_data.iterrows() :      # iterrows : 행 하나하나 접근\n",
    "    # genre 피처의 구분자를 분리\n",
    "    genre_combination = row['genre']\n",
    "    p = genre_combination.split(\"|\")\n",
    "    \n",
    "    for genre in p:\n",
    "        if genre in unique_genre_dict:\n",
    "            unique_genre_dict[genre] += 1\n",
    "        else:\n",
    "            unique_genre_dict[genre] = 1\n",
    "\n",
    "unique_genre_dict"
   ]
  },
  {
   "cell_type": "code",
   "execution_count": 18,
   "metadata": {},
   "outputs": [
    {
     "data": {
      "image/png": "[encoded data removed]",
      "text/plain": [
       "<Figure size 1440x1152 with 1 Axes>"
      ]
     },
     "metadata": {
      "needs_background": "light"
     },
     "output_type": "display_data"
    }
   ],
   "source": [
    "plt.rcParams['figure.figsize'] = [20, 16]\n",
    "sns.barplot(list(unique_genre_dict.keys()),\n",
    "            list(unique_genre_dict.values()))\n",
    "plt.title('Movie Genre')\n",
    "plt.xlabel('Genre', fontsize=12)\n",
    "plt.ylabel('Count of Genre', fontsize=12)\n",
    "plt.show()"
   ]
  },
  {
   "cell_type": "code",
   "execution_count": 19,
   "metadata": {},
   "outputs": [
    {
     "data": {
      "text/plain": [
       "M    4331\n",
       "F    1709\n",
       "Name: gender, dtype: int64"
      ]
     },
     "execution_count": 19,
     "metadata": {},
     "output_type": "execute_result"
    }
   ],
   "source": [
    "# 사용자의 성별과 사용자의 연령대\n",
    "user_gender = user_data['gender'].value_counts()\n",
    "user_gender"
   ]
  },
  {
   "cell_type": "code",
   "execution_count": 20,
   "metadata": {},
   "outputs": [
    {
     "data": {
      "image/png": "[encoded data removed]",
      "text/plain": [
       "<Figure size 288x288 with 1 Axes>"
      ]
     },
     "metadata": {
      "needs_background": "light"
     },
     "output_type": "display_data"
    }
   ],
   "source": [
    "plt.rcParams['figure.figsize'] = [4, 4]\n",
    "sns.barplot(user_gender.index, user_gender.values, alpha=.8)\n",
    "plt.show()"
   ]
  },
  {
   "cell_type": "code",
   "execution_count": 21,
   "metadata": {},
   "outputs": [
    {
     "data": {
      "image/png": "[encoded data removed]",
      "text/plain": [
       "<Figure size 288x288 with 1 Axes>"
      ]
     },
     "metadata": {
      "needs_background": "light"
     },
     "output_type": "display_data"
    }
   ],
   "source": [
    "plt.rcParams['figure.figsize'] = [4, 4]\n",
    "user_ages = user_data['age'].value_counts()\n",
    "sns.barplot(user_ages.index, user_ages.values, alpha=.8)\n",
    "plt.show()"
   ]
  },
  {
   "cell_type": "code",
   "execution_count": 22,
   "metadata": {},
   "outputs": [
    {
     "data": {
      "text/plain": [
       "20         2096\n",
       "30         1193\n",
       "10         1103\n",
       "50          876\n",
       "40          550\n",
       "outlier     222\n",
       "Name: ages, dtype: int64"
      ]
     },
     "execution_count": 22,
     "metadata": {},
     "output_type": "execute_result"
    }
   ],
   "source": [
    "# user의 나이를 연령대로 묶는 작업\n",
    "def age_classification(age):\n",
    "    if age == 1:\n",
    "        return 'outlier'\n",
    "    else:\n",
    "        return str(age)[0]+'0'\n",
    "    \n",
    "user_data['ages'] = user_data['age'].apply(lambda x: age_classification(x))\n",
    "\n",
    "user_ages = user_data['ages'].value_counts()#.sort_index()\n",
    "user_ages"
   ]
  },
  {
   "cell_type": "code",
   "execution_count": 23,
   "metadata": {},
   "outputs": [
    {
     "data": {
      "image/png": "[encoded data removed]",
      "text/plain": [
       "<Figure size 288x288 with 1 Axes>"
      ]
     },
     "metadata": {
      "needs_background": "light"
     },
     "output_type": "display_data"
    }
   ],
   "source": [
    "plt.rcParams['figure.figsize'] = [4, 4]\n",
    "sns.barplot(user_ages.index, user_ages.values)\n",
    "plt.show()"
   ]
  },
  {
   "cell_type": "code",
   "execution_count": 24,
   "metadata": {},
   "outputs": [
    {
     "data": {
      "text/html": [
       "<div>\n",
       "<style scoped>\n",
       "    .dataframe tbody tr th:only-of-type {\n",
       "        vertical-align: middle;\n",
       "    }\n",
       "\n",
       "    .dataframe tbody tr th {\n",
       "        vertical-align: top;\n",
       "    }\n",
       "\n",
       "    .dataframe thead th {\n",
       "        text-align: right;\n",
       "    }\n",
       "</style>\n",
       "<table border=\"1\" class=\"dataframe\">\n",
       "  <thead>\n",
       "    <tr style=\"text-align: right;\">\n",
       "      <th></th>\n",
       "      <th>user_id</th>\n",
       "      <th>gender</th>\n",
       "      <th>age</th>\n",
       "      <th>occupation</th>\n",
       "      <th>zipcode</th>\n",
       "      <th>ages</th>\n",
       "    </tr>\n",
       "  </thead>\n",
       "  <tbody>\n",
       "    <tr>\n",
       "      <th>6035</th>\n",
       "      <td>6036</td>\n",
       "      <td>F</td>\n",
       "      <td>25</td>\n",
       "      <td>15</td>\n",
       "      <td>32603</td>\n",
       "      <td>20</td>\n",
       "    </tr>\n",
       "    <tr>\n",
       "      <th>6036</th>\n",
       "      <td>6037</td>\n",
       "      <td>F</td>\n",
       "      <td>45</td>\n",
       "      <td>1</td>\n",
       "      <td>76006</td>\n",
       "      <td>40</td>\n",
       "    </tr>\n",
       "    <tr>\n",
       "      <th>6037</th>\n",
       "      <td>6038</td>\n",
       "      <td>F</td>\n",
       "      <td>56</td>\n",
       "      <td>1</td>\n",
       "      <td>14706</td>\n",
       "      <td>50</td>\n",
       "    </tr>\n",
       "    <tr>\n",
       "      <th>6038</th>\n",
       "      <td>6039</td>\n",
       "      <td>F</td>\n",
       "      <td>45</td>\n",
       "      <td>0</td>\n",
       "      <td>01060</td>\n",
       "      <td>40</td>\n",
       "    </tr>\n",
       "    <tr>\n",
       "      <th>6039</th>\n",
       "      <td>6040</td>\n",
       "      <td>M</td>\n",
       "      <td>25</td>\n",
       "      <td>6</td>\n",
       "      <td>11106</td>\n",
       "      <td>20</td>\n",
       "    </tr>\n",
       "  </tbody>\n",
       "</table>\n",
       "</div>"
      ],
      "text/plain": [
       "      user_id gender  age  occupation zipcode ages\n",
       "6035     6036      F   25          15   32603   20\n",
       "6036     6037      F   45           1   76006   40\n",
       "6037     6038      F   56           1   14706   50\n",
       "6038     6039      F   45           0   01060   40\n",
       "6039     6040      M   25           6   11106   20"
      ]
     },
     "execution_count": 24,
     "metadata": {},
     "output_type": "execute_result"
    }
   ],
   "source": [
    "user_data.tail()"
   ]
  },
  {
   "cell_type": "code",
   "execution_count": 25,
   "metadata": {},
   "outputs": [
    {
     "data": {
      "text/plain": [
       "6040"
      ]
     },
     "execution_count": 25,
     "metadata": {},
     "output_type": "execute_result"
    }
   ],
   "source": [
    "# 사용자의 수\n",
    "len(user_data['user_id'].unique())"
   ]
  },
  {
   "cell_type": "code",
   "execution_count": 26,
   "metadata": {},
   "outputs": [
    {
     "name": "stdout",
     "output_type": "stream",
     "text": [
      "<class 'pandas.core.frame.DataFrame'>\n",
      "RangeIndex: 1000209 entries, 0 to 1000208\n",
      "Data columns (total 4 columns):\n",
      "user_id     1000209 non-null int64\n",
      "movie_id    1000209 non-null int64\n",
      "rating      1000209 non-null int64\n",
      "time        1000209 non-null int64\n",
      "dtypes: int64(4)\n",
      "memory usage: 30.5 MB\n"
     ]
    }
   ],
   "source": [
    "rating_data.info()"
   ]
  },
  {
   "cell_type": "code",
   "execution_count": 27,
   "metadata": {},
   "outputs": [
    {
     "data": {
      "text/html": [
       "<div>\n",
       "<style scoped>\n",
       "    .dataframe tbody tr th:only-of-type {\n",
       "        vertical-align: middle;\n",
       "    }\n",
       "\n",
       "    .dataframe tbody tr th {\n",
       "        vertical-align: top;\n",
       "    }\n",
       "\n",
       "    .dataframe thead th {\n",
       "        text-align: right;\n",
       "    }\n",
       "</style>\n",
       "<table border=\"1\" class=\"dataframe\">\n",
       "  <thead>\n",
       "    <tr style=\"text-align: right;\">\n",
       "      <th></th>\n",
       "      <th>user_id</th>\n",
       "      <th>movie_id</th>\n",
       "      <th>rating</th>\n",
       "      <th>time</th>\n",
       "    </tr>\n",
       "  </thead>\n",
       "  <tbody>\n",
       "    <tr>\n",
       "      <th>1000204</th>\n",
       "      <td>6040</td>\n",
       "      <td>1091</td>\n",
       "      <td>1</td>\n",
       "      <td>956716541</td>\n",
       "    </tr>\n",
       "    <tr>\n",
       "      <th>1000205</th>\n",
       "      <td>6040</td>\n",
       "      <td>1094</td>\n",
       "      <td>5</td>\n",
       "      <td>956704887</td>\n",
       "    </tr>\n",
       "    <tr>\n",
       "      <th>1000206</th>\n",
       "      <td>6040</td>\n",
       "      <td>562</td>\n",
       "      <td>5</td>\n",
       "      <td>956704746</td>\n",
       "    </tr>\n",
       "    <tr>\n",
       "      <th>1000207</th>\n",
       "      <td>6040</td>\n",
       "      <td>1096</td>\n",
       "      <td>4</td>\n",
       "      <td>956715648</td>\n",
       "    </tr>\n",
       "    <tr>\n",
       "      <th>1000208</th>\n",
       "      <td>6040</td>\n",
       "      <td>1097</td>\n",
       "      <td>4</td>\n",
       "      <td>956715569</td>\n",
       "    </tr>\n",
       "  </tbody>\n",
       "</table>\n",
       "</div>"
      ],
      "text/plain": [
       "         user_id  movie_id  rating       time\n",
       "1000204     6040      1091       1  956716541\n",
       "1000205     6040      1094       5  956704887\n",
       "1000206     6040       562       5  956704746\n",
       "1000207     6040      1096       4  956715648\n",
       "1000208     6040      1097       4  956715569"
      ]
     },
     "execution_count": 27,
     "metadata": {},
     "output_type": "execute_result"
    }
   ],
   "source": [
    "rating_data.tail()"
   ]
  },
  {
   "cell_type": "code",
   "execution_count": 28,
   "metadata": {},
   "outputs": [
    {
     "data": {
      "text/plain": [
       "movie_id\n",
       "1     2077\n",
       "2      701\n",
       "3      478\n",
       "4      170\n",
       "5      296\n",
       "6      940\n",
       "7      458\n",
       "8       68\n",
       "9      102\n",
       "10     888\n",
       "11    1033\n",
       "12     160\n",
       "13      99\n",
       "14     153\n",
       "15     146\n",
       "16     682\n",
       "17     835\n",
       "18     157\n",
       "19     389\n",
       "20     160\n",
       "Name: rating, dtype: int64"
      ]
     },
     "execution_count": 28,
     "metadata": {},
     "output_type": "execute_result"
    }
   ],
   "source": [
    "# 각 영화의 평점횟수\n",
    "movie_rate_count = rating_data.groupby('movie_id')['rating'].count().sort_index()\n",
    "movie_rate_count.head(20)"
   ]
  },
  {
   "cell_type": "code",
   "execution_count": 29,
   "metadata": {},
   "outputs": [
    {
     "data": {
      "image/png": "[encoded data removed]",
      "text/plain": [
       "<Figure size 288x288 with 1 Axes>"
      ]
     },
     "metadata": {
      "needs_background": "light"
     },
     "output_type": "display_data"
    }
   ],
   "source": [
    "fig = plt.hist(movie_rate_count.values, bins=200)\n",
    "plt.show()"
   ]
  },
  {
   "cell_type": "code",
   "execution_count": 30,
   "metadata": {},
   "outputs": [
    {
     "name": "stdout",
     "output_type": "stream",
     "text": [
      "총 영화 수 :  3883\n"
     ]
    }
   ],
   "source": [
    "print('총 영화 수 : ',len(movie_data['movie_id'].unique()))"
   ]
  },
  {
   "cell_type": "code",
   "execution_count": 31,
   "metadata": {},
   "outputs": [
    {
     "name": "stdout",
     "output_type": "stream",
     "text": [
      "100개 미만의 평가를 받은 영화 수 : 1687\n"
     ]
    }
   ],
   "source": [
    "print('100개 미만의 평가를 받은 영화 수 :', len(movie_rate_count[movie_rate_count<100]))"
   ]
  },
  {
   "cell_type": "code",
   "execution_count": 32,
   "metadata": {},
   "outputs": [
    {
     "data": {
      "text/html": [
       "<div>\n",
       "<style scoped>\n",
       "    .dataframe tbody tr th:only-of-type {\n",
       "        vertical-align: middle;\n",
       "    }\n",
       "\n",
       "    .dataframe tbody tr th {\n",
       "        vertical-align: top;\n",
       "    }\n",
       "\n",
       "    .dataframe thead th {\n",
       "        text-align: right;\n",
       "    }\n",
       "</style>\n",
       "<table border=\"1\" class=\"dataframe\">\n",
       "  <thead>\n",
       "    <tr style=\"text-align: right;\">\n",
       "      <th></th>\n",
       "      <th>rated_count</th>\n",
       "      <th>rated_mean</th>\n",
       "    </tr>\n",
       "    <tr>\n",
       "      <th>movie_id</th>\n",
       "      <th></th>\n",
       "      <th></th>\n",
       "    </tr>\n",
       "  </thead>\n",
       "  <tbody>\n",
       "    <tr>\n",
       "      <th>3948</th>\n",
       "      <td>862</td>\n",
       "      <td>3.635731</td>\n",
       "    </tr>\n",
       "    <tr>\n",
       "      <th>3949</th>\n",
       "      <td>304</td>\n",
       "      <td>4.115132</td>\n",
       "    </tr>\n",
       "    <tr>\n",
       "      <th>3950</th>\n",
       "      <td>54</td>\n",
       "      <td>3.666667</td>\n",
       "    </tr>\n",
       "    <tr>\n",
       "      <th>3951</th>\n",
       "      <td>40</td>\n",
       "      <td>3.900000</td>\n",
       "    </tr>\n",
       "    <tr>\n",
       "      <th>3952</th>\n",
       "      <td>388</td>\n",
       "      <td>3.780928</td>\n",
       "    </tr>\n",
       "  </tbody>\n",
       "</table>\n",
       "</div>"
      ],
      "text/plain": [
       "          rated_count  rated_mean\n",
       "movie_id                         \n",
       "3948              862    3.635731\n",
       "3949              304    4.115132\n",
       "3950               54    3.666667\n",
       "3951               40    3.900000\n",
       "3952              388    3.780928"
      ]
     },
     "execution_count": 32,
     "metadata": {},
     "output_type": "execute_result"
    }
   ],
   "source": [
    "# 각 영화의 평균평점을 추출\n",
    "# 각 영화당 평점건수와 평균값을 추출하시오\n",
    "movie_groupby_rating_info = rating_data.groupby('movie_id')['rating'].agg(\n",
    "    {'rated_count':'count', 'rated_mean':'mean'})\n",
    "movie_groupby_rating_info.tail()"
   ]
  },
  {
   "cell_type": "code",
   "execution_count": 33,
   "metadata": {},
   "outputs": [
    {
     "data": {
      "text/plain": [
       "<matplotlib.axes._subplots.AxesSubplot at 0x15502504828>"
      ]
     },
     "execution_count": 33,
     "metadata": {},
     "output_type": "execute_result"
    },
    {
     "data": {
      "image/png": "[encoded data removed]",
      "text/plain": [
       "<Figure size 288x288 with 1 Axes>"
      ]
     },
     "metadata": {
      "needs_background": "light"
     },
     "output_type": "display_data"
    }
   ],
   "source": [
    "movie_groupby_rating_info['rated_mean'].hist(bins=150, grid=False)"
   ]
  },
  {
   "cell_type": "code",
   "execution_count": 34,
   "metadata": {},
   "outputs": [],
   "source": [
    "# 유저별로 평가한 영화 개수 -> rating_count\n",
    "# 유저별로 평가한 평균 영화의 평점  -> rating_mean\n",
    "# 유저별로 평가한 영화 점수의 편차(std) -> rating_std"
   ]
  },
  {
   "cell_type": "code",
   "execution_count": 35,
   "metadata": {},
   "outputs": [
    {
     "data": {
      "text/html": [
       "<div>\n",
       "<style scoped>\n",
       "    .dataframe tbody tr th:only-of-type {\n",
       "        vertical-align: middle;\n",
       "    }\n",
       "\n",
       "    .dataframe tbody tr th {\n",
       "        vertical-align: top;\n",
       "    }\n",
       "\n",
       "    .dataframe thead th {\n",
       "        text-align: right;\n",
       "    }\n",
       "</style>\n",
       "<table border=\"1\" class=\"dataframe\">\n",
       "  <thead>\n",
       "    <tr style=\"text-align: right;\">\n",
       "      <th></th>\n",
       "      <th>rating_count</th>\n",
       "      <th>rating_mean</th>\n",
       "      <th>rating_std</th>\n",
       "    </tr>\n",
       "    <tr>\n",
       "      <th>user_id</th>\n",
       "      <th></th>\n",
       "      <th></th>\n",
       "      <th></th>\n",
       "    </tr>\n",
       "  </thead>\n",
       "  <tbody>\n",
       "    <tr>\n",
       "      <th>1</th>\n",
       "      <td>53</td>\n",
       "      <td>4.188679</td>\n",
       "      <td>0.680967</td>\n",
       "    </tr>\n",
       "    <tr>\n",
       "      <th>2</th>\n",
       "      <td>129</td>\n",
       "      <td>3.713178</td>\n",
       "      <td>1.001513</td>\n",
       "    </tr>\n",
       "    <tr>\n",
       "      <th>3</th>\n",
       "      <td>51</td>\n",
       "      <td>3.901961</td>\n",
       "      <td>0.984985</td>\n",
       "    </tr>\n",
       "    <tr>\n",
       "      <th>4</th>\n",
       "      <td>21</td>\n",
       "      <td>4.190476</td>\n",
       "      <td>1.077917</td>\n",
       "    </tr>\n",
       "    <tr>\n",
       "      <th>5</th>\n",
       "      <td>198</td>\n",
       "      <td>3.146465</td>\n",
       "      <td>1.132699</td>\n",
       "    </tr>\n",
       "  </tbody>\n",
       "</table>\n",
       "</div>"
      ],
      "text/plain": [
       "         rating_count  rating_mean  rating_std\n",
       "user_id                                       \n",
       "1                  53     4.188679    0.680967\n",
       "2                 129     3.713178    1.001513\n",
       "3                  51     3.901961    0.984985\n",
       "4                  21     4.190476    1.077917\n",
       "5                 198     3.146465    1.132699"
      ]
     },
     "execution_count": 35,
     "metadata": {},
     "output_type": "execute_result"
    }
   ],
   "source": [
    "user_grouped_rating_info = rating_data.groupby(\n",
    "    'user_id')['rating'].agg(['count', 'mean', 'std'])\n",
    "user_grouped_rating_info.columns = ['rating_count', 'rating_mean', 'rating_std']\n",
    "user_grouped_rating_info.head()"
   ]
  },
  {
   "cell_type": "code",
   "execution_count": 36,
   "metadata": {},
   "outputs": [
    {
     "data": {
      "text/html": [
       "<div>\n",
       "<style scoped>\n",
       "    .dataframe tbody tr th:only-of-type {\n",
       "        vertical-align: middle;\n",
       "    }\n",
       "\n",
       "    .dataframe tbody tr th {\n",
       "        vertical-align: top;\n",
       "    }\n",
       "\n",
       "    .dataframe thead th {\n",
       "        text-align: right;\n",
       "    }\n",
       "</style>\n",
       "<table border=\"1\" class=\"dataframe\">\n",
       "  <thead>\n",
       "    <tr style=\"text-align: right;\">\n",
       "      <th></th>\n",
       "      <th>movie_id</th>\n",
       "      <th>rated_count</th>\n",
       "      <th>rated_mean</th>\n",
       "      <th>title</th>\n",
       "      <th>genre</th>\n",
       "      <th>year</th>\n",
       "      <th>year_term</th>\n",
       "    </tr>\n",
       "  </thead>\n",
       "  <tbody>\n",
       "    <tr>\n",
       "      <th>0</th>\n",
       "      <td>1</td>\n",
       "      <td>2077</td>\n",
       "      <td>4.146846</td>\n",
       "      <td>Toy Story (1995)</td>\n",
       "      <td>Animation|Children's|Comedy</td>\n",
       "      <td>1995</td>\n",
       "      <td>1990</td>\n",
       "    </tr>\n",
       "    <tr>\n",
       "      <th>1</th>\n",
       "      <td>2</td>\n",
       "      <td>701</td>\n",
       "      <td>3.201141</td>\n",
       "      <td>Jumanji (1995)</td>\n",
       "      <td>Adventure|Children's|Fantasy</td>\n",
       "      <td>1995</td>\n",
       "      <td>1990</td>\n",
       "    </tr>\n",
       "    <tr>\n",
       "      <th>2</th>\n",
       "      <td>3</td>\n",
       "      <td>478</td>\n",
       "      <td>3.016736</td>\n",
       "      <td>Grumpier Old Men (1995)</td>\n",
       "      <td>Comedy|Romance</td>\n",
       "      <td>1995</td>\n",
       "      <td>1990</td>\n",
       "    </tr>\n",
       "    <tr>\n",
       "      <th>3</th>\n",
       "      <td>4</td>\n",
       "      <td>170</td>\n",
       "      <td>2.729412</td>\n",
       "      <td>Waiting to Exhale (1995)</td>\n",
       "      <td>Comedy|Drama</td>\n",
       "      <td>1995</td>\n",
       "      <td>1990</td>\n",
       "    </tr>\n",
       "    <tr>\n",
       "      <th>4</th>\n",
       "      <td>5</td>\n",
       "      <td>296</td>\n",
       "      <td>3.006757</td>\n",
       "      <td>Father of the Bride Part II (1995)</td>\n",
       "      <td>Comedy</td>\n",
       "      <td>1995</td>\n",
       "      <td>1990</td>\n",
       "    </tr>\n",
       "  </tbody>\n",
       "</table>\n",
       "</div>"
      ],
      "text/plain": [
       "   movie_id  rated_count  rated_mean                               title  \\\n",
       "0         1         2077    4.146846                    Toy Story (1995)   \n",
       "1         2          701    3.201141                      Jumanji (1995)   \n",
       "2         3          478    3.016736             Grumpier Old Men (1995)   \n",
       "3         4          170    2.729412            Waiting to Exhale (1995)   \n",
       "4         5          296    3.006757  Father of the Bride Part II (1995)   \n",
       "\n",
       "                          genre  year year_term  \n",
       "0   Animation|Children's|Comedy  1995      1990  \n",
       "1  Adventure|Children's|Fantasy  1995      1990  \n",
       "2                Comedy|Romance  1995      1990  \n",
       "3                  Comedy|Drama  1995      1990  \n",
       "4                        Comedy  1995      1990  "
      ]
     },
     "execution_count": 36,
     "metadata": {},
     "output_type": "execute_result"
    }
   ],
   "source": [
    "# 100번 이상 평가 받은 영화 중 평균평점이 높은 Top 10의 영화 출력\n",
    "merged_data = movie_groupby_rating_info.merge(movie_data, on=['movie_id'], how='left')\n",
    "merged_data.head()"
   ]
  },
  {
   "cell_type": "code",
   "execution_count": 37,
   "metadata": {},
   "outputs": [
    {
     "data": {
      "text/html": [
       "<div>\n",
       "<style scoped>\n",
       "    .dataframe tbody tr th:only-of-type {\n",
       "        vertical-align: middle;\n",
       "    }\n",
       "\n",
       "    .dataframe tbody tr th {\n",
       "        vertical-align: top;\n",
       "    }\n",
       "\n",
       "    .dataframe thead th {\n",
       "        text-align: right;\n",
       "    }\n",
       "</style>\n",
       "<table border=\"1\" class=\"dataframe\">\n",
       "  <thead>\n",
       "    <tr style=\"text-align: right;\">\n",
       "      <th></th>\n",
       "      <th>rated_mean</th>\n",
       "      <th>title</th>\n",
       "    </tr>\n",
       "  </thead>\n",
       "  <tbody>\n",
       "    <tr>\n",
       "      <th>1839</th>\n",
       "      <td>4.560510</td>\n",
       "      <td>Seven Samurai (The Magnificent Seven) (Shichin...</td>\n",
       "    </tr>\n",
       "    <tr>\n",
       "      <th>309</th>\n",
       "      <td>4.554558</td>\n",
       "      <td>Shawshank Redemption, The (1994)</td>\n",
       "    </tr>\n",
       "    <tr>\n",
       "      <th>802</th>\n",
       "      <td>4.524966</td>\n",
       "      <td>Godfather, The (1972)</td>\n",
       "    </tr>\n",
       "    <tr>\n",
       "      <th>708</th>\n",
       "      <td>4.520548</td>\n",
       "      <td>Close Shave, A (1995)</td>\n",
       "    </tr>\n",
       "    <tr>\n",
       "      <th>49</th>\n",
       "      <td>4.517106</td>\n",
       "      <td>Usual Suspects, The (1995)</td>\n",
       "    </tr>\n",
       "    <tr>\n",
       "      <th>513</th>\n",
       "      <td>4.510417</td>\n",
       "      <td>Schindler's List (1993)</td>\n",
       "    </tr>\n",
       "    <tr>\n",
       "      <th>1066</th>\n",
       "      <td>4.507937</td>\n",
       "      <td>Wrong Trousers, The (1993)</td>\n",
       "    </tr>\n",
       "    <tr>\n",
       "      <th>861</th>\n",
       "      <td>4.491489</td>\n",
       "      <td>Sunset Blvd. (a.k.a. Sunset Boulevard) (1950)</td>\n",
       "    </tr>\n",
       "    <tr>\n",
       "      <th>1108</th>\n",
       "      <td>4.477725</td>\n",
       "      <td>Raiders of the Lost Ark (1981)</td>\n",
       "    </tr>\n",
       "    <tr>\n",
       "      <th>843</th>\n",
       "      <td>4.476190</td>\n",
       "      <td>Rear Window (1954)</td>\n",
       "    </tr>\n",
       "  </tbody>\n",
       "</table>\n",
       "</div>"
      ],
      "text/plain": [
       "      rated_mean                                              title\n",
       "1839    4.560510  Seven Samurai (The Magnificent Seven) (Shichin...\n",
       "309     4.554558                   Shawshank Redemption, The (1994)\n",
       "802     4.524966                              Godfather, The (1972)\n",
       "708     4.520548                              Close Shave, A (1995)\n",
       "49      4.517106                         Usual Suspects, The (1995)\n",
       "513     4.510417                            Schindler's List (1993)\n",
       "1066    4.507937                         Wrong Trousers, The (1993)\n",
       "861     4.491489      Sunset Blvd. (a.k.a. Sunset Boulevard) (1950)\n",
       "1108    4.477725                     Raiders of the Lost Ark (1981)\n",
       "843     4.476190                                 Rear Window (1954)"
      ]
     },
     "execution_count": 37,
     "metadata": {},
     "output_type": "execute_result"
    }
   ],
   "source": [
    "# nlargest(n, 값이 있는 피처) : 가장 큰 값을 n번째까지 구해주는 함수\n",
    "merged_data[merged_data['rated_count']>100][\n",
    "    ['rated_mean', 'title']].nlargest(10, 'rated_mean') # nlargest : 큰 순서대로 n개"
   ]
  },
  {
   "cell_type": "markdown",
   "metadata": {},
   "source": [
    "### 영화 평점 예측 - 추천시스템 알고리즘\n",
    "- 이미지, 영상 인식\n",
    "- 소리 인식\n",
    "- 사기방지\n",
    "- 이상감지\n",
    "- 침입탐지\n",
    "- 환자진단\n",
    "- 재고 최적화\n",
    "- 수요 예측\n",
    "- 추천시스템 : CF(Collaborative Filtering 상품기반(협업필터링) - 소모성물건 추천),\n",
    "               CB(Content-Based Filtering 내용기반),\n",
    "               KB(Knowledge-Based Filtering 지식기반)"
   ]
  },
  {
   "cell_type": "raw",
   "metadata": {},
   "source": [
    "SVD,, 행렬로 만들어 내는 방식,,\n",
    "행렬 분해 방식으로 별도의 행렬을 만들어서,, 추천해주는,,"
   ]
  },
  {
   "cell_type": "code",
   "execution_count": 38,
   "metadata": {},
   "outputs": [
    {
     "data": {
      "text/html": [
       "<div>\n",
       "<style scoped>\n",
       "    .dataframe tbody tr th:only-of-type {\n",
       "        vertical-align: middle;\n",
       "    }\n",
       "\n",
       "    .dataframe tbody tr th {\n",
       "        vertical-align: top;\n",
       "    }\n",
       "\n",
       "    .dataframe thead th {\n",
       "        text-align: right;\n",
       "    }\n",
       "</style>\n",
       "<table border=\"1\" class=\"dataframe\">\n",
       "  <thead>\n",
       "    <tr style=\"text-align: right;\">\n",
       "      <th></th>\n",
       "      <th>user_id</th>\n",
       "      <th>movie_id</th>\n",
       "      <th>rating</th>\n",
       "      <th>time</th>\n",
       "    </tr>\n",
       "  </thead>\n",
       "  <tbody>\n",
       "    <tr>\n",
       "      <th>0</th>\n",
       "      <td>1</td>\n",
       "      <td>1193</td>\n",
       "      <td>5</td>\n",
       "      <td>978300760</td>\n",
       "    </tr>\n",
       "    <tr>\n",
       "      <th>1</th>\n",
       "      <td>1</td>\n",
       "      <td>661</td>\n",
       "      <td>3</td>\n",
       "      <td>978302109</td>\n",
       "    </tr>\n",
       "    <tr>\n",
       "      <th>2</th>\n",
       "      <td>1</td>\n",
       "      <td>914</td>\n",
       "      <td>3</td>\n",
       "      <td>978301968</td>\n",
       "    </tr>\n",
       "    <tr>\n",
       "      <th>3</th>\n",
       "      <td>1</td>\n",
       "      <td>3408</td>\n",
       "      <td>4</td>\n",
       "      <td>978300275</td>\n",
       "    </tr>\n",
       "    <tr>\n",
       "      <th>4</th>\n",
       "      <td>1</td>\n",
       "      <td>2355</td>\n",
       "      <td>5</td>\n",
       "      <td>978824291</td>\n",
       "    </tr>\n",
       "  </tbody>\n",
       "</table>\n",
       "</div>"
      ],
      "text/plain": [
       "   user_id  movie_id  rating       time\n",
       "0        1      1193       5  978300760\n",
       "1        1       661       3  978302109\n",
       "2        1       914       3  978301968\n",
       "3        1      3408       4  978300275\n",
       "4        1      2355       5  978824291"
      ]
     },
     "execution_count": 38,
     "metadata": {},
     "output_type": "execute_result"
    }
   ],
   "source": [
    "rating_data.head()"
   ]
  },
  {
   "cell_type": "raw",
   "metadata": {},
   "source": [
    "            --------------------------\n",
    "            |ㅁㅁㅁㅁㅁㅁㅁㅁㅁㅁㅁㅁ|\n",
    "            |ㅁㅁㅁㅁㅁㅁㅁㅁㅁㅁㅁㅁ|\n",
    "            |ㅁㅁㅁㅁㅁㅁㅁㅁㅁㅁㅁㅁ|\n",
    "  user_id   |ㅁㅁㅁㅁㅁㅁㅁㅁㅁㅁㅁㅁ|\n",
    "            |ㅁㅁㅁㅁㅁㅁㅁㅁㅁㅁㅁㅁ|\n",
    "            |ㅁㅁㅁㅁㅁㅁㅁㅁㅁㅁㅁㅁ|\n",
    "            --------------------------\n",
    "                     movie_id"
   ]
  },
  {
   "cell_type": "code",
   "execution_count": 39,
   "metadata": {},
   "outputs": [
    {
     "data": {
      "text/html": [
       "<div>\n",
       "<style scoped>\n",
       "    .dataframe tbody tr th:only-of-type {\n",
       "        vertical-align: middle;\n",
       "    }\n",
       "\n",
       "    .dataframe tbody tr th {\n",
       "        vertical-align: top;\n",
       "    }\n",
       "\n",
       "    .dataframe thead tr th {\n",
       "        text-align: left;\n",
       "    }\n",
       "\n",
       "    .dataframe thead tr:last-of-type th {\n",
       "        text-align: right;\n",
       "    }\n",
       "</style>\n",
       "<table border=\"1\" class=\"dataframe\">\n",
       "  <thead>\n",
       "    <tr>\n",
       "      <th></th>\n",
       "      <th colspan=\"21\" halign=\"left\">rating</th>\n",
       "    </tr>\n",
       "    <tr>\n",
       "      <th>movie_id</th>\n",
       "      <th>1</th>\n",
       "      <th>2</th>\n",
       "      <th>3</th>\n",
       "      <th>4</th>\n",
       "      <th>5</th>\n",
       "      <th>6</th>\n",
       "      <th>7</th>\n",
       "      <th>8</th>\n",
       "      <th>9</th>\n",
       "      <th>10</th>\n",
       "      <th>...</th>\n",
       "      <th>3943</th>\n",
       "      <th>3944</th>\n",
       "      <th>3945</th>\n",
       "      <th>3946</th>\n",
       "      <th>3947</th>\n",
       "      <th>3948</th>\n",
       "      <th>3949</th>\n",
       "      <th>3950</th>\n",
       "      <th>3951</th>\n",
       "      <th>3952</th>\n",
       "    </tr>\n",
       "    <tr>\n",
       "      <th>user_id</th>\n",
       "      <th></th>\n",
       "      <th></th>\n",
       "      <th></th>\n",
       "      <th></th>\n",
       "      <th></th>\n",
       "      <th></th>\n",
       "      <th></th>\n",
       "      <th></th>\n",
       "      <th></th>\n",
       "      <th></th>\n",
       "      <th></th>\n",
       "      <th></th>\n",
       "      <th></th>\n",
       "      <th></th>\n",
       "      <th></th>\n",
       "      <th></th>\n",
       "      <th></th>\n",
       "      <th></th>\n",
       "      <th></th>\n",
       "      <th></th>\n",
       "      <th></th>\n",
       "    </tr>\n",
       "  </thead>\n",
       "  <tbody>\n",
       "    <tr>\n",
       "      <th>6031</th>\n",
       "      <td>NaN</td>\n",
       "      <td>NaN</td>\n",
       "      <td>NaN</td>\n",
       "      <td>NaN</td>\n",
       "      <td>NaN</td>\n",
       "      <td>NaN</td>\n",
       "      <td>NaN</td>\n",
       "      <td>5.0</td>\n",
       "      <td>NaN</td>\n",
       "      <td>NaN</td>\n",
       "      <td>...</td>\n",
       "      <td>NaN</td>\n",
       "      <td>NaN</td>\n",
       "      <td>NaN</td>\n",
       "      <td>NaN</td>\n",
       "      <td>NaN</td>\n",
       "      <td>NaN</td>\n",
       "      <td>NaN</td>\n",
       "      <td>NaN</td>\n",
       "      <td>NaN</td>\n",
       "      <td>NaN</td>\n",
       "    </tr>\n",
       "    <tr>\n",
       "      <th>6032</th>\n",
       "      <td>4.0</td>\n",
       "      <td>NaN</td>\n",
       "      <td>NaN</td>\n",
       "      <td>NaN</td>\n",
       "      <td>NaN</td>\n",
       "      <td>NaN</td>\n",
       "      <td>NaN</td>\n",
       "      <td>NaN</td>\n",
       "      <td>NaN</td>\n",
       "      <td>NaN</td>\n",
       "      <td>...</td>\n",
       "      <td>NaN</td>\n",
       "      <td>NaN</td>\n",
       "      <td>NaN</td>\n",
       "      <td>NaN</td>\n",
       "      <td>NaN</td>\n",
       "      <td>NaN</td>\n",
       "      <td>NaN</td>\n",
       "      <td>NaN</td>\n",
       "      <td>NaN</td>\n",
       "      <td>NaN</td>\n",
       "    </tr>\n",
       "    <tr>\n",
       "      <th>6033</th>\n",
       "      <td>NaN</td>\n",
       "      <td>NaN</td>\n",
       "      <td>NaN</td>\n",
       "      <td>NaN</td>\n",
       "      <td>NaN</td>\n",
       "      <td>NaN</td>\n",
       "      <td>NaN</td>\n",
       "      <td>NaN</td>\n",
       "      <td>NaN</td>\n",
       "      <td>NaN</td>\n",
       "      <td>...</td>\n",
       "      <td>NaN</td>\n",
       "      <td>NaN</td>\n",
       "      <td>NaN</td>\n",
       "      <td>NaN</td>\n",
       "      <td>NaN</td>\n",
       "      <td>NaN</td>\n",
       "      <td>NaN</td>\n",
       "      <td>NaN</td>\n",
       "      <td>NaN</td>\n",
       "      <td>NaN</td>\n",
       "    </tr>\n",
       "    <tr>\n",
       "      <th>6034</th>\n",
       "      <td>NaN</td>\n",
       "      <td>NaN</td>\n",
       "      <td>NaN</td>\n",
       "      <td>NaN</td>\n",
       "      <td>NaN</td>\n",
       "      <td>NaN</td>\n",
       "      <td>NaN</td>\n",
       "      <td>NaN</td>\n",
       "      <td>NaN</td>\n",
       "      <td>NaN</td>\n",
       "      <td>...</td>\n",
       "      <td>NaN</td>\n",
       "      <td>NaN</td>\n",
       "      <td>NaN</td>\n",
       "      <td>NaN</td>\n",
       "      <td>NaN</td>\n",
       "      <td>NaN</td>\n",
       "      <td>NaN</td>\n",
       "      <td>NaN</td>\n",
       "      <td>NaN</td>\n",
       "      <td>NaN</td>\n",
       "    </tr>\n",
       "    <tr>\n",
       "      <th>6035</th>\n",
       "      <td>4.0</td>\n",
       "      <td>NaN</td>\n",
       "      <td>1.0</td>\n",
       "      <td>2.0</td>\n",
       "      <td>1.0</td>\n",
       "      <td>NaN</td>\n",
       "      <td>3.0</td>\n",
       "      <td>NaN</td>\n",
       "      <td>NaN</td>\n",
       "      <td>NaN</td>\n",
       "      <td>...</td>\n",
       "      <td>NaN</td>\n",
       "      <td>NaN</td>\n",
       "      <td>NaN</td>\n",
       "      <td>NaN</td>\n",
       "      <td>NaN</td>\n",
       "      <td>NaN</td>\n",
       "      <td>NaN</td>\n",
       "      <td>NaN</td>\n",
       "      <td>NaN</td>\n",
       "      <td>NaN</td>\n",
       "    </tr>\n",
       "    <tr>\n",
       "      <th>6036</th>\n",
       "      <td>NaN</td>\n",
       "      <td>NaN</td>\n",
       "      <td>NaN</td>\n",
       "      <td>2.0</td>\n",
       "      <td>NaN</td>\n",
       "      <td>3.0</td>\n",
       "      <td>NaN</td>\n",
       "      <td>NaN</td>\n",
       "      <td>NaN</td>\n",
       "      <td>NaN</td>\n",
       "      <td>...</td>\n",
       "      <td>NaN</td>\n",
       "      <td>NaN</td>\n",
       "      <td>NaN</td>\n",
       "      <td>NaN</td>\n",
       "      <td>NaN</td>\n",
       "      <td>NaN</td>\n",
       "      <td>NaN</td>\n",
       "      <td>NaN</td>\n",
       "      <td>NaN</td>\n",
       "      <td>NaN</td>\n",
       "    </tr>\n",
       "    <tr>\n",
       "      <th>6037</th>\n",
       "      <td>NaN</td>\n",
       "      <td>NaN</td>\n",
       "      <td>NaN</td>\n",
       "      <td>NaN</td>\n",
       "      <td>NaN</td>\n",
       "      <td>NaN</td>\n",
       "      <td>NaN</td>\n",
       "      <td>NaN</td>\n",
       "      <td>NaN</td>\n",
       "      <td>NaN</td>\n",
       "      <td>...</td>\n",
       "      <td>NaN</td>\n",
       "      <td>NaN</td>\n",
       "      <td>NaN</td>\n",
       "      <td>NaN</td>\n",
       "      <td>NaN</td>\n",
       "      <td>NaN</td>\n",
       "      <td>NaN</td>\n",
       "      <td>NaN</td>\n",
       "      <td>NaN</td>\n",
       "      <td>NaN</td>\n",
       "    </tr>\n",
       "    <tr>\n",
       "      <th>6038</th>\n",
       "      <td>NaN</td>\n",
       "      <td>NaN</td>\n",
       "      <td>NaN</td>\n",
       "      <td>NaN</td>\n",
       "      <td>NaN</td>\n",
       "      <td>NaN</td>\n",
       "      <td>NaN</td>\n",
       "      <td>NaN</td>\n",
       "      <td>NaN</td>\n",
       "      <td>NaN</td>\n",
       "      <td>...</td>\n",
       "      <td>NaN</td>\n",
       "      <td>NaN</td>\n",
       "      <td>NaN</td>\n",
       "      <td>NaN</td>\n",
       "      <td>NaN</td>\n",
       "      <td>NaN</td>\n",
       "      <td>NaN</td>\n",
       "      <td>NaN</td>\n",
       "      <td>NaN</td>\n",
       "      <td>NaN</td>\n",
       "    </tr>\n",
       "    <tr>\n",
       "      <th>6039</th>\n",
       "      <td>NaN</td>\n",
       "      <td>NaN</td>\n",
       "      <td>NaN</td>\n",
       "      <td>NaN</td>\n",
       "      <td>NaN</td>\n",
       "      <td>NaN</td>\n",
       "      <td>NaN</td>\n",
       "      <td>NaN</td>\n",
       "      <td>NaN</td>\n",
       "      <td>NaN</td>\n",
       "      <td>...</td>\n",
       "      <td>NaN</td>\n",
       "      <td>NaN</td>\n",
       "      <td>NaN</td>\n",
       "      <td>NaN</td>\n",
       "      <td>NaN</td>\n",
       "      <td>NaN</td>\n",
       "      <td>NaN</td>\n",
       "      <td>NaN</td>\n",
       "      <td>NaN</td>\n",
       "      <td>NaN</td>\n",
       "    </tr>\n",
       "    <tr>\n",
       "      <th>6040</th>\n",
       "      <td>3.0</td>\n",
       "      <td>NaN</td>\n",
       "      <td>NaN</td>\n",
       "      <td>NaN</td>\n",
       "      <td>NaN</td>\n",
       "      <td>NaN</td>\n",
       "      <td>NaN</td>\n",
       "      <td>NaN</td>\n",
       "      <td>NaN</td>\n",
       "      <td>NaN</td>\n",
       "      <td>...</td>\n",
       "      <td>NaN</td>\n",
       "      <td>NaN</td>\n",
       "      <td>NaN</td>\n",
       "      <td>NaN</td>\n",
       "      <td>NaN</td>\n",
       "      <td>NaN</td>\n",
       "      <td>NaN</td>\n",
       "      <td>NaN</td>\n",
       "      <td>NaN</td>\n",
       "      <td>NaN</td>\n",
       "    </tr>\n",
       "  </tbody>\n",
       "</table>\n",
       "<p>10 rows × 3706 columns</p>\n",
       "</div>"
      ],
      "text/plain": [
       "         rating                                               ...            \\\n",
       "movie_id   1    2    3    4    5    6    7    8    9    10    ... 3943 3944   \n",
       "user_id                                                       ...             \n",
       "6031        NaN  NaN  NaN  NaN  NaN  NaN  NaN  5.0  NaN  NaN  ...  NaN  NaN   \n",
       "6032        4.0  NaN  NaN  NaN  NaN  NaN  NaN  NaN  NaN  NaN  ...  NaN  NaN   \n",
       "6033        NaN  NaN  NaN  NaN  NaN  NaN  NaN  NaN  NaN  NaN  ...  NaN  NaN   \n",
       "6034        NaN  NaN  NaN  NaN  NaN  NaN  NaN  NaN  NaN  NaN  ...  NaN  NaN   \n",
       "6035        4.0  NaN  1.0  2.0  1.0  NaN  3.0  NaN  NaN  NaN  ...  NaN  NaN   \n",
       "6036        NaN  NaN  NaN  2.0  NaN  3.0  NaN  NaN  NaN  NaN  ...  NaN  NaN   \n",
       "6037        NaN  NaN  NaN  NaN  NaN  NaN  NaN  NaN  NaN  NaN  ...  NaN  NaN   \n",
       "6038        NaN  NaN  NaN  NaN  NaN  NaN  NaN  NaN  NaN  NaN  ...  NaN  NaN   \n",
       "6039        NaN  NaN  NaN  NaN  NaN  NaN  NaN  NaN  NaN  NaN  ...  NaN  NaN   \n",
       "6040        3.0  NaN  NaN  NaN  NaN  NaN  NaN  NaN  NaN  NaN  ...  NaN  NaN   \n",
       "\n",
       "                                                  \n",
       "movie_id 3945 3946 3947 3948 3949 3950 3951 3952  \n",
       "user_id                                           \n",
       "6031      NaN  NaN  NaN  NaN  NaN  NaN  NaN  NaN  \n",
       "6032      NaN  NaN  NaN  NaN  NaN  NaN  NaN  NaN  \n",
       "6033      NaN  NaN  NaN  NaN  NaN  NaN  NaN  NaN  \n",
       "6034      NaN  NaN  NaN  NaN  NaN  NaN  NaN  NaN  \n",
       "6035      NaN  NaN  NaN  NaN  NaN  NaN  NaN  NaN  \n",
       "6036      NaN  NaN  NaN  NaN  NaN  NaN  NaN  NaN  \n",
       "6037      NaN  NaN  NaN  NaN  NaN  NaN  NaN  NaN  \n",
       "6038      NaN  NaN  NaN  NaN  NaN  NaN  NaN  NaN  \n",
       "6039      NaN  NaN  NaN  NaN  NaN  NaN  NaN  NaN  \n",
       "6040      NaN  NaN  NaN  NaN  NaN  NaN  NaN  NaN  \n",
       "\n",
       "[10 rows x 3706 columns]"
      ]
     },
     "execution_count": 39,
     "metadata": {},
     "output_type": "execute_result"
    }
   ],
   "source": [
    "rating_table = rating_data[\n",
    "    ['user_id', 'movie_id', 'rating']].set_index(['user_id', 'movie_id']).unstack()\n",
    "rating_table.tail(10)"
   ]
  },
  {
   "cell_type": "code",
   "execution_count": 40,
   "metadata": {},
   "outputs": [
    {
     "data": {
      "image/png": "[encoded data removed]",
      "text/plain": [
       "<Figure size 720x720 with 1 Axes>"
      ]
     },
     "metadata": {
      "needs_background": "light"
     },
     "output_type": "display_data"
    }
   ],
   "source": [
    "plt.rcParams['figure.figsize'] = [10, 10]\n",
    "plt.imshow(rating_table)  # imshow 이미지 그대로,,\n",
    "\n",
    "plt.grid(False)\n",
    "plt.xlabel('Movie')\n",
    "plt.ylabel('User')\n",
    "plt.show()             # 비워져있는거 채우기 -> SVD"
   ]
  },
  {
   "cell_type": "raw",
   "metadata": {},
   "source": [
    "아나콘다 파워셀 관리자\n",
    "conda install -c conda-forge scikit-surprise\n",
    "참고 - https://stackoverflow.com/questions/62042317/"
   ]
  },
  {
   "cell_type": "raw",
   "metadata": {},
   "source": [
    "1. 평점의 범위 잡음\n",
    "2. 레이팅을 행렬로 변환 ,,, 모델 만들고 학습시킴\n",
    "3. 추천"
   ]
  },
  {
   "cell_type": "markdown",
   "metadata": {},
   "source": [
    "### SVD를 활용한 추천시스템"
   ]
  },
  {
   "cell_type": "raw",
   "metadata": {},
   "source": [
    "https://surprise.readthedocs.io/en/stable/matrix_factorization.html#surprise.prediction_algorithms.matrix_factorization.SVD"
   ]
  },
  {
   "cell_type": "code",
   "execution_count": 41,
   "metadata": {},
   "outputs": [],
   "source": [
    "# SVD - 행렬의 곱을 이용하여 값을 채움\n",
    "from surprise import SVD, Dataset, Reader, accuracy #(정확도,정교화)\n",
    "from surprise.model_selection import train_test_split  # 트레인과 테스트로 쪼갬\n",
    "\n",
    "# https://runebook.dev/ko/docs/numpy/reference/generated/numpy.se....\n",
    "np.set_printoptions(suppress=True) # 부동소수점으로 인쇄 -> 정밀도 높임\n",
    "\n",
    "reader = Reader(rating_scale=(1,5))"
   ]
  },
  {
   "cell_type": "code",
   "execution_count": 42,
   "metadata": {},
   "outputs": [
    {
     "data": {
      "text/html": [
       "<div>\n",
       "<style scoped>\n",
       "    .dataframe tbody tr th:only-of-type {\n",
       "        vertical-align: middle;\n",
       "    }\n",
       "\n",
       "    .dataframe tbody tr th {\n",
       "        vertical-align: top;\n",
       "    }\n",
       "\n",
       "    .dataframe thead th {\n",
       "        text-align: right;\n",
       "    }\n",
       "</style>\n",
       "<table border=\"1\" class=\"dataframe\">\n",
       "  <thead>\n",
       "    <tr style=\"text-align: right;\">\n",
       "      <th></th>\n",
       "      <th>item_id</th>\n",
       "      <th>user_id</th>\n",
       "      <th>rating</th>\n",
       "    </tr>\n",
       "  </thead>\n",
       "  <tbody>\n",
       "    <tr>\n",
       "      <th>0</th>\n",
       "      <td>1</td>\n",
       "      <td>a</td>\n",
       "      <td>2</td>\n",
       "    </tr>\n",
       "    <tr>\n",
       "      <th>1</th>\n",
       "      <td>2</td>\n",
       "      <td>a</td>\n",
       "      <td>4</td>\n",
       "    </tr>\n",
       "    <tr>\n",
       "      <th>2</th>\n",
       "      <td>3</td>\n",
       "      <td>a</td>\n",
       "      <td>4</td>\n",
       "    </tr>\n",
       "    <tr>\n",
       "      <th>3</th>\n",
       "      <td>1</td>\n",
       "      <td>b</td>\n",
       "      <td>2</td>\n",
       "    </tr>\n",
       "    <tr>\n",
       "      <th>4</th>\n",
       "      <td>2</td>\n",
       "      <td>b</td>\n",
       "      <td>5</td>\n",
       "    </tr>\n",
       "    <tr>\n",
       "      <th>5</th>\n",
       "      <td>3</td>\n",
       "      <td>b</td>\n",
       "      <td>4</td>\n",
       "    </tr>\n",
       "    <tr>\n",
       "      <th>6</th>\n",
       "      <td>2</td>\n",
       "      <td>c</td>\n",
       "      <td>5</td>\n",
       "    </tr>\n",
       "  </tbody>\n",
       "</table>\n",
       "</div>"
      ],
      "text/plain": [
       "   item_id user_id  rating\n",
       "0        1       a       2\n",
       "1        2       a       4\n",
       "2        3       a       4\n",
       "3        1       b       2\n",
       "4        2       b       5\n",
       "5        3       b       4\n",
       "6        2       c       5"
      ]
     },
     "execution_count": 42,
     "metadata": {},
     "output_type": "execute_result"
    }
   ],
   "source": [
    "# 데이터프레임 생성\n",
    "ratings_dict = {'item_id':[1,2,3,1,2,3,2],\n",
    "              'user_id':['a','a','a','b','b','b','c'],\n",
    "              'rating':[2,4,4,2,5,4,5]}\n",
    "df = pd.DataFrame(ratings_dict)\n",
    "df"
   ]
  },
  {
   "cell_type": "code",
   "execution_count": 43,
   "metadata": {},
   "outputs": [
    {
     "data": {
      "text/html": [
       "<div>\n",
       "<style scoped>\n",
       "    .dataframe tbody tr th:only-of-type {\n",
       "        vertical-align: middle;\n",
       "    }\n",
       "\n",
       "    .dataframe tbody tr th {\n",
       "        vertical-align: top;\n",
       "    }\n",
       "\n",
       "    .dataframe thead tr th {\n",
       "        text-align: left;\n",
       "    }\n",
       "\n",
       "    .dataframe thead tr:last-of-type th {\n",
       "        text-align: right;\n",
       "    }\n",
       "</style>\n",
       "<table border=\"1\" class=\"dataframe\">\n",
       "  <thead>\n",
       "    <tr>\n",
       "      <th></th>\n",
       "      <th colspan=\"3\" halign=\"left\">rating</th>\n",
       "    </tr>\n",
       "    <tr>\n",
       "      <th>item_id</th>\n",
       "      <th>1</th>\n",
       "      <th>2</th>\n",
       "      <th>3</th>\n",
       "    </tr>\n",
       "    <tr>\n",
       "      <th>user_id</th>\n",
       "      <th></th>\n",
       "      <th></th>\n",
       "      <th></th>\n",
       "    </tr>\n",
       "  </thead>\n",
       "  <tbody>\n",
       "    <tr>\n",
       "      <th>a</th>\n",
       "      <td>2.0</td>\n",
       "      <td>4.0</td>\n",
       "      <td>4.0</td>\n",
       "    </tr>\n",
       "    <tr>\n",
       "      <th>b</th>\n",
       "      <td>2.0</td>\n",
       "      <td>5.0</td>\n",
       "      <td>4.0</td>\n",
       "    </tr>\n",
       "    <tr>\n",
       "      <th>c</th>\n",
       "      <td>NaN</td>\n",
       "      <td>5.0</td>\n",
       "      <td>NaN</td>\n",
       "    </tr>\n",
       "  </tbody>\n",
       "</table>\n",
       "</div>"
      ],
      "text/plain": [
       "        rating          \n",
       "item_id      1    2    3\n",
       "user_id                 \n",
       "a          2.0  4.0  4.0\n",
       "b          2.0  5.0  4.0\n",
       "c          NaN  5.0  NaN"
      ]
     },
     "execution_count": 43,
     "metadata": {},
     "output_type": "execute_result"
    }
   ],
   "source": [
    "# 데이터 프레임을 행렬로 변환하여 확인\n",
    "df_matrix_table = df[['user_id', 'item_id', 'rating']].set_index(\n",
    "    ['user_id', 'item_id']).unstack()\n",
    "df_matrix_table"
   ]
  },
  {
   "cell_type": "code",
   "execution_count": 44,
   "metadata": {},
   "outputs": [],
   "source": [
    "# SVD 사용을 위한 데이터셋을 생성\n",
    "data = Dataset.load_from_df(df=df[['user_id', 'item_id', 'rating']], # Dataset - SVD를 만드는 클래스\n",
    "                           reader=reader)     \n",
    "train_data = data.build_full_trainset()"
   ]
  },
  {
   "cell_type": "code",
   "execution_count": 45,
   "metadata": {},
   "outputs": [
    {
     "data": {
      "text/plain": [
       "<surprise.prediction_algorithms.matrix_factorization.SVD at 0x15503559128>"
      ]
     },
     "execution_count": 45,
     "metadata": {},
     "output_type": "execute_result"
    }
   ],
   "source": [
    "model = SVD(n_factors = 8,   # 요소의 수\n",
    "           lr_all = 0.005,\n",
    "           reg_all = 0.02,\n",
    "           n_epochs = 10)\n",
    "\n",
    "model.fit(train_data)"
   ]
  },
  {
   "cell_type": "code",
   "execution_count": 46,
   "metadata": {},
   "outputs": [
    {
     "name": "stdout",
     "output_type": "stream",
     "text": [
      "Item id :  1 , predicted rating :  3.5828843398962844\n",
      "Item id :  3 , predicted rating :  3.8150455578515357\n"
     ]
    }
   ],
   "source": [
    "# build_anti_testset()   => 일부분 채움    // cf. build_full_trainset => 전체 채움\n",
    "# 학습에 사용된 matrix에 0으로 평가되어있는(비어있는) 부분의 데이터를\n",
    "# 또다른 user 혹은 item으로 학습을 시켜 채움\n",
    "test_data = train_data.build_anti_testset()\n",
    "predictions = model.test(test_data)\n",
    "\n",
    "for _, lid, _, predicted_rating, _ in predictions:\n",
    "    print('Item id : ', lid, ', predicted rating : ', predicted_rating)"
   ]
  },
  {
   "cell_type": "raw",
   "metadata": {},
   "source": [
    "학습 : fit   모델 생성\n",
    "예측 : predic() 예측하고싶은 특정 값을 가지고 예측\n",
    "       test() 모든 데이터를 이용해서 예측"
   ]
  },
  {
   "cell_type": "code",
   "execution_count": null,
   "metadata": {},
   "outputs": [],
   "source": []
  },
  {
   "cell_type": "code",
   "execution_count": 47,
   "metadata": {},
   "outputs": [],
   "source": [
    "# 학습데이터\n",
    "reader = Reader(rating_scale=(1, 5))\n",
    "data = Dataset.load_from_df(rating_data[['user_id', 'movie_id', 'rating']], reader)\n",
    "train_data = data.build_full_trainset()"
   ]
  },
  {
   "cell_type": "raw",
   "metadata": {},
   "source": [
    "https://surprise.readthedocs.io"
   ]
  },
  {
   "cell_type": "code",
   "execution_count": 48,
   "metadata": {},
   "outputs": [
    {
     "name": "stdout",
     "output_type": "stream",
     "text": [
      "80.42942714691162\n"
     ]
    }
   ],
   "source": [
    "# SVD 모델 학습\n",
    "import time\n",
    "\n",
    "train_start = time.time()\n",
    "\n",
    "model = SVD(n_factors = 8,   # 요소의 수\n",
    "           lr_all = 0.005,\n",
    "           reg_all = 0.02,\n",
    "           n_epochs = 100)\n",
    "\n",
    "model.fit(train_data)\n",
    "\n",
    "train_end = time.time()\n",
    "print(train_end-train_start)  # 학습시간"
   ]
  },
  {
   "cell_type": "code",
   "execution_count": 49,
   "metadata": {},
   "outputs": [
    {
     "data": {
      "text/html": [
       "<div>\n",
       "<style scoped>\n",
       "    .dataframe tbody tr th:only-of-type {\n",
       "        vertical-align: middle;\n",
       "    }\n",
       "\n",
       "    .dataframe tbody tr th {\n",
       "        vertical-align: top;\n",
       "    }\n",
       "\n",
       "    .dataframe thead th {\n",
       "        text-align: right;\n",
       "    }\n",
       "</style>\n",
       "<table border=\"1\" class=\"dataframe\">\n",
       "  <thead>\n",
       "    <tr style=\"text-align: right;\">\n",
       "      <th></th>\n",
       "      <th>user_id</th>\n",
       "      <th>movie_id</th>\n",
       "      <th>rating</th>\n",
       "      <th>time</th>\n",
       "    </tr>\n",
       "  </thead>\n",
       "  <tbody>\n",
       "    <tr>\n",
       "      <th>233</th>\n",
       "      <td>4</td>\n",
       "      <td>3468</td>\n",
       "      <td>5</td>\n",
       "      <td>978294008</td>\n",
       "    </tr>\n",
       "    <tr>\n",
       "      <th>234</th>\n",
       "      <td>4</td>\n",
       "      <td>1210</td>\n",
       "      <td>3</td>\n",
       "      <td>978293924</td>\n",
       "    </tr>\n",
       "    <tr>\n",
       "      <th>235</th>\n",
       "      <td>4</td>\n",
       "      <td>2951</td>\n",
       "      <td>4</td>\n",
       "      <td>978294282</td>\n",
       "    </tr>\n",
       "    <tr>\n",
       "      <th>236</th>\n",
       "      <td>4</td>\n",
       "      <td>1214</td>\n",
       "      <td>4</td>\n",
       "      <td>978294260</td>\n",
       "    </tr>\n",
       "    <tr>\n",
       "      <th>237</th>\n",
       "      <td>4</td>\n",
       "      <td>1036</td>\n",
       "      <td>4</td>\n",
       "      <td>978294282</td>\n",
       "    </tr>\n",
       "  </tbody>\n",
       "</table>\n",
       "</div>"
      ],
      "text/plain": [
       "     user_id  movie_id  rating       time\n",
       "233        4      3468       5  978294008\n",
       "234        4      1210       3  978293924\n",
       "235        4      2951       4  978294282\n",
       "236        4      1214       4  978294260\n",
       "237        4      1036       4  978294282"
      ]
     },
     "execution_count": 49,
     "metadata": {},
     "output_type": "execute_result"
    }
   ],
   "source": [
    "# 영화의 평점을 예측할 타겟이 되는 유저\n",
    "target_user_id = 4             # 4번유저\n",
    "target_user_data = rating_data[rating_data['user_id']==target_user_id]\n",
    "target_user_data.head()"
   ]
  },
  {
   "cell_type": "code",
   "execution_count": 50,
   "metadata": {},
   "outputs": [
    {
     "data": {
      "text/plain": [
       "{3468: 5,\n",
       " 1210: 3,\n",
       " 2951: 4,\n",
       " 1214: 4,\n",
       " 1036: 4,\n",
       " 260: 5,\n",
       " 2028: 5,\n",
       " 480: 4,\n",
       " 1196: 2,\n",
       " 1198: 5,\n",
       " 1954: 5,\n",
       " 1097: 4,\n",
       " 3418: 4,\n",
       " 3702: 4,\n",
       " 2366: 4,\n",
       " 1387: 5,\n",
       " 3527: 1,\n",
       " 1201: 5,\n",
       " 2692: 5,\n",
       " 2947: 5,\n",
       " 1240: 5}"
      ]
     },
     "execution_count": 50,
     "metadata": {},
     "output_type": "execute_result"
    }
   ],
   "source": [
    "# 딕셔너리 형태로 보기 -> 영화번호: 평점\n",
    "target_user_movie_rating_dict = {}\n",
    "\n",
    "for index, row in target_user_data.iterrows():    # iterrow() 행단위로 읽어오기\n",
    "    movie_id = row['movie_id']\n",
    "    target_user_movie_rating_dict[movie_id] = row['rating']\n",
    "target_user_movie_rating_dict"
   ]
  },
  {
   "cell_type": "code",
   "execution_count": 51,
   "metadata": {},
   "outputs": [
    {
     "data": {
      "text/plain": [
       "3862"
      ]
     },
     "execution_count": 51,
     "metadata": {},
     "output_type": "execute_result"
    }
   ],
   "source": [
    "# 4번 유저가 보지 않은 영화들 중 (예상)평점이 높은 영화 10개 추출\n",
    "\n",
    "# 4번 유저가 보지 않은 영화의 정보를 테스트 데이터로 생성\n",
    "test_data = []\n",
    "\n",
    "for index, row in movie_data.iterrows():\n",
    "    movie_id = row['movie_id']\n",
    "    rating = 0\n",
    "    if movie_id in target_user_movie_rating_dict:\n",
    "        continue\n",
    "    test_data.append((target_user_id, movie_id, rating))\n",
    "    \n",
    "len(test_data)"
   ]
  },
  {
   "cell_type": "code",
   "execution_count": 52,
   "metadata": {},
   "outputs": [],
   "source": [
    "# 타겟 유저(4번)의 평점 점수를 예측\n",
    "target_user_predictions = model.test(test_data)"
   ]
  },
  {
   "cell_type": "code",
   "execution_count": 53,
   "metadata": {},
   "outputs": [],
   "source": [
    "# 예측된 점수 중에서 타겟 유저의 영화별 점수를 target_user_movie_predict_dict로 저장\n",
    "def get_user_predicted_ratings(predictions, user_id, user_history):\n",
    "    target_user_movie_predict_dict = {}\n",
    "    \n",
    "    for uid, mid, rating, predicted_rating, _ in predictions:  # uid 유저, mid 영화\n",
    "        if user_id == uid:\n",
    "            if mid not in user_history:\n",
    "                target_user_movie_predict_dict[mid] = predicted_rating\n",
    "    return target_user_movie_predict_dict\n",
    "        \n",
    "target_user_movie_predict_dict = get_user_predicted_ratings(\n",
    "    predictions=target_user_predictions, \n",
    "    user_id=target_user_id, \n",
    "    user_history=target_user_movie_rating_dict)"
   ]
  },
  {
   "cell_type": "code",
   "execution_count": 59,
   "metadata": {},
   "outputs": [
    {
     "data": {
      "text/plain": [
       "[(53, 5),\n",
       " (214, 5),\n",
       " (602, 5),\n",
       " (615, 5),\n",
       " (669, 5),\n",
       " (750, 5),\n",
       " (858, 5),\n",
       " (904, 5),\n",
       " (908, 5),\n",
       " (910, 5)]"
      ]
     },
     "execution_count": 59,
     "metadata": {},
     "output_type": "execute_result"
    }
   ],
   "source": [
    "# target_user_movie_predict_dict 예측된 점수를 이용해서 타겟 유저에게 ...\n",
    "import operator\n",
    "\n",
    "target_user_top10_predicted = sorted(\n",
    "    target_user_movie_predict_dict.items(),\n",
    "    key=operator.itemgetter(1), reverse=True)[:10]  # 1 -> 평점부분 / 평점 기준으로 높은거 추천\n",
    "target_user_top10_predicted"
   ]
  },
  {
   "cell_type": "code",
   "execution_count": 61,
   "metadata": {},
   "outputs": [
    {
     "name": "stdout",
     "output_type": "stream",
     "text": [
      "Lamerica (1994)  :  5\n",
      "Before the Rain (Pred dozhdot) (1994)  :  5\n",
      "Great Day in Harlem, A (1994)  :  5\n",
      "Bread and Chocolate (Pane e cioccolata) (1973)  :  5\n",
      "Aparajito (1956)  :  5\n",
      "Dr. Strangelove or: How I Learned to Stop Worrying and Love the Bomb (1963)  :  5\n",
      "Godfather, The (1972)  :  5\n",
      "Rear Window (1954)  :  5\n",
      "North by Northwest (1959)  :  5\n",
      "Some Like It Hot (1959)  :  5\n"
     ]
    }
   ],
   "source": [
    "# 타이틀 정보를 포함해서 출력\n",
    "movie_dict = {}\n",
    "\n",
    "for index, row in movie_data.iterrows():\n",
    "    movie_id = row['movie_id']\n",
    "    movie_title = row['title']\n",
    "    movie_dict[movie_id] = movie_title\n",
    "    \n",
    "for predicted in target_user_top10_predicted:\n",
    "    movie_id = predicted[0]\n",
    "    predicted_rating = predicted[1]\n",
    "    print(movie_dict[movie_id], ' : ', predicted_rating)"
   ]
  },
  {
   "cell_type": "raw",
   "metadata": {},
   "source": [
    "https://antilibrary.org/2086"
   ]
  },
  {
   "cell_type": "markdown",
   "metadata": {},
   "source": [
    "### 예측 모델의 평가\n",
    "- RMSE"
   ]
  },
  {
   "cell_type": "code",
   "execution_count": 62,
   "metadata": {},
   "outputs": [
    {
     "name": "stdout",
     "output_type": "stream",
     "text": [
      "training time of model : 72.91 second\n",
      "RMSE of test dataset in SVD model :\n",
      "RMSE: 0.8587\n"
     ]
    },
    {
     "data": {
      "text/plain": [
       "0.858656902492476"
      ]
     },
     "execution_count": 62,
     "metadata": {},
     "output_type": "execute_result"
    }
   ],
   "source": [
    "reader = Reader(rating_scale=(1, 5))\n",
    "data = Dataset.load_from_df(rating_data[['user_id', 'movie_id', 'rating']], reader)\n",
    "train_data, test_data = train_test_split(data, test_size=.2)\n",
    "\n",
    "# SVD 모델 학습\n",
    "train_start = time.time()\n",
    "\n",
    "model = SVD(n_factors = 8,   # 요소의 수\n",
    "           lr_all = 0.005,\n",
    "           reg_all = 0.02,\n",
    "           n_epochs = 100)\n",
    "\n",
    "model.fit(train_data)\n",
    "\n",
    "train_end = time.time()\n",
    "print('training time of model : %.2f second' % (train_end-train_start))\n",
    "\n",
    "# 예측\n",
    "predictions = model.test(test_data)\n",
    "\n",
    "# 테스트 데이터의 RMSE 출력\n",
    "print('RMSE of test dataset in SVD model :')\n",
    "accuracy.rmse(predictions)"
   ]
  },
  {
   "cell_type": "markdown",
   "metadata": {},
   "source": [
    "- RMSE 평가는 예측값과 실제값 차이의 합을 나타내는 수치이기 때문에 작을수록 좋은 모델을 뜻한다"
   ]
  },
  {
   "cell_type": "raw",
   "metadata": {},
   "source": [
    "매개변수 (parameter)\n",
    "  함수 안의 파라미터는 고정값으로, 꼭 들어와야 하는 값.\n",
    "  ex.  def get_user_predicted_ratings(predictions, user_id, user_history):\n",
    "       에서 괄호 안의 predictions, user_id, user_history\n",
    "  \n",
    "hyper_parameter =>> model = SVD(n_factor=8, lr_all=0.005, reg_all=0.02, n_epoches=10)\n",
    "                    에서 n_factor, lr_all, reg_all 등 괄호 안에 있는 매개변수들\n",
    "\n",
    "                =>> 권장값. 조정하여 모델성능 측정\n",
    "\n",
    "\n",
    "hyper_parameter 튜닝\n",
    "\n",
    "평가점수가 낮다면...\n",
    "1. 전처리 잘못했을때(클리닝,정제) \n",
    "2. hyper_parameter가 원인이 될 수도..  / SVD 공식문서의 default값 or 가이드라인 값\n",
    "\n",
    "실제값과 예측값 비교하여\n",
    "모델이 잘 만들어졌는지 확인\n",
    "\n",
    "평가점수가 맘에 안들면\n",
    "정제를 다시하거나,, 하이퍼 파라미터 수정 (특히 factor..?)"
   ]
  },
  {
   "cell_type": "markdown",
   "metadata": {},
   "source": [
    "### 하이퍼 파라미터 튜닝"
   ]
  },
  {
   "cell_type": "code",
   "execution_count": 63,
   "metadata": {},
   "outputs": [
    {
     "name": "stdout",
     "output_type": "stream",
     "text": [
      "training time of model : 59.30 second\n",
      "RMSE of test datasets in SVD model.n_factors =1\n",
      "RMSE: 0.8830\n",
      "-------------------------\n",
      "training time of model : 60.91 second\n",
      "RMSE of test datasets in SVD model.n_factors =2\n",
      "RMSE: 0.8728\n",
      "-------------------------\n",
      "training time of model : 63.06 second\n",
      "RMSE of test datasets in SVD model.n_factors =3\n",
      "RMSE: 0.8663\n",
      "-------------------------\n",
      "training time of model : 67.10 second\n",
      "RMSE of test datasets in SVD model.n_factors =4\n",
      "RMSE: 0.8634\n",
      "-------------------------\n",
      "training time of model : 67.12 second\n",
      "RMSE of test datasets in SVD model.n_factors =5\n",
      "RMSE: 0.8613\n",
      "-------------------------\n",
      "training time of model : 70.37 second\n",
      "RMSE of test datasets in SVD model.n_factors =6\n",
      "RMSE: 0.8583\n",
      "-------------------------\n",
      "training time of model : 71.42 second\n",
      "RMSE of test datasets in SVD model.n_factors =7\n",
      "RMSE: 0.8587\n",
      "-------------------------\n",
      "training time of model : 75.29 second\n",
      "RMSE of test datasets in SVD model.n_factors =8\n",
      "RMSE: 0.8590\n",
      "-------------------------\n",
      "training time of model : 74.60 second\n",
      "RMSE of test datasets in SVD model.n_factors =9\n",
      "RMSE: 0.8608\n",
      "-------------------------\n",
      "training time of model : 76.34 second\n",
      "RMSE of test datasets in SVD model.n_factors =10\n",
      "RMSE: 0.8631\n",
      "-------------------------\n",
      "training time of model : 80.48 second\n",
      "RMSE of test datasets in SVD model.n_factors =11\n",
      "RMSE: 0.8651\n",
      "-------------------------\n",
      "training time of model : 80.72 second\n",
      "RMSE of test datasets in SVD model.n_factors =12\n",
      "RMSE: 0.8658\n",
      "-------------------------\n",
      "training time of model : 80.19 second\n",
      "RMSE of test datasets in SVD model.n_factors =13\n",
      "RMSE: 0.8673\n",
      "-------------------------\n",
      "training time of model : 83.84 second\n",
      "RMSE of test datasets in SVD model.n_factors =14\n",
      "RMSE: 0.8692\n",
      "-------------------------\n",
      "searching n_factors is finished.\n"
     ]
    }
   ],
   "source": [
    "rmse_list_by_factors = []\n",
    "ttime_list_by_factors = []\n",
    "\n",
    "for n in range(1, 15):\n",
    "    \n",
    "    train_start = time.time()\n",
    "\n",
    "    model = SVD(n_factors = n,   # 요소의 수\n",
    "               lr_all = 0.005,\n",
    "               reg_all = 0.02,\n",
    "               n_epochs = 100)\n",
    "\n",
    "    model.fit(train_data)\n",
    "\n",
    "    train_end = time.time()\n",
    "    print('training time of model : %.2f second' % (train_end-train_start))\n",
    "    print('RMSE of test datasets in SVD model.n_factors = ' + str(n))\n",
    "    predictions = model.test(test_data)\n",
    "    rmse_result = accuracy.rmse(predictions)\n",
    "    rmse_list_by_factors.append(rmse_result)\n",
    "    ttime_list_by_factors.append((train_end-train_start))\n",
    "    print('-'*40)\n",
    "\n",
    "print('searching n_factors is finish.')\n",
    "# RMSE가 낮을수록 좋은 모델"
   ]
  },
  {
   "cell_type": "raw",
   "metadata": {},
   "source": [
    "분류분석\n",
    "- 로지스틱 회계분석\n",
    "- 디시즌 트리(의사결정나무)  - 설명력 좋음\n",
    "- K민즈? (KLL)"
   ]
  },
  {
   "cell_type": "code",
   "execution_count": 64,
   "metadata": {},
   "outputs": [
    {
     "data": {
      "image/png": "[encoded data removed]",
      "text/plain": [
       "<Figure size 720x720 with 1 Axes>"
      ]
     },
     "metadata": {
      "needs_background": "light"
     },
     "output_type": "display_data"
    }
   ],
   "source": [
    "plt.plot(range(1, 15), rmse_list_by_factors, alpha=0.8)\n",
    "plt.title('RMSE by n_factors of SVD')\n",
    "plt.ylabel('RMSE', fontsize=12)\n",
    "plt.xlabel('n_factors', fontsize=12)\n",
    "plt.show()"
   ]
  },
  {
   "cell_type": "code",
   "execution_count": 65,
   "metadata": {},
   "outputs": [
    {
     "data": {
      "image/png": "[encoded data removed]",
      "text/plain": [
       "<Figure size 720x720 with 1 Axes>"
      ]
     },
     "metadata": {
      "needs_background": "light"
     },
     "output_type": "display_data"
    }
   ],
   "source": [
    "plt.plot(range(1, 15), ttime_list_by_factors, alpha=0.8)\n",
    "plt.title('Training time by n_factors of SVD')\n",
    "plt.ylabel('Training Time', fontsize=12)\n",
    "plt.xlabel('n_factors', fontsize=12)\n",
    "plt.show()"
   ]
  },
  {
   "cell_type": "code",
   "execution_count": null,
   "metadata": {},
   "outputs": [],
   "source": [
    "# RMSE가 낮고, 실행시간이 적은\n",
    "# n_factors = 6으로 선정!!"
   ]
  },
  {
   "cell_type": "code",
   "execution_count": null,
   "metadata": {},
   "outputs": [],
   "source": [
    "[예측대상 - 사용모델]\n",
    "숫자형 - 회귀모델\n",
    "범주형(카테고리) - 분류분석모델"
   ]
  }
 ],
 "metadata": {
  "kernelspec": {
   "display_name": "Python 3",
   "language": "python",
   "name": "python3"
  },
  "language_info": {
   "codemirror_mode": {
    "name": "ipython",
    "version": 3
   },
   "file_extension": ".py",
   "mimetype": "text/x-python",
   "name": "python",
   "nbconvert_exporter": "python",
   "pygments_lexer": "ipython3",
   "version": "3.7.3"
  }
 },
 "nbformat": 4,
 "nbformat_minor": 2
}
