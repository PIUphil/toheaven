{
 "cells": [
  {
   "cell_type": "markdown",
   "metadata": {},
   "source": [
    "### 분류(Classification)와 군집화(Clustering)\n",
    "- 분류 : 주어진 데이터 집합을 이미 정의된 몇 개의 클래스로 구분하는 \n",
    "         문제 지도학습(Supervised Learning)\n",
    "         숫자인식, 얼굴인식 등\n",
    "         Bayes classifier, k-Nearest Neighbor, Support Vector Machine 등\n",
    "         \n",
    "- 군집 : 입력 데이터의 분포 특성(입력값의 유사성)을 분석하여 \n",
    "         임의의 복수개의 그룹으로 나누는 것\n",
    "         비지도학습(Unsupervised Learning)\n",
    "         영상분리\n",
    "         K-means clustering, Learning Vector Quantization, SOM 등"
   ]
  },
  {
   "cell_type": "markdown",
   "metadata": {},
   "source": [
    "### 표준 라이브러리 로딩"
   ]
  },
  {
   "cell_type": "code",
   "execution_count": 1,
   "metadata": {},
   "outputs": [],
   "source": [
    "import numpy as np\n",
    "import pandas as pd\n",
    "import matplotlib.pyplot as plt\n",
    "import seaborn as sns\n",
    "\n",
    "# 경고무시\n",
    "import warnings\n",
    "warnings.filterwarnings('ignore')"
   ]
  },
  {
   "cell_type": "markdown",
   "metadata": {},
   "source": [
    "### 데이터 로딩"
   ]
  },
  {
   "cell_type": "code",
   "execution_count": 2,
   "metadata": {},
   "outputs": [
    {
     "data": {
      "text/html": [
       "<div>\n",
       "<style scoped>\n",
       "    .dataframe tbody tr th:only-of-type {\n",
       "        vertical-align: middle;\n",
       "    }\n",
       "\n",
       "    .dataframe tbody tr th {\n",
       "        vertical-align: top;\n",
       "    }\n",
       "\n",
       "    .dataframe thead th {\n",
       "        text-align: right;\n",
       "    }\n",
       "</style>\n",
       "<table border=\"1\" class=\"dataframe\">\n",
       "  <thead>\n",
       "    <tr style=\"text-align: right;\">\n",
       "      <th></th>\n",
       "      <th>pclass</th>\n",
       "      <th>survived</th>\n",
       "      <th>name</th>\n",
       "      <th>sex</th>\n",
       "      <th>age</th>\n",
       "      <th>sibsp</th>\n",
       "      <th>parch</th>\n",
       "      <th>ticket</th>\n",
       "      <th>fare</th>\n",
       "      <th>cabin</th>\n",
       "      <th>embarked</th>\n",
       "      <th>body</th>\n",
       "      <th>home.dest</th>\n",
       "    </tr>\n",
       "  </thead>\n",
       "  <tbody>\n",
       "    <tr>\n",
       "      <th>0</th>\n",
       "      <td>2</td>\n",
       "      <td>1</td>\n",
       "      <td>Mellinger, Miss. Madeleine Violet</td>\n",
       "      <td>female</td>\n",
       "      <td>13.0</td>\n",
       "      <td>0</td>\n",
       "      <td>1</td>\n",
       "      <td>250644</td>\n",
       "      <td>19.5000</td>\n",
       "      <td>NaN</td>\n",
       "      <td>S</td>\n",
       "      <td>NaN</td>\n",
       "      <td>England / Bennington, VT</td>\n",
       "    </tr>\n",
       "    <tr>\n",
       "      <th>1</th>\n",
       "      <td>2</td>\n",
       "      <td>1</td>\n",
       "      <td>Wells, Miss. Joan</td>\n",
       "      <td>female</td>\n",
       "      <td>4.0</td>\n",
       "      <td>1</td>\n",
       "      <td>1</td>\n",
       "      <td>29103</td>\n",
       "      <td>23.0000</td>\n",
       "      <td>NaN</td>\n",
       "      <td>S</td>\n",
       "      <td>NaN</td>\n",
       "      <td>Cornwall / Akron, OH</td>\n",
       "    </tr>\n",
       "    <tr>\n",
       "      <th>2</th>\n",
       "      <td>2</td>\n",
       "      <td>1</td>\n",
       "      <td>Duran y More, Miss. Florentina</td>\n",
       "      <td>female</td>\n",
       "      <td>30.0</td>\n",
       "      <td>1</td>\n",
       "      <td>0</td>\n",
       "      <td>SC/PARIS 2148</td>\n",
       "      <td>13.8583</td>\n",
       "      <td>NaN</td>\n",
       "      <td>C</td>\n",
       "      <td>NaN</td>\n",
       "      <td>Barcelona, Spain / Havana, Cuba</td>\n",
       "    </tr>\n",
       "    <tr>\n",
       "      <th>3</th>\n",
       "      <td>3</td>\n",
       "      <td>0</td>\n",
       "      <td>Scanlan, Mr. James</td>\n",
       "      <td>male</td>\n",
       "      <td>NaN</td>\n",
       "      <td>0</td>\n",
       "      <td>0</td>\n",
       "      <td>36209</td>\n",
       "      <td>7.7250</td>\n",
       "      <td>NaN</td>\n",
       "      <td>Q</td>\n",
       "      <td>NaN</td>\n",
       "      <td>NaN</td>\n",
       "    </tr>\n",
       "    <tr>\n",
       "      <th>4</th>\n",
       "      <td>3</td>\n",
       "      <td>1</td>\n",
       "      <td>Bradley, Miss. Bridget Delia</td>\n",
       "      <td>female</td>\n",
       "      <td>22.0</td>\n",
       "      <td>0</td>\n",
       "      <td>0</td>\n",
       "      <td>334914</td>\n",
       "      <td>7.7250</td>\n",
       "      <td>NaN</td>\n",
       "      <td>Q</td>\n",
       "      <td>NaN</td>\n",
       "      <td>Kingwilliamstown, Co Cork, Ireland Glens Falls...</td>\n",
       "    </tr>\n",
       "  </tbody>\n",
       "</table>\n",
       "</div>"
      ],
      "text/plain": [
       "   pclass  survived                               name     sex   age  sibsp  \\\n",
       "0       2         1  Mellinger, Miss. Madeleine Violet  female  13.0      0   \n",
       "1       2         1                  Wells, Miss. Joan  female   4.0      1   \n",
       "2       2         1     Duran y More, Miss. Florentina  female  30.0      1   \n",
       "3       3         0                 Scanlan, Mr. James    male   NaN      0   \n",
       "4       3         1       Bradley, Miss. Bridget Delia  female  22.0      0   \n",
       "\n",
       "   parch         ticket     fare cabin embarked  body  \\\n",
       "0      1         250644  19.5000   NaN        S   NaN   \n",
       "1      1          29103  23.0000   NaN        S   NaN   \n",
       "2      0  SC/PARIS 2148  13.8583   NaN        C   NaN   \n",
       "3      0          36209   7.7250   NaN        Q   NaN   \n",
       "4      0         334914   7.7250   NaN        Q   NaN   \n",
       "\n",
       "                                           home.dest  \n",
       "0                           England / Bennington, VT  \n",
       "1                               Cornwall / Akron, OH  \n",
       "2                    Barcelona, Spain / Havana, Cuba  \n",
       "3                                                NaN  \n",
       "4  Kingwilliamstown, Co Cork, Ireland Glens Falls...  "
      ]
     },
     "execution_count": 2,
     "metadata": {},
     "output_type": "execute_result"
    }
   ],
   "source": [
    "train = pd.read_csv(\"D:/python3/data/titanic_train.csv\")\n",
    "test = pd.read_csv(\"D:/python3/data/titanic_test.csv\")\n",
    "train.head()"
   ]
  },
  {
   "cell_type": "markdown",
   "metadata": {},
   "source": [
    "### 데이터셋의 피처\n",
    "- pclass : Passenger Class, 승객등급(1-1st, 2-2nd, 3-3rd)\n",
    "- survived : 생존여부(생존 1, 사망 0)\n",
    "- name : 승객 이름\n",
    "- sex : 승객 성별\n",
    "- age : 승객 나이\n",
    "- sibsp : 동승한 형제자매 또는 배우자 수\n",
    "- parch : 동승한 부모 또는 자녀의 수\n",
    "- ticket : 티켓 번호\n",
    "- fare : 승객 지불 요금\n",
    "- cabin : 선실 이름\n",
    "- embarked : 승선항(C-쉘부르크, Q-퀸즈, S-사우스햄튼)\n",
    "- body : 사망자 확인 번호\n",
    "- home.dest : 고향/목적지"
   ]
  },
  {
   "cell_type": "code",
   "execution_count": 3,
   "metadata": {},
   "outputs": [
    {
     "name": "stdout",
     "output_type": "stream",
     "text": [
      "<class 'pandas.core.frame.DataFrame'>\n",
      "RangeIndex: 916 entries, 0 to 915\n",
      "Data columns (total 13 columns):\n",
      "pclass       916 non-null int64\n",
      "survived     916 non-null int64\n",
      "name         916 non-null object\n",
      "sex          916 non-null object\n",
      "age          741 non-null float64\n",
      "sibsp        916 non-null int64\n",
      "parch        916 non-null int64\n",
      "ticket       916 non-null object\n",
      "fare         916 non-null float64\n",
      "cabin        214 non-null object\n",
      "embarked     914 non-null object\n",
      "body         85 non-null float64\n",
      "home.dest    527 non-null object\n",
      "dtypes: float64(3), int64(4), object(6)\n",
      "memory usage: 93.1+ KB\n"
     ]
    }
   ],
   "source": [
    "train.info()"
   ]
  },
  {
   "cell_type": "code",
   "execution_count": 4,
   "metadata": {},
   "outputs": [
    {
     "name": "stdout",
     "output_type": "stream",
     "text": [
      "<class 'pandas.core.frame.DataFrame'>\n",
      "RangeIndex: 393 entries, 0 to 392\n",
      "Data columns (total 13 columns):\n",
      "pclass       393 non-null int64\n",
      "survived     393 non-null int64\n",
      "name         393 non-null object\n",
      "sex          393 non-null object\n",
      "age          305 non-null float64\n",
      "sibsp        393 non-null int64\n",
      "parch        393 non-null int64\n",
      "ticket       393 non-null object\n",
      "fare         393 non-null float64\n",
      "cabin        81 non-null object\n",
      "embarked     393 non-null object\n",
      "body         36 non-null float64\n",
      "home.dest    218 non-null object\n",
      "dtypes: float64(3), int64(4), object(6)\n",
      "memory usage: 40.0+ KB\n"
     ]
    }
   ],
   "source": [
    "test.info()"
   ]
  },
  {
   "cell_type": "code",
   "execution_count": 5,
   "metadata": {},
   "outputs": [],
   "source": [
    "# 불필요한 피처를 제거하는 작업     # name, ticket, cabin, body, home.dest\n",
    "train = train.drop(['name', 'ticket', 'cabin', 'body', 'home.dest'], axis=1)\n",
    "test = test.drop(['name', 'ticket', 'cabin', 'body', 'home.dest'], axis=1)"
   ]
  },
  {
   "cell_type": "markdown",
   "metadata": {},
   "source": [
    "### 데이터 탐색과 시각화"
   ]
  },
  {
   "cell_type": "code",
   "execution_count": 6,
   "metadata": {},
   "outputs": [
    {
     "data": {
      "text/plain": [
       "0    563\n",
       "1    353\n",
       "Name: survived, dtype: int64"
      ]
     },
     "execution_count": 6,
     "metadata": {},
     "output_type": "execute_result"
    }
   ],
   "source": [
    "train['survived'].value_counts()"
   ]
  },
  {
   "cell_type": "code",
   "execution_count": 7,
   "metadata": {},
   "outputs": [
    {
     "data": {
      "text/plain": [
       "<matplotlib.axes._subplots.AxesSubplot at 0x1b17fae7320>"
      ]
     },
     "execution_count": 7,
     "metadata": {},
     "output_type": "execute_result"
    },
    {
     "data": {
      "image/png": "[encoded data removed]",
      "text/plain": [
       "<Figure size 432x288 with 1 Axes>"
      ]
     },
     "metadata": {
      "needs_background": "light"
     },
     "output_type": "display_data"
    }
   ],
   "source": [
    "train['survived'].value_counts().plot.bar()"
   ]
  },
  {
   "cell_type": "markdown",
   "metadata": {},
   "source": [
    "### 전체 데이터의 분포를 시각화(Pie chart)\n",
    "#### Pie chart for Categorical feature\n",
    "- sex\n",
    "- pclass\n",
    "- embarked"
   ]
  },
  {
   "cell_type": "code",
   "execution_count": 8,
   "metadata": {},
   "outputs": [],
   "source": [
    "def pie_chart(feature):\n",
    "    feature_ratio = train[feature].value_counts(sort=False)\n",
    "    feature_size = feature_ratio.size\n",
    "    feature_index = feature_ratio.index\n",
    "    \n",
    "    survived = train[train['survived']==1][feature].value_counts()\n",
    "    dead = train[train['survived']==0][feature].value_counts()\n",
    "    \n",
    "    plt.plot(aspect='auto')   # 자동으로 그려줌..?\n",
    "    plt.pie(feature_ratio, labels=feature_index, autopct='%1.1f%%')\n",
    "    plt.title(feature + \"\\'s ratio in total\")\n",
    "    plt.show()\n",
    "    \n",
    "    for i, index in enumerate(feature_index):\n",
    "        plt.subplot(1, feature_size + 1, i+1, aspect='equal')\n",
    "        plt.pie([survived[index], dead[index]], labels=['Survived', 'Dead'], autopct='%1.1f%%')\n",
    "        plt.title(str(index) + \"\\'s ratio\")\n",
    "    \n",
    "    plt.show()"
   ]
  },
  {
   "cell_type": "code",
   "execution_count": 9,
   "metadata": {},
   "outputs": [
    {
     "data": {
      "image/png": "[encoded data removed]",
      "text/plain": [
       "<Figure size 432x288 with 1 Axes>"
      ]
     },
     "metadata": {},
     "output_type": "display_data"
    },
    {
     "data": {
      "image/png": "[encoded data removed]",
      "text/plain": [
       "<Figure size 432x288 with 2 Axes>"
      ]
     },
     "metadata": {},
     "output_type": "display_data"
    }
   ],
   "source": [
    "pie_chart('sex')"
   ]
  },
  {
   "cell_type": "code",
   "execution_count": 10,
   "metadata": {},
   "outputs": [
    {
     "data": {
      "image/png": "[encoded data removed]",
      "text/plain": [
       "<Figure size 432x288 with 1 Axes>"
      ]
     },
     "metadata": {},
     "output_type": "display_data"
    },
    {
     "data": {
      "image/png": "[encoded data removed]",
      "text/plain": [
       "<Figure size 432x288 with 3 Axes>"
      ]
     },
     "metadata": {},
     "output_type": "display_data"
    }
   ],
   "source": [
    "pie_chart('pclass')"
   ]
  },
  {
   "cell_type": "code",
   "execution_count": 11,
   "metadata": {},
   "outputs": [
    {
     "name": "stdout",
     "output_type": "stream",
     "text": [
      "3    498\n",
      "1    230\n",
      "2    188\n",
      "Name: pclass, dtype: int64\n"
     ]
    },
    {
     "data": {
      "image/png": "[encoded data removed]",
      "text/plain": [
       "<Figure size 432x288 with 1 Axes>"
      ]
     },
     "metadata": {
      "needs_background": "light"
     },
     "output_type": "display_data"
    }
   ],
   "source": [
    "print(train['pclass'].value_counts())\n",
    "ax = sns.countplot(x='pclass', hue='survived', data=train)"
   ]
  },
  {
   "cell_type": "code",
   "execution_count": 12,
   "metadata": {},
   "outputs": [
    {
     "data": {
      "image/png": "[encoded data removed]",
      "text/plain": [
       "<Figure size 432x288 with 1 Axes>"
      ]
     },
     "metadata": {},
     "output_type": "display_data"
    },
    {
     "data": {
      "image/png": "[encoded data removed]",
      "text/plain": [
       "<Figure size 432x288 with 3 Axes>"
      ]
     },
     "metadata": {},
     "output_type": "display_data"
    }
   ],
   "source": [
    "pie_chart('embarked')"
   ]
  },
  {
   "cell_type": "markdown",
   "metadata": {},
   "source": [
    "### Bar Chart for Categorical feature\n",
    "- sibsp\n",
    "- parch"
   ]
  },
  {
   "cell_type": "code",
   "execution_count": 13,
   "metadata": {},
   "outputs": [],
   "source": [
    "def bar_chart(feature):\n",
    "    survived = train[train['survived']==1][feature].value_counts()\n",
    "    dead = train[train['survived']==0][feature].value_counts()\n",
    "    df = pd.DataFrame([survived, dead])\n",
    "    df.index = ['Survived','Dead']\n",
    "    df.plot(kind='bar', stacked=True, figsize=(10, 5))"
   ]
  },
  {
   "cell_type": "code",
   "execution_count": 14,
   "metadata": {},
   "outputs": [
    {
     "data": {
      "image/png": "[encoded data removed]",
      "text/plain": [
       "<Figure size 720x360 with 1 Axes>"
      ]
     },
     "metadata": {
      "needs_background": "light"
     },
     "output_type": "display_data"
    }
   ],
   "source": [
    "bar_chart('sibsp')"
   ]
  },
  {
   "cell_type": "code",
   "execution_count": 15,
   "metadata": {},
   "outputs": [
    {
     "data": {
      "image/png": "[encoded data removed]",
      "text/plain": [
       "<Figure size 720x360 with 1 Axes>"
      ]
     },
     "metadata": {
      "needs_background": "light"
     },
     "output_type": "display_data"
    }
   ],
   "source": [
    "bar_chart('parch')"
   ]
  },
  {
   "cell_type": "markdown",
   "metadata": {},
   "source": [
    "### 데이터 전처리 및 특성 추출"
   ]
  },
  {
   "cell_type": "code",
   "execution_count": 16,
   "metadata": {},
   "outputs": [
    {
     "data": {
      "text/html": [
       "<div>\n",
       "<style scoped>\n",
       "    .dataframe tbody tr th:only-of-type {\n",
       "        vertical-align: middle;\n",
       "    }\n",
       "\n",
       "    .dataframe tbody tr th {\n",
       "        vertical-align: top;\n",
       "    }\n",
       "\n",
       "    .dataframe thead th {\n",
       "        text-align: right;\n",
       "    }\n",
       "</style>\n",
       "<table border=\"1\" class=\"dataframe\">\n",
       "  <thead>\n",
       "    <tr style=\"text-align: right;\">\n",
       "      <th></th>\n",
       "      <th>pclass</th>\n",
       "      <th>survived</th>\n",
       "      <th>age</th>\n",
       "      <th>sibsp</th>\n",
       "      <th>parch</th>\n",
       "      <th>fare</th>\n",
       "    </tr>\n",
       "  </thead>\n",
       "  <tbody>\n",
       "    <tr>\n",
       "      <th>count</th>\n",
       "      <td>916.000000</td>\n",
       "      <td>916.000000</td>\n",
       "      <td>741.000000</td>\n",
       "      <td>916.000000</td>\n",
       "      <td>916.000000</td>\n",
       "      <td>916.000000</td>\n",
       "    </tr>\n",
       "    <tr>\n",
       "      <th>mean</th>\n",
       "      <td>2.292576</td>\n",
       "      <td>0.385371</td>\n",
       "      <td>30.231444</td>\n",
       "      <td>0.532751</td>\n",
       "      <td>0.371179</td>\n",
       "      <td>32.532050</td>\n",
       "    </tr>\n",
       "    <tr>\n",
       "      <th>std</th>\n",
       "      <td>0.842576</td>\n",
       "      <td>0.486949</td>\n",
       "      <td>13.934240</td>\n",
       "      <td>1.125957</td>\n",
       "      <td>0.837508</td>\n",
       "      <td>47.416524</td>\n",
       "    </tr>\n",
       "    <tr>\n",
       "      <th>min</th>\n",
       "      <td>1.000000</td>\n",
       "      <td>0.000000</td>\n",
       "      <td>0.170000</td>\n",
       "      <td>0.000000</td>\n",
       "      <td>0.000000</td>\n",
       "      <td>0.000000</td>\n",
       "    </tr>\n",
       "    <tr>\n",
       "      <th>25%</th>\n",
       "      <td>1.000000</td>\n",
       "      <td>0.000000</td>\n",
       "      <td>21.000000</td>\n",
       "      <td>0.000000</td>\n",
       "      <td>0.000000</td>\n",
       "      <td>7.895800</td>\n",
       "    </tr>\n",
       "    <tr>\n",
       "      <th>50%</th>\n",
       "      <td>3.000000</td>\n",
       "      <td>0.000000</td>\n",
       "      <td>28.000000</td>\n",
       "      <td>0.000000</td>\n",
       "      <td>0.000000</td>\n",
       "      <td>14.454200</td>\n",
       "    </tr>\n",
       "    <tr>\n",
       "      <th>75%</th>\n",
       "      <td>3.000000</td>\n",
       "      <td>1.000000</td>\n",
       "      <td>39.000000</td>\n",
       "      <td>1.000000</td>\n",
       "      <td>0.000000</td>\n",
       "      <td>31.275000</td>\n",
       "    </tr>\n",
       "    <tr>\n",
       "      <th>max</th>\n",
       "      <td>3.000000</td>\n",
       "      <td>1.000000</td>\n",
       "      <td>74.000000</td>\n",
       "      <td>8.000000</td>\n",
       "      <td>9.000000</td>\n",
       "      <td>512.329200</td>\n",
       "    </tr>\n",
       "  </tbody>\n",
       "</table>\n",
       "</div>"
      ],
      "text/plain": [
       "           pclass    survived         age       sibsp       parch        fare\n",
       "count  916.000000  916.000000  741.000000  916.000000  916.000000  916.000000\n",
       "mean     2.292576    0.385371   30.231444    0.532751    0.371179   32.532050\n",
       "std      0.842576    0.486949   13.934240    1.125957    0.837508   47.416524\n",
       "min      1.000000    0.000000    0.170000    0.000000    0.000000    0.000000\n",
       "25%      1.000000    0.000000   21.000000    0.000000    0.000000    7.895800\n",
       "50%      3.000000    0.000000   28.000000    0.000000    0.000000   14.454200\n",
       "75%      3.000000    1.000000   39.000000    1.000000    0.000000   31.275000\n",
       "max      3.000000    1.000000   74.000000    8.000000    9.000000  512.329200"
      ]
     },
     "execution_count": 16,
     "metadata": {},
     "output_type": "execute_result"
    }
   ],
   "source": [
    "train.describe()"
   ]
  },
  {
   "cell_type": "markdown",
   "metadata": {},
   "source": [
    "### age, sibsp 수치형 피처 탐색\n",
    "- 두 그룹간의 분포를 시각화\n",
    "- 두 그룹 각각의 표준편차를 시각화\n",
    "- 두 그룹간의 t-Test 검정 (전제조건 - 정규분포에 따라야 한다)\n",
    "- 정규분포를 검정 : Shapiro-wilk 검정"
   ]
  },
  {
   "cell_type": "code",
   "execution_count": 17,
   "metadata": {},
   "outputs": [],
   "source": [
    "from scipy import stats\n",
    "\n",
    "# 두 집단의 작업을 자동화하는 함수 구현\n",
    "def valid_features(df, col_name, distribution_check = True):\n",
    "    \n",
    "    # 분포의 시각화(survived = 1, survived = 0)\n",
    "    g = sns.FacetGrid(df, col= 'survived')\n",
    "    g.map(plt.hist, col_name, bins = 30) # map으로 묶기 막대기 넓이 30\n",
    "    \n",
    "    # 표준편차\n",
    "    titanic_survived = df[df['survived'] == 1]\n",
    "    titanic_survived_static = np.array(titanic_survived[col_name])\n",
    "    print('data std is', '%.2f'%np.std(titanic_survived_static))\n",
    "    \n",
    "    titanic_dead = df[df['survived'] == 0]\n",
    "    titanic_dead_static = np.array(titanic_dead[col_name])\n",
    "    print('data std is', '%.2f'%np.std(titanic_dead_static))\n",
    "    \n",
    "    # T - test : 평균차이를 검증 -> 정규분포 아니면 shapiro로 정규분포 확인을 한다.\n",
    "    tTestResult = stats.ttest_ind(titanic_survived[col_name], \n",
    "                                  titanic_dead[col_name])# 분산이 같다.\n",
    "    tTestResultDiffVar = stats.ttest_ind(titanic_survived[col_name], \n",
    "                                  titanic_dead[col_name], equal_var = False)#분산이 같지 않다\n",
    "    print('T-test 통계량 : %.3f and p-value : %.3f' %tTestResult)\n",
    "    print('T-test 통계량 : %.3f and p-value : %.3f' %tTestResultDiffVar)\n",
    "    \n",
    "    if distribution_check:\n",
    "        # Shapiro-wilk 검정\n",
    "        print('Shapiro-wilk 통계량[survived] : %.3f and p-value : %.3f' % stats.shapiro(titanic_survived[col_name]))\n",
    "        print('Shapiro-wilk 통계량[dead] : %.3f and p-value : %.3f' % stats.shapiro(titanic_dead[col_name]))"
   ]
  },
  {
   "cell_type": "code",
   "execution_count": 18,
   "metadata": {},
   "outputs": [
    {
     "name": "stdout",
     "output_type": "stream",
     "text": [
      "data std is 0.64\n",
      "data std is 1.34\n",
      "T-test 통계량 : -2.118 and p-value : 0.034\n",
      "T-test 통계량 : -2.446 and p-value : 0.015\n",
      "Shapiro-wilk 통계량[survived] : 0.656 and p-value : 0.000\n",
      "Shapiro-wilk 통계량[dead] : 0.492 and p-value : 0.000\n"
     ]
    },
    {
     "data": {
      "image/png": "[encoded data removed]",
      "text/plain": [
       "<Figure size 432x216 with 2 Axes>"
      ]
     },
     "metadata": {
      "needs_background": "light"
     },
     "output_type": "display_data"
    }
   ],
   "source": [
    "valid_features(train, 'sibsp', distribution_check=True)"
   ]
  },
  {
   "cell_type": "markdown",
   "metadata": {},
   "source": [
    "### age feature\n",
    "- 결측값 처리 : 제거, 대체(평균, 최빈값, 중앙값)\n",
    "- 연령대"
   ]
  },
  {
   "cell_type": "code",
   "execution_count": 19,
   "metadata": {},
   "outputs": [
    {
     "data": {
      "text/plain": [
       "30.23144399460189"
      ]
     },
     "execution_count": 19,
     "metadata": {},
     "output_type": "execute_result"
    }
   ],
   "source": [
    "replace_mean = train[train['age']>0]['age'].mean()\n",
    "replace_mean"
   ]
  },
  {
   "cell_type": "code",
   "execution_count": 20,
   "metadata": {},
   "outputs": [],
   "source": [
    "train['age'] = train['age'].fillna(replace_mean)\n",
    "test['age'] = test['age'].fillna(replace_mean)"
   ]
  },
  {
   "cell_type": "markdown",
   "metadata": {},
   "source": [
    "### embarked feature\n",
    "- 최빈값"
   ]
  },
  {
   "cell_type": "code",
   "execution_count": 21,
   "metadata": {},
   "outputs": [],
   "source": [
    "embarked_mode = train['embarked'].value_counts().index[0]\n",
    "train['embarked'] = train['embarked'].fillna(embarked_mode)\n",
    "test['embarked'] = test['embarked'].fillna(embarked_mode)"
   ]
  },
  {
   "cell_type": "markdown",
   "metadata": {},
   "source": [
    "### one-hot encoding(원-핫 인코딩)\n",
    "- 범주형 변수를 변환 (모델링을 컴퓨터가 학습할 수 있도록 0,1로 바꿔줌)\n",
    "- sex, embarked"
   ]
  },
  {
   "cell_type": "code",
   "execution_count": 22,
   "metadata": {},
   "outputs": [
    {
     "name": "stdout",
     "output_type": "stream",
     "text": [
      "916 393\n"
     ]
    }
   ],
   "source": [
    "print(len(train), len(test))"
   ]
  },
  {
   "cell_type": "code",
   "execution_count": 23,
   "metadata": {},
   "outputs": [
    {
     "data": {
      "text/html": [
       "<div>\n",
       "<style scoped>\n",
       "    .dataframe tbody tr th:only-of-type {\n",
       "        vertical-align: middle;\n",
       "    }\n",
       "\n",
       "    .dataframe tbody tr th {\n",
       "        vertical-align: top;\n",
       "    }\n",
       "\n",
       "    .dataframe thead th {\n",
       "        text-align: right;\n",
       "    }\n",
       "</style>\n",
       "<table border=\"1\" class=\"dataframe\">\n",
       "  <thead>\n",
       "    <tr style=\"text-align: right;\">\n",
       "      <th></th>\n",
       "      <th>pclass</th>\n",
       "      <th>survived</th>\n",
       "      <th>age</th>\n",
       "      <th>sibsp</th>\n",
       "      <th>parch</th>\n",
       "      <th>fare</th>\n",
       "      <th>sex_female</th>\n",
       "      <th>sex_male</th>\n",
       "      <th>embarked_C</th>\n",
       "      <th>embarked_Q</th>\n",
       "      <th>embarked_S</th>\n",
       "    </tr>\n",
       "  </thead>\n",
       "  <tbody>\n",
       "    <tr>\n",
       "      <th>0</th>\n",
       "      <td>2</td>\n",
       "      <td>1</td>\n",
       "      <td>13.000000</td>\n",
       "      <td>0</td>\n",
       "      <td>1</td>\n",
       "      <td>19.5000</td>\n",
       "      <td>1</td>\n",
       "      <td>0</td>\n",
       "      <td>0</td>\n",
       "      <td>0</td>\n",
       "      <td>1</td>\n",
       "    </tr>\n",
       "    <tr>\n",
       "      <th>1</th>\n",
       "      <td>2</td>\n",
       "      <td>1</td>\n",
       "      <td>4.000000</td>\n",
       "      <td>1</td>\n",
       "      <td>1</td>\n",
       "      <td>23.0000</td>\n",
       "      <td>1</td>\n",
       "      <td>0</td>\n",
       "      <td>0</td>\n",
       "      <td>0</td>\n",
       "      <td>1</td>\n",
       "    </tr>\n",
       "    <tr>\n",
       "      <th>2</th>\n",
       "      <td>2</td>\n",
       "      <td>1</td>\n",
       "      <td>30.000000</td>\n",
       "      <td>1</td>\n",
       "      <td>0</td>\n",
       "      <td>13.8583</td>\n",
       "      <td>1</td>\n",
       "      <td>0</td>\n",
       "      <td>1</td>\n",
       "      <td>0</td>\n",
       "      <td>0</td>\n",
       "    </tr>\n",
       "    <tr>\n",
       "      <th>3</th>\n",
       "      <td>3</td>\n",
       "      <td>0</td>\n",
       "      <td>30.231444</td>\n",
       "      <td>0</td>\n",
       "      <td>0</td>\n",
       "      <td>7.7250</td>\n",
       "      <td>0</td>\n",
       "      <td>1</td>\n",
       "      <td>0</td>\n",
       "      <td>1</td>\n",
       "      <td>0</td>\n",
       "    </tr>\n",
       "    <tr>\n",
       "      <th>4</th>\n",
       "      <td>3</td>\n",
       "      <td>1</td>\n",
       "      <td>22.000000</td>\n",
       "      <td>0</td>\n",
       "      <td>0</td>\n",
       "      <td>7.7250</td>\n",
       "      <td>1</td>\n",
       "      <td>0</td>\n",
       "      <td>0</td>\n",
       "      <td>1</td>\n",
       "      <td>0</td>\n",
       "    </tr>\n",
       "  </tbody>\n",
       "</table>\n",
       "</div>"
      ],
      "text/plain": [
       "   pclass  survived        age  sibsp  parch     fare  sex_female  sex_male  \\\n",
       "0       2         1  13.000000      0      1  19.5000           1         0   \n",
       "1       2         1   4.000000      1      1  23.0000           1         0   \n",
       "2       2         1  30.000000      1      0  13.8583           1         0   \n",
       "3       3         0  30.231444      0      0   7.7250           0         1   \n",
       "4       3         1  22.000000      0      0   7.7250           1         0   \n",
       "\n",
       "   embarked_C  embarked_Q  embarked_S  \n",
       "0           0           0           1  \n",
       "1           0           0           1  \n",
       "2           1           0           0  \n",
       "3           0           1           0  \n",
       "4           0           1           0  "
      ]
     },
     "execution_count": 23,
     "metadata": {},
     "output_type": "execute_result"
    }
   ],
   "source": [
    "# 현재 데이터셋 = train data + test data\n",
    "whole_df = train.append(test)\n",
    "train_idx_num = len(train)\n",
    "\n",
    "whole_df_encoded = pd.get_dummies(whole_df)\n",
    "train = whole_df_encoded[:train_idx_num]\n",
    "test = whole_df_encoded[train_idx_num:]\n",
    "\n",
    "train.head()"
   ]
  },
  {
   "cell_type": "markdown",
   "metadata": {},
   "source": [
    "### 로지스틱 회귀분석 모델링\n",
    "- Logistic Regression\n",
    "- https://nittaku.tistory.com/478\n",
    "- 어떤 사건이 발생할지에 대한 직접 예측이 아니라 그 사건이 발생할 확률을 예측하는 것\n",
    "- 두 개의 값만을 가지는 종속변수와 독립변수들 간의 인과관계를 로지스틱 함수를 이용하여 추정하는 통계기법"
   ]
  },
  {
   "cell_type": "code",
   "execution_count": 24,
   "metadata": {},
   "outputs": [],
   "source": [
    "from sklearn.linear_model import LogisticRegression\n",
    "from sklearn.metrics import accuracy_score, precision_score, recall_score, f1_score"
   ]
  },
  {
   "cell_type": "markdown",
   "metadata": {},
   "source": [
    "### 분류 모델의 평가 지표\n",
    "- Confusion Matrix(교차분할표) or 분류정확도를 이용하여 모델을 평가\n",
    "- 교차분할행렬에 예측값(predicted class)와 실측값(actual class)로 구성\n",
    "- 정확도(accuracy) : TP+TN / TP+TN+FP+FN\n",
    "- 정밀도(precision) : TP / TP+FP\n",
    "- 재현도(recall) : TP / TP+FN\n",
    "- f1_score : 정밀도와 재현도(민감도)의 조화평균값. \n",
    "             즉, 두 값을 동시에 고려할 때 사용하는 지표"
   ]
  },
  {
   "cell_type": "code",
   "execution_count": 25,
   "metadata": {},
   "outputs": [],
   "source": [
    "# 데이터를 학습데이터와 테스트 데이터로 분류\n",
    "X_train, y_train = train.loc[:,train.columns!='survived'\n",
    "                            ].values, train['survived'].values\n",
    "X_test, y_test = test.loc[:,test.columns!='survived'\n",
    "                            ].values, test['survived'].values"
   ]
  },
  {
   "cell_type": "code",
   "execution_count": 26,
   "metadata": {},
   "outputs": [
    {
     "data": {
      "text/plain": [
       "LogisticRegression(random_state=0)"
      ]
     },
     "execution_count": 26,
     "metadata": {},
     "output_type": "execute_result"
    }
   ],
   "source": [
    "# 로지스틱 회귀 모델 학습\n",
    "lr = LogisticRegression(random_state=0)\n",
    "lr.fit(X_train, y_train)"
   ]
  },
  {
   "cell_type": "code",
   "execution_count": 27,
   "metadata": {},
   "outputs": [],
   "source": [
    "# 학습 모델의 테스트 데이터셋에 대한 예측 결과 반환\n",
    "y_pred = lr.predict(X_test)                         # 예측된 값\n",
    "y_pred_probability = lr.predict_proba(X_test)[:,1]   # 예측된 확률값"
   ]
  },
  {
   "cell_type": "markdown",
   "metadata": {},
   "source": [
    "### 분류 모델 평가"
   ]
  },
  {
   "cell_type": "code",
   "execution_count": 28,
   "metadata": {},
   "outputs": [
    {
     "name": "stdout",
     "output_type": "stream",
     "text": [
      "accuracy : 0.80\n",
      "precision : 0.76\n",
      "recall : 0.67\n",
      "f1 : 0.71\n"
     ]
    }
   ],
   "source": [
    "# 테스트 데이터셋에 대한 정확도, 정밀도, 특이도, f1 평가지표\n",
    "print(\"accuracy : %.2f\" % accuracy_score(y_test, y_pred))     # 정확도\n",
    "print(\"precision : %.2f\" % precision_score(y_test, y_pred))   # 정밀도\n",
    "print(\"recall : %.2f\" % recall_score(y_test, y_pred))         # 재현도\n",
    "print(\"f1 : %.2f\" % f1_score(y_test, y_pred))                 # 정밀+재현 조화평균"
   ]
  },
  {
   "cell_type": "code",
   "execution_count": 29,
   "metadata": {},
   "outputs": [
    {
     "data": {
      "text/plain": [
       "array([[214,  32],\n",
       "       [ 48,  99]], dtype=int64)"
      ]
     },
     "execution_count": 29,
     "metadata": {},
     "output_type": "execute_result"
    }
   ],
   "source": [
    "from sklearn.metrics import confusion_matrix\n",
    "\n",
    "# Confusion Matrix(혼동행렬)\n",
    "confmat = confusion_matrix(y_true = y_test, y_pred=y_pred)\n",
    "confmat"
   ]
  },
  {
   "cell_type": "raw",
   "metadata": {},
   "source": [
    "            예측값\n",
    "             1   0\n",
    "실측값    1  TP  FN\n",
    "          0  FP  TN\n",
    "          \n",
    "True/False  //  Positive/Negative"
   ]
  },
  {
   "cell_type": "code",
   "execution_count": 30,
   "metadata": {},
   "outputs": [
    {
     "name": "stdout",
     "output_type": "stream",
     "text": [
      "AUC score : 0.838\n"
     ]
    },
    {
     "data": {
      "image/png": "[encoded data removed]",
      "text/plain": [
       "<Figure size 360x288 with 1 Axes>"
      ]
     },
     "metadata": {
      "needs_background": "light"
     },
     "output_type": "display_data"
    }
   ],
   "source": [
    "# 로지스틱 회귀 모델의 AUC 구하는 작업\n",
    "from sklearn.metrics import roc_curve, roc_auc_score\n",
    "\n",
    "# AUC(Area Under the Curve)                  # thresholds 임계값\n",
    "false_positive_rate, true_positive_rate, thresholds = roc_curve(\n",
    "    y_test, y_pred_probability)\n",
    "roc_auc = roc_auc_score(y_test, y_pred_probability)\n",
    "print('AUC score : %.3f' % roc_auc)\n",
    "\n",
    "# ROC curve 그래프\n",
    "plt.rcParams['figure.figsize'] = [5, 4]\n",
    "plt.plot(false_positive_rate, true_positive_rate, label='ROC curve(area=%0.3f)' \n",
    "         % roc_auc, color='r', linewidth=4.0)\n",
    "plt.plot([0,1], [0,1], 'k--')\n",
    "plt.xlim([0.0, 1.0])\n",
    "plt.ylim([0.0, 1.0])\n",
    "plt.xlabel('False Positive Rate')\n",
    "plt.ylabel('True Positive Rate')\n",
    "plt.title('ROC curve of Logistic regression')\n",
    "plt.legend(loc='lower right')\n",
    "plt.show()"
   ]
  },
  {
   "cell_type": "markdown",
   "metadata": {},
   "source": [
    "### Decision Tree(의사결정 나무)\n",
    "- 로지스틱 회귀 모델과 더불어 분류 분석의 대표적인 모델\n",
    "- 해석력이 좋다는 장점\n",
    "- 스무고개 \n",
    "- https://ratsgo.github.io/machine%20learning/2017/03/26/tree/"
   ]
  },
  {
   "cell_type": "code",
   "execution_count": 31,
   "metadata": {},
   "outputs": [
    {
     "name": "stdout",
     "output_type": "stream",
     "text": [
      "accuracy : 0.75\n",
      "precision : 0.69\n",
      "recall : 0.63\n",
      "f1 : 0.65\n"
     ]
    }
   ],
   "source": [
    "from sklearn.tree import DecisionTreeClassifier\n",
    "\n",
    "# 학습, 모델 테스트, 예측값\n",
    "dtc = DecisionTreeClassifier()\n",
    "dtc.fit(X_train, y_train)\n",
    "\n",
    "y_pred = dtc.predict(X_test)\n",
    "y_pred_probability = dtc.predict_proba(X_test)[:,1]\n",
    "\n",
    "print(\"accuracy : %.2f\" % accuracy_score(y_test, y_pred))\n",
    "print(\"precision : %.2f\" % precision_score(y_test, y_pred))\n",
    "print(\"recall : %.2f\" % recall_score(y_test, y_pred)) \n",
    "print(\"f1 : %.2f\" % f1_score(y_test, y_pred))   "
   ]
  },
  {
   "cell_type": "code",
   "execution_count": 32,
   "metadata": {},
   "outputs": [
    {
     "name": "stdout",
     "output_type": "stream",
     "text": [
      "AUC score : 0.742\n"
     ]
    },
    {
     "data": {
      "image/png": "[encoded data removed]",
      "text/plain": [
       "<Figure size 360x288 with 1 Axes>"
      ]
     },
     "metadata": {
      "needs_background": "light"
     },
     "output_type": "display_data"
    }
   ],
   "source": [
    "# 의사결정나무 모델의 AUC 구하는 작업\n",
    "from sklearn.metrics import roc_curve, roc_auc_score\n",
    "\n",
    "# AUC(Area Under the Curve)                  # thresholds 임계값\n",
    "false_positive_rate, true_positive_rate, thresholds = roc_curve(\n",
    "    y_test, y_pred_probability)\n",
    "roc_auc = roc_auc_score(y_test, y_pred_probability)\n",
    "print('AUC score : %.3f' % roc_auc)\n",
    "\n",
    "# ROC curve 그래프\n",
    "plt.rcParams['figure.figsize'] = [5, 4]\n",
    "plt.plot(false_positive_rate, true_positive_rate, label='ROC curve(area=%0.3f)' \n",
    "         % roc_auc, color='r', linewidth=4.0)\n",
    "plt.plot([0,1], [0,1], 'k--')\n",
    "plt.xlim([0.0, 1.0])\n",
    "plt.ylim([0.0, 1.0])\n",
    "plt.xlabel('False Positive Rate')\n",
    "plt.ylabel('True Positive Rate')\n",
    "plt.title('ROC curve of Logistic regression')\n",
    "plt.legend(loc='lower right')\n",
    "plt.show()"
   ]
  },
  {
   "cell_type": "markdown",
   "metadata": {},
   "source": [
    "### 타이타닉 모델링\n",
    "- Logistic Regression\n",
    "- Support Vector Machine(SVM)\n",
    "- k-Nearest Neighbor(kNN)\n",
    "- Random Forest\n",
    "- Native Bayes"
   ]
  },
  {
   "cell_type": "code",
   "execution_count": 33,
   "metadata": {},
   "outputs": [],
   "source": [
    "from sklearn.svm import SVC\n",
    "from sklearn.neighbors import KNeighborsClassifier\n",
    "from sklearn.ensemble import RandomForestClassifier\n",
    "from sklearn.naive_bayes import GaussianNB\n",
    "\n",
    "from sklearn.utils import shuffle"
   ]
  },
  {
   "cell_type": "code",
   "execution_count": 34,
   "metadata": {},
   "outputs": [],
   "source": [
    "# 데이터를 학습데이터와 테스트 데이터로 분류\n",
    "X_train, y_train = shuffle(train.loc[:,train.columns!='survived'\n",
    "                            ].values, train['survived'].values)\n",
    "X_test, y_test = shuffle(test.loc[:,test.columns!='survived'\n",
    "                            ].values, test['survived'].values)"
   ]
  },
  {
   "cell_type": "code",
   "execution_count": 35,
   "metadata": {},
   "outputs": [],
   "source": [
    "def train_and_test(model):\n",
    "    model.fit(X_train, y_train)\n",
    "    prediction = model.predict(X_test)\n",
    "    accuracy = round(model.score(X_train, y_train)*100, 2)\n",
    "    print('Accuracy : ', accuracy)\n",
    "    return prediction"
   ]
  },
  {
   "cell_type": "code",
   "execution_count": 36,
   "metadata": {},
   "outputs": [
    {
     "name": "stdout",
     "output_type": "stream",
     "text": [
      "Accuracy :  78.6\n",
      "Accuracy :  66.7\n",
      "Accuracy :  79.91\n",
      "Accuracy :  97.6\n",
      "Accuracy :  78.28\n"
     ]
    }
   ],
   "source": [
    "# Logistic Regression\n",
    "log_pred = train_and_test(LogisticRegression())\n",
    "# SVM\n",
    "svm_pred = train_and_test(SVC())\n",
    "# kNN\n",
    "knn_pred_4 = train_and_test(KNeighborsClassifier(n_neighbors=4))\n",
    "# Random Forest\n",
    "rf_pred = train_and_test(RandomForestClassifier(n_estimators=100))\n",
    "# Naive Bayes\n",
    "nb_pred = train_and_test(GaussianNB())"
   ]
  },
  {
   "cell_type": "markdown",
   "metadata": {},
   "source": [
    "### 피처 엔지니어링\n",
    "- https://blog.ggaman.com/1010\n",
    "- 분류 모델의 성능을 높이기 위해서 하는 것\n",
    "- 피처 엔지니어링 : 모델에서 사용할 피처를 가공하는 분석 작업\n",
    "- 수치형 : 결측값 처리, 이상치 처리\n",
    "- 범주형 : 원-핫 인코딩"
   ]
  },
  {
   "cell_type": "code",
   "execution_count": 37,
   "metadata": {},
   "outputs": [],
   "source": [
    "# 데이터 다시 불러오기\n",
    "train = pd.read_csv('D:/python3/data/titanic_train.csv')\n",
    "test = pd.read_csv('D:/python3/data/titanic_test.csv')\n",
    "\n",
    "# 불필요한 피처 제거\n",
    "train = train.drop(['ticket','body','home.dest'], axis=1)\n",
    "test = test.drop(['ticket','body','home.dest'], axis=1)\n",
    "\n",
    "# 결측값 처리\n",
    "replace_mean = train[train['age']>0]['age'].mean()\n",
    "train['age'] = train['age'].fillna(replace_mean)\n",
    "test['age'] = test['age'].fillna(replace_mean)\n",
    "\n",
    "embarked_mode = train['embarked'].value_counts().index[0]\n",
    "train['embarked'] = train['embarked'].fillna(embarked_mode)\n",
    "test['embarked'] = test['embarked'].fillna(embarked_mode)\n",
    "\n",
    "# 원-핫 인코딩\n",
    "whole_df = train.append(test)\n",
    "train_idx_num = len(train)"
   ]
  },
  {
   "cell_type": "markdown",
   "metadata": {},
   "source": [
    "### cabin 피처"
   ]
  },
  {
   "cell_type": "code",
   "execution_count": 38,
   "metadata": {},
   "outputs": [
    {
     "data": {
      "text/plain": [
       "C23 C25 C27        6\n",
       "G6                 5\n",
       "B57 B59 B63 B66    5\n",
       "F4                 4\n",
       "B96 B98            4\n",
       "C78                4\n",
       "C22 C26            4\n",
       "D                  4\n",
       "F33                4\n",
       "F2                 4\n",
       "Name: cabin, dtype: int64"
      ]
     },
     "execution_count": 38,
     "metadata": {},
     "output_type": "execute_result"
    }
   ],
   "source": [
    "whole_df['cabin'].value_counts()[:10]"
   ]
  },
  {
   "cell_type": "code",
   "execution_count": 39,
   "metadata": {},
   "outputs": [
    {
     "name": "stdout",
     "output_type": "stream",
     "text": [
      "<class 'pandas.core.frame.DataFrame'>\n",
      "RangeIndex: 916 entries, 0 to 915\n",
      "Data columns (total 10 columns):\n",
      "pclass      916 non-null int64\n",
      "survived    916 non-null int64\n",
      "name        916 non-null object\n",
      "sex         916 non-null object\n",
      "age         916 non-null float64\n",
      "sibsp       916 non-null int64\n",
      "parch       916 non-null int64\n",
      "fare        916 non-null float64\n",
      "cabin       214 non-null object\n",
      "embarked    916 non-null object\n",
      "dtypes: float64(2), int64(4), object(4)\n",
      "memory usage: 71.6+ KB\n"
     ]
    }
   ],
   "source": [
    "train.info()"
   ]
  },
  {
   "cell_type": "code",
   "execution_count": 40,
   "metadata": {},
   "outputs": [
    {
     "data": {
      "text/html": [
       "<div>\n",
       "<style scoped>\n",
       "    .dataframe tbody tr th:only-of-type {\n",
       "        vertical-align: middle;\n",
       "    }\n",
       "\n",
       "    .dataframe tbody tr th {\n",
       "        vertical-align: top;\n",
       "    }\n",
       "\n",
       "    .dataframe thead th {\n",
       "        text-align: right;\n",
       "    }\n",
       "</style>\n",
       "<table border=\"1\" class=\"dataframe\">\n",
       "  <thead>\n",
       "    <tr style=\"text-align: right;\">\n",
       "      <th></th>\n",
       "      <th>pclass</th>\n",
       "      <th>survived</th>\n",
       "      <th>name</th>\n",
       "      <th>sex</th>\n",
       "      <th>age</th>\n",
       "      <th>sibsp</th>\n",
       "      <th>parch</th>\n",
       "      <th>fare</th>\n",
       "      <th>cabin</th>\n",
       "      <th>embarked</th>\n",
       "    </tr>\n",
       "  </thead>\n",
       "  <tbody>\n",
       "    <tr>\n",
       "      <th>0</th>\n",
       "      <td>2</td>\n",
       "      <td>1</td>\n",
       "      <td>Mellinger, Miss. Madeleine Violet</td>\n",
       "      <td>female</td>\n",
       "      <td>13.000000</td>\n",
       "      <td>0</td>\n",
       "      <td>1</td>\n",
       "      <td>19.5000</td>\n",
       "      <td>NaN</td>\n",
       "      <td>S</td>\n",
       "    </tr>\n",
       "    <tr>\n",
       "      <th>1</th>\n",
       "      <td>2</td>\n",
       "      <td>1</td>\n",
       "      <td>Wells, Miss. Joan</td>\n",
       "      <td>female</td>\n",
       "      <td>4.000000</td>\n",
       "      <td>1</td>\n",
       "      <td>1</td>\n",
       "      <td>23.0000</td>\n",
       "      <td>NaN</td>\n",
       "      <td>S</td>\n",
       "    </tr>\n",
       "    <tr>\n",
       "      <th>2</th>\n",
       "      <td>2</td>\n",
       "      <td>1</td>\n",
       "      <td>Duran y More, Miss. Florentina</td>\n",
       "      <td>female</td>\n",
       "      <td>30.000000</td>\n",
       "      <td>1</td>\n",
       "      <td>0</td>\n",
       "      <td>13.8583</td>\n",
       "      <td>NaN</td>\n",
       "      <td>C</td>\n",
       "    </tr>\n",
       "    <tr>\n",
       "      <th>3</th>\n",
       "      <td>3</td>\n",
       "      <td>0</td>\n",
       "      <td>Scanlan, Mr. James</td>\n",
       "      <td>male</td>\n",
       "      <td>30.231444</td>\n",
       "      <td>0</td>\n",
       "      <td>0</td>\n",
       "      <td>7.7250</td>\n",
       "      <td>NaN</td>\n",
       "      <td>Q</td>\n",
       "    </tr>\n",
       "    <tr>\n",
       "      <th>4</th>\n",
       "      <td>3</td>\n",
       "      <td>1</td>\n",
       "      <td>Bradley, Miss. Bridget Delia</td>\n",
       "      <td>female</td>\n",
       "      <td>22.000000</td>\n",
       "      <td>0</td>\n",
       "      <td>0</td>\n",
       "      <td>7.7250</td>\n",
       "      <td>NaN</td>\n",
       "      <td>Q</td>\n",
       "    </tr>\n",
       "    <tr>\n",
       "      <th>5</th>\n",
       "      <td>3</td>\n",
       "      <td>0</td>\n",
       "      <td>Linehan, Mr. Michael</td>\n",
       "      <td>male</td>\n",
       "      <td>30.231444</td>\n",
       "      <td>0</td>\n",
       "      <td>0</td>\n",
       "      <td>7.8792</td>\n",
       "      <td>NaN</td>\n",
       "      <td>Q</td>\n",
       "    </tr>\n",
       "    <tr>\n",
       "      <th>6</th>\n",
       "      <td>1</td>\n",
       "      <td>1</td>\n",
       "      <td>Francatelli, Miss. Laura Mabel</td>\n",
       "      <td>female</td>\n",
       "      <td>30.000000</td>\n",
       "      <td>0</td>\n",
       "      <td>0</td>\n",
       "      <td>56.9292</td>\n",
       "      <td>E36</td>\n",
       "      <td>C</td>\n",
       "    </tr>\n",
       "    <tr>\n",
       "      <th>7</th>\n",
       "      <td>2</td>\n",
       "      <td>1</td>\n",
       "      <td>Quick, Miss. Phyllis May</td>\n",
       "      <td>female</td>\n",
       "      <td>2.000000</td>\n",
       "      <td>1</td>\n",
       "      <td>1</td>\n",
       "      <td>26.0000</td>\n",
       "      <td>NaN</td>\n",
       "      <td>S</td>\n",
       "    </tr>\n",
       "    <tr>\n",
       "      <th>8</th>\n",
       "      <td>1</td>\n",
       "      <td>0</td>\n",
       "      <td>Thayer, Mr. John Borland</td>\n",
       "      <td>male</td>\n",
       "      <td>49.000000</td>\n",
       "      <td>1</td>\n",
       "      <td>1</td>\n",
       "      <td>110.8833</td>\n",
       "      <td>C68</td>\n",
       "      <td>C</td>\n",
       "    </tr>\n",
       "    <tr>\n",
       "      <th>9</th>\n",
       "      <td>1</td>\n",
       "      <td>1</td>\n",
       "      <td>Silverthorne, Mr. Spencer Victor</td>\n",
       "      <td>male</td>\n",
       "      <td>35.000000</td>\n",
       "      <td>0</td>\n",
       "      <td>0</td>\n",
       "      <td>26.2875</td>\n",
       "      <td>E24</td>\n",
       "      <td>S</td>\n",
       "    </tr>\n",
       "  </tbody>\n",
       "</table>\n",
       "</div>"
      ],
      "text/plain": [
       "   pclass  survived                               name     sex        age  \\\n",
       "0       2         1  Mellinger, Miss. Madeleine Violet  female  13.000000   \n",
       "1       2         1                  Wells, Miss. Joan  female   4.000000   \n",
       "2       2         1     Duran y More, Miss. Florentina  female  30.000000   \n",
       "3       3         0                 Scanlan, Mr. James    male  30.231444   \n",
       "4       3         1       Bradley, Miss. Bridget Delia  female  22.000000   \n",
       "5       3         0               Linehan, Mr. Michael    male  30.231444   \n",
       "6       1         1     Francatelli, Miss. Laura Mabel  female  30.000000   \n",
       "7       2         1           Quick, Miss. Phyllis May  female   2.000000   \n",
       "8       1         0           Thayer, Mr. John Borland    male  49.000000   \n",
       "9       1         1   Silverthorne, Mr. Spencer Victor    male  35.000000   \n",
       "\n",
       "   sibsp  parch      fare cabin embarked  \n",
       "0      0      1   19.5000   NaN        S  \n",
       "1      1      1   23.0000   NaN        S  \n",
       "2      1      0   13.8583   NaN        C  \n",
       "3      0      0    7.7250   NaN        Q  \n",
       "4      0      0    7.7250   NaN        Q  \n",
       "5      0      0    7.8792   NaN        Q  \n",
       "6      0      0   56.9292   E36        C  \n",
       "7      1      1   26.0000   NaN        S  \n",
       "8      1      1  110.8833   C68        C  \n",
       "9      0      0   26.2875   E24        S  "
      ]
     },
     "execution_count": 40,
     "metadata": {},
     "output_type": "execute_result"
    }
   ],
   "source": [
    "train.head(10)"
   ]
  },
  {
   "cell_type": "code",
   "execution_count": 41,
   "metadata": {},
   "outputs": [
    {
     "data": {
      "image/png": "[encoded data removed]",
      "text/plain": [
       "<Figure size 360x288 with 1 Axes>"
      ]
     },
     "metadata": {
      "needs_background": "light"
     },
     "output_type": "display_data"
    }
   ],
   "source": [
    "# 결측데이터는 'X'로 대체\n",
    "whole_df['cabin'] = whole_df['cabin'].fillna('X')\n",
    "\n",
    "# cabin 피처의 첫번째 알파벳을 추출\n",
    "whole_df['cabin'] = whole_df['cabin'].apply(lambda x: x[0])\n",
    "\n",
    "ax = sns.countplot(x='cabin', hue='survived', data=whole_df)\n",
    "plt.show()"
   ]
  },
  {
   "cell_type": "code",
   "execution_count": 42,
   "metadata": {},
   "outputs": [],
   "source": [
    "# 추출한 'G'나 'T'를 'X'로 대체 (G,T 너무 적어서 그냥 버림..)\n",
    "whole_df['cabin'] = whole_df['cabin'].replace({'G':'X', 'T':'X'})"
   ]
  },
  {
   "cell_type": "code",
   "execution_count": 43,
   "metadata": {},
   "outputs": [
    {
     "data": {
      "image/png": "[encoded data removed]",
      "text/plain": [
       "<Figure size 360x288 with 1 Axes>"
      ]
     },
     "metadata": {
      "needs_background": "light"
     },
     "output_type": "display_data"
    }
   ],
   "source": [
    "ax = sns.countplot(x='cabin', hue='survived', data=whole_df)\n",
    "plt.show()"
   ]
  },
  {
   "cell_type": "markdown",
   "metadata": {},
   "source": [
    "### name 피처"
   ]
  },
  {
   "cell_type": "raw",
   "metadata": {},
   "source": [
    "Mr, Mrs -> 호칭 -> 나이 가늠"
   ]
  },
  {
   "cell_type": "code",
   "execution_count": 44,
   "metadata": {},
   "outputs": [
    {
     "data": {
      "text/plain": [
       "[' Miss',\n",
       " ' Mr',\n",
       " ' Master',\n",
       " ' Mrs',\n",
       " ' Dr',\n",
       " ' Mlle',\n",
       " ' Col',\n",
       " ' Rev',\n",
       " ' Ms',\n",
       " ' Mme',\n",
       " ' Sir',\n",
       " ' the Countess',\n",
       " ' Dona',\n",
       " ' Jonkheer',\n",
       " ' Lady',\n",
       " ' Major',\n",
       " ' Don',\n",
       " ' Capt']"
      ]
     },
     "execution_count": 44,
     "metadata": {},
     "output_type": "execute_result"
    }
   ],
   "source": [
    "# 이름에서 호칭(이름 중간에 있는 것,,) 추출\n",
    "name_grade = whole_df['name'].apply(lambda x: x.split(',', 1)[1].split('.')[0])\n",
    "name_grade = name_grade.unique().tolist()\n",
    "name_grade"
   ]
  },
  {
   "cell_type": "code",
   "execution_count": 45,
   "metadata": {},
   "outputs": [],
   "source": [
    "# 호칭에 따라 그루핑\n",
    "grade_dict = {'A':['Rev', 'Col', 'Major', 'Dr', 'Capt', 'Sir'],\n",
    "             'B':['Ms', 'Mme', 'Mrs', 'Dona'],\n",
    "             'C':['Jonkheer', 'the Countess'],\n",
    "             'D':['Mr', 'Don'],\n",
    "             'E':['Master'],\n",
    "             'F':['Miss', 'Mlle', 'Lady']}"
   ]
  },
  {
   "cell_type": "code",
   "execution_count": 46,
   "metadata": {},
   "outputs": [
    {
     "data": {
      "text/plain": [
       "D    758\n",
       "F    263\n",
       "B    201\n",
       "E     61\n",
       "A     24\n",
       "C      2\n",
       "Name: name, dtype: int64"
      ]
     },
     "execution_count": 46,
     "metadata": {},
     "output_type": "execute_result"
    }
   ],
   "source": [
    "def give_grade(x):\n",
    "    grade = x.split(', ', 1)[1].split('.')[0]\n",
    "    \n",
    "    for key, value in grade_dict.items():\n",
    "        for title in value:\n",
    "            if grade == title:\n",
    "                return key\n",
    "    return 'G'\n",
    "\n",
    "whole_df['name'] = whole_df['name'].apply(lambda x: give_grade(x))\n",
    "\n",
    "whole_df['name'].value_counts()"
   ]
  },
  {
   "cell_type": "code",
   "execution_count": 47,
   "metadata": {},
   "outputs": [
    {
     "data": {
      "text/html": [
       "<div>\n",
       "<style scoped>\n",
       "    .dataframe tbody tr th:only-of-type {\n",
       "        vertical-align: middle;\n",
       "    }\n",
       "\n",
       "    .dataframe tbody tr th {\n",
       "        vertical-align: top;\n",
       "    }\n",
       "\n",
       "    .dataframe thead th {\n",
       "        text-align: right;\n",
       "    }\n",
       "</style>\n",
       "<table border=\"1\" class=\"dataframe\">\n",
       "  <thead>\n",
       "    <tr style=\"text-align: right;\">\n",
       "      <th></th>\n",
       "      <th>pclass</th>\n",
       "      <th>survived</th>\n",
       "      <th>age</th>\n",
       "      <th>sibsp</th>\n",
       "      <th>parch</th>\n",
       "      <th>fare</th>\n",
       "      <th>name_A</th>\n",
       "      <th>name_B</th>\n",
       "      <th>name_C</th>\n",
       "      <th>name_D</th>\n",
       "      <th>...</th>\n",
       "      <th>cabin_A</th>\n",
       "      <th>cabin_B</th>\n",
       "      <th>cabin_C</th>\n",
       "      <th>cabin_D</th>\n",
       "      <th>cabin_E</th>\n",
       "      <th>cabin_F</th>\n",
       "      <th>cabin_X</th>\n",
       "      <th>embarked_C</th>\n",
       "      <th>embarked_Q</th>\n",
       "      <th>embarked_S</th>\n",
       "    </tr>\n",
       "  </thead>\n",
       "  <tbody>\n",
       "    <tr>\n",
       "      <th>0</th>\n",
       "      <td>2</td>\n",
       "      <td>1</td>\n",
       "      <td>13.000000</td>\n",
       "      <td>0</td>\n",
       "      <td>1</td>\n",
       "      <td>19.5000</td>\n",
       "      <td>0</td>\n",
       "      <td>0</td>\n",
       "      <td>0</td>\n",
       "      <td>0</td>\n",
       "      <td>...</td>\n",
       "      <td>0</td>\n",
       "      <td>0</td>\n",
       "      <td>0</td>\n",
       "      <td>0</td>\n",
       "      <td>0</td>\n",
       "      <td>0</td>\n",
       "      <td>1</td>\n",
       "      <td>0</td>\n",
       "      <td>0</td>\n",
       "      <td>1</td>\n",
       "    </tr>\n",
       "    <tr>\n",
       "      <th>1</th>\n",
       "      <td>2</td>\n",
       "      <td>1</td>\n",
       "      <td>4.000000</td>\n",
       "      <td>1</td>\n",
       "      <td>1</td>\n",
       "      <td>23.0000</td>\n",
       "      <td>0</td>\n",
       "      <td>0</td>\n",
       "      <td>0</td>\n",
       "      <td>0</td>\n",
       "      <td>...</td>\n",
       "      <td>0</td>\n",
       "      <td>0</td>\n",
       "      <td>0</td>\n",
       "      <td>0</td>\n",
       "      <td>0</td>\n",
       "      <td>0</td>\n",
       "      <td>1</td>\n",
       "      <td>0</td>\n",
       "      <td>0</td>\n",
       "      <td>1</td>\n",
       "    </tr>\n",
       "    <tr>\n",
       "      <th>2</th>\n",
       "      <td>2</td>\n",
       "      <td>1</td>\n",
       "      <td>30.000000</td>\n",
       "      <td>1</td>\n",
       "      <td>0</td>\n",
       "      <td>13.8583</td>\n",
       "      <td>0</td>\n",
       "      <td>0</td>\n",
       "      <td>0</td>\n",
       "      <td>0</td>\n",
       "      <td>...</td>\n",
       "      <td>0</td>\n",
       "      <td>0</td>\n",
       "      <td>0</td>\n",
       "      <td>0</td>\n",
       "      <td>0</td>\n",
       "      <td>0</td>\n",
       "      <td>1</td>\n",
       "      <td>1</td>\n",
       "      <td>0</td>\n",
       "      <td>0</td>\n",
       "    </tr>\n",
       "    <tr>\n",
       "      <th>3</th>\n",
       "      <td>3</td>\n",
       "      <td>0</td>\n",
       "      <td>30.231444</td>\n",
       "      <td>0</td>\n",
       "      <td>0</td>\n",
       "      <td>7.7250</td>\n",
       "      <td>0</td>\n",
       "      <td>0</td>\n",
       "      <td>0</td>\n",
       "      <td>1</td>\n",
       "      <td>...</td>\n",
       "      <td>0</td>\n",
       "      <td>0</td>\n",
       "      <td>0</td>\n",
       "      <td>0</td>\n",
       "      <td>0</td>\n",
       "      <td>0</td>\n",
       "      <td>1</td>\n",
       "      <td>0</td>\n",
       "      <td>1</td>\n",
       "      <td>0</td>\n",
       "    </tr>\n",
       "    <tr>\n",
       "      <th>4</th>\n",
       "      <td>3</td>\n",
       "      <td>1</td>\n",
       "      <td>22.000000</td>\n",
       "      <td>0</td>\n",
       "      <td>0</td>\n",
       "      <td>7.7250</td>\n",
       "      <td>0</td>\n",
       "      <td>0</td>\n",
       "      <td>0</td>\n",
       "      <td>0</td>\n",
       "      <td>...</td>\n",
       "      <td>0</td>\n",
       "      <td>0</td>\n",
       "      <td>0</td>\n",
       "      <td>0</td>\n",
       "      <td>0</td>\n",
       "      <td>0</td>\n",
       "      <td>1</td>\n",
       "      <td>0</td>\n",
       "      <td>1</td>\n",
       "      <td>0</td>\n",
       "    </tr>\n",
       "  </tbody>\n",
       "</table>\n",
       "<p>5 rows × 24 columns</p>\n",
       "</div>"
      ],
      "text/plain": [
       "   pclass  survived        age  sibsp  parch     fare  name_A  name_B  name_C  \\\n",
       "0       2         1  13.000000      0      1  19.5000       0       0       0   \n",
       "1       2         1   4.000000      1      1  23.0000       0       0       0   \n",
       "2       2         1  30.000000      1      0  13.8583       0       0       0   \n",
       "3       3         0  30.231444      0      0   7.7250       0       0       0   \n",
       "4       3         1  22.000000      0      0   7.7250       0       0       0   \n",
       "\n",
       "   name_D  ...  cabin_A  cabin_B  cabin_C  cabin_D  cabin_E  cabin_F  cabin_X  \\\n",
       "0       0  ...        0        0        0        0        0        0        1   \n",
       "1       0  ...        0        0        0        0        0        0        1   \n",
       "2       0  ...        0        0        0        0        0        0        1   \n",
       "3       1  ...        0        0        0        0        0        0        1   \n",
       "4       0  ...        0        0        0        0        0        0        1   \n",
       "\n",
       "   embarked_C  embarked_Q  embarked_S  \n",
       "0           0           0           1  \n",
       "1           0           0           1  \n",
       "2           1           0           0  \n",
       "3           0           1           0  \n",
       "4           0           1           0  \n",
       "\n",
       "[5 rows x 24 columns]"
      ]
     },
     "execution_count": 47,
     "metadata": {},
     "output_type": "execute_result"
    }
   ],
   "source": [
    "# 원-핫 인코딩\n",
    "whole_df_encoded = pd.get_dummies(whole_df)\n",
    "train = whole_df_encoded[:train_idx_num]\n",
    "test = whole_df_encoded[train_idx_num:]\n",
    "\n",
    "train.head()"
   ]
  },
  {
   "cell_type": "code",
   "execution_count": 48,
   "metadata": {},
   "outputs": [
    {
     "name": "stdout",
     "output_type": "stream",
     "text": [
      "accuracy : 0.79\n",
      "precision : 0.74\n",
      "recall : 0.70\n",
      "f1 : 0.72\n",
      "AUC score : 0.853\n"
     ]
    },
    {
     "data": {
      "image/png": "[encoded data removed]",
      "text/plain": [
       "<Figure size 360x288 with 1 Axes>"
      ]
     },
     "metadata": {
      "needs_background": "light"
     },
     "output_type": "display_data"
    }
   ],
   "source": [
    "# 데이터를 학습데이터와 테스트 데이터로 분류\n",
    "X_train, y_train = train.loc[:,train.columns!='survived'\n",
    "                            ].values, train['survived'].values\n",
    "X_test, y_test = test.loc[:,test.columns!='survived'\n",
    "                            ].values, test['survived'].values\n",
    "\n",
    "# 로지스틱 회귀 모델 학습\n",
    "lr = LogisticRegression(random_state=0)\n",
    "lr.fit(X_train, y_train)\n",
    "\n",
    "# 학습 모델의 테스트 데이터셋에 대한 예측 결과 반환\n",
    "y_pred = lr.predict(X_test)                         # 예측된 값\n",
    "y_pred_probability = lr.predict_proba(X_test)[:,1]   # 예측된 확률값\n",
    "\n",
    "# 테스트 데이터셋에 대한 정확도, 정밀도, 특이도, f1 평가지표\n",
    "print(\"accuracy : %.2f\" % accuracy_score(y_test, y_pred))     # 정확도\n",
    "print(\"precision : %.2f\" % precision_score(y_test, y_pred))   # 정밀도\n",
    "print(\"recall : %.2f\" % recall_score(y_test, y_pred))         # 재현도\n",
    "print(\"f1 : %.2f\" % f1_score(y_test, y_pred))                 # 정밀+재현 조화평균\n",
    "\n",
    "# 로지스틱 회귀 모델의 AUC 구하는 작업\n",
    "from sklearn.metrics import roc_curve, roc_auc_score\n",
    "\n",
    "# AUC(Area Under the Curve)                  # thresholds 임계값\n",
    "false_positive_rate, true_positive_rate, thresholds = roc_curve(\n",
    "    y_test, y_pred_probability)\n",
    "roc_auc = roc_auc_score(y_test, y_pred_probability)\n",
    "print('AUC score : %.3f' % roc_auc)\n",
    "\n",
    "# ROC curve 그래프\n",
    "plt.rcParams['figure.figsize'] = [5, 4]\n",
    "plt.plot(false_positive_rate, true_positive_rate, label='ROC curve(area=%0.3f)' \n",
    "         % roc_auc, color='r', linewidth=4.0)\n",
    "plt.plot([0,1], [0,1], 'k--')\n",
    "plt.xlim([0.0, 1.0])\n",
    "plt.ylim([0.0, 1.0])\n",
    "plt.xlabel('False Positive Rate')\n",
    "plt.ylabel('True Positive Rate')\n",
    "plt.title('ROC curve of Logistic regression')\n",
    "plt.legend(loc='lower right')\n",
    "plt.show()"
   ]
  },
  {
   "cell_type": "code",
   "execution_count": 54,
   "metadata": {},
   "outputs": [
    {
     "data": {
      "image/png": "[encoded data removed]",
      "text/plain": [
       "<Figure size 360x288 with 1 Axes>"
      ]
     },
     "metadata": {
      "needs_background": "light"
     },
     "output_type": "display_data"
    }
   ],
   "source": [
    "# 피처의 영향력을 파악 : 분류 모델의 피처 영향력을 시각화\n",
    "\n",
    "## 예측 대상인 survived 피처를 제외한 다른 피처를 리스트로 반환\n",
    "cols = train.columns.tolist()\n",
    "cols.remove('survived')\n",
    "y_pos = np.arange(len(cols))\n",
    "\n",
    "# 각 피처들의 회귀 분석 계수를 그래프의 x축으로 하여 시각화\n",
    "plt.rcParams['figure.figsize'] = [5, 4]\n",
    "fig, ax = plt.subplots()\n",
    "ax.barh(y_pos, lr.coef_[0], align='center', color='green', ecolor='black')# 계수, 절편값\n",
    "ax.set_yticks(y_pos)\n",
    "ax.set_yticklabels(cols)\n",
    "ax.invert_yaxis()\n",
    "ax.set_xlabel('Coef')\n",
    "ax.set_title(\"Each Feature's Coef\")\n",
    "plt.show()"
   ]
  },
  {
   "cell_type": "raw",
   "metadata": {},
   "source": [
    "K-Fold (교차검증)\n",
    "train, test데이터를 분할하여 사용하는데, test를 다른부분으로 선택하여 재검증"
   ]
  },
  {
   "cell_type": "markdown",
   "metadata": {},
   "source": [
    "### K-Fold 교차검증(Cross Validation)\n",
    "- 마지막 단계에서 완성된 분류 모델을 검증하는 단계\n",
    "- 모델의 과적합 여부 검증(K-Fold 교차검증, 학습곡선)\n",
    "- 가지고 있는 데이터세트를 훈련세트와 테스트세트로 번갈아 여러번 모델을 만들어 검증하는것\n",
    "- 훈련세트와 테스트세트를 나눌 때, 두 데이터의 불규형을 낮추는 방법\n",
    "- Stratified K-Fold : K-Fold의 단점을 보안한 검증 방법"
   ]
  },
  {
   "cell_type": "code",
   "execution_count": 55,
   "metadata": {},
   "outputs": [
    {
     "data": {
      "image/png": "[encoded data removed]",
      "text/plain": [
       "<Figure size 360x288 with 1 Axes>"
      ]
     },
     "metadata": {
      "needs_background": "light"
     },
     "output_type": "display_data"
    }
   ],
   "source": [
    "from sklearn.model_selection import KFold\n",
    "# KFold 교차검증의 k값을 5로 설정(n_splits=5)\n",
    "k = 5\n",
    "cv = KFold(k, shuffle=True, random_state=0)   # 전체를 몇 개로 나눌거냐, 섞기,,\n",
    "\n",
    "auc_history = []\n",
    "\n",
    "# K-Fold를 5번 분할, 학습하는 작업을 반복한다  # 정제가 끝난 데이터로...\n",
    "for i, (train_data_row, test_data_row) in enumerate(cv.split(whole_df_encoded)):\n",
    "    \n",
    "    # 5개로 분할된 fold 중에 4개는 학습데이터, 1개는 테스트데이터\n",
    "    df_train = whole_df_encoded.iloc[train_data_row]\n",
    "    df_test = whole_df_encoded.iloc[test_data_row]\n",
    "    \n",
    "    # 데이터를 학습데이터와 테스트 데이터로 분류\n",
    "    X_train, y_train = df_train.loc[:,df_train.columns!='survived'\n",
    "                                ].values, df_train['survived'].values\n",
    "    X_test, y_test = df_test.loc[:,df_test.columns!='survived'\n",
    "                                ].values, df_test['survived'].values\n",
    "    \n",
    "    # 로지스틱 회귀모델 학습\n",
    "    lr = LogisticRegression(random_state=0)\n",
    "    lr.fit(X_train, y_train)\n",
    "    \n",
    "    y_pred = lr.predict(X_test)\n",
    "    y_pred_probability = lr.predict_proba(X_test)[:,1]\n",
    "    \n",
    "    # 테스트 데이터셋 AUC 계산한 후, auc_history에 저장\n",
    "    # AUC(Area Under the Curve)\n",
    "    false_positive_rate, true_positive_rate, thresholds = roc_curve(\n",
    "        y_test, y_pred_probability)\n",
    "    roc_auc = roc_auc_score(y_test, y_pred_probability)    \n",
    "    auc_history.append(roc_auc)\n",
    "    \n",
    "#auc_history에 저장된 다섯번의 학습결과(AUC)를 시각화\n",
    "plt.xlabel('Each K-Fold')\n",
    "plt.ylabel('AUC of splited test data')\n",
    "plt.plot(range(1, k+1), auc_history)\n",
    "plt.show()"
   ]
  },
  {
   "cell_type": "markdown",
   "metadata": {},
   "source": [
    "- 데이터의 개수가 적어서 발생하는 문제\n",
    "- 모든 실행에서 공통적으로 AUC 0.8이상이면, 과적합을 의심해볼 수 있다"
   ]
  },
  {
   "cell_type": "code",
   "execution_count": 58,
   "metadata": {},
   "outputs": [
    {
     "data": {
      "image/png": "[encoded data removed]",
      "text/plain": [
       "<Figure size 360x288 with 1 Axes>"
      ]
     },
     "metadata": {
      "needs_background": "light"
     },
     "output_type": "display_data"
    }
   ],
   "source": [
    "# 학습곡선\n",
    "# pip install scikit-plot\n",
    "import scikitplot as skplt\n",
    "skplt.estimators.plot_learning_curve(lr, X_train, y_train)\n",
    "plt.show()"
   ]
  },
  {
   "cell_type": "raw",
   "metadata": {},
   "source": [
    "선이 딱 붙어있다고 좋은게 아님...\n",
    "머신러닝에 정답은 없다..\n",
    "차이가 크면 과적합이 발생한거 일 수 있다..\n",
    "데이터 300개 이상이면 과접합 해결하겠구나,, 정확도는 떨어진다;;\n",
    "그래도 데이터가 많으면 좋다\n",
    "하지만 비슷한 데이터가 많은건 별로...(의미없음)"
   ]
  }
 ],
 "metadata": {
  "kernelspec": {
   "display_name": "Python 3",
   "language": "python",
   "name": "python3"
  },
  "language_info": {
   "codemirror_mode": {
    "name": "ipython",
    "version": 3
   },
   "file_extension": ".py",
   "mimetype": "text/x-python",
   "name": "python",
   "nbconvert_exporter": "python",
   "pygments_lexer": "ipython3",
   "version": "3.7.3"
  }
 },
 "nbformat": 4,
 "nbformat_minor": 2
}
