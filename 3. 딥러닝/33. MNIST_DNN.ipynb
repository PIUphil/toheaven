{
 "cells": [
  {
   "cell_type": "code",
   "execution_count": 1,
   "metadata": {},
   "outputs": [],
   "source": [
    "from tensorflow import keras\n",
    "(train_input, train_target), (test_input, test_target) = \\\n",
    "keras.datasets.mnist.load_data()"
   ]
  },
  {
   "cell_type": "code",
   "execution_count": 2,
   "metadata": {},
   "outputs": [],
   "source": [
    "from sklearn.model_selection import train_test_split\n",
    "\n",
    "train_scaled = train_input / 255.0 \n",
    "train_scaled = train_scaled.reshape(-1, 28*28)\n",
    "\n",
    "train_scaled, val_scaled, train_target, val_target = \\\n",
    "train_test_split(train_scaled, train_target, test_size=.2, random_state=42)"
   ]
  },
  {
   "cell_type": "code",
   "execution_count": 3,
   "metadata": {},
   "outputs": [],
   "source": [
    "# 모델 생성\n",
    "model = keras.Sequential()\n",
    "# 은닉층\n",
    "model.add(keras.layers.Dense(100, activation='sigmoid', input_shape=(784,)))\n",
    "# 출력층\n",
    "model.add(keras.layers.Dense(10, activation='softmax')) # softmax 전체 확률값 계산"
   ]
  },
  {
   "cell_type": "code",
   "execution_count": 4,
   "metadata": {},
   "outputs": [
    {
     "name": "stdout",
     "output_type": "stream",
     "text": [
      "Model: \"sequential\"\n",
      "_________________________________________________________________\n",
      "Layer (type)                 Output Shape              Param #   \n",
      "=================================================================\n",
      "dense (Dense)                (None, 100)               78500     \n",
      "_________________________________________________________________\n",
      "dense_1 (Dense)              (None, 10)                1010      \n",
      "=================================================================\n",
      "Total params: 79,510\n",
      "Trainable params: 79,510\n",
      "Non-trainable params: 0\n",
      "_________________________________________________________________\n"
     ]
    }
   ],
   "source": [
    "# 모델 정보 확인\n",
    "model.summary()"
   ]
  },
  {
   "cell_type": "code",
   "execution_count": 6,
   "metadata": {},
   "outputs": [
    {
     "name": "stdout",
     "output_type": "stream",
     "text": [
      "Train on 48000 samples\n",
      "Epoch 1/5\n",
      "48000/48000 [==============================] - 3s 57us/sample - loss: 0.1108 - accuracy: 0.9681\n",
      "Epoch 2/5\n",
      "48000/48000 [==============================] - 2s 49us/sample - loss: 0.0990 - accuracy: 0.9719\n",
      "Epoch 3/5\n",
      "48000/48000 [==============================] - 2s 49us/sample - loss: 0.0894 - accuracy: 0.9740\n",
      "Epoch 4/5\n",
      "48000/48000 [==============================] - 2s 49us/sample - loss: 0.0811 - accuracy: 0.9774\n",
      "Epoch 5/5\n",
      "48000/48000 [==============================] - ETA: 0s - loss: 0.0742 - accuracy: 0.97 - 2s 49us/sample - loss: 0.0745 - accuracy: 0.9790\n"
     ]
    },
    {
     "data": {
      "text/plain": [
       "<tensorflow.python.keras.callbacks.History at 0x28dd96e9710>"
      ]
     },
     "execution_count": 6,
     "metadata": {},
     "output_type": "execute_result"
    }
   ],
   "source": [
    "# 모델 설정 (최적화)\n",
    "model.compile(loss='sparse_categorical_crossentropy', metrics=['accuracy'])\n",
    "\n",
    "# 모델 훈련\n",
    "model.fit(train_scaled, train_target, epochs=5)"
   ]
  },
  {
   "cell_type": "code",
   "execution_count": 11,
   "metadata": {},
   "outputs": [
    {
     "name": "stdout",
     "output_type": "stream",
     "text": [
      "Train on 48000 samples\n",
      "Epoch 1/5\n",
      "48000/48000 [==============================] - 3s 57us/sample - loss: 0.2932 - accuracy: 0.9154\n",
      "Epoch 2/5\n",
      "48000/48000 [==============================] - 3s 52us/sample - loss: 0.1427 - accuracy: 0.9576\n",
      "Epoch 3/5\n",
      "48000/48000 [==============================] - 2s 49us/sample - loss: 0.1051 - accuracy: 0.9699\n",
      "Epoch 4/5\n",
      "48000/48000 [==============================] - 2s 51us/sample - loss: 0.0846 - accuracy: 0.9755\n",
      "Epoch 5/5\n",
      "48000/48000 [==============================] - 2s 52us/sample - loss: 0.0719 - accuracy: 0.9797\n"
     ]
    },
    {
     "data": {
      "text/plain": [
       "<tensorflow.python.keras.callbacks.History at 0x28dd5d6d3c8>"
      ]
     },
     "execution_count": 11,
     "metadata": {},
     "output_type": "execute_result"
    }
   ],
   "source": [
    "# (train_input, train_target), (test_input, test_target) = \\\n",
    "# keras.datasets.mnist.load_data()\n",
    "\n",
    "# train_scaled = train_input / 255.0 \n",
    "# # train_scaled = train_scaled.reshape(-1, 28*28)\n",
    "\n",
    "# train_scaled, val_scaled, train_target, val_target = \\\n",
    "# train_test_split(train_scaled, train_target, test_size=.2, random_state=42)\n",
    "\n",
    "model = keras.Sequential()\n",
    "model.add(keras.layers.Flatten(input_shape=(28,28)))\n",
    "model.add(keras.layers.Dense(100, activation='relu'))\n",
    "model.add(keras.layers.Dense(10, activation='softmax'))\n",
    "\n",
    "model.compile(loss='sparse_categorical_crossentropy', metrics=['accuracy'])\n",
    "model.fit(train_scaled, train_target, epochs=5)"
   ]
  },
  {
   "cell_type": "code",
   "execution_count": 14,
   "metadata": {},
   "outputs": [
    {
     "name": "stdout",
     "output_type": "stream",
     "text": [
      "Model: \"sequential_7\"\n",
      "_________________________________________________________________\n",
      "Layer (type)                 Output Shape              Param #   \n",
      "=================================================================\n",
      "flatten_6 (Flatten)          (None, 784)               0         \n",
      "_________________________________________________________________\n",
      "dense_17 (Dense)             (None, 256)               200960    \n",
      "_________________________________________________________________\n",
      "dense_18 (Dense)             (None, 128)               32896     \n",
      "_________________________________________________________________\n",
      "dense_19 (Dense)             (None, 64)                8256      \n",
      "_________________________________________________________________\n",
      "dense_20 (Dense)             (None, 32)                2080      \n",
      "_________________________________________________________________\n",
      "dense_21 (Dense)             (None, 10)                330       \n",
      "=================================================================\n",
      "Total params: 244,522\n",
      "Trainable params: 244,522\n",
      "Non-trainable params: 0\n",
      "_________________________________________________________________\n",
      "Train on 48000 samples\n",
      "Epoch 1/10\n",
      "48000/48000 [==============================] - ETA: 0s - loss: 0.3228 - accuracy: 0.90 - 2s 42us/sample - loss: 0.3202 - accuracy: 0.9035\n",
      "Epoch 2/10\n",
      "48000/48000 [==============================] - 2s 33us/sample - loss: 0.1176 - accuracy: 0.9647\n",
      "Epoch 3/10\n",
      "48000/48000 [==============================] - 2s 33us/sample - loss: 0.0811 - accuracy: 0.9746\n",
      "Epoch 4/10\n",
      "48000/48000 [==============================] - 2s 33us/sample - loss: 0.0594 - accuracy: 0.9814\n",
      "Epoch 5/10\n",
      "48000/48000 [==============================] - 2s 33us/sample - loss: 0.0468 - accuracy: 0.9854\n",
      "Epoch 6/10\n",
      "48000/48000 [==============================] - 2s 32us/sample - loss: 0.0372 - accuracy: 0.9886\n",
      "Epoch 7/10\n",
      "48000/48000 [==============================] - 2s 32us/sample - loss: 0.0300 - accuracy: 0.9905\n",
      "Epoch 8/10\n",
      "48000/48000 [==============================] - 2s 32us/sample - loss: 0.0244 - accuracy: 0.9925\n",
      "Epoch 9/10\n",
      "48000/48000 [==============================] - 2s 32us/sample - loss: 0.0205 - accuracy: 0.9934\n",
      "Epoch 10/10\n",
      "48000/48000 [==============================] - 2s 33us/sample - loss: 0.0173 - accuracy: 0.9944\n"
     ]
    },
    {
     "data": {
      "text/plain": [
       "<tensorflow.python.keras.callbacks.History at 0x28dd70a2278>"
      ]
     },
     "execution_count": 14,
     "metadata": {},
     "output_type": "execute_result"
    }
   ],
   "source": [
    "# 모델 생성\n",
    "model = keras.Sequential()\n",
    "model.add(keras.layers.Flatten(input_shape=(28,28)))\n",
    "model.add(keras.layers.Dense(256, activation='relu'))\n",
    "model.add(keras.layers.Dense(128, activation='relu'))\n",
    "model.add(keras.layers.Dense(64, activation='relu'))\n",
    "model.add(keras.layers.Dense(32, activation='relu'))\n",
    "model.add(keras.layers.Dense(10, activation='softmax'))\n",
    "\n",
    "model.compile(loss='sparse_categorical_crossentropy', metrics=['accuracy'])\n",
    "model.summary()\n",
    "model.fit(train_scaled, train_target, batch_size=100, epochs=10)"
   ]
  },
  {
   "cell_type": "code",
   "execution_count": 21,
   "metadata": {},
   "outputs": [],
   "source": [
    "from sklearn.datasets import load_wine\n",
    "wine = load_wine()\n"
   ]
  },
  {
   "cell_type": "code",
   "execution_count": 25,
   "metadata": {},
   "outputs": [
    {
     "data": {
      "text/plain": [
       "dict_keys(['data', 'target', 'frame', 'target_names', 'DESCR', 'feature_names'])"
      ]
     },
     "execution_count": 25,
     "metadata": {},
     "output_type": "execute_result"
    }
   ],
   "source": [
    "wine.keys()"
   ]
  },
  {
   "cell_type": "code",
   "execution_count": 28,
   "metadata": {},
   "outputs": [
    {
     "data": {
      "text/plain": [
       "(178, 13)"
      ]
     },
     "execution_count": 28,
     "metadata": {},
     "output_type": "execute_result"
    }
   ],
   "source": [
    "wine.data.shape"
   ]
  },
  {
   "cell_type": "code",
   "execution_count": 33,
   "metadata": {},
   "outputs": [],
   "source": [
    "from sklearn.datasets import load_diabetes\n",
    "dia = load_diabetes()"
   ]
  },
  {
   "cell_type": "code",
   "execution_count": 36,
   "metadata": {},
   "outputs": [
    {
     "data": {
      "text/plain": [
       "(442, 10)"
      ]
     },
     "execution_count": 36,
     "metadata": {},
     "output_type": "execute_result"
    }
   ],
   "source": [
    "dia.data.shape"
   ]
  },
  {
   "cell_type": "code",
   "execution_count": null,
   "metadata": {},
   "outputs": [],
   "source": []
  }
 ],
 "metadata": {
  "kernelspec": {
   "display_name": "Python 3",
   "language": "python",
   "name": "python3"
  },
  "language_info": {
   "codemirror_mode": {
    "name": "ipython",
    "version": 3
   },
   "file_extension": ".py",
   "mimetype": "text/x-python",
   "name": "python",
   "nbconvert_exporter": "python",
   "pygments_lexer": "ipython3",
   "version": "3.7.3"
  }
 },
 "nbformat": 4,
 "nbformat_minor": 2
}
