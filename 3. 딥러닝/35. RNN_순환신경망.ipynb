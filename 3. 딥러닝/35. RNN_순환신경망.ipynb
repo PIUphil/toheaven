{
 "cells": [
  {
   "cell_type": "markdown",
   "metadata": {},
   "source": [
    "### Machine Learning vs Deep Learning\n",
    "- ANN : 인공신경망, 모든 비선형 함수를 학습\n",
    "- SLP : 단층 퍼셉트론(Single Layer Perceptron). 입력층,출력층\n",
    "- MLP : 다층 퍼셉트론(Multi Layer Perceptron). 1개 이상의 은닉층을 보유, 일반적으로 지도학습(역전파. 경사하강법을 통해 손실율을 0에 가깝게 함)\n",
    "- DNN : 심층 신경망, ANN의 문제를 해결하기 위함(여러 레이어를 활성함수를 통해 분류모델로 분석을 최적화시킴)\n",
    "- CNN : 합성곱 신경망(Convolution). 이미지 및 비디오 처리에 활용\n",
    "- RNN : 순환 신경망, 순차 데이터(순서를 가진 데이터)를 처리 - 언어번역(어순), 시계열 데이터"
   ]
  },
  {
   "cell_type": "raw",
   "metadata": {},
   "source": [
    "특성 분석을 사람이 하면 머신러닝 / 시스템(신경망)이 하면 딥러닝"
   ]
  },
  {
   "cell_type": "markdown",
   "metadata": {},
   "source": [
    "'다소 부족하지만 괜찮았어'\n",
    "뒷부분이 중요하지만, 앞부분도 무시할 수 없음\n",
    "그전의 기억을 유지해야함\n",
    "\n",
    "RNN -> LSTM\n",
    "Recurrent Neural Networks(RNN)\n",
    "Long Short-Term Memory models(LSTM)\n",
    "\n",
    "MLP - (ANN, SLP, MLP, DNN) 묶어서 보기도 함"
   ]
  },
  {
   "cell_type": "markdown",
   "metadata": {},
   "source": [
    "![image](https://user-images.githubusercontent.com/58851945/119585053-deada280-be04-11eb-92f8-54bfa3a12ec8.png)"
   ]
  },
  {
   "cell_type": "markdown",
   "metadata": {},
   "source": [
    "뉴런 => 셀\n",
    "특성맵 => 은닉상태 (순환층에서 만들어진 것)\n",
    "활성화함수(시그모이드,렐루..) => tan(h) : 시그모이드와 유사. (-1 ~ 1)"
   ]
  },
  {
   "cell_type": "markdown",
   "metadata": {},
   "source": [
    "리뷰. 감성(감정)분석\n",
    "\n",
    "순환 이전의 계산은 정방향계산(피드포워드 feed foward 신경망)\n",
    "순환신경망은 피드포워드가 아님\n",
    "\n",
    "이전의 데이터를 재사용\n",
    "\n",
    "O_A =>  A : 타임스탬프 (처리하는 각 단계)"
   ]
  },
  {
   "cell_type": "markdown",
   "metadata": {},
   "source": [
    "'Hello Deep Learning'  : 샘플\n",
    "타임스탬프 : 샘플을 처리하는 단계"
   ]
  },
  {
   "cell_type": "code",
   "execution_count": 1,
   "metadata": {},
   "outputs": [
    {
     "data": {
      "text/plain": [
       "19"
      ]
     },
     "execution_count": 1,
     "metadata": {},
     "output_type": "execute_result"
    }
   ],
   "source": [
    "a='Hello Deep Learning'\n",
    "len(a)  # 타임스탬프가 처리하는 단위가 '글자'라면 19단계가 됨"
   ]
  },
  {
   "cell_type": "raw",
   "metadata": {},
   "source": [
    "순환신경망에선 동일한 가중치를 사용 (W_x)\n",
    "\n",
    "순환신경망은 은닉층 역할을 함\n",
    "\n",
    "순환신경망은 은닉층의 출력이 은닉층의 입력이 된다\n",
    "\n",
    "폴리 커넥티드 레이어, 완전연결층, 밀집층\n",
    "특성4개, 뉴런3개 -> 가중치 12개 (4x3)\n",
    "\n",
    "은닉층(뉴런,셀)의 가중치가\n",
    "자기자신과 다른애한테 연결됨 (완전연결)\n",
    "3x3 -> 가중치 9\n",
    "\n",
    "\n",
    "샘플1, 단어개수, 변환되는 값의 크기  (1, 4, 3)"
   ]
  },
  {
   "cell_type": "code",
   "execution_count": 2,
   "metadata": {},
   "outputs": [
    {
     "name": "stderr",
     "output_type": "stream",
     "text": [
      "C:\\Anaconda3\\lib\\site-packages\\tensorflow_core\\python\\keras\\datasets\\imdb.py:129: VisibleDeprecationWarning: Creating an ndarray from ragged nested sequences (which is a list-or-tuple of lists-or-tuples-or ndarrays with different lengths or shapes) is deprecated. If you meant to do this, you must specify 'dtype=object' when creating the ndarray\n",
      "  x_train, y_train = np.array(xs[:idx]), np.array(labels[:idx])\n"
     ]
    },
    {
     "name": "stdout",
     "output_type": "stream",
     "text": [
      "(25000,) (25000,)\n"
     ]
    },
    {
     "name": "stderr",
     "output_type": "stream",
     "text": [
      "C:\\Anaconda3\\lib\\site-packages\\tensorflow_core\\python\\keras\\datasets\\imdb.py:130: VisibleDeprecationWarning: Creating an ndarray from ragged nested sequences (which is a list-or-tuple of lists-or-tuples-or ndarrays with different lengths or shapes) is deprecated. If you meant to do this, you must specify 'dtype=object' when creating the ndarray\n",
      "  x_test, y_test = np.array(xs[idx:]), np.array(labels[idx:])\n"
     ]
    }
   ],
   "source": [
    "from tensorflow.keras.datasets import imdb\n",
    "\n",
    "# 단어 500개만 사용\n",
    "(train_input, train_target), (test_input, test_target) = \\\n",
    "imdb.load_data(num_words=500)\n",
    "\n",
    "print(train_input.shape, test_input.shape)"
   ]
  },
  {
   "cell_type": "code",
   "execution_count": 3,
   "metadata": {},
   "outputs": [
    {
     "data": {
      "text/plain": [
       "218"
      ]
     },
     "execution_count": 3,
     "metadata": {},
     "output_type": "execute_result"
    }
   ],
   "source": [
    "# 첫번째 리뷰의 길이 : 218개의 토큰으로 이루어져있다\n",
    "len(train_input[0]) "
   ]
  },
  {
   "cell_type": "code",
   "execution_count": 4,
   "metadata": {},
   "outputs": [
    {
     "data": {
      "text/plain": [
       "189"
      ]
     },
     "execution_count": 4,
     "metadata": {},
     "output_type": "execute_result"
    }
   ],
   "source": [
    "len(train_input[1])"
   ]
  },
  {
   "cell_type": "code",
   "execution_count": 5,
   "metadata": {},
   "outputs": [
    {
     "data": {
      "text/plain": [
       "array([1, 0, 0, 1, 0, 0, 1, 0, 1, 0, 1, 0, 0, 0, 0, 0, 1, 1, 0, 1],\n",
       "      dtype=int64)"
      ]
     },
     "execution_count": 5,
     "metadata": {},
     "output_type": "execute_result"
    }
   ],
   "source": [
    "# 리뷰의 감정분석 : 긍정(1), 부정(0)\n",
    "train_target[:20]"
   ]
  },
  {
   "cell_type": "code",
   "execution_count": 6,
   "metadata": {},
   "outputs": [
    {
     "name": "stdout",
     "output_type": "stream",
     "text": [
      "239.00925 178.0\n"
     ]
    }
   ],
   "source": [
    "# 검증세트\n",
    "from sklearn.model_selection import train_test_split\n",
    "train_input, val_input, train_target, val_target = \\\n",
    "train_test_split(train_input, train_target, test_size=.2, random_state=42)\n",
    "\n",
    "import numpy as np\n",
    "lengths = np.array([len(x) for x in train_input])\n",
    "print(np.mean(lengths), np.median(lengths))  # 리뷰마다 사용된 단어(글자?) 개수 평균,중간값"
   ]
  },
  {
   "cell_type": "code",
   "execution_count": 7,
   "metadata": {},
   "outputs": [
    {
     "data": {
      "image/png": "[encoded data removed]",
      "text/plain": [
       "<Figure size 432x288 with 1 Axes>"
      ]
     },
     "metadata": {
      "needs_background": "light"
     },
     "output_type": "display_data"
    }
   ],
   "source": [
    "import matplotlib.pyplot as plt\n",
    "%matplotlib inline\n",
    "\n",
    "plt.hist(lengths)\n",
    "plt.xlabel('length')\n",
    "plt.ylabel('frequency')\n",
    "plt.show()"
   ]
  },
  {
   "cell_type": "markdown",
   "metadata": {},
   "source": [
    "- 모든 리뷰의 길이를 100에 맞추기 위해 패딩을 수행한다.\n",
    "- zero-padding(0)"
   ]
  },
  {
   "cell_type": "code",
   "execution_count": 8,
   "metadata": {},
   "outputs": [
    {
     "data": {
      "text/plain": [
       "(20000, 100)"
      ]
     },
     "execution_count": 8,
     "metadata": {},
     "output_type": "execute_result"
    }
   ],
   "source": [
    "# 시퀀스 데이터의 길이를 맞추는 함수 : pad_sequences()\n",
    "from tensorflow.keras.preprocessing.sequence import pad_sequences\n",
    "train_seq = pad_sequences(train_input, maxlen=100)\n",
    "train_seq.shape"
   ]
  },
  {
   "cell_type": "code",
   "execution_count": 9,
   "metadata": {},
   "outputs": [
    {
     "name": "stdout",
     "output_type": "stream",
     "text": [
      "[ 10   4  20   9   2 364 352   5  45   6   2   2  33 269   8   2 142   2\n",
      "   5   2  17  73  17 204   5   2  19  55   2   2  92  66 104  14  20  93\n",
      "  76   2 151  33   4  58  12 188   2 151  12 215  69 224 142  73 237   6\n",
      "   2   7   2   2 188   2 103  14  31  10  10 451   7   2   5   2  80  91\n",
      "   2  30   2  34  14  20 151  50  26 131  49   2  84  46  50  37  80  79\n",
      "   6   2  46   7  14  20  10  10 470 158]\n"
     ]
    }
   ],
   "source": [
    "print(train_seq[0])  # 패딩0 이 안들어있으므로 리뷰단어 100개가 넘어서 짤린듯하다"
   ]
  },
  {
   "cell_type": "code",
   "execution_count": 10,
   "metadata": {},
   "outputs": [
    {
     "name": "stdout",
     "output_type": "stream",
     "text": [
      "[6, 2, 46, 7, 14, 20, 10, 10, 470, 158]\n"
     ]
    }
   ],
   "source": [
    "print(train_input[0][-10:])"
   ]
  },
  {
   "cell_type": "code",
   "execution_count": 11,
   "metadata": {},
   "outputs": [
    {
     "name": "stdout",
     "output_type": "stream",
     "text": [
      "[  0   0   0   0   1   2 195  19  49   2   2 190   4   2 352   2 183  10\n",
      "  10  13  82  79   4   2  36  71 269   8   2  25  19  49   7   4   2   2\n",
      "   2   2   2  10  10  48  25  40   2  11   2   2  40   2   2   5   4   2\n",
      "   2  95  14 238  56 129   2  10  10  21   2  94 364 352   2   2  11 190\n",
      "  24 484   2   7  94 205 405  10  10  87   2  34  49   2   7   2   2   2\n",
      "   2   2 290   2  46  48  64  18   4   2]\n"
     ]
    }
   ],
   "source": [
    "print(train_seq[5])  # 결정적인 얘기는 뒷부분에 하는 경우가 많아서, 패딩을 앞에 추가"
   ]
  },
  {
   "cell_type": "code",
   "execution_count": 12,
   "metadata": {},
   "outputs": [],
   "source": [
    "val_seq = pad_sequences(val_input, maxlen=100)  # 검증데이터 패딩"
   ]
  },
  {
   "cell_type": "markdown",
   "metadata": {},
   "source": [
    "### 순환 신경망 만들기"
   ]
  },
  {
   "cell_type": "code",
   "execution_count": 13,
   "metadata": {},
   "outputs": [],
   "source": [
    "from tensorflow import keras\n",
    "\n",
    "model = keras.Sequential()\n",
    "model.add(keras.layers.SimpleRNN(8, input_shape=(100, 500)))  # 은닉층-순환신경망(단순)\n",
    "model.add(keras.layers.Dense(1, activation='sigmoid'))"
   ]
  },
  {
   "cell_type": "markdown",
   "metadata": {},
   "source": [
    "큰 수가 영향이 크다(중요하다)고 오해할 수 있어서\n",
    "큰 수의 속성을 제거하기위해 '원핫인코딩'을 함 (to_categorical)\n",
    "\n",
    "500개의 단어 -> 500에 맞게 원핫인코딩함"
   ]
  },
  {
   "cell_type": "code",
   "execution_count": 14,
   "metadata": {},
   "outputs": [
    {
     "name": "stdout",
     "output_type": "stream",
     "text": [
      "(20000, 100, 500)\n"
     ]
    }
   ],
   "source": [
    "train_oh = keras.utils.to_categorical(train_seq)\n",
    "print(train_oh.shape)  # input_shape=(100,500) 의 의미"
   ]
  },
  {
   "cell_type": "code",
   "execution_count": 15,
   "metadata": {},
   "outputs": [
    {
     "name": "stdout",
     "output_type": "stream",
     "text": [
      "[0. 0. 0. 0. 0. 0. 0. 0. 0. 0. 1. 0.]\n"
     ]
    }
   ],
   "source": [
    "print(train_oh[0][0][:12])"
   ]
  },
  {
   "cell_type": "code",
   "execution_count": 16,
   "metadata": {},
   "outputs": [
    {
     "name": "stdout",
     "output_type": "stream",
     "text": [
      "1.0\n"
     ]
    }
   ],
   "source": [
    "print(np.sum(train_oh[0][0]))"
   ]
  },
  {
   "cell_type": "code",
   "execution_count": 17,
   "metadata": {},
   "outputs": [],
   "source": [
    "val_oh = keras.utils.to_categorical(val_seq)"
   ]
  },
  {
   "cell_type": "code",
   "execution_count": 18,
   "metadata": {},
   "outputs": [
    {
     "name": "stdout",
     "output_type": "stream",
     "text": [
      "Model: \"sequential\"\n",
      "_________________________________________________________________\n",
      "Layer (type)                 Output Shape              Param #   \n",
      "=================================================================\n",
      "simple_rnn (SimpleRNN)       (None, 8)                 4072      \n",
      "_________________________________________________________________\n",
      "dense (Dense)                (None, 1)                 9         \n",
      "=================================================================\n",
      "Total params: 4,081\n",
      "Trainable params: 4,081\n",
      "Non-trainable params: 0\n",
      "_________________________________________________________________\n"
     ]
    }
   ],
   "source": [
    "# 모델 정보 확인\n",
    "model.summary()\n",
    "# 500개 차원 8개뉴런 (500x8) # 8개 각각 타임스탬프 8x8=64 (가중치) # 8개 편향 8  == 4072"
   ]
  },
  {
   "cell_type": "markdown",
   "metadata": {},
   "source": [
    "학습률(learning_rate) : 1e-4 = 0.0001  \n",
    "rmsprop값을 변수로 뺀건, 커스텀 가능한걸 보여주기위함  \n",
    "기본 학습률은 0.001 (1e-3)  \n",
    "=> 최적화 커스텀"
   ]
  },
  {
   "cell_type": "raw",
   "metadata": {},
   "source": [
    "# 모델 설정과 훈련\n",
    "rmsprop = keras.optimizers.RMSprop(learning_rate=1e-4)\n",
    "model.compile(optimizer=rmsprop, loss='binary_crossentropy', metrics=['accuracy'])\n",
    "\n",
    "checkpoint_cb = keras.callbacks.ModelCheckpoint('best-simplernn-model.h5') # 복귀점\n",
    "early_stopping_cb = keras.callbacks.EarlyStopping(                         # 조기종료\n",
    "    patience=3,  # 손실율이 3번 이상 내려가지 않을 때\n",
    "    restore_best_weights=True) # 가장 최적의 가중치(낮은 손실값)을 가진걸로 되돌려라\n",
    "\n",
    "history = model.fit(train_oh, train_target, epochs=100, batch_size=64,\n",
    "                    validation_data(val_oh, val_target),\n",
    "                    callbacks=[checkpoint_cb, early_stopping_cb])"
   ]
  },
  {
   "cell_type": "code",
   "execution_count": 21,
   "metadata": {},
   "outputs": [
    {
     "name": "stdout",
     "output_type": "stream",
     "text": [
      "Train on 20000 samples, validate on 5000 samples\n",
      "Epoch 1/100\n",
      "20000/20000 [==============================] - 15s 728us/sample - loss: 0.6993 - accuracy: 0.5027 - val_loss: 0.6993 - val_accuracy: 0.5000\n",
      "Epoch 2/100\n",
      "20000/20000 [==============================] - 12s 618us/sample - loss: 0.6952 - accuracy: 0.5149 - val_loss: 0.6966 - val_accuracy: 0.5110\n",
      "Epoch 3/100\n",
      "20000/20000 [==============================] - 12s 598us/sample - loss: 0.6926 - accuracy: 0.5228 - val_loss: 0.6947 - val_accuracy: 0.5194\n",
      "Epoch 4/100\n",
      "20000/20000 [==============================] - 12s 597us/sample - loss: 0.6905 - accuracy: 0.5289 - val_loss: 0.6930 - val_accuracy: 0.5236\n",
      "Epoch 5/100\n",
      "20000/20000 [==============================] - 12s 600us/sample - loss: 0.6886 - accuracy: 0.5343 - val_loss: 0.6913 - val_accuracy: 0.5250\n",
      "Epoch 6/100\n",
      "20000/20000 [==============================] - 12s 624us/sample - loss: 0.6864 - accuracy: 0.5489 - val_loss: 0.6889 - val_accuracy: 0.5266\n",
      "Epoch 7/100\n",
      "20000/20000 [==============================] - 12s 606us/sample - loss: 0.6836 - accuracy: 0.5585 - val_loss: 0.6858 - val_accuracy: 0.5548\n",
      "Epoch 8/100\n",
      "20000/20000 [==============================] - 12s 610us/sample - loss: 0.6800 - accuracy: 0.5733 - val_loss: 0.6820 - val_accuracy: 0.5692\n",
      "Epoch 9/100\n",
      "20000/20000 [==============================] - 12s 607us/sample - loss: 0.6758 - accuracy: 0.5853 - val_loss: 0.6781 - val_accuracy: 0.5820\n",
      "Epoch 10/100\n",
      "20000/20000 [==============================] - 12s 607us/sample - loss: 0.6706 - accuracy: 0.5998 - val_loss: 0.6734 - val_accuracy: 0.5956\n",
      "Epoch 11/100\n",
      "20000/20000 [==============================] - 12s 617us/sample - loss: 0.6643 - accuracy: 0.6114 - val_loss: 0.6682 - val_accuracy: 0.6070\n",
      "Epoch 12/100\n",
      "20000/20000 [==============================] - 12s 624us/sample - loss: 0.6574 - accuracy: 0.6236 - val_loss: 0.6632 - val_accuracy: 0.6102\n",
      "Epoch 13/100\n",
      "20000/20000 [==============================] - 12s 612us/sample - loss: 0.6486 - accuracy: 0.6390 - val_loss: 0.6506 - val_accuracy: 0.6332\n",
      "Epoch 14/100\n",
      "20000/20000 [==============================] - 12s 622us/sample - loss: 0.6371 - accuracy: 0.6561 - val_loss: 0.6430 - val_accuracy: 0.6434\n",
      "Epoch 15/100\n",
      "20000/20000 [==============================] - 12s 604us/sample - loss: 0.6253 - accuracy: 0.6707 - val_loss: 0.6304 - val_accuracy: 0.6574\n",
      "Epoch 16/100\n",
      "20000/20000 [==============================] - 12s 606us/sample - loss: 0.6136 - accuracy: 0.6830 - val_loss: 0.6226 - val_accuracy: 0.6654\n",
      "Epoch 17/100\n",
      "20000/20000 [==============================] - 12s 617us/sample - loss: 0.6028 - accuracy: 0.6941 - val_loss: 0.6112 - val_accuracy: 0.6772\n",
      "Epoch 18/100\n",
      "20000/20000 [==============================] - 12s 604us/sample - loss: 0.5926 - accuracy: 0.7012 - val_loss: 0.6032 - val_accuracy: 0.6828\n",
      "Epoch 19/100\n",
      "20000/20000 [==============================] - 12s 600us/sample - loss: 0.5840 - accuracy: 0.7082 - val_loss: 0.5959 - val_accuracy: 0.6872\n",
      "Epoch 20/100\n",
      "20000/20000 [==============================] - 12s 606us/sample - loss: 0.5756 - accuracy: 0.7139 - val_loss: 0.5884 - val_accuracy: 0.6978\n",
      "Epoch 21/100\n",
      "20000/20000 [==============================] - 12s 608us/sample - loss: 0.5674 - accuracy: 0.7199 - val_loss: 0.5824 - val_accuracy: 0.7052\n",
      "Epoch 22/100\n",
      "20000/20000 [==============================] - 12s 613us/sample - loss: 0.5600 - accuracy: 0.7255 - val_loss: 0.5774 - val_accuracy: 0.7056\n",
      "Epoch 23/100\n",
      "20000/20000 [==============================] - 12s 610us/sample - loss: 0.5538 - accuracy: 0.7285 - val_loss: 0.5820 - val_accuracy: 0.6928\n",
      "Epoch 24/100\n",
      "20000/20000 [==============================] - 12s 607us/sample - loss: 0.5487 - accuracy: 0.7324 - val_loss: 0.5685 - val_accuracy: 0.7126\n",
      "Epoch 25/100\n",
      "20000/20000 [==============================] - 12s 615us/sample - loss: 0.5428 - accuracy: 0.7351 - val_loss: 0.5652 - val_accuracy: 0.7112\n",
      "Epoch 26/100\n",
      "20000/20000 [==============================] - 12s 596us/sample - loss: 0.5375 - accuracy: 0.7391 - val_loss: 0.5622 - val_accuracy: 0.7124\n",
      "Epoch 27/100\n",
      "20000/20000 [==============================] - 12s 601us/sample - loss: 0.5326 - accuracy: 0.7432 - val_loss: 0.5604 - val_accuracy: 0.7184\n",
      "Epoch 28/100\n",
      "20000/20000 [==============================] - 12s 601us/sample - loss: 0.5285 - accuracy: 0.7449 - val_loss: 0.5611 - val_accuracy: 0.7108\n",
      "Epoch 29/100\n",
      "20000/20000 [==============================] - 12s 598us/sample - loss: 0.5244 - accuracy: 0.7466 - val_loss: 0.5553 - val_accuracy: 0.7132\n",
      "Epoch 30/100\n",
      "20000/20000 [==============================] - 12s 610us/sample - loss: 0.5213 - accuracy: 0.7491 - val_loss: 0.5559 - val_accuracy: 0.7132\n",
      "Epoch 31/100\n",
      "20000/20000 [==============================] - 12s 613us/sample - loss: 0.5178 - accuracy: 0.7507 - val_loss: 0.5502 - val_accuracy: 0.7240\n",
      "Epoch 32/100\n",
      "20000/20000 [==============================] - 12s 609us/sample - loss: 0.5146 - accuracy: 0.7534 - val_loss: 0.5541 - val_accuracy: 0.7222\n",
      "Epoch 33/100\n",
      "20000/20000 [==============================] - 12s 607us/sample - loss: 0.5121 - accuracy: 0.7549 - val_loss: 0.5570 - val_accuracy: 0.7108\n",
      "Epoch 34/100\n",
      "20000/20000 [==============================] - 12s 602us/sample - loss: 0.5094 - accuracy: 0.7576 - val_loss: 0.5536 - val_accuracy: 0.7242\n"
     ]
    }
   ],
   "source": [
    "# default = 0.001\n",
    "# 0.0001로 바꾸로 싶어서 별고 객체를 빼낸다\n",
    "rmsprop = keras.optimizers.RMSprop(learning_rate = 1e-4)\n",
    "model.compile(optimizer = rmsprop, \n",
    "              loss = 'binary_crossentropy',\n",
    "              metrics = ['accuracy'])\n",
    "\n",
    "# 복구점\n",
    "checkpoint_cb = keras.callbacks.ModelCheckpoint('best-simplernn-model.h5')\n",
    "\n",
    "# 조기종료\n",
    "# patience=3 - 손실율이 3번 이상 내려가지 않을때 종료\n",
    "early_stopping_cb = keras.callbacks.EarlyStopping(patience=3, \n",
    "                                                  restore_best_weights=True)\n",
    "\n",
    "# history라는 딕셔너리 객체 반환 밑의 history 변수라는 건 다름\n",
    "history = model.fit(train_oh, train_target, epochs=100, batch_size = 64,\n",
    "                    validation_data=(val_oh, val_target), \n",
    "                    callbacks=[checkpoint_cb, early_stopping_cb])"
   ]
  },
  {
   "cell_type": "code",
   "execution_count": 23,
   "metadata": {},
   "outputs": [
    {
     "data": {
      "image/png": "[encoded data removed]",
      "text/plain": [
       "<Figure size 432x288 with 1 Axes>"
      ]
     },
     "metadata": {
      "needs_background": "light"
     },
     "output_type": "display_data"
    }
   ],
   "source": [
    "# 훈련손실과 검증손실 시각화\n",
    "plt.plot(history.history['loss'])\n",
    "plt.plot(history.history['val_loss'])\n",
    "plt.xlabel('epoch')\n",
    "plt.ylabel('loss')\n",
    "plt.legend(['train','val'])\n",
    "plt.show()"
   ]
  },
  {
   "cell_type": "code",
   "execution_count": 24,
   "metadata": {},
   "outputs": [
    {
     "name": "stdout",
     "output_type": "stream",
     "text": [
      "8000000 4000000000\n"
     ]
    }
   ],
   "source": [
    "print(train_seq.nbytes, train_oh.nbytes)  # 500배"
   ]
  },
  {
   "cell_type": "markdown",
   "metadata": {},
   "source": [
    "원핫인코딩 -> 많은 기억공간을 차지함  \n",
    "-> 원핫인코딩 대신 임베딩 사용 (각각의 단어를 고정 크기의 실수 벡터로 변환)"
   ]
  },
  {
   "cell_type": "markdown",
   "metadata": {},
   "source": [
    "### 단어 임베딩 처리"
   ]
  },
  {
   "cell_type": "code",
   "execution_count": 26,
   "metadata": {},
   "outputs": [
    {
     "name": "stdout",
     "output_type": "stream",
     "text": [
      "Model: \"sequential_1\"\n",
      "_________________________________________________________________\n",
      "Layer (type)                 Output Shape              Param #   \n",
      "=================================================================\n",
      "embedding (Embedding)        (None, 100, 16)           8000      \n",
      "_________________________________________________________________\n",
      "simple_rnn_1 (SimpleRNN)     (None, 8)                 200       \n",
      "_________________________________________________________________\n",
      "dense_1 (Dense)              (None, 1)                 9         \n",
      "=================================================================\n",
      "Total params: 8,209\n",
      "Trainable params: 8,209\n",
      "Non-trainable params: 0\n",
      "_________________________________________________________________\n"
     ]
    }
   ],
   "source": [
    "model2 = keras.Sequential()\n",
    "model2.add(keras.layers.Embedding(500, 16, input_length=100))\n",
    "# 사용할 단어(500개), 임베딩크기(원핫인코딩보다 작게. 16~20정도 씀) 16개 벡터 배열?\n",
    "# input_shape대신 length사용 : 입력데이터(패딩한 샘플 크기 -> 100)의 길이\n",
    "model2.add(keras.layers.SimpleRNN(8)) # 8개층\n",
    "model2.add(keras.layers.Dense(1, activation='sigmoid'))\n",
    "\n",
    "model2.summary()"
   ]
  },
  {
   "cell_type": "code",
   "execution_count": 29,
   "metadata": {},
   "outputs": [
    {
     "name": "stdout",
     "output_type": "stream",
     "text": [
      "Train on 20000 samples, validate on 5000 samples\n",
      "Epoch 1/100\n",
      "20000/20000 [==============================] - 7s 360us/sample - loss: 0.6804 - accuracy: 0.5584 - val_loss: 0.6430 - val_accuracy: 0.6534\n",
      "Epoch 2/100\n",
      "20000/20000 [==============================] - 6s 298us/sample - loss: 0.6186 - accuracy: 0.6864 - val_loss: 0.6026 - val_accuracy: 0.7058\n",
      "Epoch 3/100\n",
      "20000/20000 [==============================] - 6s 287us/sample - loss: 0.5828 - accuracy: 0.7300 - val_loss: 0.5794 - val_accuracy: 0.7250\n",
      "Epoch 4/100\n",
      "20000/20000 [==============================] - 6s 285us/sample - loss: 0.5560 - accuracy: 0.7516 - val_loss: 0.5529 - val_accuracy: 0.7508\n",
      "Epoch 5/100\n",
      "20000/20000 [==============================] - 6s 285us/sample - loss: 0.5344 - accuracy: 0.7677 - val_loss: 0.5373 - val_accuracy: 0.7560\n",
      "Epoch 6/100\n",
      "20000/20000 [==============================] - 6s 297us/sample - loss: 0.5170 - accuracy: 0.7761 - val_loss: 0.5191 - val_accuracy: 0.7698\n",
      "Epoch 7/100\n",
      "20000/20000 [==============================] - 6s 291us/sample - loss: 0.5015 - accuracy: 0.7861 - val_loss: 0.5096 - val_accuracy: 0.7708\n",
      "Epoch 8/100\n",
      "20000/20000 [==============================] - 6s 294us/sample - loss: 0.4883 - accuracy: 0.7916 - val_loss: 0.4995 - val_accuracy: 0.7764\n",
      "Epoch 9/100\n",
      "20000/20000 [==============================] - 6s 288us/sample - loss: 0.4766 - accuracy: 0.7969 - val_loss: 0.4885 - val_accuracy: 0.7822\n",
      "Epoch 10/100\n",
      "20000/20000 [==============================] - 6s 286us/sample - loss: 0.4662 - accuracy: 0.8007 - val_loss: 0.4795 - val_accuracy: 0.7872\n",
      "Epoch 11/100\n",
      "20000/20000 [==============================] - 6s 292us/sample - loss: 0.4576 - accuracy: 0.8041 - val_loss: 0.4821 - val_accuracy: 0.7784\n",
      "Epoch 12/100\n",
      "20000/20000 [==============================] - 6s 287us/sample - loss: 0.4499 - accuracy: 0.8056 - val_loss: 0.4710 - val_accuracy: 0.7902\n",
      "Epoch 13/100\n",
      "20000/20000 [==============================] - 6s 288us/sample - loss: 0.4423 - accuracy: 0.8094 - val_loss: 0.4694 - val_accuracy: 0.7942\n",
      "Epoch 14/100\n",
      "20000/20000 [==============================] - 6s 283us/sample - loss: 0.4361 - accuracy: 0.8123 - val_loss: 0.4625 - val_accuracy: 0.7938\n",
      "Epoch 15/100\n",
      "20000/20000 [==============================] - 6s 290us/sample - loss: 0.4312 - accuracy: 0.8142 - val_loss: 0.4604 - val_accuracy: 0.7930\n",
      "Epoch 16/100\n",
      "20000/20000 [==============================] - 6s 285us/sample - loss: 0.4266 - accuracy: 0.8159 - val_loss: 0.4562 - val_accuracy: 0.7984\n",
      "Epoch 17/100\n",
      "20000/20000 [==============================] - 6s 291us/sample - loss: 0.4216 - accuracy: 0.8184 - val_loss: 0.4554 - val_accuracy: 0.7966\n",
      "Epoch 18/100\n",
      "20000/20000 [==============================] - 6s 297us/sample - loss: 0.4182 - accuracy: 0.8178 - val_loss: 0.4582 - val_accuracy: 0.7906\n",
      "Epoch 19/100\n",
      "20000/20000 [==============================] - 6s 292us/sample - loss: 0.4142 - accuracy: 0.8200 - val_loss: 0.4559 - val_accuracy: 0.7940\n",
      "Epoch 20/100\n",
      "20000/20000 [==============================] - 6s 284us/sample - loss: 0.4112 - accuracy: 0.8213 - val_loss: 0.4544 - val_accuracy: 0.7964\n",
      "Epoch 21/100\n",
      "20000/20000 [==============================] - 6s 286us/sample - loss: 0.4082 - accuracy: 0.8231 - val_loss: 0.4518 - val_accuracy: 0.7988\n",
      "Epoch 22/100\n",
      "20000/20000 [==============================] - 6s 294us/sample - loss: 0.4053 - accuracy: 0.8243 - val_loss: 0.4537 - val_accuracy: 0.7966\n",
      "Epoch 23/100\n",
      "20000/20000 [==============================] - 6s 289us/sample - loss: 0.4030 - accuracy: 0.8258 - val_loss: 0.4512 - val_accuracy: 0.7930\n",
      "Epoch 24/100\n",
      "20000/20000 [==============================] - 6s 286us/sample - loss: 0.4003 - accuracy: 0.8274 - val_loss: 0.4566 - val_accuracy: 0.7878\n",
      "Epoch 25/100\n",
      "20000/20000 [==============================] - 6s 284us/sample - loss: 0.3983 - accuracy: 0.8283 - val_loss: 0.4516 - val_accuracy: 0.7972\n",
      "Epoch 26/100\n",
      "20000/20000 [==============================] - 6s 286us/sample - loss: 0.3960 - accuracy: 0.8273 - val_loss: 0.4576 - val_accuracy: 0.7890\n"
     ]
    }
   ],
   "source": [
    "# default = 0.001\n",
    "# 0.0001로 바꾸로 싶어서 별고 객체를 빼낸다\n",
    "rmsprop = keras.optimizers.RMSprop(learning_rate = 1e-4)\n",
    "model2.compile(optimizer = rmsprop, \n",
    "              loss = 'binary_crossentropy',\n",
    "              metrics = ['accuracy'])\n",
    "\n",
    "# 복구점\n",
    "checkpoint_cb = keras.callbacks.ModelCheckpoint('best-simplernn-model2.h5')\n",
    "\n",
    "# 조기종료\n",
    "# patience=3 - 손실율이 3번 이상 내려가지 않을때 종료\n",
    "early_stopping_cb = keras.callbacks.EarlyStopping(patience=3, \n",
    "                                                  restore_best_weights=True)\n",
    "\n",
    "# history라는 딕셔너리 객체 반환 밑의 history 변수라는 건 다름\n",
    "history = model2.fit(train_seq, train_target, epochs=100, batch_size = 64,\n",
    "                    validation_data=(val_seq, val_target), \n",
    "                    callbacks=[checkpoint_cb, early_stopping_cb])"
   ]
  },
  {
   "cell_type": "code",
   "execution_count": 30,
   "metadata": {},
   "outputs": [
    {
     "data": {
      "image/png": "[encoded data removed]",
      "text/plain": [
       "<Figure size 432x288 with 1 Axes>"
      ]
     },
     "metadata": {
      "needs_background": "light"
     },
     "output_type": "display_data"
    }
   ],
   "source": [
    "# 훈련손실과 검증손실 시각화\n",
    "plt.plot(history.history['loss'])\n",
    "plt.plot(history.history['val_loss'])\n",
    "plt.xlabel('epoch')\n",
    "plt.ylabel('loss')\n",
    "plt.legend(['train','val'])\n",
    "plt.show()"
   ]
  }
 ],
 "metadata": {
  "kernelspec": {
   "display_name": "Python 3",
   "language": "python",
   "name": "python3"
  },
  "language_info": {
   "codemirror_mode": {
    "name": "ipython",
    "version": 3
   },
   "file_extension": ".py",
   "mimetype": "text/x-python",
   "name": "python",
   "nbconvert_exporter": "python",
   "pygments_lexer": "ipython3",
   "version": "3.7.3"
  }
 },
 "nbformat": 4,
 "nbformat_minor": 2
}
