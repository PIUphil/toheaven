{
 "cells": [
  {
   "cell_type": "code",
   "execution_count": 9,
   "metadata": {},
   "outputs": [
    {
     "name": "stderr",
     "output_type": "stream",
     "text": [
      "C:\\Anaconda3\\lib\\site-packages\\tensorflow_core\\python\\keras\\datasets\\imdb.py:129: VisibleDeprecationWarning: Creating an ndarray from ragged nested sequences (which is a list-or-tuple of lists-or-tuples-or ndarrays with different lengths or shapes) is deprecated. If you meant to do this, you must specify 'dtype=object' when creating the ndarray\n",
      "  x_train, y_train = np.array(xs[:idx]), np.array(labels[:idx])\n",
      "C:\\Anaconda3\\lib\\site-packages\\tensorflow_core\\python\\keras\\datasets\\imdb.py:130: VisibleDeprecationWarning: Creating an ndarray from ragged nested sequences (which is a list-or-tuple of lists-or-tuples-or ndarrays with different lengths or shapes) is deprecated. If you meant to do this, you must specify 'dtype=object' when creating the ndarray\n",
      "  x_test, y_test = np.array(xs[idx:]), np.array(labels[idx:])\n"
     ]
    }
   ],
   "source": [
    "from tensorflow import keras\n",
    "from tensorflow.keras.datasets import imdb\n",
    "from sklearn.model_selection import train_test_split\n",
    "import matplotlib.pyplot as plt\n",
    "%matplotlib inline\n",
    "\n",
    "(train_input, train_target), (test_input, test_target) = \\\n",
    "imdb.load_data(num_words=500)\n",
    "\n",
    "# 검증세트\n",
    "train_input, val_input, train_target, val_target = \\\n",
    "train_test_split(train_input, train_target, test_size=.2, random_state=42)"
   ]
  },
  {
   "cell_type": "code",
   "execution_count": 4,
   "metadata": {},
   "outputs": [],
   "source": [
    "# 시퀀스 데이터의 길이를 맞추는 함수 : pad_sequences()\n",
    "from tensorflow.keras.preprocessing.sequence import pad_sequences\n",
    "train_seq = pad_sequences(train_input, maxlen=100)\n",
    "val_seq = pad_sequences(val_input, maxlen=100)"
   ]
  },
  {
   "cell_type": "code",
   "execution_count": 5,
   "metadata": {},
   "outputs": [],
   "source": [
    "model = keras.Sequential()\n",
    "model.add(keras.layers.Embedding(500, 16, input_length=100))\n",
    "model.add(keras.layers.LSTM(8))\n",
    "model.add(keras.layers.Dense(1, activation='sigmoid'))"
   ]
  },
  {
   "cell_type": "code",
   "execution_count": 6,
   "metadata": {},
   "outputs": [
    {
     "name": "stdout",
     "output_type": "stream",
     "text": [
      "Model: \"sequential\"\n",
      "_________________________________________________________________\n",
      "Layer (type)                 Output Shape              Param #   \n",
      "=================================================================\n",
      "embedding (Embedding)        (None, 100, 16)           8000      \n",
      "_________________________________________________________________\n",
      "lstm (LSTM)                  (None, 8)                 800       \n",
      "_________________________________________________________________\n",
      "dense (Dense)                (None, 1)                 9         \n",
      "=================================================================\n",
      "Total params: 8,809\n",
      "Trainable params: 8,809\n",
      "Non-trainable params: 0\n",
      "_________________________________________________________________\n"
     ]
    }
   ],
   "source": [
    "model.summary()"
   ]
  },
  {
   "cell_type": "markdown",
   "metadata": {},
   "source": [
    "더 오래 기억할거니 말거니 -> 파라메터 200개에서 800개로 늘어남"
   ]
  },
  {
   "cell_type": "code",
   "execution_count": 8,
   "metadata": {
    "scrolled": true
   },
   "outputs": [
    {
     "name": "stdout",
     "output_type": "stream",
     "text": [
      "Train on 20000 samples, validate on 5000 samples\n",
      "Epoch 1/100\n",
      "20000/20000 [==============================] - 11s 538us/sample - loss: 0.6926 - accuracy: 0.5353 - val_loss: 0.6919 - val_accuracy: 0.5786\n",
      "Epoch 2/100\n",
      "20000/20000 [==============================] - 8s 411us/sample - loss: 0.6908 - accuracy: 0.6036 - val_loss: 0.6897 - val_accuracy: 0.6196\n",
      "Epoch 3/100\n",
      "20000/20000 [==============================] - 8s 410us/sample - loss: 0.6871 - accuracy: 0.6370 - val_loss: 0.6846 - val_accuracy: 0.6500\n",
      "Epoch 4/100\n",
      "20000/20000 [==============================] - 9s 439us/sample - loss: 0.6776 - accuracy: 0.6672 - val_loss: 0.6683 - val_accuracy: 0.6790\n",
      "Epoch 5/100\n",
      "20000/20000 [==============================] - 9s 427us/sample - loss: 0.6368 - accuracy: 0.7088 - val_loss: 0.5984 - val_accuracy: 0.7220\n",
      "Epoch 6/100\n",
      "20000/20000 [==============================] - 8s 412us/sample - loss: 0.5745 - accuracy: 0.7283 - val_loss: 0.5593 - val_accuracy: 0.7408\n",
      "Epoch 7/100\n",
      "20000/20000 [==============================] - 9s 427us/sample - loss: 0.5416 - accuracy: 0.7480 - val_loss: 0.5355 - val_accuracy: 0.7562\n",
      "Epoch 8/100\n",
      "20000/20000 [==============================] - 8s 420us/sample - loss: 0.5178 - accuracy: 0.7657 - val_loss: 0.5167 - val_accuracy: 0.7666\n",
      "Epoch 9/100\n",
      "20000/20000 [==============================] - 8s 415us/sample - loss: 0.4989 - accuracy: 0.7779 - val_loss: 0.5002 - val_accuracy: 0.7762\n",
      "Epoch 10/100\n",
      "20000/20000 [==============================] - 8s 415us/sample - loss: 0.4832 - accuracy: 0.7893 - val_loss: 0.4866 - val_accuracy: 0.7830\n",
      "Epoch 11/100\n",
      "20000/20000 [==============================] - 8s 419us/sample - loss: 0.4704 - accuracy: 0.7944 - val_loss: 0.4774 - val_accuracy: 0.7844\n",
      "Epoch 12/100\n",
      "20000/20000 [==============================] - 8s 413us/sample - loss: 0.4601 - accuracy: 0.7991 - val_loss: 0.4708 - val_accuracy: 0.7848\n",
      "Epoch 13/100\n",
      "20000/20000 [==============================] - 9s 446us/sample - loss: 0.4522 - accuracy: 0.8018 - val_loss: 0.4625 - val_accuracy: 0.7942\n",
      "Epoch 14/100\n",
      "20000/20000 [==============================] - 9s 450us/sample - loss: 0.4456 - accuracy: 0.8059 - val_loss: 0.4579 - val_accuracy: 0.7934\n",
      "Epoch 15/100\n",
      "20000/20000 [==============================] - 9s 431us/sample - loss: 0.4403 - accuracy: 0.8069 - val_loss: 0.4538 - val_accuracy: 0.7948\n",
      "Epoch 16/100\n",
      "20000/20000 [==============================] - 9s 430us/sample - loss: 0.4357 - accuracy: 0.8082 - val_loss: 0.4510 - val_accuracy: 0.7958\n",
      "Epoch 17/100\n",
      "20000/20000 [==============================] - 8s 415us/sample - loss: 0.4318 - accuracy: 0.8098 - val_loss: 0.4486 - val_accuracy: 0.7972\n",
      "Epoch 18/100\n",
      "20000/20000 [==============================] - 8s 411us/sample - loss: 0.4289 - accuracy: 0.8096 - val_loss: 0.4475 - val_accuracy: 0.7990\n",
      "Epoch 19/100\n",
      "20000/20000 [==============================] - 8s 425us/sample - loss: 0.4262 - accuracy: 0.8111 - val_loss: 0.4437 - val_accuracy: 0.7986\n",
      "Epoch 20/100\n",
      "20000/20000 [==============================] - 8s 422us/sample - loss: 0.4240 - accuracy: 0.8126 - val_loss: 0.4425 - val_accuracy: 0.7968\n",
      "Epoch 21/100\n",
      "20000/20000 [==============================] - 8s 409us/sample - loss: 0.4219 - accuracy: 0.8116 - val_loss: 0.4446 - val_accuracy: 0.7922\n",
      "Epoch 22/100\n",
      "20000/20000 [==============================] - 8s 422us/sample - loss: 0.4202 - accuracy: 0.8126 - val_loss: 0.4430 - val_accuracy: 0.8002\n",
      "Epoch 23/100\n",
      "20000/20000 [==============================] - 8s 414us/sample - loss: 0.4187 - accuracy: 0.8126 - val_loss: 0.4397 - val_accuracy: 0.7942\n",
      "Epoch 24/100\n",
      "20000/20000 [==============================] - 8s 412us/sample - loss: 0.4175 - accuracy: 0.8120 - val_loss: 0.4387 - val_accuracy: 0.7928\n",
      "Epoch 25/100\n",
      "20000/20000 [==============================] - 9s 431us/sample - loss: 0.4166 - accuracy: 0.8149 - val_loss: 0.4375 - val_accuracy: 0.8000\n",
      "Epoch 26/100\n",
      "20000/20000 [==============================] - 8s 417us/sample - loss: 0.4151 - accuracy: 0.8138 - val_loss: 0.4362 - val_accuracy: 0.7984\n",
      "Epoch 27/100\n",
      "20000/20000 [==============================] - 8s 416us/sample - loss: 0.4141 - accuracy: 0.8152 - val_loss: 0.4372 - val_accuracy: 0.7988\n",
      "Epoch 28/100\n",
      "20000/20000 [==============================] - 8s 423us/sample - loss: 0.4132 - accuracy: 0.8148 - val_loss: 0.4479 - val_accuracy: 0.7884\n",
      "Epoch 29/100\n",
      "20000/20000 [==============================] - 8s 412us/sample - loss: 0.4126 - accuracy: 0.8133 - val_loss: 0.4350 - val_accuracy: 0.7990\n",
      "Epoch 30/100\n",
      "20000/20000 [==============================] - 8s 409us/sample - loss: 0.4119 - accuracy: 0.8151 - val_loss: 0.4421 - val_accuracy: 0.8012\n",
      "Epoch 31/100\n",
      "20000/20000 [==============================] - 9s 433us/sample - loss: 0.4111 - accuracy: 0.8153 - val_loss: 0.4347 - val_accuracy: 0.8018\n",
      "Epoch 32/100\n",
      "20000/20000 [==============================] - 8s 418us/sample - loss: 0.4104 - accuracy: 0.8151 - val_loss: 0.4382 - val_accuracy: 0.8042\n",
      "Epoch 33/100\n",
      "20000/20000 [==============================] - 8s 418us/sample - loss: 0.4101 - accuracy: 0.8146 - val_loss: 0.4344 - val_accuracy: 0.7970\n",
      "Epoch 34/100\n",
      "20000/20000 [==============================] - 8s 421us/sample - loss: 0.4095 - accuracy: 0.8152 - val_loss: 0.4336 - val_accuracy: 0.7996\n",
      "Epoch 35/100\n",
      "20000/20000 [==============================] - 8s 410us/sample - loss: 0.4091 - accuracy: 0.8148 - val_loss: 0.4337 - val_accuracy: 0.7970\n",
      "Epoch 36/100\n",
      "20000/20000 [==============================] - 8s 424us/sample - loss: 0.4084 - accuracy: 0.8164 - val_loss: 0.4327 - val_accuracy: 0.7996\n",
      "Epoch 37/100\n",
      "20000/20000 [==============================] - 8s 412us/sample - loss: 0.4078 - accuracy: 0.8150 - val_loss: 0.4340 - val_accuracy: 0.7968\n",
      "Epoch 38/100\n",
      "20000/20000 [==============================] - 8s 409us/sample - loss: 0.4075 - accuracy: 0.8159 - val_loss: 0.4335 - val_accuracy: 0.7980\n",
      "Epoch 39/100\n",
      "20000/20000 [==============================] - 8s 424us/sample - loss: 0.4068 - accuracy: 0.8161 - val_loss: 0.4318 - val_accuracy: 0.8002\n",
      "Epoch 40/100\n",
      "20000/20000 [==============================] - 9s 434us/sample - loss: 0.4065 - accuracy: 0.8173 - val_loss: 0.4315 - val_accuracy: 0.7998\n",
      "Epoch 41/100\n",
      "20000/20000 [==============================] - 9s 432us/sample - loss: 0.4061 - accuracy: 0.8160 - val_loss: 0.4322 - val_accuracy: 0.8012\n",
      "Epoch 42/100\n",
      "20000/20000 [==============================] - 9s 435us/sample - loss: 0.4054 - accuracy: 0.8163 - val_loss: 0.4403 - val_accuracy: 0.7922\n",
      "Epoch 43/100\n",
      "20000/20000 [==============================] - 8s 425us/sample - loss: 0.4052 - accuracy: 0.8170 - val_loss: 0.4308 - val_accuracy: 0.8000\n",
      "Epoch 44/100\n",
      "20000/20000 [==============================] - 8s 415us/sample - loss: 0.4048 - accuracy: 0.8173 - val_loss: 0.4305 - val_accuracy: 0.8000\n",
      "Epoch 45/100\n",
      "20000/20000 [==============================] - 9s 436us/sample - loss: 0.4045 - accuracy: 0.8170 - val_loss: 0.4305 - val_accuracy: 0.7998\n",
      "Epoch 46/100\n",
      "20000/20000 [==============================] - 9s 430us/sample - loss: 0.4038 - accuracy: 0.8173 - val_loss: 0.4313 - val_accuracy: 0.7996\n",
      "Epoch 47/100\n",
      "20000/20000 [==============================] - 8s 425us/sample - loss: 0.4037 - accuracy: 0.8167 - val_loss: 0.4325 - val_accuracy: 0.8032\n",
      "Epoch 48/100\n",
      "20000/20000 [==============================] - 9s 439us/sample - loss: 0.4032 - accuracy: 0.8173 - val_loss: 0.4342 - val_accuracy: 0.7972\n"
     ]
    }
   ],
   "source": [
    "# 모델 설정과 훈련\n",
    "rmsprop = keras.optimizers.RMSprop(learning_rate = 1e-4)\n",
    "model.compile(optimizer = rmsprop, loss = 'binary_crossentropy', metrics = ['accuracy'])\n",
    "\n",
    "# 복구점\n",
    "checkpoint_cb = keras.callbacks.ModelCheckpoint('best-simplernn-model.h5')\n",
    "# 조기종료\n",
    "early_stopping_cb = keras.callbacks.EarlyStopping(patience=3, \n",
    "                                                  restore_best_weights=True)\n",
    "\n",
    "history = model.fit(train_seq, train_target, epochs=100, batch_size = 64,\n",
    "                    validation_data=(val_seq, val_target), \n",
    "                    callbacks=[checkpoint_cb, early_stopping_cb])"
   ]
  },
  {
   "cell_type": "code",
   "execution_count": 10,
   "metadata": {},
   "outputs": [
    {
     "data": {
      "image/png": "[encoded data removed]",
      "text/plain": [
       "<Figure size 432x288 with 1 Axes>"
      ]
     },
     "metadata": {
      "needs_background": "light"
     },
     "output_type": "display_data"
    }
   ],
   "source": [
    "# 훈련손실과 검증손실 시각화\n",
    "plt.plot(history.history['loss'])\n",
    "plt.plot(history.history['val_loss'])\n",
    "plt.xlabel('epoch')\n",
    "plt.ylabel('loss')\n",
    "plt.legend(['train','val'])\n",
    "plt.show()"
   ]
  },
  {
   "cell_type": "code",
   "execution_count": 12,
   "metadata": {},
   "outputs": [],
   "source": [
    "model2 = keras.Sequential()\n",
    "model2.add(keras.layers.Embedding(500, 16, input_length=100))\n",
    "model2.add(keras.layers.LSTM(8, dropout=0.3))  # 과대적합 줄이기위해 dropout\n",
    "model2.add(keras.layers.Dense(1, activation='sigmoid'))"
   ]
  },
  {
   "cell_type": "code",
   "execution_count": 13,
   "metadata": {},
   "outputs": [
    {
     "name": "stdout",
     "output_type": "stream",
     "text": [
      "Train on 20000 samples, validate on 5000 samples\n",
      "Epoch 1/100\n",
      "20000/20000 [==============================] - 11s 553us/sample - loss: 0.6928 - accuracy: 0.5262 - val_loss: 0.6917 - val_accuracy: 0.5666\n",
      "Epoch 2/100\n",
      "20000/20000 [==============================] - 9s 439us/sample - loss: 0.6903 - accuracy: 0.5775 - val_loss: 0.6882 - val_accuracy: 0.6156\n",
      "Epoch 3/100\n",
      "20000/20000 [==============================] - 9s 442us/sample - loss: 0.6837 - accuracy: 0.6276 - val_loss: 0.6773 - val_accuracy: 0.6572\n",
      "Epoch 4/100\n",
      "20000/20000 [==============================] - 9s 451us/sample - loss: 0.6558 - accuracy: 0.6776 - val_loss: 0.6200 - val_accuracy: 0.6890\n",
      "Epoch 5/100\n",
      "20000/20000 [==============================] - 9s 439us/sample - loss: 0.5919 - accuracy: 0.7078 - val_loss: 0.5754 - val_accuracy: 0.7228\n",
      "Epoch 6/100\n",
      "20000/20000 [==============================] - 9s 441us/sample - loss: 0.5628 - accuracy: 0.7295 - val_loss: 0.5574 - val_accuracy: 0.7380\n",
      "Epoch 7/100\n",
      "20000/20000 [==============================] - 9s 436us/sample - loss: 0.5427 - accuracy: 0.7473 - val_loss: 0.5332 - val_accuracy: 0.7550\n",
      "Epoch 8/100\n",
      "20000/20000 [==============================] - 9s 450us/sample - loss: 0.5248 - accuracy: 0.7606 - val_loss: 0.5154 - val_accuracy: 0.7658\n",
      "Epoch 9/100\n",
      "20000/20000 [==============================] - 9s 438us/sample - loss: 0.5080 - accuracy: 0.7687 - val_loss: 0.4999 - val_accuracy: 0.7740\n",
      "Epoch 10/100\n",
      "20000/20000 [==============================] - 9s 445us/sample - loss: 0.4917 - accuracy: 0.7786 - val_loss: 0.4869 - val_accuracy: 0.7842\n",
      "Epoch 11/100\n",
      "20000/20000 [==============================] - 9s 437us/sample - loss: 0.4789 - accuracy: 0.7837 - val_loss: 0.4768 - val_accuracy: 0.7848\n",
      "Epoch 12/100\n",
      "20000/20000 [==============================] - 9s 449us/sample - loss: 0.4694 - accuracy: 0.7873 - val_loss: 0.4686 - val_accuracy: 0.7900\n",
      "Epoch 13/100\n",
      "20000/20000 [==============================] - 9s 442us/sample - loss: 0.4621 - accuracy: 0.7908 - val_loss: 0.4631 - val_accuracy: 0.7886\n",
      "Epoch 14/100\n",
      "20000/20000 [==============================] - 9s 435us/sample - loss: 0.4558 - accuracy: 0.7940 - val_loss: 0.4586 - val_accuracy: 0.7906\n",
      "Epoch 15/100\n",
      "20000/20000 [==============================] - 9s 457us/sample - loss: 0.4505 - accuracy: 0.7958 - val_loss: 0.4550 - val_accuracy: 0.7890\n",
      "Epoch 16/100\n",
      "20000/20000 [==============================] - 9s 433us/sample - loss: 0.4481 - accuracy: 0.7991 - val_loss: 0.4512 - val_accuracy: 0.7934\n",
      "Epoch 17/100\n",
      "20000/20000 [==============================] - 9s 444us/sample - loss: 0.4454 - accuracy: 0.7987 - val_loss: 0.4488 - val_accuracy: 0.7940\n",
      "Epoch 18/100\n",
      "20000/20000 [==============================] - 9s 431us/sample - loss: 0.4398 - accuracy: 0.8027 - val_loss: 0.4475 - val_accuracy: 0.7932\n",
      "Epoch 19/100\n",
      "20000/20000 [==============================] - 9s 437us/sample - loss: 0.4400 - accuracy: 0.8026 - val_loss: 0.4451 - val_accuracy: 0.7962\n",
      "Epoch 20/100\n",
      "20000/20000 [==============================] - 9s 433us/sample - loss: 0.4339 - accuracy: 0.8061 - val_loss: 0.4445 - val_accuracy: 0.7942\n",
      "Epoch 21/100\n",
      "20000/20000 [==============================] - 9s 438us/sample - loss: 0.4348 - accuracy: 0.8033 - val_loss: 0.4432 - val_accuracy: 0.7940\n",
      "Epoch 22/100\n",
      "20000/20000 [==============================] - 9s 442us/sample - loss: 0.4315 - accuracy: 0.8041 - val_loss: 0.4421 - val_accuracy: 0.7958\n",
      "Epoch 23/100\n",
      "20000/20000 [==============================] - 9s 450us/sample - loss: 0.4299 - accuracy: 0.8045 - val_loss: 0.4411 - val_accuracy: 0.7952\n",
      "Epoch 24/100\n",
      "20000/20000 [==============================] - 9s 433us/sample - loss: 0.4271 - accuracy: 0.8073 - val_loss: 0.4434 - val_accuracy: 0.7948\n",
      "Epoch 25/100\n",
      "20000/20000 [==============================] - 8s 423us/sample - loss: 0.4270 - accuracy: 0.8064 - val_loss: 0.4377 - val_accuracy: 0.7980\n",
      "Epoch 26/100\n",
      "20000/20000 [==============================] - 9s 460us/sample - loss: 0.4259 - accuracy: 0.8067 - val_loss: 0.4357 - val_accuracy: 0.7996\n",
      "Epoch 27/100\n",
      "20000/20000 [==============================] - 9s 449us/sample - loss: 0.4240 - accuracy: 0.8077 - val_loss: 0.4358 - val_accuracy: 0.7974\n",
      "Epoch 28/100\n",
      "20000/20000 [==============================] - 9s 451us/sample - loss: 0.4233 - accuracy: 0.8081 - val_loss: 0.4336 - val_accuracy: 0.7998\n",
      "Epoch 29/100\n",
      "20000/20000 [==============================] - 9s 448us/sample - loss: 0.4219 - accuracy: 0.8085 - val_loss: 0.4335 - val_accuracy: 0.7982\n",
      "Epoch 30/100\n",
      "20000/20000 [==============================] - 9s 450us/sample - loss: 0.4211 - accuracy: 0.8087 - val_loss: 0.4321 - val_accuracy: 0.8010\n",
      "Epoch 31/100\n",
      "20000/20000 [==============================] - 9s 428us/sample - loss: 0.4197 - accuracy: 0.8105 - val_loss: 0.4341 - val_accuracy: 0.7982\n",
      "Epoch 32/100\n",
      "20000/20000 [==============================] - 9s 427us/sample - loss: 0.4192 - accuracy: 0.8092 - val_loss: 0.4305 - val_accuracy: 0.7994\n",
      "Epoch 33/100\n",
      "20000/20000 [==============================] - 9s 443us/sample - loss: 0.4183 - accuracy: 0.8104 - val_loss: 0.4298 - val_accuracy: 0.8008\n",
      "Epoch 34/100\n",
      "20000/20000 [==============================] - 9s 432us/sample - loss: 0.4176 - accuracy: 0.8112 - val_loss: 0.4295 - val_accuracy: 0.8014\n",
      "Epoch 35/100\n",
      "20000/20000 [==============================] - 9s 429us/sample - loss: 0.4162 - accuracy: 0.8105 - val_loss: 0.4302 - val_accuracy: 0.8026\n",
      "Epoch 36/100\n",
      "20000/20000 [==============================] - 9s 440us/sample - loss: 0.4144 - accuracy: 0.8108 - val_loss: 0.4310 - val_accuracy: 0.8000\n",
      "Epoch 37/100\n",
      "20000/20000 [==============================] - 9s 432us/sample - loss: 0.4137 - accuracy: 0.8111 - val_loss: 0.4291 - val_accuracy: 0.8006\n",
      "Epoch 38/100\n",
      "20000/20000 [==============================] - 9s 433us/sample - loss: 0.4119 - accuracy: 0.8120 - val_loss: 0.4276 - val_accuracy: 0.8028\n",
      "Epoch 39/100\n",
      "20000/20000 [==============================] - 9s 442us/sample - loss: 0.4121 - accuracy: 0.8120 - val_loss: 0.4290 - val_accuracy: 0.8022\n",
      "Epoch 40/100\n",
      "20000/20000 [==============================] - 9s 446us/sample - loss: 0.4130 - accuracy: 0.8120 - val_loss: 0.4265 - val_accuracy: 0.8018\n",
      "Epoch 41/100\n",
      "20000/20000 [==============================] - 9s 460us/sample - loss: 0.4117 - accuracy: 0.8137 - val_loss: 0.4291 - val_accuracy: 0.8030\n",
      "Epoch 42/100\n",
      "20000/20000 [==============================] - 9s 445us/sample - loss: 0.4117 - accuracy: 0.8110 - val_loss: 0.4259 - val_accuracy: 0.8028\n",
      "Epoch 43/100\n",
      "20000/20000 [==============================] - 9s 456us/sample - loss: 0.4098 - accuracy: 0.8128 - val_loss: 0.4254 - val_accuracy: 0.8040\n",
      "Epoch 44/100\n",
      "20000/20000 [==============================] - 9s 454us/sample - loss: 0.4076 - accuracy: 0.8143 - val_loss: 0.4265 - val_accuracy: 0.8042\n",
      "Epoch 45/100\n",
      "20000/20000 [==============================] - 9s 456us/sample - loss: 0.4086 - accuracy: 0.8116 - val_loss: 0.4286 - val_accuracy: 0.8010\n",
      "Epoch 46/100\n",
      "20000/20000 [==============================] - 9s 460us/sample - loss: 0.4093 - accuracy: 0.8133 - val_loss: 0.4269 - val_accuracy: 0.8048\n"
     ]
    }
   ],
   "source": [
    "# 모델 설정과 훈련\n",
    "rmsprop = keras.optimizers.RMSprop(learning_rate = 1e-4)\n",
    "model2.compile(optimizer = rmsprop, loss = 'binary_crossentropy', metrics = ['accuracy'])\n",
    "\n",
    "# 복구점\n",
    "checkpoint_cb = keras.callbacks.ModelCheckpoint('best-simplernn-model2.h5')\n",
    "# 조기종료\n",
    "early_stopping_cb = keras.callbacks.EarlyStopping(patience=3, \n",
    "                                                  restore_best_weights=True)\n",
    "\n",
    "history = model2.fit(train_seq, train_target, epochs=100, batch_size = 64,\n",
    "                    validation_data=(val_seq, val_target), \n",
    "                    callbacks=[checkpoint_cb, early_stopping_cb])"
   ]
  },
  {
   "cell_type": "code",
   "execution_count": 14,
   "metadata": {},
   "outputs": [
    {
     "data": {
      "image/png": "[encoded data removed]",
      "text/plain": [
       "<Figure size 432x288 with 1 Axes>"
      ]
     },
     "metadata": {
      "needs_background": "light"
     },
     "output_type": "display_data"
    }
   ],
   "source": [
    "# 훈련손실과 검증손실 시각화\n",
    "plt.plot(history.history['loss'])\n",
    "plt.plot(history.history['val_loss'])\n",
    "plt.xlabel('epoch')\n",
    "plt.ylabel('loss')\n",
    "plt.legend(['train','val'])\n",
    "plt.show()"
   ]
  },
  {
   "cell_type": "markdown",
   "metadata": {},
   "source": [
    "층 추가하면 정확도가 오를거같다"
   ]
  },
  {
   "cell_type": "code",
   "execution_count": 15,
   "metadata": {},
   "outputs": [],
   "source": [
    "model3 = keras.Sequential()\n",
    "model3.add(keras.layers.Embedding(500, 16, input_length=100))\n",
    "model3.add(keras.layers.LSTM(8, dropout=0.3, return_sequences=True)) \n",
    "# return_sequences : 계속 보낼꺼야말꺼야(기억할꺼야?) -> 타임스탬프 전달\n",
    "model3.add(keras.layers.LSTM(8, dropout=0.3))\n",
    "model3.add(keras.layers.Dense(1, activation='sigmoid'))"
   ]
  },
  {
   "cell_type": "code",
   "execution_count": 16,
   "metadata": {},
   "outputs": [
    {
     "name": "stdout",
     "output_type": "stream",
     "text": [
      "Model: \"sequential_2\"\n",
      "_________________________________________________________________\n",
      "Layer (type)                 Output Shape              Param #   \n",
      "=================================================================\n",
      "embedding_2 (Embedding)      (None, 100, 16)           8000      \n",
      "_________________________________________________________________\n",
      "lstm_2 (LSTM)                (None, 100, 8)            800       \n",
      "_________________________________________________________________\n",
      "lstm_3 (LSTM)                (None, 8)                 544       \n",
      "_________________________________________________________________\n",
      "dense_2 (Dense)              (None, 1)                 9         \n",
      "=================================================================\n",
      "Total params: 9,353\n",
      "Trainable params: 9,353\n",
      "Non-trainable params: 0\n",
      "_________________________________________________________________\n"
     ]
    }
   ],
   "source": [
    "model3.summary()"
   ]
  },
  {
   "cell_type": "code",
   "execution_count": 17,
   "metadata": {},
   "outputs": [
    {
     "name": "stdout",
     "output_type": "stream",
     "text": [
      "Train on 20000 samples, validate on 5000 samples\n",
      "Epoch 1/100\n",
      "20000/20000 [==============================] - 20s 1ms/sample - loss: 0.6930 - accuracy: 0.5053 - val_loss: 0.6928 - val_accuracy: 0.5208\n",
      "Epoch 2/100\n",
      "20000/20000 [==============================] - 16s 818us/sample - loss: 0.6921 - accuracy: 0.5767 - val_loss: 0.6914 - val_accuracy: 0.5718\n",
      "Epoch 3/100\n",
      "20000/20000 [==============================] - 16s 806us/sample - loss: 0.6881 - accuracy: 0.6115 - val_loss: 0.6828 - val_accuracy: 0.6670\n",
      "Epoch 4/100\n",
      "20000/20000 [==============================] - 17s 830us/sample - loss: 0.6544 - accuracy: 0.6687 - val_loss: 0.6099 - val_accuracy: 0.7098\n",
      "Epoch 5/100\n",
      "20000/20000 [==============================] - 16s 817us/sample - loss: 0.5781 - accuracy: 0.7235 - val_loss: 0.5581 - val_accuracy: 0.7338\n",
      "Epoch 6/100\n",
      "20000/20000 [==============================] - 16s 811us/sample - loss: 0.5472 - accuracy: 0.7379 - val_loss: 0.5322 - val_accuracy: 0.7452\n",
      "Epoch 7/100\n",
      "20000/20000 [==============================] - 16s 805us/sample - loss: 0.5229 - accuracy: 0.7539 - val_loss: 0.5147 - val_accuracy: 0.7574\n",
      "Epoch 8/100\n",
      "20000/20000 [==============================] - 16s 805us/sample - loss: 0.5073 - accuracy: 0.7652 - val_loss: 0.5029 - val_accuracy: 0.7702\n",
      "Epoch 9/100\n",
      "20000/20000 [==============================] - 17s 827us/sample - loss: 0.4948 - accuracy: 0.7721 - val_loss: 0.4866 - val_accuracy: 0.7796\n",
      "Epoch 10/100\n",
      "20000/20000 [==============================] - 16s 823us/sample - loss: 0.4819 - accuracy: 0.7793 - val_loss: 0.4777 - val_accuracy: 0.7808\n",
      "Epoch 11/100\n",
      "20000/20000 [==============================] - 16s 816us/sample - loss: 0.4737 - accuracy: 0.7864 - val_loss: 0.4736 - val_accuracy: 0.7796\n",
      "Epoch 12/100\n",
      "20000/20000 [==============================] - 16s 805us/sample - loss: 0.4689 - accuracy: 0.7833 - val_loss: 0.4758 - val_accuracy: 0.7806\n",
      "Epoch 13/100\n",
      "20000/20000 [==============================] - 17s 827us/sample - loss: 0.4614 - accuracy: 0.7914 - val_loss: 0.4615 - val_accuracy: 0.7868\n",
      "Epoch 14/100\n",
      "20000/20000 [==============================] - 16s 806us/sample - loss: 0.4564 - accuracy: 0.7910 - val_loss: 0.4567 - val_accuracy: 0.7906\n",
      "Epoch 15/100\n",
      "20000/20000 [==============================] - 17s 859us/sample - loss: 0.4518 - accuracy: 0.7945 - val_loss: 0.4541 - val_accuracy: 0.7918\n",
      "Epoch 16/100\n",
      "20000/20000 [==============================] - 16s 823us/sample - loss: 0.4489 - accuracy: 0.7951 - val_loss: 0.4530 - val_accuracy: 0.7904\n",
      "Epoch 17/100\n",
      "20000/20000 [==============================] - 17s 848us/sample - loss: 0.4466 - accuracy: 0.7965 - val_loss: 0.4497 - val_accuracy: 0.7904\n",
      "Epoch 18/100\n",
      "20000/20000 [==============================] - 16s 814us/sample - loss: 0.4428 - accuracy: 0.7988 - val_loss: 0.4468 - val_accuracy: 0.7958\n",
      "Epoch 19/100\n",
      "20000/20000 [==============================] - 16s 787us/sample - loss: 0.4423 - accuracy: 0.7983 - val_loss: 0.4452 - val_accuracy: 0.7952\n",
      "Epoch 20/100\n",
      "20000/20000 [==============================] - 16s 808us/sample - loss: 0.4416 - accuracy: 0.7972 - val_loss: 0.4440 - val_accuracy: 0.7974\n",
      "Epoch 21/100\n",
      "20000/20000 [==============================] - 18s 913us/sample - loss: 0.4376 - accuracy: 0.8001 - val_loss: 0.4446 - val_accuracy: 0.7906\n",
      "Epoch 22/100\n",
      "20000/20000 [==============================] - 19s 936us/sample - loss: 0.4361 - accuracy: 0.8027 - val_loss: 0.4413 - val_accuracy: 0.7970\n",
      "Epoch 23/100\n",
      "20000/20000 [==============================] - 18s 898us/sample - loss: 0.4341 - accuracy: 0.8031 - val_loss: 0.4403 - val_accuracy: 0.7988\n",
      "Epoch 24/100\n",
      "20000/20000 [==============================] - 16s 823us/sample - loss: 0.4319 - accuracy: 0.8058 - val_loss: 0.4395 - val_accuracy: 0.7974\n",
      "Epoch 25/100\n",
      "20000/20000 [==============================] - 17s 852us/sample - loss: 0.4299 - accuracy: 0.8045 - val_loss: 0.4385 - val_accuracy: 0.7982\n",
      "Epoch 26/100\n",
      "20000/20000 [==============================] - 16s 811us/sample - loss: 0.4297 - accuracy: 0.8049 - val_loss: 0.4375 - val_accuracy: 0.7986\n",
      "Epoch 27/100\n",
      "20000/20000 [==============================] - 16s 800us/sample - loss: 0.4289 - accuracy: 0.8062 - val_loss: 0.4369 - val_accuracy: 0.8002\n",
      "Epoch 28/100\n",
      "20000/20000 [==============================] - 16s 799us/sample - loss: 0.4288 - accuracy: 0.8052 - val_loss: 0.4360 - val_accuracy: 0.8016\n",
      "Epoch 29/100\n",
      "20000/20000 [==============================] - 16s 795us/sample - loss: 0.4273 - accuracy: 0.8048 - val_loss: 0.4364 - val_accuracy: 0.8012\n",
      "Epoch 30/100\n",
      "20000/20000 [==============================] - 16s 783us/sample - loss: 0.4239 - accuracy: 0.8082 - val_loss: 0.4350 - val_accuracy: 0.7962\n",
      "Epoch 31/100\n",
      "20000/20000 [==============================] - 16s 800us/sample - loss: 0.4253 - accuracy: 0.8080 - val_loss: 0.4421 - val_accuracy: 0.7978\n",
      "Epoch 32/100\n",
      "20000/20000 [==============================] - 17s 835us/sample - loss: 0.4239 - accuracy: 0.8068 - val_loss: 0.4336 - val_accuracy: 0.7972\n",
      "Epoch 33/100\n",
      "20000/20000 [==============================] - 17s 836us/sample - loss: 0.4246 - accuracy: 0.8068 - val_loss: 0.4337 - val_accuracy: 0.8026\n",
      "Epoch 34/100\n",
      "20000/20000 [==============================] - 17s 853us/sample - loss: 0.4197 - accuracy: 0.8094 - val_loss: 0.4338 - val_accuracy: 0.7980\n",
      "Epoch 35/100\n",
      "20000/20000 [==============================] - 16s 824us/sample - loss: 0.4190 - accuracy: 0.8102 - val_loss: 0.4373 - val_accuracy: 0.7960\n"
     ]
    }
   ],
   "source": [
    "# 모델 설정과 훈련\n",
    "rmsprop = keras.optimizers.RMSprop(learning_rate = 1e-4)\n",
    "model3.compile(optimizer = rmsprop, loss = 'binary_crossentropy', metrics = ['accuracy'])\n",
    "\n",
    "checkpoint_cb = keras.callbacks.ModelCheckpoint('best-simplernn-model3.h5')\n",
    "early_stopping_cb = keras.callbacks.EarlyStopping(patience=3, \n",
    "                                                  restore_best_weights=True)\n",
    "\n",
    "history = model3.fit(train_seq, train_target, epochs=100, batch_size = 64,\n",
    "                    validation_data=(val_seq, val_target), \n",
    "                    callbacks=[checkpoint_cb, early_stopping_cb])"
   ]
  },
  {
   "cell_type": "code",
   "execution_count": 18,
   "metadata": {},
   "outputs": [
    {
     "data": {
      "image/png": "[encoded data removed]",
      "text/plain": [
       "<Figure size 432x288 with 1 Axes>"
      ]
     },
     "metadata": {
      "needs_background": "light"
     },
     "output_type": "display_data"
    }
   ],
   "source": [
    "# 훈련손실과 검증손실 시각화\n",
    "plt.plot(history.history['loss'])\n",
    "plt.plot(history.history['val_loss'])\n",
    "plt.xlabel('epoch')\n",
    "plt.ylabel('loss')\n",
    "plt.legend(['train','val'])\n",
    "plt.show()"
   ]
  },
  {
   "cell_type": "code",
   "execution_count": null,
   "metadata": {},
   "outputs": [],
   "source": []
  }
 ],
 "metadata": {
  "kernelspec": {
   "display_name": "Python 3",
   "language": "python",
   "name": "python3"
  },
  "language_info": {
   "codemirror_mode": {
    "name": "ipython",
    "version": 3
   },
   "file_extension": ".py",
   "mimetype": "text/x-python",
   "name": "python",
   "nbconvert_exporter": "python",
   "pygments_lexer": "ipython3",
   "version": "3.7.3"
  }
 },
 "nbformat": 4,
 "nbformat_minor": 2
}
