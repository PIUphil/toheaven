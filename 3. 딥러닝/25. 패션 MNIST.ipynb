{
 "cells": [
  {
   "cell_type": "code",
   "execution_count": 1,
   "metadata": {},
   "outputs": [],
   "source": [
    "from tensorflow import keras\n",
    "\n",
    "(train_input, train_target), (test_input, test_target) = \\\n",
    "keras.datasets.fashion_mnist.load_data()"
   ]
  },
  {
   "cell_type": "markdown",
   "metadata": {},
   "source": [
    "은닉층 - 신경망 성능 향상, 활성함수(2진분류-시그모이드) 등  \n",
    "\n",
    "![image](https://user-images.githubusercontent.com/58851945/119298967-05e76100-bc99-11eb-9c4d-a2084768a2b4.png)"
   ]
  },
  {
   "cell_type": "code",
   "execution_count": 2,
   "metadata": {},
   "outputs": [],
   "source": [
    "from sklearn.model_selection import train_test_split\n",
    "\n",
    "train_scaled = train_input / 255.0 \n",
    "train_scaled = train_scaled.reshape(-1, 28*28)\n",
    "\n",
    "train_scaled, val_scaled, train_target, val_target = \\\n",
    "train_test_split(train_scaled, train_target, test_size=.2, random_state=42)"
   ]
  },
  {
   "cell_type": "code",
   "execution_count": 3,
   "metadata": {},
   "outputs": [],
   "source": [
    "# 은닉층 - 활성화함수 담을때, 모델 성능 높일때 사용 \n",
    "dense1 = keras.layers.Dense(100, activation='sigmoid', input_shape=(784,)) # 100개의 노드\n",
    "\n",
    "# 출력층\n",
    "dense2 = keras.layers.Dense(10, activation='softmax')  # hidden shape\n",
    "\n",
    "# 심층신경망(DNN) 모델 - 은닉층을 가진 신경망\n",
    "model = keras.Sequential([dense1, dense2])"
   ]
  },
  {
   "cell_type": "markdown",
   "metadata": {},
   "source": [
    "은닉층(dense1)은 출력층(dense2) 보다 많아야한다\n",
    "은닉층이 출력층보다 적으면 데이터가 손실될 수 있다\n",
    "데이터 클래스가 10개라서 출력층에 10을 씀\n",
    "\n",
    "층이 많아지면 name을 담기도 함\n",
    "나중에 층을 쌓진않고 add라는 시퀀스 안에.... 뒤에 나옴\n",
    "출력층은 제일 마지막에 와야 함"
   ]
  },
  {
   "cell_type": "code",
   "execution_count": 4,
   "metadata": {},
   "outputs": [
    {
     "name": "stdout",
     "output_type": "stream",
     "text": [
      "Model: \"sequential\"\n",
      "_________________________________________________________________\n",
      "Layer (type)                 Output Shape              Param #   \n",
      "=================================================================\n",
      "dense (Dense)                (None, 100)               78500     \n",
      "_________________________________________________________________\n",
      "dense_1 (Dense)              (None, 10)                1010      \n",
      "=================================================================\n",
      "Total params: 79,510\n",
      "Trainable params: 79,510\n",
      "Non-trainable params: 0\n",
      "_________________________________________________________________\n"
     ]
    }
   ],
   "source": [
    "model.summary()"
   ]
  },
  {
   "cell_type": "markdown",
   "metadata": {},
   "source": [
    "`Output Shape` - `None`  \n",
    "epoch랑 비슷  \n",
    "배치사이즈 - 한번에 32개의 노드를 읽어와서 실행(디폴트)  \n",
    "한번 반복할때마다 실행시키는 노드의 수\n",
    "  \n",
    "`Param`  \n",
    "파라미터의 수  \n",
    "78500개의 픽셀에 100개의 가중치를 줌 <= (784+1)x100 = (784개의 픽셀+절편1개)x100  \n",
    "100x10 + 10  \n",
    "　　　　절편"
   ]
  },
  {
   "cell_type": "markdown",
   "metadata": {},
   "source": [
    "모델 이름(name)은 영문자로 쓰는걸 권장(한글x)"
   ]
  },
  {
   "cell_type": "markdown",
   "metadata": {},
   "source": [
    "###### 층을 추가하는 방법들\n",
    "model = keras.Sequential([  \n",
    "    keras.layers.Dense(100, activation='sigmoid', input_shape=(784,), name='hidden'),  \n",
    "    keras.layers.Dense(10, activation='softmax', name='output')  \n",
    "    ], name='fashion MNIST model')  \n",
    "\n",
    "model = keras.Sequential()  \n",
    "model.add(keras.layers.Dense(100, activation='sigmoid', input_shape(784,)))  \n",
    "model.add(keras.layers.Dense(10, activation='softmax'))"
   ]
  },
  {
   "cell_type": "markdown",
   "metadata": {},
   "source": [
    "model.summary()"
   ]
  },
  {
   "cell_type": "code",
   "execution_count": 5,
   "metadata": {},
   "outputs": [
    {
     "name": "stdout",
     "output_type": "stream",
     "text": [
      "Train on 48000 samples\n",
      "Epoch 1/5\n",
      "48000/48000 [==============================] - 3s 59us/sample - loss: 0.5599 - accuracy: 0.8099\n",
      "Epoch 2/5\n",
      "48000/48000 [==============================] - 2s 46us/sample - loss: 0.4067 - accuracy: 0.8537\n",
      "Epoch 3/5\n",
      "48000/48000 [==============================] - 2s 45us/sample - loss: 0.3732 - accuracy: 0.8650\n",
      "Epoch 4/5\n",
      "48000/48000 [==============================] - 2s 51us/sample - loss: 0.3514 - accuracy: 0.8721\n",
      "Epoch 5/5\n",
      "48000/48000 [==============================] - 2s 51us/sample - loss: 0.3344 - accuracy: 0.8777\n"
     ]
    },
    {
     "data": {
      "text/plain": [
       "<tensorflow.python.keras.callbacks.History at 0x2267f9b44a8>"
      ]
     },
     "execution_count": 5,
     "metadata": {},
     "output_type": "execute_result"
    }
   ],
   "source": [
    "# 모델 설정\n",
    "model.compile(loss='sparse_categorical_crossentropy',  # 다중 분류\n",
    "             metrics=['accuracy'])\n",
    "\n",
    "# 모델 학습\n",
    "model.fit(train_scaled, train_target, epochs=5)"
   ]
  },
  {
   "cell_type": "code",
   "execution_count": null,
   "metadata": {},
   "outputs": [],
   "source": []
  },
  {
   "cell_type": "code",
   "execution_count": 6,
   "metadata": {},
   "outputs": [],
   "source": [
    "(train_input, train_target), (test_input, test_target) = \\\n",
    "keras.datasets.fashion_mnist.load_data()\n",
    "\n",
    "train_scaled = train_input / 255.0 \n",
    "# train_scaled = train_scaled.reshape(-1, 28*28)\n",
    "\n",
    "train_scaled, val_scaled, train_target, val_target = \\\n",
    "train_test_split(train_scaled, train_target, test_size=.2, random_state=42)"
   ]
  },
  {
   "cell_type": "raw",
   "metadata": {},
   "source": [
    "relu 렐루 - 이미지 처리에 좋은 활성화함수"
   ]
  },
  {
   "cell_type": "code",
   "execution_count": 7,
   "metadata": {},
   "outputs": [],
   "source": [
    "model = keras.Sequential()\n",
    "model.add(keras.layers.Flatten(input_shape=(28,28))) \n",
    "# Flatten 유틸리티층. (평평하게하다, 단조롭게하다) -> 직접 1차원으로 만들어줌\n",
    "# input_shape 입력층 다음에 적어야 함\n",
    "\n",
    "model.add(keras.layers.Dense(100, activation='relu'))\n",
    "model.add(keras.layers.Dense(10, activation='softmax'))"
   ]
  },
  {
   "cell_type": "code",
   "execution_count": 8,
   "metadata": {},
   "outputs": [
    {
     "name": "stdout",
     "output_type": "stream",
     "text": [
      "Model: \"sequential_1\"\n",
      "_________________________________________________________________\n",
      "Layer (type)                 Output Shape              Param #   \n",
      "=================================================================\n",
      "flatten (Flatten)            (None, 784)               0         \n",
      "_________________________________________________________________\n",
      "dense_2 (Dense)              (None, 100)               78500     \n",
      "_________________________________________________________________\n",
      "dense_3 (Dense)              (None, 10)                1010      \n",
      "=================================================================\n",
      "Total params: 79,510\n",
      "Trainable params: 79,510\n",
      "Non-trainable params: 0\n",
      "_________________________________________________________________\n"
     ]
    }
   ],
   "source": [
    "model.summary()"
   ]
  },
  {
   "cell_type": "code",
   "execution_count": 9,
   "metadata": {},
   "outputs": [
    {
     "name": "stdout",
     "output_type": "stream",
     "text": [
      "Train on 48000 samples\n",
      "Epoch 1/5\n",
      "48000/48000 [==============================] - 3s 58us/sample - loss: 0.5239 - accuracy: 0.8146\n",
      "Epoch 2/5\n",
      "48000/48000 [==============================] - 3s 55us/sample - loss: 0.3895 - accuracy: 0.8601\n",
      "Epoch 3/5\n",
      "48000/48000 [==============================] - 3s 57us/sample - loss: 0.3569 - accuracy: 0.8711\n",
      "Epoch 4/5\n",
      "48000/48000 [==============================] - 3s 52us/sample - loss: 0.3363 - accuracy: 0.8795\n",
      "Epoch 5/5\n",
      "48000/48000 [==============================] - 2s 50us/sample - loss: 0.3221 - accuracy: 0.8861\n"
     ]
    },
    {
     "data": {
      "text/plain": [
       "<tensorflow.python.keras.callbacks.History at 0x22676dd8b38>"
      ]
     },
     "execution_count": 9,
     "metadata": {},
     "output_type": "execute_result"
    }
   ],
   "source": [
    "model.compile(loss='sparse_categorical_crossentropy', metrics=['accuracy'])\n",
    "model.fit(train_scaled, train_target, epochs=5)"
   ]
  },
  {
   "cell_type": "code",
   "execution_count": 10,
   "metadata": {},
   "outputs": [
    {
     "data": {
      "text/plain": [
       "[0.3666121663848559, 0.8746667]"
      ]
     },
     "execution_count": 10,
     "metadata": {},
     "output_type": "execute_result"
    }
   ],
   "source": [
    "model.evaluate(val_scaled, val_target, verbose=0)"
   ]
  },
  {
   "cell_type": "markdown",
   "metadata": {},
   "source": [
    "SGD 확률적 경사하강법  Stochastic Gradient Descent\n",
    "이동할 때 학습률(이동크기)를 조절 \n",
    "적응적 학습률 : 거리가 먼 곳에선 step_size를 많이 주고, 가까운곳에선 학습률을 줄여서 step_size를 작게함  cf. 확률적 학습률\n",
    "momentum 가속도(가속화). 디폴트 0"
   ]
  },
  {
   "cell_type": "code",
   "execution_count": 11,
   "metadata": {},
   "outputs": [],
   "source": [
    "(train_input, train_target), (test_input, test_target) = \\\n",
    "keras.datasets.fashion_mnist.load_data()\n",
    "\n",
    "train_scaled = train_input / 255.0 \n",
    "# train_scaled = train_scaled.reshape(-1, 28*28)\n",
    "\n",
    "train_scaled, val_scaled, train_target, val_target = \\\n",
    "train_test_split(train_scaled, train_target, test_size=.2, random_state=42)\n",
    "\n",
    "model = keras.Sequential()\n",
    "model.add(keras.layers.Flatten(input_shape=(28,28)))\n",
    "model.add(keras.layers.Dense(100, activation='relu'))\n",
    "model.add(keras.layers.Dense(10, activation='softmax'))"
   ]
  },
  {
   "cell_type": "code",
   "execution_count": 12,
   "metadata": {},
   "outputs": [
    {
     "name": "stdout",
     "output_type": "stream",
     "text": [
      "Train on 48000 samples\n",
      "Epoch 1/5\n",
      "48000/48000 [==============================] - 2s 49us/sample - loss: 0.5261 - accuracy: 0.8170\n",
      "Epoch 2/5\n",
      "48000/48000 [==============================] - 2s 43us/sample - loss: 0.3963 - accuracy: 0.8573\n",
      "Epoch 3/5\n",
      "48000/48000 [==============================] - 2s 41us/sample - loss: 0.3549 - accuracy: 0.8715\n",
      "Epoch 4/5\n",
      "48000/48000 [==============================] - 2s 43us/sample - loss: 0.3307 - accuracy: 0.8790\n",
      "Epoch 5/5\n",
      "48000/48000 [==============================] - 2s 44us/sample - loss: 0.3116 - accuracy: 0.8858\n"
     ]
    },
    {
     "data": {
      "text/plain": [
       "<tensorflow.python.keras.callbacks.History at 0x2267b7fdcc0>"
      ]
     },
     "execution_count": 12,
     "metadata": {},
     "output_type": "execute_result"
    }
   ],
   "source": [
    "# 모델 설정 - adam\n",
    "model.compile(optimizer='adam', loss='sparse_categorical_crossentropy', metrics=['accuracy'])\n",
    "model.fit(train_scaled, train_target, epochs=5)"
   ]
  },
  {
   "cell_type": "code",
   "execution_count": 13,
   "metadata": {},
   "outputs": [
    {
     "data": {
      "text/plain": [
       "[0.37170468040307364, 0.8631667]"
      ]
     },
     "execution_count": 13,
     "metadata": {},
     "output_type": "execute_result"
    }
   ],
   "source": [
    "model.evaluate(val_scaled, val_target, verbose=0)  # 검증된 정확도"
   ]
  },
  {
   "cell_type": "code",
   "execution_count": 14,
   "metadata": {},
   "outputs": [
    {
     "name": "stdout",
     "output_type": "stream",
     "text": [
      "Train on 48000 samples\n",
      "Epoch 1/5\n",
      "48000/48000 [==============================] - 3s 65us/sample - loss: 0.5322 - accuracy: 0.8119\n",
      "Epoch 2/5\n",
      "48000/48000 [==============================] - 3s 54us/sample - loss: 0.3939 - accuracy: 0.8581\n",
      "Epoch 3/5\n",
      "48000/48000 [==============================] - 3s 66us/sample - loss: 0.3569 - accuracy: 0.8727\n",
      "Epoch 4/5\n",
      "48000/48000 [==============================] - 3s 63us/sample - loss: 0.3336 - accuracy: 0.8804\n",
      "Epoch 5/5\n",
      "48000/48000 [==============================] - 3s 55us/sample - loss: 0.3196 - accuracy: 0.8860\n"
     ]
    },
    {
     "data": {
      "text/plain": [
       "<tensorflow.python.keras.callbacks.History at 0x226774e7668>"
      ]
     },
     "execution_count": 14,
     "metadata": {},
     "output_type": "execute_result"
    }
   ],
   "source": [
    "(train_input, train_target), (test_input, test_target) = \\\n",
    "keras.datasets.fashion_mnist.load_data()\n",
    "\n",
    "train_scaled = train_input / 255.0 \n",
    "# train_scaled = train_scaled.reshape(-1, 28*28)\n",
    "\n",
    "train_scaled, val_scaled, train_target, val_target = \\\n",
    "train_test_split(train_scaled, train_target, test_size=.2, random_state=42)\n",
    "\n",
    "model = keras.Sequential()\n",
    "model.add(keras.layers.Flatten(input_shape=(28,28)))\n",
    "model.add(keras.layers.Dense(100, activation='relu'))\n",
    "model.add(keras.layers.Dense(10, activation='softmax'))\n",
    "\n",
    "# 모델 설정 - RMSprop\n",
    "model.compile(optimizer='RMSprop', loss='sparse_categorical_crossentropy', metrics=['accuracy'])\n",
    "model.fit(train_scaled, train_target, epochs=5)"
   ]
  },
  {
   "cell_type": "code",
   "execution_count": 15,
   "metadata": {},
   "outputs": [
    {
     "name": "stdout",
     "output_type": "stream",
     "text": [
      "Train on 48000 samples\n",
      "Epoch 1/5\n",
      "48000/48000 [==============================] - 3s 61us/sample - loss: 0.7790 - accuracy: 0.7541\n",
      "Epoch 2/5\n",
      "48000/48000 [==============================] - 3s 57us/sample - loss: 0.6075 - accuracy: 0.8020\n",
      "Epoch 3/5\n",
      "48000/48000 [==============================] - 2s 49us/sample - loss: 0.5667 - accuracy: 0.8160\n",
      "Epoch 4/5\n",
      "48000/48000 [==============================] - 2s 46us/sample - loss: 0.5438 - accuracy: 0.8224\n",
      "Epoch 5/5\n",
      "48000/48000 [==============================] - 2s 49us/sample - loss: 0.5280 - accuracy: 0.8271\n"
     ]
    },
    {
     "data": {
      "text/plain": [
       "<tensorflow.python.keras.callbacks.History at 0x226791bfdd8>"
      ]
     },
     "execution_count": 15,
     "metadata": {},
     "output_type": "execute_result"
    }
   ],
   "source": [
    "(train_input, train_target), (test_input, test_target) = \\\n",
    "keras.datasets.fashion_mnist.load_data()\n",
    "\n",
    "train_scaled = train_input / 255.0 \n",
    "# train_scaled = train_scaled.reshape(-1, 28*28)\n",
    "\n",
    "train_scaled, val_scaled, train_target, val_target = \\\n",
    "train_test_split(train_scaled, train_target, test_size=.2, random_state=42)\n",
    "\n",
    "model = keras.Sequential()\n",
    "model.add(keras.layers.Flatten(input_shape=(28,28)))\n",
    "model.add(keras.layers.Dense(100, activation='relu'))\n",
    "model.add(keras.layers.Dense(10, activation='softmax'))\n",
    "\n",
    "# 모델 설정 - adagrad\n",
    "model.compile(optimizer='adagrad', loss='sparse_categorical_crossentropy', metrics=['accuracy'])\n",
    "model.fit(train_scaled, train_target, epochs=5)"
   ]
  },
  {
   "cell_type": "code",
   "execution_count": null,
   "metadata": {},
   "outputs": [],
   "source": []
  }
 ],
 "metadata": {
  "kernelspec": {
   "display_name": "Python 3",
   "language": "python",
   "name": "python3"
  },
  "language_info": {
   "codemirror_mode": {
    "name": "ipython",
    "version": 3
   },
   "file_extension": ".py",
   "mimetype": "text/x-python",
   "name": "python",
   "nbconvert_exporter": "python",
   "pygments_lexer": "ipython3",
   "version": "3.7.3"
  }
 },
 "nbformat": 4,
 "nbformat_minor": 2
}
