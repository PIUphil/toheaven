{
 "cells": [
  {
   "cell_type": "code",
   "execution_count": 26,
   "metadata": {},
   "outputs": [],
   "source": [
    "# 기본 패키지\n",
    "import numpy as np\n",
    "import matplotlib.pyplot as plt\n",
    "%matplotlib inline\n",
    "\n",
    "# 데이터 가져오기\n",
    "import pandas as pd\n",
    "from sklearn.datasets import load_breast_cancer    # load_  함수\n",
    "# from sklearn import datasets\n",
    "\n",
    "# 훈련/검증용 데이터 분리\n",
    "from sklearn.model_selection import train_test_split\n",
    "\n",
    "# 분류모델구축\n",
    "from sklearn.tree import DecisionTreeClassifier      # 결정트리\n",
    "from sklearn.neighbors import KNeighborsClassifier   # K-최근접 이웃\n",
    "from sklearn.linear_model import LogisticRegression  # 로지스틱회귀\n",
    "\n",
    "# 앙상블 모델 구축\n",
    "from sklearn.ensemble import VotingClassifier        # 과반수투표로 모델링시킴,,\n",
    "\n",
    "# 모델 검정\n",
    "from sklearn.metrics import confusion_matrix, classification_report  # 혼동행렬, 정오분류표\n",
    "from sklearn.metrics import accuracy_score, precision_score, recall_score, f1_score, roc_auc_score # 정확도,정밀도,재현도,f1,,,\n",
    "from sklearn.metrics import roc_curve, auc            # ROC 곡선그리기\n",
    "\n",
    "# 최적화\n",
    "from sklearn.model_selection import learning_curve, validation_curve\n",
    "from sklearn.model_selection import GridSearchCV      # 하이퍼 파라미터 튜닝\n",
    "from sklearn.model_selection import cross_val_score   # 교차타당도"
   ]
  },
  {
   "cell_type": "code",
   "execution_count": 1,
   "metadata": {},
   "outputs": [],
   "source": [
    "# 기본 패키지\n",
    "import numpy as np\n",
    "import matplotlib.pyplot as plt\n",
    "%matplotlib inline\n",
    "\n",
    "# 데이터 가져오기\n",
    "from sklearn.datasets import load_breast_cancer\n",
    "cancer = load_breast_cancer()"
   ]
  },
  {
   "cell_type": "code",
   "execution_count": 2,
   "metadata": {},
   "outputs": [
    {
     "data": {
      "text/plain": [
       "dict_keys(['data', 'target', 'frame', 'target_names', 'DESCR', 'feature_names', 'filename'])"
      ]
     },
     "execution_count": 2,
     "metadata": {},
     "output_type": "execute_result"
    }
   ],
   "source": [
    "cancer.keys()"
   ]
  },
  {
   "cell_type": "code",
   "execution_count": 3,
   "metadata": {},
   "outputs": [
    {
     "data": {
      "text/plain": [
       "array(['malignant', 'benign'], dtype='<U9')"
      ]
     },
     "execution_count": 3,
     "metadata": {},
     "output_type": "execute_result"
    }
   ],
   "source": [
    "cancer['target_names']"
   ]
  },
  {
   "cell_type": "code",
   "execution_count": 4,
   "metadata": {},
   "outputs": [
    {
     "data": {
      "text/plain": [
       "array(['mean radius', 'mean texture', 'mean perimeter', 'mean area',\n",
       "       'mean smoothness', 'mean compactness', 'mean concavity',\n",
       "       'mean concave points', 'mean symmetry', 'mean fractal dimension',\n",
       "       'radius error', 'texture error', 'perimeter error', 'area error',\n",
       "       'smoothness error', 'compactness error', 'concavity error',\n",
       "       'concave points error', 'symmetry error',\n",
       "       'fractal dimension error', 'worst radius', 'worst texture',\n",
       "       'worst perimeter', 'worst area', 'worst smoothness',\n",
       "       'worst compactness', 'worst concavity', 'worst concave points',\n",
       "       'worst symmetry', 'worst fractal dimension'], dtype='<U23')"
      ]
     },
     "execution_count": 4,
     "metadata": {},
     "output_type": "execute_result"
    }
   ],
   "source": [
    "cancer['feature_names']"
   ]
  },
  {
   "cell_type": "code",
   "execution_count": 5,
   "metadata": {},
   "outputs": [
    {
     "data": {
      "text/plain": [
       "(569, 30)"
      ]
     },
     "execution_count": 5,
     "metadata": {},
     "output_type": "execute_result"
    }
   ],
   "source": [
    "cancer.data.shape"
   ]
  },
  {
   "cell_type": "code",
   "execution_count": 6,
   "metadata": {},
   "outputs": [
    {
     "data": {
      "text/plain": [
       "array([[1.799e+01, 1.038e+01, 1.228e+02, 1.001e+03, 1.184e-01, 2.776e-01,\n",
       "        3.001e-01, 1.471e-01, 2.419e-01, 7.871e-02, 1.095e+00, 9.053e-01,\n",
       "        8.589e+00, 1.534e+02, 6.399e-03, 4.904e-02, 5.373e-02, 1.587e-02,\n",
       "        3.003e-02, 6.193e-03, 2.538e+01, 1.733e+01, 1.846e+02, 2.019e+03,\n",
       "        1.622e-01, 6.656e-01, 7.119e-01, 2.654e-01, 4.601e-01, 1.189e-01],\n",
       "       [2.057e+01, 1.777e+01, 1.329e+02, 1.326e+03, 8.474e-02, 7.864e-02,\n",
       "        8.690e-02, 7.017e-02, 1.812e-01, 5.667e-02, 5.435e-01, 7.339e-01,\n",
       "        3.398e+00, 7.408e+01, 5.225e-03, 1.308e-02, 1.860e-02, 1.340e-02,\n",
       "        1.389e-02, 3.532e-03, 2.499e+01, 2.341e+01, 1.588e+02, 1.956e+03,\n",
       "        1.238e-01, 1.866e-01, 2.416e-01, 1.860e-01, 2.750e-01, 8.902e-02],\n",
       "       [1.969e+01, 2.125e+01, 1.300e+02, 1.203e+03, 1.096e-01, 1.599e-01,\n",
       "        1.974e-01, 1.279e-01, 2.069e-01, 5.999e-02, 7.456e-01, 7.869e-01,\n",
       "        4.585e+00, 9.403e+01, 6.150e-03, 4.006e-02, 3.832e-02, 2.058e-02,\n",
       "        2.250e-02, 4.571e-03, 2.357e+01, 2.553e+01, 1.525e+02, 1.709e+03,\n",
       "        1.444e-01, 4.245e-01, 4.504e-01, 2.430e-01, 3.613e-01, 8.758e-02],\n",
       "       [1.142e+01, 2.038e+01, 7.758e+01, 3.861e+02, 1.425e-01, 2.839e-01,\n",
       "        2.414e-01, 1.052e-01, 2.597e-01, 9.744e-02, 4.956e-01, 1.156e+00,\n",
       "        3.445e+00, 2.723e+01, 9.110e-03, 7.458e-02, 5.661e-02, 1.867e-02,\n",
       "        5.963e-02, 9.208e-03, 1.491e+01, 2.650e+01, 9.887e+01, 5.677e+02,\n",
       "        2.098e-01, 8.663e-01, 6.869e-01, 2.575e-01, 6.638e-01, 1.730e-01],\n",
       "       [2.029e+01, 1.434e+01, 1.351e+02, 1.297e+03, 1.003e-01, 1.328e-01,\n",
       "        1.980e-01, 1.043e-01, 1.809e-01, 5.883e-02, 7.572e-01, 7.813e-01,\n",
       "        5.438e+00, 9.444e+01, 1.149e-02, 2.461e-02, 5.688e-02, 1.885e-02,\n",
       "        1.756e-02, 5.115e-03, 2.254e+01, 1.667e+01, 1.522e+02, 1.575e+03,\n",
       "        1.374e-01, 2.050e-01, 4.000e-01, 1.625e-01, 2.364e-01, 7.678e-02]])"
      ]
     },
     "execution_count": 6,
     "metadata": {},
     "output_type": "execute_result"
    }
   ],
   "source": [
    "cancer.data[:5]"
   ]
  },
  {
   "cell_type": "raw",
   "metadata": {},
   "source": [
    "describe를 시각화 -> boxplot\n",
    "1~4사분위, 최소최댓값, 박스사이거리 등"
   ]
  },
  {
   "cell_type": "code",
   "execution_count": 7,
   "metadata": {},
   "outputs": [
    {
     "data": {
      "image/png": "[encoded data removed]",
      "text/plain": [
       "<Figure size 432x288 with 1 Axes>"
      ]
     },
     "metadata": {
      "needs_background": "light"
     },
     "output_type": "display_data"
    }
   ],
   "source": [
    "plt.boxplot(cancer.data)\n",
    "plt.xlabel('feature')\n",
    "plt.ylabel('value')\n",
    "plt.show()"
   ]
  },
  {
   "cell_type": "code",
   "execution_count": 8,
   "metadata": {},
   "outputs": [
    {
     "data": {
      "text/plain": [
       "array(['mean area', 'area error', 'worst area'], dtype='<U23')"
      ]
     },
     "execution_count": 8,
     "metadata": {},
     "output_type": "execute_result"
    }
   ],
   "source": [
    "cancer.feature_names[[3, 13, 23]]"
   ]
  },
  {
   "cell_type": "code",
   "execution_count": 9,
   "metadata": {},
   "outputs": [
    {
     "data": {
      "text/plain": [
       "array([0, 1])"
      ]
     },
     "execution_count": 9,
     "metadata": {},
     "output_type": "execute_result"
    }
   ],
   "source": [
    "np.unique(cancer.target)"
   ]
  },
  {
   "cell_type": "code",
   "execution_count": 10,
   "metadata": {},
   "outputs": [
    {
     "data": {
      "text/plain": [
       "(array([0, 1]), array([212, 357], dtype=int64))"
      ]
     },
     "execution_count": 10,
     "metadata": {},
     "output_type": "execute_result"
    }
   ],
   "source": [
    "# 0은 음성, 1은 양성 클래스\n",
    "np.unique(cancer.target, return_counts=True)  # return_counts : 각각 개수 알려줌"
   ]
  },
  {
   "cell_type": "code",
   "execution_count": 11,
   "metadata": {},
   "outputs": [],
   "source": [
    "x = cancer.data\n",
    "y = cancer.target"
   ]
  },
  {
   "cell_type": "raw",
   "metadata": {},
   "source": [
    "x_train_all, x_test, y_train_all, y_test = train_test_split(\n",
    "    x, y, stratify=y, test_size=0.2, random_state=42)\n",
    "\n",
    "x_train, x_val, y_train, y_val = train_test_split(          # val : 검증데이터\n",
    "    x_train_all, y_train_all, stratify=y, test_size=0.2, random_state=42)"
   ]
  },
  {
   "cell_type": "code",
   "execution_count": 12,
   "metadata": {},
   "outputs": [],
   "source": [
    "from sklearn.model_selection import train_test_split\n",
    "x_train, x_test, y_train, y_test = train_test_split(\n",
    "    x, y, stratify=y, test_size=0.2, random_state=42)"
   ]
  },
  {
   "cell_type": "code",
   "execution_count": 13,
   "metadata": {},
   "outputs": [
    {
     "data": {
      "text/plain": [
       "(455, 30)"
      ]
     },
     "execution_count": 13,
     "metadata": {},
     "output_type": "execute_result"
    }
   ],
   "source": [
    "x_train.shape"
   ]
  },
  {
   "cell_type": "code",
   "execution_count": 14,
   "metadata": {},
   "outputs": [
    {
     "data": {
      "text/plain": [
       "(114, 30)"
      ]
     },
     "execution_count": 14,
     "metadata": {},
     "output_type": "execute_result"
    }
   ],
   "source": [
    "x_test.shape"
   ]
  },
  {
   "cell_type": "code",
   "execution_count": 15,
   "metadata": {},
   "outputs": [
    {
     "data": {
      "text/plain": [
       "(array([0, 1]), array([170, 285], dtype=int64))"
      ]
     },
     "execution_count": 15,
     "metadata": {},
     "output_type": "execute_result"
    }
   ],
   "source": [
    "np.unique(y_train, return_counts=True)"
   ]
  },
  {
   "cell_type": "code",
   "execution_count": 16,
   "metadata": {},
   "outputs": [
    {
     "data": {
      "text/plain": [
       "(array([0, 1]), array([42, 72], dtype=int64))"
      ]
     },
     "execution_count": 16,
     "metadata": {},
     "output_type": "execute_result"
    }
   ],
   "source": [
    "np.unique(y_test, return_counts=True)"
   ]
  },
  {
   "cell_type": "code",
   "execution_count": 17,
   "metadata": {},
   "outputs": [],
   "source": [
    "class LogisticNeuron:\n",
    "    \n",
    "    def __init__(self):\n",
    "        self.w = None\n",
    "        self.b = None\n",
    "        \n",
    "    # 정방향 계산 : 선형함수(직선방정식을 이용해서 계산)\n",
    "    def forpass(self, x):         \n",
    "        z = np.sum(x * self.w) + self.b    # sum = sigma\n",
    "        return z\n",
    "    \n",
    "    # 역방향 계산 : 오차제곱(SE)  >>  경사하강법\n",
    "    def backprob(self, x, err):\n",
    "        w_gred = x * err   # 가중치에 대한 경사 계산\n",
    "        b_gred = 1 * err   # 절편에 대한 경사 계산\n",
    "        return w_gred, b_gred\n",
    "    \n",
    "    # 활성화 함수   z = (-inf ~ +inf) >>  a = (0, 1)\n",
    "    def activation(self, z):\n",
    "        a = 1 / (1 + np.exp(-z))   # 시그모이드 계산\n",
    "        return a\n",
    "    \n",
    "    # 훈련을 시키는 메서드\n",
    "    def fit(self, x, y, epochs=100):\n",
    "        self.w = np.ones(x.shape[1])   # 가중치를 모든 샘플에 1로 초기화\n",
    "        self.b = 0                     # 절편 초기화\n",
    "        \n",
    "        for _ in range(epochs):\n",
    "            for x_i, y_i in zip(x, y):\n",
    "                \n",
    "                z = self.forpass(x_i)  # 정방향 계산\n",
    "                a = self.activation(z) # 활성화함수 적용\n",
    "                err = -(y_i - a)       # 오차 계산\n",
    "                \n",
    "                w_gred, b_gred = self.backprob(x_i, err)  # 역방향 계산\n",
    "                \n",
    "                self.w -= w_gred   # 가중치 업데이트\n",
    "                self.b -= b_gred   # 절편 업데이트\n",
    "                \n",
    "                # 모든 샘플에는 똑같은 가중치(w)를 가져야 한다\n",
    "                # 나중에는 특성에 맞게 가중치를 준다....\n",
    "    \n",
    "    # 예측하는 메서드\n",
    "    def predict(self, x):\n",
    "        # 선형함수 적용, 리스트 내포 문법\n",
    "        z = [self.forpass(x_i) for x_i in x]\n",
    "        # 활성화 함수 적용   \n",
    "        a = self.activation(np.array(z))\n",
    "        # 계단 함수 적용\n",
    "        return a > 0.5              # 0.5(임계값)보다 크면 참(1), 아니면 거짓(0) 반환 "
   ]
  },
  {
   "cell_type": "code",
   "execution_count": 18,
   "metadata": {},
   "outputs": [
    {
     "name": "stderr",
     "output_type": "stream",
     "text": [
      "C:\\Anaconda3\\lib\\site-packages\\ipykernel_launcher.py:20: RuntimeWarning: overflow encountered in exp\n"
     ]
    }
   ],
   "source": [
    "# 로지스틱 회귀 모델 훈련시키는 작업\n",
    "neuron = LogisticNeuron()\n",
    "neuron.fit(x_train, y_train)"
   ]
  },
  {
   "cell_type": "code",
   "execution_count": 19,
   "metadata": {},
   "outputs": [
    {
     "name": "stderr",
     "output_type": "stream",
     "text": [
      "C:\\Anaconda3\\lib\\site-packages\\ipykernel_launcher.py:20: RuntimeWarning: overflow encountered in exp\n"
     ]
    },
    {
     "data": {
      "text/plain": [
       "0.8245614035087719"
      ]
     },
     "execution_count": 19,
     "metadata": {},
     "output_type": "execute_result"
    }
   ],
   "source": [
    "# 모델의 정확도 /모델평가\n",
    "np.mean(neuron.predict(x_test) == y_test)"
   ]
  },
  {
   "cell_type": "raw",
   "metadata": {},
   "source": [
    "은닉층 (심층신경망, 딥러닝)\n",
    "Deep-Neuron Network (DNN)\n",
    "\n",
    "단일신경망, 단일층 신경망\n",
    " - 입력층, 출력층만 가진 것 (은닉층 없음)  \n",
    "    # 입력층 -> 단순히 데이터 입력. 층 아님 (이름만 층,,)\n",
    "    # 층 : 계산이나 행위(역할)가 이루어지는 곳\n",
    " - ex) 로지스틱회귀"
   ]
  },
  {
   "cell_type": "raw",
   "metadata": {},
   "source": [
    "로지스틱에 은닉층 넣기\n",
    "-> 신경망 알고리즘\n",
    "\n",
    "# 은닉층 >> 손실함수의 결괏값을 저장\n",
    "\n",
    "경사하강법 -> 손실함수(loss func)를 최소화하는 알고리즘\n",
    "              손실함수가 줄어드는지 확인해보기"
   ]
  },
  {
   "cell_type": "markdown",
   "metadata": {},
   "source": [
    "### 손실함수의 결괏값 조정해 저장하는 기능 추가하기\n",
    "- __init__() 메서드에 손실함수 결괏값을 저장할 리스트 self.losses 생성\n",
    "- 샘플마다 손실함수를 계산하고 그 결괏값을 모두 더한 다음 샘플 개수로 나눈 평균값 self.losses 변수에 저장\n",
    "- self.activation() 메서드로 계산한 a는 np.log()의 계산을 위해 한 번 더 조정\n",
    "- a가 0에 가까워지면 np.log() 함수의 값은 음의 무한대가 되고, a가 1에 가까워지면 np.log() 함수의 값은 0이 되기 때문이다\n",
    "- 손실값이 무한해지면 정확한 계산이 불가능하다\n",
    "- a의 값이 1*10^-10 ~ 1-1*10^-10 사이가 되도록 np.clip() 함수로 조정해야 한다.\n",
    "- np.clip() 함수는 주어진 범위 밖의 값을 범위 양 끝의 값으로 잘라낸다."
   ]
  },
  {
   "cell_type": "code",
   "execution_count": 20,
   "metadata": {},
   "outputs": [],
   "source": [
    "class SingleLayer:          # 단일층\n",
    "    \n",
    "    def __init__(self):\n",
    "        self.w = None\n",
    "        self.b = None\n",
    "        self.losses = []    # 손실값을 저장하는 객체\n",
    "        \n",
    "    def forpass(self, x):         \n",
    "        z = np.sum(x * self.w) + self.b\n",
    "        return z\n",
    "\n",
    "    def backprob(self, x, err):\n",
    "        w_gred = x * err\n",
    "        b_gred = 1 * err\n",
    "        return w_gred, b_gred\n",
    "    \n",
    "    def activation(self, z):\n",
    "        a = 1 / (1 + np.exp(-z))\n",
    "        return a\n",
    "    \n",
    "    def fit(self, x, y, epochs=100):\n",
    "        self.w = np.ones(x.shape[1])\n",
    "        self.b = 0                  \n",
    "        \n",
    "        for _ in range(epochs):\n",
    "            \n",
    "            loss = 0\n",
    "            # 모든 샘플에 대한 반복 작업을 위해서 인덱스를 섞는 작업\n",
    "            indexes = np.random.permutation(np.arange(len(x)))\n",
    "\n",
    "            for i in indexes:\n",
    "            #for x_i, y_i in zip(x, y):\n",
    "                \n",
    "                z = self.forpass(x[i])\n",
    "                a = self.activation(z)\n",
    "                err = -(y[i] - a)      \n",
    "                \n",
    "                w_gred, b_gred = self.backprob(x[i], err) \n",
    "                \n",
    "                self.w -= w_gred   \n",
    "                self.b -= b_gred\n",
    "                \n",
    "                # 안전한 로그함수의 계산을 위해서 클리핑한 후 손실을 누적\n",
    "                a = np.clip(a, 1e-10, 1-1e-10)\n",
    "                # 에포크마다 손실을 저장\n",
    "                loss += -(y[i]*np.log(a)+(1-y[i])*np.log(1-a))\n",
    "        \n",
    "            self.losses.append(loss/len(y))\n",
    "                    \n",
    "    def predict(self, x):\n",
    "        z = [self.forpass(x_i) for x_i in x]   \n",
    "        a = self.activation(np.array(z))\n",
    "        return a > 0.5 \n",
    "    \n",
    "    # 평가함수\n",
    "    def score(self, x, y):\n",
    "        return np.mean(self.predict(x)==y)"
   ]
  },
  {
   "cell_type": "raw",
   "metadata": {},
   "source": [
    "# 확률적 경사하강법 - 1개의 샘플 데이터에 대한 경사값을 계산하는 것"
   ]
  },
  {
   "cell_type": "code",
   "execution_count": 21,
   "metadata": {},
   "outputs": [
    {
     "name": "stderr",
     "output_type": "stream",
     "text": [
      "C:\\Anaconda3\\lib\\site-packages\\ipykernel_launcher.py:18: RuntimeWarning: overflow encountered in exp\n"
     ]
    },
    {
     "data": {
      "text/plain": [
       "0.9385964912280702"
      ]
     },
     "execution_count": 21,
     "metadata": {},
     "output_type": "execute_result"
    }
   ],
   "source": [
    "layer = SingleLayer()\n",
    "layer.fit(x_train, y_train)\n",
    "layer.score(x_test, y_test)"
   ]
  },
  {
   "cell_type": "code",
   "execution_count": 22,
   "metadata": {},
   "outputs": [
    {
     "data": {
      "image/png": "[encoded data removed]",
      "text/plain": [
       "<Figure size 432x288 with 1 Axes>"
      ]
     },
     "metadata": {
      "needs_background": "light"
     },
     "output_type": "display_data"
    }
   ],
   "source": [
    "plt.plot(layer.losses)\n",
    "plt.xlabel('epoch')\n",
    "plt.ylabel('loss')\n",
    "plt.show()"
   ]
  },
  {
   "cell_type": "code",
   "execution_count": 23,
   "metadata": {},
   "outputs": [
    {
     "data": {
      "text/plain": [
       "0.8333333333333334"
      ]
     },
     "execution_count": 23,
     "metadata": {},
     "output_type": "execute_result"
    }
   ],
   "source": [
    "from sklearn.linear_model import SGDClassifier\n",
    "\n",
    "sgd = SGDClassifier(loss='log', max_iter=100, tol=1e-3, random_state=42) \n",
    "# 손실함수-로그\n",
    "# max_iter : 에포크,반복횟수지정\n",
    "# tol : 지정한 값만큼 감소되지않으면 반복을 중단\n",
    "# random_state : 유사난수 초기값\n",
    "sgd.fit(x_train, y_train)\n",
    "sgd.score(x_test, y_test)"
   ]
  },
  {
   "cell_type": "code",
   "execution_count": 24,
   "metadata": {},
   "outputs": [
    {
     "data": {
      "text/plain": [
       "array([0, 1, 0, 0, 0, 0, 1, 0, 0, 0])"
      ]
     },
     "execution_count": 24,
     "metadata": {},
     "output_type": "execute_result"
    }
   ],
   "source": [
    "sgd.predict(x_test[:10])"
   ]
  },
  {
   "cell_type": "code",
   "execution_count": 25,
   "metadata": {},
   "outputs": [
    {
     "data": {
      "text/plain": [
       "0.9385964912280702"
      ]
     },
     "execution_count": 25,
     "metadata": {},
     "output_type": "execute_result"
    }
   ],
   "source": [
    "from sklearn.linear_model import SGDClassifier\n",
    "\n",
    "sgd = SGDClassifier(loss='hinge', max_iter=100, tol=1e-3, random_state=42)\n",
    "# 손실함수-힌지\n",
    "sgd.fit(x_train, y_train)\n",
    "sgd.score(x_test, y_test)"
   ]
  },
  {
   "cell_type": "raw",
   "metadata": {},
   "source": [
    "하이퍼파라미터 튜닝 : 하이퍼 파라미터 바꿔가면서 모델 성능 확인"
   ]
  },
  {
   "cell_type": "code",
   "execution_count": null,
   "metadata": {},
   "outputs": [],
   "source": []
  }
 ],
 "metadata": {
  "kernelspec": {
   "display_name": "Python 3",
   "language": "python",
   "name": "python3"
  },
  "language_info": {
   "codemirror_mode": {
    "name": "ipython",
    "version": 3
   },
   "file_extension": ".py",
   "mimetype": "text/x-python",
   "name": "python",
   "nbconvert_exporter": "python",
   "pygments_lexer": "ipython3",
   "version": "3.7.3"
  }
 },
 "nbformat": 4,
 "nbformat_minor": 2
}
