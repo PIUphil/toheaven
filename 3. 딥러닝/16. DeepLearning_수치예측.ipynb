{
 "cells": [
  {
   "cell_type": "raw",
   "metadata": {},
   "source": [
    "p.24,25 텐서플로 및 케라스 설치하기\n",
    "\n",
    "<아나콘다 프롬프트 관리자>\n",
    "python –V                         # 파이썬 버전 확인\n",
    "pip install tensorflow == 2.0.0   # 텐서플로우 버전 2.0.0을 설치\n",
    "\n",
    "# conda install  : 아나콘다에 등록되어있는 라이브러리 설치\n",
    "#\t\t웬만한 라이브러리는 등록되어있음..\n",
    "#\t\t하지만 버전이 낮을 수 있다\n",
    "# pip install  : 직접 연결할 때 파이프로 설치\n",
    "\n",
    "# 구글 코랩 : 구글에서 제공하는 주피터노트북 같은거,,\n",
    "\n",
    "pip install keras==2.3\n",
    "\n",
    "python           # 아이파이썬 ; 인터프리터 상태로 python 들어옴\n",
    "\n",
    "import tensorflow as tf\n",
    "print(tf.__version__)   # 2.0.0\n",
    "\n",
    "import keras     # Using Tensorflow backend # 케라스는 텐서플로우에 포함되어있음\n",
    "exit()           # 파이썬에서 나옴"
   ]
  },
  {
   "cell_type": "markdown",
   "metadata": {},
   "source": [
    "### 당뇨병 환자 데이터셋(Diabetes)"
   ]
  },
  {
   "cell_type": "code",
   "execution_count": 1,
   "metadata": {},
   "outputs": [],
   "source": [
    "import numpy as np\n",
    "import matplotlib.pyplot as plt\n",
    "import pandas as pd\n",
    "%matplotlib inline"
   ]
  },
  {
   "cell_type": "code",
   "execution_count": 2,
   "metadata": {},
   "outputs": [],
   "source": [
    "# load_데이터셋이름\n",
    "from sklearn.datasets import load_diabetes\n",
    "diabetes = load_diabetes()"
   ]
  },
  {
   "cell_type": "code",
   "execution_count": 3,
   "metadata": {},
   "outputs": [
    {
     "name": "stdout",
     "output_type": "stream",
     "text": [
      "(442, 10) (442,)\n"
     ]
    }
   ],
   "source": [
    "print(diabetes.data.shape, diabetes.target.shape)"
   ]
  },
  {
   "cell_type": "raw",
   "metadata": {},
   "source": [
    "data = 입력데이터, target = 출력값\n",
    "data - 당뇨병 환자에 대한 다양한 정보들(피처) 가지고있음\n",
    "       일반적으로 2차원.\n",
    "       행 한줄 한줄 => 샘플 / 열 => 피처(속성)"
   ]
  },
  {
   "cell_type": "code",
   "execution_count": 4,
   "metadata": {},
   "outputs": [
    {
     "data": {
      "text/plain": [
       "array([[ 0.03807591,  0.05068012,  0.06169621,  0.02187235, -0.0442235 ,\n",
       "        -0.03482076, -0.04340085, -0.00259226,  0.01990842, -0.01764613],\n",
       "       [-0.00188202, -0.04464164, -0.05147406, -0.02632783, -0.00844872,\n",
       "        -0.01916334,  0.07441156, -0.03949338, -0.06832974, -0.09220405],\n",
       "       [ 0.08529891,  0.05068012,  0.04445121, -0.00567061, -0.04559945,\n",
       "        -0.03419447, -0.03235593, -0.00259226,  0.00286377, -0.02593034]])"
      ]
     },
     "execution_count": 4,
     "metadata": {},
     "output_type": "execute_result"
    }
   ],
   "source": [
    "diabetes.data[0:3]"
   ]
  },
  {
   "cell_type": "code",
   "execution_count": 5,
   "metadata": {},
   "outputs": [
    {
     "data": {
      "text/plain": [
       "array([151.,  75., 141.])"
      ]
     },
     "execution_count": 5,
     "metadata": {},
     "output_type": "execute_result"
    }
   ],
   "source": [
    "diabetes.target[:3]"
   ]
  },
  {
   "cell_type": "code",
   "execution_count": 6,
   "metadata": {},
   "outputs": [
    {
     "data": {
      "image/png": "[encoded data removed]",
      "text/plain": [
       "<Figure size 432x288 with 1 Axes>"
      ]
     },
     "metadata": {
      "needs_background": "light"
     },
     "output_type": "display_data"
    }
   ],
   "source": [
    "plt.scatter(diabetes.data[:,2], diabetes.target)\n",
    "plt.xlabel('x')\n",
    "plt.ylabel('y')\n",
    "plt.show()"
   ]
  },
  {
   "cell_type": "code",
   "execution_count": 7,
   "metadata": {},
   "outputs": [],
   "source": [
    "# 훈련데이터 생성\n",
    "x = diabetes.data[:,2]\n",
    "y = diabetes.target"
   ]
  },
  {
   "cell_type": "raw",
   "metadata": {},
   "source": [
    "경사하강법\n",
    "기울기를 줄여가면서 모델에 가까워지게... ?\n",
    "\n",
    "y = ax+b 선형회귀 (예측선)\n",
    "딥러닝에선...\n",
    "ŷ = wx+b  (ŷ(y_hat) : 예측값, w : weight 기울기, 가중치, 계수, b : 절편,편향)  / ŷ = y^\n",
    "예측값이 실제값과 최대한 비슷하게 나타나도록\n",
    "w와 b값을 조정함"
   ]
  },
  {
   "cell_type": "markdown",
   "metadata": {},
   "source": [
    "### 예측값으로 올바른 모델을 찾아내는 작업"
   ]
  },
  {
   "cell_type": "code",
   "execution_count": 8,
   "metadata": {},
   "outputs": [],
   "source": [
    "# step1. 임의의 w, b를 만든다\n",
    "w = 1.0\n",
    "b = 1.0"
   ]
  },
  {
   "cell_type": "code",
   "execution_count": 9,
   "metadata": {},
   "outputs": [
    {
     "data": {
      "text/plain": [
       "1.0616962065186886"
      ]
     },
     "execution_count": 9,
     "metadata": {},
     "output_type": "execute_result"
    }
   ],
   "source": [
    "# step2. 훈련데이터의 첫번째 샘플을 이용해서 예측값(y_hat)\n",
    "y_hat = x[0] * w + b\n",
    "y_hat"
   ]
  },
  {
   "cell_type": "code",
   "execution_count": 10,
   "metadata": {},
   "outputs": [
    {
     "data": {
      "text/plain": [
       "151.0"
      ]
     },
     "execution_count": 10,
     "metadata": {},
     "output_type": "execute_result"
    }
   ],
   "source": [
    "# step3. 타깃과 예측값을 비교한다\n",
    "y[0]"
   ]
  },
  {
   "cell_type": "code",
   "execution_count": 11,
   "metadata": {},
   "outputs": [
    {
     "data": {
      "text/plain": [
       "1.0678658271705574"
      ]
     },
     "execution_count": 11,
     "metadata": {},
     "output_type": "execute_result"
    }
   ],
   "source": [
    "# w값을 조절해서 예측값을 바꾸는 작업\n",
    "# w값을 0.1만큼 증가\n",
    "w_inc = w + 0.1                # inc = increase  # 변화율 0.1을 음수로 줘도 증가한다,,?\n",
    "y_hat_inc = x[0] * w_inc + b\n",
    "y_hat_inc                      # 증가전보다 결과값에 가까워졌으니 잘한 일이다\n",
    "                               # 차이가 커졌다면 -0.1 을 해주자"
   ]
  },
  {
   "cell_type": "code",
   "execution_count": 12,
   "metadata": {},
   "outputs": [
    {
     "data": {
      "text/plain": [
       "0.061696206518688734"
      ]
     },
     "execution_count": 12,
     "metadata": {},
     "output_type": "execute_result"
    }
   ],
   "source": [
    "# w값을 조정한 후 예측값이 증가한 정도를 확인 (변화율)  # 첫번째 학습데이터의 변화율\n",
    "w_rate = (y_hat_inc - y_hat) / (w_inc - w)                                # 학습비율\n",
    "w_rate"
   ]
  },
  {
   "cell_type": "raw",
   "metadata": {},
   "source": [
    "           ŷ_inc  -  ŷ\n",
    "w_rate =  --------------       => w의 변화율 (w=가중치)   # w의 학습률\n",
    "           w_inc  -  w\n",
    "           \n",
    "          (x[0]*(w+0.1)-b) - (x[0]*w+b)\n",
    "       =  -----------------------------\n",
    "                (w+0.1)  -  w\n",
    "                \n",
    "           x[0] * 0.1\n",
    "       =  ------------     =  x[0]\n",
    "                0.1"
   ]
  },
  {
   "cell_type": "code",
   "execution_count": 13,
   "metadata": {},
   "outputs": [
    {
     "data": {
      "text/plain": [
       "0.0616962065186885"
      ]
     },
     "execution_count": 13,
     "metadata": {},
     "output_type": "execute_result"
    }
   ],
   "source": [
    "x[0]"
   ]
  },
  {
   "cell_type": "code",
   "execution_count": 32,
   "metadata": {},
   "outputs": [
    {
     "data": {
      "text/plain": [
       "-0.0514740612388061"
      ]
     },
     "execution_count": 32,
     "metadata": {},
     "output_type": "execute_result"
    }
   ],
   "source": [
    "x[1]"
   ]
  },
  {
   "cell_type": "code",
   "execution_count": 14,
   "metadata": {},
   "outputs": [
    {
     "data": {
      "text/plain": [
       "1.0616962065186888"
      ]
     },
     "execution_count": 14,
     "metadata": {},
     "output_type": "execute_result"
    }
   ],
   "source": [
    "# 변화율을 업데이트 할 때(가중치 w를 업데이트 하는 방법)\n",
    "w_new = w + w_rate\n",
    "w_new"
   ]
  },
  {
   "cell_type": "raw",
   "metadata": {},
   "source": [
    "w[0]이 양수이면 inc를 양수로(+0.1) 했을때 ŷ가 증가함\n",
    "w[0]이 음수이면 inc를 음수로 해야 ŷ가 증가함\n",
    "\n",
    "w_rate가 양수라서 w에 더해줬다..?"
   ]
  },
  {
   "cell_type": "markdown",
   "metadata": {},
   "source": [
    "### 변화율로 절편 업데이트 하기"
   ]
  },
  {
   "cell_type": "code",
   "execution_count": 15,
   "metadata": {},
   "outputs": [
    {
     "data": {
      "text/plain": [
       "1.0616962065186886"
      ]
     },
     "execution_count": 15,
     "metadata": {},
     "output_type": "execute_result"
    }
   ],
   "source": [
    "y_hat_inc = x[0] * w + b\n",
    "y_hat_inc"
   ]
  },
  {
   "cell_type": "code",
   "execution_count": 16,
   "metadata": {},
   "outputs": [
    {
     "data": {
      "text/plain": [
       "1.1616962065186887"
      ]
     },
     "execution_count": 16,
     "metadata": {},
     "output_type": "execute_result"
    }
   ],
   "source": [
    "b_inc = b + 0.1\n",
    "y_hat_inc = x[0] * w + b_inc\n",
    "y_hat_inc"
   ]
  },
  {
   "cell_type": "code",
   "execution_count": 17,
   "metadata": {},
   "outputs": [
    {
     "data": {
      "text/plain": [
       "1.0"
      ]
     },
     "execution_count": 17,
     "metadata": {},
     "output_type": "execute_result"
    }
   ],
   "source": [
    "b_rate = (y_hat_inc - y_hat) / (b_inc - b)\n",
    "b_rate"
   ]
  },
  {
   "cell_type": "raw",
   "metadata": {},
   "source": [
    "           ŷ_inc  -  ŷ\n",
    "b_rate =  --------------       => b의 변화율 (b=절편)  # 학습률\n",
    "           b_inc  -  b\n",
    "           \n",
    "          (x[0]*w-(b+0.1)) - (x[0]*w+b)\n",
    "       =  -----------------------------\n",
    "                (b+0.1)  -  b\n",
    "                \n",
    "            0.1\n",
    "       =  -------    =  1\n",
    "            0.1\n"
   ]
  },
  {
   "cell_type": "code",
   "execution_count": 18,
   "metadata": {},
   "outputs": [
    {
     "data": {
      "text/plain": [
       "2.0"
      ]
     },
     "execution_count": 18,
     "metadata": {},
     "output_type": "execute_result"
    }
   ],
   "source": [
    "b_new = b+1       # 1 = b_rate  # 항상 1이므로 굳이 b_rate로 안쓰고 1로 써도됨\n",
    "b_new"
   ]
  },
  {
   "cell_type": "raw",
   "metadata": {},
   "source": [
    "턱없이 차이가 많이 남\n",
    "수동적으로 업데이트해야함\n",
    "음수 어쩌구저쩌구,,,"
   ]
  },
  {
   "cell_type": "markdown",
   "metadata": {},
   "source": [
    "### 오차 역전파로 가중치와 절편 업데이트하는 작업"
   ]
  },
  {
   "cell_type": "raw",
   "metadata": {},
   "source": [
    "예측값과 실제값의 차이를 이용"
   ]
  },
  {
   "cell_type": "code",
   "execution_count": 19,
   "metadata": {},
   "outputs": [
    {
     "name": "stdout",
     "output_type": "stream",
     "text": [
      "10.250624555904514 150.9383037934813\n"
     ]
    }
   ],
   "source": [
    "# 오차(y - y_hat)와 변화율을 곱해서 가중치(w)를 업데이트 하기\n",
    "err = y[0] - y_hat            # err = error 오차\n",
    "w_new = w + w_rate * err\n",
    "b_new = b + 1 * err\n",
    "print(w_new, b_new)"
   ]
  },
  {
   "cell_type": "code",
   "execution_count": 20,
   "metadata": {},
   "outputs": [
    {
     "name": "stdout",
     "output_type": "stream",
     "text": [
      "14.132317616381767 75.52764127612664\n"
     ]
    }
   ],
   "source": [
    "y_hat = x[1] * w_new + b_new\n",
    "err = y[1] - y_hat \n",
    "\n",
    "w_rate = x[1]\n",
    "w_new = w_new + w_rate * err\n",
    "\n",
    "# b_rate = 1\n",
    "# b_new = b_new + b_rate * err\n",
    "b_new = b_new + 1 * err\n",
    "\n",
    "print(w_new, b_new)"
   ]
  },
  {
   "cell_type": "code",
   "execution_count": 21,
   "metadata": {},
   "outputs": [
    {
     "name": "stdout",
     "output_type": "stream",
     "text": [
      "587.8654539985689 99.40935564531424\n"
     ]
    }
   ],
   "source": [
    "# zip() : 여러 개의 배열에서 동시에 요소를 하나씩 반환해주는 함수\n",
    "for x_i, y_i in zip(x, y):\n",
    "    y_hat = x_i * w + b\n",
    "    err = y_i - y_hat\n",
    "    w_rate = x_i\n",
    "    w = w + w_rate * err\n",
    "    b = b + 1 * err\n",
    "    \n",
    "print(w, b)"
   ]
  },
  {
   "cell_type": "code",
   "execution_count": 22,
   "metadata": {},
   "outputs": [
    {
     "data": {
      "image/png": "[encoded data removed]",
      "text/plain": [
       "<Figure size 432x288 with 1 Axes>"
      ]
     },
     "metadata": {
      "needs_background": "light"
     },
     "output_type": "display_data"
    }
   ],
   "source": [
    "plt.scatter(x, y)\n",
    "pt1 = (-0.1, -0.1*w+b)\n",
    "pt2 = (0.15, 0.15*w+b)\n",
    "plt.plot([pt1[0], pt2[0]], [pt1[1], pt2[1]])\n",
    "plt.xlabel('x')\n",
    "plt.ylabel('y')\n",
    "plt.show()"
   ]
  },
  {
   "cell_type": "code",
   "execution_count": 23,
   "metadata": {},
   "outputs": [
    {
     "data": {
      "text/plain": [
       "913.59734"
      ]
     },
     "execution_count": 23,
     "metadata": {},
     "output_type": "execute_result"
    }
   ],
   "source": [
    "round(913.5973364345905, 5)"
   ]
  },
  {
   "cell_type": "code",
   "execution_count": 24,
   "metadata": {},
   "outputs": [
    {
     "name": "stdout",
     "output_type": "stream",
     "text": [
      "913.5973364345905 123.39414383177204\n"
     ]
    }
   ],
   "source": [
    "# 에포크(epoch) : 입력 값에 대해 몇번이나 반복하여 실험했는지를 나타냄\n",
    "for _ in range(1, 100):       # 처음부터(x[0]) 다시 모든과정 반복,, 3번 정도만 해도 최종결과와 거의 유사한 값이 나타남\n",
    "    for x_i, y_i in zip(x, y):\n",
    "        y_hat = x_i * w + b\n",
    "        err = y_i - y_hat\n",
    "        w_rate = x_i\n",
    "        w = w + w_rate * err\n",
    "        b = b + 1 * err\n",
    "print(w, b)    "
   ]
  },
  {
   "cell_type": "code",
   "execution_count": 25,
   "metadata": {},
   "outputs": [
    {
     "data": {
      "image/png": "[encoded data removed]",
      "text/plain": [
       "<Figure size 432x288 with 1 Axes>"
      ]
     },
     "metadata": {
      "needs_background": "light"
     },
     "output_type": "display_data"
    }
   ],
   "source": [
    "plt.scatter(x, y)\n",
    "pt1 = (-0.1, -0.1*w+b)\n",
    "pt2 = (0.15, 0.15*w+b)\n",
    "plt.plot([pt1[0], pt2[0]], [pt1[1], pt2[1]])\n",
    "plt.xlabel('x')\n",
    "plt.ylabel('y')\n",
    "plt.show()"
   ]
  },
  {
   "cell_type": "markdown",
   "metadata": {},
   "source": [
    "#### y_hat = 913.6x + 123.4        #### 썩 나쁘진 않다.."
   ]
  },
  {
   "cell_type": "code",
   "execution_count": 26,
   "metadata": {},
   "outputs": [
    {
     "data": {
      "text/plain": [
       "287.8416643899983"
      ]
     },
     "execution_count": 26,
     "metadata": {},
     "output_type": "execute_result"
    }
   ],
   "source": [
    "# 모델을 이용한 예측\n",
    "x_new = 0.18\n",
    "y_pred = x_new * w + b\n",
    "y_pred"
   ]
  },
  {
   "cell_type": "code",
   "execution_count": 27,
   "metadata": {},
   "outputs": [
    {
     "data": {
      "image/png": "[encoded data removed]",
      "text/plain": [
       "<Figure size 432x288 with 1 Axes>"
      ]
     },
     "metadata": {
      "needs_background": "light"
     },
     "output_type": "display_data"
    }
   ],
   "source": [
    "plt.scatter(x, y)\n",
    "# pt1 = (-0.1, -0.1*w+b)\n",
    "# pt2 = (0.15, 0.15*w+b)\n",
    "# plt.plot([pt1[0], pt2[0]], [pt1[1], pt2[1]])\n",
    "plt.scatter(x_new, y_pred)\n",
    "plt.xlabel('x')\n",
    "plt.ylabel('y')\n",
    "plt.show()"
   ]
  },
  {
   "cell_type": "markdown",
   "metadata": {},
   "source": [
    "### 선형회귀의 뉴런 클래스"
   ]
  },
  {
   "cell_type": "code",
   "execution_count": 28,
   "metadata": {},
   "outputs": [],
   "source": [
    "class Neuron : \n",
    "    def __init__(self):\n",
    "        self.w = 1.0   # 가중치 초기화\n",
    "        self.b = 1.0   # 절편 초기화\n",
    "          \n",
    "    def forpass(self, x):  # 1차 방정식을 계산하는 메서드\n",
    "        y_hat = x * self.w + self.b\n",
    "        return y_hat\n",
    "    \n",
    "    def backprob(self, x, err):\n",
    "        w_gred = x * err   # 가중치에 대한 경사하강법  # gred 경사값(기울기)... gradient\n",
    "        b_gred = 1 * err   # 절편에 대한 경사하강법\n",
    "        return w_gred, b_gred\n",
    "    \n",
    "    def fit(self, x, y, epochs=100):\n",
    "        for _ in range(epochs):\n",
    "            for x_i, y_i in zip(x, y):\n",
    "                y_hat = self.forpass(x_i)  # 정방향 계산\n",
    "                err = -(y_i - y_hat)       # 오차 계산\n",
    "                w_gred, b_gred = self.backprob(x_i, err)  # 역방향 계산\n",
    "                self.w -= w_gred  # 가중치 업데이트\n",
    "                self.b -= b_gred  # 절편 업데이트"
   ]
  },
  {
   "cell_type": "code",
   "execution_count": 29,
   "metadata": {},
   "outputs": [],
   "source": [
    "neuron = Neuron()\n",
    "neuron.fit(x, y)"
   ]
  },
  {
   "cell_type": "code",
   "execution_count": 30,
   "metadata": {},
   "outputs": [
    {
     "data": {
      "image/png": "[encoded data removed]",
      "text/plain": [
       "<Figure size 432x288 with 1 Axes>"
      ]
     },
     "metadata": {
      "needs_background": "light"
     },
     "output_type": "display_data"
    }
   ],
   "source": [
    "plt.scatter(x, y)\n",
    "plt1 = (-0.1, -0.1 * neuron.w + neuron.b)\n",
    "plt2 = (0.15, 0.15 * neuron.w + neuron.b)\n",
    "plt.plot([plt1[0],plt2[0]], [plt1[1],plt2[1]])\n",
    "plt.xlabel('x')\n",
    "plt.ylabel('y')\n",
    "plt.show()"
   ]
  },
  {
   "cell_type": "raw",
   "metadata": {},
   "source": [
    "[퍼셉트론]\n",
    "이진분류 - 참(양성), 거짓(음성)\n",
    "\n",
    "z = w₁x₁ + w₂x₂ + b (선형함수)\n",
    "         \n",
    "y = ┌  1 (z>0)   계단함수        양성클래스\n",
    "    └ -1                         음성클래스\n",
    "    \n",
    "선형함수를 거쳐서 계단함수를 통해서 예측값이 만들어짐..?\n",
    "\n",
    "\n",
    "z = w₁x₁ + w₂x₂ + ... + b \n",
    "      = b + sigma(ɨ=1 to n) wɨxɨ"
   ]
  },
  {
   "cell_type": "raw",
   "metadata": {},
   "source": [
    "[아달린]\n",
    "선형함수의 결과(z)를 가지고 역방향계산 함\n",
    "/ 퍼셉트론은 계단함수 후 예측값(y_hat)에서 역방향계산 함"
   ]
  },
  {
   "cell_type": "raw",
   "metadata": {},
   "source": [
    "[로지스틱 회귀]\n",
    "아달린을 조금더 발전시킨 형태\n",
    "\n",
    "입력값으로 선형함수를 만들어내고.. => z\n",
    "예측값(y_hat)을 계산하기전에\n",
    "활성화함수(activation function)에서 조정 => a\n",
    "그다음 임계함수(threshold function)에서 예측 실행\n",
    "\n",
    "임계함수 -> 계단함수 (a>0.5 , a<=0.5) :기준 50%\n",
    "\n",
    "활성화함수 -> 시그모이드함수로 확률 p = 1/ (1+e^(-z)) 을 만들어냄\n",
    "\n",
    "시그모이드함수 -> 0과 1사이의 확률값으로 변환"
   ]
  },
  {
   "cell_type": "raw",
   "metadata": {},
   "source": [
    "시그모이드함수\n",
    "\n",
    "오즈비(Odds ratio) -> 로짓함수(Logit func.) -> 시그모이드함수\n",
    "\n",
    "오즈비 = p / (1-p)     # p=성공확률               p\n",
    "       1에 가까워지면 급격히 올라감        or = -----  \n",
    "                                                 1-p\n",
    "로짓함수 = log ( p / (1-p) )                                                 p\n",
    "           오즈비에 로그 씌운값                           logit(p) =  log  -----  = z\n",
    "           p가 0이나 1이 되면 무한대로 감                                   1-p\n",
    "           \n",
    "           \n",
    "  p         z                        1\n",
    "-----  =  e               p =   ------------\n",
    " 1-p                               -z\n",
    "                                 e    + 1\n",
    "\n",
    "       z\n",
    " p = e    (1 - p)          \n",
    "\n",
    "\n",
    "       z       z\n",
    " p = e    -  e    p\n",
    "\n",
    "\n",
    "      z        z\n",
    " p + e  p  = e \n",
    " \n",
    " \n",
    "        z       z\n",
    " p( 1+ e  )  = e \n",
    " \n",
    " \n",
    "         z \n",
    "        e                    1\n",
    " p =  -------        =   ---------\n",
    "             z             -z\n",
    "      1  + e             e     + 1\n",
    "        "
   ]
  }
 ],
 "metadata": {
  "kernelspec": {
   "display_name": "Python 3",
   "language": "python",
   "name": "python3"
  },
  "language_info": {
   "codemirror_mode": {
    "name": "ipython",
    "version": 3
   },
   "file_extension": ".py",
   "mimetype": "text/x-python",
   "name": "python",
   "nbconvert_exporter": "python",
   "pygments_lexer": "ipython3",
   "version": "3.7.3"
  }
 },
 "nbformat": 4,
 "nbformat_minor": 2
}
