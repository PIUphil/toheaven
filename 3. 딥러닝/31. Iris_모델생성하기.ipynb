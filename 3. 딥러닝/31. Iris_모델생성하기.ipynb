{
 "cells": [
  {
   "cell_type": "code",
   "execution_count": 1,
   "metadata": {},
   "outputs": [],
   "source": [
    "from sklearn.datasets import load_iris\n",
    "iris = load_iris()"
   ]
  },
  {
   "cell_type": "code",
   "execution_count": 2,
   "metadata": {},
   "outputs": [
    {
     "data": {
      "text/plain": [
       "dict_keys(['data', 'target', 'frame', 'target_names', 'DESCR', 'feature_names', 'filename'])"
      ]
     },
     "execution_count": 2,
     "metadata": {},
     "output_type": "execute_result"
    }
   ],
   "source": [
    "iris.keys()"
   ]
  },
  {
   "cell_type": "markdown",
   "metadata": {},
   "source": [
    "#### 많이 사용하는 분류분석 모형\n",
    "- 로지스틱회귀(Logistic Regression)\n",
    "- SVM(Support Vector Machine)\n",
    "- 신경망 모형(Artificial Neural Network)\n",
    "- 의사결정나무(Decision Tree)\n",
    "- 앙상블(Ensemble)\n",
    "- 규칙기반(Rule-Based) 분류\n",
    "- 사례기반(Case-Based) 분류\n",
    "- 인접이웃(Nearest-Neighbor) 분류\n",
    "- 베이즈(Bayesian) 분류 모형 등"
   ]
  },
  {
   "cell_type": "code",
   "execution_count": 51,
   "metadata": {},
   "outputs": [],
   "source": [
    "import numpy as np\n",
    "import pandas as pd\n",
    "import matplotlib.pyplot as plt\n",
    "%matplotlib inline\n",
    "import matplotlib as mpl\n",
    "\n",
    "mpl.rc('font', family = 'NanumGothic')\n",
    "mpl.rc('axes', unicode_minus=False)\n",
    "\n",
    "from sklearn.linear_model import LinearRegression\n",
    "\n",
    "from sklearn.tree import DecisionTreeRegressor\n",
    "from sklearn.tree import export_graphviz\n",
    "from sklearn.model_selection import train_test_split\n",
    "\n",
    "from sklearn.ensemble import RandomForestClassifier\n",
    "\n",
    "import mglearn\n",
    "\n",
    "from tensorflow import keras\n",
    "import graphviz\n",
    "from graphviz import Source\n",
    "\n",
    "from sklearn.tree import DecisionTreeClassifier\n",
    "from sklearn.neighbors import KNeighborsClassifier\n",
    "from sklearn.linear_model import LogisticRegression\n",
    "from sklearn.linear_model import SGDClassifier\n",
    "from sklearn.ensemble import VotingClassifier \n",
    "\n",
    "from sklearn.metrics import confusion_matrix, classification_report  \n",
    "from sklearn.metrics import accuracy_score, precision_score, recall_score, f1_score, roc_auc_score \n",
    "from sklearn.metrics import roc_curve, auc \n",
    "\n",
    "from sklearn.model_selection import learning_curve, validation_curve\n",
    "from sklearn.model_selection import GridSearchCV\n",
    "from sklearn.model_selection import cross_val_score\n",
    "from sklearn.model_selection import cross_validate\n",
    "\n",
    "from sklearn.svm import SVC\n",
    "from sklearn.naive_bayes import GaussianNB"
   ]
  },
  {
   "cell_type": "code",
   "execution_count": null,
   "metadata": {},
   "outputs": [],
   "source": []
  },
  {
   "cell_type": "code",
   "execution_count": null,
   "metadata": {},
   "outputs": [],
   "source": []
  },
  {
   "cell_type": "code",
   "execution_count": 44,
   "metadata": {},
   "outputs": [
    {
     "name": "stdout",
     "output_type": "stream",
     "text": [
      "훈련 세트 정확도: 1.000\n",
      "테스트 세트 정확도: 0.921\n"
     ]
    }
   ],
   "source": [
    "# X=iris['data'], y=iris['target']\n",
    "X_train, X_test, y_train, y_test = train_test_split(\n",
    "    iris.data, iris.target, stratify=iris.target, random_state=42)\n",
    "\n",
    "tree = DecisionTreeClassifier(random_state=0)\n",
    "tree.fit(X_train, y_train)\n",
    "print(\"훈련 세트 정확도: {:.3f}\".format(tree.score(X_train, y_train)))\n",
    "print(\"테스트 세트 정확도: {:.3f}\".format(tree.score(X_test, y_test)))"
   ]
  },
  {
   "cell_type": "code",
   "execution_count": 45,
   "metadata": {},
   "outputs": [
    {
     "name": "stdout",
     "output_type": "stream",
     "text": [
      "훈련 세트 정확도: 0.982\n",
      "테스트 세트 정확도: 0.895\n"
     ]
    },
    {
     "name": "stderr",
     "output_type": "stream",
     "text": [
      "C:\\Anaconda3\\lib\\site-packages\\sklearn\\linear_model\\_logistic.py:765: ConvergenceWarning: lbfgs failed to converge (status=1):\n",
      "STOP: TOTAL NO. of ITERATIONS REACHED LIMIT.\n",
      "\n",
      "Increase the number of iterations (max_iter) or scale the data as shown in:\n",
      "    https://scikit-learn.org/stable/modules/preprocessing.html\n",
      "Please also refer to the documentation for alternative solver options:\n",
      "    https://scikit-learn.org/stable/modules/linear_model.html#logistic-regression\n",
      "  extra_warning_msg=_LOGISTIC_SOLVER_CONVERGENCE_MSG)\n"
     ]
    }
   ],
   "source": [
    "logistic = LogisticRegression(C=1000.0, random_state=42)\n",
    "logistic.fit(X_train, y_train)\n",
    "print(\"훈련 세트 정확도: {:.3f}\".format(logistic.score(X_train, y_train)))\n",
    "print(\"테스트 세트 정확도: {:.3f}\".format(logistic.score(X_test, y_test)))"
   ]
  },
  {
   "cell_type": "code",
   "execution_count": 46,
   "metadata": {},
   "outputs": [
    {
     "name": "stdout",
     "output_type": "stream",
     "text": [
      "훈련 세트 정확도: 1.000\n",
      "테스트 세트 정확도: 0.947\n"
     ]
    }
   ],
   "source": [
    "knn = KNeighborsClassifier(n_neighbors=1, p=2, metric='minkowski')\n",
    "knn.fit(X_train, y_train)\n",
    "print(\"훈련 세트 정확도: {:.3f}\".format(knn.score(X_train, y_train)))\n",
    "print(\"테스트 세트 정확도: {:.3f}\".format(knn.score(X_test, y_test)))"
   ]
  },
  {
   "cell_type": "code",
   "execution_count": null,
   "metadata": {},
   "outputs": [],
   "source": []
  },
  {
   "cell_type": "code",
   "execution_count": 41,
   "metadata": {},
   "outputs": [],
   "source": [
    "# 로지스틱 디시즌트리 케이민즈\n",
    "logistic = LogisticRegression(C=1000.0, random_state=42)\n",
    "tree = DecisionTreeClassifier(max_depth=None, criterion='entropy', random_state=42)\n",
    "knn = KNeighborsClassifier(n_neighbors=1, p=2, metric='minkowski')\n",
    "\n",
    "voting_estimators = [('logistic', logistic), ('tree', tree), ('knn', knn)]\n",
    "\n",
    "voting = VotingClassifier(estimators = voting_estimators, voting='soft')\n",
    "\n",
    "clf_labes = ['Logistic regression', 'Decision tree', 'KNN', 'Majority voting']\n",
    "all_clf = [logistic, tree, knn, voting]"
   ]
  },
  {
   "cell_type": "code",
   "execution_count": 42,
   "metadata": {},
   "outputs": [
    {
     "name": "stdout",
     "output_type": "stream",
     "text": [
      "보팅 분류기의 정확도 : 0.9211\n"
     ]
    },
    {
     "name": "stderr",
     "output_type": "stream",
     "text": [
      "C:\\Anaconda3\\lib\\site-packages\\sklearn\\linear_model\\_logistic.py:765: ConvergenceWarning: lbfgs failed to converge (status=1):\n",
      "STOP: TOTAL NO. of ITERATIONS REACHED LIMIT.\n",
      "\n",
      "Increase the number of iterations (max_iter) or scale the data as shown in:\n",
      "    https://scikit-learn.org/stable/modules/preprocessing.html\n",
      "Please also refer to the documentation for alternative solver options:\n",
      "    https://scikit-learn.org/stable/modules/linear_model.html#logistic-regression\n",
      "  extra_warning_msg=_LOGISTIC_SOLVER_CONVERGENCE_MSG)\n"
     ]
    }
   ],
   "source": [
    "voting.fit(X_train, y_train)\n",
    "pred = voting.predict(X_test)\n",
    "print('보팅 분류기의 정확도 : {0:.4f}'.format(accuracy_score(y_test, pred)))"
   ]
  },
  {
   "cell_type": "code",
   "execution_count": 43,
   "metadata": {},
   "outputs": [
    {
     "name": "stdout",
     "output_type": "stream",
     "text": [
      "LogisticRegression 정확도 : 0.8947\n",
      "DecisionTreeClassifier 정확도 : 0.8947\n",
      "KNeighborsClassifier 정확도 : 0.9474\n"
     ]
    },
    {
     "name": "stderr",
     "output_type": "stream",
     "text": [
      "C:\\Anaconda3\\lib\\site-packages\\sklearn\\linear_model\\_logistic.py:765: ConvergenceWarning: lbfgs failed to converge (status=1):\n",
      "STOP: TOTAL NO. of ITERATIONS REACHED LIMIT.\n",
      "\n",
      "Increase the number of iterations (max_iter) or scale the data as shown in:\n",
      "    https://scikit-learn.org/stable/modules/preprocessing.html\n",
      "Please also refer to the documentation for alternative solver options:\n",
      "    https://scikit-learn.org/stable/modules/linear_model.html#logistic-regression\n",
      "  extra_warning_msg=_LOGISTIC_SOLVER_CONVERGENCE_MSG)\n"
     ]
    }
   ],
   "source": [
    "classifiers = [logistic, tree, knn]\n",
    "for i in classifiers:\n",
    "    i.fit(X_train, y_train)\n",
    "    pred = i.predict(X_test)\n",
    "    class_name = i.__class__.__name__\n",
    "    print('{0} 정확도 : {1:.4f}'.format(class_name, accuracy_score(y_test, pred)))"
   ]
  },
  {
   "cell_type": "code",
   "execution_count": null,
   "metadata": {},
   "outputs": [],
   "source": []
  },
  {
   "cell_type": "code",
   "execution_count": null,
   "metadata": {},
   "outputs": [],
   "source": []
  },
  {
   "cell_type": "code",
   "execution_count": 28,
   "metadata": {},
   "outputs": [
    {
     "data": {
      "text/plain": [
       "array([0., 1., 1., 1., 0., 1., 1., 2., 2., 2., 2., 2., 1., 1., 0., 0., 0.,\n",
       "       1., 0., 1., 2., 1., 2., 1., 2., 1., 0., 2., 0., 2., 2., 2., 0., 0.,\n",
       "       0., 0., 2., 1.])"
      ]
     },
     "execution_count": 28,
     "metadata": {},
     "output_type": "execute_result"
    }
   ],
   "source": [
    "pred = tree.predict(X_test)\n",
    "pred"
   ]
  },
  {
   "cell_type": "code",
   "execution_count": 29,
   "metadata": {},
   "outputs": [
    {
     "data": {
      "text/plain": [
       "0.9473684210526315"
      ]
     },
     "execution_count": 29,
     "metadata": {},
     "output_type": "execute_result"
    }
   ],
   "source": [
    "from sklearn.metrics import accuracy_score\n",
    "accuracy_score(y_test, pred)"
   ]
  },
  {
   "cell_type": "code",
   "execution_count": 30,
   "metadata": {},
   "outputs": [
    {
     "data": {
      "text/plain": [
       "0.9473684210526315"
      ]
     },
     "execution_count": 30,
     "metadata": {},
     "output_type": "execute_result"
    }
   ],
   "source": [
    "np.mean(pred==y_test)"
   ]
  },
  {
   "cell_type": "code",
   "execution_count": null,
   "metadata": {},
   "outputs": [],
   "source": []
  },
  {
   "cell_type": "code",
   "execution_count": 39,
   "metadata": {},
   "outputs": [
    {
     "data": {
      "text/plain": [
       "0.8916666666666668"
      ]
     },
     "execution_count": 39,
     "metadata": {},
     "output_type": "execute_result"
    }
   ],
   "source": [
    "svc=SVC()\n",
    "svc.fit(X_train, y_train)\n",
    "\n",
    "cross_val_score(svc, X_test, y_test, cv=10).mean()"
   ]
  },
  {
   "cell_type": "code",
   "execution_count": null,
   "metadata": {},
   "outputs": [],
   "source": []
  },
  {
   "cell_type": "code",
   "execution_count": 40,
   "metadata": {},
   "outputs": [
    {
     "data": {
      "text/plain": [
       "0.9083333333333332"
      ]
     },
     "execution_count": 40,
     "metadata": {},
     "output_type": "execute_result"
    }
   ],
   "source": [
    "gnb = GaussianNB()\n",
    "gnb.fit(X_train, y_train)\n",
    "\n",
    "cross_val_score(gnb, X_test, y_test, cv=10).mean()"
   ]
  },
  {
   "cell_type": "code",
   "execution_count": null,
   "metadata": {},
   "outputs": [],
   "source": []
  },
  {
   "cell_type": "code",
   "execution_count": 53,
   "metadata": {},
   "outputs": [
    {
     "name": "stdout",
     "output_type": "stream",
     "text": [
      "0.7509881422924901\n"
     ]
    }
   ],
   "source": [
    "sc = SGDClassifier(loss='log', max_iter=5, random_state=42)\n",
    "scores = cross_validate(sc, X_train, y_train, n_jobs=-1)\n",
    "print(np.mean(scores['test_score']))"
   ]
  },
  {
   "cell_type": "code",
   "execution_count": null,
   "metadata": {},
   "outputs": [],
   "source": []
  },
  {
   "cell_type": "code",
   "execution_count": null,
   "metadata": {},
   "outputs": [],
   "source": []
  },
  {
   "cell_type": "code",
   "execution_count": null,
   "metadata": {},
   "outputs": [],
   "source": []
  },
  {
   "cell_type": "code",
   "execution_count": 9,
   "metadata": {},
   "outputs": [
    {
     "data": {
      "image/svg+xml": [
       "<?xml version=\"1.0\" encoding=\"UTF-8\" standalone=\"no\"?>\r\n",
       "<!DOCTYPE svg PUBLIC \"-//W3C//DTD SVG 1.1//EN\"\r\n",
       " \"http://www.w3.org/Graphics/SVG/1.1/DTD/svg11.dtd\">\r\n",
       "<!-- Generated by graphviz version 2.47.1 (20210417.1919)\r\n",
       " -->\r\n",
       "<!-- Title: Tree Pages: 1 -->\r\n",
       "<svg width=\"1026pt\" height=\"671pt\"\r\n",
       " viewBox=\"0.00 0.00 1026.00 671.00\" xmlns=\"http://www.w3.org/2000/svg\" xmlns:xlink=\"http://www.w3.org/1999/xlink\">\r\n",
       "<g id=\"graph0\" class=\"graph\" transform=\"scale(1 1) rotate(0) translate(4 667)\">\r\n",
       "<title>Tree</title>\r\n",
       "<polygon fill=\"white\" stroke=\"transparent\" points=\"-4,4 -4,-667 1022,-667 1022,4 -4,4\"/>\r\n",
       "<!-- 0 -->\r\n",
       "<g id=\"node1\" class=\"node\">\r\n",
       "<title>0</title>\r\n",
       "<polygon fill=\"#ffffff\" stroke=\"black\" points=\"627.5,-663 469.5,-663 469.5,-580 627.5,-580 627.5,-663\"/>\r\n",
       "<text text-anchor=\"middle\" x=\"548.5\" y=\"-647.8\" font-family=\"Times New Roman,serif\" font-size=\"14.00\">petal length (cm) &lt;= 2.45</text>\r\n",
       "<text text-anchor=\"middle\" x=\"548.5\" y=\"-632.8\" font-family=\"Times New Roman,serif\" font-size=\"14.00\">gini = 0.667</text>\r\n",
       "<text text-anchor=\"middle\" x=\"548.5\" y=\"-617.8\" font-family=\"Times New Roman,serif\" font-size=\"14.00\">samples = 150</text>\r\n",
       "<text text-anchor=\"middle\" x=\"548.5\" y=\"-602.8\" font-family=\"Times New Roman,serif\" font-size=\"14.00\">value = [50, 50, 50]</text>\r\n",
       "<text text-anchor=\"middle\" x=\"548.5\" y=\"-587.8\" font-family=\"Times New Roman,serif\" font-size=\"14.00\">class = sepal length (cm)</text>\r\n",
       "</g>\r\n",
       "<!-- 1 -->\r\n",
       "<g id=\"node2\" class=\"node\">\r\n",
       "<title>1</title>\r\n",
       "<polygon fill=\"#e58139\" stroke=\"black\" points=\"540,-536.5 385,-536.5 385,-468.5 540,-468.5 540,-536.5\"/>\r\n",
       "<text text-anchor=\"middle\" x=\"462.5\" y=\"-521.3\" font-family=\"Times New Roman,serif\" font-size=\"14.00\">gini = 0.0</text>\r\n",
       "<text text-anchor=\"middle\" x=\"462.5\" y=\"-506.3\" font-family=\"Times New Roman,serif\" font-size=\"14.00\">samples = 50</text>\r\n",
       "<text text-anchor=\"middle\" x=\"462.5\" y=\"-491.3\" font-family=\"Times New Roman,serif\" font-size=\"14.00\">value = [50, 0, 0]</text>\r\n",
       "<text text-anchor=\"middle\" x=\"462.5\" y=\"-476.3\" font-family=\"Times New Roman,serif\" font-size=\"14.00\">class = sepal length (cm)</text>\r\n",
       "</g>\r\n",
       "<!-- 0&#45;&gt;1 -->\r\n",
       "<g id=\"edge1\" class=\"edge\">\r\n",
       "<title>0&#45;&gt;1</title>\r\n",
       "<path fill=\"none\" stroke=\"black\" d=\"M518.66,-579.91C510.31,-568.54 501.22,-556.18 492.84,-544.77\"/>\r\n",
       "<polygon fill=\"black\" stroke=\"black\" points=\"495.62,-542.65 486.88,-536.67 489.98,-546.8 495.62,-542.65\"/>\r\n",
       "<text text-anchor=\"middle\" x=\"483.11\" y=\"-557.68\" font-family=\"Times New Roman,serif\" font-size=\"14.00\">True</text>\r\n",
       "</g>\r\n",
       "<!-- 2 -->\r\n",
       "<g id=\"node3\" class=\"node\">\r\n",
       "<title>2</title>\r\n",
       "<polygon fill=\"#ffffff\" stroke=\"black\" points=\"713,-544 558,-544 558,-461 713,-461 713,-544\"/>\r\n",
       "<text text-anchor=\"middle\" x=\"635.5\" y=\"-528.8\" font-family=\"Times New Roman,serif\" font-size=\"14.00\">petal width (cm) &lt;= 1.75</text>\r\n",
       "<text text-anchor=\"middle\" x=\"635.5\" y=\"-513.8\" font-family=\"Times New Roman,serif\" font-size=\"14.00\">gini = 0.5</text>\r\n",
       "<text text-anchor=\"middle\" x=\"635.5\" y=\"-498.8\" font-family=\"Times New Roman,serif\" font-size=\"14.00\">samples = 100</text>\r\n",
       "<text text-anchor=\"middle\" x=\"635.5\" y=\"-483.8\" font-family=\"Times New Roman,serif\" font-size=\"14.00\">value = [0, 50, 50]</text>\r\n",
       "<text text-anchor=\"middle\" x=\"635.5\" y=\"-468.8\" font-family=\"Times New Roman,serif\" font-size=\"14.00\">class = sepal width (cm)</text>\r\n",
       "</g>\r\n",
       "<!-- 0&#45;&gt;2 -->\r\n",
       "<g id=\"edge2\" class=\"edge\">\r\n",
       "<title>0&#45;&gt;2</title>\r\n",
       "<path fill=\"none\" stroke=\"black\" d=\"M578.68,-579.91C585.36,-570.92 592.51,-561.32 599.4,-552.05\"/>\r\n",
       "<polygon fill=\"black\" stroke=\"black\" points=\"602.21,-554.13 605.37,-544.02 596.59,-549.96 602.21,-554.13\"/>\r\n",
       "<text text-anchor=\"middle\" x=\"609.01\" y=\"-565.05\" font-family=\"Times New Roman,serif\" font-size=\"14.00\">False</text>\r\n",
       "</g>\r\n",
       "<!-- 3 -->\r\n",
       "<g id=\"node4\" class=\"node\">\r\n",
       "<title>3</title>\r\n",
       "<polygon fill=\"#4de88e\" stroke=\"black\" points=\"584.5,-425 426.5,-425 426.5,-342 584.5,-342 584.5,-425\"/>\r\n",
       "<text text-anchor=\"middle\" x=\"505.5\" y=\"-409.8\" font-family=\"Times New Roman,serif\" font-size=\"14.00\">petal length (cm) &lt;= 4.95</text>\r\n",
       "<text text-anchor=\"middle\" x=\"505.5\" y=\"-394.8\" font-family=\"Times New Roman,serif\" font-size=\"14.00\">gini = 0.168</text>\r\n",
       "<text text-anchor=\"middle\" x=\"505.5\" y=\"-379.8\" font-family=\"Times New Roman,serif\" font-size=\"14.00\">samples = 54</text>\r\n",
       "<text text-anchor=\"middle\" x=\"505.5\" y=\"-364.8\" font-family=\"Times New Roman,serif\" font-size=\"14.00\">value = [0, 49, 5]</text>\r\n",
       "<text text-anchor=\"middle\" x=\"505.5\" y=\"-349.8\" font-family=\"Times New Roman,serif\" font-size=\"14.00\">class = sepal width (cm)</text>\r\n",
       "</g>\r\n",
       "<!-- 2&#45;&gt;3 -->\r\n",
       "<g id=\"edge3\" class=\"edge\">\r\n",
       "<title>2&#45;&gt;3</title>\r\n",
       "<path fill=\"none\" stroke=\"black\" d=\"M590.4,-460.91C580.01,-451.56 568.88,-441.54 558.2,-431.93\"/>\r\n",
       "<polygon fill=\"black\" stroke=\"black\" points=\"560.3,-429.11 550.52,-425.02 555.61,-434.31 560.3,-429.11\"/>\r\n",
       "</g>\r\n",
       "<!-- 12 -->\r\n",
       "<g id=\"node13\" class=\"node\">\r\n",
       "<title>12</title>\r\n",
       "<polygon fill=\"#843de6\" stroke=\"black\" points=\"845.5,-425 687.5,-425 687.5,-342 845.5,-342 845.5,-425\"/>\r\n",
       "<text text-anchor=\"middle\" x=\"766.5\" y=\"-409.8\" font-family=\"Times New Roman,serif\" font-size=\"14.00\">petal length (cm) &lt;= 4.85</text>\r\n",
       "<text text-anchor=\"middle\" x=\"766.5\" y=\"-394.8\" font-family=\"Times New Roman,serif\" font-size=\"14.00\">gini = 0.043</text>\r\n",
       "<text text-anchor=\"middle\" x=\"766.5\" y=\"-379.8\" font-family=\"Times New Roman,serif\" font-size=\"14.00\">samples = 46</text>\r\n",
       "<text text-anchor=\"middle\" x=\"766.5\" y=\"-364.8\" font-family=\"Times New Roman,serif\" font-size=\"14.00\">value = [0, 1, 45]</text>\r\n",
       "<text text-anchor=\"middle\" x=\"766.5\" y=\"-349.8\" font-family=\"Times New Roman,serif\" font-size=\"14.00\">class = petal length (cm)</text>\r\n",
       "</g>\r\n",
       "<!-- 2&#45;&gt;12 -->\r\n",
       "<g id=\"edge12\" class=\"edge\">\r\n",
       "<title>2&#45;&gt;12</title>\r\n",
       "<path fill=\"none\" stroke=\"black\" d=\"M680.95,-460.91C691.42,-451.56 702.64,-441.54 713.4,-431.93\"/>\r\n",
       "<polygon fill=\"black\" stroke=\"black\" points=\"716,-434.29 721.13,-425.02 711.34,-429.07 716,-434.29\"/>\r\n",
       "</g>\r\n",
       "<!-- 4 -->\r\n",
       "<g id=\"node5\" class=\"node\">\r\n",
       "<title>4</title>\r\n",
       "<polygon fill=\"#3de684\" stroke=\"black\" points=\"325,-306 170,-306 170,-223 325,-223 325,-306\"/>\r\n",
       "<text text-anchor=\"middle\" x=\"247.5\" y=\"-290.8\" font-family=\"Times New Roman,serif\" font-size=\"14.00\">petal width (cm) &lt;= 1.65</text>\r\n",
       "<text text-anchor=\"middle\" x=\"247.5\" y=\"-275.8\" font-family=\"Times New Roman,serif\" font-size=\"14.00\">gini = 0.041</text>\r\n",
       "<text text-anchor=\"middle\" x=\"247.5\" y=\"-260.8\" font-family=\"Times New Roman,serif\" font-size=\"14.00\">samples = 48</text>\r\n",
       "<text text-anchor=\"middle\" x=\"247.5\" y=\"-245.8\" font-family=\"Times New Roman,serif\" font-size=\"14.00\">value = [0, 47, 1]</text>\r\n",
       "<text text-anchor=\"middle\" x=\"247.5\" y=\"-230.8\" font-family=\"Times New Roman,serif\" font-size=\"14.00\">class = sepal width (cm)</text>\r\n",
       "</g>\r\n",
       "<!-- 3&#45;&gt;4 -->\r\n",
       "<g id=\"edge4\" class=\"edge\">\r\n",
       "<title>3&#45;&gt;4</title>\r\n",
       "<path fill=\"none\" stroke=\"black\" d=\"M426.34,-346.6C397.21,-333.39 364.07,-318.36 334.3,-304.86\"/>\r\n",
       "<polygon fill=\"black\" stroke=\"black\" points=\"335.74,-301.67 325.18,-300.73 332.84,-308.05 335.74,-301.67\"/>\r\n",
       "</g>\r\n",
       "<!-- 7 -->\r\n",
       "<g id=\"node8\" class=\"node\">\r\n",
       "<title>7</title>\r\n",
       "<polygon fill=\"#c09cf2\" stroke=\"black\" points=\"583,-306 428,-306 428,-223 583,-223 583,-306\"/>\r\n",
       "<text text-anchor=\"middle\" x=\"505.5\" y=\"-290.8\" font-family=\"Times New Roman,serif\" font-size=\"14.00\">petal width (cm) &lt;= 1.55</text>\r\n",
       "<text text-anchor=\"middle\" x=\"505.5\" y=\"-275.8\" font-family=\"Times New Roman,serif\" font-size=\"14.00\">gini = 0.444</text>\r\n",
       "<text text-anchor=\"middle\" x=\"505.5\" y=\"-260.8\" font-family=\"Times New Roman,serif\" font-size=\"14.00\">samples = 6</text>\r\n",
       "<text text-anchor=\"middle\" x=\"505.5\" y=\"-245.8\" font-family=\"Times New Roman,serif\" font-size=\"14.00\">value = [0, 2, 4]</text>\r\n",
       "<text text-anchor=\"middle\" x=\"505.5\" y=\"-230.8\" font-family=\"Times New Roman,serif\" font-size=\"14.00\">class = petal length (cm)</text>\r\n",
       "</g>\r\n",
       "<!-- 3&#45;&gt;7 -->\r\n",
       "<g id=\"edge7\" class=\"edge\">\r\n",
       "<title>3&#45;&gt;7</title>\r\n",
       "<path fill=\"none\" stroke=\"black\" d=\"M505.5,-341.91C505.5,-333.65 505.5,-324.86 505.5,-316.3\"/>\r\n",
       "<polygon fill=\"black\" stroke=\"black\" points=\"509,-316.02 505.5,-306.02 502,-316.02 509,-316.02\"/>\r\n",
       "</g>\r\n",
       "<!-- 5 -->\r\n",
       "<g id=\"node6\" class=\"node\">\r\n",
       "<title>5</title>\r\n",
       "<polygon fill=\"#39e581\" stroke=\"black\" points=\"153,-179.5 0,-179.5 0,-111.5 153,-111.5 153,-179.5\"/>\r\n",
       "<text text-anchor=\"middle\" x=\"76.5\" y=\"-164.3\" font-family=\"Times New Roman,serif\" font-size=\"14.00\">gini = 0.0</text>\r\n",
       "<text text-anchor=\"middle\" x=\"76.5\" y=\"-149.3\" font-family=\"Times New Roman,serif\" font-size=\"14.00\">samples = 47</text>\r\n",
       "<text text-anchor=\"middle\" x=\"76.5\" y=\"-134.3\" font-family=\"Times New Roman,serif\" font-size=\"14.00\">value = [0, 47, 0]</text>\r\n",
       "<text text-anchor=\"middle\" x=\"76.5\" y=\"-119.3\" font-family=\"Times New Roman,serif\" font-size=\"14.00\">class = sepal width (cm)</text>\r\n",
       "</g>\r\n",
       "<!-- 4&#45;&gt;5 -->\r\n",
       "<g id=\"edge5\" class=\"edge\">\r\n",
       "<title>4&#45;&gt;5</title>\r\n",
       "<path fill=\"none\" stroke=\"black\" d=\"M188.17,-222.91C170.43,-210.77 151.03,-197.49 133.45,-185.46\"/>\r\n",
       "<polygon fill=\"black\" stroke=\"black\" points=\"135.2,-182.43 124.97,-179.67 131.25,-188.2 135.2,-182.43\"/>\r\n",
       "</g>\r\n",
       "<!-- 6 -->\r\n",
       "<g id=\"node7\" class=\"node\">\r\n",
       "<title>6</title>\r\n",
       "<polygon fill=\"#8139e5\" stroke=\"black\" points=\"324,-179.5 171,-179.5 171,-111.5 324,-111.5 324,-179.5\"/>\r\n",
       "<text text-anchor=\"middle\" x=\"247.5\" y=\"-164.3\" font-family=\"Times New Roman,serif\" font-size=\"14.00\">gini = 0.0</text>\r\n",
       "<text text-anchor=\"middle\" x=\"247.5\" y=\"-149.3\" font-family=\"Times New Roman,serif\" font-size=\"14.00\">samples = 1</text>\r\n",
       "<text text-anchor=\"middle\" x=\"247.5\" y=\"-134.3\" font-family=\"Times New Roman,serif\" font-size=\"14.00\">value = [0, 0, 1]</text>\r\n",
       "<text text-anchor=\"middle\" x=\"247.5\" y=\"-119.3\" font-family=\"Times New Roman,serif\" font-size=\"14.00\">class = petal length (cm)</text>\r\n",
       "</g>\r\n",
       "<!-- 4&#45;&gt;6 -->\r\n",
       "<g id=\"edge6\" class=\"edge\">\r\n",
       "<title>4&#45;&gt;6</title>\r\n",
       "<path fill=\"none\" stroke=\"black\" d=\"M247.5,-222.91C247.5,-212.2 247.5,-200.62 247.5,-189.78\"/>\r\n",
       "<polygon fill=\"black\" stroke=\"black\" points=\"251,-189.67 247.5,-179.67 244,-189.67 251,-189.67\"/>\r\n",
       "</g>\r\n",
       "<!-- 8 -->\r\n",
       "<g id=\"node9\" class=\"node\">\r\n",
       "<title>8</title>\r\n",
       "<polygon fill=\"#8139e5\" stroke=\"black\" points=\"495,-179.5 342,-179.5 342,-111.5 495,-111.5 495,-179.5\"/>\r\n",
       "<text text-anchor=\"middle\" x=\"418.5\" y=\"-164.3\" font-family=\"Times New Roman,serif\" font-size=\"14.00\">gini = 0.0</text>\r\n",
       "<text text-anchor=\"middle\" x=\"418.5\" y=\"-149.3\" font-family=\"Times New Roman,serif\" font-size=\"14.00\">samples = 3</text>\r\n",
       "<text text-anchor=\"middle\" x=\"418.5\" y=\"-134.3\" font-family=\"Times New Roman,serif\" font-size=\"14.00\">value = [0, 0, 3]</text>\r\n",
       "<text text-anchor=\"middle\" x=\"418.5\" y=\"-119.3\" font-family=\"Times New Roman,serif\" font-size=\"14.00\">class = petal length (cm)</text>\r\n",
       "</g>\r\n",
       "<!-- 7&#45;&gt;8 -->\r\n",
       "<g id=\"edge8\" class=\"edge\">\r\n",
       "<title>7&#45;&gt;8</title>\r\n",
       "<path fill=\"none\" stroke=\"black\" d=\"M475.32,-222.91C466.86,-211.54 457.67,-199.18 449.19,-187.77\"/>\r\n",
       "<polygon fill=\"black\" stroke=\"black\" points=\"451.94,-185.6 443.16,-179.67 446.32,-189.78 451.94,-185.6\"/>\r\n",
       "</g>\r\n",
       "<!-- 9 -->\r\n",
       "<g id=\"node10\" class=\"node\">\r\n",
       "<title>9</title>\r\n",
       "<polygon fill=\"#9cf2c0\" stroke=\"black\" points=\"671.5,-187 513.5,-187 513.5,-104 671.5,-104 671.5,-187\"/>\r\n",
       "<text text-anchor=\"middle\" x=\"592.5\" y=\"-171.8\" font-family=\"Times New Roman,serif\" font-size=\"14.00\">petal length (cm) &lt;= 5.45</text>\r\n",
       "<text text-anchor=\"middle\" x=\"592.5\" y=\"-156.8\" font-family=\"Times New Roman,serif\" font-size=\"14.00\">gini = 0.444</text>\r\n",
       "<text text-anchor=\"middle\" x=\"592.5\" y=\"-141.8\" font-family=\"Times New Roman,serif\" font-size=\"14.00\">samples = 3</text>\r\n",
       "<text text-anchor=\"middle\" x=\"592.5\" y=\"-126.8\" font-family=\"Times New Roman,serif\" font-size=\"14.00\">value = [0, 2, 1]</text>\r\n",
       "<text text-anchor=\"middle\" x=\"592.5\" y=\"-111.8\" font-family=\"Times New Roman,serif\" font-size=\"14.00\">class = sepal width (cm)</text>\r\n",
       "</g>\r\n",
       "<!-- 7&#45;&gt;9 -->\r\n",
       "<g id=\"edge9\" class=\"edge\">\r\n",
       "<title>7&#45;&gt;9</title>\r\n",
       "<path fill=\"none\" stroke=\"black\" d=\"M535.68,-222.91C542.36,-213.92 549.51,-204.32 556.4,-195.05\"/>\r\n",
       "<polygon fill=\"black\" stroke=\"black\" points=\"559.21,-197.13 562.37,-187.02 553.59,-192.96 559.21,-197.13\"/>\r\n",
       "</g>\r\n",
       "<!-- 10 -->\r\n",
       "<g id=\"node11\" class=\"node\">\r\n",
       "<title>10</title>\r\n",
       "<polygon fill=\"#39e581\" stroke=\"black\" points=\"583,-68 430,-68 430,0 583,0 583,-68\"/>\r\n",
       "<text text-anchor=\"middle\" x=\"506.5\" y=\"-52.8\" font-family=\"Times New Roman,serif\" font-size=\"14.00\">gini = 0.0</text>\r\n",
       "<text text-anchor=\"middle\" x=\"506.5\" y=\"-37.8\" font-family=\"Times New Roman,serif\" font-size=\"14.00\">samples = 2</text>\r\n",
       "<text text-anchor=\"middle\" x=\"506.5\" y=\"-22.8\" font-family=\"Times New Roman,serif\" font-size=\"14.00\">value = [0, 2, 0]</text>\r\n",
       "<text text-anchor=\"middle\" x=\"506.5\" y=\"-7.8\" font-family=\"Times New Roman,serif\" font-size=\"14.00\">class = sepal width (cm)</text>\r\n",
       "</g>\r\n",
       "<!-- 9&#45;&gt;10 -->\r\n",
       "<g id=\"edge10\" class=\"edge\">\r\n",
       "<title>9&#45;&gt;10</title>\r\n",
       "<path fill=\"none\" stroke=\"black\" d=\"M560.48,-103.73C553.46,-94.79 546.02,-85.32 538.98,-76.36\"/>\r\n",
       "<polygon fill=\"black\" stroke=\"black\" points=\"541.58,-74 532.65,-68.3 536.08,-78.33 541.58,-74\"/>\r\n",
       "</g>\r\n",
       "<!-- 11 -->\r\n",
       "<g id=\"node12\" class=\"node\">\r\n",
       "<title>11</title>\r\n",
       "<polygon fill=\"#8139e5\" stroke=\"black\" points=\"754,-68 601,-68 601,0 754,0 754,-68\"/>\r\n",
       "<text text-anchor=\"middle\" x=\"677.5\" y=\"-52.8\" font-family=\"Times New Roman,serif\" font-size=\"14.00\">gini = 0.0</text>\r\n",
       "<text text-anchor=\"middle\" x=\"677.5\" y=\"-37.8\" font-family=\"Times New Roman,serif\" font-size=\"14.00\">samples = 1</text>\r\n",
       "<text text-anchor=\"middle\" x=\"677.5\" y=\"-22.8\" font-family=\"Times New Roman,serif\" font-size=\"14.00\">value = [0, 0, 1]</text>\r\n",
       "<text text-anchor=\"middle\" x=\"677.5\" y=\"-7.8\" font-family=\"Times New Roman,serif\" font-size=\"14.00\">class = petal length (cm)</text>\r\n",
       "</g>\r\n",
       "<!-- 9&#45;&gt;11 -->\r\n",
       "<g id=\"edge11\" class=\"edge\">\r\n",
       "<title>9&#45;&gt;11</title>\r\n",
       "<path fill=\"none\" stroke=\"black\" d=\"M624.15,-103.73C631.09,-94.79 638.44,-85.32 645.4,-76.36\"/>\r\n",
       "<polygon fill=\"black\" stroke=\"black\" points=\"648.28,-78.35 651.65,-68.3 642.75,-74.05 648.28,-78.35\"/>\r\n",
       "</g>\r\n",
       "<!-- 13 -->\r\n",
       "<g id=\"node14\" class=\"node\">\r\n",
       "<title>13</title>\r\n",
       "<polygon fill=\"#c09cf2\" stroke=\"black\" points=\"846.5,-306 686.5,-306 686.5,-223 846.5,-223 846.5,-306\"/>\r\n",
       "<text text-anchor=\"middle\" x=\"766.5\" y=\"-290.8\" font-family=\"Times New Roman,serif\" font-size=\"14.00\">sepal length (cm) &lt;= 5.95</text>\r\n",
       "<text text-anchor=\"middle\" x=\"766.5\" y=\"-275.8\" font-family=\"Times New Roman,serif\" font-size=\"14.00\">gini = 0.444</text>\r\n",
       "<text text-anchor=\"middle\" x=\"766.5\" y=\"-260.8\" font-family=\"Times New Roman,serif\" font-size=\"14.00\">samples = 3</text>\r\n",
       "<text text-anchor=\"middle\" x=\"766.5\" y=\"-245.8\" font-family=\"Times New Roman,serif\" font-size=\"14.00\">value = [0, 1, 2]</text>\r\n",
       "<text text-anchor=\"middle\" x=\"766.5\" y=\"-230.8\" font-family=\"Times New Roman,serif\" font-size=\"14.00\">class = petal length (cm)</text>\r\n",
       "</g>\r\n",
       "<!-- 12&#45;&gt;13 -->\r\n",
       "<g id=\"edge13\" class=\"edge\">\r\n",
       "<title>12&#45;&gt;13</title>\r\n",
       "<path fill=\"none\" stroke=\"black\" d=\"M766.5,-341.91C766.5,-333.65 766.5,-324.86 766.5,-316.3\"/>\r\n",
       "<polygon fill=\"black\" stroke=\"black\" points=\"770,-316.02 766.5,-306.02 763,-316.02 770,-316.02\"/>\r\n",
       "</g>\r\n",
       "<!-- 16 -->\r\n",
       "<g id=\"node17\" class=\"node\">\r\n",
       "<title>16</title>\r\n",
       "<polygon fill=\"#8139e5\" stroke=\"black\" points=\"1018,-298.5 865,-298.5 865,-230.5 1018,-230.5 1018,-298.5\"/>\r\n",
       "<text text-anchor=\"middle\" x=\"941.5\" y=\"-283.3\" font-family=\"Times New Roman,serif\" font-size=\"14.00\">gini = 0.0</text>\r\n",
       "<text text-anchor=\"middle\" x=\"941.5\" y=\"-268.3\" font-family=\"Times New Roman,serif\" font-size=\"14.00\">samples = 43</text>\r\n",
       "<text text-anchor=\"middle\" x=\"941.5\" y=\"-253.3\" font-family=\"Times New Roman,serif\" font-size=\"14.00\">value = [0, 0, 43]</text>\r\n",
       "<text text-anchor=\"middle\" x=\"941.5\" y=\"-238.3\" font-family=\"Times New Roman,serif\" font-size=\"14.00\">class = petal length (cm)</text>\r\n",
       "</g>\r\n",
       "<!-- 12&#45;&gt;16 -->\r\n",
       "<g id=\"edge16\" class=\"edge\">\r\n",
       "<title>12&#45;&gt;16</title>\r\n",
       "<path fill=\"none\" stroke=\"black\" d=\"M827.22,-341.91C845.37,-329.77 865.23,-316.49 883.22,-304.46\"/>\r\n",
       "<polygon fill=\"black\" stroke=\"black\" points=\"885.52,-307.13 891.89,-298.67 881.63,-301.32 885.52,-307.13\"/>\r\n",
       "</g>\r\n",
       "<!-- 14 -->\r\n",
       "<g id=\"node15\" class=\"node\">\r\n",
       "<title>14</title>\r\n",
       "<polygon fill=\"#39e581\" stroke=\"black\" points=\"843,-179.5 690,-179.5 690,-111.5 843,-111.5 843,-179.5\"/>\r\n",
       "<text text-anchor=\"middle\" x=\"766.5\" y=\"-164.3\" font-family=\"Times New Roman,serif\" font-size=\"14.00\">gini = 0.0</text>\r\n",
       "<text text-anchor=\"middle\" x=\"766.5\" y=\"-149.3\" font-family=\"Times New Roman,serif\" font-size=\"14.00\">samples = 1</text>\r\n",
       "<text text-anchor=\"middle\" x=\"766.5\" y=\"-134.3\" font-family=\"Times New Roman,serif\" font-size=\"14.00\">value = [0, 1, 0]</text>\r\n",
       "<text text-anchor=\"middle\" x=\"766.5\" y=\"-119.3\" font-family=\"Times New Roman,serif\" font-size=\"14.00\">class = sepal width (cm)</text>\r\n",
       "</g>\r\n",
       "<!-- 13&#45;&gt;14 -->\r\n",
       "<g id=\"edge14\" class=\"edge\">\r\n",
       "<title>13&#45;&gt;14</title>\r\n",
       "<path fill=\"none\" stroke=\"black\" d=\"M766.5,-222.91C766.5,-212.2 766.5,-200.62 766.5,-189.78\"/>\r\n",
       "<polygon fill=\"black\" stroke=\"black\" points=\"770,-189.67 766.5,-179.67 763,-189.67 770,-189.67\"/>\r\n",
       "</g>\r\n",
       "<!-- 15 -->\r\n",
       "<g id=\"node16\" class=\"node\">\r\n",
       "<title>15</title>\r\n",
       "<polygon fill=\"#8139e5\" stroke=\"black\" points=\"1014,-179.5 861,-179.5 861,-111.5 1014,-111.5 1014,-179.5\"/>\r\n",
       "<text text-anchor=\"middle\" x=\"937.5\" y=\"-164.3\" font-family=\"Times New Roman,serif\" font-size=\"14.00\">gini = 0.0</text>\r\n",
       "<text text-anchor=\"middle\" x=\"937.5\" y=\"-149.3\" font-family=\"Times New Roman,serif\" font-size=\"14.00\">samples = 2</text>\r\n",
       "<text text-anchor=\"middle\" x=\"937.5\" y=\"-134.3\" font-family=\"Times New Roman,serif\" font-size=\"14.00\">value = [0, 0, 2]</text>\r\n",
       "<text text-anchor=\"middle\" x=\"937.5\" y=\"-119.3\" font-family=\"Times New Roman,serif\" font-size=\"14.00\">class = petal length (cm)</text>\r\n",
       "</g>\r\n",
       "<!-- 13&#45;&gt;15 -->\r\n",
       "<g id=\"edge15\" class=\"edge\">\r\n",
       "<title>13&#45;&gt;15</title>\r\n",
       "<path fill=\"none\" stroke=\"black\" d=\"M825.83,-222.91C843.57,-210.77 862.97,-197.49 880.55,-185.46\"/>\r\n",
       "<polygon fill=\"black\" stroke=\"black\" points=\"882.75,-188.2 889.03,-179.67 878.8,-182.43 882.75,-188.2\"/>\r\n",
       "</g>\r\n",
       "</g>\r\n",
       "</svg>\r\n"
      ],
      "text/plain": [
       "<graphviz.files.Source at 0x19698a35748>"
      ]
     },
     "execution_count": 9,
     "metadata": {},
     "output_type": "execute_result"
    }
   ],
   "source": [
    "X = iris.data      # 꽃받침의 길이와 너비, 꽃잎의 길이와 너비\n",
    "y = iris.target\n",
    "\n",
    "tree_clf = DecisionTreeClassifier()\n",
    "tree_clf.fit(X, y)\n",
    "\n",
    "export_graphviz(tree_clf,                             # 모델\n",
    "                out_file=\"iris_tree2.dot\",            # 저장경로 파일설정\n",
    "                feature_names=iris.feature_names,     # 변수명\n",
    "                class_names=iris.feature_names,       # 종속변수\n",
    "                impurity=True,                        # 지니불순도(GINI IMPURITY)\n",
    "                filled=True) \n",
    "\n",
    "Source.from_file(\"iris_tree2.dot\")"
   ]
  },
  {
   "cell_type": "code",
   "execution_count": 10,
   "metadata": {},
   "outputs": [
    {
     "data": {
      "text/plain": [
       "RandomForestClassifier(n_estimators=5, random_state=2)"
      ]
     },
     "execution_count": 10,
     "metadata": {},
     "output_type": "execute_result"
    }
   ],
   "source": [
    "forest = RandomForestClassifier(n_estimators=5, random_state=2)  # 5개의 결정트리(n_estimators)\n",
    "forest.fit(X_train, y_train)"
   ]
  },
  {
   "cell_type": "raw",
   "metadata": {},
   "source": [
    "fig, axes = plt.subplots(2, 3, figsize=(20, 10))\n",
    "for i, (ax, tree) in enumerate(zip(axes.ravel(), forest.estimators_)):\n",
    "    ax.set_title(\"트리 {}\".format(i))\n",
    "    mglearn.plots.plot_tree_partition(X, y, tree, ax=ax)\n",
    "\n",
    "mglearn.plots.plot_2d_separator(forest, X, fill=True, ax=axes[-1, -1], alpha=.4)\n",
    "axes[-1, -1].set_title(\"랜덤 포레스트\")\n",
    "mglearn.discrete_scatter(X[:, 0], X[:, 1], y)"
   ]
  },
  {
   "cell_type": "code",
   "execution_count": 27,
   "metadata": {},
   "outputs": [
    {
     "data": {
      "image/png": "[encoded data removed]",
      "text/plain": [
       "<Figure size 576x432 with 1 Axes>"
      ]
     },
     "metadata": {
      "needs_background": "light"
     },
     "output_type": "display_data"
    }
   ],
   "source": [
    "import seaborn as sns\n",
    "importances_values = forest.feature_importances_\n",
    "# importances = pd.Series(importances_values, index=cancer.feature_names)\n",
    "index = iris.feature_names\n",
    "\n",
    "plt.figure(figsize=(8, 6))\n",
    "plt.title(\"랜덤 포레스트 특성 중요도\", fontsize=20)\n",
    "plt.yticks(fontsize=16)\n",
    "sns.barplot(x=importances_values, y=index)\n",
    "plt.show()"
   ]
  },
  {
   "cell_type": "code",
   "execution_count": null,
   "metadata": {},
   "outputs": [],
   "source": []
  }
 ],
 "metadata": {
  "kernelspec": {
   "display_name": "Python 3",
   "language": "python",
   "name": "python3"
  },
  "language_info": {
   "codemirror_mode": {
    "name": "ipython",
    "version": 3
   },
   "file_extension": ".py",
   "mimetype": "text/x-python",
   "name": "python",
   "nbconvert_exporter": "python",
   "pygments_lexer": "ipython3",
   "version": "3.7.3"
  }
 },
 "nbformat": 4,
 "nbformat_minor": 2
}
