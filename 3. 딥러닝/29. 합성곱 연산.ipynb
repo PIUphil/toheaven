{
 "cells": [
  {
   "cell_type": "code",
   "execution_count": 1,
   "metadata": {},
   "outputs": [],
   "source": [
    "import numpy as np\n",
    "w = np.array([2, 1, 5, 3])\n",
    "x = np.array([2, 8, 3, 7, 1, 2, 0, 4, 5])"
   ]
  },
  {
   "cell_type": "code",
   "execution_count": 2,
   "metadata": {},
   "outputs": [
    {
     "data": {
      "text/plain": [
       "array([3, 5, 1, 2])"
      ]
     },
     "execution_count": 2,
     "metadata": {},
     "output_type": "execute_result"
    }
   ],
   "source": [
    "w_r = np.flip(w)\n",
    "w_r"
   ]
  },
  {
   "cell_type": "code",
   "execution_count": 3,
   "metadata": {},
   "outputs": [
    {
     "data": {
      "text/plain": [
       "array([3, 5, 1, 2])"
      ]
     },
     "execution_count": 3,
     "metadata": {},
     "output_type": "execute_result"
    }
   ],
   "source": [
    "w_r = w[::-1]\n",
    "w_r"
   ]
  },
  {
   "cell_type": "markdown",
   "metadata": {},
   "source": [
    "합성곱 연산은 두 함수 f, g 가운데 하나의 함수를 반전(reverse), 전이(shift)시킨 다음,  \n",
    "다른 하나의 함수와 곱한 결과를 적분하는 것을 의미"
   ]
  },
  {
   "cell_type": "code",
   "execution_count": 6,
   "metadata": {},
   "outputs": [
    {
     "name": "stdout",
     "output_type": "stream",
     "text": [
      "63\n",
      "48\n",
      "49\n",
      "28\n",
      "21\n",
      "20\n"
     ]
    }
   ],
   "source": [
    "# 한 칸씩 이동하면서 합성곱을 수행하는 함수 : 점곱(dot)\n",
    "for i in range(6):\n",
    "    print(np.dot(x[i:i+4], w_r))"
   ]
  },
  {
   "cell_type": "code",
   "execution_count": 8,
   "metadata": {},
   "outputs": [
    {
     "data": {
      "text/plain": [
       "array([63, 48, 49, 28, 21, 20])"
      ]
     },
     "execution_count": 8,
     "metadata": {},
     "output_type": "execute_result"
    }
   ],
   "source": [
    "from scipy.signal import convolve  # convolution function 합성곱\n",
    "convolve(x, w, mode='valid')"
   ]
  },
  {
   "cell_type": "markdown",
   "metadata": {},
   "source": [
    "가중치=커널(Kernel)=필터(Filter) ...=뉴런"
   ]
  },
  {
   "cell_type": "markdown",
   "metadata": {},
   "source": [
    "![image](https://user-images.githubusercontent.com/58851945/119423385-20bfe100-bd3e-11eb-921f-9ffbc107d333.png)"
   ]
  },
  {
   "cell_type": "raw",
   "metadata": {},
   "source": [
    "2차원 그대로 유지\n",
    "크기가 줄어듦 -> 패딩(제로패딩)\n",
    "입력층과 동일한 크기의 출력층을 만듦\n",
    "\n",
    "4x4의 입력층에\n",
    "3x3의 커널을 곱해서\n",
    "2x2의 출력층이 만들어짐\n",
    "\n",
    "모서리는 한번만 이용되지만, 다른것들은 여러번 곱해짐\n",
    "가운데 있는 애들은 출력에 영향을 더 줌\n",
    "-> 손실\n",
    "-> 패딩으로 0으로 담자\n",
    "\n",
    "패딩목적1: 어떤 특성의 픽셀이 지나치게 혹은 부족하게 사용되어서\n",
    "패딩목적2: 입력계층의 크기와 출력계층의 크기를 같게 하기위해서"
   ]
  },
  {
   "cell_type": "markdown",
   "metadata": {},
   "source": [
    "padding='same'  : 입력층과 동일한 크기의 출력층을 만들어냄\n",
    "'valid'를 쓰면 크기가 줄어들음 (일반적인 합성곱)"
   ]
  },
  {
   "cell_type": "markdown",
   "metadata": {},
   "source": [
    "커널이 합성곱을 할 때\n",
    "한칸씩 말고 여러칸씩 이동 가능 -> 스트라이드(Stride)"
   ]
  },
  {
   "cell_type": "markdown",
   "metadata": {},
   "source": [
    "합성곱으로 특성맵이 만들어짐\n",
    "특성맵(2,2,3) = 특성맵 크기(가로,세로), 필터의 개수(=차원,채널)\n",
    "\n",
    "풀링 -> 크기를 줄임\n",
    "4개의 픽셀을 하나로 압축\n",
    "필터의 개수는 그대로 유지\n",
    "\n",
    "최대풀링(MaxPooling) : 가장 큰값을 담음. 일반적으로 많이 쓰임\n",
    "평균풀링 : 평균을 구해서 담음\n",
    "\n",
    "풀링은 가중치가 없음\n",
    "\n",
    "풀링은 겹치지 않게 이동함\n",
    "ex. (2,2)풀링 => 2칸씩 이동\n",
    "(3,3)풀링 => 3칸씩 이동\n",
    "\n",
    "(stride는 생략해도됨(풀링 크기 = 이동크기).\n",
    "padding='valid'-> 생략가능(크기가 줄어들기 때문에))\n",
    "\n",
    "\n",
    "MaxPooling2D(2)  <- 2x2풀링\n",
    "\n",
    "마지막엔 꼭 한개 이상의 밀집층이 있어야함\n",
    "밀집층 -> 전체를 연결시켜줌\n",
    "1차원으로 펼치고, 소프트맥스라는 활성화함수 사용\n",
    "\n",
    "예측 함"
   ]
  },
  {
   "cell_type": "code",
   "execution_count": null,
   "metadata": {},
   "outputs": [],
   "source": []
  },
  {
   "cell_type": "code",
   "execution_count": 22,
   "metadata": {},
   "outputs": [
    {
     "data": {
      "text/plain": [
       "(3, 4)"
      ]
     },
     "execution_count": 22,
     "metadata": {},
     "output_type": "execute_result"
    }
   ],
   "source": [
    "x = np.arange(12).reshape(3, 4)\n",
    "x.shape"
   ]
  },
  {
   "cell_type": "code",
   "execution_count": 18,
   "metadata": {},
   "outputs": [
    {
     "data": {
      "text/plain": [
       "array([[ 0,  1,  2,  3],\n",
       "       [ 4,  5,  6,  7],\n",
       "       [ 8,  9, 10, 11]])"
      ]
     },
     "execution_count": 18,
     "metadata": {},
     "output_type": "execute_result"
    }
   ],
   "source": [
    "x"
   ]
  },
  {
   "cell_type": "code",
   "execution_count": 24,
   "metadata": {},
   "outputs": [
    {
     "data": {
      "text/plain": [
       "array([[ 0],\n",
       "       [ 1],\n",
       "       [ 2],\n",
       "       [ 3],\n",
       "       [ 4],\n",
       "       [ 5],\n",
       "       [ 6],\n",
       "       [ 7],\n",
       "       [ 8],\n",
       "       [ 9],\n",
       "       [10],\n",
       "       [11]])"
      ]
     },
     "execution_count": 24,
     "metadata": {},
     "output_type": "execute_result"
    }
   ],
   "source": [
    "x.reshape(-1, 1)  # -1은 무시 -> 가변\n",
    "# 앞에껀 길이가 정해져있지않고, 뒤에꺼 먼저 1로 맞춰서 해라"
   ]
  },
  {
   "cell_type": "code",
   "execution_count": 27,
   "metadata": {},
   "outputs": [
    {
     "data": {
      "text/plain": [
       "array([[ 0,  1],\n",
       "       [ 2,  3],\n",
       "       [ 4,  5],\n",
       "       [ 6,  7],\n",
       "       [ 8,  9],\n",
       "       [10, 11]])"
      ]
     },
     "execution_count": 27,
     "metadata": {},
     "output_type": "execute_result"
    }
   ],
   "source": [
    "x.reshape(-1, 2)"
   ]
  },
  {
   "cell_type": "code",
   "execution_count": null,
   "metadata": {},
   "outputs": [],
   "source": []
  }
 ],
 "metadata": {
  "kernelspec": {
   "display_name": "Python 3",
   "language": "python",
   "name": "python3"
  },
  "language_info": {
   "codemirror_mode": {
    "name": "ipython",
    "version": 3
   },
   "file_extension": ".py",
   "mimetype": "text/x-python",
   "name": "python",
   "nbconvert_exporter": "python",
   "pygments_lexer": "ipython3",
   "version": "3.7.3"
  }
 },
 "nbformat": 4,
 "nbformat_minor": 2
}
